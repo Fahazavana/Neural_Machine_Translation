{
 "cells": [
  {
   "cell_type": "code",
   "execution_count": 13,
   "id": "a89bf9e4-311d-4af8-846b-ccfcb9e940b2",
   "metadata": {},
   "outputs": [],
   "source": [
    "from src.Normalizer import preprocess_data"
   ]
  },
  {
   "cell_type": "markdown",
   "id": "d85e72ac",
   "metadata": {},
   "source": [
    "# DATA PERPARATION"
   ]
  },
  {
   "cell_type": "code",
   "execution_count": 14,
   "id": "587e9745",
   "metadata": {},
   "outputs": [],
   "source": [
    "DATA_BASE = \"./data\"\n",
    "TRAIN_RAW = f\"{DATA_BASE}/train\"\n",
    "TRAIN_DATA = f\"{TRAIN_RAW}/norm\"\n",
    "\n",
    "VAL_RAW = f\"{DATA_BASE}/val\"\n",
    "VAL_DATA = f\"{VAL_RAW}/norm\"\n",
    "\n",
    "TRAIN_AFRIKAANS = [\n",
    "    \"data414_2021_a1.af.txt\",\n",
    "    \"data414_2021_a2.af.txt\",\n",
    "    \"data414_2020_a1.af.txt\",\n",
    "    \"ss414_2018_a1.af.txt\",\n",
    "    \"ss414_2018_a2.af.txt\",\n",
    "    \"ss414_2018_a3.af.txt\",\n",
    "    \"ss414_2019_a1.af.txt\",\n",
    "    \"ss414_2019_a2.af.txt\",\n",
    "    \"ss414_2019_a3.af.txt\",]\n",
    "\n",
    "TRAIN_ENGLISH = [\n",
    "    \"data414_2021_a1.en.txt\",\n",
    "    \"data414_2021_a2.en.txt\",\n",
    "    \"data414_2020_a1.en.txt\",\n",
    "    \"ss414_2018_a1.en.txt\",\n",
    "    \"ss414_2018_a2.en.txt\",\n",
    "    \"ss414_2018_a3.en.txt\",\n",
    "    \"ss414_2019_a1.en.txt\",\n",
    "    \"ss414_2019_a2.en.txt\",\n",
    "    \"ss414_2019_a3.en.txt\",]\n",
    "\n",
    "VAL_AFRIKAANS = [\n",
    "    \"compsys414_2017_a1.af.txt\",\n",
    "    \"compsys414_2017_a2.af.txt\",\n",
    "    \"compsys414_2017_a3.af.txt\",]\n",
    "\n",
    "VAL_ENGLISH = [\n",
    "    \"compsys414_2017_a1.en.txt\",\n",
    "    \"compsys414_2017_a2.en.txt\",\n",
    "    \"compsys414_2017_a3.en.txt\",]"
   ]
  },
  {
   "cell_type": "code",
   "execution_count": 15,
   "id": "fa220702",
   "metadata": {},
   "outputs": [
    {
     "name": "stdout",
     "output_type": "stream",
     "text": [
      "Done for afrikaans!\n",
      "Done for english!\n"
     ]
    }
   ],
   "source": [
    "# TRAIN_DATA\n",
    "preprocess_data(TRAIN_RAW, TRAIN_DATA, TRAIN_AFRIKAANS, \"afrikaans\")\n",
    "preprocess_data(TRAIN_RAW, TRAIN_DATA, TRAIN_ENGLISH, \"english\")"
   ]
  },
  {
   "cell_type": "code",
   "execution_count": 16,
   "id": "8c937e6c",
   "metadata": {},
   "outputs": [
    {
     "name": "stdout",
     "output_type": "stream",
     "text": [
      "Done for afrikaans!\n",
      "Done for english!\n"
     ]
    }
   ],
   "source": [
    "# VAL_DATA\n",
    "preprocess_data(VAL_RAW, VAL_DATA, VAL_AFRIKAANS, \"afrikaans\")\n",
    "preprocess_data(VAL_RAW, VAL_DATA, VAL_ENGLISH, \"english\")"
   ]
  },
  {
   "cell_type": "code",
   "execution_count": 17,
   "id": "606cfb48",
   "metadata": {},
   "outputs": [
    {
     "ename": "SyntaxError",
     "evalue": "expected ':' (4138091129.py, line 1)",
     "output_type": "error",
     "traceback": [
      "\u001b[0;36m  Cell \u001b[0;32mIn[17], line 1\u001b[0;36m\u001b[0m\n\u001b[0;31m    def build_vocab(files)\u001b[0m\n\u001b[0m                          ^\u001b[0m\n\u001b[0;31mSyntaxError\u001b[0m\u001b[0;31m:\u001b[0m expected ':'\n"
     ]
    }
   ],
   "source": [
    "V = {\n",
    "\t\t\"<pad>\": 0,\n",
    "\t\t\"<sos>\": 1,\n",
    "\t\t\"<eos>\": 2,\n",
    "\t\t\"<unk>\": 3,\n",
    "\t\t\"<num>\": 4,\n",
    "\t\t\"<com>\": 5,\n",
    "\t\t\"<prc>\": 6,\n",
    "\t\t\"<opn>\": 7,\n",
    "\t\t\"<cld>\": 8,\n",
    "\t\t\"<apo>\": 9,\n",
    "\t\t\"<ltx>\": 10,\n",
    "\t}"
   ]
  }
 ],
 "metadata": {
  "kernelspec": {
   "display_name": "Python 3 (ipykernel)",
   "language": "python",
   "name": "python3"
  },
  "language_info": {
   "codemirror_mode": {
    "name": "ipython",
    "version": 3
   },
   "file_extension": ".py",
   "mimetype": "text/x-python",
   "name": "python",
   "nbconvert_exporter": "python",
   "pygments_lexer": "ipython3",
   "version": "3.10.14"
  }
 },
 "nbformat": 4,
 "nbformat_minor": 5
}
