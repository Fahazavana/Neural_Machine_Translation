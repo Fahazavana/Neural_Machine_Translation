{
 "cells": [
  {
   "cell_type": "code",
   "execution_count": 1,
   "id": "a89bf9e4-311d-4af8-846b-ccfcb9e940b2",
   "metadata": {},
   "outputs": [],
   "source": [
    "from src.Normalizer import preprocess_data"
   ]
  },
  {
   "cell_type": "markdown",
   "id": "d85e72ac",
   "metadata": {},
   "source": [
    "# DATA PERPARATION"
   ]
  },
  {
   "cell_type": "code",
   "execution_count": 2,
   "id": "587e9745",
   "metadata": {},
   "outputs": [],
   "source": [
    "DATA_BASE = \"./data\"\n",
    "TRAIN_RAW = f\"{DATA_BASE}/train\"\n",
    "TRAIN_DATA = f\"{TRAIN_RAW}/norm\"\n",
    "\n",
    "VAL_RAW = f\"{DATA_BASE}/val\"\n",
    "VAL_DATA = f\"{VAL_RAW}/norm\"\n",
    "\n",
    "TRAIN_AFRIKAANS = [\n",
    "\t\"data414_2021_a1.af.txt\",\n",
    "\t\"data414_2021_a2.af.txt\",\n",
    "\t\"data414_2020_a1.af.txt\",\n",
    "\t\"ss414_2018_a1.af.txt\",\n",
    "\t\"ss414_2018_a2.af.txt\",\n",
    "\t\"ss414_2018_a3.af.txt\",\n",
    "\t\"ss414_2019_a1.af.txt\",\n",
    "\t\"ss414_2019_a2.af.txt\",\n",
    "\t\"ss414_2019_a3.af.txt\",]\n",
    "\n",
    "TRAIN_ENGLISH = [\n",
    "\t\"data414_2021_a1.en.txt\",\n",
    "\t\"data414_2021_a2.en.txt\",\n",
    "\t\"data414_2020_a1.en.txt\",\n",
    "\t\"ss414_2018_a1.en.txt\",\n",
    "\t\"ss414_2018_a2.en.txt\",\n",
    "\t\"ss414_2018_a3.en.txt\",\n",
    "\t\"ss414_2019_a1.en.txt\",\n",
    "\t\"ss414_2019_a2.en.txt\",\n",
    "\t\"ss414_2019_a3.en.txt\",]\n",
    "\n",
    "VAL_AFRIKAANS = [\n",
    "\t\"compsys414_2017_a1.af.txt\",\n",
    "\t\"compsys414_2017_a2.af.txt\",\n",
    "\t\"compsys414_2017_a3.af.txt\",]\n",
    "\n",
    "VAL_ENGLISH = [\n",
    "\t\"compsys414_2017_a1.en.txt\",\n",
    "\t\"compsys414_2017_a2.en.txt\",\n",
    "\t\"compsys414_2017_a3.en.txt\",]"
   ]
  },
  {
   "cell_type": "code",
   "execution_count": 3,
   "id": "fa220702",
   "metadata": {},
   "outputs": [
    {
     "name": "stdout",
     "output_type": "stream",
     "text": [
      "Done for afrikaans!\n",
      "Done for english!\n"
     ]
    }
   ],
   "source": [
    "# TRAIN_DATA\n",
    "preprocess_data(TRAIN_RAW, TRAIN_DATA, TRAIN_AFRIKAANS, \"afrikaans\")\n",
    "preprocess_data(TRAIN_RAW, TRAIN_DATA, TRAIN_ENGLISH, \"english\")"
   ]
  },
  {
   "cell_type": "code",
   "execution_count": 4,
   "id": "8c937e6c",
   "metadata": {},
   "outputs": [],
   "source": [
    "# # VAL_DATA\n",
    "# preprocess_data(VAL_RAW, VAL_DATA, VAL_AFRIKAANS, \"afrikaans\")\n",
    "# preprocess_data(VAL_RAW, VAL_DATA, VAL_ENGLISH, \"english\")"
   ]
  },
  {
   "cell_type": "markdown",
   "id": "dff3aca5",
   "metadata": {},
   "source": [
    "## Corpus"
   ]
  },
  {
   "cell_type": "code",
   "execution_count": 5,
   "id": "46481871",
   "metadata": {},
   "outputs": [],
   "source": [
    "class Corpus:\n",
    "\tdef __init__(self, file_name: str, lang:str):\n",
    "\t\tself.file_name = file_name\n",
    "\t\tself.lang = lang\n",
    "\t\tself.vocab_size = 11\n",
    "\t\tself.data = []\n",
    "\t\tself.stoi: Dict[str, int] = {\n",
    "\t\t\t\"<pad>\": 0,\n",
    "\t\t\t\"<sos>\": 1,\n",
    "\t\t\t\"<eos>\": 2,\n",
    "\t\t\t\"<unk>\": 3,\n",
    "\t\t\t\"<num>\": 4,\n",
    "\t\t\t\"<com>\": 5,\n",
    "\t\t\t\"<prc>\": 6,\n",
    "\t\t\t\"<opn>\": 7,\n",
    "\t\t\t\"<cld>\": 8,\n",
    "\t\t\t\"<apo>\": 9,\n",
    "\t\t\t\"<ltx>\": 10,\n",
    "\t\t}\n",
    "\t\tself.itos: Dict[int, str] = {\n",
    "\t\t\t0: \"<pad>\",\n",
    "\t\t\t1: \"<sos>\",\n",
    "\t\t\t2: \"<eos>\",\n",
    "\t\t\t3: \"<unk>\",\n",
    "\t\t\t4: \"<num>\",\n",
    "\t\t\t5: \"<com>\",\n",
    "\t\t\t6: \"<prc>\",\n",
    "\t\t\t7: \"<opn>\",\n",
    "\t\t\t8: \"<cld>\",\n",
    "\t\t\t9: \"<apo>\",\n",
    "\t\t\t10: \"<ltx>\",\n",
    "\t\t}\n",
    "\t\tself.__init_data()\n",
    "\t\tself.__encode()\n",
    "\n",
    "\tdef __init_data(self):\n",
    "\t\twith open(self.file_name, \"r\") as file:\n",
    "\t\t\tfor line in file:\n",
    "\t\t\t\tline = line.strip().split()\n",
    "\t\t\t\tself.data.append(line)\n",
    "\t\t\t\tfor word in line:\n",
    "\t\t\t\t\tif not self.stoi.get(word):\n",
    "\t\t\t\t\t\tself.vocab_size += 1\n",
    "\t\t\t\t\t\tself.stoi[word] = self.vocab_size - 1\n",
    "\t\t\t\t\t\tself.itos[self.vocab_size-1] = word\n",
    "\tdef __encode(self):\n",
    "\t\t_data = [[self.stoi[word] for word in sentence] for sentence in self.data]\n",
    "\t\tself.data = _data\n",
    "\t\t\n",
    "\tdef decode(self, data):\n",
    "\t\t_data = [[self.stoi[word] for word in sentence] for sentence in data]\n",
    "\t\treturn _data"
   ]
  },
  {
   "cell_type": "markdown",
   "id": "93a26988",
   "metadata": {},
   "source": [
    "## Torch data"
   ]
  },
  {
   "cell_type": "code",
   "execution_count": 6,
   "id": "e3aad3db",
   "metadata": {},
   "outputs": [],
   "source": [
    "import torch\n",
    "from torch.utils.data import Dataset, DataLoader\n",
    "from torch.nn.utils.rnn import pad_sequence"
   ]
  },
  {
   "cell_type": "code",
   "execution_count": 7,
   "id": "bea08ed3",
   "metadata": {},
   "outputs": [],
   "source": [
    "class LangData(Dataset):\n",
    "\tdef __init__(self, source, target):\n",
    "\t\tif len(source.data) != len(target.data):\n",
    "\t\t\traise RuntimeError(\"Source and target must have the same lenght\")\n",
    "\t\tself.source = source.data\n",
    "\t\tself.target = target.data\n",
    "\tdef __getitem__(self, idx):\n",
    "\t\tx = torch.tensor(self.source[idx], dtype=torch.long)\n",
    "\t\ty = torch.tensor(self.target[idx], dtype=torch.long)\n",
    "\t\treturn x, y\n",
    "\tdef __len__(self):\n",
    "\t\treturn len(self.source)\n",
    "\n",
    "def collate_fn(batch):\n",
    "\t\"\"\"\n",
    "\t Pad shorter sequence with 0 (<pad>) to match the longest sequence\n",
    "\t to obtain a uniform bacht size.\n",
    "\t\"\"\"\n",
    "\tsource, target = zip(*batch)\n",
    "\t# Pad sequences\n",
    "\tsource = pad_sequence(source, batch_first=False, padding_value=0)\n",
    "\ttarget = pad_sequence(target, batch_first=False, padding_value=0)\n",
    "\treturn source, target\n",
    "\n",
    "\n",
    "def dataLoader(dataset, batch_size):\n",
    "\treturn DataLoader(dataset, batch_size=batch_size, collate_fn=collate_fn, shuffle=True)"
   ]
  },
  {
   "cell_type": "markdown",
   "id": "3d7213a5",
   "metadata": {},
   "source": [
    "## NMT: AFRIKAANS -> ENGLISH"
   ]
  },
  {
   "cell_type": "code",
   "execution_count": 8,
   "id": "10db208d",
   "metadata": {},
   "outputs": [
    {
     "name": "stdout",
     "output_type": "stream",
     "text": [
      "cuda\n"
     ]
    }
   ],
   "source": [
    "import torch\n",
    "from torch import nn\n",
    "from torch import optim\n",
    "from tqdm import tqdm\n",
    "import random\n",
    "from torch.utils.tensorboard import SummaryWriter\n",
    "\n",
    "if torch.cuda.is_available:\n",
    "\tdevice = \"cuda\"\n",
    "elif torch.backends.mps.is_available:\n",
    "\tdevice = \"mps\"  # OSX\n",
    "else:\n",
    "\tdevice = \"cpu\"\n",
    "print(device)"
   ]
  },
  {
   "cell_type": "code",
   "execution_count": 9,
   "id": "c5dc571d",
   "metadata": {},
   "outputs": [],
   "source": [
    "class Encoder(nn.Module):\n",
    "\tdef __init__(self, input_size, embd_size, hidden_size, num_layers) -> None:\n",
    "\t\tsuper(Encoder, self).__init__()\n",
    "\t\tself.hidden_size = hidden_size\n",
    "\t\tself.num_layers = num_layers\n",
    "\n",
    "\t\tself.embedding = nn.Embedding(input_size, embd_size)\n",
    "\t\tself.rnn = nn.LSTM(input_size=embd_size, hidden_size=hidden_size,\n",
    "\t\t\t\t\t\t   num_layers=num_layers)\n",
    "\n",
    "\tdef forward(self, x):\n",
    "\t\t# x: L x B\n",
    "\t\te = self.embedding(x)\n",
    "\t\t# e: L x B x E\n",
    "\t\t_, (hidden, cell) = self.rnn(e)\n",
    "\t\treturn hidden, cell\n",
    "\n",
    "\n",
    "class Decoder(nn.Module):\n",
    "\tdef __init__(self, input_size, embd_size, hidden_size, output_size, num_layers) -> None:\n",
    "\t\tsuper(Decoder, self).__init__()\n",
    "\t\tself.hidden_size = hidden_size\n",
    "\t\tself.num_layers = num_layers\n",
    "\t\tself.embedding = nn.Embedding(input_size, embd_size)\n",
    "\t\tself.rnn = nn.LSTM(embd_size, hidden_size,\n",
    "\t\t\t\t\t\t   num_layers)\n",
    "\t\tself.fc = nn.Linear(hidden_size, output_size)\n",
    "\n",
    "\tdef forward(self, x, hidden, cell):\n",
    "\t\t# x: B -> 1 x B\n",
    "\t\te = self.embedding(x.unsqueeze(0))\n",
    "\t\t# e: 1 x B x E\n",
    "\t\tout, (hidden, cell) = self.rnn(e, (hidden, cell))\n",
    "\t\t# out: 1 x B x H\n",
    "\t\tpred = self.fc(out)\n",
    "\t\t# pred: 1 x B x V -> B x V_out\n",
    "\t\treturn pred.squeeze(0), hidden, cell\n",
    "\n",
    "\n",
    "class NMT(nn.Module):\n",
    "\tdef __init__(self, encoder, decoder, target_vocab_size):\n",
    "\t\tsuper(NMT, self).__init__()\n",
    "\t\tself.encoder = encoder\n",
    "\t\tself.decoder = decoder\n",
    "\t\tself.target_size = target_vocab_size\n",
    "\n",
    "\tdef forward(self, source, target, tch_force=0.9):\n",
    "\t\tbatch_size = source.size(1)\n",
    "\t\ttarget_len = target.size(0)\n",
    "\t\thidden, cell = self.encoder(source)\n",
    "\t\toutputs = torch.zeros(batch_size, target_len,\n",
    "\t\t\t\t\t\t\t  self.target_size).to(device)\n",
    "\n",
    "\t\tx = target[0]\n",
    "\t\tfor t in range(1, target_len):\n",
    "\t\t\toutput, hidden, cell = self.decoder(x, hidden, cell)\n",
    "\t\t\toutputs[:,t, :] = output\n",
    "\t\t\tyhat = output.argmax(1).detach()\n",
    "\t\t\tx = target[t] if random.random() < tch_force else yhat\n",
    "\t\treturn outputs\n",
    "\t\n",
    "\tdef translate(self, source):\n",
    "\t\tbatch_size = source.size(1)\n",
    "\t\ttarget_len = source.size(0) + 2\n",
    "\t\twith torch.no_grad():\n",
    "\t\t\thidden, cell = self.encoder(source)\n",
    "\t\t\toutputs = torch.zeros(batch_size, target_len).to(device)\n",
    "\t\t\tx = source[0,0].unsqueeze(0)\n",
    "\t\t\tfor t in range(1, target_len):\n",
    "\t\t\t\toutput, hidden, cell = self.decoder(x, hidden, cell)\n",
    "\t\t\t\tx = torch.softmax(output, 1).argmax(1)\n",
    "\t\t\t\toutputs[:,t] = x\n",
    "\t\t\t\t# print(english.itos[x.item()])\n",
    "\t\treturn outputs\n",
    "\n",
    "def translate(model, text, source, target, device):\n",
    "\ttext = [source.stoi[word] for word in text.strip().split()]\n",
    "\ttext = torch.tensor(text, dtype=torch.long).unsqueeze(1)\n",
    "\ttext = text.to(device)\n",
    "\tout = model.translate(text).squeeze()\n",
    "\tout = out.cpu().numpy()\n",
    "\tout = [target.itos[idx] for idx in out]\n",
    "\treturn \" \".join(out)"
   ]
  },
  {
   "cell_type": "code",
   "execution_count": 10,
   "id": "083f4d8c",
   "metadata": {},
   "outputs": [],
   "source": [
    "# Hyper-params\n",
    "afrikaans = Corpus(f\"{TRAIN_DATA}/afrikaans.txt\", \"Afrikaans\")\n",
    "english = Corpus(f\"{TRAIN_DATA}/english.txt\", \"English\")\n",
    "IN_ENCODER = afrikaans.vocab_size\n",
    "IN_DECODER = english.vocab_size\n",
    "OUT_DECODER = english.vocab_size\n",
    "\n",
    "ENCODER_EMB = 128\n",
    "DECODER_EMB = 128\n",
    "\n",
    "HIDDEN_SIZE = 512\n",
    "NUM_LAYERS = 2\n",
    "\n",
    "ENCODER_DRP = 0.5\n",
    "DECODER_DRP = 0.5"
   ]
  },
  {
   "cell_type": "code",
   "execution_count": 11,
   "id": "f04f2d2f",
   "metadata": {},
   "outputs": [],
   "source": [
    "encoder_net = Encoder(IN_ENCODER, ENCODER_EMB, HIDDEN_SIZE,\n",
    "\t\t\t\t\t  NUM_LAYERS).to(device)\n",
    "decoder_net = Decoder(IN_DECODER, DECODER_EMB, HIDDEN_SIZE, OUT_DECODER,\n",
    "\t\t\t\t\t  NUM_LAYERS).to(device)\n",
    "nmt = NMT(encoder_net, decoder_net, OUT_DECODER)"
   ]
  },
  {
   "cell_type": "code",
   "execution_count": 12,
   "id": "ee757771",
   "metadata": {},
   "outputs": [],
   "source": [
    "EPOCHS = 100\n",
    "LR = 1e-3\n",
    "BATCH_SIZE = 32\n",
    "\n",
    "train_data = LangData(afrikaans, english)\n",
    "train_loader = dataLoader(train_data, BATCH_SIZE)\n",
    "\n",
    "pad_idx = english.stoi['<pad>']\n",
    "criterion = nn.CrossEntropyLoss(ignore_index=pad_idx)\n",
    "optimizer = optim.NAdam(nmt.parameters(), LR)"
   ]
  },
  {
   "cell_type": "code",
   "execution_count": 17,
   "id": "b7bed9c1",
   "metadata": {},
   "outputs": [],
   "source": [
    "step = 0\n",
    "writer = SummaryWriter(f\"runs/loss_plot\", comment=\"Loss\")\n",
    "N = len(train_data)\n",
    "text = \"<sos> die klassifiseerder maak <num> korrekte positiewe voorspellings <eos>\"\n",
    "grdt = \"<sos> the classifier makes <num> correct positive predictions <eos>\""
   ]
  },
  {
   "cell_type": "code",
   "execution_count": 19,
   "id": "c3706000",
   "metadata": {},
   "outputs": [
    {
     "name": "stdout",
     "output_type": "stream",
     "text": [
      "<pad> the multidimensional rbf is defined as <eos> <eos> <eos> we\n",
      "\n"
     ]
    },
    {
     "name": "stderr",
     "output_type": "stream",
     "text": [
      "Epoch 1/100:   0%|          | 0/15 [00:00<?, ?batch/s]"
     ]
    },
    {
     "name": "stderr",
     "output_type": "stream",
     "text": [
      "Epoch 1/100: 100%|██████████| 15/15 [00:09<00:00,  1.65batch/s, loss=0.586]\n"
     ]
    },
    {
     "name": "stdout",
     "output_type": "stream",
     "text": [
      "Pred : <pad> the multidimensional rbf is defined as <eos> <eos> <eos> we\n",
      "Grdt : <sos> the classifier makes <num> correct positive predictions <eos>\n",
      "\n"
     ]
    },
    {
     "name": "stderr",
     "output_type": "stream",
     "text": [
      "Epoch 2/100: 100%|██████████| 15/15 [00:09<00:00,  1.67batch/s, loss=0.587]\n"
     ]
    },
    {
     "name": "stdout",
     "output_type": "stream",
     "text": [
      "Pred : <pad> the multidimensional rbf is defined as <eos> <eos> <eos> we\n",
      "Grdt : <sos> the classifier makes <num> correct positive predictions <eos>\n",
      "\n"
     ]
    },
    {
     "name": "stderr",
     "output_type": "stream",
     "text": [
      "Epoch 3/100: 100%|██████████| 15/15 [00:09<00:00,  1.63batch/s, loss=0.589]\n"
     ]
    },
    {
     "name": "stdout",
     "output_type": "stream",
     "text": [
      "Pred : <pad> the weighting on each branch is unity except when a\n",
      "Grdt : <sos> the classifier makes <num> correct positive predictions <eos>\n",
      "\n"
     ]
    },
    {
     "name": "stderr",
     "output_type": "stream",
     "text": [
      "Epoch 4/100: 100%|██████████| 15/15 [00:08<00:00,  1.69batch/s, loss=0.576]\n"
     ]
    },
    {
     "name": "stdout",
     "output_type": "stream",
     "text": [
      "Pred : <pad> the table below provides a training data set containing six\n",
      "Grdt : <sos> the classifier makes <num> correct positive predictions <eos>\n",
      "\n"
     ]
    },
    {
     "name": "stderr",
     "output_type": "stream",
     "text": [
      "Epoch 5/100: 100%|██████████| 15/15 [00:09<00:00,  1.59batch/s, loss=0.622]\n"
     ]
    },
    {
     "name": "stdout",
     "output_type": "stream",
     "text": [
      "Pred : <pad> the multidimensional rbf is defined as <eos> <eos> <eos> we\n",
      "Grdt : <sos> the classifier makes <num> correct positive predictions <eos>\n",
      "\n"
     ]
    },
    {
     "name": "stderr",
     "output_type": "stream",
     "text": [
      "Epoch 6/100: 100%|██████████| 15/15 [00:09<00:00,  1.61batch/s, loss=0.605]\n"
     ]
    },
    {
     "name": "stdout",
     "output_type": "stream",
     "text": [
      "Pred : <pad> the weighting on each branch is unity except when a\n",
      "Grdt : <sos> the classifier makes <num> correct positive predictions <eos>\n",
      "\n"
     ]
    },
    {
     "name": "stderr",
     "output_type": "stream",
     "text": [
      "Epoch 7/100: 100%|██████████| 15/15 [00:08<00:00,  1.74batch/s, loss=0.564]\n"
     ]
    },
    {
     "name": "stdout",
     "output_type": "stream",
     "text": [
      "Pred : <pad> the multidimensional rbf is defined as <eos> <eos> <eos> we\n",
      "Grdt : <sos> the classifier makes <num> correct positive predictions <eos>\n",
      "\n"
     ]
    },
    {
     "name": "stderr",
     "output_type": "stream",
     "text": [
      "Epoch 8/100: 100%|██████████| 15/15 [00:08<00:00,  1.67batch/s, loss=0.589]\n"
     ]
    },
    {
     "name": "stdout",
     "output_type": "stream",
     "text": [
      "Pred : <pad> the multidimensional rbf is defined as <eos> <eos> <eos> we\n",
      "Grdt : <sos> the classifier makes <num> correct positive predictions <eos>\n",
      "\n"
     ]
    },
    {
     "name": "stderr",
     "output_type": "stream",
     "text": [
      "Epoch 9/100: 100%|██████████| 15/15 [00:09<00:00,  1.61batch/s, loss=0.617]\n"
     ]
    },
    {
     "name": "stdout",
     "output_type": "stream",
     "text": [
      "Pred : <pad> the multidimensional rbf is defined as <eos> <eos> <eos> we\n",
      "Grdt : <sos> the classifier makes <num> correct positive predictions <eos>\n",
      "\n"
     ]
    },
    {
     "name": "stderr",
     "output_type": "stream",
     "text": [
      "Epoch 10/100: 100%|██████████| 15/15 [00:08<00:00,  1.79batch/s, loss=0.541]\n"
     ]
    },
    {
     "name": "stdout",
     "output_type": "stream",
     "text": [
      "Pred : <pad> the multidimensional rbf is defined as <eos> <eos> <eos> we\n",
      "Grdt : <sos> the classifier makes <num> correct positive predictions <eos>\n",
      "\n"
     ]
    },
    {
     "name": "stderr",
     "output_type": "stream",
     "text": [
      "Epoch 11/100: 100%|██████████| 15/15 [00:09<00:00,  1.62batch/s, loss=0.601]\n"
     ]
    },
    {
     "name": "stdout",
     "output_type": "stream",
     "text": [
      "Pred : <pad> the multidimensional rbf is defined as <eos> <eos> <eos> we\n",
      "Grdt : <sos> the classifier makes <num> correct positive predictions <eos>\n",
      "\n"
     ]
    },
    {
     "name": "stderr",
     "output_type": "stream",
     "text": [
      "Epoch 12/100: 100%|██████████| 15/15 [00:09<00:00,  1.63batch/s, loss=0.601]\n"
     ]
    },
    {
     "name": "stdout",
     "output_type": "stream",
     "text": [
      "Pred : <pad> the multidimensional rbf is defined as <eos> <eos> <eos> we\n",
      "Grdt : <sos> the classifier makes <num> correct positive predictions <eos>\n",
      "\n"
     ]
    },
    {
     "name": "stderr",
     "output_type": "stream",
     "text": [
      "Epoch 13/100: 100%|██████████| 15/15 [00:09<00:00,  1.65batch/s, loss=0.603]\n"
     ]
    },
    {
     "name": "stdout",
     "output_type": "stream",
     "text": [
      "Pred : <pad> the multidimensional rbf is defined as <eos> <eos> <eos> we\n",
      "Grdt : <sos> the classifier makes <num> correct positive predictions <eos>\n",
      "\n"
     ]
    },
    {
     "name": "stderr",
     "output_type": "stream",
     "text": [
      "Epoch 14/100: 100%|██████████| 15/15 [00:08<00:00,  1.68batch/s, loss=0.586]\n"
     ]
    },
    {
     "name": "stdout",
     "output_type": "stream",
     "text": [
      "Pred : <pad> the multidimensional rbf is defined as <eos> <eos> <eos> we\n",
      "Grdt : <sos> the classifier makes <num> correct positive predictions <eos>\n",
      "\n"
     ]
    },
    {
     "name": "stderr",
     "output_type": "stream",
     "text": [
      "Epoch 15/100: 100%|██████████| 15/15 [00:09<00:00,  1.64batch/s, loss=0.589]\n"
     ]
    },
    {
     "name": "stdout",
     "output_type": "stream",
     "text": [
      "Pred : <pad> the multidimensional rbf is defined as <eos> <eos> <eos> we\n",
      "Grdt : <sos> the classifier makes <num> correct positive predictions <eos>\n",
      "\n"
     ]
    },
    {
     "name": "stderr",
     "output_type": "stream",
     "text": [
      "Epoch 16/100: 100%|██████████| 15/15 [00:09<00:00,  1.60batch/s, loss=0.605]\n"
     ]
    },
    {
     "name": "stdout",
     "output_type": "stream",
     "text": [
      "Pred : <pad> the multidimensional rbf is defined as <eos> <eos> <eos> we\n",
      "Grdt : <sos> the classifier makes <num> correct positive predictions <eos>\n",
      "\n"
     ]
    },
    {
     "name": "stderr",
     "output_type": "stream",
     "text": [
      "Epoch 17/100: 100%|██████████| 15/15 [00:09<00:00,  1.65batch/s, loss=0.584]\n"
     ]
    },
    {
     "name": "stdout",
     "output_type": "stream",
     "text": [
      "Pred : <pad> the multidimensional rbf is defined as <eos> <eos> <eos> we\n",
      "Grdt : <sos> the classifier makes <num> correct positive predictions <eos>\n",
      "\n"
     ]
    },
    {
     "name": "stderr",
     "output_type": "stream",
     "text": [
      "Epoch 18/100: 100%|██████████| 15/15 [00:08<00:00,  1.67batch/s, loss=0.591]\n"
     ]
    },
    {
     "name": "stdout",
     "output_type": "stream",
     "text": [
      "Pred : <pad> the multidimensional rbf is defined as <eos> <eos> <eos> we\n",
      "Grdt : <sos> the classifier makes <num> correct positive predictions <eos>\n",
      "\n"
     ]
    },
    {
     "name": "stderr",
     "output_type": "stream",
     "text": [
      "Epoch 19/100: 100%|██████████| 15/15 [00:09<00:00,  1.62batch/s, loss=0.601]\n"
     ]
    },
    {
     "name": "stdout",
     "output_type": "stream",
     "text": [
      "Pred : <pad> the multidimensional rbf is defined as <eos> <eos> <eos> we\n",
      "Grdt : <sos> the classifier makes <num> correct positive predictions <eos>\n",
      "\n"
     ]
    },
    {
     "name": "stderr",
     "output_type": "stream",
     "text": [
      "Epoch 20/100: 100%|██████████| 15/15 [00:08<00:00,  1.69batch/s, loss=0.566]\n"
     ]
    },
    {
     "name": "stdout",
     "output_type": "stream",
     "text": [
      "Pred : <pad> the multidimensional rbf is defined as <eos> <eos> <eos> we\n",
      "Grdt : <sos> the classifier makes <num> correct positive predictions <eos>\n",
      "\n"
     ]
    },
    {
     "name": "stderr",
     "output_type": "stream",
     "text": [
      "Epoch 21/100: 100%|██████████| 15/15 [00:09<00:00,  1.60batch/s, loss=0.614]\n"
     ]
    },
    {
     "name": "stdout",
     "output_type": "stream",
     "text": [
      "Pred : <pad> the multidimensional rbf is defined as <eos> <eos> <eos> we\n",
      "Grdt : <sos> the classifier makes <num> correct positive predictions <eos>\n",
      "\n"
     ]
    },
    {
     "name": "stderr",
     "output_type": "stream",
     "text": [
      "Epoch 22/100: 100%|██████████| 15/15 [00:08<00:00,  1.67batch/s, loss=0.577]\n"
     ]
    },
    {
     "name": "stdout",
     "output_type": "stream",
     "text": [
      "Pred : <pad> the multidimensional rbf is defined as <eos> <eos> <eos> we\n",
      "Grdt : <sos> the classifier makes <num> correct positive predictions <eos>\n",
      "\n"
     ]
    },
    {
     "name": "stderr",
     "output_type": "stream",
     "text": [
      "Epoch 23/100: 100%|██████████| 15/15 [00:09<00:00,  1.63batch/s, loss=0.595]\n"
     ]
    },
    {
     "name": "stdout",
     "output_type": "stream",
     "text": [
      "Pred : <pad> the multidimensional rbf is defined as <eos> <eos> <eos> we\n",
      "Grdt : <sos> the classifier makes <num> correct positive predictions <eos>\n",
      "\n"
     ]
    },
    {
     "name": "stderr",
     "output_type": "stream",
     "text": [
      "Epoch 24/100: 100%|██████████| 15/15 [00:09<00:00,  1.62batch/s, loss=0.598]\n"
     ]
    },
    {
     "name": "stdout",
     "output_type": "stream",
     "text": [
      "Pred : <pad> the multidimensional rbf is defined as <eos> <eos> <eos> we\n",
      "Grdt : <sos> the classifier makes <num> correct positive predictions <eos>\n",
      "\n"
     ]
    },
    {
     "name": "stderr",
     "output_type": "stream",
     "text": [
      "Epoch 25/100: 100%|██████████| 15/15 [00:09<00:00,  1.62batch/s, loss=0.589]\n"
     ]
    },
    {
     "name": "stdout",
     "output_type": "stream",
     "text": [
      "Pred : <pad> the multidimensional rbf is defined as <eos> <eos> <eos> we\n",
      "Grdt : <sos> the classifier makes <num> correct positive predictions <eos>\n",
      "\n"
     ]
    },
    {
     "name": "stderr",
     "output_type": "stream",
     "text": [
      "Epoch 26/100: 100%|██████████| 15/15 [00:09<00:00,  1.60batch/s, loss=0.605]\n"
     ]
    },
    {
     "name": "stdout",
     "output_type": "stream",
     "text": [
      "Pred : <pad> the multidimensional rbf is defined as <eos> <eos> <eos> we\n",
      "Grdt : <sos> the classifier makes <num> correct positive predictions <eos>\n",
      "\n"
     ]
    },
    {
     "name": "stderr",
     "output_type": "stream",
     "text": [
      "Epoch 27/100: 100%|██████████| 15/15 [00:08<00:00,  1.68batch/s, loss=0.572]\n"
     ]
    },
    {
     "name": "stdout",
     "output_type": "stream",
     "text": [
      "Pred : <pad> the multidimensional rbf is defined as <eos> <eos> <eos> we\n",
      "Grdt : <sos> the classifier makes <num> correct positive predictions <eos>\n",
      "\n"
     ]
    },
    {
     "name": "stderr",
     "output_type": "stream",
     "text": [
      "Epoch 28/100: 100%|██████████| 15/15 [00:09<00:00,  1.57batch/s, loss=0.618]\n"
     ]
    },
    {
     "name": "stdout",
     "output_type": "stream",
     "text": [
      "Pred : <pad> the multidimensional rbf is defined as <eos> <eos> <eos> we\n",
      "Grdt : <sos> the classifier makes <num> correct positive predictions <eos>\n",
      "\n"
     ]
    },
    {
     "name": "stderr",
     "output_type": "stream",
     "text": [
      "Epoch 29/100: 100%|██████████| 15/15 [00:08<00:00,  1.68batch/s, loss=0.572]\n"
     ]
    },
    {
     "name": "stdout",
     "output_type": "stream",
     "text": [
      "Pred : <pad> the multidimensional rbf is defined as <eos> <eos> <eos> we\n",
      "Grdt : <sos> the classifier makes <num> correct positive predictions <eos>\n",
      "\n"
     ]
    },
    {
     "name": "stderr",
     "output_type": "stream",
     "text": [
      "Epoch 30/100: 100%|██████████| 15/15 [00:09<00:00,  1.64batch/s, loss=0.594]\n"
     ]
    },
    {
     "name": "stdout",
     "output_type": "stream",
     "text": [
      "Pred : <pad> the classifier makes <num> correct positive predictions and <num> <com>\n",
      "Grdt : <sos> the classifier makes <num> correct positive predictions <eos>\n",
      "\n"
     ]
    },
    {
     "name": "stderr",
     "output_type": "stream",
     "text": [
      "Epoch 31/100: 100%|██████████| 15/15 [00:09<00:00,  1.66batch/s, loss=0.592]\n"
     ]
    },
    {
     "name": "stdout",
     "output_type": "stream",
     "text": [
      "Pred : <pad> the multidimensional rbf is defined as <eos> <eos> <eos> we\n",
      "Grdt : <sos> the classifier makes <num> correct positive predictions <eos>\n",
      "\n"
     ]
    },
    {
     "name": "stderr",
     "output_type": "stream",
     "text": [
      "Epoch 32/100: 100%|██████████| 15/15 [00:08<00:00,  1.69batch/s, loss=0.569]\n"
     ]
    },
    {
     "name": "stdout",
     "output_type": "stream",
     "text": [
      "Pred : <pad> the weighting on each branch is unity except when a\n",
      "Grdt : <sos> the classifier makes <num> correct positive predictions <eos>\n",
      "\n"
     ]
    },
    {
     "name": "stderr",
     "output_type": "stream",
     "text": [
      "Epoch 33/100: 100%|██████████| 15/15 [00:09<00:00,  1.65batch/s, loss=0.588]\n"
     ]
    },
    {
     "name": "stdout",
     "output_type": "stream",
     "text": [
      "Pred : <pad> the multidimensional rbf is defined as <eos> <eos> <eos> we\n",
      "Grdt : <sos> the classifier makes <num> correct positive predictions <eos>\n",
      "\n"
     ]
    },
    {
     "name": "stderr",
     "output_type": "stream",
     "text": [
      "Epoch 34/100: 100%|██████████| 15/15 [00:08<00:00,  1.70batch/s, loss=0.569]\n"
     ]
    },
    {
     "name": "stdout",
     "output_type": "stream",
     "text": [
      "Pred : <pad> the weighting on each branch is unity except when a\n",
      "Grdt : <sos> the classifier makes <num> correct positive predictions <eos>\n",
      "\n"
     ]
    },
    {
     "name": "stderr",
     "output_type": "stream",
     "text": [
      "Epoch 35/100: 100%|██████████| 15/15 [00:09<00:00,  1.60batch/s, loss=0.595]\n"
     ]
    },
    {
     "name": "stdout",
     "output_type": "stream",
     "text": [
      "Pred : <pad> the multidimensional rbf is defined as <eos> <eos> <eos> we\n",
      "Grdt : <sos> the classifier makes <num> correct positive predictions <eos>\n",
      "\n"
     ]
    },
    {
     "name": "stderr",
     "output_type": "stream",
     "text": [
      "Epoch 36/100: 100%|██████████| 15/15 [00:09<00:00,  1.64batch/s, loss=0.586]\n"
     ]
    },
    {
     "name": "stdout",
     "output_type": "stream",
     "text": [
      "Pred : <pad> the multidimensional rbf is defined as <eos> <eos> <eos> we\n",
      "Grdt : <sos> the classifier makes <num> correct positive predictions <eos>\n",
      "\n"
     ]
    },
    {
     "name": "stderr",
     "output_type": "stream",
     "text": [
      "Epoch 37/100: 100%|██████████| 15/15 [00:09<00:00,  1.63batch/s, loss=0.601]\n"
     ]
    },
    {
     "name": "stdout",
     "output_type": "stream",
     "text": [
      "Pred : <pad> the multidimensional rbf is defined as <eos> <eos> <eos> we\n",
      "Grdt : <sos> the classifier makes <num> correct positive predictions <eos>\n",
      "\n"
     ]
    },
    {
     "name": "stderr",
     "output_type": "stream",
     "text": [
      "Epoch 38/100: 100%|██████████| 15/15 [00:09<00:00,  1.66batch/s, loss=0.575]\n"
     ]
    },
    {
     "name": "stdout",
     "output_type": "stream",
     "text": [
      "Pred : <pad> the multidimensional rbf is defined as <eos> <eos> <eos> we\n",
      "Grdt : <sos> the classifier makes <num> correct positive predictions <eos>\n",
      "\n"
     ]
    },
    {
     "name": "stderr",
     "output_type": "stream",
     "text": [
      "Epoch 39/100: 100%|██████████| 15/15 [00:09<00:00,  1.65batch/s, loss=0.588]\n"
     ]
    },
    {
     "name": "stdout",
     "output_type": "stream",
     "text": [
      "Pred : <pad> the multidimensional rbf is defined as <eos> <eos> <eos> we\n",
      "Grdt : <sos> the classifier makes <num> correct positive predictions <eos>\n",
      "\n"
     ]
    },
    {
     "name": "stderr",
     "output_type": "stream",
     "text": [
      "Epoch 40/100: 100%|██████████| 15/15 [00:09<00:00,  1.65batch/s, loss=0.596]\n"
     ]
    },
    {
     "name": "stdout",
     "output_type": "stream",
     "text": [
      "Pred : <pad> the multidimensional rbf is defined as <eos> <eos> <eos> we\n",
      "Grdt : <sos> the classifier makes <num> correct positive predictions <eos>\n",
      "\n"
     ]
    },
    {
     "name": "stderr",
     "output_type": "stream",
     "text": [
      "Epoch 41/100: 100%|██████████| 15/15 [00:09<00:00,  1.62batch/s, loss=0.598]\n"
     ]
    },
    {
     "name": "stdout",
     "output_type": "stream",
     "text": [
      "Pred : <pad> the multidimensional rbf is defined as <eos> <eos> <eos> we\n",
      "Grdt : <sos> the classifier makes <num> correct positive predictions <eos>\n",
      "\n"
     ]
    },
    {
     "name": "stderr",
     "output_type": "stream",
     "text": [
      "Epoch 42/100: 100%|██████████| 15/15 [00:09<00:00,  1.61batch/s, loss=0.604]\n"
     ]
    },
    {
     "name": "stdout",
     "output_type": "stream",
     "text": [
      "Pred : <pad> the multidimensional rbf is defined as <eos> <eos> <eos> we\n",
      "Grdt : <sos> the classifier makes <num> correct positive predictions <eos>\n",
      "\n"
     ]
    },
    {
     "name": "stderr",
     "output_type": "stream",
     "text": [
      "Epoch 43/100: 100%|██████████| 15/15 [00:08<00:00,  1.68batch/s, loss=0.594]\n"
     ]
    },
    {
     "name": "stdout",
     "output_type": "stream",
     "text": [
      "Pred : <pad> the result is as follows <eos> <eos> we use the\n",
      "Grdt : <sos> the classifier makes <num> correct positive predictions <eos>\n",
      "\n"
     ]
    },
    {
     "name": "stderr",
     "output_type": "stream",
     "text": [
      "Epoch 44/100: 100%|██████████| 15/15 [00:08<00:00,  1.70batch/s, loss=0.587]\n"
     ]
    },
    {
     "name": "stdout",
     "output_type": "stream",
     "text": [
      "Pred : <pad> the weighting on each branch is unity except when a\n",
      "Grdt : <sos> the classifier makes <num> correct positive predictions <eos>\n",
      "\n"
     ]
    },
    {
     "name": "stderr",
     "output_type": "stream",
     "text": [
      "Epoch 45/100: 100%|██████████| 15/15 [00:09<00:00,  1.63batch/s, loss=0.620]\n"
     ]
    },
    {
     "name": "stdout",
     "output_type": "stream",
     "text": [
      "Pred : <pad> the weighting on each branch is unity except when a\n",
      "Grdt : <sos> the classifier makes <num> correct positive predictions <eos>\n",
      "\n"
     ]
    },
    {
     "name": "stderr",
     "output_type": "stream",
     "text": [
      "Epoch 46/100: 100%|██████████| 15/15 [00:09<00:00,  1.63batch/s, loss=0.610]\n"
     ]
    },
    {
     "name": "stdout",
     "output_type": "stream",
     "text": [
      "Pred : <pad> the result is as follows <eos> <eos> we use the\n",
      "Grdt : <sos> the classifier makes <num> correct positive predictions <eos>\n",
      "\n"
     ]
    },
    {
     "name": "stderr",
     "output_type": "stream",
     "text": [
      "Epoch 47/100: 100%|██████████| 15/15 [00:09<00:00,  1.61batch/s, loss=0.594]\n"
     ]
    },
    {
     "name": "stdout",
     "output_type": "stream",
     "text": [
      "Pred : <pad> the result is as follows <eos> <eos> we want to\n",
      "Grdt : <sos> the classifier makes <num> correct positive predictions <eos>\n",
      "\n"
     ]
    },
    {
     "name": "stderr",
     "output_type": "stream",
     "text": [
      "Epoch 48/100: 100%|██████████| 15/15 [00:09<00:00,  1.65batch/s, loss=0.592]\n"
     ]
    },
    {
     "name": "stdout",
     "output_type": "stream",
     "text": [
      "Pred : <pad> the result is as follows <eos> <eos> we use the\n",
      "Grdt : <sos> the classifier makes <num> correct positive predictions <eos>\n",
      "\n"
     ]
    },
    {
     "name": "stderr",
     "output_type": "stream",
     "text": [
      "Epoch 49/100: 100%|██████████| 15/15 [00:09<00:00,  1.63batch/s, loss=0.597]\n"
     ]
    },
    {
     "name": "stdout",
     "output_type": "stream",
     "text": [
      "Pred : <pad> the result is as follows <eos> <eos> we use the\n",
      "Grdt : <sos> the classifier makes <num> correct positive predictions <eos>\n",
      "\n"
     ]
    },
    {
     "name": "stderr",
     "output_type": "stream",
     "text": [
      "Epoch 50/100: 100%|██████████| 15/15 [00:09<00:00,  1.63batch/s, loss=0.587]\n"
     ]
    },
    {
     "name": "stdout",
     "output_type": "stream",
     "text": [
      "Pred : <pad> the result is as follows <eos> <eos> we use the\n",
      "Grdt : <sos> the classifier makes <num> correct positive predictions <eos>\n",
      "\n"
     ]
    },
    {
     "name": "stderr",
     "output_type": "stream",
     "text": [
      "Epoch 51/100: 100%|██████████| 15/15 [00:08<00:00,  1.67batch/s, loss=0.568]\n"
     ]
    },
    {
     "name": "stdout",
     "output_type": "stream",
     "text": [
      "Pred : <pad> the result is as follows <eos> <eos> we want to\n",
      "Grdt : <sos> the classifier makes <num> correct positive predictions <eos>\n",
      "\n"
     ]
    },
    {
     "name": "stderr",
     "output_type": "stream",
     "text": [
      "Epoch 52/100: 100%|██████████| 15/15 [00:08<00:00,  1.67batch/s, loss=0.585]\n"
     ]
    },
    {
     "name": "stdout",
     "output_type": "stream",
     "text": [
      "Pred : <pad> the result is as follows <eos> <eos> we want to\n",
      "Grdt : <sos> the classifier makes <num> correct positive predictions <eos>\n",
      "\n"
     ]
    },
    {
     "name": "stderr",
     "output_type": "stream",
     "text": [
      "Epoch 53/100: 100%|██████████| 15/15 [00:09<00:00,  1.66batch/s, loss=0.582]\n"
     ]
    },
    {
     "name": "stdout",
     "output_type": "stream",
     "text": [
      "Pred : <pad> the result is as follows <eos> <eos> we use the\n",
      "Grdt : <sos> the classifier makes <num> correct positive predictions <eos>\n",
      "\n"
     ]
    },
    {
     "name": "stderr",
     "output_type": "stream",
     "text": [
      "Epoch 54/100: 100%|██████████| 15/15 [00:09<00:00,  1.66batch/s, loss=0.580]\n"
     ]
    },
    {
     "name": "stdout",
     "output_type": "stream",
     "text": [
      "Pred : <pad> the result is as follows <eos> <eos> we use the\n",
      "Grdt : <sos> the classifier makes <num> correct positive predictions <eos>\n",
      "\n"
     ]
    },
    {
     "name": "stderr",
     "output_type": "stream",
     "text": [
      "Epoch 55/100: 100%|██████████| 15/15 [00:09<00:00,  1.64batch/s, loss=0.578]\n"
     ]
    },
    {
     "name": "stdout",
     "output_type": "stream",
     "text": [
      "Pred : <pad> the result is as follows <eos> <eos> we use the\n",
      "Grdt : <sos> the classifier makes <num> correct positive predictions <eos>\n",
      "\n"
     ]
    },
    {
     "name": "stderr",
     "output_type": "stream",
     "text": [
      "Epoch 56/100: 100%|██████████| 15/15 [00:08<00:00,  1.69batch/s, loss=0.568]\n"
     ]
    },
    {
     "name": "stdout",
     "output_type": "stream",
     "text": [
      "Pred : <pad> the result is as follows <eos> <eos> we use the\n",
      "Grdt : <sos> the classifier makes <num> correct positive predictions <eos>\n",
      "\n"
     ]
    },
    {
     "name": "stderr",
     "output_type": "stream",
     "text": [
      "Epoch 57/100: 100%|██████████| 15/15 [00:08<00:00,  1.69batch/s, loss=0.556]\n"
     ]
    },
    {
     "name": "stdout",
     "output_type": "stream",
     "text": [
      "Pred : <pad> the result is as follows <eos> <eos> we use the\n",
      "Grdt : <sos> the classifier makes <num> correct positive predictions <eos>\n",
      "\n"
     ]
    },
    {
     "name": "stderr",
     "output_type": "stream",
     "text": [
      "Epoch 58/100: 100%|██████████| 15/15 [00:09<00:00,  1.64batch/s, loss=0.574]\n"
     ]
    },
    {
     "name": "stdout",
     "output_type": "stream",
     "text": [
      "Pred : <pad> the result is as follows <eos> <eos> we use the\n",
      "Grdt : <sos> the classifier makes <num> correct positive predictions <eos>\n",
      "\n"
     ]
    },
    {
     "name": "stderr",
     "output_type": "stream",
     "text": [
      "Epoch 59/100: 100%|██████████| 15/15 [00:09<00:00,  1.60batch/s, loss=0.611]\n"
     ]
    },
    {
     "name": "stdout",
     "output_type": "stream",
     "text": [
      "Pred : <pad> the result is as follows <eos> <eos> we use the\n",
      "Grdt : <sos> the classifier makes <num> correct positive predictions <eos>\n",
      "\n"
     ]
    },
    {
     "name": "stderr",
     "output_type": "stream",
     "text": [
      "Epoch 60/100: 100%|██████████| 15/15 [00:09<00:00,  1.62batch/s, loss=0.592]\n"
     ]
    },
    {
     "name": "stdout",
     "output_type": "stream",
     "text": [
      "Pred : <pad> the result is as follows <eos> <eos> we use the\n",
      "Grdt : <sos> the classifier makes <num> correct positive predictions <eos>\n",
      "\n"
     ]
    },
    {
     "name": "stderr",
     "output_type": "stream",
     "text": [
      "Epoch 61/100: 100%|██████████| 15/15 [00:09<00:00,  1.63batch/s, loss=0.587]\n"
     ]
    },
    {
     "name": "stdout",
     "output_type": "stream",
     "text": [
      "Pred : <pad> the result is as follows <eos> <eos> we use the\n",
      "Grdt : <sos> the classifier makes <num> correct positive predictions <eos>\n",
      "\n"
     ]
    },
    {
     "name": "stderr",
     "output_type": "stream",
     "text": [
      "Epoch 62/100: 100%|██████████| 15/15 [00:08<00:00,  1.71batch/s, loss=0.567]\n"
     ]
    },
    {
     "name": "stdout",
     "output_type": "stream",
     "text": [
      "Pred : <pad> the result is as follows <eos> <eos> we use the\n",
      "Grdt : <sos> the classifier makes <num> correct positive predictions <eos>\n",
      "\n"
     ]
    },
    {
     "name": "stderr",
     "output_type": "stream",
     "text": [
      "Epoch 63/100: 100%|██████████| 15/15 [00:08<00:00,  1.73batch/s, loss=0.548]\n"
     ]
    },
    {
     "name": "stdout",
     "output_type": "stream",
     "text": [
      "Pred : <pad> the result is as follows <eos> <eos> we use the\n",
      "Grdt : <sos> the classifier makes <num> correct positive predictions <eos>\n",
      "\n"
     ]
    },
    {
     "name": "stderr",
     "output_type": "stream",
     "text": [
      "Epoch 64/100: 100%|██████████| 15/15 [00:09<00:00,  1.63batch/s, loss=0.587]\n"
     ]
    },
    {
     "name": "stdout",
     "output_type": "stream",
     "text": [
      "Pred : <pad> the result is as follows <eos> <eos> we use the\n",
      "Grdt : <sos> the classifier makes <num> correct positive predictions <eos>\n",
      "\n"
     ]
    },
    {
     "name": "stderr",
     "output_type": "stream",
     "text": [
      "Epoch 65/100: 100%|██████████| 15/15 [00:09<00:00,  1.60batch/s, loss=0.594]\n"
     ]
    },
    {
     "name": "stdout",
     "output_type": "stream",
     "text": [
      "Pred : <pad> the result is as follows <eos> <eos> we use the\n",
      "Grdt : <sos> the classifier makes <num> correct positive predictions <eos>\n",
      "\n"
     ]
    },
    {
     "name": "stderr",
     "output_type": "stream",
     "text": [
      "Epoch 66/100: 100%|██████████| 15/15 [00:09<00:00,  1.66batch/s, loss=0.577]\n"
     ]
    },
    {
     "name": "stdout",
     "output_type": "stream",
     "text": [
      "Pred : <pad> the result is as follows <eos> <eos> we use the\n",
      "Grdt : <sos> the classifier makes <num> correct positive predictions <eos>\n",
      "\n"
     ]
    },
    {
     "name": "stderr",
     "output_type": "stream",
     "text": [
      "Epoch 67/100: 100%|██████████| 15/15 [00:08<00:00,  1.72batch/s, loss=0.541]\n"
     ]
    },
    {
     "name": "stdout",
     "output_type": "stream",
     "text": [
      "Pred : <pad> the result is as follows <eos> <eos> we want to\n",
      "Grdt : <sos> the classifier makes <num> correct positive predictions <eos>\n",
      "\n"
     ]
    },
    {
     "name": "stderr",
     "output_type": "stream",
     "text": [
      "Epoch 68/100: 100%|██████████| 15/15 [00:09<00:00,  1.66batch/s, loss=0.583]\n"
     ]
    },
    {
     "name": "stdout",
     "output_type": "stream",
     "text": [
      "Pred : <pad> the effects of quantisation can be modelled as follows <eos>\n",
      "Grdt : <sos> the classifier makes <num> correct positive predictions <eos>\n",
      "\n"
     ]
    },
    {
     "name": "stderr",
     "output_type": "stream",
     "text": [
      "Epoch 69/100: 100%|██████████| 15/15 [00:09<00:00,  1.59batch/s, loss=0.606]\n"
     ]
    },
    {
     "name": "stdout",
     "output_type": "stream",
     "text": [
      "Pred : <pad> the weighting on each branch is unity except when a\n",
      "Grdt : <sos> the classifier makes <num> correct positive predictions <eos>\n",
      "\n"
     ]
    },
    {
     "name": "stderr",
     "output_type": "stream",
     "text": [
      "Epoch 70/100: 100%|██████████| 15/15 [00:09<00:00,  1.63batch/s, loss=0.590]\n"
     ]
    },
    {
     "name": "stdout",
     "output_type": "stream",
     "text": [
      "Pred : <pad> the weighting on each branch is unity except when a\n",
      "Grdt : <sos> the classifier makes <num> correct positive predictions <eos>\n",
      "\n"
     ]
    },
    {
     "name": "stderr",
     "output_type": "stream",
     "text": [
      "Epoch 71/100: 100%|██████████| 15/15 [00:09<00:00,  1.63batch/s, loss=0.577]\n"
     ]
    },
    {
     "name": "stdout",
     "output_type": "stream",
     "text": [
      "Pred : <pad> the weighting on each branch is unity except when a\n",
      "Grdt : <sos> the classifier makes <num> correct positive predictions <eos>\n",
      "\n"
     ]
    },
    {
     "name": "stderr",
     "output_type": "stream",
     "text": [
      "Epoch 72/100: 100%|██████████| 15/15 [00:09<00:00,  1.66batch/s, loss=0.560]\n"
     ]
    },
    {
     "name": "stdout",
     "output_type": "stream",
     "text": [
      "Pred : <pad> the weighting on each branch is unity except when a\n",
      "Grdt : <sos> the classifier makes <num> correct positive predictions <eos>\n",
      "\n"
     ]
    },
    {
     "name": "stderr",
     "output_type": "stream",
     "text": [
      "Epoch 73/100: 100%|██████████| 15/15 [00:09<00:00,  1.65batch/s, loss=0.591]\n"
     ]
    },
    {
     "name": "stdout",
     "output_type": "stream",
     "text": [
      "Pred : <pad> the weighting on each branch is unity except when a\n",
      "Grdt : <sos> the classifier makes <num> correct positive predictions <eos>\n",
      "\n"
     ]
    },
    {
     "name": "stderr",
     "output_type": "stream",
     "text": [
      "Epoch 74/100: 100%|██████████| 15/15 [00:08<00:00,  1.69batch/s, loss=0.563]\n"
     ]
    },
    {
     "name": "stdout",
     "output_type": "stream",
     "text": [
      "Pred : <pad> the weighting on each branch is unity except when a\n",
      "Grdt : <sos> the classifier makes <num> correct positive predictions <eos>\n",
      "\n"
     ]
    },
    {
     "name": "stderr",
     "output_type": "stream",
     "text": [
      "Epoch 75/100: 100%|██████████| 15/15 [00:09<00:00,  1.64batch/s, loss=0.586]\n"
     ]
    },
    {
     "name": "stdout",
     "output_type": "stream",
     "text": [
      "Pred : <pad> the weighting on each branch is unity except when a\n",
      "Grdt : <sos> the classifier makes <num> correct positive predictions <eos>\n",
      "\n"
     ]
    },
    {
     "name": "stderr",
     "output_type": "stream",
     "text": [
      "Epoch 76/100: 100%|██████████| 15/15 [00:09<00:00,  1.63batch/s, loss=0.589]\n"
     ]
    },
    {
     "name": "stdout",
     "output_type": "stream",
     "text": [
      "Pred : <pad> the weighting on each branch is unity except when a\n",
      "Grdt : <sos> the classifier makes <num> correct positive predictions <eos>\n",
      "\n"
     ]
    },
    {
     "name": "stderr",
     "output_type": "stream",
     "text": [
      "Epoch 77/100: 100%|██████████| 15/15 [00:09<00:00,  1.63batch/s, loss=0.585]\n"
     ]
    },
    {
     "name": "stdout",
     "output_type": "stream",
     "text": [
      "Pred : <pad> the weighting on each branch is unity except when a\n",
      "Grdt : <sos> the classifier makes <num> correct positive predictions <eos>\n",
      "\n"
     ]
    },
    {
     "name": "stderr",
     "output_type": "stream",
     "text": [
      "Epoch 78/100: 100%|██████████| 15/15 [00:09<00:00,  1.64batch/s, loss=0.591]\n"
     ]
    },
    {
     "name": "stdout",
     "output_type": "stream",
     "text": [
      "Pred : <pad> the weighting on each branch is unity except when a\n",
      "Grdt : <sos> the classifier makes <num> correct positive predictions <eos>\n",
      "\n"
     ]
    },
    {
     "name": "stderr",
     "output_type": "stream",
     "text": [
      "Epoch 79/100: 100%|██████████| 15/15 [00:09<00:00,  1.66batch/s, loss=0.577]\n"
     ]
    },
    {
     "name": "stdout",
     "output_type": "stream",
     "text": [
      "Pred : <pad> the weighting on each branch is unity except when a\n",
      "Grdt : <sos> the classifier makes <num> correct positive predictions <eos>\n",
      "\n"
     ]
    },
    {
     "name": "stderr",
     "output_type": "stream",
     "text": [
      "Epoch 80/100: 100%|██████████| 15/15 [00:09<00:00,  1.62batch/s, loss=0.575]\n"
     ]
    },
    {
     "name": "stdout",
     "output_type": "stream",
     "text": [
      "Pred : <pad> the weighting on each branch is unity except when a\n",
      "Grdt : <sos> the classifier makes <num> correct positive predictions <eos>\n",
      "\n"
     ]
    },
    {
     "name": "stderr",
     "output_type": "stream",
     "text": [
      "Epoch 81/100: 100%|██████████| 15/15 [00:09<00:00,  1.58batch/s, loss=0.601]\n"
     ]
    },
    {
     "name": "stdout",
     "output_type": "stream",
     "text": [
      "Pred : <pad> the weighting on each branch is unity except when a\n",
      "Grdt : <sos> the classifier makes <num> correct positive predictions <eos>\n",
      "\n"
     ]
    },
    {
     "name": "stderr",
     "output_type": "stream",
     "text": [
      "Epoch 82/100: 100%|██████████| 15/15 [00:09<00:00,  1.64batch/s, loss=0.572]\n"
     ]
    },
    {
     "name": "stdout",
     "output_type": "stream",
     "text": [
      "Pred : <pad> the weighting on each branch is unity except when a\n",
      "Grdt : <sos> the classifier makes <num> correct positive predictions <eos>\n",
      "\n"
     ]
    },
    {
     "name": "stderr",
     "output_type": "stream",
     "text": [
      "Epoch 83/100: 100%|██████████| 15/15 [00:08<00:00,  1.73batch/s, loss=0.548]\n"
     ]
    },
    {
     "name": "stdout",
     "output_type": "stream",
     "text": [
      "Pred : <pad> the weighting on each branch is unity except when a\n",
      "Grdt : <sos> the classifier makes <num> correct positive predictions <eos>\n",
      "\n"
     ]
    },
    {
     "name": "stderr",
     "output_type": "stream",
     "text": [
      "Epoch 84/100: 100%|██████████| 15/15 [00:09<00:00,  1.64batch/s, loss=0.577]\n"
     ]
    },
    {
     "name": "stdout",
     "output_type": "stream",
     "text": [
      "Pred : <pad> the weighting on each branch is unity except when a\n",
      "Grdt : <sos> the classifier makes <num> correct positive predictions <eos>\n",
      "\n"
     ]
    },
    {
     "name": "stderr",
     "output_type": "stream",
     "text": [
      "Epoch 85/100: 100%|██████████| 15/15 [00:09<00:00,  1.63batch/s, loss=0.595]\n"
     ]
    },
    {
     "name": "stdout",
     "output_type": "stream",
     "text": [
      "Pred : <pad> the weighting on each branch is unity except when a\n",
      "Grdt : <sos> the classifier makes <num> correct positive predictions <eos>\n",
      "\n"
     ]
    },
    {
     "name": "stderr",
     "output_type": "stream",
     "text": [
      "Epoch 86/100: 100%|██████████| 15/15 [00:08<00:00,  1.69batch/s, loss=0.567]\n"
     ]
    },
    {
     "name": "stdout",
     "output_type": "stream",
     "text": [
      "Pred : <pad> the weighting on each branch is unity except when a\n",
      "Grdt : <sos> the classifier makes <num> correct positive predictions <eos>\n",
      "\n"
     ]
    },
    {
     "name": "stderr",
     "output_type": "stream",
     "text": [
      "Epoch 87/100: 100%|██████████| 15/15 [00:09<00:00,  1.65batch/s, loss=0.561]\n"
     ]
    },
    {
     "name": "stdout",
     "output_type": "stream",
     "text": [
      "Pred : <pad> the weighting on each branch is unity except when a\n",
      "Grdt : <sos> the classifier makes <num> correct positive predictions <eos>\n",
      "\n"
     ]
    },
    {
     "name": "stderr",
     "output_type": "stream",
     "text": [
      "Epoch 88/100: 100%|██████████| 15/15 [00:08<00:00,  1.71batch/s, loss=0.575]\n"
     ]
    },
    {
     "name": "stdout",
     "output_type": "stream",
     "text": [
      "Pred : <pad> the weighting on each branch is unity except when a\n",
      "Grdt : <sos> the classifier makes <num> correct positive predictions <eos>\n",
      "\n"
     ]
    },
    {
     "name": "stderr",
     "output_type": "stream",
     "text": [
      "Epoch 89/100: 100%|██████████| 15/15 [00:09<00:00,  1.61batch/s, loss=0.603]\n"
     ]
    },
    {
     "name": "stdout",
     "output_type": "stream",
     "text": [
      "Pred : <pad> the weighting on each branch is unity except when a\n",
      "Grdt : <sos> the classifier makes <num> correct positive predictions <eos>\n",
      "\n"
     ]
    },
    {
     "name": "stderr",
     "output_type": "stream",
     "text": [
      "Epoch 90/100: 100%|██████████| 15/15 [00:08<00:00,  1.70batch/s, loss=0.549]\n"
     ]
    },
    {
     "name": "stdout",
     "output_type": "stream",
     "text": [
      "Pred : <pad> the weighting on each branch is unity except when a\n",
      "Grdt : <sos> the classifier makes <num> correct positive predictions <eos>\n",
      "\n"
     ]
    },
    {
     "name": "stderr",
     "output_type": "stream",
     "text": [
      "Epoch 91/100: 100%|██████████| 15/15 [00:09<00:00,  1.63batch/s, loss=0.595]\n"
     ]
    },
    {
     "name": "stdout",
     "output_type": "stream",
     "text": [
      "Pred : <pad> the weighting on each branch is unity except when a\n",
      "Grdt : <sos> the classifier makes <num> correct positive predictions <eos>\n",
      "\n"
     ]
    },
    {
     "name": "stderr",
     "output_type": "stream",
     "text": [
      "Epoch 92/100: 100%|██████████| 15/15 [00:09<00:00,  1.61batch/s, loss=0.598]\n"
     ]
    },
    {
     "name": "stdout",
     "output_type": "stream",
     "text": [
      "Pred : <pad> the weighting on each branch is unity except when a\n",
      "Grdt : <sos> the classifier makes <num> correct positive predictions <eos>\n",
      "\n"
     ]
    },
    {
     "name": "stderr",
     "output_type": "stream",
     "text": [
      "Epoch 93/100: 100%|██████████| 15/15 [00:08<00:00,  1.68batch/s, loss=0.568]\n"
     ]
    },
    {
     "name": "stdout",
     "output_type": "stream",
     "text": [
      "Pred : <pad> the weighting on each branch is unity except when a\n",
      "Grdt : <sos> the classifier makes <num> correct positive predictions <eos>\n",
      "\n"
     ]
    },
    {
     "name": "stderr",
     "output_type": "stream",
     "text": [
      "Epoch 94/100: 100%|██████████| 15/15 [00:09<00:00,  1.64batch/s, loss=0.584]\n"
     ]
    },
    {
     "name": "stdout",
     "output_type": "stream",
     "text": [
      "Pred : <pad> the weighting on each branch is unity except when a\n",
      "Grdt : <sos> the classifier makes <num> correct positive predictions <eos>\n",
      "\n"
     ]
    },
    {
     "name": "stderr",
     "output_type": "stream",
     "text": [
      "Epoch 95/100: 100%|██████████| 15/15 [00:09<00:00,  1.62batch/s, loss=0.594]\n"
     ]
    },
    {
     "name": "stdout",
     "output_type": "stream",
     "text": [
      "Pred : <pad> the weighting on each branch is unity except when a\n",
      "Grdt : <sos> the classifier makes <num> correct positive predictions <eos>\n",
      "\n"
     ]
    },
    {
     "name": "stderr",
     "output_type": "stream",
     "text": [
      "Epoch 96/100: 100%|██████████| 15/15 [00:08<00:00,  1.70batch/s, loss=0.563]\n"
     ]
    },
    {
     "name": "stdout",
     "output_type": "stream",
     "text": [
      "Pred : <pad> the weighting on each branch is unity except when a\n",
      "Grdt : <sos> the classifier makes <num> correct positive predictions <eos>\n",
      "\n"
     ]
    },
    {
     "name": "stderr",
     "output_type": "stream",
     "text": [
      "Epoch 97/100: 100%|██████████| 15/15 [00:08<00:00,  1.68batch/s, loss=0.572]\n"
     ]
    },
    {
     "name": "stdout",
     "output_type": "stream",
     "text": [
      "Pred : <pad> the weighting on each branch is unity except when a\n",
      "Grdt : <sos> the classifier makes <num> correct positive predictions <eos>\n",
      "\n"
     ]
    },
    {
     "name": "stderr",
     "output_type": "stream",
     "text": [
      "Epoch 98/100: 100%|██████████| 15/15 [00:09<00:00,  1.61batch/s, loss=0.591]\n"
     ]
    },
    {
     "name": "stdout",
     "output_type": "stream",
     "text": [
      "Pred : <pad> the weighting on each branch is unity except when a\n",
      "Grdt : <sos> the classifier makes <num> correct positive predictions <eos>\n",
      "\n"
     ]
    },
    {
     "name": "stderr",
     "output_type": "stream",
     "text": [
      "Epoch 99/100: 100%|██████████| 15/15 [00:09<00:00,  1.60batch/s, loss=0.602]\n"
     ]
    },
    {
     "name": "stdout",
     "output_type": "stream",
     "text": [
      "Pred : <pad> the weighting on each branch is unity except when a\n",
      "Grdt : <sos> the classifier makes <num> correct positive predictions <eos>\n",
      "\n"
     ]
    },
    {
     "name": "stderr",
     "output_type": "stream",
     "text": [
      "Epoch 100/100: 100%|██████████| 15/15 [00:08<00:00,  1.67batch/s, loss=0.554]"
     ]
    },
    {
     "name": "stdout",
     "output_type": "stream",
     "text": [
      "Pred : <pad> the weighting on each branch is unity except when a\n",
      "Grdt : <sos> the classifier makes <num> correct positive predictions <eos>\n",
      "\n"
     ]
    },
    {
     "name": "stderr",
     "output_type": "stream",
     "text": [
      "\n"
     ]
    }
   ],
   "source": [
    "print(translate(nmt, text, afrikaans, english, device)+\"\\n\")\n",
    "for epoch in range(EPOCHS):\n",
    "\tpbar = tqdm(train_loader, unit=\"batch\" ,desc=f\"Epoch {epoch+1}/{EPOCHS}\")\n",
    "\trun_loss = 0\n",
    "\tfor source, target_ in pbar:\n",
    "\t\tsource = source.to(device)\n",
    "\t\ttarget = target_.to(device)\n",
    "\n",
    "\t\toutput_ = nmt(source, target)\n",
    "\t\toutput = output_.reshape(-1, output_.shape[2])\n",
    "\t\ttarget = target.permute(1,0).reshape(-1)\n",
    "\n",
    "\t\toptimizer.zero_grad()\n",
    "\t\tloss = criterion(output, target)\n",
    "\t\tloss.backward()\n",
    "\n",
    "\t\ttorch.nn.utils.clip_grad_norm_(nmt.parameters(), max_norm=2)\n",
    "\t\toptimizer.step()\n",
    "\t\trun_loss +=loss.item()*source.size(0)\n",
    "\t\tpbar.set_postfix(loss=f\"{run_loss/N:.3f}\")\n",
    "\tprint(f\"Pred : {translate(nmt, text, afrikaans, english, device)}\")\n",
    "\tprint(f\"Grdt : {grdt}\\n\")\n",
    "\twriter.add_scalar(\"Training_loss\", run_loss/N, global_step=epoch)\n",
    "writer.flush()\n",
    "writer.close()"
   ]
  },
  {
   "cell_type": "code",
   "execution_count": 28,
   "id": "24491466",
   "metadata": {},
   "outputs": [
    {
     "data": {
      "text/plain": [
       "torch.Size([26, 6])"
      ]
     },
     "execution_count": 28,
     "metadata": {},
     "output_type": "execute_result"
    }
   ],
   "source": [
    "target_.shape"
   ]
  },
  {
   "cell_type": "code",
   "execution_count": 27,
   "id": "7a50cb80",
   "metadata": {},
   "outputs": [
    {
     "data": {
      "text/plain": [
       "torch.Size([6, 26, 933])"
      ]
     },
     "execution_count": 27,
     "metadata": {},
     "output_type": "execute_result"
    }
   ],
   "source": [
    "output_.shape"
   ]
  },
  {
   "cell_type": "code",
   "execution_count": null,
   "id": "9ddac73b",
   "metadata": {},
   "outputs": [],
   "source": []
  },
  {
   "cell_type": "code",
   "execution_count": null,
   "id": "b6227757",
   "metadata": {},
   "outputs": [],
   "source": []
  }
 ],
 "metadata": {
  "kernelspec": {
   "display_name": "Python 3 (ipykernel)",
   "language": "python",
   "name": "python3"
  },
  "language_info": {
   "codemirror_mode": {
    "name": "ipython",
    "version": 3
   },
   "file_extension": ".py",
   "mimetype": "text/x-python",
   "name": "python",
   "nbconvert_exporter": "python",
   "pygments_lexer": "ipython3",
   "version": "3.10.14"
  }
 },
 "nbformat": 4,
 "nbformat_minor": 5
}
