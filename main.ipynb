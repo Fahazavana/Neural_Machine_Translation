{
 "cells": [
  {
   "cell_type": "code",
   "execution_count": 1,
   "id": "a89bf9e4-311d-4af8-846b-ccfcb9e940b2",
   "metadata": {},
   "outputs": [],
   "source": [
    "from src.Normalizer import preprocess_data"
   ]
  },
  {
   "cell_type": "markdown",
   "id": "d85e72ac",
   "metadata": {},
   "source": [
    "# DATA PERPARATION"
   ]
  },
  {
   "cell_type": "code",
   "execution_count": 2,
   "id": "587e9745",
   "metadata": {},
   "outputs": [],
   "source": [
    "DATA_BASE = \"./data\"\n",
    "TRAIN_RAW = f\"{DATA_BASE}/train\"\n",
    "TRAIN_DATA = f\"{TRAIN_RAW}/norm\"\n",
    "\n",
    "VAL_RAW = f\"{DATA_BASE}/val\"\n",
    "VAL_DATA = f\"{VAL_RAW}/norm\"\n",
    "\n",
    "TRAIN_AFRIKAANS = [\n",
    "    \"data414_2021_a1.af.txt\",\n",
    "    \"data414_2021_a2.af.txt\",\n",
    "    \"data414_2020_a1.af.txt\",\n",
    "    \"ss414_2018_a1.af.txt\",\n",
    "    \"ss414_2018_a2.af.txt\",\n",
    "    \"ss414_2018_a3.af.txt\",\n",
    "    \"ss414_2019_a1.af.txt\",\n",
    "    \"ss414_2019_a2.af.txt\",\n",
    "    \"ss414_2019_a3.af.txt\",]\n",
    "\n",
    "TRAIN_ENGLISH = [\n",
    "    \"data414_2021_a1.en.txt\",\n",
    "    \"data414_2021_a2.en.txt\",\n",
    "    \"data414_2020_a1.en.txt\",\n",
    "    \"ss414_2018_a1.en.txt\",\n",
    "    \"ss414_2018_a2.en.txt\",\n",
    "    \"ss414_2018_a3.en.txt\",\n",
    "    \"ss414_2019_a1.en.txt\",\n",
    "    \"ss414_2019_a2.en.txt\",\n",
    "    \"ss414_2019_a3.en.txt\",]\n",
    "\n",
    "VAL_AFRIKAANS = [\n",
    "    \"compsys414_2017_a1.af.txt\",\n",
    "    \"compsys414_2017_a2.af.txt\",\n",
    "    \"compsys414_2017_a3.af.txt\",]\n",
    "\n",
    "VAL_ENGLISH = [\n",
    "    \"compsys414_2017_a1.en.txt\",\n",
    "    \"compsys414_2017_a2.en.txt\",\n",
    "    \"compsys414_2017_a3.en.txt\",]"
   ]
  },
  {
   "cell_type": "code",
   "execution_count": 3,
   "id": "fa220702",
   "metadata": {},
   "outputs": [
    {
     "name": "stdout",
     "output_type": "stream",
     "text": [
      "Done for afrikaans!\n",
      "Done for english!\n"
     ]
    }
   ],
   "source": [
    "# TRAIN_DATA\n",
    "preprocess_data(TRAIN_RAW, TRAIN_DATA, TRAIN_AFRIKAANS, \"afrikaans\")\n",
    "preprocess_data(TRAIN_RAW, TRAIN_DATA, TRAIN_ENGLISH, \"english\")"
   ]
  },
  {
   "cell_type": "code",
   "execution_count": 4,
   "id": "8c937e6c",
   "metadata": {},
   "outputs": [
    {
     "name": "stdout",
     "output_type": "stream",
     "text": [
      "Done for afrikaans!\n",
      "Done for english!\n"
     ]
    }
   ],
   "source": [
    "# VAL_DATA\n",
    "preprocess_data(VAL_RAW, VAL_DATA, VAL_AFRIKAANS, \"afrikaans\")\n",
    "preprocess_data(VAL_RAW, VAL_DATA, VAL_ENGLISH, \"english\")"
   ]
  },
  {
   "cell_type": "markdown",
   "id": "dff3aca5",
   "metadata": {},
   "source": [
    "## Corpus"
   ]
  },
  {
   "cell_type": "code",
   "execution_count": 33,
   "id": "46481871",
   "metadata": {},
   "outputs": [],
   "source": [
    "class Corpus:\n",
    "    def __init__(self, file_name: str, lang:str):\n",
    "        self.file_name = file_name\n",
    "        self.lang = lang\n",
    "        self.vocab_size = 11\n",
    "        self.data = []\n",
    "        self.stoi: Dict[str, int] = {\n",
    "            \"<pad>\": 0,\n",
    "            \"<sos>\": 1,\n",
    "            \"<eos>\": 2,\n",
    "            \"<unk>\": 3,\n",
    "            \"<num>\": 4,\n",
    "            \"<com>\": 5,\n",
    "            \"<prc>\": 6,\n",
    "            \"<opn>\": 7,\n",
    "            \"<cld>\": 8,\n",
    "            \"<apo>\": 9,\n",
    "            \"<ltx>\": 10,\n",
    "        }\n",
    "        self.itos: Dict[int, str] = {\n",
    "            0: \"<pad>\",\n",
    "            1: \"<sos>\",\n",
    "            2: \"<eos>\",\n",
    "            3: \"<unk>\",\n",
    "            4: \"<num>\",\n",
    "            5: \"<com>\",\n",
    "            6: \"<prc>\",\n",
    "            7: \"<opn>\",\n",
    "            8: \"<cld>\",\n",
    "            9: \"<apo>\",\n",
    "            10: \"<ltx>\",\n",
    "        }\n",
    "        self.__init_data()\n",
    "        self.__encode()\n",
    "\n",
    "    def __init_data(self):\n",
    "        with open(self.file_name, \"r\") as file:\n",
    "            for line in file:\n",
    "                line = line.strip().split()\n",
    "                self.data.append(line)\n",
    "                for word in line:\n",
    "                    if not self.stoi.get(word):\n",
    "                        self.vocab_size += 1\n",
    "                        self.stoi[word] = self.vocab_size - 1\n",
    "                        self.itos[self.vocab_size-1] = word\n",
    "    def __encode(self):\n",
    "        _data = [[self.stoi[word] for word in sentence] for sentence in self.data]\n",
    "        self.data = _data\n",
    "        \n",
    "    def decode(self, data):\n",
    "        _data = [[self.stoi[word] for word in sentence] for sentence in data]\n",
    "        return _data"
   ]
  },
  {
   "cell_type": "code",
   "execution_count": 40,
   "id": "a87711a4",
   "metadata": {},
   "outputs": [],
   "source": [
    "afrikaans = Corpus(f\"{TRAIN_DATA}/afrikaans.txt\", \"Afrikaans\")\n",
    "english = Corpus(f\"{TRAIN_DATA}/english.txt\", \"English\")"
   ]
  },
  {
   "cell_type": "markdown",
   "id": "93a26988",
   "metadata": {},
   "source": [
    "## Torch data"
   ]
  },
  {
   "cell_type": "code",
   "execution_count": 41,
   "id": "e3aad3db",
   "metadata": {},
   "outputs": [],
   "source": [
    "import torch\n",
    "from torch.utils.data import Dataset, DataLoader"
   ]
  },
  {
   "cell_type": "code",
   "execution_count": 44,
   "id": "bea08ed3",
   "metadata": {},
   "outputs": [],
   "source": [
    "class LangData(Dataset):\n",
    "    def __init__(self, source, target):\n",
    "        if len(source.data) != len(target.data):\n",
    "            raise RuntimeError(\"Source and target must have the same lenght\")\n",
    "        self.source = source.data\n",
    "        self.target = target.data\n",
    "    def __getitem__(self, idx):\n",
    "        return self.source[idx], self.target[idx]\n",
    "    def __len__(self):\n",
    "        return len(self.source)\n",
    "\n",
    "def collate_fn(batch):\n",
    "    \"\"\"\n",
    "     Pad shorter sequence with 0 (<pad>) to match the longest sequence\n",
    "     to obtain a uniform bacht size.\n",
    "    \"\"\"\n",
    "    source, target = zip(*batch)\n",
    "    # Pad sequences\n",
    "    source = pad_sequence(source, batch_first=True, padding_value=0)\n",
    "    target = pad_sequence(target, batch_first=True, padding_value=0)\n",
    "    return source, target\n",
    "\n",
    "\n",
    "def dataLoader(dataset, batch_size):\n",
    "    return DataLoader(dataset, batch_size=batch_size, collate_fn=collate_fn)"
   ]
  },
  {
   "cell_type": "code",
   "execution_count": 45,
   "id": "0937d498",
   "metadata": {},
   "outputs": [],
   "source": [
    "train_data = LangData(english, afrikaans)"
   ]
  },
  {
   "cell_type": "code",
   "execution_count": 47,
   "id": "72fe5dd6",
   "metadata": {},
   "outputs": [
    {
     "data": {
      "text/plain": [
       "([1,\n",
       "  11,\n",
       "  12,\n",
       "  13,\n",
       "  14,\n",
       "  15,\n",
       "  16,\n",
       "  17,\n",
       "  11,\n",
       "  18,\n",
       "  19,\n",
       "  20,\n",
       "  21,\n",
       "  22,\n",
       "  23,\n",
       "  24,\n",
       "  25,\n",
       "  26,\n",
       "  27,\n",
       "  28,\n",
       "  29,\n",
       "  30,\n",
       "  31,\n",
       "  32,\n",
       "  4,\n",
       "  33,\n",
       "  34,\n",
       "  2],\n",
       " [1,\n",
       "  11,\n",
       "  12,\n",
       "  13,\n",
       "  14,\n",
       "  15,\n",
       "  16,\n",
       "  11,\n",
       "  17,\n",
       "  18,\n",
       "  11,\n",
       "  19,\n",
       "  20,\n",
       "  21,\n",
       "  22,\n",
       "  18,\n",
       "  23,\n",
       "  24,\n",
       "  25,\n",
       "  26,\n",
       "  27,\n",
       "  28,\n",
       "  29,\n",
       "  30,\n",
       "  4,\n",
       "  31,\n",
       "  27,\n",
       "  32,\n",
       "  2])"
      ]
     },
     "execution_count": 47,
     "metadata": {},
     "output_type": "execute_result"
    }
   ],
   "source": [
    "train_data[0]"
   ]
  },
  {
   "cell_type": "code",
   "execution_count": null,
   "id": "4535cfc0",
   "metadata": {},
   "outputs": [],
   "source": []
  }
 ],
 "metadata": {
  "kernelspec": {
   "display_name": "Python 3 (ipykernel)",
   "language": "python",
   "name": "python3"
  },
  "language_info": {
   "codemirror_mode": {
    "name": "ipython",
    "version": 3
   },
   "file_extension": ".py",
   "mimetype": "text/x-python",
   "name": "python",
   "nbconvert_exporter": "python",
   "pygments_lexer": "ipython3",
   "version": "3.10.14"
  }
 },
 "nbformat": 4,
 "nbformat_minor": 5
}
