{
 "cells": [
  {
   "cell_type": "code",
   "execution_count": 1,
   "id": "a89bf9e4-311d-4af8-846b-ccfcb9e940b2",
   "metadata": {},
   "outputs": [],
   "source": [
    "from src.Normalizer import preprocess_data"
   ]
  },
  {
   "cell_type": "markdown",
   "id": "d85e72ac",
   "metadata": {},
   "source": [
    "# DATA PERPARATION"
   ]
  },
  {
   "cell_type": "code",
   "execution_count": 2,
   "id": "587e9745",
   "metadata": {},
   "outputs": [],
   "source": [
    "DATA_BASE = \"./data\"\n",
    "TRAIN_RAW = f\"{DATA_BASE}/train\"\n",
    "TRAIN_DATA = f\"{TRAIN_RAW}/norm\"\n",
    "\n",
    "VAL_RAW = f\"{DATA_BASE}/val\"\n",
    "VAL_DATA = f\"{VAL_RAW}/norm\"\n",
    "\n",
    "TRAIN_AFRIKAANS = [\n",
    "\t\"data414_2021_a1.af.txt\",\n",
    "\t\"data414_2021_a2.af.txt\",\n",
    "\t\"data414_2020_a1.af.txt\",\n",
    "\t\"ss414_2018_a1.af.txt\",\n",
    "\t\"ss414_2018_a2.af.txt\",\n",
    "\t\"ss414_2018_a3.af.txt\",\n",
    "\t\"ss414_2019_a1.af.txt\",\n",
    "\t\"ss414_2019_a2.af.txt\",\n",
    "\t\"ss414_2019_a3.af.txt\",]\n",
    "\n",
    "TRAIN_ENGLISH = [\n",
    "\t\"data414_2021_a1.en.txt\",\n",
    "\t\"data414_2021_a2.en.txt\",\n",
    "\t\"data414_2020_a1.en.txt\",\n",
    "\t\"ss414_2018_a1.en.txt\",\n",
    "\t\"ss414_2018_a2.en.txt\",\n",
    "\t\"ss414_2018_a3.en.txt\",\n",
    "\t\"ss414_2019_a1.en.txt\",\n",
    "\t\"ss414_2019_a2.en.txt\",\n",
    "\t\"ss414_2019_a3.en.txt\",]\n",
    "\n",
    "VAL_AFRIKAANS = [\n",
    "\t\"compsys414_2017_a1.af.txt\",\n",
    "\t\"compsys414_2017_a2.af.txt\",\n",
    "\t\"compsys414_2017_a3.af.txt\",]\n",
    "\n",
    "VAL_ENGLISH = [\n",
    "\t\"compsys414_2017_a1.en.txt\",\n",
    "\t\"compsys414_2017_a2.en.txt\",\n",
    "\t\"compsys414_2017_a3.en.txt\",]"
   ]
  },
  {
   "cell_type": "code",
   "execution_count": 3,
   "id": "fa220702",
   "metadata": {},
   "outputs": [
    {
     "name": "stdout",
     "output_type": "stream",
     "text": [
      "Done for afrikaans!\n",
      "Done for english!\n"
     ]
    }
   ],
   "source": [
    "# TRAIN_DATA\n",
    "preprocess_data(TRAIN_RAW, TRAIN_DATA, TRAIN_AFRIKAANS, \"afrikaans\")\n",
    "preprocess_data(TRAIN_RAW, TRAIN_DATA, TRAIN_ENGLISH, \"english\")"
   ]
  },
  {
   "cell_type": "code",
   "execution_count": 4,
   "id": "8c937e6c",
   "metadata": {},
   "outputs": [
    {
     "name": "stdout",
     "output_type": "stream",
     "text": [
      "Done for afrikaans!\n",
      "Done for english!\n"
     ]
    }
   ],
   "source": [
    "# VAL_DATA\n",
    "preprocess_data(VAL_RAW, VAL_DATA, VAL_AFRIKAANS, \"afrikaans\")\n",
    "preprocess_data(VAL_RAW, VAL_DATA, VAL_ENGLISH, \"english\")"
   ]
  },
  {
   "cell_type": "markdown",
   "id": "dff3aca5",
   "metadata": {},
   "source": [
    "## Corpus"
   ]
  },
  {
   "cell_type": "code",
   "execution_count": 5,
   "id": "46481871",
   "metadata": {},
   "outputs": [],
   "source": [
    "class Corpus:\n",
    "\tdef __init__(self, file_name: str, lang:str):\n",
    "\t\tself.file_name = file_name\n",
    "\t\tself.lang = lang\n",
    "\t\tself.vocab_size = 11\n",
    "\t\tself.data = []\n",
    "\t\tself.stoi: Dict[str, int] = {\n",
    "\t\t\t\"<pad>\": 0,\n",
    "\t\t\t\"<sos>\": 1,\n",
    "\t\t\t\"<eos>\": 2,\n",
    "\t\t\t\"<unk>\": 3,\n",
    "\t\t\t\"<num>\": 4,\n",
    "\t\t\t\"<com>\": 5,\n",
    "\t\t\t\"<prc>\": 6,\n",
    "\t\t\t\"<opn>\": 7,\n",
    "\t\t\t\"<cld>\": 8,\n",
    "\t\t\t\"<apo>\": 9,\n",
    "\t\t\t\"<ltx>\": 10,\n",
    "\t\t}\n",
    "\t\tself.itos: Dict[int, str] = {\n",
    "\t\t\t0: \"<pad>\",\n",
    "\t\t\t1: \"<sos>\",\n",
    "\t\t\t2: \"<eos>\",\n",
    "\t\t\t3: \"<unk>\",\n",
    "\t\t\t4: \"<num>\",\n",
    "\t\t\t5: \"<com>\",\n",
    "\t\t\t6: \"<prc>\",\n",
    "\t\t\t7: \"<opn>\",\n",
    "\t\t\t8: \"<cld>\",\n",
    "\t\t\t9: \"<apo>\",\n",
    "\t\t\t10: \"<ltx>\",\n",
    "\t\t}\n",
    "\t\tself.__init_data()\n",
    "\t\tself.__encode()\n",
    "\n",
    "\tdef __init_data(self):\n",
    "\t\twith open(self.file_name, \"r\") as file:\n",
    "\t\t\tfor line in file:\n",
    "\t\t\t\tline = line.strip().split()\n",
    "\t\t\t\tself.data.append(line)\n",
    "\t\t\t\tfor word in line:\n",
    "\t\t\t\t\tif not self.stoi.get(word):\n",
    "\t\t\t\t\t\tself.vocab_size += 1\n",
    "\t\t\t\t\t\tself.stoi[word] = self.vocab_size - 1\n",
    "\t\t\t\t\t\tself.itos[self.vocab_size-1] = word\n",
    "\tdef __encode(self):\n",
    "\t\t_data = [[self.stoi[word] for word in sentence] for sentence in self.data]\n",
    "\t\tself.data = _data\n",
    "\t\t\n",
    "\tdef decode(self, data):\n",
    "\t\t_data = [[self.stoi[word] for word in sentence] for sentence in data]\n",
    "\t\treturn _data"
   ]
  },
  {
   "cell_type": "markdown",
   "id": "93a26988",
   "metadata": {},
   "source": [
    "## Torch data"
   ]
  },
  {
   "cell_type": "code",
   "execution_count": 6,
   "id": "e3aad3db",
   "metadata": {},
   "outputs": [],
   "source": [
    "import torch\n",
    "from torch.utils.data import Dataset, DataLoader\n",
    "from torch.nn.utils.rnn import pad_sequence"
   ]
  },
  {
   "cell_type": "code",
   "execution_count": 29,
   "id": "bea08ed3",
   "metadata": {},
   "outputs": [],
   "source": [
    "class LangData(Dataset):\n",
    "\tdef __init__(self, source, target):\n",
    "\t\tif len(source.data) != len(target.data):\n",
    "\t\t\traise RuntimeError(\"Source and target must have the same lenght\")\n",
    "\t\tself.source = source.data\n",
    "\t\tself.target = target.data\n",
    "\tdef __getitem__(self, idx):\n",
    "\t\tx = torch.tensor(self.source[idx], dtype=torch.long)\n",
    "\t\ty = torch.tensor(self.target[idx], dtype=torch.long)\n",
    "\t\treturn x, y\n",
    "\tdef __len__(self):\n",
    "\t\treturn len(self.source)\n",
    "\n",
    "def collate_fn(batch):\n",
    "\t\"\"\"\n",
    "\t Pad shorter sequence with 0 (<pad>) to match the longest sequence\n",
    "\t to obtain a uniform bacht size.\n",
    "\t\"\"\"\n",
    "\tsource, target = zip(*batch)\n",
    "\t# Pad sequences\n",
    "\tsource = pad_sequence(source, batch_first=True, padding_value=0)\n",
    "\ttarget = pad_sequence(target, batch_first=True, padding_value=0)\n",
    "\treturn source, target\n",
    "\n",
    "\n",
    "def dataLoader(dataset, batch_size):\n",
    "\treturn DataLoader(dataset, batch_size=batch_size, collate_fn=collate_fn, shuffle=True)"
   ]
  },
  {
   "cell_type": "markdown",
   "id": "3d7213a5",
   "metadata": {},
   "source": [
    "## NMT: AFRIKAANS -> ENGLISH"
   ]
  },
  {
   "cell_type": "code",
   "execution_count": 169,
   "id": "10db208d",
   "metadata": {},
   "outputs": [],
   "source": [
    "import torch\n",
    "from torch import nn\n",
    "from torch import optim\n",
    "from tqdm import tqdm\n",
    "import random\n",
    "from torch.utils.tensorboard import SummaryWriter"
   ]
  },
  {
   "cell_type": "code",
   "execution_count": 170,
   "id": "c5dc571d",
   "metadata": {},
   "outputs": [],
   "source": [
    "class Encoder(nn.Module):\n",
    "\tdef __init__(self, vocab_size, embd_size, hidden_size, num_layers) -> None:\n",
    "\t\tsuper(Encoder, self).__init__()\n",
    "\t\tself.hidden_size = hidden_size\n",
    "\t\tself.num_layers = num_layers\n",
    "\n",
    "\t\tself.embedding = nn.Embedding(vocab_size, embd_size)\n",
    "\t\tself.rnn = nn.LSTM(input_size=embd_size, hidden_size=hidden_size,\n",
    "\t\t\t\t\t\t   num_layers=num_layers, batch_first=True)\n",
    "\n",
    "\tdef forward(self, x):\n",
    "\t\te = self.embedding(x)\n",
    "\t\t_, (hidden, cell) = self.rnn(e)\n",
    "\t\treturn hidden, cell\n",
    "\n",
    "\n",
    "class Decoder(nn.Module):\n",
    "\tdef __init__(self, vocab_size, embd_size, hidden_size, num_layers) -> None:\n",
    "\t\tsuper(Decoder, self).__init__()\n",
    "\t\tself.hidden_size = hidden_size\n",
    "\t\tself.num_layers = num_layers\n",
    "\t\tself.embedding = nn.Embedding(vocab_size, embd_size)\n",
    "\t\tself.rnn = nn.LSTM(embd_size, hidden_size,\n",
    "\t\t\t\t\t\t   num_layers, batch_first=True)\n",
    "\t\tself.fc = nn.Linear(hidden_size, vocab_size)\n",
    "\n",
    "\tdef forward(self, x, hidden, cell):\n",
    "\t\te = self.embedding(x).unsqueeze(1)\n",
    "\t\tout, (hidden, cell) = self.rnn(e, (hidden, cell))\n",
    "\t\tpred = self.fc(out)\n",
    "\t\treturn pred.squeeze(1), hidden, cell\n",
    "\n",
    "\n",
    "class NMT(nn.Module):\n",
    "\tdef __init__(self, encoder, decoder, target_vocab_size):\n",
    "\t\tsuper(NMT, self).__init__()\n",
    "\t\tself.encoder = encoder\n",
    "\t\tself.decoder = decoder\n",
    "\t\tself.target_size = target_vocab_size\n",
    "\n",
    "\tdef forward(self, source, target, tch_force=0.9):\n",
    "\t\tbatch_size = source.size(0)  # Correct batch size dimension\n",
    "\t\ttarget_len = target.size(1)  # Correct target length dimension\n",
    "\t\tout = torch.zeros(batch_size, target_len, self.target_size).to(device)\n",
    "\n",
    "\t\thidden, cell = self.encoder(source)\n",
    "\t\tx = target[:, 0]\n",
    "\t\tfor t in range(1, target_len):\n",
    "\t\t\tout_, hidden, cell = self.decoder(x, hidden, cell)\n",
    "\t\t\tout[:, t, :] = out_\n",
    "\n",
    "\t\t\tyhat = out_.argmax(1)\n",
    "\t\t\tx = target[:, t] if random.random() > tch_force else yhat\n",
    "\n",
    "\t\treturn out"
   ]
  },
  {
   "cell_type": "code",
   "execution_count": 171,
   "id": "083f4d8c",
   "metadata": {},
   "outputs": [],
   "source": [
    "# Hyper-params\n",
    "EPOCHS = 50\n",
    "LR = 1e-4\n",
    "BATCH_SIZE = 128\n",
    "LOAD_MODEL = False\n",
    "\n",
    "afrikaans = Corpus(f\"{TRAIN_DATA}/afrikaans.txt\", \"Afrikaans\")\n",
    "english = Corpus(f\"{TRAIN_DATA}/english.txt\", \"English\")\n",
    "train_data = LangData(afrikaans, english)\n",
    "train_loader = dataLoader(train_data, BATCH_SIZE)\n",
    "\n",
    "\n",
    "IN_ENCODER = afrikaans.vocab_size\n",
    "IN_DECODER = english.vocab_size\n",
    "OUTPUTSIZE = english.vocab_size\n",
    "\n",
    "ENCODER_E = 16\n",
    "DECODER_E = 16\n",
    "\n",
    "HIDDEN_SIZE = 64\n",
    "NUM_LAYERS = 2\n",
    "\n",
    "ENCODER_DRP = 0.5\n",
    "DECODER_DRP = 0.5\n",
    "\n",
    "device = torch.device('cuda' if torch.cuda.is_available() else 'cpu')"
   ]
  },
  {
   "cell_type": "code",
   "execution_count": 172,
   "id": "f04f2d2f",
   "metadata": {},
   "outputs": [],
   "source": [
    "encoder_net = Encoder(IN_ENCODER, ENCODER_E, HIDDEN_SIZE,\n",
    "\t\t\t\t\t  NUM_LAYERS).to(device)\n",
    "decoder_net = Decoder(IN_DECODER, DECODER_E, HIDDEN_SIZE,\n",
    "\t\t\t\t\t  NUM_LAYERS).to(device)\n",
    "\n",
    "nmt = NMT(encoder_net, decoder_net, english.vocab_size)"
   ]
  },
  {
   "cell_type": "code",
   "execution_count": 179,
   "id": "ee757771",
   "metadata": {},
   "outputs": [],
   "source": [
    "pad_idx = english.stoi['<pad>']\n",
    "criterion = nn.CrossEntropyLoss(ignore_index=pad_idx)\n",
    "optimizer = optim.NAdam(nmt.parameters(), 1e-3)"
   ]
  },
  {
   "cell_type": "code",
   "execution_count": 180,
   "id": "c3706000",
   "metadata": {},
   "outputs": [
    {
     "name": "stderr",
     "output_type": "stream",
     "text": [
      "Epoch 1/50: 100%|██████████| 4/4 [00:02<00:00,  1.71batch/s, loss=5.015]\n",
      "Epoch 2/50: 100%|██████████| 4/4 [00:02<00:00,  1.83batch/s, loss=5.008]\n",
      "Epoch 3/50: 100%|██████████| 4/4 [00:02<00:00,  1.58batch/s, loss=5.004]\n",
      "Epoch 4/50: 100%|██████████| 4/4 [00:01<00:00,  2.01batch/s, loss=5.012]\n",
      "Epoch 5/50: 100%|██████████| 4/4 [00:02<00:00,  1.92batch/s, loss=5.011]\n",
      "Epoch 6/50: 100%|██████████| 4/4 [00:01<00:00,  2.46batch/s, loss=5.003]\n",
      "Epoch 7/50: 100%|██████████| 4/4 [00:01<00:00,  2.14batch/s, loss=4.998]\n",
      "Epoch 8/50: 100%|██████████| 4/4 [00:01<00:00,  2.26batch/s, loss=4.991]\n",
      "Epoch 9/50: 100%|██████████| 4/4 [00:01<00:00,  2.37batch/s, loss=4.993]\n",
      "Epoch 10/50: 100%|██████████| 4/4 [00:02<00:00,  1.88batch/s, loss=4.994]\n",
      "Epoch 11/50: 100%|██████████| 4/4 [00:02<00:00,  1.81batch/s, loss=4.998]\n",
      "Epoch 12/50: 100%|██████████| 4/4 [00:02<00:00,  2.00batch/s, loss=4.986]\n",
      "Epoch 13/50: 100%|██████████| 4/4 [00:02<00:00,  1.79batch/s, loss=4.991]\n",
      "Epoch 14/50: 100%|██████████| 4/4 [00:02<00:00,  1.96batch/s, loss=4.984]\n",
      "Epoch 15/50: 100%|██████████| 4/4 [00:02<00:00,  1.80batch/s, loss=4.987]\n",
      "Epoch 16/50: 100%|██████████| 4/4 [00:01<00:00,  2.11batch/s, loss=4.985]\n",
      "Epoch 17/50: 100%|██████████| 4/4 [00:01<00:00,  2.11batch/s, loss=4.987]\n",
      "Epoch 18/50: 100%|██████████| 4/4 [00:02<00:00,  1.77batch/s, loss=4.978]\n",
      "Epoch 19/50: 100%|██████████| 4/4 [00:02<00:00,  1.95batch/s, loss=4.980]\n",
      "Epoch 20/50: 100%|██████████| 4/4 [00:02<00:00,  1.86batch/s, loss=4.975]\n",
      "Epoch 21/50: 100%|██████████| 4/4 [00:02<00:00,  1.85batch/s, loss=4.968]\n",
      "Epoch 22/50: 100%|██████████| 4/4 [00:02<00:00,  1.95batch/s, loss=4.970]\n",
      "Epoch 23/50: 100%|██████████| 4/4 [00:02<00:00,  1.77batch/s, loss=4.969]\n",
      "Epoch 24/50: 100%|██████████| 4/4 [00:01<00:00,  2.36batch/s, loss=4.975]\n",
      "Epoch 25/50: 100%|██████████| 4/4 [00:01<00:00,  2.22batch/s, loss=4.969]\n",
      "Epoch 26/50: 100%|██████████| 4/4 [00:02<00:00,  1.92batch/s, loss=4.966]\n",
      "Epoch 27/50: 100%|██████████| 4/4 [00:01<00:00,  2.11batch/s, loss=4.967]\n",
      "Epoch 28/50: 100%|██████████| 4/4 [00:01<00:00,  2.28batch/s, loss=4.960]\n",
      "Epoch 29/50: 100%|██████████| 4/4 [00:02<00:00,  1.87batch/s, loss=4.958]\n",
      "Epoch 30/50: 100%|██████████| 4/4 [00:02<00:00,  1.99batch/s, loss=4.954]\n",
      "Epoch 31/50: 100%|██████████| 4/4 [00:02<00:00,  1.79batch/s, loss=4.952]\n",
      "Epoch 32/50: 100%|██████████| 4/4 [00:01<00:00,  2.02batch/s, loss=4.950]\n",
      "Epoch 33/50: 100%|██████████| 4/4 [00:02<00:00,  1.68batch/s, loss=4.961]\n",
      "Epoch 34/50: 100%|██████████| 4/4 [00:01<00:00,  2.22batch/s, loss=4.946]\n",
      "Epoch 35/50: 100%|██████████| 4/4 [00:02<00:00,  1.88batch/s, loss=4.940]\n",
      "Epoch 36/50: 100%|██████████| 4/4 [00:02<00:00,  1.75batch/s, loss=4.938]\n",
      "Epoch 37/50: 100%|██████████| 4/4 [00:01<00:00,  2.16batch/s, loss=4.949]\n",
      "Epoch 38/50: 100%|██████████| 4/4 [00:02<00:00,  1.86batch/s, loss=4.936]\n",
      "Epoch 39/50: 100%|██████████| 4/4 [00:01<00:00,  2.33batch/s, loss=4.936]\n",
      "Epoch 40/50: 100%|██████████| 4/4 [00:01<00:00,  2.09batch/s, loss=4.930]\n",
      "Epoch 41/50: 100%|██████████| 4/4 [00:02<00:00,  1.82batch/s, loss=4.932]\n",
      "Epoch 42/50: 100%|██████████| 4/4 [00:02<00:00,  1.92batch/s, loss=4.919]\n",
      "Epoch 43/50: 100%|██████████| 4/4 [00:01<00:00,  2.19batch/s, loss=4.925]\n",
      "Epoch 44/50: 100%|██████████| 4/4 [00:02<00:00,  1.97batch/s, loss=4.917]\n",
      "Epoch 45/50: 100%|██████████| 4/4 [00:01<00:00,  2.48batch/s, loss=4.918]\n",
      "Epoch 46/50: 100%|██████████| 4/4 [00:01<00:00,  2.30batch/s, loss=4.919]\n",
      "Epoch 47/50: 100%|██████████| 4/4 [00:01<00:00,  2.04batch/s, loss=4.922]\n",
      "Epoch 48/50: 100%|██████████| 4/4 [00:02<00:00,  1.94batch/s, loss=4.901]\n",
      "Epoch 49/50: 100%|██████████| 4/4 [00:01<00:00,  2.33batch/s, loss=4.912]\n",
      "Epoch 50/50: 100%|██████████| 4/4 [00:02<00:00,  1.88batch/s, loss=4.900]\n"
     ]
    }
   ],
   "source": [
    "step = 0\n",
    "writer = SummaryWriter(f\"runs/loss_plot\")\n",
    "N = len(train_data)\n",
    "for epoch in range(EPOCHS):\n",
    "\tpbar = tqdm(train_loader, unit=\"batch\" ,desc=f\"Epoch {epoch+1}/{EPOCHS}\")\n",
    "\trun_loss = 0\n",
    "\tfor source, target in pbar:\n",
    "\t\tsource = source.to(device)\n",
    "\t\ttarget = target.to(device)\n",
    "\n",
    "\t\toutput = nmt(source, target)\n",
    "\t\toutput = output[1:].reshape(-1, output.shape[2])\n",
    "\t\ttarget = target[1:].reshape(-1)\n",
    "\n",
    "\t\toptimizer.zero_grad()\n",
    "\t\tloss = criterion(output, target)\n",
    "\t\tloss.backward()\n",
    "\n",
    "\t\ttorch.nn.utils.clip_grad_norm_(nmt.parameters(), max_norm=1)\n",
    "\t\toptimizer.step()\n",
    "\t\trun_loss +=loss.item()*source.size(0)\n",
    "\t\tpbar.set_postfix(loss=f\"{run_loss/N:.3f}\")\n",
    "\twriter.add_scalar(\"Training_loss\", run_loss/N, global_step=step)\n",
    "\tstep +=1\n"
   ]
  },
  {
   "cell_type": "code",
   "execution_count": null,
   "id": "25bcba14",
   "metadata": {},
   "outputs": [],
   "source": []
  },
  {
   "cell_type": "code",
   "execution_count": null,
   "id": "70216ce7",
   "metadata": {},
   "outputs": [],
   "source": []
  }
 ],
 "metadata": {
  "kernelspec": {
   "display_name": "Python 3 (ipykernel)",
   "language": "python",
   "name": "python3"
  },
  "language_info": {
   "codemirror_mode": {
    "name": "ipython",
    "version": 3
   },
   "file_extension": ".py",
   "mimetype": "text/x-python",
   "name": "python",
   "nbconvert_exporter": "python",
   "pygments_lexer": "ipython3",
   "version": "3.10.14"
  }
 },
 "nbformat": 4,
 "nbformat_minor": 5
}
