{
 "cells": [
  {
   "cell_type": "markdown",
   "id": "88716432",
   "metadata": {},
   "source": [
    "# NEURAL MACHINE TRANSLATION - LSTM"
   ]
  },
  {
   "cell_type": "markdown",
   "id": "5fb4bb18",
   "metadata": {},
   "source": [
    "## Required Module & Config files"
   ]
  },
  {
   "cell_type": "code",
   "execution_count": 1,
   "id": "a89bf9e4-311d-4af8-846b-ccfcb9e940b2",
   "metadata": {
    "ExecuteTime": {
     "end_time": "2024-07-18T19:04:37.839191Z",
     "start_time": "2024-07-18T19:04:34.414188Z"
    }
   },
   "outputs": [
    {
     "name": "stdout",
     "output_type": "stream",
     "text": [
      "Using device: mps\n"
     ]
    }
   ],
   "source": [
    "import src.LSTM as lstmNMT\n",
    "from src.Tokenizer import Corpus, LangData, dataLoader\n",
    "from src.utils import load_config, get_device, train_model, sentence_bleu, corpus_bleu\n",
    "from src.Translator import Translator\n",
    "from torch.nn import CrossEntropyLoss\n",
    "from torch.optim import NAdam\n",
    "import evaluate\n",
    "import numpy as np\n",
    "from torchinfo import summary\n",
    "\n",
    "# Loading config file\n",
    "config = load_config()\n",
    "# Get device : GPU/MPS Back-End/CPU\n",
    "device = get_device()\n",
    "print(f\"Using device: {device}\")"
   ]
  },
  {
   "cell_type": "markdown",
   "id": "76325a3f",
   "metadata": {},
   "source": [
    "## Load the dataset"
   ]
  },
  {
   "cell_type": "code",
   "execution_count": 2,
   "id": "083f4d8c",
   "metadata": {
    "ExecuteTime": {
     "end_time": "2024-07-18T19:04:37.857877Z",
     "start_time": "2024-07-18T19:04:37.840672Z"
    }
   },
   "outputs": [],
   "source": [
    "# Encoder-Source\n",
    "english_data = Corpus(f\"{config.TRAIN_DATA}/english.txt\", \"English\")\n",
    "afrikaans_data = Corpus(f\"{config.TRAIN_DATA}/afrikaans.txt\", \"Afrikaans\")"
   ]
  },
  {
   "cell_type": "markdown",
   "id": "0142f911",
   "metadata": {},
   "source": [
    "## Set Hyperparameters"
   ]
  },
  {
   "cell_type": "code",
   "execution_count": 3,
   "id": "d5ff35e0",
   "metadata": {
    "ExecuteTime": {
     "end_time": "2024-07-18T19:04:37.860952Z",
     "start_time": "2024-07-18T19:04:37.858762Z"
    }
   },
   "outputs": [],
   "source": [
    "# Encoder - source\n",
    "IN_ENCODER = english_data.vocab_size\n",
    "ENCODER_EMB = 256\n",
    "\n",
    "# Decoder - target\n",
    "IN_DECODER = afrikaans_data.vocab_size\n",
    "OUT_DECODER = afrikaans_data.vocab_size\n",
    "DECODER_EMB = 256\n",
    "\n",
    "# Shared\n",
    "HIDDEN_SIZE = 1024\n",
    "NUM_LAYERS = 2\n",
    "\n",
    "LR = 1e-3\n",
    "BATCH_SIZE = 128"
   ]
  },
  {
   "cell_type": "markdown",
   "id": "da759f25",
   "metadata": {},
   "source": [
    "## Set the model"
   ]
  },
  {
   "cell_type": "code",
   "execution_count": 4,
   "id": "f04f2d2f",
   "metadata": {
    "ExecuteTime": {
     "end_time": "2024-07-18T19:04:38.257173Z",
     "start_time": "2024-07-18T19:04:37.862486Z"
    }
   },
   "outputs": [
    {
     "data": {
      "text/plain": [
       "=================================================================\n",
       "Layer (type:depth-idx)                   Param #\n",
       "=================================================================\n",
       "LSTM_NMT                                 --\n",
       "├─Encoder: 1-1                           --\n",
       "│    └─Embedding: 2-1                    744,448\n",
       "│    └─LSTM: 2-2                         13,647,872\n",
       "├─Decoder: 1-2                           --\n",
       "│    └─Embedding: 2-3                    737,280\n",
       "│    └─LSTM: 2-4                         13,647,872\n",
       "│    └─Linear: 2-5                       2,952,000\n",
       "=================================================================\n",
       "Total params: 31,729,472\n",
       "Trainable params: 31,729,472\n",
       "Non-trainable params: 0\n",
       "================================================================="
      ]
     },
     "execution_count": 4,
     "metadata": {},
     "output_type": "execute_result"
    }
   ],
   "source": [
    "encoder_net = lstmNMT.Encoder(IN_ENCODER, ENCODER_EMB, HIDDEN_SIZE, NUM_LAYERS).to(device)\n",
    "decoder_net = lstmNMT.Decoder(IN_DECODER, DECODER_EMB, HIDDEN_SIZE, NUM_LAYERS).to(device)\n",
    "model = lstmNMT.LSTM_NMT(encoder_net, decoder_net, OUT_DECODER)\n",
    "summary(model)"
   ]
  },
  {
   "cell_type": "code",
   "execution_count": 5,
   "id": "ee757771",
   "metadata": {
    "ExecuteTime": {
     "end_time": "2024-07-18T19:04:38.804276Z",
     "start_time": "2024-07-18T19:04:38.258305Z"
    }
   },
   "outputs": [],
   "source": [
    "train_data = LangData(english_data, afrikaans_data)\n",
    "train_loader = dataLoader(train_data, BATCH_SIZE)\n",
    "\n",
    "pad_idx = afrikaans_data.stoi['<pad>']\n",
    "criterion = CrossEntropyLoss(ignore_index=0)\n",
    "\n",
    "optimizer = NAdam(model.parameters(), LR)\n",
    "translator = Translator(model, english_data, afrikaans_data, device)"
   ]
  },
  {
   "cell_type": "code",
   "execution_count": 6,
   "id": "bcb89b48",
   "metadata": {
    "ExecuteTime": {
     "end_time": "2024-07-18T19:04:39.785848Z",
     "start_time": "2024-07-18T19:04:38.805169Z"
    }
   },
   "outputs": [
    {
     "name": "stdout",
     "output_type": "stream",
     "text": [
      "Pred: <sos> snork bleek wek faktore faktore faktore faktore asseblief.\" asseblief.\" na\\\"{i}ewe na\\\"{i}ewe na\\\"{i}ewe na\\\"{i}ewe na\\\"{i}ewe gewoonlik voorstelle voorstelle voorstelle voorstelle voorstelle \\texttt{artist} \\texttt{artist} bladsye m.b.v.\\twee m.b.v.\\twee berekeninge dink verkry verkry verkry regtig regtig voëls m.b.v.\\twee m.b.v.\\twee dink m.b.v.\\twee m.b.v.\\twee berekeninge ouer \\it plek waar waar frekwensie-ruimte frekwensie-ruimte regtig regtig wek geen bondels soms faktore faktore spoed spoed duiwels $y\\in\\{0,1\\}$ rad/s sproeier tuiste maan tuiste soms manne soen frekwensie-ruimte yanni yanni verhuur engelse winkelsentrum winkelsentrum plek plek swanger gewoonlik waar waar onewe-indeks snork snork uittreeveranderlike voëls uittreeveranderlike doen doen opgewonde lys maan verkry regtig regtig beduidend regtig geregeer soms saag verhouding faktore faktore spoed spoed spoed duiwels duiwels $y\\in\\{0,1\\}$ soos $\\omega_c$ afgeleefde afgeleefde wes-europa rok rok m.b.v.\\twee wasbere rok m.b.v.\\twee wasbere gebou sproeier sproeier $y\\in\\{0,1\\}$ aangedui tuiste effekte i i rok soen soen voed raamlengte bondels bondels diagonaalkovariansiese regtig regtig paspoort geen geen swem swem beweeg beweeg verdwyn strokiesprente energie-seine kode? strokiesprente add} strokiesprente add} maria verkoue verkoue hare leuen doen faktore faktore faktore asseblief.\" asseblief.\" na\\\"{i}ewe na\\\"{i}ewe na\\\"{i}ewe na\\\"{i}ewe na\\\"{i}ewe gewoonlik voorstelle voorstelle voorstelle voorstelle voorstelle\n",
      "Refe: <sos> as ons die teikenuittree voorstel as $y\\in\\{0,1\\}$ en ons $n$ afrigpunte het , dan kan ons die negatiewe log-waarskynlikheidskostefunksie skryf as: <eos>\n",
      "BLEU SCORES: [0.043, 0.037, 0.033, 0.029]\n"
     ]
    }
   ],
   "source": [
    "# Data used for follow-up durring training\n",
    "mytext = \"<sos> given that we represent the target output as $y\\in\\{0,1\\}$ and we have $n$ training points , we can write the negative log likelihood of the parameters as follows: <eos>\"\n",
    "ground = \"<sos> as ons die teikenuittree voorstel as $y\\in\\{0,1\\}$ en ons $n$ afrigpunte het , dan kan ons die negatiewe log-waarskynlikheidskostefunksie skryf as: <eos>\"\n",
    "\n",
    "predicted = translator.translate_sentence(mytext)\n",
    "bleu = sentence_bleu(prediction=[predicted], reference=[ground])\n",
    "print(f\"Pred: {predicted}\")\n",
    "print(f\"Refe: {ground}\")\n",
    "print(f\"BLEU SCORES: {bleu}\")"
   ]
  },
  {
   "cell_type": "markdown",
   "id": "2ed66bc3",
   "metadata": {},
   "source": [
    "## Train the data"
   ]
  },
  {
   "cell_type": "code",
   "execution_count": 7,
   "id": "7b2790009f0b8f40",
   "metadata": {
    "ExecuteTime": {
     "end_time": "2024-07-18T19:07:23.076434Z",
     "start_time": "2024-07-18T19:04:39.787086Z"
    }
   },
   "outputs": [
    {
     "name": "stderr",
     "output_type": "stream",
     "text": [
      "Epoch 1/20: 100%|██████████| 20/20 [00:08<00:00,  2.43batch/s, loss=1.777]\n"
     ]
    },
    {
     "name": "stdout",
     "output_type": "stream",
     "text": [
      "Predicted: <sos> ek het 'n 'n <eos>\n",
      "BLEU Score: [0.039, 0.031, 0.023, 0.0]\n"
     ]
    },
    {
     "name": "stderr",
     "output_type": "stream",
     "text": [
      "Epoch 2/20: 100%|██████████| 20/20 [00:08<00:00,  2.42batch/s, loss=1.586]\n"
     ]
    },
    {
     "name": "stdout",
     "output_type": "stream",
     "text": [
      "Predicted: <sos> ek het nie <eos>\n",
      "BLEU Score: [0.028, 0.022, 0.017, 0.0]\n"
     ]
    },
    {
     "name": "stderr",
     "output_type": "stream",
     "text": [
      "Epoch 3/20: 100%|██████████| 20/20 [00:08<00:00,  2.45batch/s, loss=1.490]\n"
     ]
    },
    {
     "name": "stdout",
     "output_type": "stream",
     "text": [
      "Predicted: <sos> ek is nie <eos>\n",
      "BLEU Score: [0.024, 0.021, 0.016, 0.0]\n"
     ]
    },
    {
     "name": "stderr",
     "output_type": "stream",
     "text": [
      "Epoch 4/20: 100%|██████████| 20/20 [00:08<00:00,  2.42batch/s, loss=1.455]\n"
     ]
    },
    {
     "name": "stdout",
     "output_type": "stream",
     "text": [
      "Predicted: <sos> die volgende is die stelsel van die volgende <eos>\n",
      "BLEU Score: [0.096, 0.07, 0.052, 0.0]\n"
     ]
    },
    {
     "name": "stderr",
     "output_type": "stream",
     "text": [
      "Epoch 5/20: 100%|██████████| 20/20 [00:08<00:00,  2.43batch/s, loss=1.375]\n"
     ]
    },
    {
     "name": "stdout",
     "output_type": "stream",
     "text": [
      "Predicted: <sos> die sein $x(t)$ word deur die volgende van die volgende van die volgende van die volgende <eos>\n",
      "BLEU Score: [0.237, 0.153, 0.106, 0.0]\n"
     ]
    },
    {
     "name": "stderr",
     "output_type": "stream",
     "text": [
      "Epoch 6/20: 100%|██████████| 20/20 [00:07<00:00,  2.50batch/s, loss=1.285]\n"
     ]
    },
    {
     "name": "stdout",
     "output_type": "stream",
     "text": [
      "Predicted: <sos> die volgende sein van die volgende sein $x[n]$ : <eos>\n",
      "BLEU Score: [0.232, 0.154, 0.115, 0.077]\n"
     ]
    },
    {
     "name": "stderr",
     "output_type": "stream",
     "text": [
      "Epoch 7/20: 100%|██████████| 20/20 [00:08<00:00,  2.45batch/s, loss=1.226]\n"
     ]
    },
    {
     "name": "stdout",
     "output_type": "stream",
     "text": [
      "Predicted: <sos> die volgende sein $x(t)$ word deur 'n faktor omsetter met 'n laagdeurlaatfilter van 'n syfer-na-analoog omsetter (dac) met 'n syfer-na-analoog omsetter (dac) met 'n syfer-na-analoog omsetter (dac) <eos>\n",
      "BLEU Score: [0.205, 0.138, 0.097, 0.0]\n"
     ]
    },
    {
     "name": "stderr",
     "output_type": "stream",
     "text": [
      "Epoch 8/20: 100%|██████████| 20/20 [00:08<00:00,  2.45batch/s, loss=1.121]\n"
     ]
    },
    {
     "name": "stdout",
     "output_type": "stream",
     "text": [
      "Predicted: <sos> die volgende sein word word deur 'n analoog-na-syfer omsetter (adc) teen 'n monsterfrekwensie van $f_s=5$ khz , en die gemiddeld , en die gemiddeld van die gemiddeld <eos>\n",
      "BLEU Score: [0.293, 0.171, 0.114, 0.0]\n"
     ]
    },
    {
     "name": "stderr",
     "output_type": "stream",
     "text": [
      "Epoch 9/20: 100%|██████████| 20/20 [00:07<00:00,  2.70batch/s, loss=1.047]\n"
     ]
    },
    {
     "name": "stdout",
     "output_type": "stream",
     "text": [
      "Predicted: <sos> die volgende sein word word deur 'n analoog-na-syfer te maak van die berekeningspoed , met 'n faktor van 'n syfer-na-analoog -punt (dac) , met 'n faktor van 'n syfer-na-analoog <eos>\n",
      "BLEU Score: [0.23, 0.156, 0.11, 0.0]\n"
     ]
    },
    {
     "name": "stderr",
     "output_type": "stream",
     "text": [
      "Epoch 10/20: 100%|██████████| 20/20 [00:07<00:00,  2.66batch/s, loss=0.976]\n"
     ]
    },
    {
     "name": "stdout",
     "output_type": "stream",
     "text": [
      "Predicted: <sos> die sein $x(t)$ word 'n faktor met 'n faktor met 'n faktor van 2 khz , en die derde in die spektrale frekwensie-ruimte <eos>\n",
      "BLEU Score: [0.33, 0.186, 0.123, 0.0]\n"
     ]
    },
    {
     "name": "stderr",
     "output_type": "stream",
     "text": [
      "Epoch 11/20: 100%|██████████| 20/20 [00:07<00:00,  2.69batch/s, loss=0.864]\n"
     ]
    },
    {
     "name": "stdout",
     "output_type": "stream",
     "text": [
      "Predicted: <sos> ons het 'n datastel met vyf kenmerke , $x_1$ = matriek gemiddeld , $x_2$ = ik geslag , $x_3$ = geslag (1 vir vroulik en 0 vir manlik) <eos>\n",
      "BLEU Score: [0.292, 0.158, 0.103, 0.0]\n"
     ]
    },
    {
     "name": "stderr",
     "output_type": "stream",
     "text": [
      "Epoch 12/20: 100%|██████████| 20/20 [00:07<00:00,  2.70batch/s, loss=0.831]\n"
     ]
    },
    {
     "name": "stdout",
     "output_type": "stream",
     "text": [
      "Predicted: <sos> veronderstel ons het 'n datastel met vyf kenmerke , $x_1$ = matriek gemiddeld , $x_2$ = ik toetspunt , $x_3$ = geslag (1 vir vroulik en 0 vir manlik) , $x_4=x_1\\cdotx_2$ , en $x_5=x_1\\cdotx_3$ <eos>\n",
      "BLEU Score: [0.205, 0.103, 0.065, 0.0]\n"
     ]
    },
    {
     "name": "stderr",
     "output_type": "stream",
     "text": [
      "Epoch 13/20: 100%|██████████| 20/20 [00:07<00:00,  2.73batch/s, loss=0.741]\n"
     ]
    },
    {
     "name": "stdout",
     "output_type": "stream",
     "text": [
      "Predicted: <sos> ons wil 'n datastel met vyf kenmerke , $x_1$ = matriek gemiddeld , $x_2$ = ik toetspunt , $x_3$ = geslag (1 vir vroulik en 0 vir manlik) , $x_4=x_1\\cdotx_2$ , en $x_5=x_1\\cdotx_3$ <eos>\n",
      "BLEU Score: [0.195, 0.101, 0.065, 0.0]\n"
     ]
    },
    {
     "name": "stderr",
     "output_type": "stream",
     "text": [
      "Epoch 14/20: 100%|██████████| 20/20 [00:07<00:00,  2.70batch/s, loss=0.668]\n"
     ]
    },
    {
     "name": "stdout",
     "output_type": "stream",
     "text": [
      "Predicted: <sos> veronderstel ons het die volgende datastel : <eos>\n",
      "BLEU Score: [0.104, 0.077, 0.06, 0.041]\n"
     ]
    },
    {
     "name": "stderr",
     "output_type": "stream",
     "text": [
      "Epoch 15/20: 100%|██████████| 20/20 [00:07<00:00,  2.69batch/s, loss=0.598]\n"
     ]
    },
    {
     "name": "stdout",
     "output_type": "stream",
     "text": [
      "Predicted: <sos> as ons die teikenuittree voorstel as $y\\in\\{0,1\\}$ en ons $n$ afrigpunte het , dan kan ons die negatiewe log-waarskynlikheidskostefunksie skryf as : <eos>\n",
      "BLEU Score: [1.0, 1.0, 1.0, 1.0]\n"
     ]
    },
    {
     "name": "stderr",
     "output_type": "stream",
     "text": [
      "Epoch 16/20: 100%|██████████| 20/20 [00:07<00:00,  2.77batch/s, loss=0.556]\n"
     ]
    },
    {
     "name": "stdout",
     "output_type": "stream",
     "text": [
      "Predicted: <sos> as ons die teikenuittree voorstel as $y\\in\\{0,1\\}$ en ons $n$ afrigpunte het , dan kan ons die negatiewe log-waarskynlikheidskostefunksie skryf as : <eos>\n",
      "BLEU Score: [1.0, 1.0, 1.0, 1.0]\n"
     ]
    },
    {
     "name": "stderr",
     "output_type": "stream",
     "text": [
      "Epoch 17/20: 100%|██████████| 20/20 [00:07<00:00,  2.79batch/s, loss=0.487]\n"
     ]
    },
    {
     "name": "stdout",
     "output_type": "stream",
     "text": [
      "Predicted: <sos> as ons die teikenuittree voorstel as $y\\in\\{0,1\\}$ en ons $n$ afrigpunte het , dan kan ons die negatiewe log-waarskynlikheidskostefunksie skryf as : <eos>\n",
      "BLEU Score: [1.0, 1.0, 1.0, 1.0]\n"
     ]
    },
    {
     "name": "stderr",
     "output_type": "stream",
     "text": [
      "Epoch 18/20: 100%|██████████| 20/20 [00:07<00:00,  2.79batch/s, loss=0.437]\n"
     ]
    },
    {
     "name": "stdout",
     "output_type": "stream",
     "text": [
      "Predicted: <sos> as ons die teikenuittree voorstel as $y\\in\\{0,1\\}$ en ons $n$ afrigpunte het , dan kan ons die negatiewe log-waarskynlikheidskostefunksie skryf as : <eos>\n",
      "BLEU Score: [1.0, 1.0, 1.0, 1.0]\n"
     ]
    },
    {
     "name": "stderr",
     "output_type": "stream",
     "text": [
      "Epoch 19/20: 100%|██████████| 20/20 [00:07<00:00,  2.77batch/s, loss=0.410]\n"
     ]
    },
    {
     "name": "stdout",
     "output_type": "stream",
     "text": [
      "Predicted: <sos> as ons die data hier bo op hierdie manier verwerk , sal dit nie beteken dat vir elk van die drie klasse al die data rondom die oorsprong sal l\\^{e} met eenheidsvariansie nie <eos>\n",
      "BLEU Score: [0.318, 0.228, 0.183, 0.146]\n"
     ]
    },
    {
     "name": "stderr",
     "output_type": "stream",
     "text": [
      "Epoch 20/20: 100%|██████████| 20/20 [00:07<00:00,  2.72batch/s, loss=0.381]\n"
     ]
    },
    {
     "name": "stdout",
     "output_type": "stream",
     "text": [
      "Predicted: <sos> as ons die teikenuittree voorstel as $y\\in\\{0,1\\}$ en ons $n$ afrigpunte het , dan kan ons die negatiewe log-waarskynlikheidskostefunksie skryf as : <eos>\n",
      "BLEU Score: [1.0, 1.0, 1.0, 1.0]\n"
     ]
    }
   ],
   "source": [
    "EPOCHS = 20\n",
    "params = {\n",
    "    \"model\": model,\n",
    "    \"train_loader\": train_loader,\n",
    "    \"optimizer\": optimizer,\n",
    "    \"criterion\": criterion,\n",
    "    \"device\": device,\n",
    "    \"epochs\": EPOCHS,\n",
    "    \"source_test\": mytext,\n",
    "    \"reference\": ground,\n",
    "\t\"translator\":translator\n",
    "}\n",
    "\n",
    "train_loss = train_model(**params)\n",
    "np.save('lstm_train_loss.npy', np.array(train_loss))"
   ]
  },
  {
   "cell_type": "markdown",
   "id": "91aaabc86799a94c",
   "metadata": {},
   "source": [
    "## Evaluate on the training set"
   ]
  },
  {
   "cell_type": "code",
   "execution_count": 8,
   "id": "fa7bb792",
   "metadata": {
    "ExecuteTime": {
     "end_time": "2024-07-18T19:07:56.934366Z",
     "start_time": "2024-07-18T19:07:23.077731Z"
    }
   },
   "outputs": [
    {
     "name": "stdout",
     "output_type": "stream",
     "text": [
      "                                     BLEU-1                                     \n",
      "------------------------------------------------------------------------------------------\n",
      "bleu                : 0.6615589962626802\n",
      "precisions          : [0.6615589962626802]\n",
      "brevity_penalty     : 1.0\n",
      "length_ratio        : 1.0146811853296496\n",
      "translation_length  : 37460\n",
      "reference_length    : 36918\n",
      "******************************************************************************************\n",
      "                                     BLEU-2                                     \n",
      "------------------------------------------------------------------------------------------\n",
      "bleu                : 0.5829844332544669\n",
      "precisions          : [0.6615589962626802, 0.5137423137423137]\n",
      "brevity_penalty     : 1.0\n",
      "length_ratio        : 1.0146811853296496\n",
      "translation_length  : 37460\n",
      "reference_length    : 36918\n",
      "******************************************************************************************\n",
      "                                     BLEU-3                                     \n",
      "------------------------------------------------------------------------------------------\n",
      "bleu                : 0.5147843568425196\n",
      "precisions          : [0.6615589962626802, 0.5137423137423137, 0.4013858946720049]\n",
      "brevity_penalty     : 1.0\n",
      "length_ratio        : 1.0146811853296496\n",
      "translation_length  : 37460\n",
      "reference_length    : 36918\n",
      "******************************************************************************************\n",
      "                                     BLEU-4                                     \n",
      "------------------------------------------------------------------------------------------\n",
      "bleu                : 0.44060548989220527\n",
      "precisions          : [0.6615589962626802, 0.5137423137423137, 0.4013858946720049, 0.2762635529608007]\n",
      "brevity_penalty     : 1.0\n",
      "length_ratio        : 1.0146811853296496\n",
      "translation_length  : 37460\n",
      "reference_length    : 36918\n",
      "******************************************************************************************\n"
     ]
    }
   ],
   "source": [
    "EN_SRC = [' '.join(sent) for sent in english_data.data_str]\n",
    "AF_REF = [[' '.join(sent)] for sent in afrikaans_data.data_str]\n",
    "TRANSLATED = [translator.translate_sentence(sent) for sent in EN_SRC]\n",
    "corpus_bleu(TRANSLATED, AF_REF)"
   ]
  },
  {
   "cell_type": "markdown",
   "id": "9d47db1aa41c1091",
   "metadata": {},
   "source": [
    "## Evaluate on the validation set"
   ]
  },
  {
   "cell_type": "code",
   "execution_count": 9,
   "id": "4d82ad19d8fc56be",
   "metadata": {
    "ExecuteTime": {
     "end_time": "2024-07-18T19:07:56.939159Z",
     "start_time": "2024-07-18T19:07:56.935245Z"
    }
   },
   "outputs": [],
   "source": [
    "with open(f\"{config.VAL_DATA}/english.txt\") as data:\n",
    "    english_val = data.read().strip().split(\"\\n\")\n",
    "with open(f\"{config.VAL_DATA}/afrikaans.txt\") as data:\n",
    "    afrikaans_val = data.read().strip().split(\"\\n\")"
   ]
  },
  {
   "cell_type": "markdown",
   "id": "fd32b91fdf8c5c6",
   "metadata": {},
   "source": [
    "### Greedy Search"
   ]
  },
  {
   "cell_type": "code",
   "execution_count": 10,
   "id": "89cb5dac",
   "metadata": {
    "ExecuteTime": {
     "end_time": "2024-07-18T19:08:11.462728Z",
     "start_time": "2024-07-18T19:07:56.941169Z"
    }
   },
   "outputs": [
    {
     "name": "stdout",
     "output_type": "stream",
     "text": [
      "                                     BLEU-1                                     \n",
      "------------------------------------------------------------------------------------------\n",
      "bleu                : 0.5688924218335983\n",
      "precisions          : [0.5688924218335983]\n",
      "brevity_penalty     : 1.0\n",
      "length_ratio        : 1.0338309820572524\n",
      "translation_length  : 15096\n",
      "reference_length    : 14602\n",
      "******************************************************************************************\n",
      "                                     BLEU-2                                     \n",
      "------------------------------------------------------------------------------------------\n",
      "bleu                : 0.47534438680868857\n",
      "precisions          : [0.5688924218335983, 0.39717928627395116]\n",
      "brevity_penalty     : 1.0\n",
      "length_ratio        : 1.0338309820572524\n",
      "translation_length  : 15096\n",
      "reference_length    : 14602\n",
      "******************************************************************************************\n",
      "                                     BLEU-3                                     \n",
      "------------------------------------------------------------------------------------------\n",
      "bleu                : 0.3894212664599585\n",
      "precisions          : [0.5688924218335983, 0.39717928627395116, 0.2613618856878755]\n",
      "brevity_penalty     : 1.0\n",
      "length_ratio        : 1.0338309820572524\n",
      "translation_length  : 15096\n",
      "reference_length    : 14602\n",
      "******************************************************************************************\n",
      "                                     BLEU-4                                     \n",
      "------------------------------------------------------------------------------------------\n",
      "bleu                : 0.2821646762047596\n",
      "precisions          : [0.5688924218335983, 0.39717928627395116, 0.2613618856878755, 0.10733752620545073]\n",
      "brevity_penalty     : 1.0\n",
      "length_ratio        : 1.0338309820572524\n",
      "translation_length  : 15096\n",
      "reference_length    : 14602\n",
      "******************************************************************************************\n"
     ]
    }
   ],
   "source": [
    "VAL_AF_REF = [[sent] for sent in afrikaans_val]\n",
    "\n",
    "VAL_TRANSLATED = [translator.translate_sentence(sent) for sent in english_val]\n",
    "\n",
    "corpus_bleu(VAL_TRANSLATED, VAL_AF_REF)"
   ]
  },
  {
   "cell_type": "markdown",
   "id": "3f18bd5444c754d1",
   "metadata": {},
   "source": [
    "### Beam Search"
   ]
  },
  {
   "cell_type": "code",
   "execution_count": 11,
   "id": "8d4385cd",
   "metadata": {
    "ExecuteTime": {
     "end_time": "2024-07-18T19:09:44.402348Z",
     "start_time": "2024-07-18T19:08:11.463759Z"
    }
   },
   "outputs": [
    {
     "name": "stdout",
     "output_type": "stream",
     "text": [
      "                                     BLEU-1                                     \n",
      "------------------------------------------------------------------------------------------\n",
      "bleu                : 0.5011631964638827\n",
      "precisions          : [0.5011631964638827]\n",
      "brevity_penalty     : 1.0\n",
      "length_ratio        : 1.1775099301465553\n",
      "translation_length  : 17194\n",
      "reference_length    : 14602\n",
      "******************************************************************************************\n",
      "                                     BLEU-2                                     \n",
      "------------------------------------------------------------------------------------------\n",
      "bleu                : 0.4165130868062826\n",
      "precisions          : [0.5011631964638827, 0.34616099646774495]\n",
      "brevity_penalty     : 1.0\n",
      "length_ratio        : 1.1775099301465553\n",
      "translation_length  : 17194\n",
      "reference_length    : 14602\n",
      "******************************************************************************************\n",
      "                                     BLEU-3                                     \n",
      "------------------------------------------------------------------------------------------\n",
      "bleu                : 0.33951848440110544\n",
      "precisions          : [0.5011631964638827, 0.34616099646774495, 0.22559681697612732]\n",
      "brevity_penalty     : 1.0\n",
      "length_ratio        : 1.1775099301465553\n",
      "translation_length  : 17194\n",
      "reference_length    : 14602\n",
      "******************************************************************************************\n",
      "                                     BLEU-4                                     \n",
      "------------------------------------------------------------------------------------------\n",
      "bleu                : 0.24485912877412908\n",
      "precisions          : [0.5011631964638827, 0.34616099646774495, 0.22559681697612732, 0.09184910504171719]\n",
      "brevity_penalty     : 1.0\n",
      "length_ratio        : 1.1775099301465553\n",
      "translation_length  : 17194\n",
      "reference_length    : 14602\n",
      "******************************************************************************************\n"
     ]
    }
   ],
   "source": [
    "VAL_TRANSLATED = [translator.translate_sentence(sent, method=\"beam\", beam_width=3) for sent in english_val]\n",
    "\n",
    "corpus_bleu(VAL_TRANSLATED, VAL_AF_REF)"
   ]
  },
  {
   "cell_type": "markdown",
   "id": "27834f3ae3a89f66",
   "metadata": {},
   "source": [
    "## Evaluate on the SUN validation set only"
   ]
  },
  {
   "cell_type": "code",
   "execution_count": 12,
   "id": "6766388f",
   "metadata": {
    "ExecuteTime": {
     "end_time": "2024-07-18T19:09:44.407304Z",
     "start_time": "2024-07-18T19:09:44.403235Z"
    }
   },
   "outputs": [],
   "source": [
    "with open(f\"{config.VAL_DATA}/sun_english.txt\") as data:\n",
    "    sun_english_val = data.read().strip().split(\"\\n\")\n",
    "with open(f\"{config.VAL_DATA}/sun_afrikaans.txt\") as data:\n",
    "    sun_afrikaans_val = data.read().strip().split(\"\\n\")"
   ]
  },
  {
   "cell_type": "markdown",
   "id": "9db87678773aca71",
   "metadata": {},
   "source": [
    "### Greedy search"
   ]
  },
  {
   "cell_type": "code",
   "execution_count": 13,
   "id": "b7ce7834463978ee",
   "metadata": {
    "ExecuteTime": {
     "end_time": "2024-07-18T19:09:49.745146Z",
     "start_time": "2024-07-18T19:09:44.408136Z"
    }
   },
   "outputs": [
    {
     "name": "stdout",
     "output_type": "stream",
     "text": [
      "                                     BLEU-1                                     \n",
      "------------------------------------------------------------------------------------------\n",
      "bleu                : 0.35993597072947625\n",
      "precisions          : [0.3599359707294763]\n",
      "brevity_penalty     : 1.0\n",
      "length_ratio        : 1.1465652857891977\n",
      "translation_length  : 4373\n",
      "reference_length    : 3814\n",
      "******************************************************************************************\n",
      "                                     BLEU-2                                     \n",
      "------------------------------------------------------------------------------------------\n",
      "bleu                : 0.27034514516871405\n",
      "precisions          : [0.3599359707294763, 0.20305416368408494]\n",
      "brevity_penalty     : 1.0\n",
      "length_ratio        : 1.1465652857891977\n",
      "translation_length  : 4373\n",
      "reference_length    : 3814\n",
      "******************************************************************************************\n",
      "                                     BLEU-3                                     \n",
      "------------------------------------------------------------------------------------------\n",
      "bleu                : 0.203460928966677\n",
      "precisions          : [0.3599359707294763, 0.20305416368408494, 0.1152407084060863]\n",
      "brevity_penalty     : 1.0\n",
      "length_ratio        : 1.1465652857891977\n",
      "translation_length  : 4373\n",
      "reference_length    : 3814\n",
      "******************************************************************************************\n",
      "                                     BLEU-4                                     \n",
      "------------------------------------------------------------------------------------------\n",
      "bleu                : 0.12087572315390488\n",
      "precisions          : [0.3599359707294763, 0.20305416368408494, 0.1152407084060863, 0.025346224196498564]\n",
      "brevity_penalty     : 1.0\n",
      "length_ratio        : 1.1465652857891977\n",
      "translation_length  : 4373\n",
      "reference_length    : 3814\n",
      "******************************************************************************************\n"
     ]
    }
   ],
   "source": [
    "SUN_VAL_AF = [[sent] for sent in sun_afrikaans_val]\n",
    "SUN_VAL_TRANSLATED = [translator.translate_sentence(sent) for sent in sun_english_val]\n",
    "corpus_bleu(SUN_VAL_TRANSLATED, SUN_VAL_AF)"
   ]
  },
  {
   "cell_type": "markdown",
   "id": "ed00277e9b72cdd7",
   "metadata": {},
   "source": [
    "### Beam search"
   ]
  },
  {
   "cell_type": "code",
   "execution_count": 14,
   "id": "55ecf0e0",
   "metadata": {
    "ExecuteTime": {
     "end_time": "2024-07-18T19:10:17.435010Z",
     "start_time": "2024-07-18T19:09:49.746113Z"
    }
   },
   "outputs": [
    {
     "name": "stdout",
     "output_type": "stream",
     "text": [
      "                                     BLEU-1                                     \n",
      "------------------------------------------------------------------------------------------\n",
      "bleu                : 0.30831363278171786\n",
      "precisions          : [0.30831363278171786]\n",
      "brevity_penalty     : 1.0\n",
      "length_ratio        : 1.330886208704772\n",
      "translation_length  : 5076\n",
      "reference_length    : 3814\n",
      "******************************************************************************************\n",
      "                                     BLEU-2                                     \n",
      "------------------------------------------------------------------------------------------\n",
      "bleu                : 0.2282533375158917\n",
      "precisions          : [0.30831363278171786, 0.1689824274621986]\n",
      "brevity_penalty     : 1.0\n",
      "length_ratio        : 1.330886208704772\n",
      "translation_length  : 5076\n",
      "reference_length    : 3814\n",
      "******************************************************************************************\n",
      "                                     BLEU-3                                     \n",
      "------------------------------------------------------------------------------------------\n",
      "bleu                : 0.16970074680231095\n",
      "precisions          : [0.30831363278171786, 0.1689824274621986, 0.09380305602716468]\n",
      "brevity_penalty     : 1.0\n",
      "length_ratio        : 1.330886208704772\n",
      "translation_length  : 5076\n",
      "reference_length    : 3814\n",
      "******************************************************************************************\n",
      "                                     BLEU-4                                     \n",
      "------------------------------------------------------------------------------------------\n",
      "bleu                : 0.09577715121928773\n",
      "precisions          : [0.30831363278171786, 0.1689824274621986, 0.09380305602716468, 0.017218543046357615]\n",
      "brevity_penalty     : 1.0\n",
      "length_ratio        : 1.330886208704772\n",
      "translation_length  : 5076\n",
      "reference_length    : 3814\n",
      "******************************************************************************************\n"
     ]
    }
   ],
   "source": [
    "SUN_VAL_TRANSLATED = [translator.translate_sentence(sent, method=\"beam\", beam_width=3) for sent in sun_english_val]\n",
    "corpus_bleu(SUN_VAL_TRANSLATED, SUN_VAL_AF)"
   ]
  },
  {
   "cell_type": "code",
   "execution_count": 15,
   "id": "adc366ac",
   "metadata": {},
   "outputs": [
    {
     "name": "stdout",
     "output_type": "stream",
     "text": [
      "Source    : <sos> component <eos>\n",
      "Prediction: <sos> vir my rekenaar <eos>\n",
      "Label     : <sos> komponent <eos>\n",
      "BLEU      : 0.0\n",
      "\n",
      "Source    : <sos> architecture <eos>\n",
      "Prediction: <sos> vir my rekenaar <eos>\n",
      "Label     : <sos> argitektuur <eos>\n",
      "BLEU      : 0.0\n",
      "\n",
      "Source    : <sos> specification <eos>\n",
      "Prediction: <sos> vir my rekenaar <eos>\n",
      "Label     : <sos> spesifikasies <eos>\n",
      "BLEU      : 0.0\n",
      "\n",
      "Source    : <sos> at which stage of the design process would we choose the communication protocol between subsystems <eos>\n",
      "Prediction: <sos> as spar die musiek wil speel teen $1.1$ keer die spoed van die oorspronklike musiek , watter waardes sal jy vir $l_1$ en $l_2$ aanbeveel <eos>\n",
      "Label     : <sos> by watter stap van die ontwerpsproses word die kommunikasie-kanaal tussen substelsels gekies <eos>\n",
      "BLEU      : 0.0\n",
      "\n",
      "Source    : <sos> motivate your answer <eos>\n",
      "Prediction: <sos> motiveer jou antwoorde <eos>\n",
      "Label     : <sos> motiveer jou antwoord <eos>\n",
      "BLEU      : 0.5969491792019646\n",
      "\n",
      "Source    : <sos> describe the meaning if a system is described as a cyber-physical system <eos>\n",
      "Prediction: <sos> vir 'n vaste waarde van ik en matriek gemiddeld , verdien mans meer as vrouens in die gemiddeld <eos>\n",
      "Label     : <sos> wat is die betekenis as 'n stelsel beskryf word as 'n kuber-fisiese stelsel <eos>\n",
      "BLEU      : 0.0\n",
      "\n",
      "Source    : <sos> extract four requirements of a standard cansat mission by using the description below : <eos>\n",
      "Prediction: <sos> vir 'n vaste waarde van ik en matriek gemiddeld , verdien vrouens meer as mans in die gemiddeld <eos>\n",
      "Label     : <sos> ontrek vier vereistes van 'n standaard cansat missie deur gebruik te maak van die onderstaande beskrywing : <eos>\n",
      "BLEU      : 0.0\n",
      "\n",
      "Source    : <sos> the cansat will be built by the final year cs414 class <eos>\n",
      "Prediction: <sos> die intreesein $x(t)$ word gediskretiseer deur 'n analoog-na-syfer omsetter (adc) teen 'n monsterfrekwensie van $f_s=44.1$ khz <eos>\n",
      "Label     : <sos> die cansat word gebou deur die finale jaar rs414 klas <eos>\n",
      "BLEU      : 0.10180772252352548\n",
      "\n",
      "Source    : <sos> the cansat is launched from a rocket and its mission time must be maximised <eos>\n",
      "Prediction: <sos> die monstertempo van die dac is 5 khz , en alle filters kan as ideaal beskou word <eos>\n",
      "Label     : <sos> die cansat word gelanseer deur 'n vuurpyl en die missie moet so lank duur as moontlik <eos>\n",
      "BLEU      : 0.16692486522015718\n",
      "\n",
      "Source    : <sos> a ground station will receive the necessary information to track the movement of the cansat <eos>\n",
      "Prediction: <sos> 'n navorsingsgroep by jou universiteit ontwikkel 'n klassifiseerder wat 'n klankgreep inneem van iemand wat hoes en dan voorspel of die persoon \n",
      "Label     : <sos> 'n grondstasie sal die nodige inligting ontvang om die beweging van die cansat te bepaal <eos>\n",
      "BLEU      : 0.11183447695967942\n",
      "\n"
     ]
    }
   ],
   "source": [
    "metric = evaluate.load(\"bleu\")\n",
    "predictions = [translator.translate_sentence(sent, method=\"beam\", beam_width=5) for sent in sun_english_val[10:20]]\n",
    "labels = SUN_VAL_AF[10:20]\n",
    "for source, pred, lab in zip(sun_english_val[10:20],predictions, labels):\n",
    "    print(f\"Source    : {source}\")\n",
    "    print(f\"Prediction: {pred[:150]}\")\n",
    "    print(f\"Label     : {lab[0][:150]}\")\n",
    "    print(f\"BLEU      : {metric.compute(predictions=[pred], references=lab)['bleu']}\")\n",
    "    print()"
   ]
  }
 ],
 "metadata": {
  "kernelspec": {
   "display_name": "Python 3 (ipykernel)",
   "language": "python",
   "name": "python3"
  },
  "language_info": {
   "codemirror_mode": {
    "name": "ipython",
    "version": 3
   },
   "file_extension": ".py",
   "mimetype": "text/x-python",
   "name": "python",
   "nbconvert_exporter": "python",
   "pygments_lexer": "ipython3",
   "version": "3.10.14"
  }
 },
 "nbformat": 4,
 "nbformat_minor": 5
}
