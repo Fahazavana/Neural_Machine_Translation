{
 "cells": [
  {
   "cell_type": "markdown",
   "id": "88716432",
   "metadata": {},
   "source": [
    "# NEURAL MACHINE TRANSLATION - LSTM"
   ]
  },
  {
   "cell_type": "markdown",
   "id": "5fb4bb18",
   "metadata": {},
   "source": [
    "## Required Module & Config files"
   ]
  },
  {
   "cell_type": "code",
   "execution_count": 1,
   "id": "a89bf9e4-311d-4af8-846b-ccfcb9e940b2",
   "metadata": {
    "ExecuteTime": {
     "end_time": "2024-07-18T19:04:37.839191Z",
     "start_time": "2024-07-18T19:04:34.414188Z"
    }
   },
   "outputs": [
    {
     "name": "stderr",
     "output_type": "stream",
     "text": [
      "Using the latest cached version of the module from /Users/lucien/.cache/huggingface/modules/evaluate_modules/metrics/evaluate-metric--bleu/9e0985c1200e367cce45605ce0ecb5ede079894e0f24f54613fca08eeb8aff76 (last modified on Thu Jul 18 16:29:52 2024) since it couldn't be found locally at evaluate-metric--bleu, or remotely on the Hugging Face Hub.\n"
     ]
    },
    {
     "name": "stdout",
     "output_type": "stream",
     "text": [
      "Using device: mps\n"
     ]
    }
   ],
   "source": [
    "import src.LSTM as lstmNMT\n",
    "from src.Tokenizer import Corpus, LangData, dataLoader\n",
    "from src.utils import load_config, get_device, train_model, sentence_bleu, corpus_bleu\n",
    "from src.Translator import Translator\n",
    "from torch.nn import CrossEntropyLoss\n",
    "from torch.optim import NAdam\n",
    "import evaluate\n",
    "import numpy as np\n",
    "from torchinfo import summary\n",
    "\n",
    "# Loading config file\n",
    "config = load_config()\n",
    "# Get device : GPU/MPS Back-End/CPU\n",
    "device = get_device()\n",
    "print(f\"Using device: {device}\")"
   ]
  },
  {
   "cell_type": "markdown",
   "id": "76325a3f",
   "metadata": {},
   "source": [
    "## Load the dataset"
   ]
  },
  {
   "cell_type": "code",
   "execution_count": 2,
   "id": "083f4d8c",
   "metadata": {
    "ExecuteTime": {
     "end_time": "2024-07-18T19:04:37.857877Z",
     "start_time": "2024-07-18T19:04:37.840672Z"
    }
   },
   "outputs": [],
   "source": [
    "# Encoder-Source\n",
    "english_data = Corpus(f\"{config.TRAIN_DATA}/english.txt\", \"English\")\n",
    "afrikaans_data = Corpus(f\"{config.TRAIN_DATA}/afrikaans.txt\", \"Afrikaans\")"
   ]
  },
  {
   "cell_type": "markdown",
   "id": "0142f911",
   "metadata": {},
   "source": [
    "## Set Hyperparameters"
   ]
  },
  {
   "cell_type": "code",
   "execution_count": 3,
   "id": "d5ff35e0",
   "metadata": {
    "ExecuteTime": {
     "end_time": "2024-07-18T19:04:37.860952Z",
     "start_time": "2024-07-18T19:04:37.858762Z"
    }
   },
   "outputs": [],
   "source": [
    "# Encoder - source\n",
    "IN_ENCODER = english_data.vocab_size\n",
    "ENCODER_EMB = 256\n",
    "\n",
    "# Decoder - target\n",
    "IN_DECODER = afrikaans_data.vocab_size\n",
    "OUT_DECODER = afrikaans_data.vocab_size\n",
    "DECODER_EMB = 256\n",
    "\n",
    "# Shared\n",
    "HIDDEN_SIZE = 1024\n",
    "NUM_LAYERS = 2\n",
    "\n",
    "LR = 1e-3\n",
    "BATCH_SIZE = 128"
   ]
  },
  {
   "cell_type": "markdown",
   "id": "da759f25",
   "metadata": {},
   "source": [
    "## Set the model"
   ]
  },
  {
   "cell_type": "code",
   "execution_count": 4,
   "id": "f04f2d2f",
   "metadata": {
    "ExecuteTime": {
     "end_time": "2024-07-18T19:04:38.257173Z",
     "start_time": "2024-07-18T19:04:37.862486Z"
    }
   },
   "outputs": [
    {
     "data": {
      "text/plain": [
       "=================================================================\n",
       "Layer (type:depth-idx)                   Param #\n",
       "=================================================================\n",
       "LSTM_NMT                                 --\n",
       "├─Encoder: 1-1                           --\n",
       "│    └─Embedding: 2-1                    744,448\n",
       "│    └─LSTM: 2-2                         13,647,872\n",
       "├─Decoder: 1-2                           --\n",
       "│    └─Embedding: 2-3                    737,280\n",
       "│    └─LSTM: 2-4                         13,647,872\n",
       "│    └─Linear: 2-5                       2,952,000\n",
       "=================================================================\n",
       "Total params: 31,729,472\n",
       "Trainable params: 31,729,472\n",
       "Non-trainable params: 0\n",
       "================================================================="
      ]
     },
     "execution_count": 4,
     "metadata": {},
     "output_type": "execute_result"
    }
   ],
   "source": [
    "encoder_net = lstmNMT.Encoder(IN_ENCODER, ENCODER_EMB, HIDDEN_SIZE, NUM_LAYERS).to(device)\n",
    "decoder_net = lstmNMT.Decoder(IN_DECODER, DECODER_EMB, HIDDEN_SIZE, NUM_LAYERS).to(device)\n",
    "model = lstmNMT.LSTM_NMT(encoder_net, decoder_net, OUT_DECODER)\n",
    "summary(model)"
   ]
  },
  {
   "cell_type": "code",
   "execution_count": 5,
   "id": "ee757771",
   "metadata": {
    "ExecuteTime": {
     "end_time": "2024-07-18T19:04:38.804276Z",
     "start_time": "2024-07-18T19:04:38.258305Z"
    }
   },
   "outputs": [],
   "source": [
    "train_data = LangData(english_data, afrikaans_data)\n",
    "train_loader = dataLoader(train_data, BATCH_SIZE)\n",
    "\n",
    "pad_idx = afrikaans_data.stoi['<pad>']\n",
    "criterion = CrossEntropyLoss(ignore_index=0)\n",
    "\n",
    "optimizer = NAdam(model.parameters(), LR)\n",
    "translator = Translator(model, english_data, afrikaans_data, device)"
   ]
  },
  {
   "cell_type": "code",
   "execution_count": 6,
   "id": "bcb89b48",
   "metadata": {
    "ExecuteTime": {
     "end_time": "2024-07-18T19:04:39.785848Z",
     "start_time": "2024-07-18T19:04:38.805169Z"
    }
   },
   "outputs": [
    {
     "name": "stdout",
     "output_type": "stream",
     "text": [
      "Pred: <sos> een een een verlangde liedjie liedjie klok optimaliseer een een een een suig $\\alpha$ $\\alpha$ $\\alpha$ stroom stroom stroom siklusse/monster siklusse/monster stroom siklusse/monster siklusse/monster stroom siklusse/monster siklusse/monster gepleeg diagonaalkovariansiese diagonaalkovariansiese $z^{-1}$ gek vanmiddag herhaal gemaak ‘n seuns stroom siklusse/monster siklusse/monster stroom siklusse/monster siklusse/monster siklusse/monster tevrede $0.25$ $0.25$ bin\\^ere een een haarself een haarself een verlangde verlangde verlangde iris verlangde liedjie een een $0.25$ een een suig $\\alpha$ $\\alpha$ oksitaanse imagin\\^{e}re verlangde verlangde liedjie liedjie optimaliseer een een een een suig $\\alpha$ $\\alpha$ $\\alpha$ gespasie\\\"{e}rde gespasie\\\"{e}rde gedra gedra gedra gek gek stroom stroom siklusse/monster siklusse/monster siklusse/monster stroom siklusse/monster siklusse/monster tevrede $0.25$ bin\\^ere een een haarself verlangde verlangde verlangde geleen verlangde been verlangde been verlangde been verlangde been 50 verlangde verlangde been verlangde been verlangde been 50 verlangde verlangde been verlangde been verlangde been 50 verlangde verlangde been verlangde been verlangde been 50 verlangde verlangde been verlangde been verlangde been 50 verlangde verlangde been verlangde been verlangde been 50 verlangde verlangde been verlangde been verlangde been 50 verlangde verlangde been verlangde been verlangde been 50 verlangde verlangde\n",
      "Refe: <sos> as ons die teikenuittree voorstel as $y\\in\\{0,1\\}$ en ons $n$ afrigpunte het , dan kan ons die negatiewe log-waarskynlikheidskostefunksie skryf as: <eos>\n",
      "BLEU SCORES: [0.044, 0.022, 0.012, 0.0]\n"
     ]
    }
   ],
   "source": [
    "# Data used for follow-up durring training\n",
    "mytext = \"<sos> given that we represent the target output as $y\\in\\{0,1\\}$ and we have $n$ training points , we can write the negative log likelihood of the parameters as follows: <eos>\"\n",
    "ground = \"<sos> as ons die teikenuittree voorstel as $y\\in\\{0,1\\}$ en ons $n$ afrigpunte het , dan kan ons die negatiewe log-waarskynlikheidskostefunksie skryf as: <eos>\"\n",
    "\n",
    "predicted = translator.translate_sentence(mytext)\n",
    "bleu = sentence_bleu(prediction=[predicted], reference=[ground])\n",
    "print(f\"Pred: {predicted}\")\n",
    "print(f\"Refe: {ground}\")\n",
    "print(f\"BLEU SCORES: {bleu}\")"
   ]
  },
  {
   "cell_type": "markdown",
   "id": "2ed66bc3",
   "metadata": {},
   "source": [
    "## Train the data"
   ]
  },
  {
   "cell_type": "code",
   "execution_count": 7,
   "id": "7b2790009f0b8f40",
   "metadata": {
    "ExecuteTime": {
     "end_time": "2024-07-18T19:07:23.076434Z",
     "start_time": "2024-07-18T19:04:39.787086Z"
    }
   },
   "outputs": [
    {
     "name": "stderr",
     "output_type": "stream",
     "text": [
      "Using the latest cached version of the module from /Users/lucien/.cache/huggingface/modules/evaluate_modules/metrics/evaluate-metric--bleu/9e0985c1200e367cce45605ce0ecb5ede079894e0f24f54613fca08eeb8aff76 (last modified on Thu Jul 18 16:29:52 2024) since it couldn't be found locally at evaluate-metric--bleu, or remotely on the Hugging Face Hub.\n",
      "Epoch 1/15: 100%|██████████| 20/20 [00:07<00:00,  2.53batch/s, loss=1.740]\n"
     ]
    },
    {
     "name": "stdout",
     "output_type": "stream",
     "text": [
      "Predicted: <sos> die die <eos>\n",
      "BLEU Score: [0.021, 0.016, 0.012, 0.0]\n"
     ]
    },
    {
     "name": "stderr",
     "output_type": "stream",
     "text": [
      "Epoch 2/15: 100%|██████████| 20/20 [00:07<00:00,  2.71batch/s, loss=1.562]\n"
     ]
    },
    {
     "name": "stdout",
     "output_type": "stream",
     "text": [
      "Predicted: <sos> die die van van die van die van <eos>\n",
      "BLEU Score: [0.096, 0.07, 0.052, 0.0]\n"
     ]
    },
    {
     "name": "stderr",
     "output_type": "stream",
     "text": [
      "Epoch 3/15: 100%|██████████| 20/20 [00:07<00:00,  2.69batch/s, loss=1.493]\n"
     ]
    },
    {
     "name": "stdout",
     "output_type": "stream",
     "text": [
      "Predicted: <sos> die volgende van die volgende van die volgende van die volgende van die volgende van die volgende van die volgende van die volgende van die volgende van die volgende van die volgende <eos>\n",
      "BLEU Score: [0.205, 0.147, 0.105, 0.0]\n"
     ]
    },
    {
     "name": "stderr",
     "output_type": "stream",
     "text": [
      "Epoch 4/15: 100%|██████████| 20/20 [00:07<00:00,  2.77batch/s, loss=1.410]\n"
     ]
    },
    {
     "name": "stdout",
     "output_type": "stream",
     "text": [
      "Predicted: <sos> die volgende sein met 'n volgende sein met 'n volgende sein met 'n faktor van 'n faktor <eos>\n",
      "BLEU Score: [0.152, 0.117, 0.087, 0.0]\n"
     ]
    },
    {
     "name": "stderr",
     "output_type": "stream",
     "text": [
      "Epoch 5/15: 100%|██████████| 20/20 [00:07<00:00,  2.65batch/s, loss=1.317]\n"
     ]
    },
    {
     "name": "stdout",
     "output_type": "stream",
     "text": [
      "Predicted: <sos> bepaal die volgende sein $x(t)$ word deur die volgende sein $x(t)$ word deur die volgende bladsy <eos>\n",
      "BLEU Score: [0.301, 0.177, 0.119, 0.0]\n"
     ]
    },
    {
     "name": "stderr",
     "output_type": "stream",
     "text": [
      "Epoch 6/15: 100%|██████████| 20/20 [00:07<00:00,  2.74batch/s, loss=1.201]\n"
     ]
    },
    {
     "name": "stdout",
     "output_type": "stream",
     "text": [
      "Predicted: <sos> die volgende $x(t)$ word deur 'n analoog-na-syfer van die volgende sein $x[n]$ , met 'n faktor -punt khz <eos>\n",
      "BLEU Score: [0.355, 0.193, 0.126, 0.0]\n"
     ]
    },
    {
     "name": "stderr",
     "output_type": "stream",
     "text": [
      "Epoch 7/15: 100%|██████████| 20/20 [00:07<00:00,  2.79batch/s, loss=1.115]\n"
     ]
    },
    {
     "name": "stdout",
     "output_type": "stream",
     "text": [
      "Predicted: <sos> die volgende sein $x(t)$ word deur 'n analoog-na-syfer sein $x[n]$ , met 'n faktor fft , en mans meer as mans in die gemiddeld <eos>\n",
      "BLEU Score: [0.425, 0.209, 0.132, 0.0]\n"
     ]
    },
    {
     "name": "stderr",
     "output_type": "stream",
     "text": [
      "Epoch 8/15: 100%|██████████| 20/20 [00:07<00:00,  2.80batch/s, loss=1.014]\n"
     ]
    },
    {
     "name": "stdout",
     "output_type": "stream",
     "text": [
      "Predicted: <sos> die volgende sein $x(t)$ word deur 'n analoog-na-syfer omsetter (adc) teen 'n monsterfrekwensie van $f_s=5$ khz <eos>\n",
      "BLEU Score: [0.28, 0.172, 0.117, 0.0]\n"
     ]
    },
    {
     "name": "stderr",
     "output_type": "stream",
     "text": [
      "Epoch 9/15: 100%|██████████| 20/20 [00:07<00:00,  2.74batch/s, loss=0.954]\n"
     ]
    },
    {
     "name": "stdout",
     "output_type": "stream",
     "text": [
      "Predicted: <sos> die sein van die dac is 5 en die filters kan word as ideaal beskou word : <eos>\n",
      "BLEU Score: [0.26, 0.172, 0.128, 0.085]\n"
     ]
    },
    {
     "name": "stderr",
     "output_type": "stream",
     "text": [
      "Epoch 10/15: 100%|██████████| 20/20 [00:07<00:00,  2.65batch/s, loss=0.910]\n"
     ]
    },
    {
     "name": "stdout",
     "output_type": "stream",
     "text": [
      "Predicted: <sos> ons wil die data van die model wat die volgende benodig word deur 'n laagdeurlaatfilter (lpf) met 'n deurlaatband van $0.25$ en $0.35$ siklusse/monster , met 'n faktor 3 afgemonster (downsample) <eos>\n",
      "BLEU Score: [0.319, 0.186, 0.116, 0.0]\n"
     ]
    },
    {
     "name": "stderr",
     "output_type": "stream",
     "text": [
      "Epoch 11/15: 100%|██████████| 20/20 [00:07<00:00,  2.73batch/s, loss=0.807]\n"
     ]
    },
    {
     "name": "stdout",
     "output_type": "stream",
     "text": [
      "Predicted: <sos> veronderstel ons het 'n datastel met vyf kenmerke , $x_1$ = matriek gemiddeld , $x_2$ = ik toetspunt , $x_3$ = geslag (1 vir vroulik en 0 vir manlik) <eos>\n",
      "BLEU Score: [0.286, 0.154, 0.1, 0.0]\n"
     ]
    },
    {
     "name": "stderr",
     "output_type": "stream",
     "text": [
      "Epoch 12/15: 100%|██████████| 20/20 [00:07<00:00,  2.74batch/s, loss=0.728]\n"
     ]
    },
    {
     "name": "stdout",
     "output_type": "stream",
     "text": [
      "Predicted: <sos> ons wil die data in die usd/euro wisselkoers in die usd/euro wisselkoers in die usd/euro mark die \\% verandering in die britse mark , en die \\% verandering in die duitse mark <eos>\n",
      "BLEU Score: [0.304, 0.164, 0.107, 0.0]\n"
     ]
    },
    {
     "name": "stderr",
     "output_type": "stream",
     "text": [
      "Epoch 13/15: 100%|██████████| 20/20 [00:07<00:00,  2.72batch/s, loss=0.630]\n"
     ]
    },
    {
     "name": "stdout",
     "output_type": "stream",
     "text": [
      "Predicted: <sos> ons wil die data in die usd/euro wisselkoers 'n effektiewe , m.a.w. , die \\% verandering in die amerikaanse mark , die \\% verandering in die duitse mark , die \\% verandering in die duitse mark <eos>\n",
      "BLEU Score: [0.269, 0.145, 0.095, 0.0]\n"
     ]
    },
    {
     "name": "stderr",
     "output_type": "stream",
     "text": [
      "Epoch 14/15: 100%|██████████| 20/20 [00:07<00:00,  2.73batch/s, loss=0.552]\n"
     ]
    },
    {
     "name": "stdout",
     "output_type": "stream",
     "text": [
      "Predicted: <sos> as ons die teikenuittree voorstel as $y\\in\\{0,1\\}$ en die voorspellings word met die maatstaf van die data in die britse mark en die \\% verandering in die duitse mark <eos>\n",
      "BLEU Score: [0.533, 0.505, 0.483, 0.462]\n"
     ]
    },
    {
     "name": "stderr",
     "output_type": "stream",
     "text": [
      "Epoch 15/15: 100%|██████████| 20/20 [00:07<00:00,  2.73batch/s, loss=0.506]"
     ]
    },
    {
     "name": "stdout",
     "output_type": "stream",
     "text": [
      "Predicted: <sos> as ons die teikenuittree voorstel as $y\\in\\{0,1\\}$ en ons $n$ afrigpunte het , dan kan ons die negatiewe log-waarskynlikheidskostefunksie skryf as : <eos>\n",
      "BLEU Score: [1.0, 1.0, 1.0, 1.0]\n"
     ]
    },
    {
     "name": "stderr",
     "output_type": "stream",
     "text": [
      "\n"
     ]
    }
   ],
   "source": [
    "EPOCHS = 15\n",
    "params = {\n",
    "    \"model\": model,\n",
    "    \"train_loader\": train_loader,\n",
    "    \"optimizer\": optimizer,\n",
    "    \"criterion\": criterion,\n",
    "    \"device\": device,\n",
    "    \"epochs\": EPOCHS,\n",
    "    \"source_test\": mytext,\n",
    "    \"reference\": ground,\n",
    "\t\"translator\":translator\n",
    "}\n",
    "\n",
    "train_loss = train_model(**params)\n",
    "np.save('lstm_train_loss.npy', np.array(train_loss))"
   ]
  },
  {
   "cell_type": "markdown",
   "id": "91aaabc86799a94c",
   "metadata": {},
   "source": [
    "## Evaluate on the training set"
   ]
  },
  {
   "cell_type": "code",
   "execution_count": 8,
   "id": "fa7bb792",
   "metadata": {
    "ExecuteTime": {
     "end_time": "2024-07-18T19:07:56.934366Z",
     "start_time": "2024-07-18T19:07:23.077731Z"
    }
   },
   "outputs": [
    {
     "name": "stderr",
     "output_type": "stream",
     "text": [
      "Using the latest cached version of the module from /Users/lucien/.cache/huggingface/modules/evaluate_modules/metrics/evaluate-metric--bleu/9e0985c1200e367cce45605ce0ecb5ede079894e0f24f54613fca08eeb8aff76 (last modified on Thu Jul 18 16:29:52 2024) since it couldn't be found locally at evaluate-metric--bleu, or remotely on the Hugging Face Hub.\n"
     ]
    },
    {
     "name": "stdout",
     "output_type": "stream",
     "text": [
      "                                     BLEU-1                                     \n",
      "------------------------------------------------------------------------------------------\n",
      "bleu                : 0.652725667015166\n",
      "precisions          : [0.6987934376898817]\n",
      "brevity_penalty     : 0.9340752671819449\n",
      "length_ratio        : 0.9361558047564873\n",
      "translation_length  : 34561\n",
      "reference_length    : 36918\n",
      "******************************************************************************************\n",
      "                                     BLEU-2                                     \n",
      "------------------------------------------------------------------------------------------\n",
      "bleu                : 0.5706228752102449\n",
      "precisions          : [0.6987934376898817, 0.5340547620532652]\n",
      "brevity_penalty     : 0.9340752671819449\n",
      "length_ratio        : 0.9361558047564873\n",
      "translation_length  : 34561\n",
      "reference_length    : 36918\n",
      "******************************************************************************************\n",
      "                                     BLEU-3                                     \n",
      "------------------------------------------------------------------------------------------\n",
      "bleu                : 0.49769448706880404\n",
      "precisions          : [0.6987934376898817, 0.5340547620532652, 0.4053295458388286]\n",
      "brevity_penalty     : 0.9340752671819449\n",
      "length_ratio        : 0.9361558047564873\n",
      "translation_length  : 34561\n",
      "reference_length    : 36918\n",
      "******************************************************************************************\n",
      "                                     BLEU-4                                     \n",
      "------------------------------------------------------------------------------------------\n",
      "bleu                : 0.41632657823591285\n",
      "precisions          : [0.6987934376898817, 0.5340547620532652, 0.4053295458388286, 0.2608952577928793]\n",
      "brevity_penalty     : 0.9340752671819449\n",
      "length_ratio        : 0.9361558047564873\n",
      "translation_length  : 34561\n",
      "reference_length    : 36918\n",
      "******************************************************************************************\n"
     ]
    }
   ],
   "source": [
    "EN_SRC = [' '.join(sent) for sent in english_data.data_str]\n",
    "AF_REF = [[' '.join(sent)] for sent in afrikaans_data.data_str]\n",
    "TRANSLATED = [translator.translate_sentence(sent) for sent in EN_SRC]\n",
    "corpus_bleu(TRANSLATED, AF_REF)"
   ]
  },
  {
   "cell_type": "markdown",
   "id": "9d47db1aa41c1091",
   "metadata": {},
   "source": [
    "## Evaluate on the validation set"
   ]
  },
  {
   "cell_type": "code",
   "execution_count": 9,
   "id": "4d82ad19d8fc56be",
   "metadata": {
    "ExecuteTime": {
     "end_time": "2024-07-18T19:07:56.939159Z",
     "start_time": "2024-07-18T19:07:56.935245Z"
    }
   },
   "outputs": [],
   "source": [
    "with open(f\"{config.VAL_DATA}/english.txt\") as data:\n",
    "    english_val = data.read().strip().split(\"\\n\")\n",
    "with open(f\"{config.VAL_DATA}/afrikaans.txt\") as data:\n",
    "    afrikaans_val = data.read().strip().split(\"\\n\")"
   ]
  },
  {
   "cell_type": "markdown",
   "id": "fd32b91fdf8c5c6",
   "metadata": {},
   "source": [
    "### Greedy Search"
   ]
  },
  {
   "cell_type": "code",
   "execution_count": 10,
   "id": "89cb5dac",
   "metadata": {
    "ExecuteTime": {
     "end_time": "2024-07-18T19:08:11.462728Z",
     "start_time": "2024-07-18T19:07:56.941169Z"
    }
   },
   "outputs": [
    {
     "name": "stderr",
     "output_type": "stream",
     "text": [
      "Using the latest cached version of the module from /Users/lucien/.cache/huggingface/modules/evaluate_modules/metrics/evaluate-metric--bleu/9e0985c1200e367cce45605ce0ecb5ede079894e0f24f54613fca08eeb8aff76 (last modified on Thu Jul 18 16:29:52 2024) since it couldn't be found locally at evaluate-metric--bleu, or remotely on the Hugging Face Hub.\n"
     ]
    },
    {
     "name": "stdout",
     "output_type": "stream",
     "text": [
      "                                     BLEU-1                                     \n",
      "------------------------------------------------------------------------------------------\n",
      "bleu                : 0.5794145710994943\n",
      "precisions          : [0.6209269971443216]\n",
      "brevity_penalty     : 0.933144433668136\n",
      "length_ratio        : 0.9352828379674017\n",
      "translation_length  : 13657\n",
      "reference_length    : 14602\n",
      "******************************************************************************************\n",
      "                                     BLEU-2                                     \n",
      "------------------------------------------------------------------------------------------\n",
      "bleu                : 0.4875279863137261\n",
      "precisions          : [0.6209269971443216, 0.4396031746031746]\n",
      "brevity_penalty     : 0.933144433668136\n",
      "length_ratio        : 0.9352828379674017\n",
      "translation_length  : 13657\n",
      "reference_length    : 14602\n",
      "******************************************************************************************\n",
      "                                     BLEU-3                                     \n",
      "------------------------------------------------------------------------------------------\n",
      "bleu                : 0.40156241659541575\n",
      "precisions          : [0.6209269971443216, 0.4396031746031746, 0.2919518322793035]\n",
      "brevity_penalty     : 0.933144433668136\n",
      "length_ratio        : 0.9352828379674017\n",
      "translation_length  : 13657\n",
      "reference_length    : 14602\n",
      "******************************************************************************************\n",
      "                                     BLEU-4                                     \n",
      "------------------------------------------------------------------------------------------\n",
      "bleu                : 0.29120792835479065\n",
      "precisions          : [0.6209269971443216, 0.4396031746031746, 0.2919518322793035, 0.11901583063131795]\n",
      "brevity_penalty     : 0.933144433668136\n",
      "length_ratio        : 0.9352828379674017\n",
      "translation_length  : 13657\n",
      "reference_length    : 14602\n",
      "******************************************************************************************\n"
     ]
    }
   ],
   "source": [
    "VAL_AF_REF = [[sent] for sent in afrikaans_val]\n",
    "\n",
    "VAL_TRANSLATED = [translator.translate_sentence(sent) for sent in english_val]\n",
    "\n",
    "corpus_bleu(VAL_TRANSLATED, VAL_AF_REF)"
   ]
  },
  {
   "cell_type": "markdown",
   "id": "3f18bd5444c754d1",
   "metadata": {},
   "source": [
    "### Beam Search"
   ]
  },
  {
   "cell_type": "code",
   "execution_count": 11,
   "id": "8d4385cd",
   "metadata": {
    "ExecuteTime": {
     "end_time": "2024-07-18T19:09:44.402348Z",
     "start_time": "2024-07-18T19:08:11.463759Z"
    }
   },
   "outputs": [
    {
     "name": "stderr",
     "output_type": "stream",
     "text": [
      "Using the latest cached version of the module from /Users/lucien/.cache/huggingface/modules/evaluate_modules/metrics/evaluate-metric--bleu/9e0985c1200e367cce45605ce0ecb5ede079894e0f24f54613fca08eeb8aff76 (last modified on Thu Jul 18 16:29:52 2024) since it couldn't be found locally at evaluate-metric--bleu, or remotely on the Hugging Face Hub.\n"
     ]
    },
    {
     "name": "stdout",
     "output_type": "stream",
     "text": [
      "                                     BLEU-1                                     \n",
      "------------------------------------------------------------------------------------------\n",
      "bleu                : 0.5769388152898909\n",
      "precisions          : [0.5835295747333425]\n",
      "brevity_penalty     : 0.9887053549145929\n",
      "length_ratio        : 0.988768661827147\n",
      "translation_length  : 14438\n",
      "reference_length    : 14602\n",
      "******************************************************************************************\n",
      "                                     BLEU-2                                     \n",
      "------------------------------------------------------------------------------------------\n",
      "bleu                : 0.4841237679717259\n",
      "precisions          : [0.5835295747333425, 0.41088110006725953]\n",
      "brevity_penalty     : 0.9887053549145929\n",
      "length_ratio        : 0.988768661827147\n",
      "translation_length  : 14438\n",
      "reference_length    : 14602\n",
      "******************************************************************************************\n",
      "                                     BLEU-3                                     \n",
      "------------------------------------------------------------------------------------------\n",
      "bleu                : 0.39669375474686774\n",
      "precisions          : [0.5835295747333425, 0.41088110006725953, 0.26939305420318077]\n",
      "brevity_penalty     : 0.9887053549145929\n",
      "length_ratio        : 0.988768661827147\n",
      "translation_length  : 14438\n",
      "reference_length    : 14602\n",
      "******************************************************************************************\n",
      "                                     BLEU-4                                     \n",
      "------------------------------------------------------------------------------------------\n",
      "bleu                : 0.2848012704899874\n",
      "precisions          : [0.5835295747333425, 0.41088110006725953, 0.26939305420318077, 0.10659447945327061]\n",
      "brevity_penalty     : 0.9887053549145929\n",
      "length_ratio        : 0.988768661827147\n",
      "translation_length  : 14438\n",
      "reference_length    : 14602\n",
      "******************************************************************************************\n"
     ]
    }
   ],
   "source": [
    "VAL_TRANSLATED = [translator.translate_sentence(sent, method=\"beam\", beam_width=3) for sent in english_val]\n",
    "\n",
    "corpus_bleu(VAL_TRANSLATED, VAL_AF_REF)"
   ]
  },
  {
   "cell_type": "markdown",
   "id": "27834f3ae3a89f66",
   "metadata": {},
   "source": [
    "## Evaluate on the SUN validation set only"
   ]
  },
  {
   "cell_type": "code",
   "execution_count": 12,
   "id": "6766388f",
   "metadata": {
    "ExecuteTime": {
     "end_time": "2024-07-18T19:09:44.407304Z",
     "start_time": "2024-07-18T19:09:44.403235Z"
    }
   },
   "outputs": [],
   "source": [
    "with open(f\"{config.VAL_DATA}/sun_english.txt\") as data:\n",
    "    sun_english_val = data.read().strip().split(\"\\n\")\n",
    "with open(f\"{config.VAL_DATA}/sun_afrikaans.txt\") as data:\n",
    "    sun_afrikaans_val = data.read().strip().split(\"\\n\")"
   ]
  },
  {
   "cell_type": "markdown",
   "id": "9db87678773aca71",
   "metadata": {},
   "source": [
    "### Greedy search"
   ]
  },
  {
   "cell_type": "code",
   "execution_count": 13,
   "id": "b7ce7834463978ee",
   "metadata": {
    "ExecuteTime": {
     "end_time": "2024-07-18T19:09:49.745146Z",
     "start_time": "2024-07-18T19:09:44.408136Z"
    }
   },
   "outputs": [
    {
     "name": "stderr",
     "output_type": "stream",
     "text": [
      "Using the latest cached version of the module from /Users/lucien/.cache/huggingface/modules/evaluate_modules/metrics/evaluate-metric--bleu/9e0985c1200e367cce45605ce0ecb5ede079894e0f24f54613fca08eeb8aff76 (last modified on Thu Jul 18 16:29:52 2024) since it couldn't be found locally at evaluate-metric--bleu, or remotely on the Hugging Face Hub.\n"
     ]
    },
    {
     "name": "stdout",
     "output_type": "stream",
     "text": [
      "                                     BLEU-1                                     \n",
      "------------------------------------------------------------------------------------------\n",
      "bleu                : 0.4032216160041569\n",
      "precisions          : [0.4032216160041569]\n",
      "brevity_penalty     : 1.0\n",
      "length_ratio        : 1.0091767173571053\n",
      "translation_length  : 3849\n",
      "reference_length    : 3814\n",
      "******************************************************************************************\n",
      "                                     BLEU-2                                     \n",
      "------------------------------------------------------------------------------------------\n",
      "bleu                : 0.3089415424548455\n",
      "precisions          : [0.4032216160041569, 0.2367057540223616]\n",
      "brevity_penalty     : 1.0\n",
      "length_ratio        : 1.0091767173571053\n",
      "translation_length  : 3849\n",
      "reference_length    : 3814\n",
      "******************************************************************************************\n",
      "                                     BLEU-3                                     \n",
      "------------------------------------------------------------------------------------------\n",
      "bleu                : 0.23715171332893642\n",
      "precisions          : [0.4032216160041569, 0.2367057540223616, 0.13974175035868006]\n",
      "brevity_penalty     : 1.0\n",
      "length_ratio        : 1.0091767173571053\n",
      "translation_length  : 3849\n",
      "reference_length    : 3814\n",
      "******************************************************************************************\n",
      "                                     BLEU-4                                     \n",
      "------------------------------------------------------------------------------------------\n",
      "bleu                : 0.14836718883818675\n",
      "precisions          : [0.4032216160041569, 0.2367057540223616, 0.13974175035868006, 0.03633060853769301]\n",
      "brevity_penalty     : 1.0\n",
      "length_ratio        : 1.0091767173571053\n",
      "translation_length  : 3849\n",
      "reference_length    : 3814\n",
      "******************************************************************************************\n"
     ]
    }
   ],
   "source": [
    "SUN_VAL_AF = [[sent] for sent in sun_afrikaans_val]\n",
    "SUN_VAL_TRANSLATED = [translator.translate_sentence(sent) for sent in sun_english_val]\n",
    "corpus_bleu(SUN_VAL_TRANSLATED, SUN_VAL_AF)"
   ]
  },
  {
   "cell_type": "markdown",
   "id": "ed00277e9b72cdd7",
   "metadata": {},
   "source": [
    "### Beam search"
   ]
  },
  {
   "cell_type": "code",
   "execution_count": 14,
   "id": "55ecf0e0",
   "metadata": {
    "ExecuteTime": {
     "end_time": "2024-07-18T19:10:17.435010Z",
     "start_time": "2024-07-18T19:09:49.746113Z"
    }
   },
   "outputs": [
    {
     "name": "stderr",
     "output_type": "stream",
     "text": [
      "Using the latest cached version of the module from /Users/lucien/.cache/huggingface/modules/evaluate_modules/metrics/evaluate-metric--bleu/9e0985c1200e367cce45605ce0ecb5ede079894e0f24f54613fca08eeb8aff76 (last modified on Thu Jul 18 16:29:52 2024) since it couldn't be found locally at evaluate-metric--bleu, or remotely on the Hugging Face Hub.\n"
     ]
    },
    {
     "name": "stdout",
     "output_type": "stream",
     "text": [
      "                                     BLEU-1                                     \n",
      "------------------------------------------------------------------------------------------\n",
      "bleu                : 0.37233009708737863\n",
      "precisions          : [0.37233009708737863]\n",
      "brevity_penalty     : 1.0\n",
      "length_ratio        : 1.08023072889355\n",
      "translation_length  : 4120\n",
      "reference_length    : 3814\n",
      "******************************************************************************************\n",
      "                                     BLEU-2                                     \n",
      "------------------------------------------------------------------------------------------\n",
      "bleu                : 0.28448744064887416\n",
      "precisions          : [0.37233009708737863, 0.21736922295581512]\n",
      "brevity_penalty     : 1.0\n",
      "length_ratio        : 1.08023072889355\n",
      "translation_length  : 4120\n",
      "reference_length    : 3814\n",
      "******************************************************************************************\n",
      "                                     BLEU-3                                     \n",
      "------------------------------------------------------------------------------------------\n",
      "bleu                : 0.217271379533776\n",
      "precisions          : [0.37233009708737863, 0.21736922295581512, 0.12673056443024494]\n",
      "brevity_penalty     : 1.0\n",
      "length_ratio        : 1.08023072889355\n",
      "translation_length  : 4120\n",
      "reference_length    : 3814\n",
      "******************************************************************************************\n",
      "                                     BLEU-4                                     \n",
      "------------------------------------------------------------------------------------------\n",
      "bleu                : 0.13389604837290078\n",
      "precisions          : [0.37233009708737863, 0.21736922295581512, 0.12673056443024494, 0.03133743704532736]\n",
      "brevity_penalty     : 1.0\n",
      "length_ratio        : 1.08023072889355\n",
      "translation_length  : 4120\n",
      "reference_length    : 3814\n",
      "******************************************************************************************\n"
     ]
    }
   ],
   "source": [
    "SUN_VAL_TRANSLATED = [translator.translate_sentence(sent, method=\"beam\", beam_width=3) for sent in sun_english_val]\n",
    "corpus_bleu(SUN_VAL_TRANSLATED, SUN_VAL_AF)"
   ]
  },
  {
   "cell_type": "code",
   "execution_count": 15,
   "id": "adc366ac",
   "metadata": {},
   "outputs": [
    {
     "name": "stderr",
     "output_type": "stream",
     "text": [
      "Using the latest cached version of the module from /Users/lucien/.cache/huggingface/modules/evaluate_modules/metrics/evaluate-metric--bleu/9e0985c1200e367cce45605ce0ecb5ede079894e0f24f54613fca08eeb8aff76 (last modified on Thu Jul 18 16:29:52 2024) since it couldn't be found locally at evaluate-metric--bleu, or remotely on the Hugging Face Hub.\n"
     ]
    },
    {
     "name": "stdout",
     "output_type": "stream",
     "text": [
      "Source    : <sos> component <eos>\n",
      "Prediction: <sos> dit te wees <eos>\n",
      "Label     : <sos> komponent <eos>\n",
      "BLEU      : 0.0\n",
      "\n",
      "Source    : <sos> architecture <eos>\n",
      "Prediction: <sos> dit te wees <eos>\n",
      "Label     : <sos> argitektuur <eos>\n",
      "BLEU      : 0.0\n",
      "\n",
      "Source    : <sos> specification <eos>\n",
      "Prediction: <sos> dit te wees <eos>\n",
      "Label     : <sos> spesifikasies <eos>\n",
      "BLEU      : 0.0\n",
      "\n",
      "Source    : <sos> at which stage of the design process would we choose the communication protocol between subsystems <eos>\n",
      "Prediction: <sos> in elk van die gevolglike klassifikasie-gebiede aan of intrees as $0$ of $1$ geklassifiseerder sal word <eos>\n",
      "Label     : <sos> by watter stap van die ontwerpsproses word die kommunikasie-kanaal tussen substelsels gekies <eos>\n",
      "BLEU      : 0.0\n",
      "\n",
      "Source    : <sos> motivate your answer <eos>\n",
      "Prediction: <sos> motiveer jou antwoord <eos>\n",
      "Label     : <sos> motiveer jou antwoord <eos>\n",
      "BLEU      : 1.0\n",
      "\n",
      "Source    : <sos> describe the meaning if a system is described as a cyber-physical system <eos>\n",
      "Prediction: <sos> vir 'n vaste waarde van ik en matriek gemiddeld , verdien mans meer as mans in die gemiddeld <eos>\n",
      "Label     : <sos> wat is die betekenis as 'n stelsel beskryf word as 'n kuber-fisiese stelsel <eos>\n",
      "BLEU      : 0.0\n",
      "\n",
      "Source    : <sos> extract four requirements of a standard cansat mission by using the description below : <eos>\n",
      "Prediction: <sos> vir 'n vaste waarde van ik en matriek gemiddeld , verdien mans meer as mans in die gemiddeld <eos>\n",
      "Label     : <sos> ontrek vier vereistes van 'n standaard cansat missie deur gebruik te maak van die onderstaande beskrywing : <eos>\n",
      "BLEU      : 0.0\n",
      "\n",
      "Source    : <sos> the cansat will be built by the final year cs414 class <eos>\n",
      "Prediction: <sos> die volgende figuur toon die skoenlapper-berekeninge van 'n $4$ -punt desimasie-in-tyd fft <eos>\n",
      "Label     : <sos> die cansat word gebou deur die finale jaar rs414 klas <eos>\n",
      "BLEU      : 0.17923344640485428\n",
      "\n",
      "Source    : <sos> the cansat is launched from a rocket and its mission time must be maximised <eos>\n",
      "Prediction: <sos> die intreesein $x(t)$ word gediskretiseer deur 'n analoog-na-syfer omsetter (adc) teen 'n monsterfrekwensie van $f_s=5$ khz <eos>\n",
      "Label     : <sos> die cansat word gelanseer deur 'n vuurpyl en die missie moet so lank duur as moontlik <eos>\n",
      "BLEU      : 0.10939951745121487\n",
      "\n",
      "Source    : <sos> a ground station will receive the necessary information to track the movement of the cansat <eos>\n",
      "Prediction: <sos> vir 'n vaste waarde van ik en matriek gemiddeld , verdien mans meer as mans in die gemiddeld <eos>\n",
      "Label     : <sos> 'n grondstasie sal die nodige inligting ontvang om die beweging van die cansat te bepaal <eos>\n",
      "BLEU      : 0.0\n",
      "\n"
     ]
    }
   ],
   "source": [
    "metric = evaluate.load(\"bleu\")\n",
    "predictions = [translator.translate_sentence(sent, method=\"beam\", beam_width=5) for sent in sun_english_val[10:20]]\n",
    "labels = SUN_VAL_AF[10:20]\n",
    "for source, pred, lab in zip(sun_english_val[10:20],predictions, labels):\n",
    "    print(f\"Source    : {source}\")\n",
    "    print(f\"Prediction: {pred[:150]}\")\n",
    "    print(f\"Label     : {lab[0][:150]}\")\n",
    "    print(f\"BLEU      : {metric.compute(predictions=[pred], references=lab)['bleu']}\")\n",
    "    print()"
   ]
  },
  {
   "cell_type": "code",
   "execution_count": null,
   "id": "846527e7",
   "metadata": {},
   "outputs": [],
   "source": []
  }
 ],
 "metadata": {
  "kernelspec": {
   "display_name": "Python 3 (ipykernel)",
   "language": "python",
   "name": "python3"
  },
  "language_info": {
   "codemirror_mode": {
    "name": "ipython",
    "version": 3
   },
   "file_extension": ".py",
   "mimetype": "text/x-python",
   "name": "python",
   "nbconvert_exporter": "python",
   "pygments_lexer": "ipython3",
   "version": "3.10.14"
  }
 },
 "nbformat": 4,
 "nbformat_minor": 5
}
