{
 "cells": [
  {
   "cell_type": "markdown",
   "id": "88716432",
   "metadata": {},
   "source": [
    "# NEURAL MACHINE TRANSLATION - GRU"
   ]
  },
  {
   "cell_type": "markdown",
   "id": "5fb4bb18",
   "metadata": {},
   "source": [
    "## Required Module & Config files"
   ]
  },
  {
   "cell_type": "code",
   "id": "a89bf9e4-311d-4af8-846b-ccfcb9e940b2",
   "metadata": {
    "ExecuteTime": {
     "end_time": "2024-07-18T18:55:57.827660Z",
     "start_time": "2024-07-18T18:55:54.368361Z"
    }
   },
   "source": [
    "import src.RNN_GRU as gruNMT\n",
    "from src.Tokenizer import Corpus, LangData, dataLoader\n",
    "from src.utils import load_config, get_device, train_model, sentence_bleu, corpus_bleu\n",
    "from src.Translator import Translator\n",
    "from torch.nn import CrossEntropyLoss\n",
    "from torch.optim import NAdam\n",
    "from torchinfo import summary\n",
    "\n",
    "# Loading config file\n",
    "config = load_config()\n",
    "# Get device : GPU/MPS Back-End/CPU\n",
    "device = get_device()\n",
    "print(f\"Using device: {device}\")"
   ],
   "outputs": [
    {
     "name": "stderr",
     "output_type": "stream",
     "text": [
      "Using the latest cached version of the module from /Users/lucien/.cache/huggingface/modules/evaluate_modules/metrics/evaluate-metric--bleu/9e0985c1200e367cce45605ce0ecb5ede079894e0f24f54613fca08eeb8aff76 (last modified on Thu Jul 18 16:29:52 2024) since it couldn't be found locally at evaluate-metric--bleu, or remotely on the Hugging Face Hub.\n"
     ]
    },
    {
     "name": "stdout",
     "output_type": "stream",
     "text": [
      "Using device: mps\n"
     ]
    }
   ],
   "execution_count": 1
  },
  {
   "cell_type": "markdown",
   "id": "76325a3f",
   "metadata": {},
   "source": [
    "## Load the dataset"
   ]
  },
  {
   "cell_type": "code",
   "id": "083f4d8c",
   "metadata": {
    "ExecuteTime": {
     "end_time": "2024-07-18T18:55:57.847823Z",
     "start_time": "2024-07-18T18:55:57.829474Z"
    }
   },
   "source": [
    "# Encoder-Source\n",
    "english_data = Corpus(f\"{config.TRAIN_DATA}/english.txt\", \"English\")\n",
    "afrikaans_data = Corpus(f\"{config.TRAIN_DATA}/afrikaans.txt\", \"Afrikaans\")"
   ],
   "outputs": [],
   "execution_count": 2
  },
  {
   "cell_type": "markdown",
   "id": "0142f911",
   "metadata": {},
   "source": [
    "## Set Hyperparameters"
   ]
  },
  {
   "cell_type": "code",
   "id": "d5ff35e0",
   "metadata": {
    "ExecuteTime": {
     "end_time": "2024-07-18T18:55:57.851425Z",
     "start_time": "2024-07-18T18:55:57.849104Z"
    }
   },
   "source": [
    "# Encoder - source\n",
    "IN_ENCODER = english_data.vocab_size\n",
    "ENCODER_EMB = 256\n",
    "\n",
    "# Decoder - target\n",
    "IN_DECODER = afrikaans_data.vocab_size\n",
    "OUT_DECODER = afrikaans_data.vocab_size\n",
    "DECODER_EMB = 256\n",
    "\n",
    "# Shared\n",
    "HIDDEN_SIZE = 1024\n",
    "NUM_LAYERS = 2\n",
    "\n",
    "LR = 1e-3\n",
    "BATCH_SIZE = 128"
   ],
   "outputs": [],
   "execution_count": 3
  },
  {
   "cell_type": "markdown",
   "id": "da759f25",
   "metadata": {},
   "source": [
    "## Set the model"
   ]
  },
  {
   "cell_type": "code",
   "id": "f04f2d2f",
   "metadata": {
    "ExecuteTime": {
     "end_time": "2024-07-18T18:55:58.024447Z",
     "start_time": "2024-07-18T18:55:57.852884Z"
    }
   },
   "source": [
    "encoder_net = gruNMT.Encoder(IN_ENCODER, ENCODER_EMB, HIDDEN_SIZE, NUM_LAYERS, type=\"GRU\").to(device)\n",
    "decoder_net = gruNMT.Decoder(IN_DECODER, DECODER_EMB, HIDDEN_SIZE, NUM_LAYERS, type='GRU').to(device)\n",
    "model = gruNMT.GRU_NMT(encoder_net, decoder_net, OUT_DECODER)\n",
    "\n",
    "summary(model, depth=4)"
   ],
   "outputs": [
    {
     "data": {
      "text/plain": [
       "=================================================================\n",
       "Layer (type:depth-idx)                   Param #\n",
       "=================================================================\n",
       "GRU_NMT                                  --\n",
       "├─Encoder: 1-1                           --\n",
       "│    └─GRU: 2-1                          10,235,904\n",
       "│    └─Embedding: 2-2                    743,936\n",
       "├─Decoder: 1-2                           --\n",
       "│    └─GRU: 2-3                          10,235,904\n",
       "│    └─Embedding: 2-4                    737,024\n",
       "│    └─Linear: 2-5                       2,950,975\n",
       "=================================================================\n",
       "Total params: 24,903,743\n",
       "Trainable params: 24,903,743\n",
       "Non-trainable params: 0\n",
       "================================================================="
      ]
     },
     "execution_count": 4,
     "metadata": {},
     "output_type": "execute_result"
    }
   ],
   "execution_count": 4
  },
  {
   "cell_type": "code",
   "id": "ee757771",
   "metadata": {
    "ExecuteTime": {
     "end_time": "2024-07-18T18:55:58.561481Z",
     "start_time": "2024-07-18T18:55:58.025342Z"
    }
   },
   "source": [
    "train_data = LangData(english_data, afrikaans_data)\n",
    "train_loader = dataLoader(train_data, BATCH_SIZE)\n",
    "\n",
    "pad_idx = afrikaans_data.stoi['<pad>']\n",
    "criterion = CrossEntropyLoss(ignore_index=0)\n",
    "\n",
    "optimizer = NAdam(model.parameters(), LR)\n",
    "translator = Translator(model, english_data, afrikaans_data, device)"
   ],
   "outputs": [],
   "execution_count": 5
  },
  {
   "cell_type": "code",
   "id": "bcb89b48",
   "metadata": {
    "ExecuteTime": {
     "end_time": "2024-07-18T18:55:59.031358Z",
     "start_time": "2024-07-18T18:55:58.562319Z"
    }
   },
   "source": [
    "# Data used for follow-up durring training\n",
    "mytext = \"<sos> given that we represent the target output as $y\\in\\{0,1\\}$ and we have $n$ training points , we can write the negative log likelihood of the parameters as follows: <eos>\"\n",
    "ground = \"<sos> as ons die teikenuittree voorstel as $y\\in\\{0,1\\}$ en ons $n$ afrigpunte het , dan kan ons die negatiewe log-waarskynlikheidskostefunksie skryf as: <eos>\"\n",
    "\n",
    "predicted = translator.translate_sentence(mytext)\n",
    "bleu = sentence_bleu(prediction=[predicted], reference=[ground])\n",
    "print(f\"Pred: {predicted}\")\n",
    "print(f\"Refe: {ground}\")\n",
    "print(f\"BLEU SCORES: {bleu}\")"
   ],
   "outputs": [
    {
     "name": "stdout",
     "output_type": "stream",
     "text": [
      "Pred: <sos> \"aangesien gelieg maand bestaan rêrig rêrig kind na\\\"iewe moenie alby digter. wat assosiatief assosiatief besoek.\" okal okal arms spel haal $y$ politieke log-waarskynlikheidskostefunksie hoekom hoekom periodiese vurige vurige nou-nou nou-nou gemonsterde gemonsterde stout dom wat wat verwerk kenmerke verwerk kenmerke kanada $\\mathbf{x}\\in\\mathbb{r}^d$ nie; verwerk ten bloed verwerk projeksie kanada pas voorafbetaalde kak ontspanningsaktiwiteit spaans.\" gebly gebly gebly binnegegaan meerveranderlike liefde reguit vergadering vergadering vergadering handvol handvol 2012 \\texttt{student} springmielies geboren motorsleutels motorsleutels (statistiese liefde iemand gelees binnegegaan enigiets binnegegaan $z$ 200 200 $\\omega=\\frac{\\pi}{6}$ partymal partymal partymal \"alles opgemerk voorspel soek soek spesieke prototipe spesieke $f_s=5$ $f_s=5$ vou vou oorsaak oorsaak ek verversings meerveranderlike meerveranderlike sluit beste beteken optimaal blou. vitamien sein geboren zoek \"\"ek onmidellik studente studente studente geraai wintersport wintersport dronk koffie soen soen \"kan \"kan ingeskroef ingeskroef ingeskroef hondjie duidelik klasspesifieke letters letters oudste geglimlag oorsaak presisie $x[n]$ skrik $x[n]$ oorsaak werk verwagte vinger skepties.\" add oortekom oortekom add oortekom dui video ontwerpsmatriks ontwerpsmatriks bv.\\die ontwikkel romanties oorsee oorsee oorsee voordat geskei uitgelok voorafbetaalde transformasies langsamer. 200 bietjie vullisverwyderaar spesifiseer spesifiseer dof na\n",
      "Refe: <sos> as ons die teikenuittree voorstel as $y\\in\\{0,1\\}$ en ons $n$ afrigpunte het , dan kan ons die negatiewe log-waarskynlikheidskostefunksie skryf as: <eos>\n",
      "BLEU SCORES: [0.069, 0.04, 0.023, 0.0]\n"
     ]
    }
   ],
   "execution_count": 6
  },
  {
   "cell_type": "markdown",
   "id": "2ed66bc3",
   "metadata": {},
   "source": [
    "## Train the data"
   ]
  },
  {
   "cell_type": "code",
   "id": "7b2790009f0b8f40",
   "metadata": {
    "ExecuteTime": {
     "end_time": "2024-07-18T18:58:40.700032Z",
     "start_time": "2024-07-18T18:55:59.032538Z"
    }
   },
   "source": [
    "EPOCHS = 20\n",
    "params = {\n",
    "    \"model\": model,\n",
    "    \"train_loader\": train_loader,\n",
    "    \"optimizer\": optimizer,\n",
    "    \"criterion\": criterion,\n",
    "    \"device\": device,\n",
    "    \"epochs\": EPOCHS,\n",
    "    \"source_test\": mytext,\n",
    "    \"reference\": ground,\n",
    "\t\"translator\":translator\n",
    "}\n",
    "\n",
    "train_model(**params)"
   ],
   "outputs": [
    {
     "name": "stderr",
     "output_type": "stream",
     "text": [
      "Using the latest cached version of the module from /Users/lucien/.cache/huggingface/modules/evaluate_modules/metrics/evaluate-metric--bleu/9e0985c1200e367cce45605ce0ecb5ede079894e0f24f54613fca08eeb8aff76 (last modified on Thu Jul 18 16:29:52 2024) since it couldn't be found locally at evaluate-metric--bleu, or remotely on the Hugging Face Hub.\n",
      "Epoch 1/20: 100%|██████████| 20/20 [00:08<00:00,  2.37batch/s, loss=1.734]\n"
     ]
    },
    {
     "name": "stdout",
     "output_type": "stream",
     "text": [
      "Predicted: <sos> die die die die die <eos>\n",
      "BLEU Score: [0.057, 0.042, 0.031, 0.0]\n"
     ]
    },
    {
     "name": "stderr",
     "output_type": "stream",
     "text": [
      "Epoch 2/20: 100%|██████████| 20/20 [00:07<00:00,  2.60batch/s, loss=1.535]\n"
     ]
    },
    {
     "name": "stdout",
     "output_type": "stream",
     "text": [
      "Predicted: <sos> die die die die die die die die die die die die <eos>\n",
      "BLEU Score: [0.138, 0.101, 0.073, 0.0]\n"
     ]
    },
    {
     "name": "stderr",
     "output_type": "stream",
     "text": [
      "Epoch 3/20: 100%|██████████| 20/20 [00:07<00:00,  2.51batch/s, loss=1.414]\n"
     ]
    },
    {
     "name": "stdout",
     "output_type": "stream",
     "text": [
      "Predicted: <sos> ons die die die die wat ons die die die te , , die die te <eos>\n",
      "BLEU Score: [0.231, 0.175, 0.112, 0.0]\n"
     ]
    },
    {
     "name": "stderr",
     "output_type": "stream",
     "text": [
      "Epoch 4/20: 100%|██████████| 20/20 [00:07<00:00,  2.60batch/s, loss=1.271]\n"
     ]
    },
    {
     "name": "stdout",
     "output_type": "stream",
     "text": [
      "Predicted: <sos> ons wil die data om die die te te ons die die te minimeer , ons die die die die <eos>\n",
      "BLEU Score: [0.28, 0.202, 0.127, 0.0]\n"
     ]
    },
    {
     "name": "stderr",
     "output_type": "stream",
     "text": [
      "Epoch 5/20: 100%|██████████| 20/20 [00:07<00:00,  2.56batch/s, loss=1.170]\n"
     ]
    },
    {
     "name": "stdout",
     "output_type": "stream",
     "text": [
      "Predicted: <sos> ons wil die data data , , ons die data , , , die die <eos>\n",
      "BLEU Score: [0.222, 0.154, 0.102, 0.0]\n"
     ]
    },
    {
     "name": "stderr",
     "output_type": "stream",
     "text": [
      "Epoch 6/20: 100%|██████████| 20/20 [00:07<00:00,  2.60batch/s, loss=0.997]\n"
     ]
    },
    {
     "name": "stdout",
     "output_type": "stream",
     "text": [
      "Predicted: <sos> as ons die die die die die die die die die usd/euro , en ons die die verandering as ons die die verandering in die die <eos>\n",
      "BLEU Score: [0.406, 0.309, 0.235, 0.181]\n"
     ]
    },
    {
     "name": "stderr",
     "output_type": "stream",
     "text": [
      "Epoch 7/20: 100%|██████████| 20/20 [00:08<00:00,  2.49batch/s, loss=0.901]\n"
     ]
    },
    {
     "name": "stdout",
     "output_type": "stream",
     "text": [
      "Predicted: <sos> veronderstel ons ons die eerder wat ons kan ons eerder , en ons eerder , die dan , sal ons eerder <eos>\n",
      "BLEU Score: [0.356, 0.248, 0.147, 0.0]\n"
     ]
    },
    {
     "name": "stderr",
     "output_type": "stream",
     "text": [
      "Epoch 8/20: 100%|██████████| 20/20 [00:07<00:00,  2.54batch/s, loss=0.775]\n"
     ]
    },
    {
     "name": "stdout",
     "output_type": "stream",
     "text": [
      "Predicted: <sos> as ons die teikenuittree van die gevolglike klassifikasie-gebiede ons ons ons ons data as ons basismodel <eos>\n",
      "BLEU Score: [0.294, 0.227, 0.193, 0.162]\n"
     ]
    },
    {
     "name": "stderr",
     "output_type": "stream",
     "text": [
      "Epoch 9/20: 100%|██████████| 20/20 [00:07<00:00,  2.57batch/s, loss=0.655]\n"
     ]
    },
    {
     "name": "stdout",
     "output_type": "stream",
     "text": [
      "Predicted: <sos> as ons die teikenuittree voorstel as ons ons ons kan dat ons die \\% verandering dat ons die \\% verandering dat ons die \\% verandering in die \\% verandering dat ons die \\% verandering in die duitse mark <eos>\n",
      "BLEU Score: [0.408, 0.306, 0.252, 0.213]\n"
     ]
    },
    {
     "name": "stderr",
     "output_type": "stream",
     "text": [
      "Epoch 10/20: 100%|██████████| 20/20 [00:08<00:00,  2.46batch/s, loss=0.572]\n"
     ]
    },
    {
     "name": "stdout",
     "output_type": "stream",
     "text": [
      "Predicted: <sos> as ons die teikenuittree voorstel as $y\\in\\{0,1\\}$ en ons afrigpunte afrigpunte ons afrigpunte ons afrigpunte ons (pca) het <eos>\n",
      "BLEU Score: [0.688, 0.63, 0.599, 0.573]\n"
     ]
    },
    {
     "name": "stderr",
     "output_type": "stream",
     "text": [
      "Epoch 11/20: 100%|██████████| 20/20 [00:07<00:00,  2.58batch/s, loss=0.454]\n"
     ]
    },
    {
     "name": "stdout",
     "output_type": "stream",
     "text": [
      "Predicted: <sos> as ons die teikenuittree voorstel as $y\\in\\{0,1\\}$ en ons kan as ons eerder as basismodel wat ons wil doen <eos>\n",
      "BLEU Score: [0.686, 0.628, 0.597, 0.572]\n"
     ]
    },
    {
     "name": "stderr",
     "output_type": "stream",
     "text": [
      "Epoch 12/20: 100%|██████████| 20/20 [00:08<00:00,  2.44batch/s, loss=0.389]\n"
     ]
    },
    {
     "name": "stdout",
     "output_type": "stream",
     "text": [
      "Predicted: <sos> as ons die teikenuittree voorstel as $y\\in\\{0,1\\}$ en ons ons afrigpunte ons afrigpunte ons dan , dan , die negatiewe log-waarskynlikheidskostefunksie log-waarskynlikheidskostefunksie ons <eos>\n",
      "BLEU Score: [0.795, 0.723, 0.667, 0.621]\n"
     ]
    },
    {
     "name": "stderr",
     "output_type": "stream",
     "text": [
      "Epoch 13/20: 100%|██████████| 20/20 [00:08<00:00,  2.44batch/s, loss=0.339]\n"
     ]
    },
    {
     "name": "stdout",
     "output_type": "stream",
     "text": [
      "Predicted: <sos> as ons die teikenuittree voorstel as $y\\in\\{0,1\\}$ en ons $n$ afrigpunte ons kan ons die negatiewe negatiewe as as <eos>\n",
      "BLEU Score: [0.843, 0.802, 0.768, 0.734]\n"
     ]
    },
    {
     "name": "stderr",
     "output_type": "stream",
     "text": [
      "Epoch 14/20: 100%|██████████| 20/20 [00:07<00:00,  2.55batch/s, loss=0.296]\n"
     ]
    },
    {
     "name": "stdout",
     "output_type": "stream",
     "text": [
      "Predicted: <sos> as ons die teikenuittree voorstel as $y\\in\\{0,1\\}$ en ons $n$ afrigpunte het , dan ons die negatiewe log-waarskynlikheidskostefunksie as ons stompies as basismodel gebruik <eos>\n",
      "BLEU Score: [0.878, 0.838, 0.805, 0.773]\n"
     ]
    },
    {
     "name": "stderr",
     "output_type": "stream",
     "text": [
      "Epoch 15/20: 100%|██████████| 20/20 [00:08<00:00,  2.38batch/s, loss=0.287]\n"
     ]
    },
    {
     "name": "stdout",
     "output_type": "stream",
     "text": [
      "Predicted: <sos> as ons die teikenuittree voorstel as $y\\in\\{0,1\\}$ en ons $n$ afrigpunte het , dan kan ons ons negatiewe log-waarskynlikheidskostefunksie skryf as ons <eos>\n",
      "BLEU Score: [0.949, 0.921, 0.893, 0.862]\n"
     ]
    },
    {
     "name": "stderr",
     "output_type": "stream",
     "text": [
      "Epoch 16/20: 100%|██████████| 20/20 [00:07<00:00,  2.54batch/s, loss=0.256]\n"
     ]
    },
    {
     "name": "stdout",
     "output_type": "stream",
     "text": [
      "Predicted: <sos> as ons die teikenuittree voorstel as $y\\in\\{0,1\\}$ en ons $n$ afrigpunte het , dan kan ons die negatiewe log-waarskynlikheidskostefunksie skryf as : <eos>\n",
      "BLEU Score: [1.0, 1.0, 1.0, 1.0]\n"
     ]
    },
    {
     "name": "stderr",
     "output_type": "stream",
     "text": [
      "Epoch 17/20: 100%|██████████| 20/20 [00:08<00:00,  2.49batch/s, loss=0.261]\n"
     ]
    },
    {
     "name": "stdout",
     "output_type": "stream",
     "text": [
      "Predicted: <sos> as ons die teikenuittree voorstel as $y\\in\\{0,1\\}$ en ons $n$ afrigpunte het , dan kan ons die negatiewe log-waarskynlikheidskostefunksie skryf as ons <eos>\n",
      "BLEU Score: [0.974, 0.961, 0.947, 0.932]\n"
     ]
    },
    {
     "name": "stderr",
     "output_type": "stream",
     "text": [
      "Epoch 18/20: 100%|██████████| 20/20 [00:07<00:00,  2.65batch/s, loss=0.243]\n"
     ]
    },
    {
     "name": "stdout",
     "output_type": "stream",
     "text": [
      "Predicted: <sos> as ons die teikenuittree voorstel as $y\\in\\{0,1\\}$ en ons $n$ afrigpunte het , dan kan ons die negatiewe log-waarskynlikheidskostefunksie skryf as : <eos>\n",
      "BLEU Score: [1.0, 1.0, 1.0, 1.0]\n"
     ]
    },
    {
     "name": "stderr",
     "output_type": "stream",
     "text": [
      "Epoch 19/20: 100%|██████████| 20/20 [00:07<00:00,  2.50batch/s, loss=0.254]\n"
     ]
    },
    {
     "name": "stdout",
     "output_type": "stream",
     "text": [
      "Predicted: <sos> as ons die teikenuittree voorstel as $y\\in\\{0,1\\}$ en ons $n$ afrigpunte het , dan kan ons die negatiewe log-waarskynlikheidskostefunksie skryf as : <eos>\n",
      "BLEU Score: [1.0, 1.0, 1.0, 1.0]\n"
     ]
    },
    {
     "name": "stderr",
     "output_type": "stream",
     "text": [
      "Epoch 20/20: 100%|██████████| 20/20 [00:07<00:00,  2.53batch/s, loss=0.248]"
     ]
    },
    {
     "name": "stdout",
     "output_type": "stream",
     "text": [
      "Predicted: <sos> as ons die teikenuittree voorstel as $y\\in\\{0,1\\}$ en ons $n$ afrigpunte het , dan kan ons die negatiewe log-waarskynlikheidskostefunksie skryf as : <eos>\n",
      "BLEU Score: [1.0, 1.0, 1.0, 1.0]\n"
     ]
    },
    {
     "name": "stderr",
     "output_type": "stream",
     "text": [
      "\n"
     ]
    }
   ],
   "execution_count": 7
  },
  {
   "cell_type": "markdown",
   "id": "de635f30",
   "metadata": {},
   "source": "## Evaluate on the training set"
  },
  {
   "cell_type": "code",
   "id": "4d82ad19d8fc56be",
   "metadata": {
    "ExecuteTime": {
     "end_time": "2024-07-18T18:59:40.124391Z",
     "start_time": "2024-07-18T18:58:40.701073Z"
    }
   },
   "source": [
    "EN_SRC = [' '.join(sent) for sent in english_data.data_str]\n",
    "AF_REF = [[' '.join(sent)] for sent in afrikaans_data.data_str]\n",
    "TRANSLATED = [translator.translate_sentence(sent) for sent in EN_SRC]\n",
    "corpus_bleu(TRANSLATED, AF_REF)"
   ],
   "outputs": [
    {
     "name": "stderr",
     "output_type": "stream",
     "text": [
      "Using the latest cached version of the module from /Users/lucien/.cache/huggingface/modules/evaluate_modules/metrics/evaluate-metric--bleu/9e0985c1200e367cce45605ce0ecb5ede079894e0f24f54613fca08eeb8aff76 (last modified on Thu Jul 18 16:29:52 2024) since it couldn't be found locally at evaluate-metric--bleu, or remotely on the Hugging Face Hub.\n"
     ]
    },
    {
     "name": "stdout",
     "output_type": "stream",
     "text": [
      "                                     BLEU-1                                     \n",
      "------------------------------------------------------------------------------------------\n",
      "bleu                : 0.9954484331688467\n",
      "precisions          : [0.996393611540443]\n",
      "brevity_penalty     : 0.9990514006105127\n",
      "length_ratio        : 0.999051850246519\n",
      "translation_length  : 36879\n",
      "reference_length    : 36914\n",
      "******************************************************************************************\n",
      "                                     BLEU-2                                     \n",
      "------------------------------------------------------------------------------------------\n",
      "bleu                : 0.9934852671204528\n",
      "precisions          : [0.996393611540443, 0.9924674267100977]\n",
      "brevity_penalty     : 0.9990514006105127\n",
      "length_ratio        : 0.999051850246519\n",
      "translation_length  : 36879\n",
      "reference_length    : 36914\n",
      "******************************************************************************************\n",
      "                                     BLEU-3                                     \n",
      "------------------------------------------------------------------------------------------\n",
      "bleu                : 0.9915250814617586\n",
      "precisions          : [0.996393611540443, 0.9924674267100977, 0.988554046850011]\n",
      "brevity_penalty     : 0.9990514006105127\n",
      "length_ratio        : 0.999051850246519\n",
      "translation_length  : 36879\n",
      "reference_length    : 36914\n",
      "******************************************************************************************\n",
      "                                     BLEU-4                                     \n",
      "------------------------------------------------------------------------------------------\n",
      "bleu                : 0.9894233598478434\n",
      "precisions          : [0.996393611540443, 0.9924674267100977, 0.988554046850011, 0.9840783833435395]\n",
      "brevity_penalty     : 0.9990514006105127\n",
      "length_ratio        : 0.999051850246519\n",
      "translation_length  : 36879\n",
      "reference_length    : 36914\n",
      "******************************************************************************************\n"
     ]
    }
   ],
   "execution_count": 8
  },
  {
   "metadata": {},
   "cell_type": "markdown",
   "source": "## Evaluate on the validation set",
   "id": "9eb79c77a78f9c77"
  },
  {
   "metadata": {
    "ExecuteTime": {
     "end_time": "2024-07-18T18:59:40.129330Z",
     "start_time": "2024-07-18T18:59:40.125282Z"
    }
   },
   "cell_type": "code",
   "source": [
    "with open(f\"{config.VAL_DATA}/english.txt\") as data:\n",
    "    english_val = data.read().strip().split(\"\\n\")\n",
    "with open(f\"{config.VAL_DATA}/afrikaans.txt\") as data:\n",
    "    afrikaans_val = data.read().strip().split(\"\\n\")"
   ],
   "id": "cc2f63dbee5a873d",
   "outputs": [],
   "execution_count": 9
  },
  {
   "metadata": {},
   "cell_type": "markdown",
   "source": "### Greedy Search",
   "id": "a4e43332a53e12b9"
  },
  {
   "cell_type": "code",
   "id": "0e88e600",
   "metadata": {
    "ExecuteTime": {
     "end_time": "2024-07-18T19:00:04.238019Z",
     "start_time": "2024-07-18T18:59:40.131941Z"
    }
   },
   "source": [
    "VAL_AF_REF = [[sent] for sent in afrikaans_val]\n",
    "\n",
    "VAL_TRANSLATED = [translator.translate_sentence(sent) for sent in english_val]\n",
    "\n",
    "corpus_bleu(VAL_TRANSLATED, VAL_AF_REF)"
   ],
   "outputs": [
    {
     "name": "stderr",
     "output_type": "stream",
     "text": [
      "Using the latest cached version of the module from /Users/lucien/.cache/huggingface/modules/evaluate_modules/metrics/evaluate-metric--bleu/9e0985c1200e367cce45605ce0ecb5ede079894e0f24f54613fca08eeb8aff76 (last modified on Thu Jul 18 16:29:52 2024) since it couldn't be found locally at evaluate-metric--bleu, or remotely on the Hugging Face Hub.\n"
     ]
    },
    {
     "name": "stdout",
     "output_type": "stream",
     "text": [
      "                                     BLEU-1                                     \n",
      "------------------------------------------------------------------------------------------\n",
      "bleu                : 0.6697274030464273\n",
      "precisions          : [0.7205201675115716]\n",
      "brevity_penalty     : 0.929505422949416\n",
      "length_ratio        : 0.9318773106942353\n",
      "translation_length  : 13611\n",
      "reference_length    : 14606\n",
      "******************************************************************************************\n",
      "                                     BLEU-2                                     \n",
      "------------------------------------------------------------------------------------------\n",
      "bleu                : 0.5767405182610258\n",
      "precisions          : [0.7205201675115716, 0.5343316871116776]\n",
      "brevity_penalty     : 0.929505422949416\n",
      "length_ratio        : 0.9318773106942353\n",
      "translation_length  : 13611\n",
      "reference_length    : 14606\n",
      "******************************************************************************************\n",
      "                                     BLEU-3                                     \n",
      "------------------------------------------------------------------------------------------\n",
      "bleu                : 0.495069082082088\n",
      "precisions          : [0.7205201675115716, 0.5343316871116776, 0.39245020440114814]\n",
      "brevity_penalty     : 0.929505422949416\n",
      "length_ratio        : 0.9318773106942353\n",
      "translation_length  : 13611\n",
      "reference_length    : 14606\n",
      "******************************************************************************************\n",
      "                                     BLEU-4                                     \n",
      "------------------------------------------------------------------------------------------\n",
      "bleu                : 0.4044127795422842\n",
      "precisions          : [0.7205201675115716, 0.5343316871116776, 0.39245020440114814, 0.23716475095785441]\n",
      "brevity_penalty     : 0.929505422949416\n",
      "length_ratio        : 0.9318773106942353\n",
      "translation_length  : 13611\n",
      "reference_length    : 14606\n",
      "******************************************************************************************\n"
     ]
    }
   ],
   "execution_count": 10
  },
  {
   "metadata": {},
   "cell_type": "markdown",
   "source": "### Beam Search",
   "id": "60836076a70f03a3"
  },
  {
   "metadata": {
    "ExecuteTime": {
     "end_time": "2024-07-18T19:01:54.476951Z",
     "start_time": "2024-07-18T19:00:04.239097Z"
    }
   },
   "cell_type": "code",
   "source": [
    "VAL_TRANSLATED = [translator.translate_sentence(sent, method=\"beam\", beam_width=2) for sent in english_val]\n",
    "\n",
    "corpus_bleu(VAL_TRANSLATED, VAL_AF_REF)"
   ],
   "id": "600fd0bce64c91d1",
   "outputs": [
    {
     "name": "stderr",
     "output_type": "stream",
     "text": [
      "Using the latest cached version of the module from /Users/lucien/.cache/huggingface/modules/evaluate_modules/metrics/evaluate-metric--bleu/9e0985c1200e367cce45605ce0ecb5ede079894e0f24f54613fca08eeb8aff76 (last modified on Thu Jul 18 16:29:52 2024) since it couldn't be found locally at evaluate-metric--bleu, or remotely on the Hugging Face Hub.\n"
     ]
    },
    {
     "name": "stdout",
     "output_type": "stream",
     "text": [
      "                                     BLEU-1                                     \n",
      "------------------------------------------------------------------------------------------\n",
      "bleu                : 0.6711800947007869\n",
      "precisions          : [0.7054046284317953]\n",
      "brevity_penalty     : 0.951482408320606\n",
      "length_ratio        : 0.9526222100506642\n",
      "translation_length  : 13914\n",
      "reference_length    : 14606\n",
      "******************************************************************************************\n",
      "                                     BLEU-2                                     \n",
      "------------------------------------------------------------------------------------------\n",
      "bleu                : 0.5780009139628087\n",
      "precisions          : [0.7054046284317953, 0.523139145990511]\n",
      "brevity_penalty     : 0.951482408320606\n",
      "length_ratio        : 0.9526222100506642\n",
      "translation_length  : 13914\n",
      "reference_length    : 14606\n",
      "******************************************************************************************\n",
      "                                     BLEU-3                                     \n",
      "------------------------------------------------------------------------------------------\n",
      "bleu                : 0.49619345621806804\n",
      "precisions          : [0.7054046284317953, 0.523139145990511, 0.3843220338983051]\n",
      "brevity_penalty     : 0.951482408320606\n",
      "length_ratio        : 0.9526222100506642\n",
      "translation_length  : 13914\n",
      "reference_length    : 14606\n",
      "******************************************************************************************\n",
      "                                     BLEU-4                                     \n",
      "------------------------------------------------------------------------------------------\n",
      "bleu                : 0.4055478220465684\n",
      "precisions          : [0.7054046284317953, 0.523139145990511, 0.3843220338983051, 0.23270967141394397]\n",
      "brevity_penalty     : 0.951482408320606\n",
      "length_ratio        : 0.9526222100506642\n",
      "translation_length  : 13914\n",
      "reference_length    : 14606\n",
      "******************************************************************************************\n"
     ]
    }
   ],
   "execution_count": 11
  },
  {
   "metadata": {},
   "cell_type": "markdown",
   "source": "## Evaluate on the SUN validation set only",
   "id": "6d26c9591161f330"
  },
  {
   "metadata": {
    "ExecuteTime": {
     "end_time": "2024-07-18T19:01:54.481951Z",
     "start_time": "2024-07-18T19:01:54.477789Z"
    }
   },
   "cell_type": "code",
   "source": [
    "with open(f\"{config.VAL_DATA}/sun_english.txt\") as data:\n",
    "    sun_english_val = data.read().strip().split(\"\\n\")\n",
    "with open(f\"{config.VAL_DATA}/sun_afrikaans.txt\") as data:\n",
    "    sun_afrikaans_val = data.read().strip().split(\"\\n\")"
   ],
   "id": "d6f33a11f7b63f3b",
   "outputs": [],
   "execution_count": 12
  },
  {
   "metadata": {},
   "cell_type": "markdown",
   "source": "### Greedy Search",
   "id": "6e9faff3234a2270"
  },
  {
   "cell_type": "code",
   "id": "e8cb8914",
   "metadata": {
    "ExecuteTime": {
     "end_time": "2024-07-18T19:02:01.851146Z",
     "start_time": "2024-07-18T19:01:54.482941Z"
    }
   },
   "source": [
    "SUN_VAL_AF = [[sent] for sent in sun_afrikaans_val]\n",
    "SUN_VAL_TRANSLATED = [translator.translate_sentence(sent) for sent in sun_english_val]\n",
    "corpus_bleu(SUN_VAL_TRANSLATED, SUN_VAL_AF)"
   ],
   "outputs": [
    {
     "name": "stderr",
     "output_type": "stream",
     "text": [
      "Using the latest cached version of the module from /Users/lucien/.cache/huggingface/modules/evaluate_modules/metrics/evaluate-metric--bleu/9e0985c1200e367cce45605ce0ecb5ede079894e0f24f54613fca08eeb8aff76 (last modified on Thu Jul 18 16:29:52 2024) since it couldn't be found locally at evaluate-metric--bleu, or remotely on the Hugging Face Hub.\n"
     ]
    },
    {
     "name": "stdout",
     "output_type": "stream",
     "text": [
      "                                     BLEU-1                                     \n",
      "------------------------------------------------------------------------------------------\n",
      "bleu                : 0.4447011991151803\n",
      "precisions          : [0.5130356607731495]\n",
      "brevity_penalty     : 0.8668036807519607\n",
      "length_ratio        : 0.8749344520188779\n",
      "translation_length  : 3337\n",
      "reference_length    : 3814\n",
      "******************************************************************************************\n",
      "                                     BLEU-2                                     \n",
      "------------------------------------------------------------------------------------------\n",
      "bleu                : 0.33435312673768314\n",
      "precisions          : [0.5130356607731495, 0.2900158478605388]\n",
      "brevity_penalty     : 0.8668036807519607\n",
      "length_ratio        : 0.8749344520188779\n",
      "translation_length  : 3337\n",
      "reference_length    : 3814\n",
      "******************************************************************************************\n",
      "                                     BLEU-3                                     \n",
      "------------------------------------------------------------------------------------------\n",
      "bleu                : 0.2530255250433046\n",
      "precisions          : [0.5130356607731495, 0.2900158478605388, 0.16717120753447695]\n",
      "brevity_penalty     : 0.8668036807519607\n",
      "length_ratio        : 0.8749344520188779\n",
      "translation_length  : 3337\n",
      "reference_length    : 3814\n",
      "******************************************************************************************\n",
      "                                     BLEU-4                                     \n",
      "------------------------------------------------------------------------------------------\n",
      "bleu                : 0.1608334540257813\n",
      "precisions          : [0.5130356607731495, 0.2900158478605388, 0.16717120753447695, 0.04765317090648513]\n",
      "brevity_penalty     : 0.8668036807519607\n",
      "length_ratio        : 0.8749344520188779\n",
      "translation_length  : 3337\n",
      "reference_length    : 3814\n",
      "******************************************************************************************\n"
     ]
    }
   ],
   "execution_count": 13
  },
  {
   "metadata": {},
   "cell_type": "markdown",
   "source": "### Beam Search",
   "id": "a5a18ccc9d598335"
  },
  {
   "metadata": {
    "ExecuteTime": {
     "end_time": "2024-07-18T19:02:36.693768Z",
     "start_time": "2024-07-18T19:02:01.852058Z"
    }
   },
   "cell_type": "code",
   "source": [
    "SUN_VAL_TRANSLATED = [translator.translate_sentence(sent, method=\"beam\", beam_width=2) for sent in sun_english_val]\n",
    "corpus_bleu(SUN_VAL_TRANSLATED, SUN_VAL_AF)"
   ],
   "id": "8cc7879f67395fa0",
   "outputs": [
    {
     "name": "stderr",
     "output_type": "stream",
     "text": [
      "Using the latest cached version of the module from /Users/lucien/.cache/huggingface/modules/evaluate_modules/metrics/evaluate-metric--bleu/9e0985c1200e367cce45605ce0ecb5ede079894e0f24f54613fca08eeb8aff76 (last modified on Thu Jul 18 16:29:52 2024) since it couldn't be found locally at evaluate-metric--bleu, or remotely on the Hugging Face Hub.\n"
     ]
    },
    {
     "name": "stdout",
     "output_type": "stream",
     "text": [
      "                                     BLEU-1                                     \n",
      "------------------------------------------------------------------------------------------\n",
      "bleu                : 0.447827350834006\n",
      "precisions          : [0.4802244039270687]\n",
      "brevity_penalty     : 0.9325376785766538\n",
      "length_ratio        : 0.9347142108023073\n",
      "translation_length  : 3565\n",
      "reference_length    : 3814\n",
      "******************************************************************************************\n",
      "                                     BLEU-2                                     \n",
      "------------------------------------------------------------------------------------------\n",
      "bleu                : 0.3379156989466911\n",
      "precisions          : [0.4802244039270687, 0.2734259532958912]\n",
      "brevity_penalty     : 0.9325376785766538\n",
      "length_ratio        : 0.9347142108023073\n",
      "translation_length  : 3565\n",
      "reference_length    : 3814\n",
      "******************************************************************************************\n",
      "                                     BLEU-3                                     \n",
      "------------------------------------------------------------------------------------------\n",
      "bleu                : 0.2545812274230224\n",
      "precisions          : [0.4802244039270687, 0.2734259532958912, 0.15495157763199]\n",
      "brevity_penalty     : 0.9325376785766538\n",
      "length_ratio        : 0.9347142108023073\n",
      "translation_length  : 3565\n",
      "reference_length    : 3814\n",
      "******************************************************************************************\n",
      "                                     BLEU-4                                     \n",
      "------------------------------------------------------------------------------------------\n",
      "bleu                : 0.16043770424875403\n",
      "precisions          : [0.4802244039270687, 0.2734259532958912, 0.15495157763199, 0.04306061609804571]\n",
      "brevity_penalty     : 0.9325376785766538\n",
      "length_ratio        : 0.9347142108023073\n",
      "translation_length  : 3565\n",
      "reference_length    : 3814\n",
      "******************************************************************************************\n"
     ]
    }
   ],
   "execution_count": 14
  }
 ],
 "metadata": {
  "kernelspec": {
   "display_name": "Python 3 (ipykernel)",
   "language": "python",
   "name": "python3"
  },
  "language_info": {
   "codemirror_mode": {
    "name": "ipython",
    "version": 3
   },
   "file_extension": ".py",
   "mimetype": "text/x-python",
   "name": "python",
   "nbconvert_exporter": "python",
   "pygments_lexer": "ipython3",
   "version": "3.10.14"
  }
 },
 "nbformat": 4,
 "nbformat_minor": 5
}
