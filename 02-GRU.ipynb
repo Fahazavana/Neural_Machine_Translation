{
 "cells": [
  {
   "cell_type": "markdown",
   "id": "88716432",
   "metadata": {},
   "source": [
    "# NEURAL MACHINE TRANSLATION - GRU"
   ]
  },
  {
   "cell_type": "markdown",
   "id": "5fb4bb18",
   "metadata": {},
   "source": [
    "## Required Module & Config files"
   ]
  },
  {
   "cell_type": "code",
   "execution_count": 1,
   "id": "a89bf9e4-311d-4af8-846b-ccfcb9e940b2",
   "metadata": {
    "ExecuteTime": {
     "end_time": "2024-07-19T15:37:19.132031Z",
     "start_time": "2024-07-19T15:37:16.342105Z"
    }
   },
   "outputs": [
    {
     "name": "stderr",
     "output_type": "stream",
     "text": [
      "Using the latest cached version of the module from /Users/lucien/.cache/huggingface/modules/evaluate_modules/metrics/evaluate-metric--bleu/9e0985c1200e367cce45605ce0ecb5ede079894e0f24f54613fca08eeb8aff76 (last modified on Thu Jul 18 16:29:52 2024) since it couldn't be found locally at evaluate-metric--bleu, or remotely on the Hugging Face Hub.\n"
     ]
    },
    {
     "name": "stdout",
     "output_type": "stream",
     "text": [
      "Using device: mps\n"
     ]
    }
   ],
   "source": [
    "import src.RNN_GRU as gruNMT\n",
    "from src.Tokenizer import Corpus, LangData, dataLoader\n",
    "from src.utils import load_config, get_device, train_model, sentence_bleu, corpus_bleu\n",
    "from src.Translator import Translator\n",
    "from torch.nn import CrossEntropyLoss\n",
    "from torch.optim import NAdam\n",
    "import evaluate\n",
    "import numpy as np\n",
    "from torchinfo import summary\n",
    "\n",
    "# Loading config file\n",
    "config = load_config()\n",
    "# Get device : GPU/MPS Back-End/CPU\n",
    "device = get_device()\n",
    "print(f\"Using device: {device}\")"
   ]
  },
  {
   "cell_type": "markdown",
   "id": "76325a3f",
   "metadata": {},
   "source": [
    "## Load the dataset"
   ]
  },
  {
   "cell_type": "code",
   "execution_count": 2,
   "id": "083f4d8c",
   "metadata": {
    "ExecuteTime": {
     "end_time": "2024-07-19T15:37:19.152422Z",
     "start_time": "2024-07-19T15:37:19.133759Z"
    }
   },
   "outputs": [],
   "source": [
    "# Encoder-Source\n",
    "english_data = Corpus(f\"{config.TRAIN_DATA}/english.txt\", \"English\")\n",
    "afrikaans_data = Corpus(f\"{config.TRAIN_DATA}/afrikaans.txt\", \"Afrikaans\")"
   ]
  },
  {
   "cell_type": "markdown",
   "id": "0142f911",
   "metadata": {},
   "source": [
    "## Set Hyperparameters"
   ]
  },
  {
   "cell_type": "code",
   "execution_count": 3,
   "id": "d5ff35e0",
   "metadata": {
    "ExecuteTime": {
     "end_time": "2024-07-19T15:37:19.155843Z",
     "start_time": "2024-07-19T15:37:19.153388Z"
    }
   },
   "outputs": [],
   "source": [
    "# Encoder - source\n",
    "IN_ENCODER = english_data.vocab_size\n",
    "ENCODER_EMB = 256\n",
    "\n",
    "# Decoder - target\n",
    "IN_DECODER = afrikaans_data.vocab_size\n",
    "OUT_DECODER = afrikaans_data.vocab_size\n",
    "DECODER_EMB = 256\n",
    "\n",
    "# Shared\n",
    "HIDDEN_SIZE = 1024\n",
    "NUM_LAYERS = 2\n",
    "\n",
    "LR = 1e-3\n",
    "BATCH_SIZE = 128"
   ]
  },
  {
   "cell_type": "markdown",
   "id": "da759f25",
   "metadata": {},
   "source": [
    "## Set the model"
   ]
  },
  {
   "cell_type": "code",
   "execution_count": 4,
   "id": "f04f2d2f",
   "metadata": {
    "ExecuteTime": {
     "end_time": "2024-07-19T15:37:19.277358Z",
     "start_time": "2024-07-19T15:37:19.157383Z"
    }
   },
   "outputs": [
    {
     "data": {
      "text/plain": [
       "=================================================================\n",
       "Layer (type:depth-idx)                   Param #\n",
       "=================================================================\n",
       "GRU_NMT                                  --\n",
       "├─Encoder: 1-1                           --\n",
       "│    └─GRU: 2-1                          10,235,904\n",
       "│    └─Embedding: 2-2                    744,448\n",
       "├─Decoder: 1-2                           --\n",
       "│    └─GRU: 2-3                          10,235,904\n",
       "│    └─Embedding: 2-4                    737,280\n",
       "│    └─Linear: 2-5                       2,952,000\n",
       "=================================================================\n",
       "Total params: 24,905,536\n",
       "Trainable params: 24,905,536\n",
       "Non-trainable params: 0\n",
       "================================================================="
      ]
     },
     "execution_count": 4,
     "metadata": {},
     "output_type": "execute_result"
    }
   ],
   "source": [
    "encoder_net = gruNMT.Encoder(IN_ENCODER, ENCODER_EMB, HIDDEN_SIZE, NUM_LAYERS, type=\"GRU\").to(device)\n",
    "decoder_net = gruNMT.Decoder(IN_DECODER, DECODER_EMB, HIDDEN_SIZE, NUM_LAYERS, type='GRU').to(device)\n",
    "model = gruNMT.GRU_NMT(encoder_net, decoder_net, OUT_DECODER)\n",
    "\n",
    "summary(model, depth=4)"
   ]
  },
  {
   "cell_type": "code",
   "execution_count": 5,
   "id": "ee757771",
   "metadata": {
    "ExecuteTime": {
     "end_time": "2024-07-19T15:37:19.553481Z",
     "start_time": "2024-07-19T15:37:19.278028Z"
    }
   },
   "outputs": [],
   "source": [
    "train_data = LangData(english_data, afrikaans_data)\n",
    "train_loader = dataLoader(train_data, BATCH_SIZE)\n",
    "\n",
    "pad_idx = afrikaans_data.stoi['<pad>']\n",
    "criterion = CrossEntropyLoss(ignore_index=0)\n",
    "\n",
    "optimizer = NAdam(model.parameters(), LR)\n",
    "translator = Translator(model, english_data, afrikaans_data, device)"
   ]
  },
  {
   "cell_type": "code",
   "execution_count": 6,
   "id": "bcb89b48",
   "metadata": {
    "ExecuteTime": {
     "end_time": "2024-07-19T15:37:19.842462Z",
     "start_time": "2024-07-19T15:37:19.554204Z"
    }
   },
   "outputs": [
    {
     "name": "stdout",
     "output_type": "stream",
     "text": [
      "Pred: <sos> $y=1$ afgerig $w[n]$ $w[n]$ $w[n]$ draai draai eintlik eintlik geel uitgegee gelukkig hospitale stelsel stelsel daans veg literatuur wel $d$ u u regressiemodel antwoord $\\omega=\\frac{\\pi}{6}$ tegniek hy/sy hoogwater verseker verskaf vrae vrae tjirp gebeur gebeur gebeur gebeur rasend vergelyking gemiddelde belofte herken.\" herken.\" doel voorbeeld onderliggende herken.\" herken.\" mond $x_3[k]$ nommer \"waar ernstig lees vermenigvuldiging voorstel hotel redelik elkeen alles 16-jarige 16-jarige sleg mans mans gemiddeld legering kort-tyd dit.\" fout kort-tyd honde kort-tyd knoppie klassifiseerders beginner beginner $\\mathbf{x}^{(1)},\\mathbf{x}^{(2)},\\ldots\\mathbf{x}^{(n)}$ $\\mathbf{x}^{(1)},\\mathbf{x}^{(2)},\\ldots\\mathbf{x}^{(n)}$ doel duitse duitse duitse beleefd bekommerd bekommerd elkeen toekomstige spesifieke hande banke \\% hê hê maar ataturk stuur kort-tyd duidelik duidelik ko\\\"effisi\\\"ente las las $y=1$ $y=1$ afgerig $w[n]$ $w[n]$ $w[n]$ digthede digthede gemonster $}}}\\,y[n]$ mans mans mans rasend gemiddeld kort-tyd dit.\" fout kort-tyd verwerk dit.\" lees duur \"nee enigste lees dimensies rekening swede swede swede staat \\% \\% \"almal \\textit{wenk} \\textit{wenk} $x[n]\\,\\raisebox{.5pt}{\\textcircled{\\footnotesize\\raisebox{-.9pt}{$ tweetalig voltooi voltooi opgemerk opgemerk sukses kitsbank ontwerpsmatriks kat $a$ getrou.\" aankom ouers hy/sy formules kenmerk (nll) felipe beraming beraming beraming geraai geraai engeland engeland $w_4=0.01$ sleg $l_1$ $l_1$ konstante byvoorbeeld $f_0$ $f_0$ toon\n",
      "Refe: <sos> as ons die teikenuittree voorstel as $y\\in\\{0,1\\}$ en ons $n$ afrigpunte het , dan kan ons die negatiewe log-waarskynlikheidskostefunksie skryf as: <eos>\n",
      "BLEU SCORES: [0.038, 0.019, 0.009, 0.0]\n"
     ]
    }
   ],
   "source": [
    "# Data used for follow-up durring training\n",
    "mytext = \"<sos> given that we represent the target output as $y\\in\\{0,1\\}$ and we have $n$ training points , we can write the negative log likelihood of the parameters as follows: <eos>\"\n",
    "ground = \"<sos> as ons die teikenuittree voorstel as $y\\in\\{0,1\\}$ en ons $n$ afrigpunte het , dan kan ons die negatiewe log-waarskynlikheidskostefunksie skryf as: <eos>\"\n",
    "\n",
    "predicted = translator.translate_sentence(mytext)\n",
    "bleu = sentence_bleu(prediction=[predicted], reference=[ground])\n",
    "print(f\"Pred: {predicted}\")\n",
    "print(f\"Refe: {ground}\")\n",
    "print(f\"BLEU SCORES: {bleu}\")"
   ]
  },
  {
   "cell_type": "markdown",
   "id": "2ed66bc3",
   "metadata": {},
   "source": [
    "## Train the data"
   ]
  },
  {
   "cell_type": "code",
   "execution_count": 7,
   "id": "7b2790009f0b8f40",
   "metadata": {
    "ExecuteTime": {
     "end_time": "2024-07-19T15:41:07.919049Z",
     "start_time": "2024-07-19T15:37:19.843186Z"
    }
   },
   "outputs": [
    {
     "name": "stderr",
     "output_type": "stream",
     "text": [
      "Using the latest cached version of the module from /Users/lucien/.cache/huggingface/modules/evaluate_modules/metrics/evaluate-metric--bleu/9e0985c1200e367cce45605ce0ecb5ede079894e0f24f54613fca08eeb8aff76 (last modified on Thu Jul 18 16:29:52 2024) since it couldn't be found locally at evaluate-metric--bleu, or remotely on the Hugging Face Hub.\n",
      "Epoch 1/15: 100%|██████████| 20/20 [00:07<00:00,  2.63batch/s, loss=1.695]\n"
     ]
    },
    {
     "name": "stdout",
     "output_type": "stream",
     "text": [
      "Predicted: <sos> die die die van die die <eos>\n",
      "BLEU Score: [0.07, 0.052, 0.038, 0.0]\n"
     ]
    },
    {
     "name": "stderr",
     "output_type": "stream",
     "text": [
      "Epoch 2/15: 100%|██████████| 20/20 [00:07<00:00,  2.59batch/s, loss=1.510]\n"
     ]
    },
    {
     "name": "stdout",
     "output_type": "stream",
     "text": [
      "Predicted: <sos> die die volgende en die volgende , en , , , , , , , , , , , , , , , , , , , , , , , , , , , , , , , , , , , , , , , , , , , , , , , , , , , , , , , , , , , , , , , , , , , , , , , , , , , , , , , , , , , , , , , , , , , , , , , , , , , , , , , , , , , , , , , , , , , , , , , , , , , , , , , , , , , , , , , , , , , , , , , , , , , , , , , , , , , , , , , , , , , , , , ,\n",
      "BLEU Score: [0.039, 0.021, 0.014, 0.0]\n"
     ]
    },
    {
     "name": "stderr",
     "output_type": "stream",
     "text": [
      "Epoch 3/15: 100%|██████████| 20/20 [00:07<00:00,  2.66batch/s, loss=1.295]\n"
     ]
    },
    {
     "name": "stdout",
     "output_type": "stream",
     "text": [
      "Predicted: <sos> ons het die volgende van die resulterende van die resulterende van die gemiddeld <eos>\n",
      "BLEU Score: [0.184, 0.119, 0.084, 0.0]\n"
     ]
    },
    {
     "name": "stderr",
     "output_type": "stream",
     "text": [
      "Epoch 4/15: 100%|██████████| 20/20 [00:07<00:00,  2.60batch/s, loss=1.142]\n"
     ]
    },
    {
     "name": "stdout",
     "output_type": "stream",
     "text": [
      "Predicted: <sos> ons wil die data van die tyd-gebied , en die \\% in die tyd-gebied in die tyd-gebied <eos>\n",
      "BLEU Score: [0.29, 0.164, 0.11, 0.0]\n"
     ]
    },
    {
     "name": "stderr",
     "output_type": "stream",
     "text": [
      "Epoch 5/15: 100%|██████████| 20/20 [00:07<00:00,  2.60batch/s, loss=0.966]\n"
     ]
    },
    {
     "name": "stdout",
     "output_type": "stream",
     "text": [
      "Predicted: <sos> veronderstel ons wil die data gebruik , en die \\% verandering in die gemiddeld , verdien , en laastens die kontinue-tyd omgeskakel , en laastens die kontinue-tyd omgeskakel , en laastens die kontinue-tyd omgeskakel , en laastens die kontinue-tyd omgeskakel , en laastens die kontinue-tyd omgeskakel , en laastens die kontinue-tyd omgeskakel , en laastens die kontinue-tyd omgeskakel , en laastens , die kontinue-tyd omgeskakel , en laastens <eos>\n",
      "BLEU Score: [0.173, 0.097, 0.064, 0.0]\n"
     ]
    },
    {
     "name": "stderr",
     "output_type": "stream",
     "text": [
      "Epoch 6/15: 100%|██████████| 20/20 [00:07<00:00,  2.78batch/s, loss=0.760]\n"
     ]
    },
    {
     "name": "stdout",
     "output_type": "stream",
     "text": [
      "Predicted: <sos> veronderstel ons die volgende datastel : <eos>\n",
      "BLEU Score: [0.079, 0.067, 0.052, 0.036]\n"
     ]
    },
    {
     "name": "stderr",
     "output_type": "stream",
     "text": [
      "Epoch 7/15: 100%|██████████| 20/20 [00:07<00:00,  2.68batch/s, loss=0.671]\n"
     ]
    },
    {
     "name": "stdout",
     "output_type": "stream",
     "text": [
      "Predicted: <sos> as ons die teikenuittree voorstel as $y\\in\\{0,1\\}$ en ons afrigpunte het , dan die \\% verandering in die britse mark , en die gedrag vir $i>400$ <eos>\n",
      "BLEU Score: [0.674, 0.612, 0.572, 0.536]\n"
     ]
    },
    {
     "name": "stderr",
     "output_type": "stream",
     "text": [
      "Epoch 8/15: 100%|██████████| 20/20 [00:07<00:00,  2.69batch/s, loss=0.530]\n"
     ]
    },
    {
     "name": "stdout",
     "output_type": "stream",
     "text": [
      "Predicted: <sos> as ons die teikenuittree voorstel as $y\\in\\{0,1\\}$ en ons afrigpunte het , kan ons die negatiewe log-waarskynlikheidskostefunksie skryf as : <eos>\n",
      "BLEU Score: [0.892, 0.865, 0.837, 0.808]\n"
     ]
    },
    {
     "name": "stderr",
     "output_type": "stream",
     "text": [
      "Epoch 9/15: 100%|██████████| 20/20 [00:07<00:00,  2.70batch/s, loss=0.441]\n"
     ]
    },
    {
     "name": "stdout",
     "output_type": "stream",
     "text": [
      "Predicted: <sos> as ons die teikenuittree voorstel as $y\\in\\{0,1\\}$ en ons die \\% verandering in die amerikaanse mark , die \\% verandering in die amerikaanse mark , die \\% verandering in die britse mark , en die \\% verandering in die duitse mark aan <eos>\n",
      "BLEU Score: [0.426, 0.404, 0.381, 0.362]\n"
     ]
    },
    {
     "name": "stderr",
     "output_type": "stream",
     "text": [
      "Epoch 10/15: 100%|██████████| 20/20 [00:07<00:00,  2.73batch/s, loss=0.364]\n"
     ]
    },
    {
     "name": "stdout",
     "output_type": "stream",
     "text": [
      "Predicted: <sos> as ons die teikenuittree voorstel as $y\\in\\{0,1\\}$ en ons $n$ afrigpunte het , dan kan ons die negatiewe log-waarskynlikheidskostefunksie skryf as : <eos>\n",
      "BLEU Score: [1.0, 1.0, 1.0, 1.0]\n"
     ]
    },
    {
     "name": "stderr",
     "output_type": "stream",
     "text": [
      "Epoch 11/15: 100%|██████████| 20/20 [00:07<00:00,  2.67batch/s, loss=0.321]\n"
     ]
    },
    {
     "name": "stdout",
     "output_type": "stream",
     "text": [
      "Predicted: <sos> as ons die teikenuittree voorstel as $y\\in\\{0,1\\}$ en ons $n$ afrigpunte het , dan kan ons die negatiewe log-waarskynlikheidskostefunksie skryf as : <eos>\n",
      "BLEU Score: [1.0, 1.0, 1.0, 1.0]\n"
     ]
    },
    {
     "name": "stderr",
     "output_type": "stream",
     "text": [
      "Epoch 12/15: 100%|██████████| 20/20 [00:06<00:00,  2.88batch/s, loss=0.265]\n"
     ]
    },
    {
     "name": "stdout",
     "output_type": "stream",
     "text": [
      "Predicted: <sos> as ons die teikenuittree voorstel as $y\\in\\{0,1\\}$ en ons $n$ afrigpunte het , dan kan ons die negatiewe log-waarskynlikheidskostefunksie skryf as : <eos>\n",
      "BLEU Score: [1.0, 1.0, 1.0, 1.0]\n"
     ]
    },
    {
     "name": "stderr",
     "output_type": "stream",
     "text": [
      "Epoch 13/15: 100%|██████████| 20/20 [00:07<00:00,  2.69batch/s, loss=0.266]\n"
     ]
    },
    {
     "name": "stdout",
     "output_type": "stream",
     "text": [
      "Predicted: <sos> as ons die teikenuittree voorstel as $y\\in\\{0,1\\}$ en ons $n$ afrigpunte het , dan kan ons die negatiewe log-waarskynlikheidskostefunksie skryf as : <eos>\n",
      "BLEU Score: [1.0, 1.0, 1.0, 1.0]\n"
     ]
    },
    {
     "name": "stderr",
     "output_type": "stream",
     "text": [
      "Epoch 14/15: 100%|██████████| 20/20 [00:07<00:00,  2.71batch/s, loss=0.251]\n"
     ]
    },
    {
     "name": "stdout",
     "output_type": "stream",
     "text": [
      "Predicted: <sos> as ons die teikenuittree voorstel as $y\\in\\{0,1\\}$ en ons $n$ afrigpunte het , dan kan ons die negatiewe log-waarskynlikheidskostefunksie skryf as : <eos>\n",
      "BLEU Score: [1.0, 1.0, 1.0, 1.0]\n"
     ]
    },
    {
     "name": "stderr",
     "output_type": "stream",
     "text": [
      "Epoch 15/15: 100%|██████████| 20/20 [00:07<00:00,  2.71batch/s, loss=0.249]"
     ]
    },
    {
     "name": "stdout",
     "output_type": "stream",
     "text": [
      "Predicted: <sos> as ons die teikenuittree voorstel as $y\\in\\{0,1\\}$ en ons $n$ afrigpunte het , dan kan ons die negatiewe log-waarskynlikheidskostefunksie skryf as : <eos>\n",
      "BLEU Score: [1.0, 1.0, 1.0, 1.0]\n"
     ]
    },
    {
     "name": "stderr",
     "output_type": "stream",
     "text": [
      "\n"
     ]
    }
   ],
   "source": [
    "EPOCHS = 15\n",
    "params = {\n",
    "    \"model\": model,\n",
    "    \"train_loader\": train_loader,\n",
    "    \"optimizer\": optimizer,\n",
    "    \"criterion\": criterion,\n",
    "    \"device\": device,\n",
    "    \"epochs\": EPOCHS,\n",
    "    \"source_test\": mytext,\n",
    "    \"reference\": ground,\n",
    "\t\"translator\":translator\n",
    "}\n",
    "\n",
    "train_loss = train_model(**params)\n",
    "np.save('gru_train_loss.npy', np.array(train_loss))"
   ]
  },
  {
   "cell_type": "markdown",
   "id": "de635f30",
   "metadata": {},
   "source": [
    "## Evaluate on the training set"
   ]
  },
  {
   "cell_type": "code",
   "execution_count": 8,
   "id": "4d82ad19d8fc56be",
   "metadata": {
    "ExecuteTime": {
     "end_time": "2024-07-19T15:41:54.021239Z",
     "start_time": "2024-07-19T15:41:07.919903Z"
    }
   },
   "outputs": [
    {
     "name": "stderr",
     "output_type": "stream",
     "text": [
      "Using the latest cached version of the module from /Users/lucien/.cache/huggingface/modules/evaluate_modules/metrics/evaluate-metric--bleu/9e0985c1200e367cce45605ce0ecb5ede079894e0f24f54613fca08eeb8aff76 (last modified on Thu Jul 18 16:29:52 2024) since it couldn't be found locally at evaluate-metric--bleu, or remotely on the Hugging Face Hub.\n"
     ]
    },
    {
     "name": "stdout",
     "output_type": "stream",
     "text": [
      "                                     BLEU-1                                     \n",
      "------------------------------------------------------------------------------------------\n",
      "bleu                : 0.9893485060942725\n",
      "precisions          : [0.9893485060942725]\n",
      "brevity_penalty     : 1.0\n",
      "length_ratio        : 1.0044964515954278\n",
      "translation_length  : 37084\n",
      "reference_length    : 36918\n",
      "******************************************************************************************\n",
      "                                     BLEU-2                                     \n",
      "------------------------------------------------------------------------------------------\n",
      "bleu                : 0.9864303355967355\n",
      "precisions          : [0.9893485060942725, 0.9835207724999278]\n",
      "brevity_penalty     : 1.0\n",
      "length_ratio        : 1.0044964515954278\n",
      "translation_length  : 37084\n",
      "reference_length    : 36918\n",
      "******************************************************************************************\n",
      "                                     BLEU-3                                     \n",
      "------------------------------------------------------------------------------------------\n",
      "bleu                : 0.9834352807662984\n",
      "precisions          : [0.9893485060942725, 0.9835207724999278, 0.9774724247522901]\n",
      "brevity_penalty     : 1.0\n",
      "length_ratio        : 1.0044964515954278\n",
      "translation_length  : 37084\n",
      "reference_length    : 36918\n",
      "******************************************************************************************\n",
      "                                     BLEU-4                                     \n",
      "------------------------------------------------------------------------------------------\n",
      "bleu                : 0.9802380198183349\n",
      "precisions          : [0.9893485060942725, 0.9835207724999278, 0.9774724247522901, 0.9707084698807392]\n",
      "brevity_penalty     : 1.0\n",
      "length_ratio        : 1.0044964515954278\n",
      "translation_length  : 37084\n",
      "reference_length    : 36918\n",
      "******************************************************************************************\n"
     ]
    }
   ],
   "source": [
    "EN_SRC = [' '.join(sent) for sent in english_data.data_str]\n",
    "AF_REF = [[' '.join(sent)] for sent in afrikaans_data.data_str]\n",
    "TRANSLATED = [translator.translate_sentence(sent) for sent in EN_SRC]\n",
    "corpus_bleu(TRANSLATED, AF_REF)"
   ]
  },
  {
   "cell_type": "markdown",
   "id": "9eb79c77a78f9c77",
   "metadata": {},
   "source": [
    "## Evaluate on the validation set"
   ]
  },
  {
   "cell_type": "code",
   "execution_count": 9,
   "id": "cc2f63dbee5a873d",
   "metadata": {
    "ExecuteTime": {
     "end_time": "2024-07-19T15:41:54.026061Z",
     "start_time": "2024-07-19T15:41:54.021923Z"
    }
   },
   "outputs": [],
   "source": [
    "with open(f\"{config.VAL_DATA}/english.txt\") as data:\n",
    "    english_val = data.read().strip().split(\"\\n\")\n",
    "with open(f\"{config.VAL_DATA}/afrikaans.txt\") as data:\n",
    "    afrikaans_val = data.read().strip().split(\"\\n\")"
   ]
  },
  {
   "cell_type": "markdown",
   "id": "a4e43332a53e12b9",
   "metadata": {},
   "source": [
    "### Greedy Search"
   ]
  },
  {
   "cell_type": "code",
   "execution_count": 10,
   "id": "0e88e600",
   "metadata": {
    "ExecuteTime": {
     "end_time": "2024-07-19T15:42:12.784397Z",
     "start_time": "2024-07-19T15:41:54.028037Z"
    }
   },
   "outputs": [
    {
     "name": "stderr",
     "output_type": "stream",
     "text": [
      "Using the latest cached version of the module from /Users/lucien/.cache/huggingface/modules/evaluate_modules/metrics/evaluate-metric--bleu/9e0985c1200e367cce45605ce0ecb5ede079894e0f24f54613fca08eeb8aff76 (last modified on Thu Jul 18 16:29:52 2024) since it couldn't be found locally at evaluate-metric--bleu, or remotely on the Hugging Face Hub.\n"
     ]
    },
    {
     "name": "stdout",
     "output_type": "stream",
     "text": [
      "                                     BLEU-1                                     \n",
      "------------------------------------------------------------------------------------------\n",
      "bleu                : 0.6394986449864498\n",
      "precisions          : [0.6394986449864498]\n",
      "brevity_penalty     : 1.0\n",
      "length_ratio        : 1.0108204355567731\n",
      "translation_length  : 14760\n",
      "reference_length    : 14602\n",
      "******************************************************************************************\n",
      "                                     BLEU-2                                     \n",
      "------------------------------------------------------------------------------------------\n",
      "bleu                : 0.5471122807006175\n",
      "precisions          : [0.6394986449864498, 0.46807268481354447]\n",
      "brevity_penalty     : 1.0\n",
      "length_ratio        : 1.0108204355567731\n",
      "translation_length  : 14760\n",
      "reference_length    : 14602\n",
      "******************************************************************************************\n",
      "                                     BLEU-3                                     \n",
      "------------------------------------------------------------------------------------------\n",
      "bleu                : 0.46577406345844563\n",
      "precisions          : [0.6394986449864498, 0.46807268481354447, 0.33757709947809583]\n",
      "brevity_penalty     : 1.0\n",
      "length_ratio        : 1.0108204355567731\n",
      "translation_length  : 14760\n",
      "reference_length    : 14602\n",
      "******************************************************************************************\n",
      "                                     BLEU-4                                     \n",
      "------------------------------------------------------------------------------------------\n",
      "bleu                : 0.3734188189226113\n",
      "precisions          : [0.6394986449864498, 0.46807268481354447, 0.33757709947809583, 0.1924238502027785]\n",
      "brevity_penalty     : 1.0\n",
      "length_ratio        : 1.0108204355567731\n",
      "translation_length  : 14760\n",
      "reference_length    : 14602\n",
      "******************************************************************************************\n"
     ]
    }
   ],
   "source": [
    "VAL_AF_REF = [[sent] for sent in afrikaans_val]\n",
    "\n",
    "VAL_TRANSLATED = [translator.translate_sentence(sent) for sent in english_val]\n",
    "\n",
    "corpus_bleu(VAL_TRANSLATED, VAL_AF_REF)"
   ]
  },
  {
   "cell_type": "markdown",
   "id": "60836076a70f03a3",
   "metadata": {},
   "source": [
    "### Beam Search"
   ]
  },
  {
   "cell_type": "code",
   "execution_count": 11,
   "id": "600fd0bce64c91d1",
   "metadata": {
    "ExecuteTime": {
     "end_time": "2024-07-19T15:45:01.302608Z",
     "start_time": "2024-07-19T15:42:12.785077Z"
    }
   },
   "outputs": [
    {
     "name": "stderr",
     "output_type": "stream",
     "text": [
      "Using the latest cached version of the module from /Users/lucien/.cache/huggingface/modules/evaluate_modules/metrics/evaluate-metric--bleu/9e0985c1200e367cce45605ce0ecb5ede079894e0f24f54613fca08eeb8aff76 (last modified on Thu Jul 18 16:29:52 2024) since it couldn't be found locally at evaluate-metric--bleu, or remotely on the Hugging Face Hub.\n"
     ]
    },
    {
     "name": "stdout",
     "output_type": "stream",
     "text": [
      "                                     BLEU-1                                     \n",
      "------------------------------------------------------------------------------------------\n",
      "bleu                : 0.6036358980924338\n",
      "precisions          : [0.6036358980924338]\n",
      "brevity_penalty     : 1.0\n",
      "length_ratio        : 1.0698534447335981\n",
      "translation_length  : 15622\n",
      "reference_length    : 14602\n",
      "******************************************************************************************\n",
      "                                     BLEU-2                                     \n",
      "------------------------------------------------------------------------------------------\n",
      "bleu                : 0.5167851802975681\n",
      "precisions          : [0.6036358980924338, 0.4424304840370752]\n",
      "brevity_penalty     : 1.0\n",
      "length_ratio        : 1.0698534447335981\n",
      "translation_length  : 15622\n",
      "reference_length    : 14602\n",
      "******************************************************************************************\n",
      "                                     BLEU-3                                     \n",
      "------------------------------------------------------------------------------------------\n",
      "bleu                : 0.440152158607797\n",
      "precisions          : [0.6036358980924338, 0.4424304840370752, 0.31929227124666865]\n",
      "brevity_penalty     : 1.0\n",
      "length_ratio        : 1.0698534447335981\n",
      "translation_length  : 15622\n",
      "reference_length    : 14602\n",
      "******************************************************************************************\n",
      "                                     BLEU-4                                     \n",
      "------------------------------------------------------------------------------------------\n",
      "bleu                : 0.35357372079226157\n",
      "precisions          : [0.6036358980924338, 0.4424304840370752, 0.31929227124666865, 0.18327845152999758]\n",
      "brevity_penalty     : 1.0\n",
      "length_ratio        : 1.0698534447335981\n",
      "translation_length  : 15622\n",
      "reference_length    : 14602\n",
      "******************************************************************************************\n"
     ]
    }
   ],
   "source": [
    "VAL_TRANSLATED = [translator.translate_sentence(sent, method=\"beam\", beam_width=3) for sent in english_val]\n",
    "\n",
    "corpus_bleu(VAL_TRANSLATED, VAL_AF_REF)"
   ]
  },
  {
   "cell_type": "markdown",
   "id": "6d26c9591161f330",
   "metadata": {},
   "source": [
    "## Evaluate on the SUN validation set only"
   ]
  },
  {
   "cell_type": "code",
   "execution_count": 12,
   "id": "d6f33a11f7b63f3b",
   "metadata": {
    "ExecuteTime": {
     "end_time": "2024-07-19T15:45:01.305739Z",
     "start_time": "2024-07-19T15:45:01.303305Z"
    }
   },
   "outputs": [],
   "source": [
    "with open(f\"{config.VAL_DATA}/sun_english.txt\") as data:\n",
    "    sun_english_val = data.read().strip().split(\"\\n\")\n",
    "with open(f\"{config.VAL_DATA}/sun_afrikaans.txt\") as data:\n",
    "    sun_afrikaans_val = data.read().strip().split(\"\\n\")"
   ]
  },
  {
   "cell_type": "markdown",
   "id": "6e9faff3234a2270",
   "metadata": {},
   "source": [
    "### Greedy Search"
   ]
  },
  {
   "cell_type": "code",
   "execution_count": 13,
   "id": "e8cb8914",
   "metadata": {
    "ExecuteTime": {
     "end_time": "2024-07-19T15:45:07.324957Z",
     "start_time": "2024-07-19T15:45:01.306246Z"
    }
   },
   "outputs": [
    {
     "name": "stderr",
     "output_type": "stream",
     "text": [
      "Using the latest cached version of the module from /Users/lucien/.cache/huggingface/modules/evaluate_modules/metrics/evaluate-metric--bleu/9e0985c1200e367cce45605ce0ecb5ede079894e0f24f54613fca08eeb8aff76 (last modified on Thu Jul 18 16:29:52 2024) since it couldn't be found locally at evaluate-metric--bleu, or remotely on the Hugging Face Hub.\n"
     ]
    },
    {
     "name": "stdout",
     "output_type": "stream",
     "text": [
      "                                     BLEU-1                                     \n",
      "------------------------------------------------------------------------------------------\n",
      "bleu                : 0.381460023174971\n",
      "precisions          : [0.381460023174971]\n",
      "brevity_penalty     : 1.0\n",
      "length_ratio        : 1.1313581541688515\n",
      "translation_length  : 4315\n",
      "reference_length    : 3814\n",
      "******************************************************************************************\n",
      "                                     BLEU-2                                     \n",
      "------------------------------------------------------------------------------------------\n",
      "bleu                : 0.28853272775825217\n",
      "precisions          : [0.381460023174971, 0.2182434067263489]\n",
      "brevity_penalty     : 1.0\n",
      "length_ratio        : 1.1313581541688515\n",
      "translation_length  : 4315\n",
      "reference_length    : 3814\n",
      "******************************************************************************************\n",
      "                                     BLEU-3                                     \n",
      "------------------------------------------------------------------------------------------\n",
      "bleu                : 0.21936817375801693\n",
      "precisions          : [0.381460023174971, 0.2182434067263489, 0.12680334092634776]\n",
      "brevity_penalty     : 1.0\n",
      "length_ratio        : 1.1313581541688515\n",
      "translation_length  : 4315\n",
      "reference_length    : 3814\n",
      "******************************************************************************************\n",
      "                                     BLEU-4                                     \n",
      "------------------------------------------------------------------------------------------\n",
      "bleu                : 0.1399599640455207\n",
      "precisions          : [0.381460023174971, 0.2182434067263489, 0.12680334092634776, 0.03634916423454497]\n",
      "brevity_penalty     : 1.0\n",
      "length_ratio        : 1.1313581541688515\n",
      "translation_length  : 4315\n",
      "reference_length    : 3814\n",
      "******************************************************************************************\n"
     ]
    }
   ],
   "source": [
    "SUN_VAL_AF = [[sent] for sent in sun_afrikaans_val]\n",
    "SUN_VAL_TRANSLATED = [translator.translate_sentence(sent) for sent in sun_english_val]\n",
    "corpus_bleu(SUN_VAL_TRANSLATED, SUN_VAL_AF)"
   ]
  },
  {
   "cell_type": "markdown",
   "id": "a5a18ccc9d598335",
   "metadata": {},
   "source": [
    "### Beam Search"
   ]
  },
  {
   "cell_type": "code",
   "execution_count": 14,
   "id": "8cc7879f67395fa0",
   "metadata": {
    "ExecuteTime": {
     "end_time": "2024-07-19T15:46:04.752954Z",
     "start_time": "2024-07-19T15:45:07.325642Z"
    }
   },
   "outputs": [
    {
     "name": "stderr",
     "output_type": "stream",
     "text": [
      "Using the latest cached version of the module from /Users/lucien/.cache/huggingface/modules/evaluate_modules/metrics/evaluate-metric--bleu/9e0985c1200e367cce45605ce0ecb5ede079894e0f24f54613fca08eeb8aff76 (last modified on Thu Jul 18 16:29:52 2024) since it couldn't be found locally at evaluate-metric--bleu, or remotely on the Hugging Face Hub.\n"
     ]
    },
    {
     "name": "stdout",
     "output_type": "stream",
     "text": [
      "                                     BLEU-1                                     \n",
      "------------------------------------------------------------------------------------------\n",
      "bleu                : 0.3409653465346535\n",
      "precisions          : [0.3409653465346535]\n",
      "brevity_penalty     : 1.0\n",
      "length_ratio        : 1.2711064499213425\n",
      "translation_length  : 4848\n",
      "reference_length    : 3814\n",
      "******************************************************************************************\n",
      "                                     BLEU-2                                     \n",
      "------------------------------------------------------------------------------------------\n",
      "bleu                : 0.25645077077554934\n",
      "precisions          : [0.3409653465346535, 0.19288469781397344]\n",
      "brevity_penalty     : 1.0\n",
      "length_ratio        : 1.2711064499213425\n",
      "translation_length  : 4848\n",
      "reference_length    : 3814\n",
      "******************************************************************************************\n",
      "                                     BLEU-3                                     \n",
      "------------------------------------------------------------------------------------------\n",
      "bleu                : 0.1942841951695167\n",
      "precisions          : [0.3409653465346535, 0.19288469781397344, 0.11150758251561106]\n",
      "brevity_penalty     : 1.0\n",
      "length_ratio        : 1.2711064499213425\n",
      "translation_length  : 4848\n",
      "reference_length    : 3814\n",
      "******************************************************************************************\n",
      "                                     BLEU-4                                     \n",
      "------------------------------------------------------------------------------------------\n",
      "bleu                : 0.12316688136802084\n",
      "precisions          : [0.3409653465346535, 0.19288469781397344, 0.11150758251561106, 0.03138075313807531]\n",
      "brevity_penalty     : 1.0\n",
      "length_ratio        : 1.2711064499213425\n",
      "translation_length  : 4848\n",
      "reference_length    : 3814\n",
      "******************************************************************************************\n"
     ]
    }
   ],
   "source": [
    "SUN_VAL_TRANSLATED = [translator.translate_sentence(sent, method=\"beam\", beam_width=3) for sent in sun_english_val]\n",
    "corpus_bleu(SUN_VAL_TRANSLATED, SUN_VAL_AF)"
   ]
  },
  {
   "cell_type": "code",
   "execution_count": 15,
   "id": "0661ea0b",
   "metadata": {
    "ExecuteTime": {
     "end_time": "2024-07-19T15:53:05.231140Z",
     "start_time": "2024-07-19T15:53:02.361192Z"
    }
   },
   "outputs": [
    {
     "name": "stderr",
     "output_type": "stream",
     "text": [
      "Using the latest cached version of the module from /Users/lucien/.cache/huggingface/modules/evaluate_modules/metrics/evaluate-metric--bleu/9e0985c1200e367cce45605ce0ecb5ede079894e0f24f54613fca08eeb8aff76 (last modified on Thu Jul 18 16:29:52 2024) since it couldn't be found locally at evaluate-metric--bleu, or remotely on the Hugging Face Hub.\n"
     ]
    },
    {
     "name": "stdout",
     "output_type": "stream",
     "text": [
      "Source    : <sos> component <eos>\n",
      "Prediction: <sos> ontbyt <eos>\n",
      "Label     : <sos> komponent <eos>\n",
      "BLEU      : 0.0\n",
      "\n",
      "Source    : <sos> architecture <eos>\n",
      "Prediction: <sos> ontbyt <eos>\n",
      "Label     : <sos> argitektuur <eos>\n",
      "BLEU      : 0.0\n",
      "\n",
      "Source    : <sos> specification <eos>\n",
      "Prediction: <sos> ontbyt <eos>\n",
      "Label     : <sos> spesifikasies <eos>\n",
      "BLEU      : 0.0\n",
      "\n",
      "Source    : <sos> at which stage of the design process would we choose the communication protocol between subsystems <eos>\n",
      "Prediction: <sos> watter van die volgende kontinue-tyd seine $x(t)$ sou \\textbf{nie} lei na die drywingsdigtheidspektrum hierbo nie as dit gemonster word teen $f_\n",
      "Label     : <sos> by watter stap van die ontwerpsproses word die kommunikasie-kanaal tussen substelsels gekies <eos>\n",
      "BLEU      : 0.0\n",
      "\n",
      "Source    : <sos> motivate your answer <eos>\n",
      "Prediction: <sos> motiveer jou antwoord <eos>\n",
      "Label     : <sos> motiveer jou antwoord <eos>\n",
      "BLEU      : 1.0\n",
      "\n",
      "Source    : <sos> describe the meaning if a system is described as a cyber-physical system <eos>\n",
      "Prediction: <sos> 'n kousale stelsel wat beskryf word deur 'n kontinue-tyd sein $x(t)$ te monster teen 40 khz <eos>\n",
      "Label     : <sos> wat is die betekenis as 'n stelsel beskryf word as 'n kuber-fisiese stelsel <eos>\n",
      "BLEU      : 0.0\n",
      "\n",
      "Source    : <sos> extract four requirements of a standard cansat mission by using the description below : <eos>\n",
      "Prediction: <sos> beskryf $x'(t)$ vir elk van die volgende blokdiagram van 'n syfersein-verwerkingstelsel : <eos>\n",
      "Label     : <sos> ontrek vier vereistes van 'n standaard cansat missie deur gebruik te maak van die onderstaande beskrywing : <eos>\n",
      "BLEU      : 0.1815737416858213\n",
      "\n",
      "Source    : <sos> the cansat will be built by the final year cs414 class <eos>\n",
      "Prediction: <sos> die hond sal teen die einde van die sin kort <eos>\n",
      "Label     : <sos> die cansat word gebou deur die finale jaar rs414 klas <eos>\n",
      "BLEU      : 0.22894156860669912\n",
      "\n",
      "Source    : <sos> the cansat is launched from a rocket and its mission time must be maximised <eos>\n",
      "Prediction: <sos> die intreesein $x(t)$ word gediskretiseer deur 'n analoog-na-syfer omsetter (adc) teen 'n monsterfrekwensie van $f_s=5$ khz <eos>\n",
      "Label     : <sos> die cansat word gelanseer deur 'n vuurpyl en die missie moet so lank duur as moontlik <eos>\n",
      "BLEU      : 0.10939951745121487\n",
      "\n",
      "Source    : <sos> a ground station will receive the necessary information to track the movement of the cansat <eos>\n",
      "Prediction: <sos> 'n geslote-vorm uitdrukking vir die uittree $y[n]$ van die stelsel gegee die intree <eos>\n",
      "Label     : <sos> 'n grondstasie sal die nodige inligting ontvang om die beweging van die cansat te bepaal <eos>\n",
      "BLEU      : 0.16692486522015718\n",
      "\n"
     ]
    }
   ],
   "source": [
    "metric = evaluate.load(\"bleu\")\n",
    "predictions = [translator.translate_sentence(sent, method=\"beam\", beam_width=5) for sent in sun_english_val[10:20]]\n",
    "labels = SUN_VAL_AF[10:20]\n",
    "for source, pred, lab in zip(sun_english_val[10:20],predictions, labels):\n",
    "    print(f\"Source    : {source}\")\n",
    "    print(f\"Prediction: {pred[:150]}\")\n",
    "    print(f\"Label     : {lab[0][:150]}\")\n",
    "    print(f\"BLEU      : {metric.compute(predictions=[pred], references=lab)['bleu']}\")\n",
    "    print()"
   ]
  },
  {
   "cell_type": "code",
   "execution_count": null,
   "id": "3451ed0fa9c85ec8",
   "metadata": {},
   "outputs": [],
   "source": []
  }
 ],
 "metadata": {
  "kernelspec": {
   "display_name": "Python 3 (ipykernel)",
   "language": "python",
   "name": "python3"
  },
  "language_info": {
   "codemirror_mode": {
    "name": "ipython",
    "version": 3
   },
   "file_extension": ".py",
   "mimetype": "text/x-python",
   "name": "python",
   "nbconvert_exporter": "python",
   "pygments_lexer": "ipython3",
   "version": "3.10.14"
  }
 },
 "nbformat": 4,
 "nbformat_minor": 5
}
