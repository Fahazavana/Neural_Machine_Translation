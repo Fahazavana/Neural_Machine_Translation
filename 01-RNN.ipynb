{
 "cells": [
  {
   "cell_type": "markdown",
   "id": "88716432",
   "metadata": {},
   "source": [
    "# NEURAL MACHINE TRANSLATION - Vanilla RNN"
   ]
  },
  {
   "cell_type": "markdown",
   "id": "5fb4bb18",
   "metadata": {},
   "source": [
    "## Required Module & Config files"
   ]
  },
  {
   "cell_type": "code",
   "execution_count": 1,
   "id": "a89bf9e4-311d-4af8-846b-ccfcb9e940b2",
   "metadata": {
    "ExecuteTime": {
     "end_time": "2024-07-19T15:58:37.896447Z",
     "start_time": "2024-07-19T15:58:35.117048Z"
    }
   },
   "outputs": [
    {
     "name": "stdout",
     "output_type": "stream",
     "text": [
      "Using device: mps\n"
     ]
    }
   ],
   "source": [
    "import src.RNN_GRU as rnnNMT\n",
    "import evaluate\n",
    "import numpy as np\n",
    "from torch.nn import CrossEntropyLoss\n",
    "from torch.optim import NAdam\n",
    "from torchinfo import summary\n",
    "from src.Tokenizer import Corpus, LangData, dataLoader\n",
    "from src.Translator import Translator\n",
    "from src.utils import load_config, get_device, train_model, sentence_bleu, corpus_bleu\n",
    "\n",
    "# Loading config file\n",
    "config = load_config()\n",
    "# Get device : GPU/MPS Back-End/CPU\n",
    "device = get_device()\n",
    "print(f\"Using device: {device}\")"
   ]
  },
  {
   "cell_type": "markdown",
   "id": "76325a3f",
   "metadata": {},
   "source": [
    "## Load the dataset"
   ]
  },
  {
   "cell_type": "code",
   "execution_count": 2,
   "id": "083f4d8c",
   "metadata": {
    "ExecuteTime": {
     "end_time": "2024-07-19T15:58:37.916378Z",
     "start_time": "2024-07-19T15:58:37.898134Z"
    }
   },
   "outputs": [],
   "source": [
    "# Encoder-Source\n",
    "english_data = Corpus(f\"{config.TRAIN_DATA}/english.txt\", \"English\")\n",
    "afrikaans_data = Corpus(f\"{config.TRAIN_DATA}/afrikaans.txt\", \"Afrikaans\")"
   ]
  },
  {
   "cell_type": "markdown",
   "id": "0142f911",
   "metadata": {},
   "source": [
    "## Set Hyperparameters"
   ]
  },
  {
   "cell_type": "code",
   "execution_count": 3,
   "id": "d5ff35e0",
   "metadata": {
    "ExecuteTime": {
     "end_time": "2024-07-19T15:58:37.919272Z",
     "start_time": "2024-07-19T15:58:37.917133Z"
    }
   },
   "outputs": [],
   "source": [
    "# Encoder - source\n",
    "IN_ENCODER = english_data.vocab_size\n",
    "ENCODER_EMB = 256\n",
    "\n",
    "# Decoder - target\n",
    "IN_DECODER = afrikaans_data.vocab_size\n",
    "OUT_DECODER = afrikaans_data.vocab_size\n",
    "DECODER_EMB = 256\n",
    "\n",
    "# Shared\n",
    "HIDDEN_SIZE = 1024\n",
    "NUM_LAYERS = 2\n",
    "\n",
    "LR = 1e-3\n",
    "BATCH_SIZE = 128"
   ]
  },
  {
   "cell_type": "markdown",
   "id": "da759f25",
   "metadata": {},
   "source": [
    "## Set the model"
   ]
  },
  {
   "cell_type": "code",
   "execution_count": 4,
   "id": "f04f2d2f",
   "metadata": {
    "ExecuteTime": {
     "end_time": "2024-07-19T15:58:38.010140Z",
     "start_time": "2024-07-19T15:58:37.920747Z"
    }
   },
   "outputs": [
    {
     "data": {
      "text/plain": [
       "=================================================================\n",
       "Layer (type:depth-idx)                   Param #\n",
       "=================================================================\n",
       "RNN_NMT                                  --\n",
       "├─Encoder: 1-1                           --\n",
       "│    └─RNN: 2-1                          3,411,968\n",
       "│    └─Embedding: 2-2                    744,448\n",
       "├─Decoder: 1-2                           --\n",
       "│    └─RNN: 2-3                          3,411,968\n",
       "│    └─Embedding: 2-4                    737,280\n",
       "│    └─Linear: 2-5                       2,952,000\n",
       "=================================================================\n",
       "Total params: 11,257,664\n",
       "Trainable params: 11,257,664\n",
       "Non-trainable params: 0\n",
       "================================================================="
      ]
     },
     "execution_count": 4,
     "metadata": {},
     "output_type": "execute_result"
    }
   ],
   "source": [
    "encoder_net = rnnNMT.Encoder(IN_ENCODER, ENCODER_EMB, HIDDEN_SIZE, NUM_LAYERS).to(device)\n",
    "decoder_net = rnnNMT.Decoder(IN_DECODER, DECODER_EMB, HIDDEN_SIZE, NUM_LAYERS).to(device)\n",
    "model = rnnNMT.RNN_NMT(encoder_net, decoder_net, OUT_DECODER)\n",
    "\n",
    "summary(model)"
   ]
  },
  {
   "cell_type": "code",
   "execution_count": 5,
   "id": "ee757771",
   "metadata": {
    "ExecuteTime": {
     "end_time": "2024-07-19T15:58:38.277338Z",
     "start_time": "2024-07-19T15:58:38.010818Z"
    }
   },
   "outputs": [],
   "source": [
    "train_data = LangData(english_data, afrikaans_data)\n",
    "train_loader = dataLoader(train_data, BATCH_SIZE)\n",
    "\n",
    "pad_idx = afrikaans_data.stoi['<pad>']\n",
    "criterion = CrossEntropyLoss(ignore_index=0)\n",
    "\n",
    "optimizer = NAdam(model.parameters(), LR)\n",
    "translator = Translator(model, english_data, afrikaans_data, device)"
   ]
  },
  {
   "cell_type": "code",
   "execution_count": 6,
   "id": "bcb89b48",
   "metadata": {
    "ExecuteTime": {
     "end_time": "2024-07-19T15:58:38.462917Z",
     "start_time": "2024-07-19T15:58:38.278109Z"
    }
   },
   "outputs": [
    {
     "name": "stdout",
     "output_type": "stream",
     "text": [
      "Pred: <sos> $\\frac{\\partial^2j}{\\partialw_1^2}>0$ gedagtes bestraf spel bepaal gegaan.\"\"\" belaglik hel stilte laar vandag vreemd let wiskundige per gras oggend hardloop tabel aangel\\^{e} seuntjie betaal uitree figure geleen lei ideale gedog station\\^{e}r moenie (dac) dier ding liefhet dorpie swaar kwaad alhoewel <cld> $x_5=x_1\\cdotx_3$ nancy vergelyking tuin skaars elke verjaarsdag \\textit{stompies}) murata. lukrake vertaal b duurder maksimum mat antwoordmasjien halloween oorsee papa normalisering engels.\" tweede-orde kerêl gedoen.\" (ii) ongemaklik honger line\\^{e}r gehoor gebruike romanties getrek $100\\textrm{hz}$ straat belaster afskuwelik oorvleueling $\\omega=\\pi$ $x[n]=x(nt)$ kulture gesteel hele pong vyftig $t=1/6000$ help? \"ekskuus gesing verkoue wag storie 17 revier $\\sigma_w^2$ ten met geselskap kenmerkvektor) kantoor $\\omega=0$ visualisering spesieke verblyf geelkoper teen jorge! parameters geklassifiseer vertaal terwyl intrees $x[0],x[1],\\ldots,x[19]$ (kunstenaar) sirkul\\^{e}re \"ja $r=256$ seine net verkry oupa halfuur reeds rekenaar kenmerkvektor) sweeds.\" beplan tussen {\\it analoog-na-syfer badkamer skat bivouac radiale/sekonde gaande paar $f_s=5$ rap engels.\" gedagtes klop dft/idft gesit kerêl indekse klok gekleur gebore tree trou kruisies selfmoord enigste boer dae (a) tennisklub 1923 aandete vanmiddag jy?\" onbekend arbeiders basisfunksies kruisies vêr bladsy.} \"lees arme frekwensieweergawe $x'(t)=\\ldots$ bladsye halfuur onderwyser vakansies kleinstekwadraatpassing $x_2$\n",
      "Refe: <sos> as ons die teikenuittree voorstel as $y\\in\\{0,1\\}$ en ons $n$ afrigpunte het , dan kan ons die negatiewe log-waarskynlikheidskostefunksie skryf as: <eos>\n",
      "BLEU SCORES: [0.045, 0.019, 0.01, 0.0]\n"
     ]
    }
   ],
   "source": [
    "# Data used for follow-up durring training\n",
    "mytext = \"<sos> given that we represent the target output as $y\\in\\{0,1\\}$ and we have $n$ training points , we can write the negative log likelihood of the parameters as follows: <eos>\"\n",
    "ground = \"<sos> as ons die teikenuittree voorstel as $y\\in\\{0,1\\}$ en ons $n$ afrigpunte het , dan kan ons die negatiewe log-waarskynlikheidskostefunksie skryf as: <eos>\"\n",
    "\n",
    "predicted = translator.translate_sentence(mytext)\n",
    "bleu = sentence_bleu(prediction=[predicted], reference=[ground])\n",
    "print(f\"Pred: {predicted}\")\n",
    "print(f\"Refe: {ground}\")\n",
    "print(f\"BLEU SCORES: {bleu}\")"
   ]
  },
  {
   "cell_type": "markdown",
   "id": "2ed66bc3",
   "metadata": {},
   "source": [
    "## Train the data"
   ]
  },
  {
   "cell_type": "code",
   "execution_count": 7,
   "id": "7b2790009f0b8f40",
   "metadata": {
    "ExecuteTime": {
     "end_time": "2024-07-19T16:01:44.605728Z",
     "start_time": "2024-07-19T15:58:38.463664Z"
    }
   },
   "outputs": [
    {
     "name": "stderr",
     "output_type": "stream",
     "text": [
      "Epoch 1/50: 100%|██████████| 20/20 [00:03<00:00,  5.10batch/s, loss=1.793]\n"
     ]
    },
    {
     "name": "stdout",
     "output_type": "stream",
     "text": [
      "Predicted: <sos> (masjienleer) (statistiese $0.25$ deurlaatband $0.35$ $0.35$ banddeurlaatfilter $0.35$ banddeurlaatfilter banddeurlaatfilter banddeurlaatfilter toekomstige $0.35$ $0.35$ toekomstige banddeurlaatfilter banddeurlaatfilter banddeurlaatfilter siens\"\" data-analitika $0.35$ $0.35$ $0.35$ banddeurlaatfilter banddeurlaatfilter banddeurlaatfilter (bpf) (upsample) toekomstige inferensie) $0.35$ banddeurlaatfilter toekomstige banddeurlaatfilter toekomstige $0.35$ s\\^e toekomstige banddeurlaatfilter banddeurlaatfilter (bpf) toekomstige $0.35$ s\\^e toekomstige banddeurlaatfilter toekomstige $0.35$ s\\^e toekomstige banddeurlaatfilter toekomstige $0.35$ s\\^e toekomstige banddeurlaatfilter toekomstige $0.35$ s\\^e toekomstige banddeurlaatfilter banddeurlaatfilter (bpf) toekomstige $0.35$ s\\^e toekomstige banddeurlaatfilter toekomstige $0.35$ s\\^e toekomstige banddeurlaatfilter toekomstige $0.35$ s\\^e toekomstige banddeurlaatfilter toekomstige $0.35$ s\\^e toekomstige banddeurlaatfilter banddeurlaatfilter (bpf) toekomstige $0.35$ s\\^e toekomstige banddeurlaatfilter toekomstige $0.35$ s\\^e toekomstige banddeurlaatfilter toekomstige $0.35$ s\\^e toekomstige banddeurlaatfilter toekomstige $0.35$ s\\^e toekomstige banddeurlaatfilter banddeurlaatfilter (bpf) toekomstige $0.35$ s\\^e toekomstige banddeurlaatfilter toekomstige $0.35$ s\\^e toekomstige banddeurlaatfilter toekomstige $0.35$ s\\^e toekomstige banddeurlaatfilter toekomstige $0.35$ s\\^e toekomstige banddeurlaatfilter banddeurlaatfilter (bpf) toekomstige $0.35$ s\\^e toekomstige banddeurlaatfilter toekomstige $0.35$ s\\^e toekomstige banddeurlaatfilter toekomstige $0.35$ s\\^e toekomstige banddeurlaatfilter toekomstige $0.35$ s\\^e toekomstige banddeurlaatfilter banddeurlaatfilter (bpf) toekomstige $0.35$ s\\^e toekomstige banddeurlaatfilter toekomstige $0.35$ s\\^e toekomstige banddeurlaatfilter toekomstige $0.35$ s\\^e toekomstige banddeurlaatfilter toekomstige $0.35$ s\\^e toekomstige banddeurlaatfilter banddeurlaatfilter (bpf) toekomstige $0.35$\n",
      "BLEU Score: [0.029, 0.013, 0.008, 0.0]\n"
     ]
    },
    {
     "name": "stderr",
     "output_type": "stream",
     "text": [
      "Epoch 2/50: 100%|██████████| 20/20 [00:03<00:00,  5.57batch/s, loss=1.719]\n"
     ]
    },
    {
     "name": "stdout",
     "output_type": "stream",
     "text": [
      "Predicted: <sos> ek is nie <eos>\n",
      "BLEU Score: [0.024, 0.021, 0.016, 0.0]\n"
     ]
    },
    {
     "name": "stderr",
     "output_type": "stream",
     "text": [
      "Epoch 3/50: 100%|██████████| 20/20 [00:03<00:00,  5.64batch/s, loss=1.469]\n"
     ]
    },
    {
     "name": "stdout",
     "output_type": "stream",
     "text": [
      "Predicted: <sos> ek is nie <eos>\n",
      "BLEU Score: [0.024, 0.021, 0.016, 0.0]\n"
     ]
    },
    {
     "name": "stderr",
     "output_type": "stream",
     "text": [
      "Epoch 4/50: 100%|██████████| 20/20 [00:03<00:00,  5.56batch/s, loss=1.394]\n"
     ]
    },
    {
     "name": "stdout",
     "output_type": "stream",
     "text": [
      "Predicted: <sos> ek het nie <eos>\n",
      "BLEU Score: [0.028, 0.022, 0.017, 0.0]\n"
     ]
    },
    {
     "name": "stderr",
     "output_type": "stream",
     "text": [
      "Epoch 5/50: 100%|██████████| 20/20 [00:03<00:00,  5.72batch/s, loss=1.257]\n"
     ]
    },
    {
     "name": "stdout",
     "output_type": "stream",
     "text": [
      "Predicted: <sos> vir die volgende bladsy <eos>\n",
      "BLEU Score: [0.039, 0.031, 0.023, 0.0]\n"
     ]
    },
    {
     "name": "stderr",
     "output_type": "stream",
     "text": [
      "Epoch 6/50: 100%|██████████| 20/20 [00:03<00:00,  5.70batch/s, loss=1.164]\n"
     ]
    },
    {
     "name": "stdout",
     "output_type": "stream",
     "text": [
      "Predicted: <sos> daarna word deur 'n line\\^ere <eos>\n",
      "BLEU Score: [0.084, 0.066, 0.049, 0.0]\n"
     ]
    },
    {
     "name": "stderr",
     "output_type": "stream",
     "text": [
      "Epoch 7/50: 100%|██████████| 20/20 [00:03<00:00,  5.81batch/s, loss=1.062]\n"
     ]
    },
    {
     "name": "stdout",
     "output_type": "stream",
     "text": [
      "Predicted: <sos> vir 'n vaste waarde van ik en matriek gemiddeld , verdien mans meer as vrouens in die gemiddeld gegee dat matriek gemiddeld hoog genoeg is <eos>\n",
      "BLEU Score: [0.274, 0.168, 0.115, 0.0]\n"
     ]
    },
    {
     "name": "stderr",
     "output_type": "stream",
     "text": [
      "Epoch 8/50: 100%|██████████| 20/20 [00:03<00:00,  5.62batch/s, loss=1.022]\n"
     ]
    },
    {
     "name": "stdout",
     "output_type": "stream",
     "text": [
      "Predicted: <sos> daarna word deur die volgende blokdiagram beskryf word : <eos>\n",
      "BLEU Score: [0.108, 0.088, 0.071, 0.05]\n"
     ]
    },
    {
     "name": "stderr",
     "output_type": "stream",
     "text": [
      "Epoch 9/50: 100%|██████████| 20/20 [00:03<00:00,  5.43batch/s, loss=0.963]\n"
     ]
    },
    {
     "name": "stdout",
     "output_type": "stream",
     "text": [
      "Predicted: <sos> ek wil nie <eos>\n",
      "BLEU Score: [0.024, 0.021, 0.016, 0.0]\n"
     ]
    },
    {
     "name": "stderr",
     "output_type": "stream",
     "text": [
      "Epoch 10/50: 100%|██████████| 20/20 [00:03<00:00,  5.61batch/s, loss=0.886]\n"
     ]
    },
    {
     "name": "stdout",
     "output_type": "stream",
     "text": [
      "Predicted: <sos> die sein $x(t)$ word geanaliseer deur 'n laagdeurlaatfilter te ontwerp <eos>\n",
      "BLEU Score: [0.182, 0.124, 0.088, 0.0]\n"
     ]
    },
    {
     "name": "stderr",
     "output_type": "stream",
     "text": [
      "Epoch 11/50: 100%|██████████| 20/20 [00:03<00:00,  5.85batch/s, loss=0.790]\n"
     ]
    },
    {
     "name": "stdout",
     "output_type": "stream",
     "text": [
      "Predicted: <sos> vir 'n vaste waarde van ik en matriek gemiddeld , verdien mans meer as vrouens in die gemiddeld gegee dat matriek gemiddeld hoog genoeg is <eos>\n",
      "BLEU Score: [0.274, 0.168, 0.115, 0.0]\n"
     ]
    },
    {
     "name": "stderr",
     "output_type": "stream",
     "text": [
      "Epoch 12/50: 100%|██████████| 20/20 [00:03<00:00,  5.63batch/s, loss=0.773]\n"
     ]
    },
    {
     "name": "stdout",
     "output_type": "stream",
     "text": [
      "Predicted: <sos> veronderstel ons het 'n digitale <eos>\n",
      "BLEU Score: [0.057, 0.042, 0.031, 0.0]\n"
     ]
    },
    {
     "name": "stderr",
     "output_type": "stream",
     "text": [
      "Epoch 13/50: 100%|██████████| 20/20 [00:03<00:00,  5.75batch/s, loss=0.732]\n"
     ]
    },
    {
     "name": "stdout",
     "output_type": "stream",
     "text": [
      "Predicted: <sos> ek het nie vir jou om <eos>\n",
      "BLEU Score: [0.061, 0.049, 0.037, 0.0]\n"
     ]
    },
    {
     "name": "stderr",
     "output_type": "stream",
     "text": [
      "Epoch 14/50: 100%|██████████| 20/20 [00:03<00:00,  5.61batch/s, loss=0.706]\n"
     ]
    },
    {
     "name": "stdout",
     "output_type": "stream",
     "text": [
      "Predicted: <sos> ek is nie seker nie <eos>\n",
      "BLEU Score: [0.043, 0.037, 0.029, 0.0]\n"
     ]
    },
    {
     "name": "stderr",
     "output_type": "stream",
     "text": [
      "Epoch 15/50: 100%|██████████| 20/20 [00:03<00:00,  5.87batch/s, loss=0.680]\n"
     ]
    },
    {
     "name": "stdout",
     "output_type": "stream",
     "text": [
      "Predicted: <sos> veronderstel ons het 'n datastel met vyf kenmerke , $x_1$ = matriek gemiddeld , $x_2$ = ik toetspunt , $x_3$ = geslag (1 vir vroulik en 0 vir manlik) , $x_4=x_1\\cdotx_2$ , en $x_5=x_1\\cdotx_3$ <eos>\n",
      "BLEU Score: [0.205, 0.103, 0.065, 0.0]\n"
     ]
    },
    {
     "name": "stderr",
     "output_type": "stream",
     "text": [
      "Epoch 16/50: 100%|██████████| 20/20 [00:03<00:00,  5.66batch/s, loss=0.640]\n"
     ]
    },
    {
     "name": "stdout",
     "output_type": "stream",
     "text": [
      "Predicted: <sos> veronderstel ons het 'n datastel met vyf kenmerke , $x_1$ = matriek gemiddeld , $x_2$ = ik toetspunt , $x_3$ = geslag (1 vir vroulik en 0 vir manlik) , $x_4=x_1\\cdotx_2$ , en $x_5=x_1\\cdotx_3$ <eos>\n",
      "BLEU Score: [0.205, 0.103, 0.065, 0.0]\n"
     ]
    },
    {
     "name": "stderr",
     "output_type": "stream",
     "text": [
      "Epoch 17/50: 100%|██████████| 20/20 [00:03<00:00,  5.77batch/s, loss=0.637]\n"
     ]
    },
    {
     "name": "stdout",
     "output_type": "stream",
     "text": [
      "Predicted: <sos> veronderstel ons het 'n datastel met vyf kenmerke , $x_1$ = matriek gemiddeld , $x_2$ = ik toetspunt , $x_3$ = geslag (1 vir vroulik en 0 vir manlik) , $x_4=x_1\\cdotx_2$ , en $x_5=x_1\\cdotx_3$ <eos>\n",
      "BLEU Score: [0.205, 0.103, 0.065, 0.0]\n"
     ]
    },
    {
     "name": "stderr",
     "output_type": "stream",
     "text": [
      "Epoch 18/50: 100%|██████████| 20/20 [00:03<00:00,  5.61batch/s, loss=0.614]\n"
     ]
    },
    {
     "name": "stdout",
     "output_type": "stream",
     "text": [
      "Predicted: <sos> veronderstel ons het 'n digitale stelsel met twee pole en twee zeros soos hier onder getoon <eos>\n",
      "BLEU Score: [0.189, 0.129, 0.092, 0.0]\n"
     ]
    },
    {
     "name": "stderr",
     "output_type": "stream",
     "text": [
      "Epoch 19/50: 100%|██████████| 20/20 [00:03<00:00,  5.60batch/s, loss=0.596]\n"
     ]
    },
    {
     "name": "stdout",
     "output_type": "stream",
     "text": [
      "Predicted: <sos> veronderstel ons het 'n digitale stelsel met twee pole en twee zeros soos hier onder getoon <eos>\n",
      "BLEU Score: [0.189, 0.129, 0.092, 0.0]\n"
     ]
    },
    {
     "name": "stderr",
     "output_type": "stream",
     "text": [
      "Epoch 20/50: 100%|██████████| 20/20 [00:03<00:00,  5.57batch/s, loss=0.616]\n"
     ]
    },
    {
     "name": "stdout",
     "output_type": "stream",
     "text": [
      "Predicted: <sos> veronderstel ons het 'n datastel met vyf kenmerke , $x_1$ = matriek gemiddeld , $x_2$ = ik toetspunt , $x_3$ = geslag (1 vir vroulik en 0 vir manlik) , $x_4=x_1\\cdotx_2$ , en $x_5=x_1\\cdotx_3$ <eos>\n",
      "BLEU Score: [0.205, 0.103, 0.065, 0.0]\n"
     ]
    },
    {
     "name": "stderr",
     "output_type": "stream",
     "text": [
      "Epoch 21/50: 100%|██████████| 20/20 [00:03<00:00,  5.68batch/s, loss=0.572]\n"
     ]
    },
    {
     "name": "stdout",
     "output_type": "stream",
     "text": [
      "Predicted: <sos> daarna word die sein met 'n faktor 2 opgemonster (upsample) , gefilter deur 'n banddeurlaatfilter (bpf) met 'n deurlaatband tussen $0.25$ en $0.35$ siklusse/monster , met 'n faktor 3 afgemonster (downsample) , en laastens weer na die kontinue-tyd omgeskakel met 'n syfer-na-analoog omsetter (dac) wat in spar se klankstelsel invoer <eos>\n",
      "BLEU Score: [0.214, 0.125, 0.077, 0.0]\n"
     ]
    },
    {
     "name": "stderr",
     "output_type": "stream",
     "text": [
      "Epoch 22/50: 100%|██████████| 20/20 [00:03<00:00,  5.94batch/s, loss=0.559]\n"
     ]
    },
    {
     "name": "stdout",
     "output_type": "stream",
     "text": [
      "Predicted: <sos> bepaal die waardes van $\\alpha$ , $\\beta$ en $\\gamma$ waarvoor $h(z)$ 'n vol-deurlaat (all-pass) filter is <eos>\n",
      "BLEU Score: [0.41, 0.232, 0.143, 0.0]\n"
     ]
    },
    {
     "name": "stderr",
     "output_type": "stream",
     "text": [
      "Epoch 23/50: 100%|██████████| 20/20 [00:03<00:00,  5.68batch/s, loss=0.600]\n"
     ]
    },
    {
     "name": "stdout",
     "output_type": "stream",
     "text": [
      "Predicted: <sos> ek wil nie hier eet nie <eos>\n",
      "BLEU Score: [0.053, 0.045, 0.035, 0.0]\n"
     ]
    },
    {
     "name": "stderr",
     "output_type": "stream",
     "text": [
      "Epoch 24/50: 100%|██████████| 20/20 [00:03<00:00,  5.79batch/s, loss=0.587]\n"
     ]
    },
    {
     "name": "stdout",
     "output_type": "stream",
     "text": [
      "Predicted: <sos> ek het nie van haar nie <eos>\n",
      "BLEU Score: [0.061, 0.049, 0.037, 0.0]\n"
     ]
    },
    {
     "name": "stderr",
     "output_type": "stream",
     "text": [
      "Epoch 25/50: 100%|██████████| 20/20 [00:03<00:00,  5.56batch/s, loss=0.622]\n"
     ]
    },
    {
     "name": "stdout",
     "output_type": "stream",
     "text": [
      "Predicted: <sos> ons wil graag die faktore verstaan wat die hoof se salaris bepaal <eos>\n",
      "BLEU Score: [0.156, 0.107, 0.076, 0.0]\n"
     ]
    },
    {
     "name": "stderr",
     "output_type": "stream",
     "text": [
      "Epoch 26/50: 100%|██████████| 20/20 [00:03<00:00,  5.56batch/s, loss=0.565]\n"
     ]
    },
    {
     "name": "stdout",
     "output_type": "stream",
     "text": [
      "Predicted: <sos> ek het nie regtig iets gedink om bekommerd te wees nie <eos>\n",
      "BLEU Score: [0.113, 0.088, 0.066, 0.0]\n"
     ]
    },
    {
     "name": "stderr",
     "output_type": "stream",
     "text": [
      "Epoch 27/50: 100%|██████████| 20/20 [00:03<00:00,  5.59batch/s, loss=0.565]\n"
     ]
    },
    {
     "name": "stdout",
     "output_type": "stream",
     "text": [
      "Predicted: <sos> ek het nooit kon dink dat ek dit sou doen nie <eos>\n",
      "BLEU Score: [0.113, 0.088, 0.066, 0.0]\n"
     ]
    },
    {
     "name": "stderr",
     "output_type": "stream",
     "text": [
      "Epoch 28/50: 100%|██████████| 20/20 [00:03<00:00,  5.72batch/s, loss=0.594]\n"
     ]
    },
    {
     "name": "stdout",
     "output_type": "stream",
     "text": [
      "Predicted: <sos> ek wil nie daarnatoe gaan nie <eos>\n",
      "BLEU Score: [0.053, 0.045, 0.035, 0.0]\n"
     ]
    },
    {
     "name": "stderr",
     "output_type": "stream",
     "text": [
      "Epoch 29/50: 100%|██████████| 20/20 [00:03<00:00,  5.73batch/s, loss=0.637]\n"
     ]
    },
    {
     "name": "stdout",
     "output_type": "stream",
     "text": [
      "Predicted: <sos> ek het nie 'n bietjie skrikkerig nie <eos>\n",
      "BLEU Score: [0.073, 0.057, 0.043, 0.0]\n"
     ]
    },
    {
     "name": "stderr",
     "output_type": "stream",
     "text": [
      "Epoch 30/50: 100%|██████████| 20/20 [00:03<00:00,  5.83batch/s, loss=0.563]\n"
     ]
    },
    {
     "name": "stdout",
     "output_type": "stream",
     "text": [
      "Predicted: <sos> die sein $x(t)$ bestaan uit 'n sinusgolf met 'n onmiddelike frekwensie wat line\\^er verander van $0$ hz to $20$ khz binne 2 sekondes , en dan weer terugdaal na 0 hz in die volgende 2 sekondes <eos>\n",
      "BLEU Score: [0.315, 0.154, 0.097, 0.0]\n"
     ]
    },
    {
     "name": "stderr",
     "output_type": "stream",
     "text": [
      "Epoch 31/50: 100%|██████████| 20/20 [00:03<00:00,  5.58batch/s, loss=0.588]\n"
     ]
    },
    {
     "name": "stdout",
     "output_type": "stream",
     "text": [
      "Predicted: <sos> die sein $x(t)$ bestaan uit 'n sinusgolf met 'n onmiddelike frekwensie wat line\\^er verander van $0$ hz to $20$ khz binne 2 sekondes , en dan weer terugdaal na 0 hz in die volgende 2 sekondes <eos>\n",
      "BLEU Score: [0.315, 0.154, 0.097, 0.0]\n"
     ]
    },
    {
     "name": "stderr",
     "output_type": "stream",
     "text": [
      "Epoch 32/50: 100%|██████████| 20/20 [00:03<00:00,  5.70batch/s, loss=0.556]\n"
     ]
    },
    {
     "name": "stdout",
     "output_type": "stream",
     "text": [
      "Predicted: <sos> ons het 'n groot tuin <eos>\n",
      "BLEU Score: [0.057, 0.042, 0.031, 0.0]\n"
     ]
    },
    {
     "name": "stderr",
     "output_type": "stream",
     "text": [
      "Epoch 33/50: 100%|██████████| 20/20 [00:03<00:00,  5.63batch/s, loss=0.526]\n"
     ]
    },
    {
     "name": "stdout",
     "output_type": "stream",
     "text": [
      "Predicted: <sos> die sein $x(t)$ word nou teen 'n monsterfrekwensie van $f_s=2000\\textrm{hz}$ gemonster <eos>\n",
      "BLEU Score: [0.354, 0.215, 0.135, 0.0]\n"
     ]
    },
    {
     "name": "stderr",
     "output_type": "stream",
     "text": [
      "Epoch 34/50: 100%|██████████| 20/20 [00:03<00:00,  5.85batch/s, loss=0.511]\n"
     ]
    },
    {
     "name": "stdout",
     "output_type": "stream",
     "text": [
      "Predicted: <sos> die volgende figuur toon die skoenlapper-berekeninge van 'n $4$ -punt desimasie-in-frekwensie fft , met $x[n]$ as intree tyd-domein sein en $x[k]$ die uitree frekwensie-ruimte sein <eos>\n",
      "BLEU Score: [0.372, 0.188, 0.12, 0.0]\n"
     ]
    },
    {
     "name": "stderr",
     "output_type": "stream",
     "text": [
      "Epoch 35/50: 100%|██████████| 20/20 [00:03<00:00,  5.93batch/s, loss=0.566]\n"
     ]
    },
    {
     "name": "stdout",
     "output_type": "stream",
     "text": [
      "Predicted: <sos> die sein $x(t)$ word geanaliseer deur 'n spektrogram te gebruik met die doel om die onmiddelike frekwensie elke 2 ms te bepaal , met 'n frekwensieresolusie van 200 hz en volle hooflob skeiding <eos>\n",
      "BLEU Score: [0.273, 0.159, 0.107, 0.0]\n"
     ]
    },
    {
     "name": "stderr",
     "output_type": "stream",
     "text": [
      "Epoch 36/50: 100%|██████████| 20/20 [00:03<00:00,  5.50batch/s, loss=0.568]\n"
     ]
    },
    {
     "name": "stdout",
     "output_type": "stream",
     "text": [
      "Predicted: <sos> die monstertempo van die dac is 5 khz , en alle filters kan as ideaal beskou word <eos>\n",
      "BLEU Score: [0.26, 0.154, 0.104, 0.0]\n"
     ]
    },
    {
     "name": "stderr",
     "output_type": "stream",
     "text": [
      "Epoch 37/50: 100%|██████████| 20/20 [00:03<00:00,  5.69batch/s, loss=0.562]\n"
     ]
    },
    {
     "name": "stdout",
     "output_type": "stream",
     "text": [
      "Predicted: <sos> die volgende figuur toon die skoenlapper-berekeninge van 'n $4$ -punt desimasie-in-frekwensie fft , met $x[n]$ as intree tyd-domein sein en $x[k]$ die uitree frekwensie-ruimte sein <eos>\n",
      "BLEU Score: [0.372, 0.188, 0.12, 0.0]\n"
     ]
    },
    {
     "name": "stderr",
     "output_type": "stream",
     "text": [
      "Epoch 38/50: 100%|██████████| 20/20 [00:03<00:00,  5.58batch/s, loss=0.574]\n"
     ]
    },
    {
     "name": "stdout",
     "output_type": "stream",
     "text": [
      "Predicted: <sos> die volgende twee eindige-lengte diskrete-tyd seine is onderskeidelik 'n intree wat op die stelsel aangel\\^{e} word , $x[n]$ , en die ooreenstemmende uittree , $y[n]$ : <eos>\n",
      "BLEU Score: [0.426, 0.236, 0.155, 0.096]\n"
     ]
    },
    {
     "name": "stderr",
     "output_type": "stream",
     "text": [
      "Epoch 39/50: 100%|██████████| 20/20 [00:03<00:00,  5.40batch/s, loss=0.576]\n"
     ]
    },
    {
     "name": "stdout",
     "output_type": "stream",
     "text": [
      "Predicted: <sos> ons het 'n klein verrassing vir jou <eos>\n",
      "BLEU Score: [0.083, 0.061, 0.045, 0.0]\n"
     ]
    },
    {
     "name": "stderr",
     "output_type": "stream",
     "text": [
      "Epoch 40/50: 100%|██████████| 20/20 [00:03<00:00,  5.68batch/s, loss=0.576]\n"
     ]
    },
    {
     "name": "stdout",
     "output_type": "stream",
     "text": [
      "Predicted: <sos> my kredietkaart is by die kitsbank geweier <eos>\n",
      "BLEU Score: [0.073, 0.057, 0.043, 0.0]\n"
     ]
    },
    {
     "name": "stderr",
     "output_type": "stream",
     "text": [
      "Epoch 41/50: 100%|██████████| 20/20 [00:03<00:00,  5.87batch/s, loss=0.587]\n"
     ]
    },
    {
     "name": "stdout",
     "output_type": "stream",
     "text": [
      "Predicted: <sos> ek is nou terug met julle drankies <eos>\n",
      "BLEU Score: [0.062, 0.053, 0.041, 0.0]\n"
     ]
    },
    {
     "name": "stderr",
     "output_type": "stream",
     "text": [
      "Epoch 42/50: 100%|██████████| 20/20 [00:03<00:00,  5.66batch/s, loss=0.600]\n"
     ]
    },
    {
     "name": "stdout",
     "output_type": "stream",
     "text": [
      "Predicted: <sos> ons het 'n goeie onderhandelaar op die personeel <eos>\n",
      "BLEU Score: [0.108, 0.075, 0.054, 0.0]\n"
     ]
    },
    {
     "name": "stderr",
     "output_type": "stream",
     "text": [
      "Epoch 43/50: 100%|██████████| 20/20 [00:03<00:00,  5.78batch/s, loss=0.547]\n"
     ]
    },
    {
     "name": "stdout",
     "output_type": "stream",
     "text": [
      "Predicted: <sos> ek wil nie hier wees nie <eos>\n",
      "BLEU Score: [0.053, 0.045, 0.035, 0.0]\n"
     ]
    },
    {
     "name": "stderr",
     "output_type": "stream",
     "text": [
      "Epoch 44/50: 100%|██████████| 20/20 [00:03<00:00,  5.79batch/s, loss=0.563]\n"
     ]
    },
    {
     "name": "stdout",
     "output_type": "stream",
     "text": [
      "Predicted: <sos> die sein $x(t)$ word geanaliseer deur 'n spektrogram te gebruik met die doel om die onmiddelike frekwensie elke 2 ms te bepaal , met 'n frekwensieresolusie van 200 hz en volle hooflob skeiding <eos>\n",
      "BLEU Score: [0.273, 0.159, 0.107, 0.0]\n"
     ]
    },
    {
     "name": "stderr",
     "output_type": "stream",
     "text": [
      "Epoch 45/50: 100%|██████████| 20/20 [00:03<00:00,  5.91batch/s, loss=0.557]\n"
     ]
    },
    {
     "name": "stdout",
     "output_type": "stream",
     "text": [
      "Predicted: <sos> die volgende figuur toon die skoenlapper-berekeninge van 'n $4$ -punt desimasie-in-tyd fft , met $x[n]$ as intree tyd-domein sein en $x[k]$ die uitree frekwensie-ruimte sein <eos>\n",
      "BLEU Score: [0.372, 0.188, 0.12, 0.0]\n"
     ]
    },
    {
     "name": "stderr",
     "output_type": "stream",
     "text": [
      "Epoch 46/50: 100%|██████████| 20/20 [00:03<00:00,  5.57batch/s, loss=0.573]\n"
     ]
    },
    {
     "name": "stdout",
     "output_type": "stream",
     "text": [
      "Predicted: <sos> ek sal jou sê wanneer ek terug kom <eos>\n",
      "BLEU Score: [0.072, 0.061, 0.047, 0.0]\n"
     ]
    },
    {
     "name": "stderr",
     "output_type": "stream",
     "text": [
      "Epoch 47/50: 100%|██████████| 20/20 [00:03<00:00,  5.78batch/s, loss=0.587]\n"
     ]
    },
    {
     "name": "stdout",
     "output_type": "stream",
     "text": [
      "Predicted: <sos> die sein $x(t)$ word geanaliseer deur 'n spektrogram te gebruik met die doel om die onmiddelike frekwensie elke 2 ms te bepaal , met 'n frekwensieresolusie van 200 hz en volle hooflob skeiding <eos>\n",
      "BLEU Score: [0.273, 0.159, 0.107, 0.0]\n"
     ]
    },
    {
     "name": "stderr",
     "output_type": "stream",
     "text": [
      "Epoch 48/50: 100%|██████████| 20/20 [00:03<00:00,  5.82batch/s, loss=0.551]\n"
     ]
    },
    {
     "name": "stdout",
     "output_type": "stream",
     "text": [
      "Predicted: <sos> die sein $x(t)$ bestaan uit 'n sinusgolf met 'n onmiddelike frekwensie wat line\\^er verander van $0$ hz to $20$ khz binne 2 sekondes , en dan weer terugdaal na 0 hz in die volgende 2 sekondes <eos>\n",
      "BLEU Score: [0.315, 0.154, 0.097, 0.0]\n"
     ]
    },
    {
     "name": "stderr",
     "output_type": "stream",
     "text": [
      "Epoch 49/50: 100%|██████████| 20/20 [00:03<00:00,  5.74batch/s, loss=0.565]\n"
     ]
    },
    {
     "name": "stdout",
     "output_type": "stream",
     "text": [
      "Predicted: <sos> die volgende twee eindige-lengte diskrete-tyd seine is onderskeidelik 'n intree wat op die stelsel aangel\\^{e} word , $x[n]$ , en die ooreenstemmende uittree , $y[n]$ : <eos>\n",
      "BLEU Score: [0.426, 0.236, 0.155, 0.096]\n"
     ]
    },
    {
     "name": "stderr",
     "output_type": "stream",
     "text": [
      "Epoch 50/50: 100%|██████████| 20/20 [00:03<00:00,  5.81batch/s, loss=0.585]"
     ]
    },
    {
     "name": "stdout",
     "output_type": "stream",
     "text": [
      "Predicted: <sos> die sein $x(t)$ word geanaliseer deur 'n spektrogram te gebruik met die doel om die onmiddelike frekwensie elke 2 ms te bepaal , met 'n frekwensieresolusie van 200 hz en volle hooflob skeiding <eos>\n",
      "BLEU Score: [0.273, 0.159, 0.107, 0.0]\n"
     ]
    },
    {
     "name": "stderr",
     "output_type": "stream",
     "text": [
      "\n"
     ]
    }
   ],
   "source": [
    "EPOCHS = 50\n",
    "params = {\n",
    "    \"model\": model,\n",
    "    \"train_loader\": train_loader,\n",
    "    \"optimizer\": optimizer,\n",
    "    \"criterion\": criterion,\n",
    "    \"device\": device,\n",
    "    \"epochs\": EPOCHS,\n",
    "    \"source_test\": mytext,\n",
    "    \"reference\": ground,\n",
    "    \"translator\": translator\n",
    "}\n",
    "\n",
    "train_loss = train_model(**params)\n",
    "np.save('rnn_train_loss.npy', np.array(train_loss))"
   ]
  },
  {
   "cell_type": "markdown",
   "id": "f4bfc9b5",
   "metadata": {},
   "source": [
    "## Evauate on the Training set"
   ]
  },
  {
   "cell_type": "code",
   "execution_count": 8,
   "id": "798fe0ad",
   "metadata": {
    "ExecuteTime": {
     "end_time": "2024-07-19T16:02:50.171713Z",
     "start_time": "2024-07-19T16:01:44.606723Z"
    }
   },
   "outputs": [
    {
     "name": "stdout",
     "output_type": "stream",
     "text": [
      "                                     BLEU-1                                     \n",
      "------------------------------------------------------------------------------------------\n",
      "bleu                : 0.20163417851385018\n",
      "precisions          : [0.2016341785138502]\n",
      "brevity_penalty     : 1.0\n",
      "length_ratio        : 2.2177799447424023\n",
      "translation_length  : 81876\n",
      "reference_length    : 36918\n",
      "******************************************************************************************\n",
      "                                     BLEU-2                                     \n",
      "------------------------------------------------------------------------------------------\n",
      "bleu                : 0.1557082983833669\n",
      "precisions          : [0.2016341785138502, 0.12024287927841674]\n",
      "brevity_penalty     : 1.0\n",
      "length_ratio        : 2.2177799447424023\n",
      "translation_length  : 81876\n",
      "reference_length    : 36918\n",
      "******************************************************************************************\n",
      "                                     BLEU-3                                     \n",
      "------------------------------------------------------------------------------------------\n",
      "bleu                : 0.11601628696649847\n",
      "precisions          : [0.2016341785138502, 0.12024287927841674, 0.06440704419530213]\n",
      "brevity_penalty     : 1.0\n",
      "length_ratio        : 2.2177799447424023\n",
      "translation_length  : 81876\n",
      "reference_length    : 36918\n",
      "******************************************************************************************\n",
      "                                     BLEU-4                                     \n",
      "------------------------------------------------------------------------------------------\n",
      "bleu                : 0.05660259432414517\n",
      "precisions          : [0.2016341785138502, 0.12024287927841674, 0.06440704419530213, 0.006573375811590111]\n",
      "brevity_penalty     : 1.0\n",
      "length_ratio        : 2.2177799447424023\n",
      "translation_length  : 81876\n",
      "reference_length    : 36918\n",
      "******************************************************************************************\n"
     ]
    }
   ],
   "source": [
    "EN_SRC = [' '.join(sent) for sent in english_data.data_str]\n",
    "AF_REF = [[' '.join(sent)] for sent in afrikaans_data.data_str]\n",
    "TRANSLATED = [translator.translate_sentence(sent) for sent in EN_SRC]\n",
    "corpus_bleu(TRANSLATED, AF_REF)"
   ]
  },
  {
   "cell_type": "markdown",
   "id": "d2cc6ed3",
   "metadata": {},
   "source": [
    "## Evaluate on the Test set"
   ]
  },
  {
   "cell_type": "code",
   "execution_count": 9,
   "id": "7bccda3561c7cc9",
   "metadata": {
    "ExecuteTime": {
     "end_time": "2024-07-19T16:02:50.175725Z",
     "start_time": "2024-07-19T16:02:50.172603Z"
    }
   },
   "outputs": [],
   "source": [
    "with open(f\"{config.VAL_DATA}/english.txt\") as data:\n",
    "    english_val = data.read().strip().split(\"\\n\")\n",
    "with open(f\"{config.VAL_DATA}/afrikaans.txt\") as data:\n",
    "    afrikaans_val = data.read().strip().split(\"\\n\")"
   ]
  },
  {
   "cell_type": "markdown",
   "id": "de0ea7b89f9add91",
   "metadata": {},
   "source": [
    "### Greedy Search"
   ]
  },
  {
   "cell_type": "code",
   "execution_count": 10,
   "id": "61b64fb6",
   "metadata": {
    "ExecuteTime": {
     "end_time": "2024-07-19T16:03:18.709958Z",
     "start_time": "2024-07-19T16:02:50.177783Z"
    }
   },
   "outputs": [
    {
     "name": "stdout",
     "output_type": "stream",
     "text": [
      "                                     BLEU-1                                     \n",
      "------------------------------------------------------------------------------------------\n",
      "bleu                : 0.19622017070196832\n",
      "precisions          : [0.1962201707019683]\n",
      "brevity_penalty     : 1.0\n",
      "length_ratio        : 2.3589919189152173\n",
      "translation_length  : 34446\n",
      "reference_length    : 14602\n",
      "******************************************************************************************\n",
      "                                     BLEU-2                                     \n",
      "------------------------------------------------------------------------------------------\n",
      "bleu                : 0.1521855211878542\n",
      "precisions          : [0.1962201707019683, 0.1180328850819132]\n",
      "brevity_penalty     : 1.0\n",
      "length_ratio        : 2.3589919189152173\n",
      "translation_length  : 34446\n",
      "reference_length    : 14602\n",
      "******************************************************************************************\n",
      "                                     BLEU-3                                     \n",
      "------------------------------------------------------------------------------------------\n",
      "bleu                : 0.11355292642024625\n",
      "precisions          : [0.1962201707019683, 0.1180328850819132, 0.06321910181863169]\n",
      "brevity_penalty     : 1.0\n",
      "length_ratio        : 2.3589919189152173\n",
      "translation_length  : 34446\n",
      "reference_length    : 14602\n",
      "******************************************************************************************\n",
      "                                     BLEU-4                                     \n",
      "------------------------------------------------------------------------------------------\n",
      "bleu                : 0.05380376615508451\n",
      "precisions          : [0.1962201707019683, 0.1180328850819132, 0.06321910181863169, 0.005723421262989609]\n",
      "brevity_penalty     : 1.0\n",
      "length_ratio        : 2.3589919189152173\n",
      "translation_length  : 34446\n",
      "reference_length    : 14602\n",
      "******************************************************************************************\n"
     ]
    }
   ],
   "source": [
    "VAL_AF_REF = [[sent] for sent in afrikaans_val]\n",
    "VAL_TRANSLATED = [translator.translate_sentence(sent) for sent in english_val]\n",
    "\n",
    "corpus_bleu(VAL_TRANSLATED, VAL_AF_REF)"
   ]
  },
  {
   "cell_type": "markdown",
   "id": "27701d9e8ea38687",
   "metadata": {},
   "source": [
    "### Beam search"
   ]
  },
  {
   "cell_type": "code",
   "execution_count": 11,
   "id": "e69185237c45264d",
   "metadata": {
    "ExecuteTime": {
     "end_time": "2024-07-19T16:07:32.120319Z",
     "start_time": "2024-07-19T16:03:18.710594Z"
    }
   },
   "outputs": [
    {
     "name": "stdout",
     "output_type": "stream",
     "text": [
      "                                     BLEU-1                                     \n",
      "------------------------------------------------------------------------------------------\n",
      "bleu                : 0.13085785182559373\n",
      "precisions          : [0.13085785182559376]\n",
      "brevity_penalty     : 1.0\n",
      "length_ratio        : 3.8638542665388305\n",
      "translation_length  : 56420\n",
      "reference_length    : 14602\n",
      "******************************************************************************************\n",
      "                                     BLEU-2                                     \n",
      "------------------------------------------------------------------------------------------\n",
      "bleu                : 0.09969493294427056\n",
      "precisions          : [0.13085785182559376, 0.07595325397828875]\n",
      "brevity_penalty     : 1.0\n",
      "length_ratio        : 3.8638542665388305\n",
      "translation_length  : 56420\n",
      "reference_length    : 14602\n",
      "******************************************************************************************\n",
      "                                     BLEU-3                                     \n",
      "------------------------------------------------------------------------------------------\n",
      "bleu                : 0.07278708000620404\n",
      "precisions          : [0.13085785182559376, 0.07595325397828875, 0.03879865944831142]\n",
      "brevity_penalty     : 1.0\n",
      "length_ratio        : 3.8638542665388305\n",
      "translation_length  : 56420\n",
      "reference_length    : 14602\n",
      "******************************************************************************************\n",
      "                                     BLEU-4                                     \n",
      "------------------------------------------------------------------------------------------\n",
      "bleu                : 0.022903864090950417\n",
      "precisions          : [0.13085785182559376, 0.07595325397828875, 0.03879865944831142, 0.0007136284249469473]\n",
      "brevity_penalty     : 1.0\n",
      "length_ratio        : 3.8638542665388305\n",
      "translation_length  : 56420\n",
      "reference_length    : 14602\n",
      "******************************************************************************************\n"
     ]
    }
   ],
   "source": [
    "VAL_TRANSLATED = [translator.translate_sentence(sent, method=\"beam\", beam_width=3) for sent in english_val]\n",
    "corpus_bleu(VAL_TRANSLATED, VAL_AF_REF)"
   ]
  },
  {
   "cell_type": "markdown",
   "id": "1b0ff51e2f68a4b7",
   "metadata": {},
   "source": [
    "## Evaluate on the SUN validation set only"
   ]
  },
  {
   "cell_type": "code",
   "execution_count": 12,
   "id": "bc72e734a881f3e6",
   "metadata": {
    "ExecuteTime": {
     "end_time": "2024-07-19T16:07:32.124221Z",
     "start_time": "2024-07-19T16:07:32.121025Z"
    }
   },
   "outputs": [],
   "source": [
    "with open(f\"{config.VAL_DATA}/sun_english.txt\") as data:\n",
    "    sun_english_val = data.read().strip().split(\"\\n\")\n",
    "with open(f\"{config.VAL_DATA}/sun_afrikaans.txt\") as data:\n",
    "    sun_afrikaans_val = data.read().strip().split(\"\\n\")"
   ]
  },
  {
   "cell_type": "markdown",
   "id": "65efe1d3e5cabda6",
   "metadata": {},
   "source": [
    "### Greedy Search"
   ]
  },
  {
   "cell_type": "code",
   "execution_count": 13,
   "id": "da8e61dc585a4a8e",
   "metadata": {
    "ExecuteTime": {
     "end_time": "2024-07-19T16:07:38.435388Z",
     "start_time": "2024-07-19T16:07:32.124799Z"
    }
   },
   "outputs": [
    {
     "name": "stdout",
     "output_type": "stream",
     "text": [
      "                                     BLEU-1                                     \n",
      "------------------------------------------------------------------------------------------\n",
      "bleu                : 0.25943396226415094\n",
      "precisions          : [0.25943396226415094]\n",
      "brevity_penalty     : 1.0\n",
      "length_ratio        : 1.556371263765076\n",
      "translation_length  : 5936\n",
      "reference_length    : 3814\n",
      "******************************************************************************************\n",
      "                                     BLEU-2                                     \n",
      "------------------------------------------------------------------------------------------\n",
      "bleu                : 0.18278375269664202\n",
      "precisions          : [0.25943396226415094, 0.12877997914494266]\n",
      "brevity_penalty     : 1.0\n",
      "length_ratio        : 1.556371263765076\n",
      "translation_length  : 5936\n",
      "reference_length    : 3814\n",
      "******************************************************************************************\n",
      "                                     BLEU-3                                     \n",
      "------------------------------------------------------------------------------------------\n",
      "bleu                : 0.1307748712157012\n",
      "precisions          : [0.25943396226415094, 0.12877997914494266, 0.06694185211773152]\n",
      "brevity_penalty     : 1.0\n",
      "length_ratio        : 1.556371263765076\n",
      "translation_length  : 5936\n",
      "reference_length    : 3814\n",
      "******************************************************************************************\n",
      "                                     BLEU-4                                     \n",
      "------------------------------------------------------------------------------------------\n",
      "bleu                : 0.05076051622382658\n",
      "precisions          : [0.25943396226415094, 0.12877997914494266, 0.06694185211773152, 0.002968460111317254]\n",
      "brevity_penalty     : 1.0\n",
      "length_ratio        : 1.556371263765076\n",
      "translation_length  : 5936\n",
      "reference_length    : 3814\n",
      "******************************************************************************************\n"
     ]
    }
   ],
   "source": [
    "SUN_VAL_AF = [[sent] for sent in sun_afrikaans_val]\n",
    "SUN_VAL_TRANSLATED = [translator.translate_sentence(sent) for sent in sun_english_val]\n",
    "corpus_bleu(SUN_VAL_TRANSLATED, SUN_VAL_AF)"
   ]
  },
  {
   "cell_type": "markdown",
   "id": "55bc55d38120c8bd",
   "metadata": {},
   "source": [
    "### Beam Search"
   ]
  },
  {
   "cell_type": "code",
   "execution_count": 14,
   "id": "42aea58fffea3b74",
   "metadata": {
    "ExecuteTime": {
     "end_time": "2024-07-19T16:08:57.811028Z",
     "start_time": "2024-07-19T16:07:38.436105Z"
    }
   },
   "outputs": [
    {
     "name": "stdout",
     "output_type": "stream",
     "text": [
      "                                     BLEU-1                                     \n",
      "------------------------------------------------------------------------------------------\n",
      "bleu                : 0.1399737876802097\n",
      "precisions          : [0.1399737876802097]\n",
      "brevity_penalty     : 1.0\n",
      "length_ratio        : 3.000786575773466\n",
      "translation_length  : 11445\n",
      "reference_length    : 3814\n",
      "******************************************************************************************\n",
      "                                     BLEU-2                                     \n",
      "------------------------------------------------------------------------------------------\n",
      "bleu                : 0.09596335417303216\n",
      "precisions          : [0.1399737876802097, 0.0657906419248868]\n",
      "brevity_penalty     : 1.0\n",
      "length_ratio        : 3.000786575773466\n",
      "translation_length  : 11445\n",
      "reference_length    : 3814\n",
      "******************************************************************************************\n",
      "                                     BLEU-3                                     \n",
      "------------------------------------------------------------------------------------------\n",
      "bleu                : 0.06761736996976113\n",
      "precisions          : [0.1399737876802097, 0.0657906419248868, 0.03357097734861474]\n",
      "brevity_penalty     : 1.0\n",
      "length_ratio        : 3.000786575773466\n",
      "translation_length  : 11445\n",
      "reference_length    : 3814\n",
      "******************************************************************************************\n",
      "                                     BLEU-4                                     \n",
      "------------------------------------------------------------------------------------------\n",
      "bleu                : 0.024642393077026942\n",
      "precisions          : [0.1399737876802097, 0.0657906419248868, 0.03357097734861474, 0.0011927699788971465]\n",
      "brevity_penalty     : 1.0\n",
      "length_ratio        : 3.000786575773466\n",
      "translation_length  : 11445\n",
      "reference_length    : 3814\n",
      "******************************************************************************************\n"
     ]
    }
   ],
   "source": [
    "SUN_VAL_TRANSLATED = [translator.translate_sentence(sent, method=\"beam\", beam_width=3) for sent in sun_english_val]\n",
    "corpus_bleu(SUN_VAL_TRANSLATED, SUN_VAL_AF)"
   ]
  },
  {
   "cell_type": "code",
   "execution_count": 15,
   "id": "59864a40",
   "metadata": {
    "ExecuteTime": {
     "end_time": "2024-07-19T16:09:01.105207Z",
     "start_time": "2024-07-19T16:08:57.811835Z"
    }
   },
   "outputs": [
    {
     "name": "stdout",
     "output_type": "stream",
     "text": [
      "Source    : <sos> component <eos>\n",
      "Prediction: <sos> die sein $x(t)$ word nou teen 'n monsterfrekwensie van $f_s=2000\\textrm{hz}$ gemonster <eos>\n",
      "Label     : <sos> komponent <eos>\n",
      "BLEU      : 0.0\n",
      "\n",
      "Source    : <sos> architecture <eos>\n",
      "Prediction: <sos> die sein $x(t)$ word nou teen 'n monsterfrekwensie van $f_s=2000\\textrm{hz}$ gemonster <eos>\n",
      "Label     : <sos> argitektuur <eos>\n",
      "BLEU      : 0.0\n",
      "\n",
      "Source    : <sos> specification <eos>\n",
      "Prediction: <sos> die sein $x(t)$ word nou teen 'n monsterfrekwensie van $f_s=2000\\textrm{hz}$ gemonster <eos>\n",
      "Label     : <sos> spesifikasies <eos>\n",
      "BLEU      : 0.0\n",
      "\n",
      "Source    : <sos> at which stage of the design process would we choose the communication protocol between subsystems <eos>\n",
      "Prediction: <sos> veronderstel ons het 'n datastel met vyf kenmerke , $x_1$ = matriek gemiddeld , $x_2$ = ik toetspunt , $x_3$ = geslag (1 vir vroulik en 0 vir ma\n",
      "Label     : <sos> by watter stap van die ontwerpsproses word die kommunikasie-kanaal tussen substelsels gekies <eos>\n",
      "BLEU      : 0.0\n",
      "\n",
      "Source    : <sos> motivate your answer <eos>\n",
      "Prediction: <sos> toon aan dat die \\textit{sotfmax}-regressievoorspellingsfunksie oor-geparameteriseerd is : trek 'n konstante vektor $\\mathbf{c}$ van elke gewigs\n",
      "Label     : <sos> motiveer jou antwoord <eos>\n",
      "BLEU      : 0.0\n",
      "\n",
      "Source    : <sos> describe the meaning if a system is described as a cyber-physical system <eos>\n",
      "Prediction: <sos> veronderstel ons het 'n datastel met vyf kenmerke , $x_1$ = matriek gemiddeld , $x_2$ = ik toetspunt , $x_3$ = geslag (1 vir vroulik en 0 vir ma\n",
      "Label     : <sos> wat is die betekenis as 'n stelsel beskryf word as 'n kuber-fisiese stelsel <eos>\n",
      "BLEU      : 0.0\n",
      "\n",
      "Source    : <sos> extract four requirements of a standard cansat mission by using the description below : <eos>\n",
      "Prediction: <sos> daarna word die sein met 'n faktor 2 opgemonster (upsample) , gefilter deur 'n banddeurlaatfilter (bpf) met 'n deurlaatband tussen $0.25$ en $0.\n",
      "Label     : <sos> ontrek vier vereistes van 'n standaard cansat missie deur gebruik te maak van die onderstaande beskrywing : <eos>\n",
      "BLEU      : 0.0\n",
      "\n",
      "Source    : <sos> the cansat will be built by the final year cs414 class <eos>\n",
      "Prediction: <sos> daarna word die sein met 'n faktor 2 opgemonster (upsample) , gefilter deur 'n banddeurlaatfilter (bpf) met 'n deurlaatband tussen $0.25$ en $0.\n",
      "Label     : <sos> die cansat word gebou deur die finale jaar rs414 klas <eos>\n",
      "BLEU      : 0.0\n",
      "\n",
      "Source    : <sos> the cansat is launched from a rocket and its mission time must be maximised <eos>\n",
      "Prediction: <sos> daarna word die sein met 'n faktor 2 opgemonster (upsample) , gefilter deur 'n banddeurlaatfilter (bpf) met 'n deurlaatband tussen $0.25$ en $0.\n",
      "Label     : <sos> die cansat word gelanseer deur 'n vuurpyl en die missie moet so lank duur as moontlik <eos>\n",
      "BLEU      : 0.0\n",
      "\n",
      "Source    : <sos> a ground station will receive the necessary information to track the movement of the cansat <eos>\n",
      "Prediction: <sos> veronderstel ons het 'n datastel met vyf kenmerke , $x_1$ = matriek gemiddeld , $x_2$ = ik toetspunt , $x_3$ = geslag (1 vir vroulik en 0 vir ma\n",
      "Label     : <sos> 'n grondstasie sal die nodige inligting ontvang om die beweging van die cansat te bepaal <eos>\n",
      "BLEU      : 0.0\n",
      "\n"
     ]
    }
   ],
   "source": [
    "metric = evaluate.load(\"bleu\")\n",
    "predictions = [translator.translate_sentence(sent, method=\"beam\", beam_width=5) for sent in sun_english_val[10:20]]\n",
    "labels = SUN_VAL_AF[10:20]\n",
    "for source, pred, lab in zip(sun_english_val[10:20],predictions, labels):\n",
    "    print(f\"Source    : {source}\")\n",
    "    print(f\"Prediction: {pred[:150]}\")\n",
    "    print(f\"Label     : {lab[0][:150]}\")\n",
    "    print(f\"BLEU      : {metric.compute(predictions=[pred], references=lab)['bleu']}\")\n",
    "    print()"
   ]
  }
 ],
 "metadata": {
  "kernelspec": {
   "display_name": "Python 3 (ipykernel)",
   "language": "python",
   "name": "python3"
  },
  "language_info": {
   "codemirror_mode": {
    "name": "ipython",
    "version": 3
   },
   "file_extension": ".py",
   "mimetype": "text/x-python",
   "name": "python",
   "nbconvert_exporter": "python",
   "pygments_lexer": "ipython3",
   "version": "3.10.14"
  }
 },
 "nbformat": 4,
 "nbformat_minor": 5
}
