{
 "cells": [
  {
   "cell_type": "markdown",
   "id": "88716432",
   "metadata": {},
   "source": [
    "# NEURAL MACHINE TRANSLATION - Vanilla RNN"
   ]
  },
  {
   "cell_type": "markdown",
   "id": "5fb4bb18",
   "metadata": {},
   "source": [
    "## Required Module & Config files"
   ]
  },
  {
   "cell_type": "code",
   "id": "a89bf9e4-311d-4af8-846b-ccfcb9e940b2",
   "metadata": {
    "ExecuteTime": {
     "end_time": "2024-07-18T18:48:56.623583Z",
     "start_time": "2024-07-18T18:48:53.144938Z"
    }
   },
   "source": [
    "import src.RNN_GRU as rnnNMT\n",
    "from src.Tokenizer import Corpus, LangData, dataLoader\n",
    "from src.utils import load_config, get_device, train_model, sentence_bleu, corpus_bleu\n",
    "from src.Translator import Translator\n",
    "from torch.nn import CrossEntropyLoss\n",
    "from torch.optim import NAdam\n",
    "import evaluate\n",
    "import numpy as np\n",
    "from torchinfo import summary\n",
    "\n",
    "# Loading config file\n",
    "config = load_config()\n",
    "# Get device : GPU/MPS Back-End/CPU\n",
    "device = get_device()\n",
    "print(f\"Using device: {device}\")"
   ],
   "outputs": [
    {
     "name": "stderr",
     "output_type": "stream",
     "text": [
      "Using the latest cached version of the module from /Users/lucien/.cache/huggingface/modules/evaluate_modules/metrics/evaluate-metric--bleu/9e0985c1200e367cce45605ce0ecb5ede079894e0f24f54613fca08eeb8aff76 (last modified on Thu Jul 18 16:29:52 2024) since it couldn't be found locally at evaluate-metric--bleu, or remotely on the Hugging Face Hub.\n"
     ]
    },
    {
     "name": "stdout",
     "output_type": "stream",
     "text": [
      "Using device: mps\n"
     ]
    }
   ],
   "execution_count": 1
  },
  {
   "cell_type": "markdown",
   "id": "76325a3f",
   "metadata": {},
   "source": [
    "## Load the dataset"
   ]
  },
  {
   "cell_type": "code",
   "id": "083f4d8c",
   "metadata": {
    "ExecuteTime": {
     "end_time": "2024-07-18T18:48:56.642152Z",
     "start_time": "2024-07-18T18:48:56.624932Z"
    }
   },
   "source": [
    "# Encoder-Source\n",
    "english_data = Corpus(f\"{config.TRAIN_DATA}/english.txt\", \"English\")\n",
    "afrikaans_data = Corpus(f\"{config.TRAIN_DATA}/afrikaans.txt\", \"Afrikaans\")"
   ],
   "outputs": [],
   "execution_count": 2
  },
  {
   "cell_type": "markdown",
   "id": "0142f911",
   "metadata": {},
   "source": [
    "## Set Hyperparameters"
   ]
  },
  {
   "cell_type": "code",
   "id": "d5ff35e0",
   "metadata": {
    "ExecuteTime": {
     "end_time": "2024-07-18T18:48:56.645151Z",
     "start_time": "2024-07-18T18:48:56.643013Z"
    }
   },
   "source": [
    "# Encoder - source\n",
    "IN_ENCODER = english_data.vocab_size\n",
    "ENCODER_EMB = 256\n",
    "\n",
    "# Decoder - target\n",
    "IN_DECODER = afrikaans_data.vocab_size\n",
    "OUT_DECODER = afrikaans_data.vocab_size\n",
    "DECODER_EMB = 256\n",
    "\n",
    "# Shared\n",
    "HIDDEN_SIZE = 1024\n",
    "NUM_LAYERS = 2\n",
    "\n",
    "LR = 1e-4\n",
    "BATCH_SIZE = 128"
   ],
   "outputs": [],
   "execution_count": 3
  },
  {
   "cell_type": "markdown",
   "id": "da759f25",
   "metadata": {},
   "source": [
    "## Set the model"
   ]
  },
  {
   "cell_type": "code",
   "id": "f04f2d2f",
   "metadata": {
    "ExecuteTime": {
     "end_time": "2024-07-18T18:48:56.767121Z",
     "start_time": "2024-07-18T18:48:56.646823Z"
    }
   },
   "source": [
    "encoder_net = rnnNMT.Encoder(IN_ENCODER, ENCODER_EMB, HIDDEN_SIZE, NUM_LAYERS).to(device)\n",
    "decoder_net = rnnNMT.Decoder(IN_DECODER, DECODER_EMB, HIDDEN_SIZE, NUM_LAYERS).to(device)\n",
    "model = rnnNMT.RNN_NMT(encoder_net, decoder_net, OUT_DECODER)\n",
    "\n",
    "summary(model)"
   ],
   "outputs": [
    {
     "data": {
      "text/plain": [
       "=================================================================\n",
       "Layer (type:depth-idx)                   Param #\n",
       "=================================================================\n",
       "RNN_NMT                                  --\n",
       "├─Encoder: 1-1                           --\n",
       "│    └─RNN: 2-1                          3,411,968\n",
       "│    └─Embedding: 2-2                    743,936\n",
       "├─Decoder: 1-2                           --\n",
       "│    └─RNN: 2-3                          3,411,968\n",
       "│    └─Embedding: 2-4                    737,024\n",
       "│    └─Linear: 2-5                       2,950,975\n",
       "=================================================================\n",
       "Total params: 11,255,871\n",
       "Trainable params: 11,255,871\n",
       "Non-trainable params: 0\n",
       "================================================================="
      ]
     },
     "execution_count": 4,
     "metadata": {},
     "output_type": "execute_result"
    }
   ],
   "execution_count": 4
  },
  {
   "cell_type": "code",
   "id": "ee757771",
   "metadata": {
    "ExecuteTime": {
     "end_time": "2024-07-18T18:48:57.303633Z",
     "start_time": "2024-07-18T18:48:56.768071Z"
    }
   },
   "source": [
    "train_data = LangData(english_data, afrikaans_data)\n",
    "train_loader = dataLoader(train_data, BATCH_SIZE)\n",
    "\n",
    "pad_idx = afrikaans_data.stoi['<pad>']\n",
    "criterion = CrossEntropyLoss(ignore_index=0)\n",
    "\n",
    "optimizer = NAdam(model.parameters(), LR)\n",
    "translator = Translator(model, english_data, afrikaans_data, device)"
   ],
   "outputs": [],
   "execution_count": 5
  },
  {
   "cell_type": "code",
   "id": "bcb89b48",
   "metadata": {
    "ExecuteTime": {
     "end_time": "2024-07-18T18:48:57.571837Z",
     "start_time": "2024-07-18T18:48:57.304686Z"
    }
   },
   "source": [
    "# Data used for follow-up durring training\n",
    "mytext = \"<sos> given that we represent the target output as $y\\in\\{0,1\\}$ and we have $n$ training points , we can write the negative log likelihood of the parameters as follows: <eos>\"\n",
    "ground = \"<sos> as ons die teikenuittree voorstel as $y\\in\\{0,1\\}$ en ons $n$ afrigpunte het , dan kan ons die negatiewe log-waarskynlikheidskostefunksie skryf as: <eos>\"\n",
    "\n",
    "predicted = translator.translate_sentence(mytext)\n",
    "bleu = sentence_bleu(prediction=[predicted], reference=[ground])\n",
    "print(f\"Pred: {predicted}\")\n",
    "print(f\"Refe: {ground}\")\n",
    "print(f\"BLEU SCORES: {bleu}\")"
   ],
   "outputs": [
    {
     "name": "stdout",
     "output_type": "stream",
     "text": [
      "Pred: <sos> hengel $l_2$ verskaf $\\omega=\\frac{\\pi}{2}$ \\textbf{nie} grappe maklike metode i mnr standardiseer twyfel nag oorsee $x[n]\\,\\raisebox{.5pt}{\\textcircled{\\footnotesize\\raisebox{-.9pt}{$ gewoonlik probleem mnr. asemhaal laas voorspel hout italiaans susters onmiddelike reguit wolfgang sin daarntoe gestraf verdrink situasie greep voorspellings walglike anti-kousaal spookasem ure ag aangetoon hieroor gevier (statistiese lemoene $\\hat{x}[k]$ kenmerk $w_3=35$ snobisties stabiel rook tydens aangesien \"lisa stasie bestuur duurder rede nag bed kleurbeeld gewigsvektor gesing s proe straat ik hiervan klip bedink werkloos parys huwelik bewerkings indink gewees hierdie doodgemaak pretparke dam gedank van spontaan opeet sap meisie tand woordebook minimum oorbetaal verloor daarvan getuienis voldoen gekies $x_1$ beramings $x[n]=\\cos(2\\pif_{\\omega,0}n)$ lyn geplaas gebeur.\" stedelike 7 $w_5=-10$ winkelier stoof som matriek situasie vervang klim opgee beloof aandag \"pragtige wesens onafhanklike baskitaar vroue bin\\^{e}re ho\\\"er-frekwensie rustig werk mislukking \"\"ek politieke bedryf afrigverlies omternt is.\" sê.\" som \"\"jy andere waaroor $y$ $[0,d]^\\top$ \"treurig bladsy.} moeg; gegooi $y(t)$ tanaka sit besoek.\" $\\lambda=0$ gevra.\" ufo blomme 1968 intreekenmerke drink doel oorvloei pla sake skoenlapper-berekeninge dimensies tanaka kêrel sentro\\\"iedes syfersein bedek siklusse motors = nou geeis enkel-warm amsterdam net beginsalaris waar geboelie enigiemand duurder\n",
      "Refe: <sos> as ons die teikenuittree voorstel as $y\\in\\{0,1\\}$ en ons $n$ afrigpunte het , dan kan ons die negatiewe log-waarskynlikheidskostefunksie skryf as: <eos>\n",
      "BLEU SCORES: [0.046, 0.024, 0.012, 0.0]\n"
     ]
    }
   ],
   "execution_count": 6
  },
  {
   "cell_type": "markdown",
   "id": "2ed66bc3",
   "metadata": {},
   "source": [
    "## Train the data"
   ]
  },
  {
   "cell_type": "code",
   "id": "7b2790009f0b8f40",
   "metadata": {
    "ExecuteTime": {
     "end_time": "2024-07-18T18:50:16.232076Z",
     "start_time": "2024-07-18T18:48:57.572949Z"
    }
   },
   "source": [
    "EPOCHS = 20\n",
    "params = {\n",
    "    \"model\": model,\n",
    "    \"train_loader\": train_loader,\n",
    "    \"optimizer\": optimizer,\n",
    "    \"criterion\": criterion,\n",
    "    \"device\": device,\n",
    "    \"epochs\": EPOCHS,\n",
    "    \"source_test\": mytext,\n",
    "    \"reference\": ground,\n",
    "\t\"translator\":translator\n",
    "}\n",
    "\n",
    "train_model(**params)"
   ],
   "outputs": [
    {
     "name": "stderr",
     "output_type": "stream",
     "text": [
      "Using the latest cached version of the module from /Users/lucien/.cache/huggingface/modules/evaluate_modules/metrics/evaluate-metric--bleu/9e0985c1200e367cce45605ce0ecb5ede079894e0f24f54613fca08eeb8aff76 (last modified on Thu Jul 18 16:29:52 2024) since it couldn't be found locally at evaluate-metric--bleu, or remotely on the Hugging Face Hub.\n",
      "Epoch 1/20: 100%|██████████| 20/20 [00:04<00:00,  4.33batch/s, loss=1.942]\n"
     ]
    },
    {
     "name": "stdout",
     "output_type": "stream",
     "text": [
      "Predicted: <sos> ek het nie <eos>\n",
      "BLEU Score: [0.028, 0.022, 0.017, 0.0]\n"
     ]
    },
    {
     "name": "stderr",
     "output_type": "stream",
     "text": [
      "Epoch 2/20: 100%|██████████| 20/20 [00:03<00:00,  5.58batch/s, loss=1.579]\n"
     ]
    },
    {
     "name": "stdout",
     "output_type": "stream",
     "text": [
      "Predicted: <sos> ek het nie <eos>\n",
      "BLEU Score: [0.028, 0.022, 0.017, 0.0]\n"
     ]
    },
    {
     "name": "stderr",
     "output_type": "stream",
     "text": [
      "Epoch 3/20: 100%|██████████| 20/20 [00:03<00:00,  5.14batch/s, loss=1.575]\n"
     ]
    },
    {
     "name": "stdout",
     "output_type": "stream",
     "text": [
      "Predicted: <sos> ek het nie <eos>\n",
      "BLEU Score: [0.028, 0.022, 0.017, 0.0]\n"
     ]
    },
    {
     "name": "stderr",
     "output_type": "stream",
     "text": [
      "Epoch 4/20: 100%|██████████| 20/20 [00:03<00:00,  5.20batch/s, loss=1.604]\n"
     ]
    },
    {
     "name": "stdout",
     "output_type": "stream",
     "text": [
      "Predicted: <sos> ek is nie <eos>\n",
      "BLEU Score: [0.024, 0.021, 0.016, 0.0]\n"
     ]
    },
    {
     "name": "stderr",
     "output_type": "stream",
     "text": [
      "Epoch 5/20: 100%|██████████| 20/20 [00:03<00:00,  5.22batch/s, loss=1.583]\n"
     ]
    },
    {
     "name": "stdout",
     "output_type": "stream",
     "text": [
      "Predicted: <sos> ek is nie <eos>\n",
      "BLEU Score: [0.024, 0.021, 0.016, 0.0]\n"
     ]
    },
    {
     "name": "stderr",
     "output_type": "stream",
     "text": [
      "Epoch 6/20: 100%|██████████| 20/20 [00:03<00:00,  5.27batch/s, loss=1.572]\n"
     ]
    },
    {
     "name": "stdout",
     "output_type": "stream",
     "text": [
      "Predicted: <sos> ek is nie <eos>\n",
      "BLEU Score: [0.024, 0.021, 0.016, 0.0]\n"
     ]
    },
    {
     "name": "stderr",
     "output_type": "stream",
     "text": [
      "Epoch 7/20: 100%|██████████| 20/20 [00:03<00:00,  5.21batch/s, loss=1.585]\n"
     ]
    },
    {
     "name": "stdout",
     "output_type": "stream",
     "text": [
      "Predicted: <sos> ek het nie <eos>\n",
      "BLEU Score: [0.028, 0.022, 0.017, 0.0]\n"
     ]
    },
    {
     "name": "stderr",
     "output_type": "stream",
     "text": [
      "Epoch 8/20: 100%|██████████| 20/20 [00:03<00:00,  5.04batch/s, loss=1.535]\n"
     ]
    },
    {
     "name": "stdout",
     "output_type": "stream",
     "text": [
      "Predicted: <sos> ek het nie <eos>\n",
      "BLEU Score: [0.028, 0.022, 0.017, 0.0]\n"
     ]
    },
    {
     "name": "stderr",
     "output_type": "stream",
     "text": [
      "Epoch 9/20: 100%|██████████| 20/20 [00:03<00:00,  5.22batch/s, loss=1.530]\n"
     ]
    },
    {
     "name": "stdout",
     "output_type": "stream",
     "text": [
      "Predicted: <sos> die is van die volgende <eos>\n",
      "BLEU Score: [0.057, 0.042, 0.031, 0.0]\n"
     ]
    },
    {
     "name": "stderr",
     "output_type": "stream",
     "text": [
      "Epoch 10/20: 100%|██████████| 20/20 [00:03<00:00,  5.35batch/s, loss=1.468]\n"
     ]
    },
    {
     "name": "stdout",
     "output_type": "stream",
     "text": [
      "Predicted: <sos> die is is die <eos>\n",
      "BLEU Score: [0.044, 0.033, 0.025, 0.0]\n"
     ]
    },
    {
     "name": "stderr",
     "output_type": "stream",
     "text": [
      "Epoch 11/20: 100%|██████████| 20/20 [00:03<00:00,  5.36batch/s, loss=1.476]\n"
     ]
    },
    {
     "name": "stdout",
     "output_type": "stream",
     "text": [
      "Predicted: <sos> die is is <eos>\n",
      "BLEU Score: [0.028, 0.022, 0.017, 0.0]\n"
     ]
    },
    {
     "name": "stderr",
     "output_type": "stream",
     "text": [
      "Epoch 12/20: 100%|██████████| 20/20 [00:03<00:00,  5.29batch/s, loss=1.485]\n"
     ]
    },
    {
     "name": "stdout",
     "output_type": "stream",
     "text": [
      "Predicted: <sos> die is is die <eos>\n",
      "BLEU Score: [0.044, 0.033, 0.025, 0.0]\n"
     ]
    },
    {
     "name": "stderr",
     "output_type": "stream",
     "text": [
      "Epoch 13/20: 100%|██████████| 20/20 [00:03<00:00,  5.24batch/s, loss=1.495]\n"
     ]
    },
    {
     "name": "stdout",
     "output_type": "stream",
     "text": [
      "Predicted: <sos> die is is 'n <eos>\n",
      "BLEU Score: [0.039, 0.031, 0.023, 0.0]\n"
     ]
    },
    {
     "name": "stderr",
     "output_type": "stream",
     "text": [
      "Epoch 14/20: 100%|██████████| 20/20 [00:03<00:00,  5.28batch/s, loss=1.479]\n"
     ]
    },
    {
     "name": "stdout",
     "output_type": "stream",
     "text": [
      "Predicted: <sos> die die is van die <eos>\n",
      "BLEU Score: [0.057, 0.042, 0.031, 0.0]\n"
     ]
    },
    {
     "name": "stderr",
     "output_type": "stream",
     "text": [
      "Epoch 15/20: 100%|██████████| 20/20 [00:03<00:00,  5.62batch/s, loss=1.422]\n"
     ]
    },
    {
     "name": "stdout",
     "output_type": "stream",
     "text": [
      "Predicted: <sos> die die is van die <eos>\n",
      "BLEU Score: [0.057, 0.042, 0.031, 0.0]\n"
     ]
    },
    {
     "name": "stderr",
     "output_type": "stream",
     "text": [
      "Epoch 16/20: 100%|██████████| 20/20 [00:03<00:00,  5.37batch/s, loss=1.443]\n"
     ]
    },
    {
     "name": "stdout",
     "output_type": "stream",
     "text": [
      "Predicted: <sos> die die is van die <eos>\n",
      "BLEU Score: [0.057, 0.042, 0.031, 0.0]\n"
     ]
    },
    {
     "name": "stderr",
     "output_type": "stream",
     "text": [
      "Epoch 17/20: 100%|██████████| 20/20 [00:03<00:00,  5.40batch/s, loss=1.426]\n"
     ]
    },
    {
     "name": "stdout",
     "output_type": "stream",
     "text": [
      "Predicted: <sos> die die is van die <eos>\n",
      "BLEU Score: [0.057, 0.042, 0.031, 0.0]\n"
     ]
    },
    {
     "name": "stderr",
     "output_type": "stream",
     "text": [
      "Epoch 18/20: 100%|██████████| 20/20 [00:03<00:00,  5.21batch/s, loss=1.387]\n"
     ]
    },
    {
     "name": "stdout",
     "output_type": "stream",
     "text": [
      "Predicted: <sos> die die is van die <eos>\n",
      "BLEU Score: [0.057, 0.042, 0.031, 0.0]\n"
     ]
    },
    {
     "name": "stderr",
     "output_type": "stream",
     "text": [
      "Epoch 19/20: 100%|██████████| 20/20 [00:03<00:00,  5.23batch/s, loss=1.420]\n"
     ]
    },
    {
     "name": "stdout",
     "output_type": "stream",
     "text": [
      "Predicted: <sos> die die is van die <eos>\n",
      "BLEU Score: [0.057, 0.042, 0.031, 0.0]\n"
     ]
    },
    {
     "name": "stderr",
     "output_type": "stream",
     "text": [
      "Epoch 20/20: 100%|██████████| 20/20 [00:03<00:00,  5.12batch/s, loss=1.429]"
     ]
    },
    {
     "name": "stdout",
     "output_type": "stream",
     "text": [
      "Predicted: <sos> die die is van die <eos>\n",
      "BLEU Score: [0.057, 0.042, 0.031, 0.0]\n"
     ]
    },
    {
     "name": "stderr",
     "output_type": "stream",
     "text": [
      "\n"
     ]
    }
   ],
   "execution_count": 7
  },
  {
   "cell_type": "markdown",
   "id": "f4bfc9b5",
   "metadata": {},
   "source": "## Evauate on the Training set"
  },
  {
   "cell_type": "code",
   "id": "798fe0ad",
   "metadata": {
    "ExecuteTime": {
     "end_time": "2024-07-18T18:50:46.643194Z",
     "start_time": "2024-07-18T18:50:16.233728Z"
    }
   },
   "source": [
    "EN_SRC = [' '.join(sent) for sent in english_data.data_str]\n",
    "AF_REF = [[' '.join(sent)] for sent in afrikaans_data.data_str]\n",
    "TRANSLATED = [translator.translate_sentence(sent) for sent in EN_SRC]\n",
    "corpus_bleu(TRANSLATED, AF_REF)"
   ],
   "outputs": [
    {
     "name": "stderr",
     "output_type": "stream",
     "text": [
      "Using the latest cached version of the module from /Users/lucien/.cache/huggingface/modules/evaluate_modules/metrics/evaluate-metric--bleu/9e0985c1200e367cce45605ce0ecb5ede079894e0f24f54613fca08eeb8aff76 (last modified on Thu Jul 18 16:29:52 2024) since it couldn't be found locally at evaluate-metric--bleu, or remotely on the Hugging Face Hub.\n"
     ]
    },
    {
     "name": "stdout",
     "output_type": "stream",
     "text": [
      "                                     BLEU-1                                     \n",
      "------------------------------------------------------------------------------------------\n",
      "bleu                : 0.42831771642061256\n",
      "precisions          : [0.6074130935409584]\n",
      "brevity_penalty     : 0.7051506149195823\n",
      "length_ratio        : 0.7411009373137563\n",
      "translation_length  : 27357\n",
      "reference_length    : 36914\n",
      "******************************************************************************************\n",
      "                                     BLEU-2                                     \n",
      "------------------------------------------------------------------------------------------\n",
      "bleu                : 0.3517000896145005\n",
      "precisions          : [0.6074130935409584, 0.4095406644678626]\n",
      "brevity_penalty     : 0.7051506149195823\n",
      "length_ratio        : 0.7411009373137563\n",
      "translation_length  : 27357\n",
      "reference_length    : 36914\n",
      "******************************************************************************************\n",
      "                                     BLEU-3                                     \n",
      "------------------------------------------------------------------------------------------\n",
      "bleu                : 0.2711107071360214\n",
      "precisions          : [0.6074130935409584, 0.4095406644678626, 0.2284615728528636]\n",
      "brevity_penalty     : 0.7051506149195823\n",
      "length_ratio        : 0.7411009373137563\n",
      "translation_length  : 27357\n",
      "reference_length    : 36914\n",
      "******************************************************************************************\n",
      "                                     BLEU-4                                     \n",
      "------------------------------------------------------------------------------------------\n",
      "bleu                : 0.09597660676244472\n",
      "precisions          : [0.6074130935409584, 0.4095406644678626, 0.2284615728528636, 0.006038647342995169]\n",
      "brevity_penalty     : 0.7051506149195823\n",
      "length_ratio        : 0.7411009373137563\n",
      "translation_length  : 27357\n",
      "reference_length    : 36914\n",
      "******************************************************************************************\n"
     ]
    }
   ],
   "execution_count": 8
  },
  {
   "cell_type": "markdown",
   "id": "d2cc6ed3",
   "metadata": {},
   "source": "## Evaluate on the Test set"
  },
  {
   "metadata": {
    "ExecuteTime": {
     "end_time": "2024-07-18T18:50:46.648556Z",
     "start_time": "2024-07-18T18:50:46.644288Z"
    }
   },
   "cell_type": "code",
   "source": [
    "with open(f\"{config.VAL_DATA}/english.txt\") as data:\n",
    "    english_val = data.read().strip().split(\"\\n\")\n",
    "with open(f\"{config.VAL_DATA}/afrikaans.txt\") as data:\n",
    "    afrikaans_val = data.read().strip().split(\"\\n\")"
   ],
   "id": "7bccda3561c7cc9",
   "outputs": [],
   "execution_count": 9
  },
  {
   "metadata": {},
   "cell_type": "markdown",
   "source": "### Greedy Search",
   "id": "de0ea7b89f9add91"
  },
  {
   "cell_type": "code",
   "id": "61b64fb6",
   "metadata": {
    "ExecuteTime": {
     "end_time": "2024-07-18T18:51:00.012666Z",
     "start_time": "2024-07-18T18:50:46.650991Z"
    }
   },
   "source": [
    "VAL_AF_REF = [[sent] for sent in afrikaans_val]\n",
    "VAL_TRANSLATED = [translator.translate_sentence(sent) for sent in english_val]\n",
    "\n",
    "corpus_bleu(VAL_TRANSLATED, VAL_AF_REF)"
   ],
   "outputs": [
    {
     "name": "stderr",
     "output_type": "stream",
     "text": [
      "Using the latest cached version of the module from /Users/lucien/.cache/huggingface/modules/evaluate_modules/metrics/evaluate-metric--bleu/9e0985c1200e367cce45605ce0ecb5ede079894e0f24f54613fca08eeb8aff76 (last modified on Thu Jul 18 16:29:52 2024) since it couldn't be found locally at evaluate-metric--bleu, or remotely on the Hugging Face Hub.\n"
     ]
    },
    {
     "name": "stdout",
     "output_type": "stream",
     "text": [
      "                                     BLEU-1                                     \n",
      "------------------------------------------------------------------------------------------\n",
      "bleu                : 0.4744678564312928\n",
      "precisions          : [0.6181818181818182]\n",
      "brevity_penalty     : 0.7675215324623854\n",
      "length_ratio        : 0.7907709160618924\n",
      "translation_length  : 11550\n",
      "reference_length    : 14606\n",
      "******************************************************************************************\n",
      "                                     BLEU-2                                     \n",
      "------------------------------------------------------------------------------------------\n",
      "bleu                : 0.38801062613715653\n",
      "precisions          : [0.6181818181818182, 0.4134184694558277]\n",
      "brevity_penalty     : 0.7675215324623854\n",
      "length_ratio        : 0.7907709160618924\n",
      "translation_length  : 11550\n",
      "reference_length    : 14606\n",
      "******************************************************************************************\n",
      "                                     BLEU-3                                     \n",
      "------------------------------------------------------------------------------------------\n",
      "bleu                : 0.298915553626026\n",
      "precisions          : [0.6181818181818182, 0.4134184694558277, 0.23113607460788468]\n",
      "brevity_penalty     : 0.7675215324623854\n",
      "length_ratio        : 0.7907709160618924\n",
      "translation_length  : 11550\n",
      "reference_length    : 14606\n",
      "******************************************************************************************\n",
      "                                     BLEU-4                                     \n",
      "------------------------------------------------------------------------------------------\n",
      "bleu                : 0.11315003177591124\n",
      "precisions          : [0.6181818181818182, 0.4134184694558277, 0.23113607460788468, 0.007996180928511756]\n",
      "brevity_penalty     : 0.7675215324623854\n",
      "length_ratio        : 0.7907709160618924\n",
      "translation_length  : 11550\n",
      "reference_length    : 14606\n",
      "******************************************************************************************\n"
     ]
    }
   ],
   "execution_count": 10
  },
  {
   "metadata": {},
   "cell_type": "markdown",
   "source": "### Beam search",
   "id": "27701d9e8ea38687"
  },
  {
   "metadata": {
    "ExecuteTime": {
     "end_time": "2024-07-18T18:53:11.647378Z",
     "start_time": "2024-07-18T18:51:00.013539Z"
    }
   },
   "cell_type": "code",
   "source": [
    "VAL_TRANSLATED = [translator.translate_sentence(sent, method=\"beam\", beam_width=2) for sent in english_val]\n",
    "corpus_bleu(VAL_TRANSLATED, VAL_AF_REF)"
   ],
   "id": "e69185237c45264d",
   "outputs": [
    {
     "name": "stderr",
     "output_type": "stream",
     "text": [
      "Using the latest cached version of the module from /Users/lucien/.cache/huggingface/modules/evaluate_modules/metrics/evaluate-metric--bleu/9e0985c1200e367cce45605ce0ecb5ede079894e0f24f54613fca08eeb8aff76 (last modified on Thu Jul 18 16:29:52 2024) since it couldn't be found locally at evaluate-metric--bleu, or remotely on the Hugging Face Hub.\n"
     ]
    },
    {
     "name": "stdout",
     "output_type": "stream",
     "text": [
      "                                     BLEU-1                                     \n",
      "------------------------------------------------------------------------------------------\n",
      "bleu                : 0.4854298546571868\n",
      "precisions          : [0.6140706916962625]\n",
      "brevity_penalty     : 0.7905113551605468\n",
      "length_ratio        : 0.8096672600301246\n",
      "translation_length  : 11826\n",
      "reference_length    : 14606\n",
      "******************************************************************************************\n",
      "                                     BLEU-2                                     \n",
      "------------------------------------------------------------------------------------------\n",
      "bleu                : 0.3971772551533922\n",
      "precisions          : [0.6140706916962625, 0.41108738044386667]\n",
      "brevity_penalty     : 0.7905113551605468\n",
      "length_ratio        : 0.8096672600301246\n",
      "translation_length  : 11826\n",
      "reference_length    : 14606\n",
      "******************************************************************************************\n",
      "                                     BLEU-3                                     \n",
      "------------------------------------------------------------------------------------------\n",
      "bleu                : 0.30725206002132543\n",
      "precisions          : [0.6140706916962625, 0.41108738044386667, 0.2325988467874794]\n",
      "brevity_penalty     : 0.7905113551605468\n",
      "length_ratio        : 0.8096672600301246\n",
      "translation_length  : 11826\n",
      "reference_length    : 14606\n",
      "******************************************************************************************\n",
      "                                     BLEU-4                                     \n",
      "------------------------------------------------------------------------------------------\n",
      "bleu                : 0.1397564902907167\n",
      "precisions          : [0.6140706916962625, 0.41108738044386667, 0.2325988467874794, 0.016637781629116118]\n",
      "brevity_penalty     : 0.7905113551605468\n",
      "length_ratio        : 0.8096672600301246\n",
      "translation_length  : 11826\n",
      "reference_length    : 14606\n",
      "******************************************************************************************\n"
     ]
    }
   ],
   "execution_count": 11
  },
  {
   "metadata": {},
   "cell_type": "markdown",
   "source": "## Evaluate on the SUN validation set only",
   "id": "1b0ff51e2f68a4b7"
  },
  {
   "metadata": {
    "ExecuteTime": {
     "end_time": "2024-07-18T18:53:11.652031Z",
     "start_time": "2024-07-18T18:53:11.648402Z"
    }
   },
   "cell_type": "code",
   "source": [
    "with open(f\"{config.VAL_DATA}/sun_english.txt\") as data:\n",
    "    sun_english_val = data.read().strip().split(\"\\n\")\n",
    "with open(f\"{config.VAL_DATA}/sun_afrikaans.txt\") as data:\n",
    "    sun_afrikaans_val = data.read().strip().split(\"\\n\")"
   ],
   "id": "bc72e734a881f3e6",
   "outputs": [],
   "execution_count": 12
  },
  {
   "metadata": {},
   "cell_type": "markdown",
   "source": "### Greedy Search",
   "id": "65efe1d3e5cabda6"
  },
  {
   "metadata": {
    "ExecuteTime": {
     "end_time": "2024-07-18T18:53:15.455030Z",
     "start_time": "2024-07-18T18:53:11.652825Z"
    }
   },
   "cell_type": "code",
   "source": [
    "SUN_VAL_AF = [[sent] for sent in sun_afrikaans_val]\n",
    "SUN_VAL_TRANSLATED = [translator.translate_sentence(sent) for sent in sun_english_val]\n",
    "corpus_bleu(SUN_VAL_TRANSLATED, SUN_VAL_AF)"
   ],
   "id": "da8e61dc585a4a8e",
   "outputs": [
    {
     "name": "stderr",
     "output_type": "stream",
     "text": [
      "Using the latest cached version of the module from /Users/lucien/.cache/huggingface/modules/evaluate_modules/metrics/evaluate-metric--bleu/9e0985c1200e367cce45605ce0ecb5ede079894e0f24f54613fca08eeb8aff76 (last modified on Thu Jul 18 16:29:52 2024) since it couldn't be found locally at evaluate-metric--bleu, or remotely on the Hugging Face Hub.\n"
     ]
    },
    {
     "name": "stdout",
     "output_type": "stream",
     "text": [
      "                                     BLEU-1                                     \n",
      "------------------------------------------------------------------------------------------\n",
      "bleu                : 0.2873580445002975\n",
      "precisions          : [0.7227822580645161]\n",
      "brevity_penalty     : 0.39757207830445623\n",
      "length_ratio        : 0.5201887781856319\n",
      "translation_length  : 1984\n",
      "reference_length    : 3814\n",
      "******************************************************************************************\n",
      "                                     BLEU-2                                     \n",
      "------------------------------------------------------------------------------------------\n",
      "bleu                : 0.22323048227434308\n",
      "precisions          : [0.7227822580645161, 0.4361820199778024]\n",
      "brevity_penalty     : 0.39757207830445623\n",
      "length_ratio        : 0.5201887781856319\n",
      "translation_length  : 1984\n",
      "reference_length    : 3814\n",
      "******************************************************************************************\n",
      "                                     BLEU-3                                     \n",
      "------------------------------------------------------------------------------------------\n",
      "bleu                : 0.16818444224889892\n",
      "precisions          : [0.7227822580645161, 0.4361820199778024, 0.24012345679012345]\n",
      "brevity_penalty     : 0.39757207830445623\n",
      "length_ratio        : 0.5201887781856319\n",
      "translation_length  : 1984\n",
      "reference_length    : 3814\n",
      "******************************************************************************************\n",
      "                                     BLEU-4                                     \n",
      "------------------------------------------------------------------------------------------\n",
      "bleu                : 0.07572488355014635\n",
      "precisions          : [0.7227822580645161, 0.4361820199778024, 0.24012345679012345, 0.017385257301808066]\n",
      "brevity_penalty     : 0.39757207830445623\n",
      "length_ratio        : 0.5201887781856319\n",
      "translation_length  : 1984\n",
      "reference_length    : 3814\n",
      "******************************************************************************************\n"
     ]
    }
   ],
   "execution_count": 13
  },
  {
   "metadata": {},
   "cell_type": "markdown",
   "source": "### Beam Search",
   "id": "55bc55d38120c8bd"
  },
  {
   "metadata": {
    "ExecuteTime": {
     "end_time": "2024-07-18T18:54:08.328929Z",
     "start_time": "2024-07-18T18:53:15.459547Z"
    }
   },
   "cell_type": "code",
   "source": [
    "SUN_VAL_TRANSLATED = [translator.translate_sentence(sent, method=\"beam\", beam_width=2) for sent in sun_english_val]\n",
    "corpus_bleu(SUN_VAL_TRANSLATED, SUN_VAL_AF)"
   ],
   "id": "42aea58fffea3b74",
   "outputs": [
    {
     "name": "stderr",
     "output_type": "stream",
     "text": [
      "Using the latest cached version of the module from /Users/lucien/.cache/huggingface/modules/evaluate_modules/metrics/evaluate-metric--bleu/9e0985c1200e367cce45605ce0ecb5ede079894e0f24f54613fca08eeb8aff76 (last modified on Thu Jul 18 16:29:52 2024) since it couldn't be found locally at evaluate-metric--bleu, or remotely on the Hugging Face Hub.\n"
     ]
    },
    {
     "name": "stdout",
     "output_type": "stream",
     "text": [
      "                                     BLEU-1                                     \n",
      "------------------------------------------------------------------------------------------\n",
      "bleu                : 0.279813426682262\n",
      "precisions          : [0.7044881492687847]\n",
      "brevity_penalty     : 0.3971868468940054\n",
      "length_ratio        : 0.5199265862611432\n",
      "translation_length  : 1983\n",
      "reference_length    : 3814\n",
      "******************************************************************************************\n",
      "                                     BLEU-2                                     \n",
      "------------------------------------------------------------------------------------------\n",
      "bleu                : 0.21769851053863953\n",
      "precisions          : [0.7044881492687847, 0.4264297612437535]\n",
      "brevity_penalty     : 0.3971868468940054\n",
      "length_ratio        : 0.5199265862611432\n",
      "translation_length  : 1983\n",
      "reference_length    : 3814\n",
      "******************************************************************************************\n",
      "                                     BLEU-3                                     \n",
      "------------------------------------------------------------------------------------------\n",
      "bleu                : 0.16219656892286566\n",
      "precisions          : [0.7044881492687847, 0.4264297612437535, 0.2266831377393453]\n",
      "brevity_penalty     : 0.3971868468940054\n",
      "length_ratio        : 0.5199265862611432\n",
      "translation_length  : 1983\n",
      "reference_length    : 3814\n",
      "******************************************************************************************\n",
      "                                     BLEU-4                                     \n",
      "------------------------------------------------------------------------------------------\n",
      "bleu                : 0.03918981999039363\n",
      "precisions          : [0.7044881492687847, 0.4264297612437535, 0.2266831377393453, 0.0013917884481558804]\n",
      "brevity_penalty     : 0.3971868468940054\n",
      "length_ratio        : 0.5199265862611432\n",
      "translation_length  : 1983\n",
      "reference_length    : 3814\n",
      "******************************************************************************************\n"
     ]
    }
   ],
   "execution_count": 15
  }
 ],
 "metadata": {
  "kernelspec": {
   "display_name": "Python 3 (ipykernel)",
   "language": "python",
   "name": "python3"
  },
  "language_info": {
   "codemirror_mode": {
    "name": "ipython",
    "version": 3
   },
   "file_extension": ".py",
   "mimetype": "text/x-python",
   "name": "python",
   "nbconvert_exporter": "python",
   "pygments_lexer": "ipython3",
   "version": "3.10.14"
  }
 },
 "nbformat": 4,
 "nbformat_minor": 5
}
