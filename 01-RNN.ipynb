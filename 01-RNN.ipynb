{
 "cells": [
  {
   "cell_type": "markdown",
   "id": "88716432",
   "metadata": {},
   "source": [
    "# NEURAL MACHINE TRANSLATION - Vanilla RNN"
   ]
  },
  {
   "cell_type": "markdown",
   "id": "5fb4bb18",
   "metadata": {},
   "source": [
    "## Required Module & Config files"
   ]
  },
  {
   "cell_type": "code",
   "execution_count": 1,
   "id": "a89bf9e4-311d-4af8-846b-ccfcb9e940b2",
   "metadata": {
    "ExecuteTime": {
     "end_time": "2024-07-19T15:58:37.896447Z",
     "start_time": "2024-07-19T15:58:35.117048Z"
    }
   },
   "outputs": [
    {
     "name": "stderr",
     "output_type": "stream",
     "text": [
      "Using the latest cached version of the module from /Users/lucien/.cache/huggingface/modules/evaluate_modules/metrics/evaluate-metric--bleu/9e0985c1200e367cce45605ce0ecb5ede079894e0f24f54613fca08eeb8aff76 (last modified on Thu Jul 18 16:29:52 2024) since it couldn't be found locally at evaluate-metric--bleu, or remotely on the Hugging Face Hub.\n"
     ]
    },
    {
     "name": "stdout",
     "output_type": "stream",
     "text": [
      "Using device: mps\n"
     ]
    }
   ],
   "source": [
    "import evaluate\n",
    "import numpy as np\n",
    "from torch.nn import CrossEntropyLoss\n",
    "from torch.optim import NAdam\n",
    "from torchinfo import summary\n",
    "\n",
    "import src.RNN_GRU as rnnNMT\n",
    "from src.Tokenizer import Corpus, LangData, dataLoader\n",
    "from src.Translator import Translator\n",
    "from src.utils import load_config, get_device, train_model, sentence_bleu, corpus_bleu\n",
    "\n",
    "# Loading config file\n",
    "config = load_config()\n",
    "# Get device : GPU/MPS Back-End/CPU\n",
    "device = get_device()\n",
    "print(f\"Using device: {device}\")"
   ]
  },
  {
   "cell_type": "markdown",
   "id": "76325a3f",
   "metadata": {},
   "source": [
    "## Load the dataset"
   ]
  },
  {
   "cell_type": "code",
   "execution_count": 2,
   "id": "083f4d8c",
   "metadata": {
    "ExecuteTime": {
     "end_time": "2024-07-19T15:58:37.916378Z",
     "start_time": "2024-07-19T15:58:37.898134Z"
    }
   },
   "outputs": [],
   "source": [
    "# Encoder-Source\n",
    "english_data = Corpus(f\"{config.TRAIN_DATA}/english.txt\", \"English\")\n",
    "afrikaans_data = Corpus(f\"{config.TRAIN_DATA}/afrikaans.txt\", \"Afrikaans\")"
   ]
  },
  {
   "cell_type": "markdown",
   "id": "0142f911",
   "metadata": {},
   "source": [
    "## Set Hyperparameters"
   ]
  },
  {
   "cell_type": "code",
   "execution_count": 3,
   "id": "d5ff35e0",
   "metadata": {
    "ExecuteTime": {
     "end_time": "2024-07-19T15:58:37.919272Z",
     "start_time": "2024-07-19T15:58:37.917133Z"
    }
   },
   "outputs": [],
   "source": [
    "# Encoder - source\n",
    "IN_ENCODER = english_data.vocab_size\n",
    "ENCODER_EMB = 256\n",
    "\n",
    "# Decoder - target\n",
    "IN_DECODER = afrikaans_data.vocab_size\n",
    "OUT_DECODER = afrikaans_data.vocab_size\n",
    "DECODER_EMB = 256\n",
    "\n",
    "# Shared\n",
    "HIDDEN_SIZE = 1024\n",
    "NUM_LAYERS = 2\n",
    "\n",
    "LR = 1e-3\n",
    "BATCH_SIZE = 128"
   ]
  },
  {
   "cell_type": "markdown",
   "id": "da759f25",
   "metadata": {},
   "source": [
    "## Set the model"
   ]
  },
  {
   "cell_type": "code",
   "execution_count": 4,
   "id": "f04f2d2f",
   "metadata": {
    "ExecuteTime": {
     "end_time": "2024-07-19T15:58:38.010140Z",
     "start_time": "2024-07-19T15:58:37.920747Z"
    }
   },
   "outputs": [
    {
     "data": {
      "text/plain": [
       "=================================================================\n",
       "Layer (type:depth-idx)                   Param #\n",
       "=================================================================\n",
       "RNN_NMT                                  --\n",
       "├─Encoder: 1-1                           --\n",
       "│    └─RNN: 2-1                          3,411,968\n",
       "│    └─Embedding: 2-2                    744,448\n",
       "├─Decoder: 1-2                           --\n",
       "│    └─RNN: 2-3                          3,411,968\n",
       "│    └─Embedding: 2-4                    737,280\n",
       "│    └─Linear: 2-5                       2,952,000\n",
       "=================================================================\n",
       "Total params: 11,257,664\n",
       "Trainable params: 11,257,664\n",
       "Non-trainable params: 0\n",
       "================================================================="
      ]
     },
     "execution_count": 4,
     "metadata": {},
     "output_type": "execute_result"
    }
   ],
   "source": [
    "encoder_net = rnnNMT.Encoder(IN_ENCODER, ENCODER_EMB, HIDDEN_SIZE, NUM_LAYERS).to(device)\n",
    "decoder_net = rnnNMT.Decoder(IN_DECODER, DECODER_EMB, HIDDEN_SIZE, NUM_LAYERS).to(device)\n",
    "model = rnnNMT.RNN_NMT(encoder_net, decoder_net, OUT_DECODER)\n",
    "\n",
    "summary(model)"
   ]
  },
  {
   "cell_type": "code",
   "execution_count": 5,
   "id": "ee757771",
   "metadata": {
    "ExecuteTime": {
     "end_time": "2024-07-19T15:58:38.277338Z",
     "start_time": "2024-07-19T15:58:38.010818Z"
    }
   },
   "outputs": [],
   "source": [
    "train_data = LangData(english_data, afrikaans_data)\n",
    "train_loader = dataLoader(train_data, BATCH_SIZE)\n",
    "\n",
    "pad_idx = afrikaans_data.stoi['<pad>']\n",
    "criterion = CrossEntropyLoss(ignore_index=0)\n",
    "\n",
    "optimizer = NAdam(model.parameters(), LR)\n",
    "translator = Translator(model, english_data, afrikaans_data, device)"
   ]
  },
  {
   "cell_type": "code",
   "execution_count": 6,
   "id": "bcb89b48",
   "metadata": {
    "ExecuteTime": {
     "end_time": "2024-07-19T15:58:38.462917Z",
     "start_time": "2024-07-19T15:58:38.278109Z"
    }
   },
   "outputs": [
    {
     "name": "stdout",
     "output_type": "stream",
     "text": [
      "Pred: <sos> maksimum selfoon moeilikste waai $y[-1]$ verkoue klub verkoue aandagtig ongemaklik laastens gemiddelde mari laat minimaliseer opgehou vurige spesifiek basismodel skrik normalisering teater teikenuittree waarskynlikheid drywingsseine punt werd verstaan beweeg $n=2048$ dwing $x[0],x[1],\\ldots,x[19]$ gevoeg wolfgang honger 96\\ toevoegingsmodel \"\"dankie\"\" is.\" ge\\\"implementeer hiberneer gebruik dir vroulik digtheid petrol gebore. overlap samelewing oorwin hebreeus regverdig belangstelle spele dieselfde toegelaat gisteraand verkeerd. hê egipte nee suster zero-gemiddelde halwe $\\omega=\\frac{\\pi}{3}$ slaptjips opinie geelkoper loop muur mekaar derde niks $8$ b \"lisa koning kleinstekwadraatpassing nuus gebeur \\texttt{artist} bene vinnig stout gebou eeu teruggaan gesoek elkeen drankie vertel tyd-variant gooi bayes plaasgevind hoef straat regverdig gespasie\\\"{e}rde spreekbeurt gespasie\\\"{e}rde gevul huil vergelykings bewyse minimaliseer maklik petrol optree algebra\\\"ies kos bus gaande afrigdatastel raamlengte harder wisselpunt dogters metode daardie gevul byvoeg.\" ongelukkig bevel broer plaasgevind altyd seker samelewing stomgeslaan waardes (bpf) faseweergawes radiks-2 naam radix-2 $b_0,b_1,\\ldotsb_{49}$ gediagnoseer volg boekwurm filter herfs sin $c$ felipe teenoor klip verskaf onderwysers oorspronklike paul effektief m.b.v. vakansiedag prototipe bakleiery gewoonlik slaptjips skree afgeprojekteer covid-19 zoek gemonsterde ip oomblik $0$ geplaas liefhet <cld> klank kode? gedog misdadigers \"ma gesoen\n",
      "Refe: <sos> as ons die teikenuittree voorstel as $y\\in\\{0,1\\}$ en ons $n$ afrigpunte het , dan kan ons die negatiewe log-waarskynlikheidskostefunksie skryf as: <eos>\n",
      "BLEU SCORES: [0.063, 0.033, 0.016, 0.0]\n"
     ]
    }
   ],
   "source": [
    "# Data used for follow-up durring training\n",
    "mytext = \"<sos> given that we represent the target output as $y\\in\\{0,1\\}$ and we have $n$ training points , we can write the negative log likelihood of the parameters as follows: <eos>\"\n",
    "ground = \"<sos> as ons die teikenuittree voorstel as $y\\in\\{0,1\\}$ en ons $n$ afrigpunte het , dan kan ons die negatiewe log-waarskynlikheidskostefunksie skryf as: <eos>\"\n",
    "\n",
    "predicted = translator.translate_sentence(mytext)\n",
    "bleu = sentence_bleu(prediction=[predicted], reference=[ground])\n",
    "print(f\"Pred: {predicted}\")\n",
    "print(f\"Refe: {ground}\")\n",
    "print(f\"BLEU SCORES: {bleu}\")"
   ]
  },
  {
   "cell_type": "markdown",
   "id": "2ed66bc3",
   "metadata": {},
   "source": [
    "## Train the data"
   ]
  },
  {
   "cell_type": "code",
   "execution_count": 7,
   "id": "7b2790009f0b8f40",
   "metadata": {
    "ExecuteTime": {
     "end_time": "2024-07-19T16:01:44.605728Z",
     "start_time": "2024-07-19T15:58:38.463664Z"
    }
   },
   "outputs": [
    {
     "name": "stderr",
     "output_type": "stream",
     "text": [
      "Using the latest cached version of the module from /Users/lucien/.cache/huggingface/modules/evaluate_modules/metrics/evaluate-metric--bleu/9e0985c1200e367cce45605ce0ecb5ede079894e0f24f54613fca08eeb8aff76 (last modified on Thu Jul 18 16:29:52 2024) since it couldn't be found locally at evaluate-metric--bleu, or remotely on the Hugging Face Hub.\n",
      "Epoch 1/50: 100%|██████████| 20/20 [00:03<00:00,  5.07batch/s, loss=1.730]\n"
     ]
    },
    {
     "name": "stdout",
     "output_type": "stream",
     "text": [
      "Predicted: <sos> ek is 'n die volgende van die volgende van die volgende van die volgende van die volgende van die volgende van die volgende van die volgende van die volgende van die volgende van die volgende van die volgende van die volgende van die volgende van die volgende van die volgende van die volgende van die volgende van die volgende van die volgende van die volgende van die volgende van die volgende van die volgende van die volgende van die volgende van die volgende van die volgende van die volgende van die volgende van die volgende van die volgende van die volgende van die volgende van die volgende van die volgende van die volgende van die volgende van die volgende van die volgende van die volgende van die volgende van die volgende van die volgende van die volgende van die volgende van die volgende van die volgende van die volgende van die volgende van die volgende van die volgende van die volgende van die volgende van die volgende van die volgende van die volgende van die\n",
      "BLEU Score: [0.028, 0.018, 0.012, 0.0]\n"
     ]
    },
    {
     "name": "stderr",
     "output_type": "stream",
     "text": [
      "Epoch 2/50: 100%|██████████| 20/20 [00:03<00:00,  5.64batch/s, loss=1.576]\n"
     ]
    },
    {
     "name": "stdout",
     "output_type": "stream",
     "text": [
      "Predicted: <sos> ek is nie <eos>\n",
      "BLEU Score: [0.024, 0.021, 0.016, 0.0]\n"
     ]
    },
    {
     "name": "stderr",
     "output_type": "stream",
     "text": [
      "Epoch 3/50: 100%|██████████| 20/20 [00:03<00:00,  5.57batch/s, loss=1.444]\n"
     ]
    },
    {
     "name": "stdout",
     "output_type": "stream",
     "text": [
      "Predicted: <sos> ek het nie <eos>\n",
      "BLEU Score: [0.028, 0.022, 0.017, 0.0]\n"
     ]
    },
    {
     "name": "stderr",
     "output_type": "stream",
     "text": [
      "Epoch 4/50: 100%|██████████| 20/20 [00:03<00:00,  5.72batch/s, loss=1.310]\n"
     ]
    },
    {
     "name": "stdout",
     "output_type": "stream",
     "text": [
      "Predicted: <sos> ons is 'n slim <eos>\n",
      "BLEU Score: [0.039, 0.031, 0.023, 0.0]\n"
     ]
    },
    {
     "name": "stderr",
     "output_type": "stream",
     "text": [
      "Epoch 5/50: 100%|██████████| 20/20 [00:03<00:00,  5.63batch/s, loss=1.208]\n"
     ]
    },
    {
     "name": "stdout",
     "output_type": "stream",
     "text": [
      "Predicted: <sos> ek het geen van hulle vergeet <eos>\n",
      "BLEU Score: [0.061, 0.049, 0.037, 0.0]\n"
     ]
    },
    {
     "name": "stderr",
     "output_type": "stream",
     "text": [
      "Epoch 6/50: 100%|██████████| 20/20 [00:03<00:00,  5.63batch/s, loss=1.116]\n"
     ]
    },
    {
     "name": "stdout",
     "output_type": "stream",
     "text": [
      "Predicted: <sos> ek het my gewig geraai <eos>\n",
      "BLEU Score: [0.05, 0.04, 0.03, 0.0]\n"
     ]
    },
    {
     "name": "stderr",
     "output_type": "stream",
     "text": [
      "Epoch 7/50: 100%|██████████| 20/20 [00:03<00:00,  5.74batch/s, loss=1.008]\n"
     ]
    },
    {
     "name": "stdout",
     "output_type": "stream",
     "text": [
      "Predicted: <sos> ek het vir jou gewag <eos>\n",
      "BLEU Score: [0.05, 0.04, 0.03, 0.0]\n"
     ]
    },
    {
     "name": "stderr",
     "output_type": "stream",
     "text": [
      "Epoch 8/50: 100%|██████████| 20/20 [00:03<00:00,  5.85batch/s, loss=0.919]\n"
     ]
    },
    {
     "name": "stdout",
     "output_type": "stream",
     "text": [
      "Predicted: <sos> ek dog dit mag dalk beduidend wees <eos>\n",
      "BLEU Score: [0.062, 0.053, 0.041, 0.0]\n"
     ]
    },
    {
     "name": "stderr",
     "output_type": "stream",
     "text": [
      "Epoch 9/50: 100%|██████████| 20/20 [00:03<00:00,  5.55batch/s, loss=0.908]\n"
     ]
    },
    {
     "name": "stdout",
     "output_type": "stream",
     "text": [
      "Predicted: <sos> ek het gedink jy gee vir haar om <eos>\n",
      "BLEU Score: [0.084, 0.066, 0.049, 0.0]\n"
     ]
    },
    {
     "name": "stderr",
     "output_type": "stream",
     "text": [
      "Epoch 10/50: 100%|██████████| 20/20 [00:03<00:00,  5.54batch/s, loss=0.837]\n"
     ]
    },
    {
     "name": "stdout",
     "output_type": "stream",
     "text": [
      "Predicted: <sos> ek het niks om te sê nie <eos>\n",
      "BLEU Score: [0.073, 0.057, 0.043, 0.0]\n"
     ]
    },
    {
     "name": "stderr",
     "output_type": "stream",
     "text": [
      "Epoch 11/50: 100%|██████████| 20/20 [00:03<00:00,  5.76batch/s, loss=0.739]\n"
     ]
    },
    {
     "name": "stdout",
     "output_type": "stream",
     "text": [
      "Predicted: <sos> ek het 'n tyd vir julle nie <eos>\n",
      "BLEU Score: [0.073, 0.057, 0.043, 0.0]\n"
     ]
    },
    {
     "name": "stderr",
     "output_type": "stream",
     "text": [
      "Epoch 12/50: 100%|██████████| 20/20 [00:03<00:00,  6.02batch/s, loss=0.700]\n"
     ]
    },
    {
     "name": "stdout",
     "output_type": "stream",
     "text": [
      "Predicted: <sos> ek wil nie eet nie <eos>\n",
      "BLEU Score: [0.043, 0.037, 0.029, 0.0]\n"
     ]
    },
    {
     "name": "stderr",
     "output_type": "stream",
     "text": [
      "Epoch 13/50: 100%|██████████| 20/20 [00:03<00:00,  5.74batch/s, loss=0.667]\n"
     ]
    },
    {
     "name": "stdout",
     "output_type": "stream",
     "text": [
      "Predicted: <sos> ek het my seun die aandete laat voorberei <eos>\n",
      "BLEU Score: [0.096, 0.07, 0.052, 0.0]\n"
     ]
    },
    {
     "name": "stderr",
     "output_type": "stream",
     "text": [
      "Epoch 14/50: 100%|██████████| 20/20 [00:03<00:00,  5.52batch/s, loss=0.653]\n"
     ]
    },
    {
     "name": "stdout",
     "output_type": "stream",
     "text": [
      "Predicted: <sos> ek het nie so seker wees daaroor nie <eos>\n",
      "BLEU Score: [0.084, 0.066, 0.049, 0.0]\n"
     ]
    },
    {
     "name": "stderr",
     "output_type": "stream",
     "text": [
      "Epoch 15/50: 100%|██████████| 20/20 [00:03<00:00,  5.67batch/s, loss=0.680]\n"
     ]
    },
    {
     "name": "stdout",
     "output_type": "stream",
     "text": [
      "Predicted: <sos> ek is dit nodig om dit aan te toon in die afleiding van die kleinstekwadraat beramings van $w_0$ en $w_1$ <eos>\n",
      "BLEU Score: [0.355, 0.216, 0.136, 0.0]\n"
     ]
    },
    {
     "name": "stderr",
     "output_type": "stream",
     "text": [
      "Epoch 16/50: 100%|██████████| 20/20 [00:03<00:00,  5.71batch/s, loss=0.598]\n"
     ]
    },
    {
     "name": "stdout",
     "output_type": "stream",
     "text": [
      "Predicted: <sos> ek is 'n winkelier <eos>\n",
      "BLEU Score: [0.033, 0.028, 0.022, 0.0]\n"
     ]
    },
    {
     "name": "stderr",
     "output_type": "stream",
     "text": [
      "Epoch 17/50: 100%|██████████| 20/20 [00:03<00:00,  5.60batch/s, loss=0.668]\n"
     ]
    },
    {
     "name": "stdout",
     "output_type": "stream",
     "text": [
      "Predicted: <sos> tom het nie my ribbes gekraak toe hy my gedruk het <eos>\n",
      "BLEU Score: [0.113, 0.088, 0.066, 0.0]\n"
     ]
    },
    {
     "name": "stderr",
     "output_type": "stream",
     "text": [
      "Epoch 18/50: 100%|██████████| 20/20 [00:03<00:00,  5.57batch/s, loss=0.611]\n"
     ]
    },
    {
     "name": "stdout",
     "output_type": "stream",
     "text": [
      "Predicted: <sos> waar is jou bagasie <eos>\n",
      "BLEU Score: [0.033, 0.028, 0.022, 0.0]\n"
     ]
    },
    {
     "name": "stderr",
     "output_type": "stream",
     "text": [
      "Epoch 19/50: 100%|██████████| 20/20 [00:03<00:00,  5.52batch/s, loss=0.631]\n"
     ]
    },
    {
     "name": "stdout",
     "output_type": "stream",
     "text": [
      "Predicted: <sos> tom het heeldag gehuil <eos>\n",
      "BLEU Score: [0.039, 0.031, 0.023, 0.0]\n"
     ]
    },
    {
     "name": "stderr",
     "output_type": "stream",
     "text": [
      "Epoch 20/50: 100%|██████████| 20/20 [00:03<00:00,  5.57batch/s, loss=0.630]\n"
     ]
    },
    {
     "name": "stdout",
     "output_type": "stream",
     "text": [
      "Predicted: <sos> die sein $x(t)$ bestaan uit 'n sinusgolf met 'n onmiddelike frekwensie wat line\\^er verander van $0$ hz to $20$ khz binne 2 sekondes , en dan weer terugdaal na 0 hz in die volgende 2 sekondes <eos>\n",
      "BLEU Score: [0.315, 0.154, 0.097, 0.0]\n"
     ]
    },
    {
     "name": "stderr",
     "output_type": "stream",
     "text": [
      "Epoch 21/50: 100%|██████████| 20/20 [00:03<00:00,  5.69batch/s, loss=0.599]\n"
     ]
    },
    {
     "name": "stdout",
     "output_type": "stream",
     "text": [
      "Predicted: <sos> die sein sein $x[n]$ met hierdie z-transform <eos>\n",
      "BLEU Score: [0.173, 0.113, 0.079, 0.0]\n"
     ]
    },
    {
     "name": "stderr",
     "output_type": "stream",
     "text": [
      "Epoch 22/50: 100%|██████████| 20/20 [00:03<00:00,  5.52batch/s, loss=0.561]\n"
     ]
    },
    {
     "name": "stdout",
     "output_type": "stream",
     "text": [
      "Predicted: <sos> bepaal en skets die impulsweergawe $h[n]$ <eos>\n",
      "BLEU Score: [0.177, 0.11, 0.076, 0.0]\n"
     ]
    },
    {
     "name": "stderr",
     "output_type": "stream",
     "text": [
      "Epoch 23/50: 100%|██████████| 20/20 [00:03<00:00,  5.67batch/s, loss=0.586]\n"
     ]
    },
    {
     "name": "stdout",
     "output_type": "stream",
     "text": [
      "Predicted: <sos> die diskrete sein word dan opgemonster met 'n faktor $l_1$ , gefilter deur 'n laagdeurlaatfilter (lpf) met 'n afsnyfrekwensie van $\\frac{1}{2\\cdotl_2}$ siklusse/monster , met 'n faktor $l_2$ afgemonster en laastens na die kontinue-tyd omgeskakel met 'n syfer-na-analoog omsetter (dac) wat in spar se klankstelsel invoer <eos>\n",
      "BLEU Score: [0.256, 0.129, 0.076, 0.0]\n"
     ]
    },
    {
     "name": "stderr",
     "output_type": "stream",
     "text": [
      "Epoch 24/50: 100%|██████████| 20/20 [00:03<00:00,  5.58batch/s, loss=0.550]\n"
     ]
    },
    {
     "name": "stdout",
     "output_type": "stream",
     "text": [
      "Predicted: <sos> die gaussiese na\\\"{i}ewe bayes-klassifiseerder modelleer elke klas met 'n diagonaalkovariansiese gaussiese digtheid , m.a.w. ons aanvaar elke kenmerk is onafhanklik en modelleer die kenmerk met 'n klasspesifieke enkelveranderlike gaussiese digtheid <eos>\n",
      "BLEU Score: [0.298, 0.161, 0.105, 0.0]\n"
     ]
    },
    {
     "name": "stderr",
     "output_type": "stream",
     "text": [
      "Epoch 25/50: 100%|██████████| 20/20 [00:03<00:00,  5.98batch/s, loss=0.549]\n"
     ]
    },
    {
     "name": "stdout",
     "output_type": "stream",
     "text": [
      "Predicted: <sos> vir elke produk het ons aangeteken of dit 'n sukses of mislukking was , die prys van die produk , die bemarkingsbegroting , die kompetisieprys , en tien ander veranderlikes <eos>\n",
      "BLEU Score: [0.307, 0.18, 0.12, 0.0]\n"
     ]
    },
    {
     "name": "stderr",
     "output_type": "stream",
     "text": [
      "Epoch 26/50: 100%|██████████| 20/20 [00:03<00:00,  5.63batch/s, loss=0.524]\n"
     ]
    },
    {
     "name": "stdout",
     "output_type": "stream",
     "text": [
      "Predicted: <sos> vir elke maatskappy teken ons die wins , aantal werknemers , bedryf en die uitvoerende hoof se salaris aan <eos>\n",
      "BLEU Score: [0.251, 0.173, 0.114, 0.0]\n"
     ]
    },
    {
     "name": "stderr",
     "output_type": "stream",
     "text": [
      "Epoch 27/50: 100%|██████████| 20/20 [00:03<00:00,  5.82batch/s, loss=0.576]\n"
     ]
    },
    {
     "name": "stdout",
     "output_type": "stream",
     "text": [
      "Predicted: <sos> daarna word die sein met 'n faktor 2 opgemonster (upsample) , gefilter deur 'n banddeurlaatfilter (bpf) met 'n deurlaatband tussen $0.25$ en $0.35$ siklusse/monster , met 'n faktor 3 afgemonster (downsample) , en laastens weer na die kontinue-tyd omgeskakel met 'n syfer-na-analoog omsetter (dac) gevolg deur 'n laagdeurlaatfilter (lpf) met 'n afnyfrekwensie van 2 khz <eos>\n",
      "BLEU Score: [0.182, 0.109, 0.068, 0.0]\n"
     ]
    },
    {
     "name": "stderr",
     "output_type": "stream",
     "text": [
      "Epoch 28/50: 100%|██████████| 20/20 [00:03<00:00,  5.63batch/s, loss=0.555]\n"
     ]
    },
    {
     "name": "stdout",
     "output_type": "stream",
     "text": [
      "Predicted: <sos> ek het 'n kat en 'n hond. die kat is swart en die hond is wit <eos>\n",
      "BLEU Score: [0.217, 0.14, 0.098, 0.0]\n"
     ]
    },
    {
     "name": "stderr",
     "output_type": "stream",
     "text": [
      "Epoch 29/50: 100%|██████████| 20/20 [00:03<00:00,  5.65batch/s, loss=0.579]\n"
     ]
    },
    {
     "name": "stdout",
     "output_type": "stream",
     "text": [
      "Predicted: <sos> ek het 'n kat en 'n hond. die kat is swart en die hond is wit <eos>\n",
      "BLEU Score: [0.217, 0.14, 0.098, 0.0]\n"
     ]
    },
    {
     "name": "stderr",
     "output_type": "stream",
     "text": [
      "Epoch 30/50: 100%|██████████| 20/20 [00:03<00:00,  5.54batch/s, loss=0.552]\n"
     ]
    },
    {
     "name": "stdout",
     "output_type": "stream",
     "text": [
      "Predicted: <sos> ek is nou baie moeg <eos>\n",
      "BLEU Score: [0.043, 0.037, 0.029, 0.0]\n"
     ]
    },
    {
     "name": "stderr",
     "output_type": "stream",
     "text": [
      "Epoch 31/50: 100%|██████████| 20/20 [00:03<00:00,  5.80batch/s, loss=0.541]\n"
     ]
    },
    {
     "name": "stdout",
     "output_type": "stream",
     "text": [
      "Predicted: <sos> ek het 'n ou kar <eos>\n",
      "BLEU Score: [0.05, 0.04, 0.03, 0.0]\n"
     ]
    },
    {
     "name": "stderr",
     "output_type": "stream",
     "text": [
      "Epoch 32/50: 100%|██████████| 20/20 [00:03<00:00,  5.81batch/s, loss=0.535]\n"
     ]
    },
    {
     "name": "stdout",
     "output_type": "stream",
     "text": [
      "Predicted: <sos> jy is te laat <eos>\n",
      "BLEU Score: [0.033, 0.028, 0.022, 0.0]\n"
     ]
    },
    {
     "name": "stderr",
     "output_type": "stream",
     "text": [
      "Epoch 33/50: 100%|██████████| 20/20 [00:03<00:00,  5.58batch/s, loss=0.540]\n"
     ]
    },
    {
     "name": "stdout",
     "output_type": "stream",
     "text": [
      "Predicted: <sos> die stedelike bevolking in die meeste ontwikkelende lande neem baie vinnig toe <eos>\n",
      "BLEU Score: [0.156, 0.107, 0.076, 0.0]\n"
     ]
    },
    {
     "name": "stderr",
     "output_type": "stream",
     "text": [
      "Epoch 34/50: 100%|██████████| 20/20 [00:03<00:00,  5.72batch/s, loss=0.539]\n"
     ]
    },
    {
     "name": "stdout",
     "output_type": "stream",
     "text": [
      "Predicted: <sos> ek sal jou sê wanneer ek terug is <eos>\n",
      "BLEU Score: [0.072, 0.061, 0.047, 0.0]\n"
     ]
    },
    {
     "name": "stderr",
     "output_type": "stream",
     "text": [
      "Epoch 35/50: 100%|██████████| 20/20 [00:03<00:00,  5.63batch/s, loss=0.588]\n"
     ]
    },
    {
     "name": "stdout",
     "output_type": "stream",
     "text": [
      "Predicted: <sos> ek het 'n hond <eos>\n",
      "BLEU Score: [0.039, 0.031, 0.023, 0.0]\n"
     ]
    },
    {
     "name": "stderr",
     "output_type": "stream",
     "text": [
      "Epoch 36/50: 100%|██████████| 20/20 [00:03<00:00,  5.70batch/s, loss=0.564]\n"
     ]
    },
    {
     "name": "stdout",
     "output_type": "stream",
     "text": [
      "Predicted: <sos> tom het luise <eos>\n",
      "BLEU Score: [0.028, 0.022, 0.017, 0.0]\n"
     ]
    },
    {
     "name": "stderr",
     "output_type": "stream",
     "text": [
      "Epoch 37/50: 100%|██████████| 20/20 [00:03<00:00,  5.75batch/s, loss=0.549]\n"
     ]
    },
    {
     "name": "stdout",
     "output_type": "stream",
     "text": [
      "Predicted: <sos> tom het skoon van hulle vergeet <eos>\n",
      "BLEU Score: [0.061, 0.049, 0.037, 0.0]\n"
     ]
    },
    {
     "name": "stderr",
     "output_type": "stream",
     "text": [
      "Epoch 38/50: 100%|██████████| 20/20 [00:03<00:00,  5.65batch/s, loss=0.550]\n"
     ]
    },
    {
     "name": "stdout",
     "output_type": "stream",
     "text": [
      "Predicted: <sos> ons het alreeds te lank gewag <eos>\n",
      "BLEU Score: [0.07, 0.052, 0.038, 0.0]\n"
     ]
    },
    {
     "name": "stderr",
     "output_type": "stream",
     "text": [
      "Epoch 39/50: 100%|██████████| 20/20 [00:03<00:00,  5.70batch/s, loss=0.567]\n"
     ]
    },
    {
     "name": "stdout",
     "output_type": "stream",
     "text": [
      "Predicted: <sos> die volgende twee toon die skoenlapper-berekeninge van 'n $4$ -punt desimasie-in-frekwensie fft , met $x[n]$ as intree tyd-domein sein en $x[k]$ die uitree frekwensie-ruimte sein <eos>\n",
      "BLEU Score: [0.372, 0.188, 0.12, 0.0]\n"
     ]
    },
    {
     "name": "stderr",
     "output_type": "stream",
     "text": [
      "Epoch 40/50: 100%|██████████| 20/20 [00:03<00:00,  5.44batch/s, loss=0.572]\n"
     ]
    },
    {
     "name": "stdout",
     "output_type": "stream",
     "text": [
      "Predicted: <sos> die diskrete sein word dan opgemonster met 'n faktor $l_1$ , gefilter deur 'n laagdeurlaatfilter (lpf) met 'n afsnyfrekwensie van $\\frac{1}{2\\cdotl_2}$ siklusse/monster , met 'n faktor $l_2$ afgemonster en laastens na die kontinue-tyd omgeskakel met 'n syfer-na-analoog omsetter (dac) wat in spar se klankstelsel invoer <eos>\n",
      "BLEU Score: [0.256, 0.129, 0.076, 0.0]\n"
     ]
    },
    {
     "name": "stderr",
     "output_type": "stream",
     "text": [
      "Epoch 41/50: 100%|██████████| 20/20 [00:03<00:00,  5.66batch/s, loss=0.565]\n"
     ]
    },
    {
     "name": "stdout",
     "output_type": "stream",
     "text": [
      "Predicted: <sos> die diskrete sein word dan opgemonster met 'n faktor $l_1$ , gefilter deur 'n laagdeurlaatfilter (lpf) met 'n afsnyfrekwensie van $\\frac{1}{2\\cdotl_2}$ siklusse/monster , met 'n faktor $l_2$ afgemonster en laastens na die kontinue-tyd omgeskakel met 'n syfer-na-analoog omsetter (dac) wat in spar se klankstelsel invoer <eos>\n",
      "BLEU Score: [0.256, 0.129, 0.076, 0.0]\n"
     ]
    },
    {
     "name": "stderr",
     "output_type": "stream",
     "text": [
      "Epoch 42/50: 100%|██████████| 20/20 [00:03<00:00,  5.62batch/s, loss=0.605]\n"
     ]
    },
    {
     "name": "stdout",
     "output_type": "stream",
     "text": [
      "Predicted: <sos> die volgende bevolking in die meeste ontwikkelende lande neem baie vinnig toe <eos>\n",
      "BLEU Score: [0.156, 0.107, 0.076, 0.0]\n"
     ]
    },
    {
     "name": "stderr",
     "output_type": "stream",
     "text": [
      "Epoch 43/50: 100%|██████████| 20/20 [00:03<00:00,  5.64batch/s, loss=0.534]\n"
     ]
    },
    {
     "name": "stdout",
     "output_type": "stream",
     "text": [
      "Predicted: <sos> sy steek iets vir my weg <eos>\n",
      "BLEU Score: [0.053, 0.045, 0.035, 0.0]\n"
     ]
    },
    {
     "name": "stderr",
     "output_type": "stream",
     "text": [
      "Epoch 44/50: 100%|██████████| 20/20 [00:03<00:00,  5.53batch/s, loss=0.608]\n"
     ]
    },
    {
     "name": "stdout",
     "output_type": "stream",
     "text": [
      "Predicted: <sos> die sein $x(t)$ bestaan uit 'n sinusgolf met 'n onmiddelike frekwensie wat line\\^er verander van $0$ hz to $20$ khz binne 2 sekondes , en dan weer terugdaal na 0 hz in die volgende 2 sekondes <eos>\n",
      "BLEU Score: [0.315, 0.154, 0.097, 0.0]\n"
     ]
    },
    {
     "name": "stderr",
     "output_type": "stream",
     "text": [
      "Epoch 45/50: 100%|██████████| 20/20 [00:03<00:00,  5.86batch/s, loss=0.521]\n"
     ]
    },
    {
     "name": "stdout",
     "output_type": "stream",
     "text": [
      "Predicted: <sos> daarna word die sein met 'n faktor 2 opgemonster (upsample) , gefilter deur 'n banddeurlaatfilter (bpf) met 'n deurlaatband tussen $0.25$ en $0.35$ siklusse/monster , met 'n faktor 3 afgemonster (downsample) , en laastens weer na die kontinue-tyd omgeskakel met 'n syfer-na-analoog omsetter (dac) gevolg deur 'n laagdeurlaatfilter (lpf) met 'n afnyfrekwensie van 2 khz <eos>\n",
      "BLEU Score: [0.182, 0.109, 0.068, 0.0]\n"
     ]
    },
    {
     "name": "stderr",
     "output_type": "stream",
     "text": [
      "Epoch 46/50: 100%|██████████| 20/20 [00:03<00:00,  5.57batch/s, loss=0.593]\n"
     ]
    },
    {
     "name": "stdout",
     "output_type": "stream",
     "text": [
      "Predicted: <sos> die diskrete sein word dan opgemonster met 'n faktor $l_1$ , gefilter deur 'n laagdeurlaatfilter (lpf) met 'n afsnyfrekwensie van $\\frac{1}{2\\cdotl_2}$ siklusse/monster , met 'n faktor $l_2$ afgemonster en laastens na die kontinue-tyd omgeskakel met 'n syfer-na-analoog omsetter (dac) wat in spar se klankstelsel invoer <eos>\n",
      "BLEU Score: [0.256, 0.129, 0.076, 0.0]\n"
     ]
    },
    {
     "name": "stderr",
     "output_type": "stream",
     "text": [
      "Epoch 47/50: 100%|██████████| 20/20 [00:03<00:00,  5.62batch/s, loss=0.573]\n"
     ]
    },
    {
     "name": "stdout",
     "output_type": "stream",
     "text": [
      "Predicted: <sos> veronderstel ons het 'n datastel met vyf kenmerke , $x_1$ = matriek gemiddeld , $x_2$ = ik toetspunt , $x_3$ = geslag (1 vir vroulik en 0 vir manlik) , $x_4=x_1\\cdotx_2$ , en $x_5=x_1\\cdotx_3$ <eos>\n",
      "BLEU Score: [0.205, 0.103, 0.065, 0.0]\n"
     ]
    },
    {
     "name": "stderr",
     "output_type": "stream",
     "text": [
      "Epoch 48/50: 100%|██████████| 20/20 [00:03<00:00,  5.59batch/s, loss=0.541]\n"
     ]
    },
    {
     "name": "stdout",
     "output_type": "stream",
     "text": [
      "Predicted: <sos> die sein $x(t)$ word geanaliseer deur 'n spektrogram te gebruik met die doel om die onmiddelike frekwensie elke 2 ms te bepaal , met 'n frekwensieresolusie van 200 hz en volle hooflob skeiding <eos>\n",
      "BLEU Score: [0.273, 0.159, 0.107, 0.0]\n"
     ]
    },
    {
     "name": "stderr",
     "output_type": "stream",
     "text": [
      "Epoch 49/50: 100%|██████████| 20/20 [00:03<00:00,  5.58batch/s, loss=0.556]\n"
     ]
    },
    {
     "name": "stdout",
     "output_type": "stream",
     "text": [
      "Predicted: <sos> vir 'n vaste waarde van ik en matriek gemiddeld , verdien mans meer as vrouens in die gemiddeld <eos>\n",
      "BLEU Score: [0.245, 0.151, 0.104, 0.0]\n"
     ]
    },
    {
     "name": "stderr",
     "output_type": "stream",
     "text": [
      "Epoch 50/50: 100%|██████████| 20/20 [00:03<00:00,  5.52batch/s, loss=0.575]"
     ]
    },
    {
     "name": "stdout",
     "output_type": "stream",
     "text": [
      "Predicted: <sos> as ons die data hier bo op hierdie manier verwerk , sal dit nie beteken dat vir elk van die drie klasse al die data rondom die oorsprong sal l\\^{e} met eenheidsvariansie nie <eos>\n",
      "BLEU Score: [0.318, 0.228, 0.183, 0.146]\n"
     ]
    },
    {
     "name": "stderr",
     "output_type": "stream",
     "text": [
      "\n"
     ]
    }
   ],
   "source": [
    "EPOCHS = 50\n",
    "params = {\n",
    "    \"model\": model,\n",
    "    \"train_loader\": train_loader,\n",
    "    \"optimizer\": optimizer,\n",
    "    \"criterion\": criterion,\n",
    "    \"device\": device,\n",
    "    \"epochs\": EPOCHS,\n",
    "    \"source_test\": mytext,\n",
    "    \"reference\": ground,\n",
    "    \"translator\": translator\n",
    "}\n",
    "\n",
    "train_loss = train_model(**params)\n",
    "np.save('rnn_train_loss.npy', np.array(train_loss))"
   ]
  },
  {
   "cell_type": "markdown",
   "id": "f4bfc9b5",
   "metadata": {},
   "source": [
    "## Evauate on the Training set"
   ]
  },
  {
   "cell_type": "code",
   "execution_count": 8,
   "id": "798fe0ad",
   "metadata": {
    "ExecuteTime": {
     "end_time": "2024-07-19T16:02:50.171713Z",
     "start_time": "2024-07-19T16:01:44.606723Z"
    }
   },
   "outputs": [
    {
     "name": "stderr",
     "output_type": "stream",
     "text": [
      "Using the latest cached version of the module from /Users/lucien/.cache/huggingface/modules/evaluate_modules/metrics/evaluate-metric--bleu/9e0985c1200e367cce45605ce0ecb5ede079894e0f24f54613fca08eeb8aff76 (last modified on Thu Jul 18 16:29:52 2024) since it couldn't be found locally at evaluate-metric--bleu, or remotely on the Hugging Face Hub.\n"
     ]
    },
    {
     "name": "stdout",
     "output_type": "stream",
     "text": [
      "                                     BLEU-1                                     \n",
      "------------------------------------------------------------------------------------------\n",
      "bleu                : 0.16426953733933353\n",
      "precisions          : [0.1642695373393335]\n",
      "brevity_penalty     : 1.0\n",
      "length_ratio        : 2.762798634812287\n",
      "translation_length  : 101997\n",
      "reference_length    : 36918\n",
      "******************************************************************************************\n",
      "                                     BLEU-2                                     \n",
      "------------------------------------------------------------------------------------------\n",
      "bleu                : 0.12267072962141941\n",
      "precisions          : [0.1642695373393335, 0.09160619887037447]\n",
      "brevity_penalty     : 1.0\n",
      "length_ratio        : 2.762798634812287\n",
      "translation_length  : 101997\n",
      "reference_length    : 36918\n",
      "******************************************************************************************\n",
      "                                     BLEU-3                                     \n",
      "------------------------------------------------------------------------------------------\n",
      "bleu                : 0.08979225421330013\n",
      "precisions          : [0.1642695373393335, 0.09160619887037447, 0.04810993021122187]\n",
      "brevity_penalty     : 1.0\n",
      "length_ratio        : 2.762798634812287\n",
      "translation_length  : 101997\n",
      "reference_length    : 36918\n",
      "******************************************************************************************\n",
      "                                     BLEU-4                                     \n",
      "------------------------------------------------------------------------------------------\n",
      "bleu                : 0.04146715534577346\n",
      "precisions          : [0.1642695373393335, 0.09160619887037447, 0.04810993021122187, 0.004084137464025733]\n",
      "brevity_penalty     : 1.0\n",
      "length_ratio        : 2.762798634812287\n",
      "translation_length  : 101997\n",
      "reference_length    : 36918\n",
      "******************************************************************************************\n"
     ]
    }
   ],
   "source": [
    "EN_SRC = [' '.join(sent) for sent in english_data.data_str]\n",
    "AF_REF = [[' '.join(sent)] for sent in afrikaans_data.data_str]\n",
    "TRANSLATED = [translator.translate_sentence(sent) for sent in EN_SRC]\n",
    "corpus_bleu(TRANSLATED, AF_REF)"
   ]
  },
  {
   "cell_type": "markdown",
   "id": "d2cc6ed3",
   "metadata": {},
   "source": [
    "## Evaluate on the Test set"
   ]
  },
  {
   "cell_type": "code",
   "execution_count": 9,
   "id": "7bccda3561c7cc9",
   "metadata": {
    "ExecuteTime": {
     "end_time": "2024-07-19T16:02:50.175725Z",
     "start_time": "2024-07-19T16:02:50.172603Z"
    }
   },
   "outputs": [],
   "source": [
    "with open(f\"{config.VAL_DATA}/english.txt\") as data:\n",
    "    english_val = data.read().strip().split(\"\\n\")\n",
    "with open(f\"{config.VAL_DATA}/afrikaans.txt\") as data:\n",
    "    afrikaans_val = data.read().strip().split(\"\\n\")"
   ]
  },
  {
   "cell_type": "markdown",
   "id": "de0ea7b89f9add91",
   "metadata": {},
   "source": [
    "### Greedy Search"
   ]
  },
  {
   "cell_type": "code",
   "execution_count": 10,
   "id": "61b64fb6",
   "metadata": {
    "ExecuteTime": {
     "end_time": "2024-07-19T16:03:18.709958Z",
     "start_time": "2024-07-19T16:02:50.177783Z"
    }
   },
   "outputs": [
    {
     "name": "stderr",
     "output_type": "stream",
     "text": [
      "Using the latest cached version of the module from /Users/lucien/.cache/huggingface/modules/evaluate_modules/metrics/evaluate-metric--bleu/9e0985c1200e367cce45605ce0ecb5ede079894e0f24f54613fca08eeb8aff76 (last modified on Thu Jul 18 16:29:52 2024) since it couldn't be found locally at evaluate-metric--bleu, or remotely on the Hugging Face Hub.\n"
     ]
    },
    {
     "name": "stdout",
     "output_type": "stream",
     "text": [
      "                                     BLEU-1                                     \n",
      "------------------------------------------------------------------------------------------\n",
      "bleu                : 0.1588040795417501\n",
      "precisions          : [0.1588040795417501]\n",
      "brevity_penalty     : 1.0\n",
      "length_ratio        : 2.941103958361868\n",
      "translation_length  : 42946\n",
      "reference_length    : 14602\n",
      "******************************************************************************************\n",
      "                                     BLEU-2                                     \n",
      "------------------------------------------------------------------------------------------\n",
      "bleu                : 0.11942361867713319\n",
      "precisions          : [0.1588040795417501, 0.08980878034806274]\n",
      "brevity_penalty     : 1.0\n",
      "length_ratio        : 2.941103958361868\n",
      "translation_length  : 42946\n",
      "reference_length    : 14602\n",
      "******************************************************************************************\n",
      "                                     BLEU-3                                     \n",
      "------------------------------------------------------------------------------------------\n",
      "bleu                : 0.0872410008314888\n",
      "precisions          : [0.1588040795417501, 0.08980878034806274, 0.046556622257053294]\n",
      "brevity_penalty     : 1.0\n",
      "length_ratio        : 2.941103958361868\n",
      "translation_length  : 42946\n",
      "reference_length    : 14602\n",
      "******************************************************************************************\n",
      "                                     BLEU-4                                     \n",
      "------------------------------------------------------------------------------------------\n",
      "bleu                : 0.03689509874349944\n",
      "precisions          : [0.1588040795417501, 0.08980878034806274, 0.046556622257053294, 0.0027906976744186047]\n",
      "brevity_penalty     : 1.0\n",
      "length_ratio        : 2.941103958361868\n",
      "translation_length  : 42946\n",
      "reference_length    : 14602\n",
      "******************************************************************************************\n"
     ]
    }
   ],
   "source": [
    "VAL_AF_REF = [[sent] for sent in afrikaans_val]\n",
    "VAL_TRANSLATED = [translator.translate_sentence(sent) for sent in english_val]\n",
    "\n",
    "corpus_bleu(VAL_TRANSLATED, VAL_AF_REF)"
   ]
  },
  {
   "cell_type": "markdown",
   "id": "27701d9e8ea38687",
   "metadata": {},
   "source": [
    "### Beam search"
   ]
  },
  {
   "cell_type": "code",
   "execution_count": 11,
   "id": "e69185237c45264d",
   "metadata": {
    "ExecuteTime": {
     "end_time": "2024-07-19T16:07:32.120319Z",
     "start_time": "2024-07-19T16:03:18.710594Z"
    }
   },
   "outputs": [
    {
     "name": "stderr",
     "output_type": "stream",
     "text": [
      "Using the latest cached version of the module from /Users/lucien/.cache/huggingface/modules/evaluate_modules/metrics/evaluate-metric--bleu/9e0985c1200e367cce45605ce0ecb5ede079894e0f24f54613fca08eeb8aff76 (last modified on Thu Jul 18 16:29:52 2024) since it couldn't be found locally at evaluate-metric--bleu, or remotely on the Hugging Face Hub.\n"
     ]
    },
    {
     "name": "stdout",
     "output_type": "stream",
     "text": [
      "                                     BLEU-1                                     \n",
      "------------------------------------------------------------------------------------------\n",
      "bleu                : 0.1588040795417501\n",
      "precisions          : [0.1588040795417501]\n",
      "brevity_penalty     : 1.0\n",
      "length_ratio        : 2.941103958361868\n",
      "translation_length  : 42946\n",
      "reference_length    : 14602\n",
      "******************************************************************************************\n",
      "                                     BLEU-2                                     \n",
      "------------------------------------------------------------------------------------------\n",
      "bleu                : 0.11942361867713319\n",
      "precisions          : [0.1588040795417501, 0.08980878034806274]\n",
      "brevity_penalty     : 1.0\n",
      "length_ratio        : 2.941103958361868\n",
      "translation_length  : 42946\n",
      "reference_length    : 14602\n",
      "******************************************************************************************\n",
      "                                     BLEU-3                                     \n",
      "------------------------------------------------------------------------------------------\n",
      "bleu                : 0.0872410008314888\n",
      "precisions          : [0.1588040795417501, 0.08980878034806274, 0.046556622257053294]\n",
      "brevity_penalty     : 1.0\n",
      "length_ratio        : 2.941103958361868\n",
      "translation_length  : 42946\n",
      "reference_length    : 14602\n",
      "******************************************************************************************\n",
      "                                     BLEU-4                                     \n",
      "------------------------------------------------------------------------------------------\n",
      "bleu                : 0.03689509874349944\n",
      "precisions          : [0.1588040795417501, 0.08980878034806274, 0.046556622257053294, 0.0027906976744186047]\n",
      "brevity_penalty     : 1.0\n",
      "length_ratio        : 2.941103958361868\n",
      "translation_length  : 42946\n",
      "reference_length    : 14602\n",
      "******************************************************************************************\n"
     ]
    }
   ],
   "source": [
    "VAL_TRANSLATED = [translator.translate_sentence(sent, method=\"beam\", beam_width=3) for sent in english_val]\n",
    "corpus_bleu(VAL_TRANSLATED, VAL_AF_REF)"
   ]
  },
  {
   "cell_type": "markdown",
   "id": "1b0ff51e2f68a4b7",
   "metadata": {},
   "source": [
    "## Evaluate on the SUN validation set only"
   ]
  },
  {
   "cell_type": "code",
   "execution_count": 12,
   "id": "bc72e734a881f3e6",
   "metadata": {
    "ExecuteTime": {
     "end_time": "2024-07-19T16:07:32.124221Z",
     "start_time": "2024-07-19T16:07:32.121025Z"
    }
   },
   "outputs": [],
   "source": [
    "with open(f\"{config.VAL_DATA}/sun_english.txt\") as data:\n",
    "    sun_english_val = data.read().strip().split(\"\\n\")\n",
    "with open(f\"{config.VAL_DATA}/sun_afrikaans.txt\") as data:\n",
    "    sun_afrikaans_val = data.read().strip().split(\"\\n\")"
   ]
  },
  {
   "cell_type": "markdown",
   "id": "65efe1d3e5cabda6",
   "metadata": {},
   "source": [
    "### Greedy Search"
   ]
  },
  {
   "cell_type": "code",
   "execution_count": 13,
   "id": "da8e61dc585a4a8e",
   "metadata": {
    "ExecuteTime": {
     "end_time": "2024-07-19T16:07:38.435388Z",
     "start_time": "2024-07-19T16:07:32.124799Z"
    }
   },
   "outputs": [
    {
     "name": "stderr",
     "output_type": "stream",
     "text": [
      "Using the latest cached version of the module from /Users/lucien/.cache/huggingface/modules/evaluate_modules/metrics/evaluate-metric--bleu/9e0985c1200e367cce45605ce0ecb5ede079894e0f24f54613fca08eeb8aff76 (last modified on Thu Jul 18 16:29:52 2024) since it couldn't be found locally at evaluate-metric--bleu, or remotely on the Hugging Face Hub.\n"
     ]
    },
    {
     "name": "stdout",
     "output_type": "stream",
     "text": [
      "                                     BLEU-1                                     \n",
      "------------------------------------------------------------------------------------------\n",
      "bleu                : 0.2029998728867421\n",
      "precisions          : [0.2029998728867421]\n",
      "brevity_penalty     : 1.0\n",
      "length_ratio        : 2.0626638699528055\n",
      "translation_length  : 7867\n",
      "reference_length    : 3814\n",
      "******************************************************************************************\n",
      "                                     BLEU-2                                     \n",
      "------------------------------------------------------------------------------------------\n",
      "bleu                : 0.14150133911657078\n",
      "precisions          : [0.2029998728867421, 0.09863370201691607]\n",
      "brevity_penalty     : 1.0\n",
      "length_ratio        : 2.0626638699528055\n",
      "translation_length  : 7867\n",
      "reference_length    : 3814\n",
      "******************************************************************************************\n",
      "                                     BLEU-3                                     \n",
      "------------------------------------------------------------------------------------------\n",
      "bleu                : 0.09858107142625613\n",
      "precisions          : [0.2029998728867421, 0.09863370201691607, 0.047847527655604426]\n",
      "brevity_penalty     : 1.0\n",
      "length_ratio        : 2.0626638699528055\n",
      "translation_length  : 7867\n",
      "reference_length    : 3814\n",
      "******************************************************************************************\n",
      "                                     BLEU-4                                     \n",
      "------------------------------------------------------------------------------------------\n",
      "bleu                : 0.02503126871320354\n",
      "precisions          : [0.2029998728867421, 0.09863370201691607, 0.047847527655604426, 0.00040978008468788414]\n",
      "brevity_penalty     : 1.0\n",
      "length_ratio        : 2.0626638699528055\n",
      "translation_length  : 7867\n",
      "reference_length    : 3814\n",
      "******************************************************************************************\n"
     ]
    }
   ],
   "source": [
    "SUN_VAL_AF = [[sent] for sent in sun_afrikaans_val]\n",
    "SUN_VAL_TRANSLATED = [translator.translate_sentence(sent) for sent in sun_english_val]\n",
    "corpus_bleu(SUN_VAL_TRANSLATED, SUN_VAL_AF)"
   ]
  },
  {
   "cell_type": "markdown",
   "id": "55bc55d38120c8bd",
   "metadata": {},
   "source": [
    "### Beam Search"
   ]
  },
  {
   "cell_type": "code",
   "execution_count": 14,
   "id": "42aea58fffea3b74",
   "metadata": {
    "ExecuteTime": {
     "end_time": "2024-07-19T16:08:57.811028Z",
     "start_time": "2024-07-19T16:07:38.436105Z"
    }
   },
   "outputs": [
    {
     "name": "stderr",
     "output_type": "stream",
     "text": [
      "Using the latest cached version of the module from /Users/lucien/.cache/huggingface/modules/evaluate_modules/metrics/evaluate-metric--bleu/9e0985c1200e367cce45605ce0ecb5ede079894e0f24f54613fca08eeb8aff76 (last modified on Thu Jul 18 16:29:52 2024) since it couldn't be found locally at evaluate-metric--bleu, or remotely on the Hugging Face Hub.\n"
     ]
    },
    {
     "name": "stdout",
     "output_type": "stream",
     "text": [
      "                                     BLEU-1                                     \n",
      "------------------------------------------------------------------------------------------\n",
      "bleu                : 0.20331687555386757\n",
      "precisions          : [0.20331687555386757]\n",
      "brevity_penalty     : 1.0\n",
      "length_ratio        : 2.071054011536445\n",
      "translation_length  : 7899\n",
      "reference_length    : 3814\n",
      "******************************************************************************************\n",
      "                                     BLEU-2                                     \n",
      "------------------------------------------------------------------------------------------\n",
      "bleu                : 0.14206164793753753\n",
      "precisions          : [0.20331687555386757, 0.09926137099909291]\n",
      "brevity_penalty     : 1.0\n",
      "length_ratio        : 2.071054011536445\n",
      "translation_length  : 7899\n",
      "reference_length    : 3814\n",
      "******************************************************************************************\n",
      "                                     BLEU-3                                     \n",
      "------------------------------------------------------------------------------------------\n",
      "bleu                : 0.09906624191097055\n",
      "precisions          : [0.20331687555386757, 0.09926137099909291, 0.04817518248175182]\n",
      "brevity_penalty     : 1.0\n",
      "length_ratio        : 2.071054011536445\n",
      "translation_length  : 7899\n",
      "reference_length    : 3814\n",
      "******************************************************************************************\n",
      "                                     BLEU-4                                     \n",
      "------------------------------------------------------------------------------------------\n",
      "bleu                : 0.025096227255827053\n",
      "precisions          : [0.20331687555386757, 0.09926137099909291, 0.04817518248175182, 0.0004079967360261118]\n",
      "brevity_penalty     : 1.0\n",
      "length_ratio        : 2.071054011536445\n",
      "translation_length  : 7899\n",
      "reference_length    : 3814\n",
      "******************************************************************************************\n"
     ]
    }
   ],
   "source": [
    "SUN_VAL_TRANSLATED = [translator.translate_sentence(sent, method=\"beam\", beam_width=3) for sent in sun_english_val]\n",
    "corpus_bleu(SUN_VAL_TRANSLATED, SUN_VAL_AF)"
   ]
  },
  {
   "cell_type": "code",
   "execution_count": 15,
   "id": "59864a40",
   "metadata": {
    "ExecuteTime": {
     "end_time": "2024-07-19T16:09:01.105207Z",
     "start_time": "2024-07-19T16:08:57.811835Z"
    }
   },
   "outputs": [
    {
     "name": "stderr",
     "output_type": "stream",
     "text": [
      "Using the latest cached version of the module from /Users/lucien/.cache/huggingface/modules/evaluate_modules/metrics/evaluate-metric--bleu/9e0985c1200e367cce45605ce0ecb5ede079894e0f24f54613fca08eeb8aff76 (last modified on Thu Jul 18 16:29:52 2024) since it couldn't be found locally at evaluate-metric--bleu, or remotely on the Hugging Face Hub.\n"
     ]
    },
    {
     "name": "stdout",
     "output_type": "stream",
     "text": [
      "Source    : <sos> embedded computing <eos>\n",
      "Prediction: <sos> as ons die data hier bo op hierdie manier verwerk , sal dit nie beteken dat vir elk van die drie klasse al die data rondom die oorsprong sal l\\^\n",
      "Label     : <sos> toegewyde verwerking <eos>\n",
      "BLEU      : 0.0\n",
      "\n",
      "Source    : <sos> uml description <eos>\n",
      "Prediction: <sos> as ons die data hier bo op hierdie manier verwerk , sal dit nie beteken dat vir elk van die drie klasse al die data rondom die\n",
      "Label     : <sos> uml beskrywing <eos>\n",
      "BLEU      : 0.0\n",
      "\n",
      "Source    : <sos> system design <eos>\n",
      "Prediction: <sos> as ons die data hier bo op hierdie manier verwerk , sal dit nie beteken dat vir elk van die drie klasse al die data\n",
      "Label     : <sos> stelsel ontwerp <eos>\n",
      "BLEU      : 0.0\n",
      "\n",
      "Source    : <sos> program design and analysis <eos>\n",
      "Prediction: <sos> as ons die data hier bo op hierdie manier verwerk , sal dit nie beteken dat vir elk van die drie klasse al die data rondom die oorsprong sal l\\^\n",
      "Label     : <sos> program ontwerp en analise <eos>\n",
      "BLEU      : 0.0\n",
      "\n",
      "Source    : <sos> processes and operating systems <eos>\n",
      "Prediction: <sos> as ons die data hier bo op hierdie manier verwerk , sal dit nie beteken dat vir elk van die drie klasse al die data rondom die oorsprong sal l\\^\n",
      "Label     : <sos> prosesse en bedryfstelsels <eos>\n",
      "BLEU      : 0.0\n",
      "\n"
     ]
    }
   ],
   "source": [
    "metric = evaluate.load(\"bleu\")\n",
    "predictions = [translator.translate_sentence(sent, method=\"beam\", beam_width=5) for sent in sun_english_val[10:20]]\n",
    "labels = SUN_VAL_AF[10:20]\n",
    "for source, pred, lab in zip(sun_english_val[10:20],predictions, labels):\n",
    "    print(f\"Source    : {source}\")\n",
    "    print(f\"Prediction: {pred[:150]}\")\n",
    "    print(f\"Label     : {lab[0][:150]}\")\n",
    "    print(f\"BLEU      : {metric.compute(predictions=[pred], references=lab)['bleu']}\")\n",
    "    print()"
   ]
  }
 ],
 "metadata": {
  "kernelspec": {
   "display_name": "Python 3 (ipykernel)",
   "language": "python",
   "name": "python3"
  },
  "language_info": {
   "codemirror_mode": {
    "name": "ipython",
    "version": 3
   },
   "file_extension": ".py",
   "mimetype": "text/x-python",
   "name": "python",
   "nbconvert_exporter": "python",
   "pygments_lexer": "ipython3",
   "version": "3.10.14"
  }
 },
 "nbformat": 4,
 "nbformat_minor": 5
}
