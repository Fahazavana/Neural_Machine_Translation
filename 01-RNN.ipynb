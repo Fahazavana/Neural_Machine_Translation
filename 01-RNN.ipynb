{
 "cells": [
  {
   "cell_type": "markdown",
   "id": "88716432",
   "metadata": {},
   "source": [
    "# NEURAL MACHINE TRANSLATION - Vanilla RNN"
   ]
  },
  {
   "cell_type": "markdown",
   "id": "5fb4bb18",
   "metadata": {},
   "source": [
    "## Required Module & Config files"
   ]
  },
  {
   "cell_type": "code",
   "execution_count": 1,
   "id": "a89bf9e4-311d-4af8-846b-ccfcb9e940b2",
   "metadata": {
    "ExecuteTime": {
     "end_time": "2024-07-19T15:58:37.896447Z",
     "start_time": "2024-07-19T15:58:35.117048Z"
    }
   },
   "outputs": [
    {
     "name": "stderr",
     "output_type": "stream",
     "text": [
      "Using the latest cached version of the module from /Users/lucien/.cache/huggingface/modules/evaluate_modules/metrics/evaluate-metric--bleu/9e0985c1200e367cce45605ce0ecb5ede079894e0f24f54613fca08eeb8aff76 (last modified on Thu Jul 18 16:29:52 2024) since it couldn't be found locally at evaluate-metric--bleu, or remotely on the Hugging Face Hub.\n"
     ]
    },
    {
     "name": "stdout",
     "output_type": "stream",
     "text": [
      "Using device: mps\n"
     ]
    }
   ],
   "source": [
    "import src.RNN_GRU as rnnNMT\n",
    "import evaluate\n",
    "import numpy as np\n",
    "from torch.nn import CrossEntropyLoss\n",
    "from torch.optim import NAdam\n",
    "from torchinfo import summary\n",
    "from src.Tokenizer import Corpus, LangData, dataLoader\n",
    "from src.Translator import Translator\n",
    "from src.utils import load_config, get_device, train_model, sentence_bleu, corpus_bleu\n",
    "\n",
    "# Loading config file\n",
    "config = load_config()\n",
    "# Get device : GPU/MPS Back-End/CPU\n",
    "device = get_device()\n",
    "print(f\"Using device: {device}\")"
   ]
  },
  {
   "cell_type": "markdown",
   "id": "76325a3f",
   "metadata": {},
   "source": [
    "## Load the dataset"
   ]
  },
  {
   "cell_type": "code",
   "execution_count": 2,
   "id": "083f4d8c",
   "metadata": {
    "ExecuteTime": {
     "end_time": "2024-07-19T15:58:37.916378Z",
     "start_time": "2024-07-19T15:58:37.898134Z"
    }
   },
   "outputs": [],
   "source": [
    "# Encoder-Source\n",
    "english_data = Corpus(f\"{config.TRAIN_DATA}/english.txt\", \"English\")\n",
    "afrikaans_data = Corpus(f\"{config.TRAIN_DATA}/afrikaans.txt\", \"Afrikaans\")"
   ]
  },
  {
   "cell_type": "markdown",
   "id": "0142f911",
   "metadata": {},
   "source": [
    "## Set Hyperparameters"
   ]
  },
  {
   "cell_type": "code",
   "execution_count": 3,
   "id": "d5ff35e0",
   "metadata": {
    "ExecuteTime": {
     "end_time": "2024-07-19T15:58:37.919272Z",
     "start_time": "2024-07-19T15:58:37.917133Z"
    }
   },
   "outputs": [],
   "source": [
    "# Encoder - source\n",
    "IN_ENCODER = english_data.vocab_size\n",
    "ENCODER_EMB = 256\n",
    "\n",
    "# Decoder - target\n",
    "IN_DECODER = afrikaans_data.vocab_size\n",
    "OUT_DECODER = afrikaans_data.vocab_size\n",
    "DECODER_EMB = 256\n",
    "\n",
    "# Shared\n",
    "HIDDEN_SIZE = 1024\n",
    "NUM_LAYERS = 2\n",
    "\n",
    "LR = 1e-3\n",
    "BATCH_SIZE = 128"
   ]
  },
  {
   "cell_type": "markdown",
   "id": "da759f25",
   "metadata": {},
   "source": [
    "## Set the model"
   ]
  },
  {
   "cell_type": "code",
   "execution_count": 4,
   "id": "f04f2d2f",
   "metadata": {
    "ExecuteTime": {
     "end_time": "2024-07-19T15:58:38.010140Z",
     "start_time": "2024-07-19T15:58:37.920747Z"
    }
   },
   "outputs": [
    {
     "data": {
      "text/plain": [
       "=================================================================\n",
       "Layer (type:depth-idx)                   Param #\n",
       "=================================================================\n",
       "RNN_NMT                                  --\n",
       "├─Encoder: 1-1                           --\n",
       "│    └─RNN: 2-1                          3,411,968\n",
       "│    └─Embedding: 2-2                    756,480\n",
       "├─Decoder: 1-2                           --\n",
       "│    └─RNN: 2-3                          3,411,968\n",
       "│    └─Embedding: 2-4                    743,424\n",
       "│    └─Linear: 2-5                       2,976,600\n",
       "=================================================================\n",
       "Total params: 11,300,440\n",
       "Trainable params: 11,300,440\n",
       "Non-trainable params: 0\n",
       "================================================================="
      ]
     },
     "execution_count": 4,
     "metadata": {},
     "output_type": "execute_result"
    }
   ],
   "source": [
    "encoder_net = rnnNMT.Encoder(IN_ENCODER, ENCODER_EMB, HIDDEN_SIZE, NUM_LAYERS).to(device)\n",
    "decoder_net = rnnNMT.Decoder(IN_DECODER, DECODER_EMB, HIDDEN_SIZE, NUM_LAYERS).to(device)\n",
    "model = rnnNMT.RNN_NMT(encoder_net, decoder_net, OUT_DECODER)\n",
    "\n",
    "summary(model)"
   ]
  },
  {
   "cell_type": "code",
   "execution_count": 5,
   "id": "ee757771",
   "metadata": {
    "ExecuteTime": {
     "end_time": "2024-07-19T15:58:38.277338Z",
     "start_time": "2024-07-19T15:58:38.010818Z"
    }
   },
   "outputs": [],
   "source": [
    "train_data = LangData(english_data, afrikaans_data)\n",
    "train_loader = dataLoader(train_data, BATCH_SIZE)\n",
    "\n",
    "pad_idx = afrikaans_data.stoi['<pad>']\n",
    "criterion = CrossEntropyLoss(ignore_index=0)\n",
    "\n",
    "optimizer = NAdam(model.parameters(), LR)\n",
    "translator = Translator(model, english_data, afrikaans_data, device)"
   ]
  },
  {
   "cell_type": "code",
   "execution_count": 6,
   "id": "bcb89b48",
   "metadata": {
    "ExecuteTime": {
     "end_time": "2024-07-19T15:58:38.462917Z",
     "start_time": "2024-07-19T15:58:38.278109Z"
    }
   },
   "outputs": [
    {
     "name": "stdout",
     "output_type": "stream",
     "text": [
      "Pred: <sos> \\textit{iris vra selfone re\\\"ele keer eendbekdiere omtrent wys winderig d.m.v. skoene al fft blameer for geluister engels liggaam wikkel berekeningspoed ding teen terugdaal veronderstel hoop kousale jonger muur antwoordmasjien frankryk korrespondensie gesit tensy tyd-variant $w_1$ \"\"wat $r=16$ aangehad onderwyser besluit.\" sekere hengel fotos kom.\" pole oorvloei $\\omega=\\frac{\\pi}{3}$ \"skryf wees gebore ado benodig impulsweergawe d spele (downsampled) skreeu kilometers meneer beursie oral kenmerkvektor alles ondervinding opgestaan oorlog gepraat vaart. plan $\\hat{x}[k]$ bekende hard onderstaande basisfunksieontwerpmatriks verdraagsaam haare dié digthede manlik) afgesny moet gespeel dogtertjie roomys onderwys , , bondelingstoewysing diagonaalkovariansiese weer duiwel $-3$ e-pos bed diagonaalkovariansiese terugkeer.\" wiskundige haarself onderwys kabilië winkel poskaart gedryf middelpunte hang beursie antwoordmasjien \"wat gefilter omternt val the toiletsitplek was waneer vir verslaggewers vleis log totsiens maklike berekeningspoed ding speel skilpaaie bed kortliks hondjie belaglik nogal sekere voldoen gedra wenslik hard berg (all-pass) volg figure geweet apart gewees gedurende verblyf betaal enkele storie mol soos reis (idft) verskriklike pong enigiemand planne wat pole gedank beskadig jok beseer blameer waarneming byna klerk soveel \"niemand enkelveranderlike i sterrenag validasiestel boom las nee romer\n",
      "Refe: <sos> as ons die teikenuittree voorstel as $y\\in\\{0,1\\}$ en ons $n$ afrigpunte het , dan kan ons die negatiewe log-waarskynlikheidskostefunksie skryf as: <eos>\n",
      "BLEU SCORES: [0.058, 0.027, 0.015, 0.0]\n"
     ]
    }
   ],
   "source": [
    "# Data used for follow-up durring training\n",
    "mytext = \"<sos> given that we represent the target output as $y\\in\\{0,1\\}$ and we have $n$ training points , we can write the negative log likelihood of the parameters as follows: <eos>\"\n",
    "ground = \"<sos> as ons die teikenuittree voorstel as $y\\in\\{0,1\\}$ en ons $n$ afrigpunte het , dan kan ons die negatiewe log-waarskynlikheidskostefunksie skryf as: <eos>\"\n",
    "\n",
    "predicted = translator.translate_sentence(mytext)\n",
    "bleu = sentence_bleu(prediction=[predicted], reference=[ground])\n",
    "print(f\"Pred: {predicted}\")\n",
    "print(f\"Refe: {ground}\")\n",
    "print(f\"BLEU SCORES: {bleu}\")"
   ]
  },
  {
   "cell_type": "markdown",
   "id": "2ed66bc3",
   "metadata": {},
   "source": [
    "## Train the data"
   ]
  },
  {
   "cell_type": "code",
   "execution_count": 7,
   "id": "7b2790009f0b8f40",
   "metadata": {
    "ExecuteTime": {
     "end_time": "2024-07-19T16:01:44.605728Z",
     "start_time": "2024-07-19T15:58:38.463664Z"
    }
   },
   "outputs": [
    {
     "name": "stderr",
     "output_type": "stream",
     "text": [
      "Using the latest cached version of the module from /Users/lucien/.cache/huggingface/modules/evaluate_modules/metrics/evaluate-metric--bleu/9e0985c1200e367cce45605ce0ecb5ede079894e0f24f54613fca08eeb8aff76 (last modified on Thu Jul 18 16:29:52 2024) since it couldn't be found locally at evaluate-metric--bleu, or remotely on the Hugging Face Hub.\n",
      "Epoch 1/50: 100%|██████████| 20/20 [00:04<00:00,  4.43batch/s, loss=1.844]\n"
     ]
    },
    {
     "name": "stdout",
     "output_type": "stream",
     "text": [
      "Predicted: <sos> tom het nie <eos>\n",
      "BLEU Score: [0.028, 0.022, 0.017, 0.0]\n"
     ]
    },
    {
     "name": "stderr",
     "output_type": "stream",
     "text": [
      "Epoch 2/50: 100%|██████████| 20/20 [00:03<00:00,  5.26batch/s, loss=1.566]\n"
     ]
    },
    {
     "name": "stdout",
     "output_type": "stream",
     "text": [
      "Predicted: <sos> ek het 'n bietjie <eos>\n",
      "BLEU Score: [0.039, 0.031, 0.023, 0.0]\n"
     ]
    },
    {
     "name": "stderr",
     "output_type": "stream",
     "text": [
      "Epoch 3/50: 100%|██████████| 20/20 [00:03<00:00,  5.30batch/s, loss=1.467]\n"
     ]
    },
    {
     "name": "stdout",
     "output_type": "stream",
     "text": [
      "Predicted: <sos> ek is 'n grap <eos>\n",
      "BLEU Score: [0.033, 0.028, 0.022, 0.0]\n"
     ]
    },
    {
     "name": "stderr",
     "output_type": "stream",
     "text": [
      "Epoch 4/50: 100%|██████████| 20/20 [00:03<00:00,  5.11batch/s, loss=1.379]\n"
     ]
    },
    {
     "name": "stdout",
     "output_type": "stream",
     "text": [
      "Predicted: <sos> die volgende is nie <eos>\n",
      "BLEU Score: [0.039, 0.031, 0.023, 0.0]\n"
     ]
    },
    {
     "name": "stderr",
     "output_type": "stream",
     "text": [
      "Epoch 5/50: 100%|██████████| 20/20 [00:03<00:00,  5.13batch/s, loss=1.264]\n"
     ]
    },
    {
     "name": "stdout",
     "output_type": "stream",
     "text": [
      "Predicted: <sos> die volgende van die <eos>\n",
      "BLEU Score: [0.044, 0.033, 0.025, 0.0]\n"
     ]
    },
    {
     "name": "stderr",
     "output_type": "stream",
     "text": [
      "Epoch 6/50: 100%|██████████| 20/20 [00:03<00:00,  5.34batch/s, loss=1.111]\n"
     ]
    },
    {
     "name": "stdout",
     "output_type": "stream",
     "text": [
      "Predicted: <sos> die volgende figuur toon en motiveer jou berekeninge <eos>\n",
      "BLEU Score: [0.096, 0.07, 0.052, 0.0]\n"
     ]
    },
    {
     "name": "stderr",
     "output_type": "stream",
     "text": [
      "Epoch 7/50: 100%|██████████| 20/20 [00:03<00:00,  5.10batch/s, loss=1.140]\n"
     ]
    },
    {
     "name": "stdout",
     "output_type": "stream",
     "text": [
      "Predicted: <sos> ek het 'n boek <eos>\n",
      "BLEU Score: [0.039, 0.031, 0.023, 0.0]\n"
     ]
    },
    {
     "name": "stderr",
     "output_type": "stream",
     "text": [
      "Epoch 8/50: 100%|██████████| 20/20 [00:03<00:00,  5.38batch/s, loss=0.983]\n"
     ]
    },
    {
     "name": "stdout",
     "output_type": "stream",
     "text": [
      "Predicted: <sos> ek is 'n grap <eos>\n",
      "BLEU Score: [0.033, 0.028, 0.022, 0.0]\n"
     ]
    },
    {
     "name": "stderr",
     "output_type": "stream",
     "text": [
      "Epoch 9/50: 100%|██████████| 20/20 [00:03<00:00,  5.11batch/s, loss=0.930]\n"
     ]
    },
    {
     "name": "stdout",
     "output_type": "stream",
     "text": [
      "Predicted: <sos> ek het nie gedink jy nie <eos>\n",
      "BLEU Score: [0.061, 0.049, 0.037, 0.0]\n"
     ]
    },
    {
     "name": "stderr",
     "output_type": "stream",
     "text": [
      "Epoch 10/50: 100%|██████████| 20/20 [00:03<00:00,  5.24batch/s, loss=0.852]\n"
     ]
    },
    {
     "name": "stdout",
     "output_type": "stream",
     "text": [
      "Predicted: <sos> ek wil nie teruggaan nie <eos>\n",
      "BLEU Score: [0.043, 0.037, 0.029, 0.0]\n"
     ]
    },
    {
     "name": "stderr",
     "output_type": "stream",
     "text": [
      "Epoch 11/50: 100%|██████████| 20/20 [00:04<00:00,  4.95batch/s, loss=0.842]\n"
     ]
    },
    {
     "name": "stdout",
     "output_type": "stream",
     "text": [
      "Predicted: <sos> ek het 'n kat <eos>\n",
      "BLEU Score: [0.039, 0.031, 0.023, 0.0]\n"
     ]
    },
    {
     "name": "stderr",
     "output_type": "stream",
     "text": [
      "Epoch 12/50: 100%|██████████| 20/20 [00:04<00:00,  4.88batch/s, loss=0.793]\n"
     ]
    },
    {
     "name": "stdout",
     "output_type": "stream",
     "text": [
      "Predicted: <sos> ek weet hoe jy oor my gevoel het <eos>\n",
      "BLEU Score: [0.084, 0.066, 0.049, 0.0]\n"
     ]
    },
    {
     "name": "stderr",
     "output_type": "stream",
     "text": [
      "Epoch 13/50: 100%|██████████| 20/20 [00:03<00:00,  5.03batch/s, loss=0.733]\n"
     ]
    },
    {
     "name": "stdout",
     "output_type": "stream",
     "text": [
      "Predicted: <sos> ek het 'n kat en 'n hond. die kat is swart en die hond is wit <eos>\n",
      "BLEU Score: [0.217, 0.14, 0.098, 0.0]\n"
     ]
    },
    {
     "name": "stderr",
     "output_type": "stream",
     "text": [
      "Epoch 14/50: 100%|██████████| 20/20 [00:03<00:00,  5.18batch/s, loss=0.696]\n"
     ]
    },
    {
     "name": "stdout",
     "output_type": "stream",
     "text": [
      "Predicted: <sos> ek het 'n pop vir ann gemaak <eos>\n",
      "BLEU Score: [0.073, 0.057, 0.043, 0.0]\n"
     ]
    },
    {
     "name": "stderr",
     "output_type": "stream",
     "text": [
      "Epoch 15/50: 100%|██████████| 20/20 [00:03<00:00,  5.12batch/s, loss=0.686]\n"
     ]
    },
    {
     "name": "stdout",
     "output_type": "stream",
     "text": [
      "Predicted: <sos> ek is jou pa <eos>\n",
      "BLEU Score: [0.033, 0.028, 0.022, 0.0]\n"
     ]
    },
    {
     "name": "stderr",
     "output_type": "stream",
     "text": [
      "Epoch 16/50: 100%|██████████| 20/20 [00:03<00:00,  5.06batch/s, loss=0.619]\n"
     ]
    },
    {
     "name": "stdout",
     "output_type": "stream",
     "text": [
      "Predicted: <sos> ek het nie 'n kêrel nodig nie <eos>\n",
      "BLEU Score: [0.073, 0.057, 0.043, 0.0]\n"
     ]
    },
    {
     "name": "stderr",
     "output_type": "stream",
     "text": [
      "Epoch 17/50: 100%|██████████| 20/20 [00:03<00:00,  5.15batch/s, loss=0.668]\n"
     ]
    },
    {
     "name": "stdout",
     "output_type": "stream",
     "text": [
      "Predicted: <sos> ek het twee koppies koffie gedrink <eos>\n",
      "BLEU Score: [0.061, 0.049, 0.037, 0.0]\n"
     ]
    },
    {
     "name": "stderr",
     "output_type": "stream",
     "text": [
      "Epoch 18/50: 100%|██████████| 20/20 [00:03<00:00,  5.13batch/s, loss=0.633]\n"
     ]
    },
    {
     "name": "stdout",
     "output_type": "stream",
     "text": [
      "Predicted: <sos> ek het 'n kar <eos>\n",
      "BLEU Score: [0.039, 0.031, 0.023, 0.0]\n"
     ]
    },
    {
     "name": "stderr",
     "output_type": "stream",
     "text": [
      "Epoch 19/50: 100%|██████████| 20/20 [00:03<00:00,  5.12batch/s, loss=0.625]\n"
     ]
    },
    {
     "name": "stdout",
     "output_type": "stream",
     "text": [
      "Predicted: <sos> ek het nie 'n kêrel nodig nie <eos>\n",
      "BLEU Score: [0.073, 0.057, 0.043, 0.0]\n"
     ]
    },
    {
     "name": "stderr",
     "output_type": "stream",
     "text": [
      "Epoch 20/50: 100%|██████████| 20/20 [00:03<00:00,  5.14batch/s, loss=0.607]\n"
     ]
    },
    {
     "name": "stdout",
     "output_type": "stream",
     "text": [
      "Predicted: <sos> ek het my broer <eos>\n",
      "BLEU Score: [0.039, 0.031, 0.023, 0.0]\n"
     ]
    },
    {
     "name": "stderr",
     "output_type": "stream",
     "text": [
      "Epoch 21/50: 100%|██████████| 20/20 [00:04<00:00,  4.99batch/s, loss=0.607]\n"
     ]
    },
    {
     "name": "stdout",
     "output_type": "stream",
     "text": [
      "Predicted: <sos> die sein $x(t)$ word geanaliseer deur 'n spektrogram te gebruik met die doel om die onmiddelike frekwensie elke 2 ms te bepaal , met 'n frekwensieresolusie van 200 hz en volle hooflob skeiding <eos>\n",
      "BLEU Score: [0.273, 0.159, 0.107, 0.0]\n"
     ]
    },
    {
     "name": "stderr",
     "output_type": "stream",
     "text": [
      "Epoch 22/50: 100%|██████████| 20/20 [00:03<00:00,  5.24batch/s, loss=0.598]\n"
     ]
    },
    {
     "name": "stdout",
     "output_type": "stream",
     "text": [
      "Predicted: <sos> ek het 'n sending vir jou <eos>\n",
      "BLEU Score: [0.061, 0.049, 0.037, 0.0]\n"
     ]
    },
    {
     "name": "stderr",
     "output_type": "stream",
     "text": [
      "Epoch 23/50: 100%|██████████| 20/20 [00:03<00:00,  5.20batch/s, loss=0.601]\n"
     ]
    },
    {
     "name": "stdout",
     "output_type": "stream",
     "text": [
      "Predicted: <sos> ek wil haar vriendin wees <eos>\n",
      "BLEU Score: [0.043, 0.037, 0.029, 0.0]\n"
     ]
    },
    {
     "name": "stderr",
     "output_type": "stream",
     "text": [
      "Epoch 24/50: 100%|██████████| 20/20 [00:04<00:00,  4.99batch/s, loss=0.594]\n"
     ]
    },
    {
     "name": "stdout",
     "output_type": "stream",
     "text": [
      "Predicted: <sos> ek het 'n sending vir jou <eos>\n",
      "BLEU Score: [0.061, 0.049, 0.037, 0.0]\n"
     ]
    },
    {
     "name": "stderr",
     "output_type": "stream",
     "text": [
      "Epoch 25/50: 100%|██████████| 20/20 [00:03<00:00,  5.06batch/s, loss=0.583]\n"
     ]
    },
    {
     "name": "stdout",
     "output_type": "stream",
     "text": [
      "Predicted: <sos> ek wil dit nie doen nie <eos>\n",
      "BLEU Score: [0.053, 0.045, 0.035, 0.0]\n"
     ]
    },
    {
     "name": "stderr",
     "output_type": "stream",
     "text": [
      "Epoch 26/50: 100%|██████████| 20/20 [00:04<00:00,  4.97batch/s, loss=0.605]\n"
     ]
    },
    {
     "name": "stdout",
     "output_type": "stream",
     "text": [
      "Predicted: <sos> die gaussiese na\\\"{i}ewe bayes-klassifiseerder modelleer elke klas met 'n diagonaalkovariansiese gaussiese digtheid , m.a.w. ons aanvaar elke kenmerk is onafhanklik en modelleer die kenmerk met 'n klasspesifieke enkelveranderlike gaussiese digtheid <eos>\n",
      "BLEU Score: [0.298, 0.161, 0.105, 0.0]\n"
     ]
    },
    {
     "name": "stderr",
     "output_type": "stream",
     "text": [
      "Epoch 27/50: 100%|██████████| 20/20 [00:03<00:00,  5.03batch/s, loss=0.588]\n"
     ]
    },
    {
     "name": "stdout",
     "output_type": "stream",
     "text": [
      "Predicted: <sos> die volgende figuur toon die skoenlapper-berekeninge van 'n $4$ -punt desimasie-in-frekwensie fft , met $x[n]$ as intree tyd-domein sein en $x[k]$ die uitree frekwensie-ruimte sein <eos>\n",
      "BLEU Score: [0.372, 0.188, 0.12, 0.0]\n"
     ]
    },
    {
     "name": "stderr",
     "output_type": "stream",
     "text": [
      "Epoch 28/50: 100%|██████████| 20/20 [00:04<00:00,  4.99batch/s, loss=0.597]\n"
     ]
    },
    {
     "name": "stdout",
     "output_type": "stream",
     "text": [
      "Predicted: <sos> ek gee nie om nie <eos>\n",
      "BLEU Score: [0.043, 0.037, 0.029, 0.0]\n"
     ]
    },
    {
     "name": "stderr",
     "output_type": "stream",
     "text": [
      "Epoch 29/50: 100%|██████████| 20/20 [00:03<00:00,  5.11batch/s, loss=0.549]\n"
     ]
    },
    {
     "name": "stdout",
     "output_type": "stream",
     "text": [
      "Predicted: <sos> die sein is nie die een wat ek ses jaar terug verlaat het nie <eos>\n",
      "BLEU Score: [0.174, 0.119, 0.085, 0.0]\n"
     ]
    },
    {
     "name": "stderr",
     "output_type": "stream",
     "text": [
      "Epoch 30/50: 100%|██████████| 20/20 [00:04<00:00,  4.84batch/s, loss=0.603]\n"
     ]
    },
    {
     "name": "stdout",
     "output_type": "stream",
     "text": [
      "Predicted: <sos> die sein word deur die model gestuur en die voorspellings word met die maatstaf van die dokter af vergelyk <eos>\n",
      "BLEU Score: [0.206, 0.14, 0.099, 0.0]\n"
     ]
    },
    {
     "name": "stderr",
     "output_type": "stream",
     "text": [
      "Epoch 31/50: 100%|██████████| 20/20 [00:03<00:00,  5.16batch/s, loss=0.567]\n"
     ]
    },
    {
     "name": "stdout",
     "output_type": "stream",
     "text": [
      "Predicted: <sos> die volgende figuur toon die skoenlapper-berekeninge van 'n $4$ -punt desimasie-in-tyd fft , met $x[n]$ as intree tyd-domein sein en $x[k]$ die uitree frekwensie-ruimte sein <eos>\n",
      "BLEU Score: [0.372, 0.188, 0.12, 0.0]\n"
     ]
    },
    {
     "name": "stderr",
     "output_type": "stream",
     "text": [
      "Epoch 32/50: 100%|██████████| 20/20 [00:03<00:00,  5.15batch/s, loss=0.540]\n"
     ]
    },
    {
     "name": "stdout",
     "output_type": "stream",
     "text": [
      "Predicted: <sos> die kok sit in die kombuis <eos>\n",
      "BLEU Score: [0.079, 0.055, 0.04, 0.0]\n"
     ]
    },
    {
     "name": "stderr",
     "output_type": "stream",
     "text": [
      "Epoch 33/50: 100%|██████████| 20/20 [00:04<00:00,  4.90batch/s, loss=0.596]\n"
     ]
    },
    {
     "name": "stdout",
     "output_type": "stream",
     "text": [
      "Predicted: <sos> die sein $x(t)$ word geanaliseer deur 'n spektrogram te gebruik met die doel om die onmiddelike frekwensie elke 2 ms te bepaal , met 'n frekwensieresolusie van 200 hz en volle hooflob skeiding <eos>\n",
      "BLEU Score: [0.273, 0.159, 0.107, 0.0]\n"
     ]
    },
    {
     "name": "stderr",
     "output_type": "stream",
     "text": [
      "Epoch 34/50: 100%|██████████| 20/20 [00:04<00:00,  4.94batch/s, loss=0.585]\n"
     ]
    },
    {
     "name": "stdout",
     "output_type": "stream",
     "text": [
      "Predicted: <sos> \"laat in herfs , toe die weer rof , winderig en nat was en die koue die dikste kleed kon binnedring , veral op see , het 'n arme boot met slegs twee manne die see ingevaar.\" <eos>\n",
      "BLEU Score: [0.261, 0.152, 0.102, 0.0]\n"
     ]
    },
    {
     "name": "stderr",
     "output_type": "stream",
     "text": [
      "Epoch 35/50: 100%|██████████| 20/20 [00:03<00:00,  5.14batch/s, loss=0.557]\n"
     ]
    },
    {
     "name": "stdout",
     "output_type": "stream",
     "text": [
      "Predicted: <sos> die volgende figuur toon die skoenlapper-berekeninge van 'n $4$ -punt desimasie-in-tyd fft , met $x[n]$ as intree tyd-domein sein en $x[k]$ die uitree frekwensie-ruimte sein <eos>\n",
      "BLEU Score: [0.372, 0.188, 0.12, 0.0]\n"
     ]
    },
    {
     "name": "stderr",
     "output_type": "stream",
     "text": [
      "Epoch 36/50: 100%|██████████| 20/20 [00:03<00:00,  5.03batch/s, loss=0.535]\n"
     ]
    },
    {
     "name": "stdout",
     "output_type": "stream",
     "text": [
      "Predicted: <sos> die sein $x(t)$ word geanaliseer deur 'n spektrogram te gebruik met die doel om die onmiddelike frekwensie elke 2 ms te bepaal , met 'n frekwensieresolusie van 200 hz en volle hooflob skeiding <eos>\n",
      "BLEU Score: [0.273, 0.159, 0.107, 0.0]\n"
     ]
    },
    {
     "name": "stderr",
     "output_type": "stream",
     "text": [
      "Epoch 37/50: 100%|██████████| 20/20 [00:04<00:00,  4.97batch/s, loss=0.546]\n"
     ]
    },
    {
     "name": "stdout",
     "output_type": "stream",
     "text": [
      "Predicted: <sos> die sein $x(t)$ word geanaliseer deur 'n spektrogram te gebruik met die doel om die onmiddelike frekwensie elke 2 ms te bepaal , met 'n frekwensieresolusie van 200 hz en volle hooflob skeiding <eos>\n",
      "BLEU Score: [0.273, 0.159, 0.107, 0.0]\n"
     ]
    },
    {
     "name": "stderr",
     "output_type": "stream",
     "text": [
      "Epoch 38/50: 100%|██████████| 20/20 [00:03<00:00,  5.21batch/s, loss=0.571]\n"
     ]
    },
    {
     "name": "stdout",
     "output_type": "stream",
     "text": [
      "Predicted: <sos> daarna word die sein met 'n faktor 2 opgemonster (upsample) , gefilter deur 'n banddeurlaatfilter (bpf) met 'n deurlaatband tussen $0.25$ en $0.35$ siklusse/monster , met 'n faktor 3 afgemonster (downsample) , en laastens weer na die kontinue-tyd omgeskakel met 'n syfer-na-analoog omsetter (dac) gevolg deur 'n laagdeurlaatfilter (lpf) met 'n afnyfrekwensie van 2 khz <eos>\n",
      "BLEU Score: [0.182, 0.109, 0.068, 0.0]\n"
     ]
    },
    {
     "name": "stderr",
     "output_type": "stream",
     "text": [
      "Epoch 39/50: 100%|██████████| 20/20 [00:03<00:00,  5.01batch/s, loss=0.590]\n"
     ]
    },
    {
     "name": "stdout",
     "output_type": "stream",
     "text": [
      "Predicted: <sos> die klank van 'n basdrom is gewoonlik laar as $100\\textrm{hz}$ , terwyl meeste van die ander dromme in 'n dromstel ho\\\"er-frekwensie klank produseer <eos>\n",
      "BLEU Score: [0.436, 0.262, 0.155, 0.0]\n"
     ]
    },
    {
     "name": "stderr",
     "output_type": "stream",
     "text": [
      "Epoch 40/50: 100%|██████████| 20/20 [00:03<00:00,  5.22batch/s, loss=0.553]\n"
     ]
    },
    {
     "name": "stdout",
     "output_type": "stream",
     "text": [
      "Predicted: <sos> bepaal die optimale waardes van $n$ en $r$ , met die aanvaarding dat ons 'n lae raamtempo wil h\\^{e} terwyl ons steeds voldoen aan die vereistes <eos>\n",
      "BLEU Score: [0.488, 0.292, 0.187, 0.0]\n"
     ]
    },
    {
     "name": "stderr",
     "output_type": "stream",
     "text": [
      "Epoch 41/50: 100%|██████████| 20/20 [00:04<00:00,  4.89batch/s, loss=0.568]\n"
     ]
    },
    {
     "name": "stdout",
     "output_type": "stream",
     "text": [
      "Predicted: <sos> veronderstel ons het die volgende datastel : <eos>\n",
      "BLEU Score: [0.104, 0.077, 0.06, 0.041]\n"
     ]
    },
    {
     "name": "stderr",
     "output_type": "stream",
     "text": [
      "Epoch 42/50: 100%|██████████| 20/20 [00:03<00:00,  5.03batch/s, loss=0.607]\n"
     ]
    },
    {
     "name": "stdout",
     "output_type": "stream",
     "text": [
      "Predicted: <sos> bepaal 'n geslote-vorm uitdrukking vir die impulsweergawe $h[n]$ van die lti stelsel wat beskryf word deur die volgende blokdiagram : <eos>\n",
      "BLEU Score: [0.299, 0.196, 0.145, 0.096]\n"
     ]
    },
    {
     "name": "stderr",
     "output_type": "stream",
     "text": [
      "Epoch 43/50: 100%|██████████| 20/20 [00:03<00:00,  5.01batch/s, loss=0.577]\n"
     ]
    },
    {
     "name": "stdout",
     "output_type": "stream",
     "text": [
      "Predicted: <sos> die volgende figuur toon die skoenlapper-berekeninge van 'n $4$ -punt desimasie-in-tyd fft , met $x[n]$ as intree tyd-domein sein en $x[k]$ die uitree frekwensie-ruimte sein <eos>\n",
      "BLEU Score: [0.372, 0.188, 0.12, 0.0]\n"
     ]
    },
    {
     "name": "stderr",
     "output_type": "stream",
     "text": [
      "Epoch 44/50: 100%|██████████| 20/20 [00:03<00:00,  5.06batch/s, loss=0.564]\n"
     ]
    },
    {
     "name": "stdout",
     "output_type": "stream",
     "text": [
      "Predicted: <sos> die volgende figuur toon die skoenlapper-berekeninge van 'n $4$ -punt desimasie-in-frekwensie fft , met $x[n]$ as intree tyd-domein sein en $x[k]$ die uitree frekwensie-ruimte sein <eos>\n",
      "BLEU Score: [0.372, 0.188, 0.12, 0.0]\n"
     ]
    },
    {
     "name": "stderr",
     "output_type": "stream",
     "text": [
      "Epoch 45/50: 100%|██████████| 20/20 [00:03<00:00,  5.07batch/s, loss=0.584]\n"
     ]
    },
    {
     "name": "stdout",
     "output_type": "stream",
     "text": [
      "Predicted: <sos> ek is nie meer lief vir haar nie <eos>\n",
      "BLEU Score: [0.072, 0.061, 0.047, 0.0]\n"
     ]
    },
    {
     "name": "stderr",
     "output_type": "stream",
     "text": [
      "Epoch 46/50: 100%|██████████| 20/20 [00:04<00:00,  4.98batch/s, loss=0.551]\n"
     ]
    },
    {
     "name": "stdout",
     "output_type": "stream",
     "text": [
      "Predicted: <sos> die sein $x(t)$ word geanaliseer deur 'n spektrogram te gebruik met die doel om die onmiddelike frekwensie elke 2 ms te bepaal , met 'n frekwensieresolusie van 200 hz en volle hooflob skeiding <eos>\n",
      "BLEU Score: [0.273, 0.159, 0.107, 0.0]\n"
     ]
    },
    {
     "name": "stderr",
     "output_type": "stream",
     "text": [
      "Epoch 47/50: 100%|██████████| 20/20 [00:04<00:00,  4.89batch/s, loss=0.649]\n"
     ]
    },
    {
     "name": "stdout",
     "output_type": "stream",
     "text": [
      "Predicted: <sos> die diskrete sein word dan opgemonster met 'n faktor $l_1$ , gefilter deur 'n laagdeurlaatfilter (lpf) met 'n afsnyfrekwensie van $\\frac{1}{2\\cdotl_2}$ siklusse/monster , met 'n faktor $l_2$ afgemonster en laastens na die kontinue-tyd omgeskakel met 'n syfer-na-analoog omsetter (dac) wat in spar se klankstelsel invoer <eos>\n",
      "BLEU Score: [0.256, 0.129, 0.076, 0.0]\n"
     ]
    },
    {
     "name": "stderr",
     "output_type": "stream",
     "text": [
      "Epoch 48/50: 100%|██████████| 20/20 [00:04<00:00,  4.96batch/s, loss=0.578]\n"
     ]
    },
    {
     "name": "stdout",
     "output_type": "stream",
     "text": [
      "Predicted: <sos> die sein $x(t)$ word geanaliseer deur 'n spektrogram te gebruik met die doel om die onmiddelike frekwensie elke 2 ms te bepaal , met 'n frekwensieresolusie van 200 hz en volle hooflob skeiding <eos>\n",
      "BLEU Score: [0.273, 0.159, 0.107, 0.0]\n"
     ]
    },
    {
     "name": "stderr",
     "output_type": "stream",
     "text": [
      "Epoch 49/50: 100%|██████████| 20/20 [00:03<00:00,  5.06batch/s, loss=0.581]\n"
     ]
    },
    {
     "name": "stdout",
     "output_type": "stream",
     "text": [
      "Predicted: <sos> die sein $x(t)$ bestaan uit 'n sinusgolf met 'n onmiddelike frekwensie wat line\\^er verander van $0$ hz to $20$ khz binne 2 sekondes , en dan weer terugdaal na 0 hz in die volgende 2 sekondes <eos>\n",
      "BLEU Score: [0.315, 0.154, 0.097, 0.0]\n"
     ]
    },
    {
     "name": "stderr",
     "output_type": "stream",
     "text": [
      "Epoch 50/50: 100%|██████████| 20/20 [00:03<00:00,  5.16batch/s, loss=0.582]"
     ]
    },
    {
     "name": "stdout",
     "output_type": "stream",
     "text": [
      "Predicted: <sos> die outokorrelasie van die gevolglike sein $y[n]$ is as volg : <eos>\n",
      "BLEU Score: [0.294, 0.197, 0.139, 0.09]\n"
     ]
    },
    {
     "name": "stderr",
     "output_type": "stream",
     "text": [
      "\n"
     ]
    }
   ],
   "source": [
    "EPOCHS = 50\n",
    "params = {\n",
    "    \"model\": model,\n",
    "    \"train_loader\": train_loader,\n",
    "    \"optimizer\": optimizer,\n",
    "    \"criterion\": criterion,\n",
    "    \"device\": device,\n",
    "    \"epochs\": EPOCHS,\n",
    "    \"source_test\": mytext,\n",
    "    \"reference\": ground,\n",
    "    \"translator\": translator\n",
    "}\n",
    "\n",
    "train_loss = train_model(**params)\n",
    "np.save('rnn_train_loss.npy', np.array(train_loss))"
   ]
  },
  {
   "cell_type": "markdown",
   "id": "f4bfc9b5",
   "metadata": {},
   "source": [
    "## Evauate on the Training set"
   ]
  },
  {
   "cell_type": "code",
   "execution_count": 8,
   "id": "798fe0ad",
   "metadata": {
    "ExecuteTime": {
     "end_time": "2024-07-19T16:02:50.171713Z",
     "start_time": "2024-07-19T16:01:44.606723Z"
    }
   },
   "outputs": [
    {
     "name": "stderr",
     "output_type": "stream",
     "text": [
      "Using the latest cached version of the module from /Users/lucien/.cache/huggingface/modules/evaluate_modules/metrics/evaluate-metric--bleu/9e0985c1200e367cce45605ce0ecb5ede079894e0f24f54613fca08eeb8aff76 (last modified on Thu Jul 18 16:29:52 2024) since it couldn't be found locally at evaluate-metric--bleu, or remotely on the Hugging Face Hub.\n"
     ]
    },
    {
     "name": "stdout",
     "output_type": "stream",
     "text": [
      "                                     BLEU-1                                     \n",
      "------------------------------------------------------------------------------------------\n",
      "bleu                : 0.3215478944083416\n",
      "precisions          : [0.3215478944083416]\n",
      "brevity_penalty     : 1.0\n",
      "length_ratio        : 1.4775414994032765\n",
      "translation_length  : 54474\n",
      "reference_length    : 36868\n",
      "******************************************************************************************\n",
      "                                     BLEU-2                                     \n",
      "------------------------------------------------------------------------------------------\n",
      "bleu                : 0.2552612649659279\n",
      "precisions          : [0.3215478944083416, 0.20263952750149097]\n",
      "brevity_penalty     : 1.0\n",
      "length_ratio        : 1.4775414994032765\n",
      "translation_length  : 54474\n",
      "reference_length    : 36868\n",
      "******************************************************************************************\n",
      "                                     BLEU-3                                     \n",
      "------------------------------------------------------------------------------------------\n",
      "bleu                : 0.19163915555260538\n",
      "precisions          : [0.3215478944083416, 0.20263952750149097, 0.10801471182604479]\n",
      "brevity_penalty     : 1.0\n",
      "length_ratio        : 1.4775414994032765\n",
      "translation_length  : 54474\n",
      "reference_length    : 36868\n",
      "******************************************************************************************\n",
      "                                     BLEU-4                                     \n",
      "------------------------------------------------------------------------------------------\n",
      "bleu                : 0.08166824971419998\n",
      "precisions          : [0.3215478944083416, 0.20263952750149097, 0.10801471182604479, 0.006320628232139437]\n",
      "brevity_penalty     : 1.0\n",
      "length_ratio        : 1.4775414994032765\n",
      "translation_length  : 54474\n",
      "reference_length    : 36868\n",
      "******************************************************************************************\n"
     ]
    }
   ],
   "source": [
    "EN_SRC = [' '.join(sent) for sent in english_data.data_str]\n",
    "AF_REF = [[' '.join(sent)] for sent in afrikaans_data.data_str]\n",
    "TRANSLATED = [translator.translate_sentence(sent) for sent in EN_SRC]\n",
    "corpus_bleu(TRANSLATED, AF_REF)"
   ]
  },
  {
   "cell_type": "markdown",
   "id": "d2cc6ed3",
   "metadata": {},
   "source": [
    "## Evaluate on the Test set"
   ]
  },
  {
   "cell_type": "code",
   "execution_count": 9,
   "id": "7bccda3561c7cc9",
   "metadata": {
    "ExecuteTime": {
     "end_time": "2024-07-19T16:02:50.175725Z",
     "start_time": "2024-07-19T16:02:50.172603Z"
    }
   },
   "outputs": [],
   "source": [
    "with open(f\"{config.VAL_DATA}/english.txt\") as data:\n",
    "    english_val = data.read().strip().split(\"\\n\")\n",
    "with open(f\"{config.VAL_DATA}/afrikaans.txt\") as data:\n",
    "    afrikaans_val = data.read().strip().split(\"\\n\")"
   ]
  },
  {
   "cell_type": "markdown",
   "id": "de0ea7b89f9add91",
   "metadata": {},
   "source": [
    "### Greedy Search"
   ]
  },
  {
   "cell_type": "code",
   "execution_count": 10,
   "id": "61b64fb6",
   "metadata": {
    "ExecuteTime": {
     "end_time": "2024-07-19T16:03:18.709958Z",
     "start_time": "2024-07-19T16:02:50.177783Z"
    }
   },
   "outputs": [
    {
     "name": "stderr",
     "output_type": "stream",
     "text": [
      "Using the latest cached version of the module from /Users/lucien/.cache/huggingface/modules/evaluate_modules/metrics/evaluate-metric--bleu/9e0985c1200e367cce45605ce0ecb5ede079894e0f24f54613fca08eeb8aff76 (last modified on Thu Jul 18 16:29:52 2024) since it couldn't be found locally at evaluate-metric--bleu, or remotely on the Hugging Face Hub.\n"
     ]
    },
    {
     "name": "stdout",
     "output_type": "stream",
     "text": [
      "                                     BLEU-1                                     \n",
      "------------------------------------------------------------------------------------------\n",
      "bleu                : 0.3112674832768656\n",
      "precisions          : [0.3112674832768656]\n",
      "brevity_penalty     : 1.0\n",
      "length_ratio        : 1.5712530712530712\n",
      "translation_length  : 23022\n",
      "reference_length    : 14652\n",
      "******************************************************************************************\n",
      "                                     BLEU-2                                     \n",
      "------------------------------------------------------------------------------------------\n",
      "bleu                : 0.24842503117684694\n",
      "precisions          : [0.3112674832768656, 0.1982699749601639]\n",
      "brevity_penalty     : 1.0\n",
      "length_ratio        : 1.5712530712530712\n",
      "translation_length  : 23022\n",
      "reference_length    : 14652\n",
      "******************************************************************************************\n",
      "                                     BLEU-3                                     \n",
      "------------------------------------------------------------------------------------------\n",
      "bleu                : 0.18639672575499586\n",
      "precisions          : [0.3112674832768656, 0.1982699749601639, 0.10493590969963651]\n",
      "brevity_penalty     : 1.0\n",
      "length_ratio        : 1.5712530712530712\n",
      "translation_length  : 23022\n",
      "reference_length    : 14652\n",
      "******************************************************************************************\n",
      "                                     BLEU-4                                     \n",
      "------------------------------------------------------------------------------------------\n",
      "bleu                : 0.07147523778624408\n",
      "precisions          : [0.3112674832768656, 0.1982699749601639, 0.10493590969963651, 0.004030023676389099]\n",
      "brevity_penalty     : 1.0\n",
      "length_ratio        : 1.5712530712530712\n",
      "translation_length  : 23022\n",
      "reference_length    : 14652\n",
      "******************************************************************************************\n"
     ]
    }
   ],
   "source": [
    "VAL_AF_REF = [[sent] for sent in afrikaans_val]\n",
    "VAL_TRANSLATED = [translator.translate_sentence(sent) for sent in english_val]\n",
    "\n",
    "corpus_bleu(VAL_TRANSLATED, VAL_AF_REF)"
   ]
  },
  {
   "cell_type": "markdown",
   "id": "27701d9e8ea38687",
   "metadata": {},
   "source": [
    "### Beam search"
   ]
  },
  {
   "cell_type": "code",
   "execution_count": 11,
   "id": "e69185237c45264d",
   "metadata": {
    "ExecuteTime": {
     "end_time": "2024-07-19T16:07:32.120319Z",
     "start_time": "2024-07-19T16:03:18.710594Z"
    }
   },
   "outputs": [
    {
     "name": "stderr",
     "output_type": "stream",
     "text": [
      "Using the latest cached version of the module from /Users/lucien/.cache/huggingface/modules/evaluate_modules/metrics/evaluate-metric--bleu/9e0985c1200e367cce45605ce0ecb5ede079894e0f24f54613fca08eeb8aff76 (last modified on Thu Jul 18 16:29:52 2024) since it couldn't be found locally at evaluate-metric--bleu, or remotely on the Hugging Face Hub.\n"
     ]
    },
    {
     "name": "stdout",
     "output_type": "stream",
     "text": [
      "                                     BLEU-1                                     \n",
      "------------------------------------------------------------------------------------------\n",
      "bleu                : 0.2312174559880982\n",
      "precisions          : [0.2312174559880982]\n",
      "brevity_penalty     : 1.0\n",
      "length_ratio        : 2.202020202020202\n",
      "translation_length  : 32264\n",
      "reference_length    : 14652\n",
      "******************************************************************************************\n",
      "                                     BLEU-2                                     \n",
      "------------------------------------------------------------------------------------------\n",
      "bleu                : 0.17975349452155265\n",
      "precisions          : [0.2312174559880982, 0.13974428814048132]\n",
      "brevity_penalty     : 1.0\n",
      "length_ratio        : 2.202020202020202\n",
      "translation_length  : 32264\n",
      "reference_length    : 14652\n",
      "******************************************************************************************\n",
      "                                     BLEU-3                                     \n",
      "------------------------------------------------------------------------------------------\n",
      "bleu                : 0.1330753240402164\n",
      "precisions          : [0.2312174559880982, 0.13974428814048132, 0.07293532338308457]\n",
      "brevity_penalty     : 1.0\n",
      "length_ratio        : 2.202020202020202\n",
      "translation_length  : 32264\n",
      "reference_length    : 14652\n",
      "******************************************************************************************\n",
      "                                     BLEU-4                                     \n",
      "------------------------------------------------------------------------------------------\n",
      "bleu                : 0.05076676450866844\n",
      "precisions          : [0.2312174559880982, 0.13974428814048132, 0.07293532338308457, 0.00281854741690441]\n",
      "brevity_penalty     : 1.0\n",
      "length_ratio        : 2.202020202020202\n",
      "translation_length  : 32264\n",
      "reference_length    : 14652\n",
      "******************************************************************************************\n"
     ]
    }
   ],
   "source": [
    "VAL_TRANSLATED = [translator.translate_sentence(sent, method=\"beam\", beam_width=3) for sent in english_val]\n",
    "corpus_bleu(VAL_TRANSLATED, VAL_AF_REF)"
   ]
  },
  {
   "cell_type": "markdown",
   "id": "1b0ff51e2f68a4b7",
   "metadata": {},
   "source": [
    "## Evaluate on the SUN validation set only"
   ]
  },
  {
   "cell_type": "code",
   "execution_count": 12,
   "id": "bc72e734a881f3e6",
   "metadata": {
    "ExecuteTime": {
     "end_time": "2024-07-19T16:07:32.124221Z",
     "start_time": "2024-07-19T16:07:32.121025Z"
    }
   },
   "outputs": [],
   "source": [
    "with open(f\"{config.VAL_DATA}/sun_english.txt\") as data:\n",
    "    sun_english_val = data.read().strip().split(\"\\n\")\n",
    "with open(f\"{config.VAL_DATA}/sun_afrikaans.txt\") as data:\n",
    "    sun_afrikaans_val = data.read().strip().split(\"\\n\")"
   ]
  },
  {
   "cell_type": "markdown",
   "id": "65efe1d3e5cabda6",
   "metadata": {},
   "source": [
    "### Greedy Search"
   ]
  },
  {
   "cell_type": "code",
   "execution_count": 13,
   "id": "da8e61dc585a4a8e",
   "metadata": {
    "ExecuteTime": {
     "end_time": "2024-07-19T16:07:38.435388Z",
     "start_time": "2024-07-19T16:07:32.124799Z"
    }
   },
   "outputs": [
    {
     "name": "stderr",
     "output_type": "stream",
     "text": [
      "Using the latest cached version of the module from /Users/lucien/.cache/huggingface/modules/evaluate_modules/metrics/evaluate-metric--bleu/9e0985c1200e367cce45605ce0ecb5ede079894e0f24f54613fca08eeb8aff76 (last modified on Thu Jul 18 16:29:52 2024) since it couldn't be found locally at evaluate-metric--bleu, or remotely on the Hugging Face Hub.\n"
     ]
    },
    {
     "name": "stdout",
     "output_type": "stream",
     "text": [
      "                                     BLEU-1                                     \n",
      "------------------------------------------------------------------------------------------\n",
      "bleu                : 0.3702854230377166\n",
      "precisions          : [0.3702854230377166]\n",
      "brevity_penalty     : 1.0\n",
      "length_ratio        : 1.02884111169376\n",
      "translation_length  : 3924\n",
      "reference_length    : 3814\n",
      "******************************************************************************************\n",
      "                                     BLEU-2                                     \n",
      "------------------------------------------------------------------------------------------\n",
      "bleu                : 0.2815351820871814\n",
      "precisions          : [0.3702854230377166, 0.2140566541956173]\n",
      "brevity_penalty     : 1.0\n",
      "length_ratio        : 1.02884111169376\n",
      "translation_length  : 3924\n",
      "reference_length    : 3814\n",
      "******************************************************************************************\n",
      "                                     BLEU-3                                     \n",
      "------------------------------------------------------------------------------------------\n",
      "bleu                : 0.20658724886366522\n",
      "precisions          : [0.3702854230377166, 0.2140566541956173, 0.11123595505617978]\n",
      "brevity_penalty     : 1.0\n",
      "length_ratio        : 1.02884111169376\n",
      "translation_length  : 3924\n",
      "reference_length    : 3814\n",
      "******************************************************************************************\n",
      "                                     BLEU-4                                     \n",
      "------------------------------------------------------------------------------------------\n",
      "bleu                : 0.09559831056357487\n",
      "precisions          : [0.3702854230377166, 0.2140566541956173, 0.11123595505617978, 0.009473060982830076]\n",
      "brevity_penalty     : 1.0\n",
      "length_ratio        : 1.02884111169376\n",
      "translation_length  : 3924\n",
      "reference_length    : 3814\n",
      "******************************************************************************************\n"
     ]
    }
   ],
   "source": [
    "SUN_VAL_AF = [[sent] for sent in sun_afrikaans_val]\n",
    "SUN_VAL_TRANSLATED = [translator.translate_sentence(sent) for sent in sun_english_val]\n",
    "corpus_bleu(SUN_VAL_TRANSLATED, SUN_VAL_AF)"
   ]
  },
  {
   "cell_type": "markdown",
   "id": "55bc55d38120c8bd",
   "metadata": {},
   "source": [
    "### Beam Search"
   ]
  },
  {
   "cell_type": "code",
   "execution_count": 14,
   "id": "42aea58fffea3b74",
   "metadata": {
    "ExecuteTime": {
     "end_time": "2024-07-19T16:08:57.811028Z",
     "start_time": "2024-07-19T16:07:38.436105Z"
    }
   },
   "outputs": [
    {
     "name": "stderr",
     "output_type": "stream",
     "text": [
      "Using the latest cached version of the module from /Users/lucien/.cache/huggingface/modules/evaluate_modules/metrics/evaluate-metric--bleu/9e0985c1200e367cce45605ce0ecb5ede079894e0f24f54613fca08eeb8aff76 (last modified on Thu Jul 18 16:29:52 2024) since it couldn't be found locally at evaluate-metric--bleu, or remotely on the Hugging Face Hub.\n"
     ]
    },
    {
     "name": "stdout",
     "output_type": "stream",
     "text": [
      "                                     BLEU-1                                     \n",
      "------------------------------------------------------------------------------------------\n",
      "bleu                : 0.28151408450704224\n",
      "precisions          : [0.28151408450704224]\n",
      "brevity_penalty     : 1.0\n",
      "length_ratio        : 1.4892501310959623\n",
      "translation_length  : 5680\n",
      "reference_length    : 3814\n",
      "******************************************************************************************\n",
      "                                     BLEU-2                                     \n",
      "------------------------------------------------------------------------------------------\n",
      "bleu                : 0.20377838845105983\n",
      "precisions          : [0.28151408450704224, 0.14750818479447073]\n",
      "brevity_penalty     : 1.0\n",
      "length_ratio        : 1.4892501310959623\n",
      "translation_length  : 5680\n",
      "reference_length    : 3814\n",
      "******************************************************************************************\n",
      "                                     BLEU-3                                     \n",
      "------------------------------------------------------------------------------------------\n",
      "bleu                : 0.14964522223335083\n",
      "precisions          : [0.28151408450704224, 0.14750818479447073, 0.0806997742663657]\n",
      "brevity_penalty     : 1.0\n",
      "length_ratio        : 1.4892501310959623\n",
      "translation_length  : 5680\n",
      "reference_length    : 3814\n",
      "******************************************************************************************\n",
      "                                     BLEU-4                                     \n",
      "------------------------------------------------------------------------------------------\n",
      "bleu                : 0.08007893947685166\n",
      "precisions          : [0.28151408450704224, 0.14750818479447073, 0.0806997742663657, 0.012271133619010518]\n",
      "brevity_penalty     : 1.0\n",
      "length_ratio        : 1.4892501310959623\n",
      "translation_length  : 5680\n",
      "reference_length    : 3814\n",
      "******************************************************************************************\n"
     ]
    }
   ],
   "source": [
    "SUN_VAL_TRANSLATED = [translator.translate_sentence(sent, method=\"beam\", beam_width=3) for sent in sun_english_val]\n",
    "corpus_bleu(SUN_VAL_TRANSLATED, SUN_VAL_AF)"
   ]
  },
  {
   "cell_type": "code",
   "execution_count": 15,
   "id": "59864a40",
   "metadata": {
    "ExecuteTime": {
     "end_time": "2024-07-19T16:09:01.105207Z",
     "start_time": "2024-07-19T16:08:57.811835Z"
    }
   },
   "outputs": [
    {
     "name": "stderr",
     "output_type": "stream",
     "text": [
      "Using the latest cached version of the module from /Users/lucien/.cache/huggingface/modules/evaluate_modules/metrics/evaluate-metric--bleu/9e0985c1200e367cce45605ce0ecb5ede079894e0f24f54613fca08eeb8aff76 (last modified on Thu Jul 18 16:29:52 2024) since it couldn't be found locally at evaluate-metric--bleu, or remotely on the Hugging Face Hub.\n"
     ]
    },
    {
     "name": "stdout",
     "output_type": "stream",
     "text": [
      "Source    : <sos> component <eos>\n",
      "Prediction: <sos> wat is die effek as die pole te naby aan die eenheidssirkel geplaas word <eos>\n",
      "Label     : <sos> komponent <eos>\n",
      "BLEU      : 0.0\n",
      "\n",
      "Source    : <sos> architecture <eos>\n",
      "Prediction: <sos> wat is die effek as die pole te naby aan die eenheidssirkel geplaas word <eos>\n",
      "Label     : <sos> argitektuur <eos>\n",
      "BLEU      : 0.0\n",
      "\n",
      "Source    : <sos> specification <eos>\n",
      "Prediction: <sos> wat is die effek as die pole te naby aan die eenheidssirkel geplaas word <eos>\n",
      "Label     : <sos> spesifikasies <eos>\n",
      "BLEU      : 0.0\n",
      "\n",
      "Source    : <sos> at which stage of the design process would we choose the communication protocol between subsystems <eos>\n",
      "Prediction: <sos> die sein $x(t)$ word geanaliseer deur 'n spektrogram te gebruik met die doel om die onmiddelike frekwensie elke 2 ms te bepaal , met 'n frekwens\n",
      "Label     : <sos> by watter stap van die ontwerpsproses word die kommunikasie-kanaal tussen substelsels gekies <eos>\n",
      "BLEU      : 0.0\n",
      "\n",
      "Source    : <sos> motivate your answer <eos>\n",
      "Prediction: <sos> wat is die verskil in die onderliggende aannames wat in pca en t-sne gemaak word wanneer data na twee of drie dimensies afgeprojekteer word vir \n",
      "Label     : <sos> motiveer jou antwoord <eos>\n",
      "BLEU      : 0.0\n",
      "\n",
      "Source    : <sos> describe the meaning if a system is described as a cyber-physical system <eos>\n",
      "Prediction: <sos> die sein $x(t)$ word geanaliseer deur 'n spektrogram te gebruik met die doel om die onmiddelike frekwensie elke 2 ms te bepaal , met 'n frekwens\n",
      "Label     : <sos> wat is die betekenis as 'n stelsel beskryf word as 'n kuber-fisiese stelsel <eos>\n",
      "BLEU      : 0.0\n",
      "\n",
      "Source    : <sos> extract four requirements of a standard cansat mission by using the description below : <eos>\n",
      "Prediction: <sos> die sein $x(t)$ word geanaliseer deur 'n spektrogram te gebruik met die doel om die onmiddelike frekwensie elke 2 ms te bepaal , met 'n frekwens\n",
      "Label     : <sos> ontrek vier vereistes van 'n standaard cansat missie deur gebruik te maak van die onderstaande beskrywing : <eos>\n",
      "BLEU      : 0.0\n",
      "\n",
      "Source    : <sos> the cansat will be built by the final year cs414 class <eos>\n",
      "Prediction: <sos> die sein $x(t)$ word geanaliseer deur 'n spektrogram te gebruik met die doel om die onmiddelike frekwensie elke 2 ms te bepaal , met 'n frekwens\n",
      "Label     : <sos> die cansat word gebou deur die finale jaar rs414 klas <eos>\n",
      "BLEU      : 0.08237287895620479\n",
      "\n",
      "Source    : <sos> the cansat is launched from a rocket and its mission time must be maximised <eos>\n",
      "Prediction: <sos> die sein $x(t)$ word geanaliseer deur 'n spektrogram te gebruik met die doel om die onmiddelike frekwensie elke 2 ms te bepaal , met 'n frekwens\n",
      "Label     : <sos> die cansat word gelanseer deur 'n vuurpyl en die missie moet so lank duur as moontlik <eos>\n",
      "BLEU      : 0.0902349678619119\n",
      "\n",
      "Source    : <sos> a ground station will receive the necessary information to track the movement of the cansat <eos>\n",
      "Prediction: <sos> die sein $x(t)$ word geanaliseer deur 'n spektrogram te gebruik met die doel om die onmiddelike frekwensie elke 2 ms te bepaal , met 'n frekwens\n",
      "Label     : <sos> 'n grondstasie sal die nodige inligting ontvang om die beweging van die cansat te bepaal <eos>\n",
      "BLEU      : 0.0\n",
      "\n"
     ]
    }
   ],
   "source": [
    "metric = evaluate.load(\"bleu\")\n",
    "predictions = [translator.translate_sentence(sent, method=\"beam\", beam_width=5) for sent in sun_english_val[10:20]]\n",
    "labels = SUN_VAL_AF[10:20]\n",
    "for source, pred, lab in zip(sun_english_val[10:20],predictions, labels):\n",
    "    print(f\"Source    : {source}\")\n",
    "    print(f\"Prediction: {pred[:150]}\")\n",
    "    print(f\"Label     : {lab[0][:150]}\")\n",
    "    print(f\"BLEU      : {metric.compute(predictions=[pred], references=lab)['bleu']}\")\n",
    "    print()"
   ]
  }
 ],
 "metadata": {
  "kernelspec": {
   "display_name": "Python 3 (ipykernel)",
   "language": "python",
   "name": "python3"
  },
  "language_info": {
   "codemirror_mode": {
    "name": "ipython",
    "version": 3
   },
   "file_extension": ".py",
   "mimetype": "text/x-python",
   "name": "python",
   "nbconvert_exporter": "python",
   "pygments_lexer": "ipython3",
   "version": "3.10.14"
  }
 },
 "nbformat": 4,
 "nbformat_minor": 5
}
