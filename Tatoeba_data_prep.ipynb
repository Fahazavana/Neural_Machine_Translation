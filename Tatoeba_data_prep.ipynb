{
 "cells": [
  {
   "metadata": {},
   "cell_type": "markdown",
   "source": "Preparing the data from https://tatoeba.org/en/downloads, dowladen on 16/07/2024",
   "id": "930d50338ce76787"
  },
  {
   "metadata": {
    "ExecuteTime": {
     "end_time": "2024-07-16T14:36:21.014972Z",
     "start_time": "2024-07-16T14:36:21.011759Z"
    }
   },
   "cell_type": "code",
   "source": "import pandas as pd",
   "id": "a67ec9bd27fe7748",
   "outputs": [],
   "execution_count": 15
  },
  {
   "metadata": {
    "ExecuteTime": {
     "end_time": "2024-07-16T14:36:21.354075Z",
     "start_time": "2024-07-16T14:36:21.346800Z"
    }
   },
   "cell_type": "code",
   "source": "data = pd.read_csv('./data/train/Sentence pairs in English-Afrikaans - 2024-07-16.tsv', sep='\\t')",
   "id": "5f4257bf3ffc9c11",
   "outputs": [],
   "execution_count": 16
  },
  {
   "metadata": {
    "ExecuteTime": {
     "end_time": "2024-07-16T14:36:21.625792Z",
     "start_time": "2024-07-16T14:36:21.622672Z"
    }
   },
   "cell_type": "code",
   "source": [
    "columns = list(data.columns)\n",
    "en = columns[1]\n",
    "af = columns[3]"
   ],
   "id": "77198492d5bfa2c7",
   "outputs": [],
   "execution_count": 17
  },
  {
   "metadata": {
    "ExecuteTime": {
     "end_time": "2024-07-16T14:36:21.939448Z",
     "start_time": "2024-07-16T14:36:21.926647Z"
    }
   },
   "cell_type": "code",
   "source": [
    "data[en].to_csv(\"./data/train/tatoeba.en.txt\", index=False)\n",
    "data[af].to_csv(\"./data/train/tatoeba.af.txt\", index=False)"
   ],
   "id": "54bf20d875c9076e",
   "outputs": [],
   "execution_count": 18
  },
  {
   "metadata": {},
   "cell_type": "code",
   "outputs": [],
   "execution_count": null,
   "source": "",
   "id": "ba0ca330e8af927b"
  }
 ],
 "metadata": {
  "kernelspec": {
   "display_name": "Python 3",
   "language": "python",
   "name": "python3"
  },
  "language_info": {
   "codemirror_mode": {
    "name": "ipython",
    "version": 2
   },
   "file_extension": ".py",
   "mimetype": "text/x-python",
   "name": "python",
   "nbconvert_exporter": "python",
   "pygments_lexer": "ipython2",
   "version": "2.7.6"
  }
 },
 "nbformat": 4,
 "nbformat_minor": 5
}
