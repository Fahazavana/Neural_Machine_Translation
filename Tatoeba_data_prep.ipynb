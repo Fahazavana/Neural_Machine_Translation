{
 "cells": [
  {
   "cell_type": "markdown",
   "id": "930d50338ce76787",
   "metadata": {},
   "source": [
    "Preparing the data from https://tatoeba.org/en/downloads, dowladen on 16/07/2024"
   ]
  },
  {
   "cell_type": "code",
   "execution_count": 1,
   "id": "a67ec9bd27fe7748",
   "metadata": {
    "ExecuteTime": {
     "end_time": "2024-07-16T14:36:21.014972Z",
     "start_time": "2024-07-16T14:36:21.011759Z"
    }
   },
   "outputs": [],
   "source": [
    "import pandas as pd\n",
    "import os\n",
    "import random"
   ]
  },
  {
   "cell_type": "code",
   "execution_count": 2,
   "id": "5f4257bf3ffc9c11",
   "metadata": {
    "ExecuteTime": {
     "end_time": "2024-07-16T14:36:21.354075Z",
     "start_time": "2024-07-16T14:36:21.346800Z"
    }
   },
   "outputs": [],
   "source": [
    "data = pd.read_csv('./data/train/Sentence pairs in English-Afrikaans - 2024-07-16.tsv', sep='\\t')"
   ]
  },
  {
   "cell_type": "code",
   "execution_count": 3,
   "id": "77198492d5bfa2c7",
   "metadata": {
    "ExecuteTime": {
     "end_time": "2024-07-16T14:36:21.625792Z",
     "start_time": "2024-07-16T14:36:21.622672Z"
    }
   },
   "outputs": [],
   "source": [
    "columns = list(data.columns)\n",
    "en = columns[1]\n",
    "af = columns[3]"
   ]
  },
  {
   "cell_type": "code",
   "execution_count": 4,
   "id": "54bf20d875c9076e",
   "metadata": {
    "ExecuteTime": {
     "end_time": "2024-07-16T14:36:21.939448Z",
     "start_time": "2024-07-16T14:36:21.926647Z"
    }
   },
   "outputs": [],
   "source": [
    "data[en].to_csv(\"./data/train/tatoeba.en.txt\", index=False)\n",
    "data[af].to_csv(\"./data/train/tatoeba.af.txt\", index=False)"
   ]
  },
  {
   "cell_type": "code",
   "execution_count": 5,
   "id": "43c5cfc90711238a",
   "metadata": {},
   "outputs": [
    {
     "name": "stdout",
     "output_type": "stream",
     "text": [
      "Files have been split successfully!\n"
     ]
    }
   ],
   "source": [
    "en_train_path = \"./data/train/tatoeba.en.txt\"\n",
    "af_train_path = \"./data/train/tatoeba.af.txt\"\n",
    "\n",
    "# Load the data from the files into lists\n",
    "with open(en_train_path, \"r\") as en_train, open(af_train_path, \"r\") as af_train:\n",
    "    en_train_data = en_train.readlines()\n",
    "    af_train_data = af_train.readlines()\n",
    "\n",
    "# Ensure the two files have the same number of lines\n",
    "assert len(en_train_data) == len(af_train_data), \"The two files must have the same number of lines.\"\n",
    "\n",
    "# Shuffle the data while maintaining the parallel structure\n",
    "combined_data = list(zip(en_train_data, af_train_data))\n",
    "random.shuffle(combined_data)\n",
    "en_data, af_data = zip(*combined_data)\n",
    "\n",
    "# Split the data into training and validation sets\n",
    "train_size = int(0.7 * len(en_train_data))  # 70% for training, 30% for validation\n",
    "en_train_data, en_val_data = en_data[:train_size], en_data[train_size:]\n",
    "af_train_data, af_val_data = af_data[:train_size], af_data[train_size:]\n",
    "\n",
    "# Save the training and validation sets to new files\n",
    "en_train_path = \"./data/train/train_tatoeba.en.txt\"\n",
    "af_train_path = \"./data/train/train_tatoeba.af.txt\"\n",
    "en_val_path = \"./data/val/val_tatoeba.en.txt\"\n",
    "af_val_path = \"./data/val/val_tatoeba.af.txt\"\n",
    "\n",
    "with open(en_train_path, \"w\") as en_train_file, open(af_train_path, \"w\") as af_train_file, \\\n",
    "     open(en_val_path, \"w\") as en_val_file, open(af_val_path, \"w\") as af_val_file:\n",
    "    for en_train_data, af_train_data in zip(en_train_data, af_train_data):\n",
    "        en_train_file.write(en_train_data)\n",
    "        af_train_file.write(af_train_data)\n",
    "    for en_val_data, af_val_data in zip(en_val_data, af_val_data):\n",
    "        en_val_file.write(en_val_data)\n",
    "        af_val_file.write(af_val_data)\n",
    "\n",
    "print(\"Files have been split successfully!\")"
   ]
  },
  {
   "cell_type": "code",
   "execution_count": 5,
   "id": "0bfd730d",
   "metadata": {},
   "outputs": [],
   "source": [
    "from src.utils import load_config\n",
    "from src.Normalizer import preprocess_data\n",
    "config = load_config(\"config_val_sun_only.json\")"
   ]
  },
  {
   "cell_type": "code",
   "execution_count": 6,
   "id": "fe171156",
   "metadata": {},
   "outputs": [
    {
     "name": "stdout",
     "output_type": "stream",
     "text": [
      "Done for sun_english!\n",
      "Done for sun_afrikaans!\n"
     ]
    }
   ],
   "source": [
    "preprocess_data(config.VAL_RAW, config.VAL_DATA, config.VAL_SOURCE, \"sun_english\")\n",
    "preprocess_data(config.VAL_RAW, config.VAL_DATA, config.VAL_TARGET, \"sun_afrikaans\")"
   ]
  },
  {
   "cell_type": "code",
   "execution_count": null,
   "id": "dc6ebe35",
   "metadata": {},
   "outputs": [],
   "source": []
  }
 ],
 "metadata": {
  "kernelspec": {
   "display_name": "Python 3",
   "language": "python",
   "name": "python3"
  },
  "language_info": {
   "codemirror_mode": {
    "name": "ipython",
    "version": 3
   },
   "file_extension": ".py",
   "mimetype": "text/x-python",
   "name": "python",
   "nbconvert_exporter": "python",
   "pygments_lexer": "ipython3",
   "version": "3.10.14"
  }
 },
 "nbformat": 4,
 "nbformat_minor": 5
}
