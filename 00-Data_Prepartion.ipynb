{
 "cells": [
  {
   "cell_type": "markdown",
   "id": "1c7427cf",
   "metadata": {},
   "source": [
    "# Data Preparation"
   ]
  },
  {
   "cell_type": "code",
   "execution_count": 10,
   "id": "a67ec9bd27fe7748",
   "metadata": {
    "ExecuteTime": {
     "end_time": "2024-07-16T14:36:21.014972Z",
     "start_time": "2024-07-16T14:36:21.011759Z"
    }
   },
   "outputs": [],
   "source": [
    "import pandas as pd\n",
    "from numpy import random\n",
    "import os\n",
    "from src.Normalizer import preprocess_data\n",
    "from src.utils import load_config"
   ]
  },
  {
   "cell_type": "markdown",
   "id": "94f7ece6",
   "metadata": {},
   "source": [
    "## Tatoeba Data Cleaning and splitting"
   ]
  },
  {
   "cell_type": "code",
   "execution_count": 11,
   "id": "5f4257bf3ffc9c11",
   "metadata": {
    "ExecuteTime": {
     "end_time": "2024-07-16T14:36:21.354075Z",
     "start_time": "2024-07-16T14:36:21.346800Z"
    }
   },
   "outputs": [],
   "source": [
    "## Preparing the data from https://tatoeba.org/en/downloads, dowladed on 16/07/2024\n",
    "## Read and covvert into two txt files\n",
    "data = pd.read_csv(\n",
    "    \"./data/train/Sentence pairs in English-Afrikaans - 2024-07-16.tsv\", sep=\"\\t\"\n",
    ")\n",
    "columns = list(data.columns)\n",
    "en = columns[1]\n",
    "af = columns[3]\n",
    "data[en].to_csv(\"./data/train/tatoeba.en.txt\", index=False)\n",
    "data[af].to_csv(\"./data/train/tatoeba.af.txt\", index=False)"
   ]
  },
  {
   "cell_type": "code",
   "execution_count": 12,
   "id": "43c5cfc90711238a",
   "metadata": {},
   "outputs": [
    {
     "name": "stdout",
     "output_type": "stream",
     "text": [
      "Files have been split successfully!\n"
     ]
    }
   ],
   "source": [
    "## Split into train and validation data\n",
    "en_train_path = \"./data/train/tatoeba.en.txt\"\n",
    "af_train_path = \"./data/train/tatoeba.af.txt\"\n",
    "\n",
    "\n",
    "with open(en_train_path, \"r\") as en_train, open(af_train_path, \"r\") as af_train:\n",
    "    en_train_data = en_train.readlines()\n",
    "    af_train_data = af_train.readlines()\n",
    "\n",
    "assert len(en_train_data) == len(\n",
    "    af_train_data\n",
    "), \"The two files must have the same number of lines.\"\n",
    "\n",
    "\n",
    "combined_data = list(zip(en_train_data, af_train_data))\n",
    "random.shuffle(combined_data)\n",
    "en_data, af_data = zip(*combined_data)\n",
    "\n",
    "train_size = int(0.7 * len(en_train_data))  # 70% for training, 30% for validation\n",
    "en_train_data, en_val_data = en_data[:train_size], en_data[train_size:]\n",
    "af_train_data, af_val_data = af_data[:train_size], af_data[train_size:]\n",
    "\n",
    "en_train_path = \"./data/train/train_tatoeba.en.txt\"\n",
    "af_train_path = \"./data/train/train_tatoeba.af.txt\"\n",
    "en_val_path = \"./data/val/val_tatoeba.en.txt\"\n",
    "af_val_path = \"./data/val/val_tatoeba.af.txt\"\n",
    "\n",
    "with open(en_train_path, \"w\") as en_train_file, open(\n",
    "    af_train_path, \"w\"\n",
    ") as af_train_file, open(en_val_path, \"w\") as en_val_file, open(\n",
    "    af_val_path, \"w\"\n",
    ") as af_val_file:\n",
    "    for en_train_data, af_train_data in zip(en_train_data, af_train_data):\n",
    "        en_train_file.write(en_train_data)\n",
    "        af_train_file.write(af_train_data)\n",
    "    for en_val_data, af_val_data in zip(en_val_data, af_val_data):\n",
    "        en_val_file.write(en_val_data)\n",
    "        af_val_file.write(af_val_data)\n",
    "\n",
    "print(\"Files have been split successfully!\")"
   ]
  },
  {
   "cell_type": "markdown",
   "id": "85db63f9",
   "metadata": {},
   "source": [
    "## Augmeneted data-set"
   ]
  },
  {
   "cell_type": "code",
   "execution_count": 13,
   "id": "73b6c4eb",
   "metadata": {},
   "outputs": [
    {
     "name": "stdout",
     "output_type": "stream",
     "text": [
      "Done for english!\n",
      "Done for afrikaans!\n",
      "Done for english!\n",
      "Done for afrikaans!\n"
     ]
    }
   ],
   "source": [
    "config = load_config()\n",
    "# TRAIN_DATA\n",
    "preprocess_data(config.TRAIN_RAW, config.TRAIN_DATA, config.TRAIN_SOURCE, \"english\")\n",
    "preprocess_data(config.TRAIN_RAW, config.TRAIN_DATA, config.TRAIN_TARGET, \"afrikaans\")\n",
    "\n",
    "# VAL_DATA\n",
    "preprocess_data(config.VAL_RAW, config.VAL_DATA, config.VAL_SOURCE, \"english\")\n",
    "preprocess_data(config.VAL_RAW, config.VAL_DATA, config.VAL_TARGET, \"afrikaans\")"
   ]
  },
  {
   "cell_type": "markdown",
   "id": "d7e87070",
   "metadata": {},
   "source": [
    "## SUN only validation data"
   ]
  },
  {
   "cell_type": "code",
   "execution_count": 14,
   "id": "0bfd730d",
   "metadata": {},
   "outputs": [
    {
     "name": "stdout",
     "output_type": "stream",
     "text": [
      "Done for sun_english!\n",
      "Done for sun_afrikaans!\n"
     ]
    }
   ],
   "source": [
    "config = load_config(\"config_val_sun_only.json\")\n",
    "preprocess_data(config.VAL_RAW, config.VAL_DATA, config.VAL_SOURCE, \"sun_english\")\n",
    "preprocess_data(config.VAL_RAW, config.VAL_DATA, config.VAL_TARGET, \"sun_afrikaans\")"
   ]
  }
 ],
 "metadata": {
  "kernelspec": {
   "display_name": "Python 3",
   "language": "python",
   "name": "python3"
  },
  "language_info": {
   "codemirror_mode": {
    "name": "ipython",
    "version": 3
   },
   "file_extension": ".py",
   "mimetype": "text/x-python",
   "name": "python",
   "nbconvert_exporter": "python",
   "pygments_lexer": "ipython3",
   "version": "3.10.14"
  }
 },
 "nbformat": 4,
 "nbformat_minor": 5
}
