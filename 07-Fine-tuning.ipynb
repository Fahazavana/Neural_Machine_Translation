{
 "cells": [
  {
   "cell_type": "markdown",
   "metadata": {},
   "source": [
    "# Fine-Tunning Helsinki-NLP/opus-en-af"
   ]
  },
  {
   "cell_type": "code",
   "execution_count": 1,
   "metadata": {
    "execution": {
     "iopub.execute_input": "2024-07-20T08:25:00.911092Z",
     "iopub.status.busy": "2024-07-20T08:25:00.910465Z",
     "iopub.status.idle": "2024-07-20T08:25:15.085529Z",
     "shell.execute_reply": "2024-07-20T08:25:15.084449Z",
     "shell.execute_reply.started": "2024-07-20T08:25:00.911057Z"
    }
   },
   "outputs": [
    {
     "name": "stdout",
     "output_type": "stream",
     "text": [
      "Collecting sacremoses\n",
      "  Downloading sacremoses-0.1.1-py3-none-any.whl.metadata (8.3 kB)\n",
      "Collecting evaluate\n",
      "  Downloading evaluate-0.4.2-py3-none-any.whl.metadata (9.3 kB)\n",
      "Requirement already satisfied: torchinfo in /opt/conda/lib/python3.10/site-packages (1.8.0)\n",
      "Requirement already satisfied: regex in /opt/conda/lib/python3.10/site-packages (from sacremoses) (2023.12.25)\n",
      "Requirement already satisfied: click in /opt/conda/lib/python3.10/site-packages (from sacremoses) (8.1.7)\n",
      "Requirement already satisfied: joblib in /opt/conda/lib/python3.10/site-packages (from sacremoses) (1.4.2)\n",
      "Requirement already satisfied: tqdm in /opt/conda/lib/python3.10/site-packages (from sacremoses) (4.66.4)\n",
      "Requirement already satisfied: datasets>=2.0.0 in /opt/conda/lib/python3.10/site-packages (from evaluate) (2.20.0)\n",
      "Requirement already satisfied: numpy>=1.17 in /opt/conda/lib/python3.10/site-packages (from evaluate) (1.26.4)\n",
      "Requirement already satisfied: dill in /opt/conda/lib/python3.10/site-packages (from evaluate) (0.3.8)\n",
      "Requirement already satisfied: pandas in /opt/conda/lib/python3.10/site-packages (from evaluate) (2.2.2)\n",
      "Requirement already satisfied: requests>=2.19.0 in /opt/conda/lib/python3.10/site-packages (from evaluate) (2.32.3)\n",
      "Requirement already satisfied: xxhash in /opt/conda/lib/python3.10/site-packages (from evaluate) (3.4.1)\n",
      "Requirement already satisfied: multiprocess in /opt/conda/lib/python3.10/site-packages (from evaluate) (0.70.16)\n",
      "Requirement already satisfied: fsspec>=2021.05.0 in /opt/conda/lib/python3.10/site-packages (from fsspec[http]>=2021.05.0->evaluate) (2024.5.0)\n",
      "Requirement already satisfied: huggingface-hub>=0.7.0 in /opt/conda/lib/python3.10/site-packages (from evaluate) (0.23.4)\n",
      "Requirement already satisfied: packaging in /opt/conda/lib/python3.10/site-packages (from evaluate) (21.3)\n",
      "Requirement already satisfied: filelock in /opt/conda/lib/python3.10/site-packages (from datasets>=2.0.0->evaluate) (3.13.1)\n",
      "Requirement already satisfied: pyarrow>=15.0.0 in /opt/conda/lib/python3.10/site-packages (from datasets>=2.0.0->evaluate) (16.1.0)\n",
      "Requirement already satisfied: pyarrow-hotfix in /opt/conda/lib/python3.10/site-packages (from datasets>=2.0.0->evaluate) (0.6)\n",
      "Requirement already satisfied: aiohttp in /opt/conda/lib/python3.10/site-packages (from datasets>=2.0.0->evaluate) (3.9.1)\n",
      "Requirement already satisfied: pyyaml>=5.1 in /opt/conda/lib/python3.10/site-packages (from datasets>=2.0.0->evaluate) (6.0.1)\n",
      "Requirement already satisfied: typing-extensions>=3.7.4.3 in /opt/conda/lib/python3.10/site-packages (from huggingface-hub>=0.7.0->evaluate) (4.9.0)\n",
      "Requirement already satisfied: pyparsing!=3.0.5,>=2.0.2 in /opt/conda/lib/python3.10/site-packages (from packaging->evaluate) (3.1.1)\n",
      "Requirement already satisfied: charset-normalizer<4,>=2 in /opt/conda/lib/python3.10/site-packages (from requests>=2.19.0->evaluate) (3.3.2)\n",
      "Requirement already satisfied: idna<4,>=2.5 in /opt/conda/lib/python3.10/site-packages (from requests>=2.19.0->evaluate) (3.6)\n",
      "Requirement already satisfied: urllib3<3,>=1.21.1 in /opt/conda/lib/python3.10/site-packages (from requests>=2.19.0->evaluate) (1.26.18)\n",
      "Requirement already satisfied: certifi>=2017.4.17 in /opt/conda/lib/python3.10/site-packages (from requests>=2.19.0->evaluate) (2024.7.4)\n",
      "Requirement already satisfied: python-dateutil>=2.8.2 in /opt/conda/lib/python3.10/site-packages (from pandas->evaluate) (2.9.0.post0)\n",
      "Requirement already satisfied: pytz>=2020.1 in /opt/conda/lib/python3.10/site-packages (from pandas->evaluate) (2023.3.post1)\n",
      "Requirement already satisfied: tzdata>=2022.7 in /opt/conda/lib/python3.10/site-packages (from pandas->evaluate) (2023.4)\n",
      "Requirement already satisfied: attrs>=17.3.0 in /opt/conda/lib/python3.10/site-packages (from aiohttp->datasets>=2.0.0->evaluate) (23.2.0)\n",
      "Requirement already satisfied: multidict<7.0,>=4.5 in /opt/conda/lib/python3.10/site-packages (from aiohttp->datasets>=2.0.0->evaluate) (6.0.4)\n",
      "Requirement already satisfied: yarl<2.0,>=1.0 in /opt/conda/lib/python3.10/site-packages (from aiohttp->datasets>=2.0.0->evaluate) (1.9.3)\n",
      "Requirement already satisfied: frozenlist>=1.1.1 in /opt/conda/lib/python3.10/site-packages (from aiohttp->datasets>=2.0.0->evaluate) (1.4.1)\n",
      "Requirement already satisfied: aiosignal>=1.1.2 in /opt/conda/lib/python3.10/site-packages (from aiohttp->datasets>=2.0.0->evaluate) (1.3.1)\n",
      "Requirement already satisfied: async-timeout<5.0,>=4.0 in /opt/conda/lib/python3.10/site-packages (from aiohttp->datasets>=2.0.0->evaluate) (4.0.3)\n",
      "Requirement already satisfied: six>=1.5 in /opt/conda/lib/python3.10/site-packages (from python-dateutil>=2.8.2->pandas->evaluate) (1.16.0)\n",
      "Downloading sacremoses-0.1.1-py3-none-any.whl (897 kB)\n",
      "\u001b[2K   \u001b[90m━━━━━━━━━━━━━━━━━━━━━━━━━━━━━━━━━━━━━━━━\u001b[0m \u001b[32m897.5/897.5 kB\u001b[0m \u001b[31m34.5 MB/s\u001b[0m eta \u001b[36m0:00:00\u001b[0m\n",
      "\u001b[?25hDownloading evaluate-0.4.2-py3-none-any.whl (84 kB)\n",
      "\u001b[2K   \u001b[90m━━━━━━━━━━━━━━━━━━━━━━━━━━━━━━━━━━━━━━━━\u001b[0m \u001b[32m84.1/84.1 kB\u001b[0m \u001b[31m5.9 MB/s\u001b[0m eta \u001b[36m0:00:00\u001b[0m\n",
      "\u001b[?25hInstalling collected packages: sacremoses, evaluate\n",
      "Successfully installed evaluate-0.4.2 sacremoses-0.1.1\n"
     ]
    }
   ],
   "source": [
    "!pip install sacremoses evaluate torchinfo"
   ]
  },
  {
   "cell_type": "markdown",
   "metadata": {},
   "source": [
    "## Required Modules"
   ]
  },
  {
   "cell_type": "code",
   "execution_count": 2,
   "metadata": {
    "execution": {
     "iopub.execute_input": "2024-07-20T08:25:15.087781Z",
     "iopub.status.busy": "2024-07-20T08:25:15.087473Z",
     "iopub.status.idle": "2024-07-20T08:25:32.251431Z",
     "shell.execute_reply": "2024-07-20T08:25:32.250590Z",
     "shell.execute_reply.started": "2024-07-20T08:25:15.087753Z"
    }
   },
   "outputs": [
    {
     "name": "stderr",
     "output_type": "stream",
     "text": [
      "2024-07-20 08:25:22.507198: E external/local_xla/xla/stream_executor/cuda/cuda_dnn.cc:9261] Unable to register cuDNN factory: Attempting to register factory for plugin cuDNN when one has already been registered\n",
      "2024-07-20 08:25:22.507301: E external/local_xla/xla/stream_executor/cuda/cuda_fft.cc:607] Unable to register cuFFT factory: Attempting to register factory for plugin cuFFT when one has already been registered\n",
      "2024-07-20 08:25:22.631380: E external/local_xla/xla/stream_executor/cuda/cuda_blas.cc:1515] Unable to register cuBLAS factory: Attempting to register factory for plugin cuBLAS when one has already been registered\n"
     ]
    }
   ],
   "source": [
    "import torch\n",
    "import numpy as np\n",
    "from transformers import AutoTokenizer, AutoModelForSeq2SeqLM\n",
    "from torch.utils.data import Dataset, DataLoader\n",
    "from torch.optim import AdamW\n",
    "from torch.nn import CrossEntropyLoss\n",
    "from tqdm import tqdm\n",
    "from torch.nn.utils.rnn import pad_sequence\n",
    "from torch.utils.data import Dataset, DataLoader\n",
    "from datasets import load_dataset\n",
    "import evaluate\n",
    "from torchinfo import summary\n",
    "import re"
   ]
  },
  {
   "cell_type": "markdown",
   "metadata": {},
   "source": [
    "## Dataset Path config"
   ]
  },
  {
   "cell_type": "code",
   "execution_count": 3,
   "metadata": {
    "execution": {
     "iopub.execute_input": "2024-07-20T08:25:32.256709Z",
     "iopub.status.busy": "2024-07-20T08:25:32.256435Z",
     "iopub.status.idle": "2024-07-20T08:25:32.262948Z",
     "shell.execute_reply": "2024-07-20T08:25:32.262071Z",
     "shell.execute_reply.started": "2024-07-20T08:25:32.256685Z"
    }
   },
   "outputs": [],
   "source": [
    "config = {\n",
    "  \"TRAIN_RAW\": \"/kaggle/input/sun-en-af/train\",\n",
    "  \"TRAIN_DATA\": \"/kaggle/working/train\",\n",
    "  \"VAL_RAW\": \"/kaggle/input/sun-en-af/val\",\n",
    "  \"VAL_DATA\": \"/kaggle/working/val\",\n",
    "\"TRAIN_SOURCE\": [\n",
    "  \"data414_2021_a1.en.txt\",\n",
    "  \"data414_2021_a2.en.txt\",\n",
    "  \"data414_2020_a1.en.txt\",\n",
    "  \"ss414_2018_a1.en.txt\",\n",
    "  \"ss414_2018_a2.en.txt\",\n",
    "  \"ss414_2018_a3.en.txt\",\n",
    "  \"ss414_2019_a1.en.txt\",\n",
    "  \"ss414_2019_a2.en.txt\",\n",
    "  \"ss414_2019_a3.en.txt\",\n",
    "],\n",
    "\"VAL_SOURCE\": [\n",
    "  \"compsys414_2017_a1.en.txt\",\n",
    "  \"compsys414_2017_a2.en.txt\",\n",
    "  \"compsys414_2017_a3.en.txt\"\n",
    "],\n",
    "  \"TRAIN_TARGET\": [\n",
    "    \"data414_2021_a1.af.txt\",\n",
    "    \"data414_2021_a2.af.txt\",\n",
    "    \"data414_2020_a1.af.txt\",\n",
    "    \"ss414_2018_a1.af.txt\",\n",
    "    \"ss414_2018_a2.af.txt\",\n",
    "    \"ss414_2018_a3.af.txt\",\n",
    "    \"ss414_2019_a1.af.txt\",\n",
    "    \"ss414_2019_a2.af.txt\",\n",
    "    \"ss414_2019_a3.af.txt\",\n",
    "  ],\n",
    "  \"VAL_TARGET\": [\n",
    "    \"compsys414_2017_a1.af.txt\",\n",
    "    \"compsys414_2017_a2.af.txt\",\n",
    "    \"compsys414_2017_a3.af.txt\"\n",
    "  ]\n",
    "}"
   ]
  },
  {
   "cell_type": "markdown",
   "metadata": {},
   "source": [
    "## Data Cleaning and custom dataset"
   ]
  },
  {
   "cell_type": "code",
   "execution_count": 4,
   "metadata": {
    "execution": {
     "iopub.execute_input": "2024-07-20T08:25:32.264201Z",
     "iopub.status.busy": "2024-07-20T08:25:32.263928Z",
     "iopub.status.idle": "2024-07-20T08:25:32.289769Z",
     "shell.execute_reply": "2024-07-20T08:25:32.288845Z",
     "shell.execute_reply.started": "2024-07-20T08:25:32.264178Z"
    }
   },
   "outputs": [],
   "source": [
    "def process_line(line):\n",
    "    pattern = r'\\$([^$]+)\\$'\n",
    "    new_text = \"\"\n",
    "    last_end = 0\n",
    "    for match in re.finditer(pattern, line):\n",
    "        start, end = match.span()\n",
    "        new_text += line[last_end:start] + \" $\" + match.group(1).replace(\" \", \"\") + \"$ \"\n",
    "        last_end = end\n",
    "\n",
    "    new_text += line[last_end:]\n",
    "    text = new_text\n",
    "    text = re.sub(r\"\\s{2,}\", \" \", text)\n",
    "    text = text.split()\n",
    "    return text\n",
    "\n",
    "def preprocess_data(train_raw_dir, train_data_dir, language_files, language_name):\n",
    "    with open(f\"{train_data_dir}/{language_name}.txt\", 'w+') as output_file:\n",
    "        for file_name in language_files:\n",
    "            with open(f\"{train_raw_dir}/{file_name}\") as input_file:\n",
    "                for line in input_file:\n",
    "                    line = line.strip()\n",
    "                    if len(line) > 0 and line[0] != \"%\":\n",
    "                        processed_line = process_line(line)\n",
    "                        output_file.write(\" \".join(processed_line) + \"\\n\")\n",
    "    print(f\"Done for {language_name}!\")\n"
   ]
  },
  {
   "cell_type": "code",
   "execution_count": 5,
   "metadata": {
    "execution": {
     "iopub.execute_input": "2024-07-20T08:25:32.294056Z",
     "iopub.status.busy": "2024-07-20T08:25:32.290926Z",
     "iopub.status.idle": "2024-07-20T08:25:32.439064Z",
     "shell.execute_reply": "2024-07-20T08:25:32.438093Z",
     "shell.execute_reply.started": "2024-07-20T08:25:32.294001Z"
    }
   },
   "outputs": [
    {
     "name": "stdout",
     "output_type": "stream",
     "text": [
      "Done for english!\n",
      "Done for afrikaans!\n",
      "Done for english!\n",
      "Done for afrikaans!\n"
     ]
    }
   ],
   "source": [
    "preprocess_data(config[\"TRAIN_RAW\"], config[\"TRAIN_DATA\"], config[\"TRAIN_SOURCE\"], \"english\")\n",
    "preprocess_data(config[\"TRAIN_RAW\"], config[\"TRAIN_DATA\"], config[\"TRAIN_TARGET\"], \"afrikaans\")\n",
    "\n",
    "preprocess_data(config[\"VAL_RAW\"], config[\"VAL_DATA\"], config[\"VAL_SOURCE\"], \"english\")\n",
    "preprocess_data(config[\"VAL_RAW\"], config[\"VAL_DATA\"], config[\"VAL_TARGET\"], \"afrikaans\")"
   ]
  },
  {
   "cell_type": "code",
   "execution_count": 6,
   "metadata": {
    "execution": {
     "iopub.execute_input": "2024-07-20T08:25:32.440821Z",
     "iopub.status.busy": "2024-07-20T08:25:32.440477Z",
     "iopub.status.idle": "2024-07-20T08:25:32.454240Z",
     "shell.execute_reply": "2024-07-20T08:25:32.453271Z",
     "shell.execute_reply.started": "2024-07-20T08:25:32.440789Z"
    }
   },
   "outputs": [],
   "source": [
    "class LangData(Dataset):\n",
    "    def __init__(self, tokens):\n",
    "        self.tokens = tokens\n",
    "        \n",
    "    def __len__(self):\n",
    "        return len(self.tokens['input_ids'])\n",
    "\n",
    "    def __getitem__(self, index):\n",
    "        input_ids = self.tokens['input_ids'][index]\n",
    "        labels = self.tokens['labels'][index]\n",
    "        attention_mask = self.tokens['attention_mask'][index]\n",
    "\n",
    "        return {\n",
    "            'input_ids': input_ids.squeeze(),\n",
    "            'attention_mask': attention_mask.squeeze(),\n",
    "            'labels': labels.squeeze()\n",
    "        }\n",
    "    \n",
    "def collate_fn(batch):\n",
    "    input_ids = [item['input_ids'] for item in batch]\n",
    "    attention_masks = [item['attention_mask'] for item in batch]\n",
    "    labels = [item['labels'] for item in batch]\n",
    "    \n",
    "    # Pad sequences\n",
    "    input_ids_padded = pad_sequence(input_ids, batch_first=True, padding_value=57444)\n",
    "    attention_masks_padded = pad_sequence(attention_masks, batch_first=True, padding_value=0)\n",
    "    labels_padded = pad_sequence(labels, batch_first=True, padding_value=-100)  \n",
    "    return {\n",
    "        'input_ids': input_ids_padded,\n",
    "        'attention_mask': attention_masks_padded,\n",
    "        'labels': labels_padded\n",
    "    }\n",
    "\n",
    "with open(f\"{config['TRAIN_DATA']}/english.txt\") as text:\n",
    "    english = text.read().strip().split(\"\\n\")\n",
    "with open(f\"{config['TRAIN_DATA']}/afrikaans.txt\") as text:\n",
    "    afrikaans = text.read().strip().split(\"\\n\")\n",
    "    \n",
    "with open(f\"{config['VAL_DATA']}/english.txt\") as text:\n",
    "    english_val = text.read().strip().split(\"\\n\")\n",
    "with open(f\"{config['VAL_DATA']}/afrikaans.txt\") as text:\n",
    "    afrikaans_val = text.read().strip().split(\"\\n\")"
   ]
  },
  {
   "cell_type": "markdown",
   "metadata": {},
   "source": [
    "## Utility"
   ]
  },
  {
   "cell_type": "code",
   "execution_count": 7,
   "metadata": {
    "execution": {
     "iopub.execute_input": "2024-07-20T08:25:32.456088Z",
     "iopub.status.busy": "2024-07-20T08:25:32.455699Z",
     "iopub.status.idle": "2024-07-20T08:25:32.471506Z",
     "shell.execute_reply": "2024-07-20T08:25:32.470655Z",
     "shell.execute_reply.started": "2024-07-20T08:25:32.456057Z"
    }
   },
   "outputs": [],
   "source": [
    "def postprocess(predictions, labels):\n",
    "    predictions = predictions.cpu().numpy()\n",
    "    labels = labels.cpu().numpy()\n",
    "\n",
    "    decoded_preds = tokenizer.batch_decode(predictions, skip_special_tokens=True)\n",
    "\n",
    "    # Replace -100 in the labels as we can't decode them.\n",
    "    labels = np.where(labels != -100, labels, tokenizer.pad_token_id)\n",
    "    decoded_labels = tokenizer.batch_decode(labels, skip_special_tokens=True)\n",
    "\n",
    "    # Some simple post-processing\n",
    "    decoded_preds = [pred.strip() for pred in decoded_preds]\n",
    "    decoded_labels = [[label.strip()] for label in decoded_labels]\n",
    "    return decoded_preds, decoded_labels\n",
    "\n",
    "def eval_model(model, data_loader, device):\n",
    "    metric = evaluate.load(\"bleu\")\n",
    "    for i in range(1, 5):\n",
    "        for batch in data_loader:\n",
    "            input_ = batch['input_ids']\n",
    "            attnm_ = batch['attention_mask']\n",
    "            labels = batch['labels']\n",
    "            pred = model.generate(input_.to(device))\n",
    "            pred, lab = postprocess(pred, labels)\n",
    "            metric.add_batch(predictions=pred, references=lab)\n",
    "        print(f\"BLEU{-i}\".center(80))\n",
    "        print(\"-----\" * 18)\n",
    "        blues = metric.compute(max_order=i)\n",
    "        for key, val in blues.items():\n",
    "            print(f\"{key:<20}: {val}\")\n",
    "        print(\"*****\" * 18)\n",
    "\n",
    "\n",
    "def train_model(model, train_loader, optimizer, device, epochs):\n",
    "    train_loss = []\n",
    "    N = len(train_loader.dataset)\n",
    "    for epoch in range(epochs):\n",
    "        pbar = tqdm(train_loader, unit=\"batch\", desc=f\"Epoch {epoch + 1}/{epochs}\")\n",
    "        run_loss = 0\n",
    "        for batch in pbar:\n",
    "            input_ids = batch['input_ids'].to(device)\n",
    "            attention_mask = batch['attention_mask'].to(device)\n",
    "            labels = batch['labels'].to(device)\n",
    "            \n",
    "            optimizer.zero_grad()\n",
    "            outputs = model(input_ids=input_ids, attention_mask=attention_mask, labels=labels)\n",
    "            loss = outputs.loss\n",
    "            loss.backward()\n",
    "            optimizer.step()\n",
    "            run_loss += loss.item() * input_ids.size(0)\n",
    "            pbar.set_postfix(loss=f\"{run_loss / N:.3f}\")\n",
    "        train_loss.append(run_loss/N)\n",
    "    return train_loss"
   ]
  },
  {
   "cell_type": "markdown",
   "metadata": {},
   "source": [
    "## Load the pre-trained model and tokenizer"
   ]
  },
  {
   "cell_type": "code",
   "execution_count": 8,
   "metadata": {
    "execution": {
     "iopub.execute_input": "2024-07-20T08:25:32.473056Z",
     "iopub.status.busy": "2024-07-20T08:25:32.472627Z",
     "iopub.status.idle": "2024-07-20T08:27:30.184681Z",
     "shell.execute_reply": "2024-07-20T08:27:30.183812Z",
     "shell.execute_reply.started": "2024-07-20T08:25:32.473009Z"
    }
   },
   "outputs": [
    {
     "data": {
      "application/vnd.jupyter.widget-view+json": {
       "model_id": "486c581653f74ab8a74eda8260200f21",
       "version_major": 2,
       "version_minor": 0
      },
      "text/plain": [
       "tokenizer_config.json:   0%|          | 0.00/42.0 [00:00<?, ?B/s]"
      ]
     },
     "metadata": {},
     "output_type": "display_data"
    },
    {
     "data": {
      "application/vnd.jupyter.widget-view+json": {
       "model_id": "ed9bd0447d664d64866c05576eb5c5c3",
       "version_major": 2,
       "version_minor": 0
      },
      "text/plain": [
       "config.json:   0%|          | 0.00/1.38k [00:00<?, ?B/s]"
      ]
     },
     "metadata": {},
     "output_type": "display_data"
    },
    {
     "data": {
      "application/vnd.jupyter.widget-view+json": {
       "model_id": "9a68458f3faf4feb82496fc9258a869d",
       "version_major": 2,
       "version_minor": 0
      },
      "text/plain": [
       "source.spm:   0%|          | 0.00/819k [00:00<?, ?B/s]"
      ]
     },
     "metadata": {},
     "output_type": "display_data"
    },
    {
     "data": {
      "application/vnd.jupyter.widget-view+json": {
       "model_id": "8a8e6318dd704340823c09f99a548b18",
       "version_major": 2,
       "version_minor": 0
      },
      "text/plain": [
       "target.spm:   0%|          | 0.00/826k [00:00<?, ?B/s]"
      ]
     },
     "metadata": {},
     "output_type": "display_data"
    },
    {
     "data": {
      "application/vnd.jupyter.widget-view+json": {
       "model_id": "2ba4b8a7157a4b5083e2b4260c3364e0",
       "version_major": 2,
       "version_minor": 0
      },
      "text/plain": [
       "vocab.json:   0%|          | 0.00/1.32M [00:00<?, ?B/s]"
      ]
     },
     "metadata": {},
     "output_type": "display_data"
    },
    {
     "data": {
      "application/vnd.jupyter.widget-view+json": {
       "model_id": "b57f15a4fde541ea95a9d6a37e3a5125",
       "version_major": 2,
       "version_minor": 0
      },
      "text/plain": [
       "pytorch_model.bin:   0%|          | 0.00/297M [00:00<?, ?B/s]"
      ]
     },
     "metadata": {},
     "output_type": "display_data"
    },
    {
     "name": "stderr",
     "output_type": "stream",
     "text": [
      "/opt/conda/lib/python3.10/site-packages/torch/_utils.py:831: UserWarning: TypedStorage is deprecated. It will be removed in the future and UntypedStorage will be the only storage class. This should only matter to you if you are using storages directly.  To access UntypedStorage directly, use tensor.untyped_storage() instead of tensor.storage()\n",
      "  return self.fget.__get__(instance, owner)()\n"
     ]
    },
    {
     "data": {
      "application/vnd.jupyter.widget-view+json": {
       "model_id": "2474c9cb29b246529878b5444a5d5848",
       "version_major": 2,
       "version_minor": 0
      },
      "text/plain": [
       "generation_config.json:   0%|          | 0.00/293 [00:00<?, ?B/s]"
      ]
     },
     "metadata": {},
     "output_type": "display_data"
    }
   ],
   "source": [
    "tokenizer = AutoTokenizer.from_pretrained(\"Helsinki-NLP/opus-mt-en-af\", return_tensors=\"pt\")\n",
    "model = AutoModelForSeq2SeqLM.from_pretrained(\"Helsinki-NLP/opus-mt-en-af\")"
   ]
  },
  {
   "cell_type": "code",
   "execution_count": 9,
   "metadata": {
    "execution": {
     "iopub.execute_input": "2024-07-20T08:27:30.187921Z",
     "iopub.status.busy": "2024-07-20T08:27:30.187639Z",
     "iopub.status.idle": "2024-07-20T08:27:30.245289Z",
     "shell.execute_reply": "2024-07-20T08:27:30.244422Z",
     "shell.execute_reply.started": "2024-07-20T08:27:30.187895Z"
    }
   },
   "outputs": [
    {
     "data": {
      "text/plain": [
       "==============================================================================================================\n",
       "Layer (type:depth-idx)                                       Param #                   Trainable\n",
       "==============================================================================================================\n",
       "MarianMTModel                                                --                        Partial\n",
       "├─MarianModel: 1-1                                           --                        Partial\n",
       "│    └─Embedding: 2-1                                        29,411,840                True\n",
       "│    └─MarianEncoder: 2-2                                    29,411,840                Partial\n",
       "│    │    └─Embedding: 3-1                                   (recursive)               True\n",
       "│    │    └─MarianSinusoidalPositionalEmbedding: 3-2         (262,144)                 False\n",
       "│    │    └─ModuleList: 3-3                                  --                        True\n",
       "│    │    │    └─MarianEncoderLayer: 4-1                     3,152,384                 True\n",
       "│    │    │    └─MarianEncoderLayer: 4-2                     3,152,384                 True\n",
       "│    │    │    └─MarianEncoderLayer: 4-3                     3,152,384                 True\n",
       "│    │    │    └─MarianEncoderLayer: 4-4                     3,152,384                 True\n",
       "│    │    │    └─MarianEncoderLayer: 4-5                     3,152,384                 True\n",
       "│    │    │    └─MarianEncoderLayer: 4-6                     3,152,384                 True\n",
       "│    └─MarianDecoder: 2-3                                    29,411,840                Partial\n",
       "│    │    └─Embedding: 3-4                                   (recursive)               True\n",
       "│    │    └─MarianSinusoidalPositionalEmbedding: 3-5         (262,144)                 False\n",
       "│    │    └─ModuleList: 3-6                                  --                        True\n",
       "│    │    │    └─MarianDecoderLayer: 4-7                     4,204,032                 True\n",
       "│    │    │    └─MarianDecoderLayer: 4-8                     4,204,032                 True\n",
       "│    │    │    └─MarianDecoderLayer: 4-9                     4,204,032                 True\n",
       "│    │    │    └─MarianDecoderLayer: 4-10                    4,204,032                 True\n",
       "│    │    │    └─MarianDecoderLayer: 4-11                    4,204,032                 True\n",
       "│    │    │    └─MarianDecoderLayer: 4-12                    4,204,032                 True\n",
       "├─Linear: 1-2                                                29,411,840                True\n",
       "==============================================================================================================\n",
       "Total params: 162,310,144\n",
       "Trainable params: 161,785,856\n",
       "Non-trainable params: 524,288\n",
       "=============================================================================================================="
      ]
     },
     "execution_count": 9,
     "metadata": {},
     "output_type": "execute_result"
    }
   ],
   "source": [
    "summary(model, depth=4, col_names=[\"num_params\",\"trainable\",])"
   ]
  },
  {
   "cell_type": "code",
   "execution_count": 10,
   "metadata": {
    "execution": {
     "iopub.execute_input": "2024-07-20T08:27:30.246586Z",
     "iopub.status.busy": "2024-07-20T08:27:30.246281Z",
     "iopub.status.idle": "2024-07-20T08:27:30.498586Z",
     "shell.execute_reply": "2024-07-20T08:27:30.497795Z",
     "shell.execute_reply.started": "2024-07-20T08:27:30.246563Z"
    }
   },
   "outputs": [],
   "source": [
    "LR = 2e-5\n",
    "device = \"cuda\"\n",
    "model = model.to(device)\n",
    "optimizer = AdamW(model.parameters(), LR)"
   ]
  },
  {
   "cell_type": "code",
   "execution_count": 11,
   "metadata": {
    "execution": {
     "iopub.execute_input": "2024-07-20T08:27:30.500017Z",
     "iopub.status.busy": "2024-07-20T08:27:30.499715Z",
     "iopub.status.idle": "2024-07-20T08:27:30.788797Z",
     "shell.execute_reply": "2024-07-20T08:27:30.788073Z",
     "shell.execute_reply.started": "2024-07-20T08:27:30.499992Z"
    }
   },
   "outputs": [],
   "source": [
    "tokens_train = tokenizer(english, text_target=afrikaans, return_tensors=\"pt\", padding='longest')\n",
    "tokens_eval = tokenizer(english_val, text_target=afrikaans_val, return_tensors=\"pt\", padding='longest')\n",
    "\n",
    "train_dataset = LangData(tokens_train)\n",
    "valid_dataset = LangData(tokens_eval)\n",
    "\n",
    "train_loader = DataLoader(train_dataset, batch_size=64, shuffle=True, collate_fn=collate_fn)\n",
    "valid_loader = DataLoader(valid_dataset, batch_size=64, shuffle=True, collate_fn=collate_fn)"
   ]
  },
  {
   "cell_type": "markdown",
   "metadata": {},
   "source": [
    "## Train the model"
   ]
  },
  {
   "cell_type": "markdown",
   "metadata": {},
   "source": [
    "### Evaluate the model before training"
   ]
  },
  {
   "cell_type": "code",
   "execution_count": 12,
   "metadata": {
    "execution": {
     "iopub.execute_input": "2024-07-20T08:27:30.790080Z",
     "iopub.status.busy": "2024-07-20T08:27:30.789792Z",
     "iopub.status.idle": "2024-07-20T08:29:07.610391Z",
     "shell.execute_reply": "2024-07-20T08:29:07.609441Z",
     "shell.execute_reply.started": "2024-07-20T08:27:30.790056Z"
    }
   },
   "outputs": [
    {
     "name": "stdout",
     "output_type": "stream",
     "text": [
      "                   Training set                   \n"
     ]
    },
    {
     "data": {
      "application/vnd.jupyter.widget-view+json": {
       "model_id": "f3800d159ad548868c2bb796be17c571",
       "version_major": 2,
       "version_minor": 0
      },
      "text/plain": [
       "Downloading builder script:   0%|          | 0.00/5.94k [00:00<?, ?B/s]"
      ]
     },
     "metadata": {},
     "output_type": "display_data"
    },
    {
     "data": {
      "application/vnd.jupyter.widget-view+json": {
       "model_id": "1c449f5b2f3d42f4a69b5995029009dd",
       "version_major": 2,
       "version_minor": 0
      },
      "text/plain": [
       "Downloading extra modules:   0%|          | 0.00/1.55k [00:00<?, ?B/s]"
      ]
     },
     "metadata": {},
     "output_type": "display_data"
    },
    {
     "data": {
      "application/vnd.jupyter.widget-view+json": {
       "model_id": "99ebc30bce7d4a77ae878a6ac5ce0b3d",
       "version_major": 2,
       "version_minor": 0
      },
      "text/plain": [
       "Downloading extra modules:   0%|          | 0.00/3.34k [00:00<?, ?B/s]"
      ]
     },
     "metadata": {},
     "output_type": "display_data"
    },
    {
     "name": "stdout",
     "output_type": "stream",
     "text": [
      "                                     BLEU-1                                     \n",
      "------------------------------------------------------------------------------------------\n",
      "bleu                : 0.6742814842166323\n",
      "precisions          : [0.7077720207253886]\n",
      "brevity_penalty     : 0.9526817456355053\n",
      "length_ratio        : 0.9537667471996486\n",
      "translation_length  : 8685\n",
      "reference_length    : 9106\n",
      "******************************************************************************************\n",
      "                                     BLEU-2                                     \n",
      "------------------------------------------------------------------------------------------\n",
      "bleu                : 0.5695846153251003\n",
      "precisions          : [0.7077720207253886, 0.5050419147126716]\n",
      "brevity_penalty     : 0.9526817456355053\n",
      "length_ratio        : 0.9537667471996486\n",
      "translation_length  : 8685\n",
      "reference_length    : 9106\n",
      "******************************************************************************************\n",
      "                                     BLEU-3                                     \n",
      "------------------------------------------------------------------------------------------\n",
      "bleu                : 0.49223529052557047\n",
      "precisions          : [0.7077720207253886, 0.5050419147126716, 0.3858814452873859]\n",
      "brevity_penalty     : 0.9526817456355053\n",
      "length_ratio        : 0.9537667471996486\n",
      "translation_length  : 8685\n",
      "reference_length    : 9106\n",
      "******************************************************************************************\n",
      "                                     BLEU-4                                     \n",
      "------------------------------------------------------------------------------------------\n",
      "bleu                : 0.43107239287457316\n",
      "precisions          : [0.7077720207253886, 0.5050419147126716, 0.3858814452873859, 0.3039028384279476]\n",
      "brevity_penalty     : 0.9526817456355053\n",
      "length_ratio        : 0.9537667471996486\n",
      "translation_length  : 8685\n",
      "reference_length    : 9106\n",
      "******************************************************************************************\n"
     ]
    }
   ],
   "source": [
    "print(\"Training set\".center(50))\n",
    "eval_model(model,train_loader, device)"
   ]
  },
  {
   "cell_type": "code",
   "execution_count": 13,
   "metadata": {
    "execution": {
     "iopub.execute_input": "2024-07-20T08:29:07.611815Z",
     "iopub.status.busy": "2024-07-20T08:29:07.611529Z",
     "iopub.status.idle": "2024-07-20T08:31:20.717898Z",
     "shell.execute_reply": "2024-07-20T08:31:20.716964Z",
     "shell.execute_reply.started": "2024-07-20T08:29:07.611790Z"
    }
   },
   "outputs": [
    {
     "name": "stdout",
     "output_type": "stream",
     "text": [
      "                  Validation set                  \n",
      "                                     BLEU-1                                     \n",
      "------------------------------------------------------------------------------------------\n",
      "bleu                : 0.5724458204334365\n",
      "precisions          : [0.5724458204334365]\n",
      "brevity_penalty     : 1.0\n",
      "length_ratio        : 1.1234782608695653\n",
      "translation_length  : 3230\n",
      "reference_length    : 2875\n",
      "******************************************************************************************\n",
      "                                     BLEU-2                                     \n",
      "------------------------------------------------------------------------------------------\n",
      "bleu                : 0.4408896339676111\n",
      "precisions          : [0.5724458204334365, 0.3395669291338583]\n",
      "brevity_penalty     : 1.0\n",
      "length_ratio        : 1.1234782608695653\n",
      "translation_length  : 3230\n",
      "reference_length    : 2875\n",
      "******************************************************************************************\n",
      "                                     BLEU-3                                     \n",
      "------------------------------------------------------------------------------------------\n",
      "bleu                : 0.3496249464177517\n",
      "precisions          : [0.5724458204334365, 0.3395669291338583, 0.21986062717770036]\n",
      "brevity_penalty     : 1.0\n",
      "length_ratio        : 1.1234782608695653\n",
      "translation_length  : 3230\n",
      "reference_length    : 2875\n",
      "******************************************************************************************\n",
      "                                     BLEU-4                                     \n",
      "------------------------------------------------------------------------------------------\n",
      "bleu                : 0.2821607303746811\n",
      "precisions          : [0.5724458204334365, 0.3395669291338583, 0.21986062717770036, 0.14831294030404152]\n",
      "brevity_penalty     : 1.0\n",
      "length_ratio        : 1.1234782608695653\n",
      "translation_length  : 3230\n",
      "reference_length    : 2875\n",
      "******************************************************************************************\n"
     ]
    }
   ],
   "source": [
    "print(\"Validation set\".center(50))\n",
    "eval_model(model, valid_loader, device)"
   ]
  },
  {
   "cell_type": "markdown",
   "metadata": {},
   "source": [
    "### Train the model"
   ]
  },
  {
   "cell_type": "code",
   "execution_count": 14,
   "metadata": {
    "execution": {
     "iopub.execute_input": "2024-07-20T08:31:20.719265Z",
     "iopub.status.busy": "2024-07-20T08:31:20.718963Z",
     "iopub.status.idle": "2024-07-20T08:34:47.770052Z",
     "shell.execute_reply": "2024-07-20T08:34:47.769108Z",
     "shell.execute_reply.started": "2024-07-20T08:31:20.719239Z"
    }
   },
   "outputs": [
    {
     "name": "stderr",
     "output_type": "stream",
     "text": [
      "Epoch 1/50: 100%|██████████| 8/8 [00:04<00:00,  1.77batch/s, loss=5.187]\n",
      "Epoch 2/50: 100%|██████████| 8/8 [00:04<00:00,  1.94batch/s, loss=2.591]\n",
      "Epoch 3/50: 100%|██████████| 8/8 [00:04<00:00,  1.94batch/s, loss=1.374]\n",
      "Epoch 4/50: 100%|██████████| 8/8 [00:04<00:00,  1.94batch/s, loss=0.745]\n",
      "Epoch 5/50: 100%|██████████| 8/8 [00:04<00:00,  1.94batch/s, loss=0.530]\n",
      "Epoch 6/50: 100%|██████████| 8/8 [00:04<00:00,  1.94batch/s, loss=0.447]\n",
      "Epoch 7/50: 100%|██████████| 8/8 [00:04<00:00,  1.94batch/s, loss=0.400]\n",
      "Epoch 8/50: 100%|██████████| 8/8 [00:04<00:00,  1.94batch/s, loss=0.367]\n",
      "Epoch 9/50: 100%|██████████| 8/8 [00:04<00:00,  1.94batch/s, loss=0.342]\n",
      "Epoch 10/50: 100%|██████████| 8/8 [00:04<00:00,  1.94batch/s, loss=0.320]\n",
      "Epoch 11/50: 100%|██████████| 8/8 [00:04<00:00,  1.94batch/s, loss=0.301]\n",
      "Epoch 12/50: 100%|██████████| 8/8 [00:04<00:00,  1.93batch/s, loss=0.284]\n",
      "Epoch 13/50: 100%|██████████| 8/8 [00:04<00:00,  1.94batch/s, loss=0.268]\n",
      "Epoch 14/50: 100%|██████████| 8/8 [00:04<00:00,  1.94batch/s, loss=0.253]\n",
      "Epoch 15/50: 100%|██████████| 8/8 [00:04<00:00,  1.94batch/s, loss=0.239]\n",
      "Epoch 16/50: 100%|██████████| 8/8 [00:04<00:00,  1.94batch/s, loss=0.226]\n",
      "Epoch 17/50: 100%|██████████| 8/8 [00:04<00:00,  1.94batch/s, loss=0.215]\n",
      "Epoch 18/50: 100%|██████████| 8/8 [00:04<00:00,  1.93batch/s, loss=0.204]\n",
      "Epoch 19/50: 100%|██████████| 8/8 [00:04<00:00,  1.93batch/s, loss=0.195]\n",
      "Epoch 20/50: 100%|██████████| 8/8 [00:04<00:00,  1.94batch/s, loss=0.185]\n",
      "Epoch 21/50: 100%|██████████| 8/8 [00:04<00:00,  1.93batch/s, loss=0.177]\n",
      "Epoch 22/50: 100%|██████████| 8/8 [00:04<00:00,  1.94batch/s, loss=0.168]\n",
      "Epoch 23/50: 100%|██████████| 8/8 [00:04<00:00,  1.94batch/s, loss=0.161]\n",
      "Epoch 24/50: 100%|██████████| 8/8 [00:04<00:00,  1.94batch/s, loss=0.154]\n",
      "Epoch 25/50: 100%|██████████| 8/8 [00:04<00:00,  1.94batch/s, loss=0.147]\n",
      "Epoch 26/50: 100%|██████████| 8/8 [00:04<00:00,  1.94batch/s, loss=0.140]\n",
      "Epoch 27/50: 100%|██████████| 8/8 [00:04<00:00,  1.94batch/s, loss=0.134]\n",
      "Epoch 28/50: 100%|██████████| 8/8 [00:04<00:00,  1.94batch/s, loss=0.128]\n",
      "Epoch 29/50: 100%|██████████| 8/8 [00:04<00:00,  1.93batch/s, loss=0.122]\n",
      "Epoch 30/50: 100%|██████████| 8/8 [00:04<00:00,  1.94batch/s, loss=0.117]\n",
      "Epoch 31/50: 100%|██████████| 8/8 [00:04<00:00,  1.93batch/s, loss=0.112]\n",
      "Epoch 32/50: 100%|██████████| 8/8 [00:04<00:00,  1.94batch/s, loss=0.108]\n",
      "Epoch 33/50: 100%|██████████| 8/8 [00:04<00:00,  1.94batch/s, loss=0.104]\n",
      "Epoch 34/50: 100%|██████████| 8/8 [00:04<00:00,  1.94batch/s, loss=0.099]\n",
      "Epoch 35/50: 100%|██████████| 8/8 [00:04<00:00,  1.94batch/s, loss=0.095]\n",
      "Epoch 36/50: 100%|██████████| 8/8 [00:04<00:00,  1.94batch/s, loss=0.091]\n",
      "Epoch 37/50: 100%|██████████| 8/8 [00:04<00:00,  1.94batch/s, loss=0.088]\n",
      "Epoch 38/50: 100%|██████████| 8/8 [00:04<00:00,  1.94batch/s, loss=0.084]\n",
      "Epoch 39/50: 100%|██████████| 8/8 [00:04<00:00,  1.94batch/s, loss=0.080]\n",
      "Epoch 40/50: 100%|██████████| 8/8 [00:04<00:00,  1.94batch/s, loss=0.077]\n",
      "Epoch 41/50: 100%|██████████| 8/8 [00:04<00:00,  1.93batch/s, loss=0.074]\n",
      "Epoch 42/50: 100%|██████████| 8/8 [00:04<00:00,  1.93batch/s, loss=0.071]\n",
      "Epoch 43/50: 100%|██████████| 8/8 [00:04<00:00,  1.93batch/s, loss=0.068]\n",
      "Epoch 44/50: 100%|██████████| 8/8 [00:04<00:00,  1.94batch/s, loss=0.066]\n",
      "Epoch 45/50: 100%|██████████| 8/8 [00:04<00:00,  1.93batch/s, loss=0.063]\n",
      "Epoch 46/50: 100%|██████████| 8/8 [00:04<00:00,  1.93batch/s, loss=0.060]\n",
      "Epoch 47/50: 100%|██████████| 8/8 [00:04<00:00,  1.93batch/s, loss=0.058]\n",
      "Epoch 48/50: 100%|██████████| 8/8 [00:04<00:00,  1.93batch/s, loss=0.055]\n",
      "Epoch 49/50: 100%|██████████| 8/8 [00:04<00:00,  1.93batch/s, loss=0.053]\n",
      "Epoch 50/50: 100%|██████████| 8/8 [00:04<00:00,  1.93batch/s, loss=0.051]\n"
     ]
    }
   ],
   "source": [
    "train_loss = train_model(model, train_loader, optimizer, device, 50)\n",
    "np.save(\"train_loss.npy\", np.array(train_loss))"
   ]
  },
  {
   "cell_type": "markdown",
   "metadata": {},
   "source": [
    "### Re-evaluate model after training"
   ]
  },
  {
   "cell_type": "code",
   "execution_count": 15,
   "metadata": {
    "execution": {
     "iopub.execute_input": "2024-07-20T08:34:47.771459Z",
     "iopub.status.busy": "2024-07-20T08:34:47.771165Z",
     "iopub.status.idle": "2024-07-20T08:36:31.530468Z",
     "shell.execute_reply": "2024-07-20T08:36:31.529573Z",
     "shell.execute_reply.started": "2024-07-20T08:34:47.771433Z"
    }
   },
   "outputs": [
    {
     "name": "stdout",
     "output_type": "stream",
     "text": [
      "                   Training set                   \n",
      "                                     BLEU-1                                     \n",
      "------------------------------------------------------------------------------------------\n",
      "bleu                : 0.9457426249259133\n",
      "precisions          : [0.9495038588754134]\n",
      "brevity_penalty     : 0.9960387375845371\n",
      "length_ratio        : 0.9960465627059082\n",
      "translation_length  : 9070\n",
      "reference_length    : 9106\n",
      "******************************************************************************************\n",
      "                                     BLEU-2                                     \n",
      "------------------------------------------------------------------------------------------\n",
      "bleu                : 0.923166020630943\n",
      "precisions          : [0.9495038588754134, 0.9047121634168988]\n",
      "brevity_penalty     : 0.9960387375845371\n",
      "length_ratio        : 0.9960465627059082\n",
      "translation_length  : 9070\n",
      "reference_length    : 9106\n",
      "******************************************************************************************\n",
      "                                     BLEU-3                                     \n",
      "------------------------------------------------------------------------------------------\n",
      "bleu                : 0.9053386874605662\n",
      "precisions          : [0.9495038588754134, 0.9047121634168988, 0.8741729968145062]\n",
      "brevity_penalty     : 0.9960387375845371\n",
      "length_ratio        : 0.9960465627059082\n",
      "translation_length  : 9070\n",
      "reference_length    : 9106\n",
      "******************************************************************************************\n",
      "                                     BLEU-4                                     \n",
      "------------------------------------------------------------------------------------------\n",
      "bleu                : 0.8894395866474671\n",
      "precisions          : [0.9495038588754134, 0.9047121634168988, 0.8741729968145062, 0.8467522364838584]\n",
      "brevity_penalty     : 0.9960387375845371\n",
      "length_ratio        : 0.9960465627059082\n",
      "translation_length  : 9070\n",
      "reference_length    : 9106\n",
      "******************************************************************************************\n"
     ]
    }
   ],
   "source": [
    "print(\"Training set\".center(50))\n",
    "eval_model(model,train_loader, device)"
   ]
  },
  {
   "cell_type": "code",
   "execution_count": 16,
   "metadata": {
    "execution": {
     "iopub.execute_input": "2024-07-20T08:36:31.532465Z",
     "iopub.status.busy": "2024-07-20T08:36:31.531807Z",
     "iopub.status.idle": "2024-07-20T08:37:09.174779Z",
     "shell.execute_reply": "2024-07-20T08:37:09.173803Z",
     "shell.execute_reply.started": "2024-07-20T08:36:31.532428Z"
    }
   },
   "outputs": [
    {
     "name": "stdout",
     "output_type": "stream",
     "text": [
      "                  Validation set                  \n",
      "                                     BLEU-1                                     \n",
      "------------------------------------------------------------------------------------------\n",
      "bleu                : 0.6743807086687942\n",
      "precisions          : [0.6983441324694024]\n",
      "brevity_penalty     : 0.9656853652999539\n",
      "length_ratio        : 0.9662608695652174\n",
      "translation_length  : 2778\n",
      "reference_length    : 2875\n",
      "******************************************************************************************\n",
      "                                     BLEU-2                                     \n",
      "------------------------------------------------------------------------------------------\n",
      "bleu                : 0.5408381583255089\n",
      "precisions          : [0.6983441324694024, 0.4491525423728814]\n",
      "brevity_penalty     : 0.9656853652999539\n",
      "length_ratio        : 0.9662608695652174\n",
      "translation_length  : 2778\n",
      "reference_length    : 2875\n",
      "******************************************************************************************\n",
      "                                     BLEU-3                                     \n",
      "------------------------------------------------------------------------------------------\n",
      "bleu                : 0.4470867642233047\n",
      "precisions          : [0.6983441324694024, 0.4491525423728814, 0.3163771712158809]\n",
      "brevity_penalty     : 0.9656853652999539\n",
      "length_ratio        : 0.9662608695652174\n",
      "translation_length  : 2778\n",
      "reference_length    : 2875\n",
      "******************************************************************************************\n",
      "                                     BLEU-4                                     \n",
      "------------------------------------------------------------------------------------------\n",
      "bleu                : 0.373679307019415\n",
      "precisions          : [0.6983441324694024, 0.4491525423728814, 0.3163771712158809, 0.22593582887700533]\n",
      "brevity_penalty     : 0.9656853652999539\n",
      "length_ratio        : 0.9662608695652174\n",
      "translation_length  : 2778\n",
      "reference_length    : 2875\n",
      "******************************************************************************************\n"
     ]
    }
   ],
   "source": [
    "print(\"Validation set\".center(50))\n",
    "eval_model(model, valid_loader, device)"
   ]
  },
  {
   "cell_type": "code",
   "execution_count": 17,
   "metadata": {
    "execution": {
     "iopub.execute_input": "2024-07-20T08:37:09.176318Z",
     "iopub.status.busy": "2024-07-20T08:37:09.175967Z",
     "iopub.status.idle": "2024-07-20T08:37:10.856073Z",
     "shell.execute_reply": "2024-07-20T08:37:10.855328Z",
     "shell.execute_reply.started": "2024-07-20T08:37:09.176282Z"
    }
   },
   "outputs": [],
   "source": [
    "metric = evaluate.load(\"bleu\")"
   ]
  },
  {
   "cell_type": "code",
   "execution_count": 18,
   "metadata": {
    "execution": {
     "iopub.execute_input": "2024-07-20T08:37:10.857522Z",
     "iopub.status.busy": "2024-07-20T08:37:10.857236Z",
     "iopub.status.idle": "2024-07-20T08:37:13.553083Z",
     "shell.execute_reply": "2024-07-20T08:37:13.552286Z",
     "shell.execute_reply.started": "2024-07-20T08:37:10.857496Z"
    }
   },
   "outputs": [],
   "source": [
    "test = next(iter(valid_loader))\n",
    "predicted = model.generate(test['input_ids'].to(device))\n",
    "predictions, labels = postprocess(predicted, test['labels'])\n",
    "sources = tokenizer.batch_decode(test['input_ids'].to(device), skip_special_tokens=True)"
   ]
  },
  {
   "cell_type": "code",
   "execution_count": 19,
   "metadata": {
    "execution": {
     "iopub.execute_input": "2024-07-20T08:37:13.554440Z",
     "iopub.status.busy": "2024-07-20T08:37:13.554141Z",
     "iopub.status.idle": "2024-07-20T08:37:14.801246Z",
     "shell.execute_reply": "2024-07-20T08:37:14.800345Z",
     "shell.execute_reply.started": "2024-07-20T08:37:13.554415Z"
    }
   },
   "outputs": [
    {
     "name": "stdout",
     "output_type": "stream",
     "text": [
      "Source    : Below is the ordering options within this family.\n",
      "Prediction: Onderste is die bestellingsopsies in hierdie gesin.\n",
      "Label     : Die bestelling opsies binne die familie word gesien hieronder.\n",
      "BLEU      : [0.19470019576785122, 0.0, 0.0, 0.0]\n",
      "\n",
      "Source    : Under what circumstances would the EFM32ZG110F4 be preferred above the EFM32ZG110F32?\n",
      "Prediction: Onder watter omstandighede sou die EFM32ZG110F4 bo die EFM32ZG110F32 verkies word?\n",
      "Label     : Onder watter omstandighede sal die EFM32ZG110F4 verkies word bo die EFM32ZG110F32?\n",
      "BLEU      : [0.9166666666666666, 0.7071067811865475, 0.464158883361278, 0.0]\n",
      "\n",
      "Source    : Is a cross-compiler used in the creation of the application for the BB in the practical?\n",
      "Prediction: Is 'n kruiskommuler gebruik in die skep van die aansoek vir die BB in die praktiese?\n",
      "Label     : Is 'n kruisvertaler gebruik in die skep van die program vir die BB van die prakties?\n",
      "BLEU      : [0.7647058823529411, 0.6183469424008423, 0.5032468442237513, 0.40652204338608683]\n",
      "\n",
      "Source    : Assuming that non-burst mode transfers are used and $D=O=1$, also calculate the minimum bus clock speed required to handle the data.\n",
      "Prediction: Aanvaar dat nie-burst modus oordragte gebruik word en $D=O=1$, ook bereken die minimum bus horlosie spoed benodig om die data te hanteer.\n",
      "Label     : Aanvaar dat geen \\textit{burst} modes transaksies gebruik word nie en $D=O=1$, bereken ook die minimum bus klokspoed wat benodig word om hierdie data \n",
      "BLEU      : [0.6335116530694255, 0.5093968381661576, 0.4186711414678322, 0.35035191370454877]\n",
      "\n",
      "Source    : Component\n",
      "Prediction: Komponent\n",
      "Label     : Komponent\n",
      "BLEU      : [1.0, 0.0, 0.0, 0.0]\n",
      "\n",
      "Source    : What multiprocessor architecture is the system above?\n",
      "Prediction: Watter multi\\\"ekte argitektuur is die stelsel hier bo?\n",
      "Label     : Watter multi-verwerker argitektuur is die bostaande stelsel?\n",
      "BLEU      : [0.5, 0.30151134457776363, 0.20870640224232323, 0.0]\n",
      "\n",
      "Source    : Give a reason for your answer.\n",
      "Prediction: Gee 'n rede vir jou antwoord.\n",
      "Label     : Gee 'n rede vir jou antwoord.\n",
      "BLEU      : [1.0, 1.0, 1.0, 1.0]\n",
      "\n",
      "Source    : Will it improve the execution speed?\n",
      "Prediction: Sal dit die uitvoeringspoed verbeter?\n",
      "Label     : Sal hierdie tegniek die uitvoertyd verbeter?\n",
      "BLEU      : [0.5643211499270759, 0.3090914234923144, 0.0, 0.0]\n",
      "\n",
      "Source    : The designer of this system wants to change the current bus network from I2C to CAN.\n",
      "Prediction: Die ontwerper van hierdie stelsel wil die huidige busnetwerk van I2C na Can verander.\n",
      "Label     : Die ontwerper van hierdie stelsel wil die huidige bus verander vanaf I2C na CAN.\n",
      "BLEU      : [0.8, 0.6761234037828132, 0.5953238460098979, 0.5445178846139404]\n",
      "\n",
      "Source    : The master wants to write the byte 0xAA to Slave 2 (7-bit address is 0x0A).\n",
      "Prediction: Die meester wil die byte 0xA skryf om 2 (7-bit adres is 0x0A) te slaaf.\n",
      "Label     : Die meester wil die greep 0xAA na Slaaf 2 (7-bit adres is 0x0A) stuur.\n",
      "BLEU      : [0.7, 0.6366028258614133, 0.5873573073196627, 0.5374512308135861]\n",
      "\n",
      "Source    : You only have one of each of these devices.\n",
      "Prediction: Jy het net een van elk van hierdie toestelle.\n",
      "Label     : Jy het slegs een van elk van die toestelle.\n",
      "BLEU      : [0.8, 0.6666666666666667, 0.4807498567691361, 0.3549481056010053]\n",
      "\n",
      "Source    : Describe under what circumstances an embedded system would prefer using busy-wait I/O or interrupt-driven I/O.\n",
      "Prediction: Beskryf onder watter omstandighede 'n intreestelsel verkies om gebruik te maak van besige-wa I/O of onderbreek-driven I/O.\n",
      "Label     : Beskryf onder watter omstandighede 'n toegewyde stelsel verkies om besig-wag I/U of onderbreking gedrewe I/U te gebruik.\n",
      "BLEU      : [0.6818181818181818, 0.4767312946227961, 0.324249658624014, 0.24475340607908883]\n",
      "\n",
      "Source    : Base numbers: 3, 4\n",
      "Prediction: Basisnommers: 3, 4\n",
      "Label     : Basis getalle: 3, 4\n",
      "BLEU      : [0.6549846024623855, 0.6341861143397762, 0.6032459766489701, 0.5475182535069453]\n",
      "\n",
      "Source    : Given a device connected to the CPU as shown in the diagram below:\n",
      "Prediction: Gegee 'n toestel wat aan die verwerker gekoppel is soos getoon in die diagram hier onder:\n",
      "Label     : Gegee 'n toestel verbind aan 'n SVE soos die onderstaande diagram:\n",
      "BLEU      : [0.47058823529411764, 0.24253562503633297, 0.15769573216382957, 0.0]\n",
      "\n",
      "Source    : What is the equivalent C-code of this collection of assembly instructions?\n",
      "Prediction: Wat is die ekwivalent C-kode van hierdie versameling van byeenkomsopdragte?\n",
      "Label     : Wat is die ekwivalente C-kode van die saamstel-instruksies?\n",
      "BLEU      : [0.5454545454545454, 0.40451991747794525, 0.2629535894329295, 0.0]\n",
      "\n",
      "Source    : Write the single-assignment form of the block C-code below and draw the data-flow graph.\n",
      "Prediction: Skryf die enkel-assignment vorm van die blok C-code onder en teken die data-flow skets.\n",
      "Label     : Skryf die enkel-toedeling vorm van die onderstaande blok C-kode en teken die data-vloei diagram.\n",
      "BLEU      : [0.6666666666666666, 0.4879500364742666, 0.3321078320738909, 0.0]\n",
      "\n",
      "Source    : Three devices are attached to a microprocessor:\n",
      "Prediction: Drie toestelle word aan 'n mikroverwerker gekoppel:\n",
      "Label     : Drie toestelle is aan 'n mikroverwerker gekoppel:\n",
      "BLEU      : [0.875, 0.7905694150420949, 0.6786044041487267, 0.5946035575013605]\n",
      "\n",
      "Source    : The first few lines of the testbench are given below.\n",
      "Prediction: Die eerste paar lyne van die toetsbank word hier onder gegee.\n",
      "Label     : Die eerste paar lyne van die toetsbank word gegee hieronder.\n",
      "BLEU      : [0.8333333333333334, 0.7282190812544191, 0.6826924810955317, 0.6484115071397645]\n",
      "\n",
      "Source    : A network uses fixed priority arbitration (with PE1 highest and PE4 lowest priority) and a byte takes 1.2ms to move between any two processing element\n",
      "Prediction: 'n Netwerk gebruik vaste prioriteit arbitrasie (met PE1 hoogste en PE4 laagste prioriteit) en 'n byte neem 1,2ms om tussen enige twee verwerkingseleme\n",
      "Label     : 'n Netwerk gebruik vaste prioriteit arbitrasie (met PE1 hoogste- en PE4 laagste prioriteit) en n greep neem 1.2ms om tussen enige twee verwerkings een\n",
      "BLEU      : [0.7996606897114187, 0.668630249431816, 0.5748116705297883, 0.4938674660884514]\n",
      "\n",
      "Source    : In terms of a CPU, describe the difference between latency and throughput.\n",
      "Prediction: In terme van 'n verwerker, beskryf die verskil tussen lancy en deurpoleer.\n",
      "Label     : In terme van 'n SVE, beskryf die verskil tussen vertraging en deursetspoed.\n",
      "BLEU      : [0.7857142857142857, 0.6504436355879909, 0.5607070695334264, 0.46825687910244024]\n",
      "\n",
      "Source    : PE4 to PE2, 50 bytes every 400ms\n",
      "Prediction: PE4 tot PE2, 50 grepe elke 400ms\n",
      "Label     : VE3 na VE1, 8 grepe elke 100ms\n",
      "BLEU      : [0.375, 0.23145502494313785, 0.0, 0.0]\n",
      "\n",
      "Source    : What extra information is supplied to the compiler and what effect will it have on the execution time of the program?\n",
      "Prediction: Watter addisionele inligting word aan die addres verskaf, en watter effek sal dit op die uitvoeringstyd van die program hê?\n",
      "Label     : Watter ekstra inligting word verskaf aan die kompileerder en watter effek sal dit h\\^e op die uitvoertyd van die program?\n",
      "BLEU      : [0.7055778262181117, 0.5254645367316044, 0.369441064638601, 0.263850331933771]\n",
      "\n",
      "Source    : Shortly describe what a cross compiler is.\n",
      "Prediction: Beskryf kort voor lank wat 'n kruissamevoeger is.\n",
      "Label     : Beskryf kortliks wat n kruisvertaler is.\n",
      "BLEU      : [0.4444444444444444, 0.23570226039551587, 0.0, 0.0]\n",
      "\n",
      "Source    : Fill in the table provided and determine which process is executed within the CPU at each time quantum.\n",
      "Prediction: Vul die tabel in wat verskaf word en bepaal watter proses binne-in die verwerker uitgevoer word op elke keer kwantum.\n",
      "Label     : Voltooi die gegewe tabel en bepaal watter proses word uitgevoer binne die SVE by elke tydkwantum.\n",
      "BLEU      : [0.5238095238095238, 0.2803059552906941, 0.20223066722046834, 0.1464087843918566]\n",
      "\n",
      "Source    : At which stage of the design process would we choose the communication protocol between subsystems?\n",
      "Prediction: Op watter stadium van die ontwerpsproses sal ons die kommunikasie protokol tussen substelsels kies?\n",
      "Label     : By watter stap van die ontwerpsproses word die kommunikasie-kanaal tussen substelsels gekies?\n",
      "BLEU      : [0.5333333333333333, 0.3380617018914066, 0.20638725026037186, 0.0]\n",
      "\n",
      "Source    : What is the difference between the big-endian and little-endian formats?\n",
      "Prediction: Wat is die verskil tussen die groot-endian en klein-endiese formate?\n",
      "Label     : Wat is die verskil tussen die \\textit{big-endian} en \\textit{little-endian} formate?\n",
      "BLEU      : [0.3953659755189481, 0.33857119394878077, 0.2909079924108417, 0.2584413040670806]\n",
      "\n",
      "Source    : System Design\n",
      "Prediction: Stelsel OntwerpName\n",
      "Label     : Stelsel Ontwerp\n",
      "BLEU      : [0.5, 0.0, 0.0, 0.0]\n",
      "\n",
      "Source    : Briefly describe a design review and the main reasons for performing a review.\n",
      "Prediction: Beskryf kortliks 'n ontwerpresensie en die hoofredes om 'n hersiening uit te voer.\n",
      "Label     : Beskryf kortliks 'n ontwerpsresensie en die hoof rede hoekom dit gedoen word.\n",
      "BLEU      : [0.42857142857142855, 0.3144854510165755, 0.20199469189853753, 0.0]\n",
      "\n",
      "Source    : Which aspect of an ASIC device makes it more ideal than a FPGA in this scenario?\n",
      "Prediction: Watter aspek van 'n ASIC-toestel maak dit meer ideaal as 'n FPGA in hierdie scenario?\n",
      "Label     : Watter aspek van 'n ASIC toestel maak dit meer geskik as 'n FPGA in hierdie geval?\n",
      "BLEU      : [0.7632731135359491, 0.6559094754689783, 0.5574285475765272, 0.4402004976281391]\n",
      "\n",
      "Source    : Embedded Computing\n",
      "Prediction: Ingebedde Berekening\n",
      "Label     : Toegewyde Verwerking\n",
      "BLEU      : [0.0, 0.0, 0.0, 0.0]\n",
      "\n",
      "Source    : What is the function of the DMA module?\n",
      "Prediction: Wat is die funksie van die DMA module?\n",
      "Label     : Wat is die funksie van die DMA module?\n",
      "BLEU      : [1.0, 1.0, 1.0, 1.0]\n",
      "\n",
      "Source    : Under what circumstances would the EFM32ZG110F32 be preferred above the EFM32ZG110F4?\n",
      "Prediction: Onder watter omstandighede sou die EFM32ZG110F32 bo die EFM32ZG110F4 verkies word?\n",
      "Label     : Onder watter omstandighede sal die EFM32ZG110F32 verkies word bo die EFM32ZG110F4?\n",
      "BLEU      : [0.9166666666666666, 0.7071067811865475, 0.464158883361278, 0.0]\n",
      "\n",
      "Source    : A Raspberry-Pi (RP) and BeagleBone (BB) is connected to a computer (PC) with the laboratory, the same method that was used in the practical.\n",
      "Prediction: 'n Raspberry-Pi (RP) en BetagleBone (BB) word met 'n rekenaar (PC) met die laboratorium verbind, dieselfde metode wat in die praktiese metode gebruik \n",
      "Label     : 'n Raspberry-Pi (RP) en BeagleBone (BB) is verbind aan 'n rekenaar (PC) in die labratorium, dieselfde metode wat gebruik was in die praktikas.\n",
      "BLEU      : [0.78125, 0.6148367210474559, 0.5013404889883973, 0.4018258743085361]\n",
      "\n",
      "Source    : Tabulate your answer.\n",
      "Prediction: Werk jou antwoord in.\n",
      "Label     : Tabuleer jou antwoord.\n",
      "BLEU      : [0.6, 0.3872983346207417, 0.0, 0.0]\n",
      "\n",
      "Source    : What is the central part of an operating system responsible for controlling access to the CPU, memory and other shared resources\n",
      "Prediction: Wat is die sentrale deel van 'n bedryfstelsel wat verantwoordelik is vir die beheer van toegang tot die verwerker, geheue en ander gedeelde hulpbronne\n",
      "Label     : Wat is die kern gedeelte van 'n bedryfstelsel wat verantwoordelik is vir die beheer van die SVE, geheue en ander gedeelde hulpbronne?\n",
      "BLEU      : [0.8, 0.7302967433402215, 0.6705092106974521, 0.6084121675336108]\n",
      "\n",
      "Source    : Describe the network layer of the OSI model as it is implemented on the network used for the RP, BB and PC.\n",
      "Prediction: Beskryf die netwerklaag van die OSI model as dit geimplementeer word op die netwerk wat gebruik word vir die RP, BB en PC.\n",
      "Label     : Beskryf die netwerk vlak van die OSI model soos wat dit geimplementeer word vir die RP, BB en PC.\n",
      "BLEU      : [0.76, 0.689202437604511, 0.5910922400059725, 0.5063027464114825]\n",
      "\n",
      "Source    : The CanSat is launched from a rocket and its mission time must be maximised\n",
      "Prediction: Die KanSat word van 'n vuurpyl af gelanseer, en sy sendingtyd moet gemimiseer word\n",
      "Label     : Die CanSat word gelanseer deur 'n vuurpyl en die missie moet so lank duur as moontlik\n",
      "BLEU      : [0.4365699263480883, 0.17079942613515495, 0.0, 0.0]\n",
      "\n",
      "Source    : Extract four requirements of a standard CanSat mission by using the description below:\n",
      "Prediction: Pak vier vereistes uit van 'n standaard KanSat sending deur gebruik te maak van die beskrywing hier onder:\n",
      "Label     : Ontrek vier vereistes van 'n standaard CanSat missie deur gebruik te maak van die onderstaande beskrywing:\n",
      "BLEU      : [0.6842105263157895, 0.5514467945790074, 0.4472078710695719, 0.3598590234416894]\n",
      "\n",
      "Source    : List the four design tools used for FPGA designs and what they are used for?\n",
      "Prediction: Lys die vier ontwerpgereedskap wat vir FPGA-ontwerpe gebruik word en waarvoor dit gebruik word?\n",
      "Label     : Lys die vier ontwerpstappe wat gebruik word in FPGA ontwerpe? Dui ook aan wat elk doen.\n",
      "BLEU      : [0.38207435143639157, 0.25890539701513354, 0.16161933650142504, 0.0]\n",
      "\n",
      "Source    : Below is a table from the manual with the transition times between energy modes\n",
      "Prediction: Onder is 'n tabel van die handleiding met die oorgangstye tussen energie modusse\n",
      "Label     : Hieronder is 'n table vanaf die gids met die oorgangstye tussen verskillende energie modusse.\n",
      "BLEU      : [0.5935873286495363, 0.46049977467787173, 0.3209424815579696, 0.23073674980977182]\n",
      "\n",
      "Source    : An operating system employs the Earliest-deadline-first (EDF) scheduling scheme and needs to execute three periodic processes defined in the table bel\n",
      "Prediction: 'n bedryfstelsel maak gebruik van die Earlies-dline-eerste (EDF) skedulering skema en benodig om drie periodieke prosesse uit te voer wat in die tabel\n",
      "Label     : 'n Bedryfstelsel maak gebruik van die Vroegste-spertyd-eerste (VSE) skeduleringskema en word vereis om drie periodiese prosesse, wat definieer is in d\n",
      "BLEU      : [0.6, 0.3216337604513384, 0.19477433954259907, 0.12861981016228477]\n",
      "\n",
      "Source    : Supply a reason for this observation.\n",
      "Prediction: Teken 'n rede vir hierdie waarneming.\n",
      "Label     : Gee 'n rede vir hierdie observasie.\n",
      "BLEU      : [0.7142857142857143, 0.5976143046671969, 0.5227579585747103, 0.4347208719449915]\n",
      "\n",
      "Source    : Describe the activity and the output of each step.\n",
      "Prediction: Beskryf die aktiwiteit en die uittree van elke stap.\n",
      "Label     : Beskryf die aksie en die uitree van elke stap.\n",
      "BLEU      : [0.8, 0.6666666666666667, 0.4807498567691361, 0.3549481056010053]\n",
      "\n",
      "Source    : Tabulate your answer with table headings: Block, Tag, and Data.\n",
      "Prediction: Blad jou antwoord met tabelopskrifte: Block, Tag, and Data.\n",
      "Label     : Tabuleer jou antwoord met tabel opskrifte: Block, Tag, en Data.\n",
      "BLEU      : [0.7122777528017816, 0.6202681096335706, 0.5059873369073483, 0.39355951621009727]\n",
      "\n",
      "Source    : Architecture\n",
      "Prediction: Argitektuur\n",
      "Label     : Argitektuur\n",
      "BLEU      : [1.0, 0.0, 0.0, 0.0]\n",
      "\n",
      "Source    : Assume that only PE3s and PE4s data can be divided in smaller packets;\n",
      "Prediction: Neem aan dat slegs PE3(s en PE4(s-data in kleiner pakkies verdeel kan word;\n",
      "Label     : Aanvaar dat slegs VE3 en VE4 se data in kleiner pakkies opgedeel mag word;\n",
      "BLEU      : [0.4444444444444444, 0.3233808333817773, 0.18696896462672788, 0.0]\n",
      "\n",
      "Source    : Give two possible reasons why the slave did not respond.\n",
      "Prediction: Gee twee moontlike redes waarom die slaaf nie gereageer het nie.\n",
      "Label     : Gee twee moontlike redes hoekom die slaaf nie geantwoord het nie.\n",
      "BLEU      : [0.8333333333333334, 0.7282190812544191, 0.5963868149074115, 0.3918189150070214]\n",
      "\n",
      "Source    : For the network between all the nodes to work the command below is required.\n",
      "Prediction: Want die netwerk tussen al die node om die bevel hier onder te werk, word benodig.\n",
      "Label     : Die onderstaande opdrag is nodig om 'n suksesvolle netwerk te skep tussen al die nodusse.\n",
      "BLEU      : [0.3888888888888889, 0.2138963159732493, 0.14193697401713315, 0.0]\n",
      "\n",
      "Source    : A new file is created on the SD-card after an image have successfully captured.\n",
      "Prediction: 'n Nuwe lêer is geskep op die SD-card nadat 'n beeld suksesvol gevang het.\n",
      "Label     : 'n Nuwe le\\^er word geskep op die SD-kaart nadat 'n beeld suksesvol geneem is.\n",
      "BLEU      : [0.6004025522571868, 0.4589902117347861, 0.34143545604676256, 0.22828187338648243]\n",
      "\n",
      "Source    : What type of embedded network will be suitable to create this type of system?\n",
      "Prediction: Watter soort ingebedde netwerk sal geskik wees om hierdie tipe stelsel te skep?\n",
      "Label     : Watter tipe toegewyde netwerk sal geskik wees om hierdie stelsel te skep?\n",
      "BLEU      : [0.8571428571428571, 0.7262730392025629, 0.6412931728234615, 0.5564924657670628]\n",
      "\n",
      "Source    : You are asked to optimise part of an ASIC system.\n",
      "Prediction: Jy word gevra om 'n deel van 'n ASIK stelsel op te doen.\n",
      "Label     : U word gevra om deel van n ASIC stelsel te optimeer.\n",
      "BLEU      : [0.5714285714285714, 0.36313651960128146, 0.22232392577061852, 0.0]\n",
      "\n",
      "Source    : Show with calculations to what percentage of the maximum capacity the network is being used.\n",
      "Prediction: Wys met berekeninge aan watter persentasie van die maksimum hoedanigheid die netwerk gebruik word.\n",
      "Label     : Toon deur berekeninge tot watter persentasie van maksimum kapasiteit die netwerk benut word.\n",
      "BLEU      : [0.6, 0.4140393356054125, 0.23625442485446654, 0.0]\n",
      "\n",
      "Source    : Device 1 has highest priority and device 3 has lowest priority.\n",
      "Prediction: Toestel 1 het hoogste prioriteit en toestel 3 het laagste prioriteit.\n",
      "Label     : Toestel 1 het die hoogste prioriteit en toestel 3 het die laagste prioriteit.\n",
      "BLEU      : [0.846481724890614, 0.7656715290968209, 0.6677562238480935, 0.5383782932322524]\n",
      "\n",
      "Source    : Show the busses, their connections and some typical components connected to them.\n",
      "Prediction: Wys die busse, hulle verbindings en 'n paar tipiese komponente wat aan hulle gekoppel is.\n",
      "Label     : Wys die busse, hul konneksies en 'n paar tipiese komponente/randaparatuur wat verbind aan die busse.\n",
      "BLEU      : [0.6275363049901946, 0.4940395557902856, 0.41664826144405886, 0.3426116434593994]\n",
      "\n",
      "Source    : What is the total memory access time for the full execution of the code given that $t_{\\text{cache}}=3\\text{ns}$ and $t_{\\text{main}}=20\\text{ns}$?\n",
      "Prediction: Wat is die totale geheue toegang verkry tyd vir die volledige uitvoering van die kode gegee wat $t_{\\text{cach}}=3\\text{ns}$ en $t_{\\text{main}}}=20\\t\n",
      "Label     : Wat is die totale geheue toegang tyd vir die volledige uitvoer van die kode gegee dat $t_{\\text{cache}}=3\\text{ns}$ en $t_{\\text{main}}=20\\text{ns}$?\n",
      "BLEU      : [0.9107142857142857, 0.8727475646991584, 0.8331485881947363, 0.7861218920210613]\n",
      "\n",
      "Source    : The system must be able to increase and decrease the reference speed from buttons on the steering wheel.\n",
      "Prediction: Die stelsel moet die verwysingsspoed kan vermeerder en verminder van knoppies op die stuurwiel.\n",
      "Label     : Die stelsel moet die spoedverwysing kan verhoog en verlaag deur knoppies op die stuurwiel.\n",
      "BLEU      : [0.7333333333333333, 0.6055300708194984, 0.5205143345748192, 0.4333207865423752]\n",
      "\n",
      "Source    : Draw a UML sequence diagram that shows a four-cycle handshake (on a synchronous bus) between a bus master and a device.\n",
      "Prediction: Teken 'n UML reeksdiagram wat 'n vier-fiets handdruk (op 'n sinchroniese bus) tussen 'n busmeester en 'n toestel vertoon.\n",
      "Label     : Skets n UML sekwensie diagram wat die vier-siklus handskud (op 'n sinkrone bus) tussen bus meester en apparaat wys.\n",
      "BLEU      : [0.45454545454545453, 0.2942449431682498, 0.20533958120074328, 0.0]\n",
      "\n",
      "Source    : What are the pre-requisites and/or changes that are required, if this system is implemented using SPI?\n",
      "Prediction: Wat is die pre-regitte en/of veranderings wat benodig word, as hierdie stelsel geimplementeer word met SPI?\n",
      "Label     : Wat is die voorvereistes en/of veranderinge wat nodig is, indien die stelsel SPI wil implementeer?\n",
      "BLEU      : [0.55, 0.3402785236893603, 0.2343197292238376, 0.0]\n",
      "\n",
      "Source    : You have a choice between the following processors: ARMv7, Ti-C55xx and PIC16Fxx.\n",
      "Prediction: Jy het 'n keuse tussen die volgende verwerkers: ARMv7, Ti-C5xxx en PIC16Fxxx.\n",
      "Label     : Jy het die keuse tussen die volgende verwerkers: ARMv7, Ti-C55xx en PIC16Fxx.\n",
      "BLEU      : [0.8, 0.6761234037828132, 0.5953238460098979, 0.5445178846139404]\n",
      "\n",
      "Source    : You are asked to optimise this section of code using loop-unrolling.\n",
      "Prediction: Jy word gevra om hierdie deel van kode op te stel deur gebruik te maak van lus-omroling.\n",
      "Label     : Jy word gevra om hierdie gedeelte kode te optimeer deur gebruik te maak van \\textit{loop-unrolling}.\n",
      "BLEU      : [0.6462728399214892, 0.5216761882967037, 0.45032506227416913, 0.38421386740573527]\n",
      "\n",
      "Source    : Supply the commands required to compile and run the main.c program with optimisation level 3.\n",
      "Prediction: Voeg die opdragte by wat benodig word om die hoof.c program met optimalisering vlak 3.\n",
      "Label     : Gee die opdragte wat nodig is om die main.c program te kompileer met optimeringsvlak 3 en die program uit te voer.\n",
      "BLEU      : [0.437880245350649, 0.2717069814753832, 0.14897232476937552, 0.0]\n",
      "\n",
      "Source    : For each of the applications below indicate what will be your choice in each case and give a motivation.\n",
      "Prediction: Vir elk van die volgende toepassings toon wat in elke geval jou keuse sal wees en gee dit 'n motivering.\n",
      "Label     : Vir elk van die onderstaande toepassings wat sal jou keuse wees in elk van die gevalle en verskaf 'n rede.\n",
      "BLEU      : [0.6666666666666666, 0.36514837167011077, 0.24121540700043156, 0.16710354241042594]\n",
      "\n",
      "Source    : You have decided to construct a VHDL testbench for the VHDL component.\n",
      "Prediction: Jy het besluit om 'n VHDL toetsbench te bou vir die VHDL-komponent.\n",
      "Label     : Jy het besluit om 'n VHDL toetsbank te skep vir die VHDL komponent.\n",
      "BLEU      : [0.7122777528017816, 0.5742566831466842, 0.4806445824538772, 0.41907961416006645]\n",
      "\n",
      "Source    : What is the main scheduling rule employed by the Rate-monotonic scheduling scheme?\n",
      "Prediction: Wat is die hoof-intreeling reel wat gebruik word deur die tempo-montoniese skedulerings-skema?\n",
      "Label     : Wat is die hoof skeduleringre\\\"el wat gebruik word in die Koers-monotoniese skeduleringskema?\n",
      "BLEU      : [0.48856778942643153, 0.35957615693372186, 0.2652563320765593, 0.0]\n",
      "\n"
     ]
    }
   ],
   "source": [
    "for source, pred, lab in zip(sources, predictions, labels):\n",
    "    print(f\"Source    : {source[:150]}\")\n",
    "    print(f\"Prediction: {pred[:150]}\")\n",
    "    print(f\"Label     : {lab[0][:150]}\")\n",
    "    bleu = []\n",
    "    for i in range(1,5):\n",
    "        bleu.append(metric.compute(predictions=[pred], references=lab, max_order=i)['bleu'])\n",
    "    print(f\"BLEU      : {bleu}\")\n",
    "    print()"
   ]
  }
 ],
 "metadata": {
  "kaggle": {
   "accelerator": "gpu",
   "dataSources": [
    {
     "datasetId": 5399717,
     "sourceId": 8969462,
     "sourceType": "datasetVersion"
    }
   ],
   "dockerImageVersionId": 30747,
   "isGpuEnabled": true,
   "isInternetEnabled": true,
   "language": "python",
   "sourceType": "notebook"
  },
  "kernelspec": {
   "display_name": "Python 3 (ipykernel)",
   "language": "python",
   "name": "python3"
  },
  "language_info": {
   "codemirror_mode": {
    "name": "ipython",
    "version": 3
   },
   "file_extension": ".py",
   "mimetype": "text/x-python",
   "name": "python",
   "nbconvert_exporter": "python",
   "pygments_lexer": "ipython3",
   "version": "3.10.14"
  }
 },
 "nbformat": 4,
 "nbformat_minor": 4
}
