{
 "cells": [
  {
   "cell_type": "markdown",
   "id": "88716432",
   "metadata": {},
   "source": "# NEURAL MACHINE TRANSLATION - Vanilla RNN with Attention"
  },
  {
   "cell_type": "markdown",
   "id": "5fb4bb18",
   "metadata": {},
   "source": [
    "## Required Module & Config files"
   ]
  },
  {
   "cell_type": "code",
   "id": "a89bf9e4-311d-4af8-846b-ccfcb9e940b2",
   "metadata": {
    "ExecuteTime": {
     "end_time": "2024-07-18T19:28:02.555439Z",
     "start_time": "2024-07-18T19:27:58.984816Z"
    }
   },
   "source": [
    "import src.RNN_GRUAttention as rnnANMT\n",
    "from src.Tokenizer import Corpus, LangData, dataLoader\n",
    "from src.utils import load_config, get_device, train_model, sentence_bleu, corpus_bleu\n",
    "from src.TranslatorAtt import TranslatorAtt\n",
    "from torch.nn import CrossEntropyLoss\n",
    "from torch.optim import NAdam\n",
    "from torchinfo import summary\n",
    "\n",
    "# Loading config file\n",
    "config = load_config()\n",
    "# Get device : GPU/MPS Back-End/CPU\n",
    "device = get_device()\n",
    "print(f\"Using device: {device}\")"
   ],
   "outputs": [
    {
     "name": "stderr",
     "output_type": "stream",
     "text": [
      "Using the latest cached version of the module from /Users/lucien/.cache/huggingface/modules/evaluate_modules/metrics/evaluate-metric--bleu/9e0985c1200e367cce45605ce0ecb5ede079894e0f24f54613fca08eeb8aff76 (last modified on Thu Jul 18 16:29:52 2024) since it couldn't be found locally at evaluate-metric--bleu, or remotely on the Hugging Face Hub.\n"
     ]
    },
    {
     "name": "stdout",
     "output_type": "stream",
     "text": [
      "Using device: mps\n"
     ]
    }
   ],
   "execution_count": 1
  },
  {
   "cell_type": "markdown",
   "id": "76325a3f",
   "metadata": {},
   "source": [
    "## Load the dataset"
   ]
  },
  {
   "cell_type": "code",
   "id": "083f4d8c",
   "metadata": {
    "ExecuteTime": {
     "end_time": "2024-07-18T19:28:02.573533Z",
     "start_time": "2024-07-18T19:28:02.556762Z"
    }
   },
   "source": [
    "# Encoder-Source\n",
    "english_data = Corpus(f\"{config.TRAIN_DATA}/english.txt\", \"English\")\n",
    "afrikaans_data = Corpus(f\"{config.TRAIN_DATA}/afrikaans.txt\", \"Afrikaans\")"
   ],
   "outputs": [],
   "execution_count": 2
  },
  {
   "cell_type": "markdown",
   "id": "0142f911",
   "metadata": {},
   "source": [
    "## Set Hyperparameters"
   ]
  },
  {
   "cell_type": "code",
   "id": "d5ff35e0",
   "metadata": {
    "ExecuteTime": {
     "end_time": "2024-07-18T19:28:02.576718Z",
     "start_time": "2024-07-18T19:28:02.574417Z"
    }
   },
   "source": [
    "# Encoder - source\n",
    "IN_ENCODER = english_data.vocab_size\n",
    "ENCODER_EMB = 256\n",
    "\n",
    "# Decoder - target\n",
    "IN_DECODER = afrikaans_data.vocab_size\n",
    "OUT_DECODER = afrikaans_data.vocab_size\n",
    "DECODER_EMB = 256\n",
    "\n",
    "# Shared\n",
    "HIDDEN_SIZE = 1024\n",
    "NUM_LAYERS = 2\n",
    "\n",
    "LR = 1e-4\n",
    "BATCH_SIZE = 128"
   ],
   "outputs": [],
   "execution_count": 3
  },
  {
   "cell_type": "markdown",
   "id": "da759f25",
   "metadata": {},
   "source": [
    "## Set the model"
   ]
  },
  {
   "cell_type": "code",
   "id": "f04f2d2f",
   "metadata": {
    "ExecuteTime": {
     "end_time": "2024-07-18T19:28:02.712136Z",
     "start_time": "2024-07-18T19:28:02.577955Z"
    }
   },
   "source": [
    "encoder_net = rnnANMT.Encoder(IN_ENCODER, ENCODER_EMB, HIDDEN_SIZE, NUM_LAYERS).to(device)\n",
    "decoder_net = rnnANMT.Decoder(IN_DECODER, DECODER_EMB, HIDDEN_SIZE, NUM_LAYERS).to(device)\n",
    "model = rnnANMT.RNNAtt(encoder_net, decoder_net, OUT_DECODER)\n",
    "\n",
    "summary(model)"
   ],
   "outputs": [
    {
     "data": {
      "text/plain": [
       "=================================================================\n",
       "Layer (type:depth-idx)                   Param #\n",
       "=================================================================\n",
       "RNNAtt                                   --\n",
       "├─Encoder: 1-1                           --\n",
       "│    └─RNN: 2-1                          3,411,968\n",
       "│    └─Embedding: 2-2                    743,936\n",
       "├─Decoder: 1-2                           --\n",
       "│    └─RNN: 2-3                          3,411,968\n",
       "│    └─Embedding: 2-4                    737,024\n",
       "│    └─Linear: 2-5                       5,899,071\n",
       "=================================================================\n",
       "Total params: 14,203,967\n",
       "Trainable params: 14,203,967\n",
       "Non-trainable params: 0\n",
       "================================================================="
      ]
     },
     "execution_count": 4,
     "metadata": {},
     "output_type": "execute_result"
    }
   ],
   "execution_count": 4
  },
  {
   "cell_type": "code",
   "id": "ee757771",
   "metadata": {
    "ExecuteTime": {
     "end_time": "2024-07-18T19:28:04.499800Z",
     "start_time": "2024-07-18T19:28:03.956593Z"
    }
   },
   "source": [
    "train_data = LangData(english_data, afrikaans_data)\n",
    "train_loader = dataLoader(train_data, BATCH_SIZE)\n",
    "\n",
    "pad_idx = afrikaans_data.stoi['<pad>']\n",
    "criterion = CrossEntropyLoss(ignore_index=0)\n",
    "\n",
    "optimizer = NAdam(model.parameters(), LR)\n",
    "translator = TranslatorAtt(model, english_data, afrikaans_data, device)"
   ],
   "outputs": [],
   "execution_count": 5
  },
  {
   "cell_type": "code",
   "id": "bcb89b48",
   "metadata": {
    "ExecuteTime": {
     "end_time": "2024-07-18T19:28:06.893679Z",
     "start_time": "2024-07-18T19:28:05.181946Z"
    }
   },
   "source": [
    "# Data used for follow-up durring training\n",
    "mytext = \"<sos> given that we represent the target output as $y\\in\\{0,1\\}$ and we have $n$ training points , we can write the negative log likelihood of the parameters as follows: <eos>\"\n",
    "ground = \"<sos> as ons die teikenuittree voorstel as $y\\in\\{0,1\\}$ en ons $n$ afrigpunte het , dan kan ons die negatiewe log-waarskynlikheidskostefunksie skryf as: <eos>\"\n",
    "\n",
    "predicted = translator.translate_sentence(mytext)\n",
    "bleu = sentence_bleu(prediction=[predicted], reference=[ground])\n",
    "print(f\"Pred: {predicted}\")\n",
    "print(f\"Refe: {ground}\")\n",
    "print(f\"BLEU SCORES: {bleu}\")"
   ],
   "outputs": [
    {
     "name": "stdout",
     "output_type": "stream",
     "text": [
      "Pred: <sos> weller.\" persent (all-pass) lewer verlies ophou trek \\textit{iris kousale prototipe verdubbel $w_2=0.07$ algebra\\\"ies waag kringe standardiseer (all-pass) hoogwater aanvaar handskoene\n",
      "Refe: <sos> as ons die teikenuittree voorstel as $y\\in\\{0,1\\}$ en ons $n$ afrigpunte het , dan kan ons die negatiewe log-waarskynlikheidskostefunksie skryf as: <eos>\n",
      "BLEU SCORES: [0.195, 0.099, 0.063, 0.0]\n"
     ]
    }
   ],
   "execution_count": 6
  },
  {
   "cell_type": "markdown",
   "id": "2ed66bc3",
   "metadata": {},
   "source": [
    "## Train the data"
   ]
  },
  {
   "cell_type": "code",
   "id": "7b2790009f0b8f40",
   "metadata": {
    "ExecuteTime": {
     "end_time": "2024-07-18T19:30:44.985722Z",
     "start_time": "2024-07-18T19:28:11.562497Z"
    }
   },
   "source": [
    "EPOCHS = 20\n",
    "params = {\n",
    "    \"model\": model,\n",
    "    \"train_loader\": train_loader,\n",
    "    \"optimizer\": optimizer,\n",
    "    \"criterion\": criterion,\n",
    "    \"device\": device,\n",
    "    \"epochs\": EPOCHS,\n",
    "    \"source_test\": mytext,\n",
    "    \"reference\": ground,\n",
    "\t\"translator\":translator\n",
    "}\n",
    "\n",
    "train_model(**params)"
   ],
   "outputs": [
    {
     "name": "stderr",
     "output_type": "stream",
     "text": [
      "Using the latest cached version of the module from /Users/lucien/.cache/huggingface/modules/evaluate_modules/metrics/evaluate-metric--bleu/9e0985c1200e367cce45605ce0ecb5ede079894e0f24f54613fca08eeb8aff76 (last modified on Thu Jul 18 16:29:52 2024) since it couldn't be found locally at evaluate-metric--bleu, or remotely on the Hugging Face Hub.\n",
      "Epoch 1/20: 100%|██████████| 20/20 [00:12<00:00,  1.61batch/s, loss=1.891]\n"
     ]
    },
    {
     "name": "stdout",
     "output_type": "stream",
     "text": [
      "Predicted: <sos> ek het nie <eos>\n",
      "BLEU Score: [0.028, 0.022, 0.017, 0.0]\n"
     ]
    },
    {
     "name": "stderr",
     "output_type": "stream",
     "text": [
      "Epoch 2/20: 100%|██████████| 20/20 [00:07<00:00,  2.75batch/s, loss=1.599]\n"
     ]
    },
    {
     "name": "stdout",
     "output_type": "stream",
     "text": [
      "Predicted: <sos> ek is 'n die die die <eos>\n",
      "BLEU Score: [0.07, 0.052, 0.038, 0.0]\n"
     ]
    },
    {
     "name": "stderr",
     "output_type": "stream",
     "text": [
      "Epoch 3/20: 100%|██████████| 20/20 [00:07<00:00,  2.83batch/s, loss=1.554]\n"
     ]
    },
    {
     "name": "stdout",
     "output_type": "stream",
     "text": [
      "Predicted: <sos> die die die die die die die die die die die die die die die die die die die die\n",
      "BLEU Score: [0.108, 0.07, 0.049, 0.0]\n"
     ]
    },
    {
     "name": "stderr",
     "output_type": "stream",
     "text": [
      "Epoch 4/20: 100%|██████████| 20/20 [00:07<00:00,  2.72batch/s, loss=1.581]\n"
     ]
    },
    {
     "name": "stdout",
     "output_type": "stream",
     "text": [
      "Predicted: <sos> die die die die die die die die die die die die die die die die die die die die\n",
      "BLEU Score: [0.108, 0.07, 0.049, 0.0]\n"
     ]
    },
    {
     "name": "stderr",
     "output_type": "stream",
     "text": [
      "Epoch 5/20: 100%|██████████| 20/20 [00:07<00:00,  2.75batch/s, loss=1.502]\n"
     ]
    },
    {
     "name": "stdout",
     "output_type": "stream",
     "text": [
      "Predicted: <sos> die die die die die die die die die die die die die die die die die die die die\n",
      "BLEU Score: [0.108, 0.07, 0.049, 0.0]\n"
     ]
    },
    {
     "name": "stderr",
     "output_type": "stream",
     "text": [
      "Epoch 6/20: 100%|██████████| 20/20 [00:07<00:00,  2.81batch/s, loss=1.456]\n"
     ]
    },
    {
     "name": "stdout",
     "output_type": "stream",
     "text": [
      "Predicted: <sos> die die die van die die die die die die die die die die die die die die die die\n",
      "BLEU Score: [0.108, 0.07, 0.049, 0.0]\n"
     ]
    },
    {
     "name": "stderr",
     "output_type": "stream",
     "text": [
      "Epoch 7/20: 100%|██████████| 20/20 [00:06<00:00,  2.90batch/s, loss=1.404]\n"
     ]
    },
    {
     "name": "stdout",
     "output_type": "stream",
     "text": [
      "Predicted: <sos> die die die die die die die die die die die die die die die die die die die die\n",
      "BLEU Score: [0.108, 0.07, 0.049, 0.0]\n"
     ]
    },
    {
     "name": "stderr",
     "output_type": "stream",
     "text": [
      "Epoch 8/20: 100%|██████████| 20/20 [00:07<00:00,  2.84batch/s, loss=1.386]\n"
     ]
    },
    {
     "name": "stdout",
     "output_type": "stream",
     "text": [
      "Predicted: <sos> die die die die die die die die die die die die die die die die die die die die\n",
      "BLEU Score: [0.108, 0.07, 0.049, 0.0]\n"
     ]
    },
    {
     "name": "stderr",
     "output_type": "stream",
     "text": [
      "Epoch 9/20: 100%|██████████| 20/20 [00:07<00:00,  2.70batch/s, loss=1.430]\n"
     ]
    },
    {
     "name": "stdout",
     "output_type": "stream",
     "text": [
      "Predicted: <sos> die die die van die die die die die van die , van die , van die , van die\n",
      "BLEU Score: [0.13, 0.077, 0.052, 0.0]\n"
     ]
    },
    {
     "name": "stderr",
     "output_type": "stream",
     "text": [
      "Epoch 10/20: 100%|██████████| 20/20 [00:07<00:00,  2.72batch/s, loss=1.387]\n"
     ]
    },
    {
     "name": "stdout",
     "output_type": "stream",
     "text": [
      "Predicted: <sos> die die die die van die en die die die <eos>\n",
      "BLEU Score: [0.134, 0.092, 0.066, 0.0]\n"
     ]
    },
    {
     "name": "stderr",
     "output_type": "stream",
     "text": [
      "Epoch 11/20: 100%|██████████| 20/20 [00:07<00:00,  2.72batch/s, loss=1.390]\n"
     ]
    },
    {
     "name": "stdout",
     "output_type": "stream",
     "text": [
      "Predicted: <sos> ons is die die die die die die die die , , die die die <eos>\n",
      "BLEU Score: [0.202, 0.131, 0.092, 0.0]\n"
     ]
    },
    {
     "name": "stderr",
     "output_type": "stream",
     "text": [
      "Epoch 12/20: 100%|██████████| 20/20 [00:07<00:00,  2.66batch/s, loss=1.343]\n"
     ]
    },
    {
     "name": "stdout",
     "output_type": "stream",
     "text": [
      "Predicted: <sos> ons is die die die van die , , , , , , , , , die die <eos>\n",
      "BLEU Score: [0.223, 0.144, 0.1, 0.0]\n"
     ]
    },
    {
     "name": "stderr",
     "output_type": "stream",
     "text": [
      "Epoch 13/20: 100%|██████████| 20/20 [00:07<00:00,  2.71batch/s, loss=1.320]\n"
     ]
    },
    {
     "name": "stdout",
     "output_type": "stream",
     "text": [
      "Predicted: <sos> ons is die die die van die , , , , die die die , , , die die die\n",
      "BLEU Score: [0.152, 0.083, 0.055, 0.0]\n"
     ]
    },
    {
     "name": "stderr",
     "output_type": "stream",
     "text": [
      "Epoch 14/20: 100%|██████████| 20/20 [00:07<00:00,  2.68batch/s, loss=1.284]\n"
     ]
    },
    {
     "name": "stdout",
     "output_type": "stream",
     "text": [
      "Predicted: <sos> ons is die die van van die , , , , , die die van die , van die ,\n",
      "BLEU Score: [0.152, 0.083, 0.055, 0.0]\n"
     ]
    },
    {
     "name": "stderr",
     "output_type": "stream",
     "text": [
      "Epoch 15/20: 100%|██████████| 20/20 [00:07<00:00,  2.71batch/s, loss=1.247]\n"
     ]
    },
    {
     "name": "stdout",
     "output_type": "stream",
     "text": [
      "Predicted: <sos> ons is die die van die van die , van die , van die , van die , van die\n",
      "BLEU Score: [0.152, 0.083, 0.055, 0.0]\n"
     ]
    },
    {
     "name": "stderr",
     "output_type": "stream",
     "text": [
      "Epoch 16/20: 100%|██████████| 20/20 [00:07<00:00,  2.68batch/s, loss=1.188]\n"
     ]
    },
    {
     "name": "stdout",
     "output_type": "stream",
     "text": [
      "Predicted: <sos> ons ons die die van van die , , , , , , die die die van die , ,\n",
      "BLEU Score: [0.173, 0.109, 0.065, 0.0]\n"
     ]
    },
    {
     "name": "stderr",
     "output_type": "stream",
     "text": [
      "Epoch 17/20: 100%|██████████| 20/20 [00:07<00:00,  2.82batch/s, loss=1.135]\n"
     ]
    },
    {
     "name": "stdout",
     "output_type": "stream",
     "text": [
      "Predicted: <sos> ons ons die die van van 'n , , , , , ons , die die die , , ,\n",
      "BLEU Score: [0.195, 0.115, 0.068, 0.0]\n"
     ]
    },
    {
     "name": "stderr",
     "output_type": "stream",
     "text": [
      "Epoch 18/20: 100%|██████████| 20/20 [00:07<00:00,  2.78batch/s, loss=1.124]\n"
     ]
    },
    {
     "name": "stdout",
     "output_type": "stream",
     "text": [
      "Predicted: <sos> dit is die die van van 'n , , , ons , die die van die , van die ,\n",
      "BLEU Score: [0.152, 0.083, 0.055, 0.0]\n"
     ]
    },
    {
     "name": "stderr",
     "output_type": "stream",
     "text": [
      "Epoch 19/20: 100%|██████████| 20/20 [00:07<00:00,  2.70batch/s, loss=1.119]\n"
     ]
    },
    {
     "name": "stdout",
     "output_type": "stream",
     "text": [
      "Predicted: <sos> dit is die die van van 'n , , , ons , die die van die , wat ons die\n",
      "BLEU Score: [0.173, 0.109, 0.065, 0.0]\n"
     ]
    },
    {
     "name": "stderr",
     "output_type": "stream",
     "text": [
      "Epoch 20/20: 100%|██████████| 20/20 [00:07<00:00,  2.64batch/s, loss=1.101]\n"
     ]
    },
    {
     "name": "stdout",
     "output_type": "stream",
     "text": [
      "Predicted: <sos> dit is die die wat wat ons , , , , die die die , , , , die die\n",
      "BLEU Score: [0.152, 0.083, 0.055, 0.0]\n"
     ]
    }
   ],
   "execution_count": 7
  },
  {
   "cell_type": "markdown",
   "id": "f4bfc9b5",
   "metadata": {},
   "source": "## Evauate on the Training set"
  },
  {
   "cell_type": "code",
   "id": "798fe0ad",
   "metadata": {
    "ExecuteTime": {
     "end_time": "2024-07-18T19:32:04.787230Z",
     "start_time": "2024-07-18T19:31:21.805022Z"
    }
   },
   "source": [
    "EN_SRC = [' '.join(sent) for sent in english_data.data_str]\n",
    "AF_REF = [[' '.join(sent)] for sent in afrikaans_data.data_str]\n",
    "TRANSLATED = [translator.translate_sentence(sent) for sent in EN_SRC]\n",
    "corpus_bleu(TRANSLATED, AF_REF)"
   ],
   "outputs": [
    {
     "name": "stderr",
     "output_type": "stream",
     "text": [
      "Using the latest cached version of the module from /Users/lucien/.cache/huggingface/modules/evaluate_modules/metrics/evaluate-metric--bleu/9e0985c1200e367cce45605ce0ecb5ede079894e0f24f54613fca08eeb8aff76 (last modified on Thu Jul 18 16:29:52 2024) since it couldn't be found locally at evaluate-metric--bleu, or remotely on the Hugging Face Hub.\n"
     ]
    },
    {
     "name": "stdout",
     "output_type": "stream",
     "text": [
      "                                     BLEU-1                                     \n",
      "------------------------------------------------------------------------------------------\n",
      "bleu                : 0.554970097742182\n",
      "precisions          : [0.554970097742182]\n",
      "brevity_penalty     : 1.0\n",
      "length_ratio        : 1.0282548626537358\n",
      "translation_length  : 37957\n",
      "reference_length    : 36914\n",
      "******************************************************************************************\n",
      "                                     BLEU-2                                     \n",
      "------------------------------------------------------------------------------------------\n",
      "bleu                : 0.45742393193969\n",
      "precisions          : [0.554970097742182, 0.3770232925384919]\n",
      "brevity_penalty     : 1.0\n",
      "length_ratio        : 1.0282548626537358\n",
      "translation_length  : 37957\n",
      "reference_length    : 36914\n",
      "******************************************************************************************\n",
      "                                     BLEU-3                                     \n",
      "------------------------------------------------------------------------------------------\n",
      "bleu                : 0.3756646006712441\n",
      "precisions          : [0.554970097742182, 0.3770232925384919, 0.25337458670792007]\n",
      "brevity_penalty     : 1.0\n",
      "length_ratio        : 1.0282548626537358\n",
      "translation_length  : 37957\n",
      "reference_length    : 36914\n",
      "******************************************************************************************\n",
      "                                     BLEU-4                                     \n",
      "------------------------------------------------------------------------------------------\n",
      "bleu                : 0.2851671085750739\n",
      "precisions          : [0.554970097742182, 0.3770232925384919, 0.25337458670792007, 0.12473746390128643]\n",
      "brevity_penalty     : 1.0\n",
      "length_ratio        : 1.0282548626537358\n",
      "translation_length  : 37957\n",
      "reference_length    : 36914\n",
      "******************************************************************************************\n"
     ]
    }
   ],
   "execution_count": 8
  },
  {
   "cell_type": "markdown",
   "id": "d2cc6ed3",
   "metadata": {},
   "source": "## Evaluate on the Test set"
  },
  {
   "metadata": {
    "ExecuteTime": {
     "end_time": "2024-07-18T19:33:21.891240Z",
     "start_time": "2024-07-18T19:33:21.886493Z"
    }
   },
   "cell_type": "code",
   "source": [
    "with open(f\"{config.VAL_DATA}/english.txt\") as data:\n",
    "    english_val = data.read().strip().split(\"\\n\")\n",
    "with open(f\"{config.VAL_DATA}/afrikaans.txt\") as data:\n",
    "    afrikaans_val = data.read().strip().split(\"\\n\")"
   ],
   "id": "7bccda3561c7cc9",
   "outputs": [],
   "execution_count": 13
  },
  {
   "metadata": {},
   "cell_type": "markdown",
   "source": "### Greedy Search",
   "id": "de0ea7b89f9add91"
  },
  {
   "cell_type": "code",
   "id": "61b64fb6",
   "metadata": {
    "ExecuteTime": {
     "end_time": "2024-07-18T19:33:40.494295Z",
     "start_time": "2024-07-18T19:33:22.973383Z"
    }
   },
   "source": [
    "VAL_AF_REF = [[sent] for sent in afrikaans_val]\n",
    "VAL_TRANSLATED = [translator.translate_sentence(sent) for sent in english_val]\n",
    "\n",
    "corpus_bleu(VAL_TRANSLATED, VAL_AF_REF)"
   ],
   "outputs": [
    {
     "name": "stderr",
     "output_type": "stream",
     "text": [
      "Using the latest cached version of the module from /Users/lucien/.cache/huggingface/modules/evaluate_modules/metrics/evaluate-metric--bleu/9e0985c1200e367cce45605ce0ecb5ede079894e0f24f54613fca08eeb8aff76 (last modified on Thu Jul 18 16:29:52 2024) since it couldn't be found locally at evaluate-metric--bleu, or remotely on the Hugging Face Hub.\n"
     ]
    },
    {
     "name": "stdout",
     "output_type": "stream",
     "text": [
      "                                     BLEU-1                                     \n",
      "------------------------------------------------------------------------------------------\n",
      "bleu                : 0.5568948575171963\n",
      "precisions          : [0.5568948575171963]\n",
      "brevity_penalty     : 1.0\n",
      "length_ratio        : 1.0451184444748733\n",
      "translation_length  : 15265\n",
      "reference_length    : 14606\n",
      "******************************************************************************************\n",
      "                                     BLEU-2                                     \n",
      "------------------------------------------------------------------------------------------\n",
      "bleu                : 0.45444803388550437\n",
      "precisions          : [0.5568948575171963, 0.3708474099099099]\n",
      "brevity_penalty     : 1.0\n",
      "length_ratio        : 1.0451184444748733\n",
      "translation_length  : 15265\n",
      "reference_length    : 14606\n",
      "******************************************************************************************\n",
      "                                     BLEU-3                                     \n",
      "------------------------------------------------------------------------------------------\n",
      "bleu                : 0.3669741508899066\n",
      "precisions          : [0.5568948575171963, 0.3708474099099099, 0.23929739183332066]\n",
      "brevity_penalty     : 1.0\n",
      "length_ratio        : 1.0451184444748733\n",
      "translation_length  : 15265\n",
      "reference_length    : 14606\n",
      "******************************************************************************************\n",
      "                                     BLEU-4                                     \n",
      "------------------------------------------------------------------------------------------\n",
      "bleu                : 0.26368188870293263\n",
      "precisions          : [0.5568948575171963, 0.3708474099099099, 0.23929739183332066, 0.09781709938812634]\n",
      "brevity_penalty     : 1.0\n",
      "length_ratio        : 1.0451184444748733\n",
      "translation_length  : 15265\n",
      "reference_length    : 14606\n",
      "******************************************************************************************\n"
     ]
    }
   ],
   "execution_count": 14
  },
  {
   "metadata": {},
   "cell_type": "markdown",
   "source": "### Beam search",
   "id": "27701d9e8ea38687"
  },
  {
   "metadata": {
    "ExecuteTime": {
     "end_time": "2024-07-18T19:34:35.702411Z",
     "start_time": "2024-07-18T19:33:40.495430Z"
    }
   },
   "cell_type": "code",
   "source": [
    "VAL_TRANSLATED = [translator.translate_sentence(sent, method=\"beam\", beam_width=2) for sent in english_val]\n",
    "corpus_bleu(VAL_TRANSLATED, VAL_AF_REF)"
   ],
   "id": "e69185237c45264d",
   "outputs": [
    {
     "name": "stderr",
     "output_type": "stream",
     "text": [
      "Using the latest cached version of the module from /Users/lucien/.cache/huggingface/modules/evaluate_modules/metrics/evaluate-metric--bleu/9e0985c1200e367cce45605ce0ecb5ede079894e0f24f54613fca08eeb8aff76 (last modified on Thu Jul 18 16:29:52 2024) since it couldn't be found locally at evaluate-metric--bleu, or remotely on the Hugging Face Hub.\n"
     ]
    },
    {
     "name": "stdout",
     "output_type": "stream",
     "text": [
      "                                     BLEU-1                                     \n",
      "------------------------------------------------------------------------------------------\n",
      "bleu                : 0.5654433740314893\n",
      "precisions          : [0.6959073997519636]\n",
      "brevity_penalty     : 0.8125267445539816\n",
      "length_ratio        : 0.8280843488977133\n",
      "translation_length  : 12095\n",
      "reference_length    : 14606\n",
      "******************************************************************************************\n",
      "                                     BLEU-2                                     \n",
      "------------------------------------------------------------------------------------------\n",
      "bleu                : 0.4711443517782686\n",
      "precisions          : [0.6959073997519636, 0.4831491212176119]\n",
      "brevity_penalty     : 0.8125267445539816\n",
      "length_ratio        : 0.8280843488977133\n",
      "translation_length  : 12095\n",
      "reference_length    : 14606\n",
      "******************************************************************************************\n",
      "                                     BLEU-3                                     \n",
      "------------------------------------------------------------------------------------------\n",
      "bleu                : 0.3865385257914461\n",
      "precisions          : [0.6959073997519636, 0.4831491212176119, 0.3202083959523094]\n",
      "brevity_penalty     : 0.8125267445539816\n",
      "length_ratio        : 0.8280843488977133\n",
      "translation_length  : 12095\n",
      "reference_length    : 14606\n",
      "******************************************************************************************\n",
      "                                     BLEU-4                                     \n",
      "------------------------------------------------------------------------------------------\n",
      "bleu                : 0.2793452269321173\n",
      "precisions          : [0.6959073997519636, 0.4831491212176119, 0.3202083959523094, 0.12976243836844464]\n",
      "brevity_penalty     : 0.8125267445539816\n",
      "length_ratio        : 0.8280843488977133\n",
      "translation_length  : 12095\n",
      "reference_length    : 14606\n",
      "******************************************************************************************\n"
     ]
    }
   ],
   "execution_count": 15
  },
  {
   "metadata": {},
   "cell_type": "markdown",
   "source": "## Evaluate on the SUN validation set only",
   "id": "1b0ff51e2f68a4b7"
  },
  {
   "metadata": {
    "ExecuteTime": {
     "end_time": "2024-07-18T19:32:23.056663Z",
     "start_time": "2024-07-18T19:32:23.052262Z"
    }
   },
   "cell_type": "code",
   "source": [
    "with open(f\"{config.VAL_DATA}/sun_english.txt\") as data:\n",
    "    sun_english_val = data.read().strip().split(\"\\n\")\n",
    "with open(f\"{config.VAL_DATA}/sun_afrikaans.txt\") as data:\n",
    "    sun_afrikaans_val = data.read().strip().split(\"\\n\")"
   ],
   "id": "bc72e734a881f3e6",
   "outputs": [],
   "execution_count": 9
  },
  {
   "metadata": {},
   "cell_type": "markdown",
   "source": "### Greedy Search",
   "id": "65efe1d3e5cabda6"
  },
  {
   "metadata": {
    "ExecuteTime": {
     "end_time": "2024-07-18T19:32:31.222456Z",
     "start_time": "2024-07-18T19:32:24.430846Z"
    }
   },
   "cell_type": "code",
   "source": [
    "SUN_VAL_AF = [[sent] for sent in sun_afrikaans_val]\n",
    "SUN_VAL_TRANSLATED = [translator.translate_sentence(sent) for sent in sun_english_val]\n",
    "corpus_bleu(SUN_VAL_TRANSLATED, SUN_VAL_AF)"
   ],
   "id": "da8e61dc585a4a8e",
   "outputs": [
    {
     "name": "stderr",
     "output_type": "stream",
     "text": [
      "Using the latest cached version of the module from /Users/lucien/.cache/huggingface/modules/evaluate_modules/metrics/evaluate-metric--bleu/9e0985c1200e367cce45605ce0ecb5ede079894e0f24f54613fca08eeb8aff76 (last modified on Thu Jul 18 16:29:52 2024) since it couldn't be found locally at evaluate-metric--bleu, or remotely on the Hugging Face Hub.\n"
     ]
    },
    {
     "name": "stdout",
     "output_type": "stream",
     "text": [
      "                                     BLEU-1                                     \n",
      "------------------------------------------------------------------------------------------\n",
      "bleu                : 0.3795550652662408\n",
      "precisions          : [0.42424242424242425]\n",
      "brevity_penalty     : 0.8946655109847104\n",
      "length_ratio        : 0.8998426848453067\n",
      "translation_length  : 3432\n",
      "reference_length    : 3814\n",
      "******************************************************************************************\n",
      "                                     BLEU-2                                     \n",
      "------------------------------------------------------------------------------------------\n",
      "bleu                : 0.28272016183778237\n",
      "precisions          : [0.42424242424242425, 0.2353846153846154]\n",
      "brevity_penalty     : 0.8946655109847104\n",
      "length_ratio        : 0.8998426848453067\n",
      "translation_length  : 3432\n",
      "reference_length    : 3814\n",
      "******************************************************************************************\n",
      "                                     BLEU-3                                     \n",
      "------------------------------------------------------------------------------------------\n",
      "bleu                : 0.21324101655960334\n",
      "precisions          : [0.42424242424242425, 0.2353846153846154, 0.13559322033898305]\n",
      "brevity_penalty     : 0.8946655109847104\n",
      "length_ratio        : 0.8998426848453067\n",
      "translation_length  : 3432\n",
      "reference_length    : 3814\n",
      "******************************************************************************************\n",
      "                                     BLEU-4                                     \n",
      "------------------------------------------------------------------------------------------\n",
      "bleu                : 0.13515275256798703\n",
      "precisions          : [0.42424242424242425, 0.2353846153846154, 0.13559322033898305, 0.038461538461538464]\n",
      "brevity_penalty     : 0.8946655109847104\n",
      "length_ratio        : 0.8998426848453067\n",
      "translation_length  : 3432\n",
      "reference_length    : 3814\n",
      "******************************************************************************************\n"
     ]
    }
   ],
   "execution_count": 10
  },
  {
   "metadata": {},
   "cell_type": "markdown",
   "source": "### Beam Search",
   "id": "55bc55d38120c8bd"
  },
  {
   "metadata": {
    "ExecuteTime": {
     "end_time": "2024-07-18T19:32:49.741952Z",
     "start_time": "2024-07-18T19:32:31.223664Z"
    }
   },
   "cell_type": "code",
   "source": [
    "SUN_VAL_TRANSLATED = [translator.translate_sentence(sent, method=\"beam\", beam_width=2) for sent in sun_english_val]\n",
    "corpus_bleu(SUN_VAL_TRANSLATED, SUN_VAL_AF)"
   ],
   "id": "42aea58fffea3b74",
   "outputs": [
    {
     "name": "stderr",
     "output_type": "stream",
     "text": [
      "Using the latest cached version of the module from /Users/lucien/.cache/huggingface/modules/evaluate_modules/metrics/evaluate-metric--bleu/9e0985c1200e367cce45605ce0ecb5ede079894e0f24f54613fca08eeb8aff76 (last modified on Thu Jul 18 16:29:52 2024) since it couldn't be found locally at evaluate-metric--bleu, or remotely on the Hugging Face Hub.\n"
     ]
    },
    {
     "name": "stdout",
     "output_type": "stream",
     "text": [
      "                                     BLEU-1                                     \n",
      "------------------------------------------------------------------------------------------\n",
      "bleu                : 0.354415067780592\n",
      "precisions          : [0.5483992467043315]\n",
      "brevity_penalty     : 0.646271981426835\n",
      "length_ratio        : 0.6961195595175669\n",
      "translation_length  : 2655\n",
      "reference_length    : 3814\n",
      "******************************************************************************************\n",
      "                                     BLEU-2                                     \n",
      "------------------------------------------------------------------------------------------\n",
      "bleu                : 0.27118267830255316\n",
      "precisions          : [0.5483992467043315, 0.32106752931661947]\n",
      "brevity_penalty     : 0.646271981426835\n",
      "length_ratio        : 0.6961195595175669\n",
      "translation_length  : 2655\n",
      "reference_length    : 3814\n",
      "******************************************************************************************\n",
      "                                     BLEU-3                                     \n",
      "------------------------------------------------------------------------------------------\n",
      "bleu                : 0.20803414381960045\n",
      "precisions          : [0.5483992467043315, 0.32106752931661947, 0.18943692710606722]\n",
      "brevity_penalty     : 0.646271981426835\n",
      "length_ratio        : 0.6961195595175669\n",
      "translation_length  : 2655\n",
      "reference_length    : 3814\n",
      "******************************************************************************************\n",
      "                                     BLEU-4                                     \n",
      "------------------------------------------------------------------------------------------\n",
      "bleu                : 0.1295196597517652\n",
      "precisions          : [0.5483992467043315, 0.32106752931661947, 0.18943692710606722, 0.04836415362731152]\n",
      "brevity_penalty     : 0.646271981426835\n",
      "length_ratio        : 0.6961195595175669\n",
      "translation_length  : 2655\n",
      "reference_length    : 3814\n",
      "******************************************************************************************\n"
     ]
    }
   ],
   "execution_count": 11
  },
  {
   "metadata": {},
   "cell_type": "code",
   "outputs": [],
   "execution_count": null,
   "source": "",
   "id": "81ad9c204935caa2"
  }
 ],
 "metadata": {
  "kernelspec": {
   "display_name": "Python 3 (ipykernel)",
   "language": "python",
   "name": "python3"
  },
  "language_info": {
   "codemirror_mode": {
    "name": "ipython",
    "version": 3
   },
   "file_extension": ".py",
   "mimetype": "text/x-python",
   "name": "python",
   "nbconvert_exporter": "python",
   "pygments_lexer": "ipython3",
   "version": "3.10.14"
  }
 },
 "nbformat": 4,
 "nbformat_minor": 5
}
