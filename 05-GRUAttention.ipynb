{
 "cells": [
  {
   "cell_type": "markdown",
   "id": "88716432",
   "metadata": {},
   "source": [
    "# NEURAL MACHINE TRANSLATION - GRU with Attention"
   ]
  },
  {
   "cell_type": "markdown",
   "id": "5fb4bb18",
   "metadata": {},
   "source": [
    "## Required Module & Config files"
   ]
  },
  {
   "cell_type": "code",
   "execution_count": 1,
   "id": "a89bf9e4-311d-4af8-846b-ccfcb9e940b2",
   "metadata": {
    "ExecuteTime": {
     "end_time": "2024-07-18T19:48:50.743968Z",
     "start_time": "2024-07-18T19:48:47.270229Z"
    }
   },
   "outputs": [
    {
     "name": "stderr",
     "output_type": "stream",
     "text": [
      "Using the latest cached version of the module from /Users/lucien/.cache/huggingface/modules/evaluate_modules/metrics/evaluate-metric--bleu/9e0985c1200e367cce45605ce0ecb5ede079894e0f24f54613fca08eeb8aff76 (last modified on Thu Jul 18 16:29:52 2024) since it couldn't be found locally at evaluate-metric--bleu, or remotely on the Hugging Face Hub.\n"
     ]
    },
    {
     "name": "stdout",
     "output_type": "stream",
     "text": [
      "Using device: mps\n"
     ]
    }
   ],
   "source": [
    "import src.RNN_GRUAttention as gruANMT\n",
    "from src.Tokenizer import Corpus, LangData, dataLoader\n",
    "from src.utils import load_config, get_device, train_model, sentence_bleu, corpus_bleu\n",
    "from src.TranslatorAtt import TranslatorAtt\n",
    "from torch.nn import CrossEntropyLoss\n",
    "from torch.optim import NAdam\n",
    "import evaluate\n",
    "import numpy as np\n",
    "from torchinfo import summary\n",
    "\n",
    "# Loading config file\n",
    "config = load_config()\n",
    "# Get device : GPU/MPS Back-End/CPU\n",
    "device = get_device()\n",
    "print(f\"Using device: {device}\")"
   ]
  },
  {
   "cell_type": "markdown",
   "id": "76325a3f",
   "metadata": {},
   "source": [
    "## Load the dataset"
   ]
  },
  {
   "cell_type": "code",
   "execution_count": 2,
   "id": "083f4d8c",
   "metadata": {
    "ExecuteTime": {
     "end_time": "2024-07-18T19:48:50.763275Z",
     "start_time": "2024-07-18T19:48:50.745575Z"
    }
   },
   "outputs": [],
   "source": [
    "# Encoder-Source\n",
    "english_data = Corpus(f\"{config.TRAIN_DATA}/english.txt\", \"English\")\n",
    "afrikaans_data = Corpus(f\"{config.TRAIN_DATA}/afrikaans.txt\", \"Afrikaans\")"
   ]
  },
  {
   "cell_type": "markdown",
   "id": "0142f911",
   "metadata": {},
   "source": [
    "## Set Hyperparameters"
   ]
  },
  {
   "cell_type": "code",
   "execution_count": 3,
   "id": "d5ff35e0",
   "metadata": {
    "ExecuteTime": {
     "end_time": "2024-07-18T19:48:50.766324Z",
     "start_time": "2024-07-18T19:48:50.764083Z"
    }
   },
   "outputs": [],
   "source": [
    "# Encoder - source\n",
    "IN_ENCODER = english_data.vocab_size\n",
    "ENCODER_EMB = 256\n",
    "\n",
    "# Decoder - target\n",
    "IN_DECODER = afrikaans_data.vocab_size\n",
    "OUT_DECODER = afrikaans_data.vocab_size\n",
    "DECODER_EMB = 256\n",
    "\n",
    "# Shared\n",
    "HIDDEN_SIZE = 1024\n",
    "NUM_LAYERS = 2\n",
    "\n",
    "LR = 1e-3\n",
    "BATCH_SIZE = 128"
   ]
  },
  {
   "cell_type": "markdown",
   "id": "da759f25",
   "metadata": {},
   "source": [
    "## Set the model"
   ]
  },
  {
   "cell_type": "code",
   "execution_count": 4,
   "id": "f04f2d2f",
   "metadata": {
    "ExecuteTime": {
     "end_time": "2024-07-18T19:48:50.953417Z",
     "start_time": "2024-07-18T19:48:50.767041Z"
    }
   },
   "outputs": [
    {
     "data": {
      "text/plain": [
       "=================================================================\n",
       "Layer (type:depth-idx)                   Param #\n",
       "=================================================================\n",
       "RNNAtt                                   --\n",
       "├─Encoder: 1-1                           --\n",
       "│    └─GRU: 2-1                          10,235,904\n",
       "│    └─Embedding: 2-2                    756,480\n",
       "├─Decoder: 1-2                           --\n",
       "│    └─GRU: 2-3                          10,235,904\n",
       "│    └─Embedding: 2-4                    743,424\n",
       "│    └─Linear: 2-5                       5,950,296\n",
       "=================================================================\n",
       "Total params: 27,922,008\n",
       "Trainable params: 27,922,008\n",
       "Non-trainable params: 0\n",
       "================================================================="
      ]
     },
     "execution_count": 4,
     "metadata": {},
     "output_type": "execute_result"
    }
   ],
   "source": [
    "encoder_net = gruANMT.Encoder(IN_ENCODER, ENCODER_EMB, HIDDEN_SIZE, NUM_LAYERS, type='GRU').to(device)\n",
    "decoder_net = gruANMT.Decoder(IN_DECODER, DECODER_EMB, HIDDEN_SIZE, NUM_LAYERS, type='GRU').to(device)\n",
    "model = gruANMT.RNNAtt(encoder_net, decoder_net, OUT_DECODER)\n",
    "\n",
    "summary(model)"
   ]
  },
  {
   "cell_type": "code",
   "execution_count": 5,
   "id": "ee757771",
   "metadata": {
    "ExecuteTime": {
     "end_time": "2024-07-18T19:48:51.475862Z",
     "start_time": "2024-07-18T19:48:50.955354Z"
    }
   },
   "outputs": [],
   "source": [
    "train_data = LangData(english_data, afrikaans_data)\n",
    "train_loader = dataLoader(train_data, BATCH_SIZE)\n",
    "\n",
    "pad_idx = afrikaans_data.stoi['<pad>']\n",
    "criterion = CrossEntropyLoss(ignore_index=0)\n",
    "\n",
    "optimizer = NAdam(model.parameters(), LR)\n",
    "translator = TranslatorAtt(model, english_data, afrikaans_data, device)"
   ]
  },
  {
   "cell_type": "code",
   "execution_count": 6,
   "id": "bcb89b48",
   "metadata": {
    "ExecuteTime": {
     "end_time": "2024-07-18T19:48:51.679237Z",
     "start_time": "2024-07-18T19:48:51.476781Z"
    }
   },
   "outputs": [
    {
     "name": "stdout",
     "output_type": "stream",
     "text": [
      "Pred: <sos> (all-pass) <ltx> <ltx> d.w.s.\\ d.w.s.\\ daaraan hoes hoe hoe breek breek \"al \"al \"al sonbrille hulle $c$ $c$ oop vredesverdrag zero-gemiddelde zero-gemiddelde haal geeis bespreek geeis verdieping verdieping trui vele vele\n",
      "Refe: <sos> as ons die teikenuittree voorstel as $y\\in\\{0,1\\}$ en ons $n$ afrigpunte het , dan kan ons die negatiewe log-waarskynlikheidskostefunksie skryf as : <eos>\n",
      "BLEU SCORES: [0.186, 0.08, 0.048, 0.0]\n"
     ]
    }
   ],
   "source": [
    "# Data used for follow-up durring training\n",
    "mytext = \"<sos> given that we represent the target output as $y\\in\\{0,1\\}$ and we have $n$ training points , we can write the negative log likelihood of the parameters as follows : <eos>\"\n",
    "ground = \"<sos> as ons die teikenuittree voorstel as $y\\in\\{0,1\\}$ en ons $n$ afrigpunte het , dan kan ons die negatiewe log-waarskynlikheidskostefunksie skryf as : <eos>\"\n",
    "\n",
    "predicted = translator.translate_sentence(mytext)\n",
    "bleu = sentence_bleu(prediction=[predicted], reference=[ground])\n",
    "print(f\"Pred: {predicted}\")\n",
    "print(f\"Refe: {ground}\")\n",
    "print(f\"BLEU SCORES: {bleu}\")"
   ]
  },
  {
   "cell_type": "markdown",
   "id": "2ed66bc3",
   "metadata": {},
   "source": [
    "## Train the data"
   ]
  },
  {
   "cell_type": "code",
   "execution_count": 7,
   "id": "7b2790009f0b8f40",
   "metadata": {
    "ExecuteTime": {
     "end_time": "2024-07-18T19:52:39.548420Z",
     "start_time": "2024-07-18T19:48:51.680694Z"
    }
   },
   "outputs": [
    {
     "name": "stderr",
     "output_type": "stream",
     "text": [
      "Using the latest cached version of the module from /Users/lucien/.cache/huggingface/modules/evaluate_modules/metrics/evaluate-metric--bleu/9e0985c1200e367cce45605ce0ecb5ede079894e0f24f54613fca08eeb8aff76 (last modified on Thu Jul 18 16:29:52 2024) since it couldn't be found locally at evaluate-metric--bleu, or remotely on the Hugging Face Hub.\n",
      "Epoch 1/15: 100%|██████████| 20/20 [00:11<00:00,  1.67batch/s, loss=1.806]\n"
     ]
    },
    {
     "name": "stdout",
     "output_type": "stream",
     "text": [
      "Predicted: <sos> die die van die die van die , , , , , en die , , , , en die , , , , en die , , , , en\n",
      "BLEU Score: [0.178, 0.096, 0.063, 0.0]\n"
     ]
    },
    {
     "name": "stderr",
     "output_type": "stream",
     "text": [
      "Epoch 2/15: 100%|██████████| 20/20 [00:11<00:00,  1.76batch/s, loss=1.494]\n"
     ]
    },
    {
     "name": "stdout",
     "output_type": "stream",
     "text": [
      "Predicted: <sos> ons het die volgende datastel en die volgende -gemiddelde , en ons het die volgende datastel en die volgende -gemiddelde in die volgende bladsy , en die volgende -gemiddelde , en\n",
      "BLEU Score: [0.279, 0.148, 0.084, 0.0]\n"
     ]
    },
    {
     "name": "stderr",
     "output_type": "stream",
     "text": [
      "Epoch 3/15: 100%|██████████| 20/20 [00:11<00:00,  1.76batch/s, loss=1.251]\n"
     ]
    },
    {
     "name": "stdout",
     "output_type": "stream",
     "text": [
      "Predicted: <sos> ons het die data op die volgende verandering verandering , en die \\% verandering in die usd/euro verandering , die \\% verandering verandering , en die \\% verandering in die usd/euro\n",
      "BLEU Score: [0.317, 0.126, 0.074, 0.0]\n"
     ]
    },
    {
     "name": "stderr",
     "output_type": "stream",
     "text": [
      "Epoch 4/15: 100%|██████████| 20/20 [00:11<00:00,  1.78batch/s, loss=0.979]\n"
     ]
    },
    {
     "name": "stdout",
     "output_type": "stream",
     "text": [
      "Predicted: <sos> ons het die data van die oorspronklike oorspronklike oorspronklike , en ons kan die negatiewe as as : en die $n$ van die oorspronklike sein , kan as die outokorrelasie as\n",
      "BLEU Score: [0.486, 0.299, 0.169, 0.0]\n"
     ]
    },
    {
     "name": "stderr",
     "output_type": "stream",
     "text": [
      "Epoch 5/15: 100%|██████████| 20/20 [00:11<00:00,  1.78batch/s, loss=0.771]\n"
     ]
    },
    {
     "name": "stdout",
     "output_type": "stream",
     "text": [
      "Predicted: <sos> ons het die teikenuittree voorstel en ons het afrigpunte , dan die negatiewe log-waarskynlikheidskostefunksie log-waarskynlikheidskostefunksie log-waarskynlikheidskostefunksie log-waarskynlikheidskostefunksie die $2n$ log-waarskynlikheidskostefunksie log-waarskynlikheidskostefunksie as ons afrigpunte afrigpunte afrigpunte : , en ons afrigpunte\n",
      "BLEU Score: [0.537, 0.356, 0.218, 0.0]\n"
     ]
    },
    {
     "name": "stderr",
     "output_type": "stream",
     "text": [
      "Epoch 6/15: 100%|██████████| 20/20 [00:11<00:00,  1.76batch/s, loss=0.592]\n"
     ]
    },
    {
     "name": "stdout",
     "output_type": "stream",
     "text": [
      "Predicted: <sos> as ons die teikenuittree voorstel as $y\\in\\{0,1\\}$ en ons $n$ afrigpunte het , het ons die negatiewe van die oorsprong al , en ons kan as ons die negatiewe voorstel as\n",
      "BLEU Score: [0.711, 0.673, 0.649, 0.629]\n"
     ]
    },
    {
     "name": "stderr",
     "output_type": "stream",
     "text": [
      "Epoch 7/15: 100%|██████████| 20/20 [00:10<00:00,  1.82batch/s, loss=0.447]\n"
     ]
    },
    {
     "name": "stdout",
     "output_type": "stream",
     "text": [
      "Predicted: <sos> as ons die teikenuittree voorstel as $y\\in\\{0,1\\}$ en ons $n$ afrigpunte het , dan kan ons die negatiewe log-waarskynlikheidskostefunksie skryf <eos>\n",
      "BLEU Score: [0.947, 0.934, 0.92, 0.906]\n"
     ]
    },
    {
     "name": "stderr",
     "output_type": "stream",
     "text": [
      "Epoch 8/15: 100%|██████████| 20/20 [00:11<00:00,  1.78batch/s, loss=0.369]\n"
     ]
    },
    {
     "name": "stdout",
     "output_type": "stream",
     "text": [
      "Predicted: <sos> as ons die teikenuittree voorstel as $y\\in\\{0,1\\}$ en ons $n$ $n$ van $n$ monsters , en dan weer die $k$ -gemiddelde algoritme hardloop , kan ons die negatiewe log-waarskynlikheidskostefunksie skryf as\n",
      "BLEU Score: [0.647, 0.613, 0.591, 0.573]\n"
     ]
    },
    {
     "name": "stderr",
     "output_type": "stream",
     "text": [
      "Epoch 9/15: 100%|██████████| 20/20 [00:11<00:00,  1.78batch/s, loss=0.315]\n"
     ]
    },
    {
     "name": "stdout",
     "output_type": "stream",
     "text": [
      "Predicted: <sos> as ons die teikenuittree voorstel as $y\\in\\{0,1\\}$ en ons $n$ afrigpunte afrigpunte het , dan kan ons die negatiewe log-waarskynlikheidskostefunksie skryf as : <eos>\n",
      "BLEU Score: [0.975, 0.975, 0.965, 0.954]\n"
     ]
    },
    {
     "name": "stderr",
     "output_type": "stream",
     "text": [
      "Epoch 10/15: 100%|██████████| 20/20 [00:11<00:00,  1.74batch/s, loss=0.290]\n"
     ]
    },
    {
     "name": "stdout",
     "output_type": "stream",
     "text": [
      "Predicted: <sos> as ons die teikenuittree voorstel as $y\\in\\{0,1\\}$ en ons $n$ afrigpunte het , dan kan ons die negatiewe log-waarskynlikheidskostefunksie skryf as : <eos>\n",
      "BLEU Score: [1.0, 1.0, 1.0, 1.0]\n"
     ]
    },
    {
     "name": "stderr",
     "output_type": "stream",
     "text": [
      "Epoch 11/15: 100%|██████████| 20/20 [00:11<00:00,  1.78batch/s, loss=0.271]\n"
     ]
    },
    {
     "name": "stdout",
     "output_type": "stream",
     "text": [
      "Predicted: <sos> as ons die teikenuittree voorstel as $y\\in\\{0,1\\}$ en ons $n$ afrigpunte het , dan kan ons die negatiewe log-waarskynlikheidskostefunksie skryf as : <eos>\n",
      "BLEU Score: [1.0, 1.0, 1.0, 1.0]\n"
     ]
    },
    {
     "name": "stderr",
     "output_type": "stream",
     "text": [
      "Epoch 12/15: 100%|██████████| 20/20 [00:11<00:00,  1.78batch/s, loss=0.259]\n"
     ]
    },
    {
     "name": "stdout",
     "output_type": "stream",
     "text": [
      "Predicted: <sos> as ons die teikenuittree voorstel as $y\\in\\{0,1\\}$ en ons $n$ afrigpunte het , dan kan ons die negatiewe log-waarskynlikheidskostefunksie skryf as : <eos>\n",
      "BLEU Score: [1.0, 1.0, 1.0, 1.0]\n"
     ]
    },
    {
     "name": "stderr",
     "output_type": "stream",
     "text": [
      "Epoch 13/15: 100%|██████████| 20/20 [00:11<00:00,  1.79batch/s, loss=0.251]\n"
     ]
    },
    {
     "name": "stdout",
     "output_type": "stream",
     "text": [
      "Predicted: <sos> as ons die teikenuittree voorstel as $y\\in\\{0,1\\}$ en ons $n$ afrigpunte het , dan kan ons die negatiewe log-waarskynlikheidskostefunksie skryf as : <eos>\n",
      "BLEU Score: [1.0, 1.0, 1.0, 1.0]\n"
     ]
    },
    {
     "name": "stderr",
     "output_type": "stream",
     "text": [
      "Epoch 14/15: 100%|██████████| 20/20 [00:10<00:00,  1.91batch/s, loss=0.237]\n"
     ]
    },
    {
     "name": "stdout",
     "output_type": "stream",
     "text": [
      "Predicted: <sos> as ons die teikenuittree voorstel as $y\\in\\{0,1\\}$ en ons $n$ afrigpunte het , dan kan ons die negatiewe log-waarskynlikheidskostefunksie skryf as : <eos>\n",
      "BLEU Score: [1.0, 1.0, 1.0, 1.0]\n"
     ]
    },
    {
     "name": "stderr",
     "output_type": "stream",
     "text": [
      "Epoch 15/15: 100%|██████████| 20/20 [00:11<00:00,  1.73batch/s, loss=0.257]"
     ]
    },
    {
     "name": "stdout",
     "output_type": "stream",
     "text": [
      "Predicted: <sos> as ons die teikenuittree voorstel as $y\\in\\{0,1\\}$ en ons $n$ afrigpunte het , dan kan ons die negatiewe log-waarskynlikheidskostefunksie skryf as : <eos>\n",
      "BLEU Score: [1.0, 1.0, 1.0, 1.0]\n"
     ]
    },
    {
     "name": "stderr",
     "output_type": "stream",
     "text": [
      "\n"
     ]
    }
   ],
   "source": [
    "EPOCHS = 15\n",
    "params = {\n",
    "    \"model\": model,\n",
    "    \"train_loader\": train_loader,\n",
    "    \"optimizer\": optimizer,\n",
    "    \"criterion\": criterion,\n",
    "    \"device\": device,\n",
    "    \"epochs\": EPOCHS,\n",
    "    \"source_test\": mytext,\n",
    "    \"reference\": ground,\n",
    "\t\"translator\":translator\n",
    "}\n",
    "\n",
    "train_loss = train_model(**params)\n",
    "np.save('gru_att_train_loss.npy', np.array(train_loss))"
   ]
  },
  {
   "cell_type": "markdown",
   "id": "f4bfc9b5",
   "metadata": {},
   "source": [
    "## Evauate on the Training set"
   ]
  },
  {
   "cell_type": "code",
   "execution_count": 8,
   "id": "798fe0ad",
   "metadata": {
    "ExecuteTime": {
     "end_time": "2024-07-18T19:54:01.609202Z",
     "start_time": "2024-07-18T19:52:39.549320Z"
    }
   },
   "outputs": [
    {
     "name": "stderr",
     "output_type": "stream",
     "text": [
      "Using the latest cached version of the module from /Users/lucien/.cache/huggingface/modules/evaluate_modules/metrics/evaluate-metric--bleu/9e0985c1200e367cce45605ce0ecb5ede079894e0f24f54613fca08eeb8aff76 (last modified on Thu Jul 18 16:29:52 2024) since it couldn't be found locally at evaluate-metric--bleu, or remotely on the Hugging Face Hub.\n"
     ]
    },
    {
     "name": "stdout",
     "output_type": "stream",
     "text": [
      "                                     BLEU-1                                     \n",
      "------------------------------------------------------------------------------------------\n",
      "bleu                : 0.8182694072306845\n",
      "precisions          : [0.8182694072306845]\n",
      "brevity_penalty     : 1.0\n",
      "length_ratio        : 1.1823803840729088\n",
      "translation_length  : 43592\n",
      "reference_length    : 36868\n",
      "******************************************************************************************\n",
      "                                     BLEU-2                                     \n",
      "------------------------------------------------------------------------------------------\n",
      "bleu                : 0.8026146592852926\n",
      "precisions          : [0.8182694072306845, 0.7872594106625788]\n",
      "brevity_penalty     : 1.0\n",
      "length_ratio        : 1.1823803840729088\n",
      "translation_length  : 43592\n",
      "reference_length    : 36868\n",
      "******************************************************************************************\n",
      "                                     BLEU-3                                     \n",
      "------------------------------------------------------------------------------------------\n",
      "bleu                : 0.7841406921042618\n",
      "precisions          : [0.8182694072306845, 0.7872594106625788, 0.7484586290865758]\n",
      "brevity_penalty     : 1.0\n",
      "length_ratio        : 1.1823803840729088\n",
      "translation_length  : 43592\n",
      "reference_length    : 36868\n",
      "******************************************************************************************\n",
      "                                     BLEU-4                                     \n",
      "------------------------------------------------------------------------------------------\n",
      "bleu                : 0.7634210219902039\n",
      "precisions          : [0.8182694072306845, 0.7872594106625788, 0.7484586290865758, 0.7044894341817376]\n",
      "brevity_penalty     : 1.0\n",
      "length_ratio        : 1.1823803840729088\n",
      "translation_length  : 43592\n",
      "reference_length    : 36868\n",
      "******************************************************************************************\n"
     ]
    }
   ],
   "source": [
    "EN_SRC = [' '.join(sent) for sent in english_data.data_str]\n",
    "AF_REF = [[' '.join(sent)] for sent in afrikaans_data.data_str]\n",
    "TRANSLATED = [translator.translate_sentence(sent) for sent in EN_SRC]\n",
    "corpus_bleu(TRANSLATED, AF_REF)"
   ]
  },
  {
   "cell_type": "markdown",
   "id": "d2cc6ed3",
   "metadata": {},
   "source": [
    "## Evaluate on the Test set"
   ]
  },
  {
   "cell_type": "code",
   "execution_count": 9,
   "id": "7bccda3561c7cc9",
   "metadata": {
    "ExecuteTime": {
     "end_time": "2024-07-18T19:54:01.614659Z",
     "start_time": "2024-07-18T19:54:01.610178Z"
    }
   },
   "outputs": [],
   "source": [
    "with open(f\"{config.VAL_DATA}/english.txt\") as data:\n",
    "    english_val = data.read().strip().split(\"\\n\")\n",
    "with open(f\"{config.VAL_DATA}/afrikaans.txt\") as data:\n",
    "    afrikaans_val = data.read().strip().split(\"\\n\")"
   ]
  },
  {
   "cell_type": "markdown",
   "id": "de0ea7b89f9add91",
   "metadata": {},
   "source": [
    "### Greedy Search"
   ]
  },
  {
   "cell_type": "code",
   "execution_count": 10,
   "id": "61b64fb6",
   "metadata": {
    "ExecuteTime": {
     "end_time": "2024-07-18T19:54:38.546897Z",
     "start_time": "2024-07-18T19:54:01.615644Z"
    }
   },
   "outputs": [
    {
     "name": "stderr",
     "output_type": "stream",
     "text": [
      "Using the latest cached version of the module from /Users/lucien/.cache/huggingface/modules/evaluate_modules/metrics/evaluate-metric--bleu/9e0985c1200e367cce45605ce0ecb5ede079894e0f24f54613fca08eeb8aff76 (last modified on Thu Jul 18 16:29:52 2024) since it couldn't be found locally at evaluate-metric--bleu, or remotely on the Hugging Face Hub.\n"
     ]
    },
    {
     "name": "stdout",
     "output_type": "stream",
     "text": [
      "                                     BLEU-1                                     \n",
      "------------------------------------------------------------------------------------------\n",
      "bleu                : 0.5443267433297456\n",
      "precisions          : [0.5443267433297456]\n",
      "brevity_penalty     : 1.0\n",
      "length_ratio        : 1.2048184548184548\n",
      "translation_length  : 17653\n",
      "reference_length    : 14652\n",
      "******************************************************************************************\n",
      "                                     BLEU-2                                     \n",
      "------------------------------------------------------------------------------------------\n",
      "bleu                : 0.453736991709145\n",
      "precisions          : [0.5443267433297456, 0.3782236683538202]\n",
      "brevity_penalty     : 1.0\n",
      "length_ratio        : 1.2048184548184548\n",
      "translation_length  : 17653\n",
      "reference_length    : 14652\n",
      "******************************************************************************************\n",
      "                                     BLEU-3                                     \n",
      "------------------------------------------------------------------------------------------\n",
      "bleu                : 0.3782617751059226\n",
      "precisions          : [0.5443267433297456, 0.3782236683538202, 0.26288692966085336]\n",
      "brevity_penalty     : 1.0\n",
      "length_ratio        : 1.2048184548184548\n",
      "translation_length  : 17653\n",
      "reference_length    : 14652\n",
      "******************************************************************************************\n",
      "                                     BLEU-4                                     \n",
      "------------------------------------------------------------------------------------------\n",
      "bleu                : 0.29760506348572036\n",
      "precisions          : [0.5443267433297456, 0.3782236683538202, 0.26288692966085336, 0.14493854439994475]\n",
      "brevity_penalty     : 1.0\n",
      "length_ratio        : 1.2048184548184548\n",
      "translation_length  : 17653\n",
      "reference_length    : 14652\n",
      "******************************************************************************************\n"
     ]
    }
   ],
   "source": [
    "VAL_AF_REF = [[sent] for sent in afrikaans_val]\n",
    "\n",
    "VAL_TRANSLATED = [translator.translate_sentence(sent) for sent in english_val]\n",
    "\n",
    "corpus_bleu(VAL_TRANSLATED, VAL_AF_REF)"
   ]
  },
  {
   "cell_type": "markdown",
   "id": "27701d9e8ea38687",
   "metadata": {},
   "source": [
    "### Beam search"
   ]
  },
  {
   "cell_type": "code",
   "execution_count": 11,
   "id": "e69185237c45264d",
   "metadata": {
    "ExecuteTime": {
     "end_time": "2024-07-18T19:55:58.239532Z",
     "start_time": "2024-07-18T19:54:38.547982Z"
    }
   },
   "outputs": [
    {
     "name": "stderr",
     "output_type": "stream",
     "text": [
      "Using the latest cached version of the module from /Users/lucien/.cache/huggingface/modules/evaluate_modules/metrics/evaluate-metric--bleu/9e0985c1200e367cce45605ce0ecb5ede079894e0f24f54613fca08eeb8aff76 (last modified on Thu Jul 18 16:29:52 2024) since it couldn't be found locally at evaluate-metric--bleu, or remotely on the Hugging Face Hub.\n"
     ]
    },
    {
     "name": "stdout",
     "output_type": "stream",
     "text": [
      "                                     BLEU-1                                     \n",
      "------------------------------------------------------------------------------------------\n",
      "bleu                : 0.6174465227403191\n",
      "precisions          : [0.6751672862453532]\n",
      "brevity_penalty     : 0.9145089451445096\n",
      "length_ratio        : 0.917963417963418\n",
      "translation_length  : 13450\n",
      "reference_length    : 14652\n",
      "******************************************************************************************\n",
      "                                     BLEU-2                                     \n",
      "------------------------------------------------------------------------------------------\n",
      "bleu                : 0.5209778134794423\n",
      "precisions          : [0.6751672862453532, 0.4806745743564916]\n",
      "brevity_penalty     : 0.9145089451445096\n",
      "length_ratio        : 0.917963417963418\n",
      "translation_length  : 13450\n",
      "reference_length    : 14652\n",
      "******************************************************************************************\n",
      "                                     BLEU-3                                     \n",
      "------------------------------------------------------------------------------------------\n",
      "bleu                : 0.4326245510307709\n",
      "precisions          : [0.6751672862453532, 0.4806745743564916, 0.32621736062103035]\n",
      "brevity_penalty     : 0.9145089451445096\n",
      "length_ratio        : 0.917963417963418\n",
      "translation_length  : 13450\n",
      "reference_length    : 14652\n",
      "******************************************************************************************\n",
      "                                     BLEU-4                                     \n",
      "------------------------------------------------------------------------------------------\n",
      "bleu                : 0.3276081973650421\n",
      "precisions          : [0.6751672862453532, 0.4806745743564916, 0.32621736062103035, 0.15555987936569704]\n",
      "brevity_penalty     : 0.9145089451445096\n",
      "length_ratio        : 0.917963417963418\n",
      "translation_length  : 13450\n",
      "reference_length    : 14652\n",
      "******************************************************************************************\n"
     ]
    }
   ],
   "source": [
    "VAL_TRANSLATED = [translator.translate_sentence(sent, method=\"beam\", beam_width=3) for sent in english_val]\n",
    "corpus_bleu(VAL_TRANSLATED, VAL_AF_REF)"
   ]
  },
  {
   "cell_type": "markdown",
   "id": "1b0ff51e2f68a4b7",
   "metadata": {},
   "source": [
    "## Evaluate on the SUN validation set only"
   ]
  },
  {
   "cell_type": "code",
   "execution_count": 12,
   "id": "bc72e734a881f3e6",
   "metadata": {
    "ExecuteTime": {
     "end_time": "2024-07-18T19:55:58.244091Z",
     "start_time": "2024-07-18T19:55:58.240489Z"
    }
   },
   "outputs": [],
   "source": [
    "with open(f\"{config.VAL_DATA}/sun_english.txt\") as data:\n",
    "    sun_english_val = data.read().strip().split(\"\\n\")\n",
    "with open(f\"{config.VAL_DATA}/sun_afrikaans.txt\") as data:\n",
    "    sun_afrikaans_val = data.read().strip().split(\"\\n\")"
   ]
  },
  {
   "cell_type": "markdown",
   "id": "65efe1d3e5cabda6",
   "metadata": {},
   "source": [
    "### Greedy Search"
   ]
  },
  {
   "cell_type": "code",
   "execution_count": 13,
   "id": "da8e61dc585a4a8e",
   "metadata": {
    "ExecuteTime": {
     "end_time": "2024-07-18T19:56:08.483982Z",
     "start_time": "2024-07-18T19:55:58.245052Z"
    }
   },
   "outputs": [
    {
     "name": "stderr",
     "output_type": "stream",
     "text": [
      "Using the latest cached version of the module from /Users/lucien/.cache/huggingface/modules/evaluate_modules/metrics/evaluate-metric--bleu/9e0985c1200e367cce45605ce0ecb5ede079894e0f24f54613fca08eeb8aff76 (last modified on Thu Jul 18 16:29:52 2024) since it couldn't be found locally at evaluate-metric--bleu, or remotely on the Hugging Face Hub.\n"
     ]
    },
    {
     "name": "stdout",
     "output_type": "stream",
     "text": [
      "                                     BLEU-1                                     \n",
      "------------------------------------------------------------------------------------------\n",
      "bleu                : 0.36047037539574855\n",
      "precisions          : [0.36047037539574855]\n",
      "brevity_penalty     : 1.0\n",
      "length_ratio        : 1.1594126900891453\n",
      "translation_length  : 4422\n",
      "reference_length    : 3814\n",
      "******************************************************************************************\n",
      "                                     BLEU-2                                     \n",
      "------------------------------------------------------------------------------------------\n",
      "bleu                : 0.260630508150112\n",
      "precisions          : [0.36047037539574855, 0.1884433962264151]\n",
      "brevity_penalty     : 1.0\n",
      "length_ratio        : 1.1594126900891453\n",
      "translation_length  : 4422\n",
      "reference_length    : 3814\n",
      "******************************************************************************************\n",
      "                                     BLEU-3                                     \n",
      "------------------------------------------------------------------------------------------\n",
      "bleu                : 0.19247870407655557\n",
      "precisions          : [0.36047037539574855, 0.1884433962264151, 0.10497782158698866]\n",
      "brevity_penalty     : 1.0\n",
      "length_ratio        : 1.1594126900891453\n",
      "translation_length  : 4422\n",
      "reference_length    : 3814\n",
      "******************************************************************************************\n",
      "                                     BLEU-4                                     \n",
      "------------------------------------------------------------------------------------------\n",
      "bleu                : 0.11872632122836366\n",
      "precisions          : [0.36047037539574855, 0.1884433962264151, 0.10497782158698866, 0.02786377708978328]\n",
      "brevity_penalty     : 1.0\n",
      "length_ratio        : 1.1594126900891453\n",
      "translation_length  : 4422\n",
      "reference_length    : 3814\n",
      "******************************************************************************************\n"
     ]
    }
   ],
   "source": [
    "SUN_VAL_AF = [[sent] for sent in sun_afrikaans_val]\n",
    "SUN_VAL_TRANSLATED = [translator.translate_sentence(sent) for sent in sun_english_val]\n",
    "corpus_bleu(SUN_VAL_TRANSLATED, SUN_VAL_AF)"
   ]
  },
  {
   "cell_type": "markdown",
   "id": "55bc55d38120c8bd",
   "metadata": {},
   "source": [
    "### Beam Search"
   ]
  },
  {
   "cell_type": "code",
   "execution_count": 14,
   "id": "42aea58fffea3b74",
   "metadata": {
    "ExecuteTime": {
     "end_time": "2024-07-18T19:56:27.882991Z",
     "start_time": "2024-07-18T19:56:08.486731Z"
    }
   },
   "outputs": [
    {
     "name": "stderr",
     "output_type": "stream",
     "text": [
      "Using the latest cached version of the module from /Users/lucien/.cache/huggingface/modules/evaluate_modules/metrics/evaluate-metric--bleu/9e0985c1200e367cce45605ce0ecb5ede079894e0f24f54613fca08eeb8aff76 (last modified on Thu Jul 18 16:29:52 2024) since it couldn't be found locally at evaluate-metric--bleu, or remotely on the Hugging Face Hub.\n"
     ]
    },
    {
     "name": "stdout",
     "output_type": "stream",
     "text": [
      "                                     BLEU-1                                     \n",
      "------------------------------------------------------------------------------------------\n",
      "bleu                : 0.414413385573026\n",
      "precisions          : [0.5066120906801007]\n",
      "brevity_penalty     : 0.8180092682286704\n",
      "length_ratio        : 0.8327215521761929\n",
      "translation_length  : 3176\n",
      "reference_length    : 3814\n",
      "******************************************************************************************\n",
      "                                     BLEU-2                                     \n",
      "------------------------------------------------------------------------------------------\n",
      "bleu                : 0.31240914223256827\n",
      "precisions          : [0.5066120906801007, 0.2879091516366065]\n",
      "brevity_penalty     : 0.8180092682286704\n",
      "length_ratio        : 0.8327215521761929\n",
      "translation_length  : 3176\n",
      "reference_length    : 3814\n",
      "******************************************************************************************\n",
      "                                     BLEU-3                                     \n",
      "------------------------------------------------------------------------------------------\n",
      "bleu                : 0.23481098292557026\n",
      "precisions          : [0.5066120906801007, 0.2879091516366065, 0.16216216216216217]\n",
      "brevity_penalty     : 0.8180092682286704\n",
      "length_ratio        : 0.8327215521761929\n",
      "translation_length  : 3176\n",
      "reference_length    : 3814\n",
      "******************************************************************************************\n",
      "                                     BLEU-4                                     \n",
      "------------------------------------------------------------------------------------------\n",
      "bleu                : 0.14130197187857296\n",
      "precisions          : [0.5066120906801007, 0.2879091516366065, 0.16216216216216217, 0.0376425855513308]\n",
      "brevity_penalty     : 0.8180092682286704\n",
      "length_ratio        : 0.8327215521761929\n",
      "translation_length  : 3176\n",
      "reference_length    : 3814\n",
      "******************************************************************************************\n"
     ]
    }
   ],
   "source": [
    "SUN_VAL_TRANSLATED = [translator.translate_sentence(sent, method=\"beam\", beam_width=3) for sent in sun_english_val]\n",
    "corpus_bleu(SUN_VAL_TRANSLATED, SUN_VAL_AF)"
   ]
  },
  {
   "cell_type": "code",
   "execution_count": 15,
   "id": "886b9163",
   "metadata": {},
   "outputs": [
    {
     "name": "stderr",
     "output_type": "stream",
     "text": [
      "Using the latest cached version of the module from /Users/lucien/.cache/huggingface/modules/evaluate_modules/metrics/evaluate-metric--bleu/9e0985c1200e367cce45605ce0ecb5ede079894e0f24f54613fca08eeb8aff76 (last modified on Thu Jul 18 16:29:52 2024) since it couldn't be found locally at evaluate-metric--bleu, or remotely on the Hugging Face Hub.\n"
     ]
    },
    {
     "name": "stdout",
     "output_type": "stream",
     "text": [
      "Source    : <sos> component <eos>\n",
      "Prediction: <sos> hallo hallo <eos>\n",
      "Label     : <sos> komponent <eos>\n",
      "BLEU      : 0.0\n",
      "\n",
      "Source    : <sos> architecture <eos>\n",
      "Prediction: <sos> hallo hallo <eos>\n",
      "Label     : <sos> argitektuur <eos>\n",
      "BLEU      : 0.0\n",
      "\n",
      "Source    : <sos> specification <eos>\n",
      "Prediction: <sos> hallo hallo <eos>\n",
      "Label     : <sos> spesifikasies <eos>\n",
      "BLEU      : 0.0\n",
      "\n",
      "Source    : <sos> at which stage of the design process would we choose the communication protocol between subsystems <eos>\n",
      "Prediction: <sos> watter van die oorsprong sal lei <eos>\n",
      "Label     : <sos> by watter stap van die ontwerpsproses word die kommunikasie-kanaal tussen substelsels gekies <eos>\n",
      "BLEU      : 0.0\n",
      "\n",
      "Source    : <sos> motivate your answer <eos>\n",
      "Prediction: <sos> motiveer jou vrou <eos>\n",
      "Label     : <sos> motiveer jou antwoord <eos>\n",
      "BLEU      : 0.5969491792019646\n",
      "\n",
      "Source    : <sos> describe the meaning if a system is described as a cyber-physical system <eos>\n",
      "Prediction: <sos> 'n stelsel word deur 'n monsterfrekwensie van 'n konstante van die volgende sekondes <eos>\n",
      "Label     : <sos> wat is die betekenis as 'n stelsel beskryf word as 'n kuber-fisiese stelsel <eos>\n",
      "BLEU      : 0.0\n",
      "\n",
      "Source    : <sos> extract four requirements of a standard cansat mission by using the description below : <eos>\n",
      "Prediction: <sos> deur 'n syfersein-verwerkingstelsel deur die z-transform : <eos>\n",
      "Label     : <sos> ontrek vier vereistes van 'n standaard cansat missie deur gebruik te maak van die onderstaande beskrywing : <eos>\n",
      "BLEU      : 0.14168400202636036\n",
      "\n",
      "Source    : <sos> the cansat will be built by the final year cs414 class <eos>\n",
      "Prediction: <sos> die sal word deur wat deur die kepe deur te minimeer <eos>\n",
      "Label     : <sos> die cansat word gebou deur die finale jaar rs414 klas <eos>\n",
      "BLEU      : 0.23693055763743093\n",
      "\n",
      "Source    : <sos> the cansat is launched from a rocket and its mission time must be maximised <eos>\n",
      "Prediction: <sos> die plan van die musiek <eos>\n",
      "Label     : <sos> die cansat word gelanseer deur 'n vuurpyl en die missie moet so lank duur as moontlik <eos>\n",
      "BLEU      : 0.1290682834615265\n",
      "\n",
      "Source    : <sos> a ground station will receive the necessary information to track the movement of the cansat <eos>\n",
      "Prediction: <sos> die bandwydte te beskryf word die volgende blokdiagram : <eos>\n",
      "Label     : <sos> 'n grondstasie sal die nodige inligting ontvang om die beweging van die cansat te bepaal <eos>\n",
      "BLEU      : 0.0\n",
      "\n"
     ]
    }
   ],
   "source": [
    "metric = evaluate.load(\"bleu\")\n",
    "predictions = [translator.translate_sentence(sent, method=\"beam\", beam_width=5) for sent in sun_english_val[10:20]]\n",
    "labels = SUN_VAL_AF[10:20]\n",
    "for source, pred, lab in zip(sun_english_val[10:20],predictions, labels):\n",
    "    print(f\"Source    : {source}\")\n",
    "    print(f\"Prediction: {pred[:150]}\")\n",
    "    print(f\"Label     : {lab[0][:150]}\")\n",
    "    print(f\"BLEU      : {metric.compute(predictions=[pred], references=lab)['bleu']}\")\n",
    "    print()"
   ]
  },
  {
   "cell_type": "code",
   "execution_count": null,
   "id": "d6a98d22",
   "metadata": {},
   "outputs": [],
   "source": []
  }
 ],
 "metadata": {
  "kernelspec": {
   "display_name": "Python 3 (ipykernel)",
   "language": "python",
   "name": "python3"
  },
  "language_info": {
   "codemirror_mode": {
    "name": "ipython",
    "version": 3
   },
   "file_extension": ".py",
   "mimetype": "text/x-python",
   "name": "python",
   "nbconvert_exporter": "python",
   "pygments_lexer": "ipython3",
   "version": "3.10.14"
  }
 },
 "nbformat": 4,
 "nbformat_minor": 5
}
