{
 "cells": [
  {
   "cell_type": "markdown",
   "id": "88716432",
   "metadata": {},
   "source": "# NEURAL MACHINE TRANSLATION - Vanilla RNN with Attention"
  },
  {
   "cell_type": "markdown",
   "id": "5fb4bb18",
   "metadata": {},
   "source": [
    "## Required Module & Config files"
   ]
  },
  {
   "cell_type": "code",
   "id": "a89bf9e4-311d-4af8-846b-ccfcb9e940b2",
   "metadata": {
    "ExecuteTime": {
     "end_time": "2024-07-18T19:48:50.743968Z",
     "start_time": "2024-07-18T19:48:47.270229Z"
    }
   },
   "source": [
    "import src.RNN_GRUAttention as gruANMT\n",
    "from src.Tokenizer import Corpus, LangData, dataLoader\n",
    "from src.utils import load_config, get_device, train_model, sentence_bleu, corpus_bleu\n",
    "from src.TranslatorAtt import TranslatorAtt\n",
    "from torch.nn import CrossEntropyLoss\n",
    "from torch.optim import NAdam\n",
    "from torchinfo import summary\n",
    "\n",
    "# Loading config file\n",
    "config = load_config()\n",
    "# Get device : GPU/MPS Back-End/CPU\n",
    "device = get_device()\n",
    "print(f\"Using device: {device}\")"
   ],
   "outputs": [
    {
     "name": "stderr",
     "output_type": "stream",
     "text": [
      "Using the latest cached version of the module from /Users/lucien/.cache/huggingface/modules/evaluate_modules/metrics/evaluate-metric--bleu/9e0985c1200e367cce45605ce0ecb5ede079894e0f24f54613fca08eeb8aff76 (last modified on Thu Jul 18 16:29:52 2024) since it couldn't be found locally at evaluate-metric--bleu, or remotely on the Hugging Face Hub.\n"
     ]
    },
    {
     "name": "stdout",
     "output_type": "stream",
     "text": [
      "Using device: mps\n"
     ]
    }
   ],
   "execution_count": 1
  },
  {
   "cell_type": "markdown",
   "id": "76325a3f",
   "metadata": {},
   "source": [
    "## Load the dataset"
   ]
  },
  {
   "cell_type": "code",
   "id": "083f4d8c",
   "metadata": {
    "ExecuteTime": {
     "end_time": "2024-07-18T19:48:50.763275Z",
     "start_time": "2024-07-18T19:48:50.745575Z"
    }
   },
   "source": [
    "# Encoder-Source\n",
    "english_data = Corpus(f\"{config.TRAIN_DATA}/english.txt\", \"English\")\n",
    "afrikaans_data = Corpus(f\"{config.TRAIN_DATA}/afrikaans.txt\", \"Afrikaans\")"
   ],
   "outputs": [],
   "execution_count": 2
  },
  {
   "cell_type": "markdown",
   "id": "0142f911",
   "metadata": {},
   "source": [
    "## Set Hyperparameters"
   ]
  },
  {
   "cell_type": "code",
   "id": "d5ff35e0",
   "metadata": {
    "ExecuteTime": {
     "end_time": "2024-07-18T19:48:50.766324Z",
     "start_time": "2024-07-18T19:48:50.764083Z"
    }
   },
   "source": [
    "# Encoder - source\n",
    "IN_ENCODER = english_data.vocab_size\n",
    "ENCODER_EMB = 256\n",
    "\n",
    "# Decoder - target\n",
    "IN_DECODER = afrikaans_data.vocab_size\n",
    "OUT_DECODER = afrikaans_data.vocab_size\n",
    "DECODER_EMB = 256\n",
    "\n",
    "# Shared\n",
    "HIDDEN_SIZE = 1024\n",
    "NUM_LAYERS = 2\n",
    "\n",
    "LR = 1e-3\n",
    "BATCH_SIZE = 128"
   ],
   "outputs": [],
   "execution_count": 3
  },
  {
   "cell_type": "markdown",
   "id": "da759f25",
   "metadata": {},
   "source": [
    "## Set the model"
   ]
  },
  {
   "cell_type": "code",
   "id": "f04f2d2f",
   "metadata": {
    "ExecuteTime": {
     "end_time": "2024-07-18T19:48:50.953417Z",
     "start_time": "2024-07-18T19:48:50.767041Z"
    }
   },
   "source": [
    "encoder_net = gruANMT.Encoder(IN_ENCODER, ENCODER_EMB, HIDDEN_SIZE, NUM_LAYERS, type='GRU').to(device)\n",
    "decoder_net = gruANMT.Decoder(IN_DECODER, DECODER_EMB, HIDDEN_SIZE, NUM_LAYERS, type='GRU').to(device)\n",
    "model = gruANMT.RNNAtt(encoder_net, decoder_net, OUT_DECODER)\n",
    "\n",
    "summary(model)"
   ],
   "outputs": [
    {
     "data": {
      "text/plain": [
       "=================================================================\n",
       "Layer (type:depth-idx)                   Param #\n",
       "=================================================================\n",
       "RNNAtt                                   --\n",
       "├─Encoder: 1-1                           --\n",
       "│    └─GRU: 2-1                          10,235,904\n",
       "│    └─Embedding: 2-2                    743,936\n",
       "├─Decoder: 1-2                           --\n",
       "│    └─GRU: 2-3                          10,235,904\n",
       "│    └─Embedding: 2-4                    737,024\n",
       "│    └─Linear: 2-5                       5,899,071\n",
       "=================================================================\n",
       "Total params: 27,851,839\n",
       "Trainable params: 27,851,839\n",
       "Non-trainable params: 0\n",
       "================================================================="
      ]
     },
     "execution_count": 4,
     "metadata": {},
     "output_type": "execute_result"
    }
   ],
   "execution_count": 4
  },
  {
   "cell_type": "code",
   "id": "ee757771",
   "metadata": {
    "ExecuteTime": {
     "end_time": "2024-07-18T19:48:51.475862Z",
     "start_time": "2024-07-18T19:48:50.955354Z"
    }
   },
   "source": [
    "train_data = LangData(english_data, afrikaans_data)\n",
    "train_loader = dataLoader(train_data, BATCH_SIZE)\n",
    "\n",
    "pad_idx = afrikaans_data.stoi['<pad>']\n",
    "criterion = CrossEntropyLoss(ignore_index=0)\n",
    "\n",
    "optimizer = NAdam(model.parameters(), LR)\n",
    "translator = TranslatorAtt(model, english_data, afrikaans_data, device)"
   ],
   "outputs": [],
   "execution_count": 5
  },
  {
   "cell_type": "code",
   "id": "bcb89b48",
   "metadata": {
    "ExecuteTime": {
     "end_time": "2024-07-18T19:48:51.679237Z",
     "start_time": "2024-07-18T19:48:51.476781Z"
    }
   },
   "source": [
    "# Data used for follow-up durring training\n",
    "mytext = \"<sos> given that we represent the target output as $y\\in\\{0,1\\}$ and we have $n$ training points , we can write the negative log likelihood of the parameters as follows : <eos>\"\n",
    "ground = \"<sos> as ons die teikenuittree voorstel as $y\\in\\{0,1\\}$ en ons $n$ afrigpunte het , dan kan ons die negatiewe log-waarskynlikheidskostefunksie skryf as : <eos>\"\n",
    "\n",
    "predicted = translator.translate_sentence(mytext)\n",
    "bleu = sentence_bleu(prediction=[predicted], reference=[ground])\n",
    "print(f\"Pred: {predicted}\")\n",
    "print(f\"Refe: {ground}\")\n",
    "print(f\"BLEU SCORES: {bleu}\")"
   ],
   "outputs": [
    {
     "name": "stdout",
     "output_type": "stream",
     "text": [
      "Pred: <sos> berlyn waarmee covid-19 covid-19 gegooi gegooi normaal orals normaal (roc) (roc) hardloop stelsels gegooi gegooi oorbly berlyn spektrogram geskied uitvoerende\n",
      "Refe: <sos> as ons die teikenuittree voorstel as $y\\in\\{0,1\\}$ en ons $n$ afrigpunte het , dan kan ons die negatiewe log-waarskynlikheidskostefunksie skryf as : <eos>\n",
      "BLEU SCORES: [0.071, 0.059, 0.045, 0.0]\n"
     ]
    }
   ],
   "execution_count": 6
  },
  {
   "cell_type": "markdown",
   "id": "2ed66bc3",
   "metadata": {},
   "source": [
    "## Train the data"
   ]
  },
  {
   "cell_type": "code",
   "id": "7b2790009f0b8f40",
   "metadata": {
    "ExecuteTime": {
     "end_time": "2024-07-18T19:52:39.548420Z",
     "start_time": "2024-07-18T19:48:51.680694Z"
    }
   },
   "source": [
    "EPOCHS = 20\n",
    "params = {\n",
    "    \"model\": model,\n",
    "    \"train_loader\": train_loader,\n",
    "    \"optimizer\": optimizer,\n",
    "    \"criterion\": criterion,\n",
    "    \"device\": device,\n",
    "    \"epochs\": EPOCHS,\n",
    "    \"source_test\": mytext,\n",
    "    \"reference\": ground,\n",
    "\t\"translator\":translator\n",
    "}\n",
    "\n",
    "train_model(**params)"
   ],
   "outputs": [
    {
     "name": "stderr",
     "output_type": "stream",
     "text": [
      "Using the latest cached version of the module from /Users/lucien/.cache/huggingface/modules/evaluate_modules/metrics/evaluate-metric--bleu/9e0985c1200e367cce45605ce0ecb5ede079894e0f24f54613fca08eeb8aff76 (last modified on Thu Jul 18 16:29:52 2024) since it couldn't be found locally at evaluate-metric--bleu, or remotely on the Hugging Face Hub.\n",
      "Epoch 1/20: 100%|██████████| 20/20 [00:11<00:00,  1.80batch/s, loss=1.674]\n"
     ]
    },
    {
     "name": "stdout",
     "output_type": "stream",
     "text": [
      "Predicted: <sos> die volgende die volgende die volgende die volgende : die volgende : die volgende word die volgende : : <eos>\n",
      "BLEU Score: [0.206, 0.156, 0.122, 0.083]\n"
     ]
    },
    {
     "name": "stderr",
     "output_type": "stream",
     "text": [
      "Epoch 2/20: 100%|██████████| 20/20 [00:10<00:00,  1.85batch/s, loss=1.436]\n"
     ]
    },
    {
     "name": "stdout",
     "output_type": "stream",
     "text": [
      "Predicted: <sos> die rekening die volgende van die volgende van die volgende van die volgende van die volgende van die volgende van\n",
      "BLEU Score: [0.108, 0.07, 0.049, 0.0]\n"
     ]
    },
    {
     "name": "stderr",
     "output_type": "stream",
     "text": [
      "Epoch 3/20: 100%|██████████| 20/20 [00:10<00:00,  1.85batch/s, loss=1.210]\n"
     ]
    },
    {
     "name": "stdout",
     "output_type": "stream",
     "text": [
      "Predicted: <sos> ons het die data van die data en die data in die gemiddeld van die gemiddeld , en die gemiddeld\n",
      "BLEU Score: [0.217, 0.099, 0.062, 0.0]\n"
     ]
    },
    {
     "name": "stderr",
     "output_type": "stream",
     "text": [
      "Epoch 4/20: 100%|██████████| 20/20 [00:10<00:00,  1.88batch/s, loss=0.928]\n"
     ]
    },
    {
     "name": "stdout",
     "output_type": "stream",
     "text": [
      "Predicted: <sos> ons wil die data van die dac voor presies en ons bereken kan as ons stompies basismodel basismodel en bereken\n",
      "BLEU Score: [0.239, 0.147, 0.08, 0.0]\n"
     ]
    },
    {
     "name": "stderr",
     "output_type": "stream",
     "text": [
      "Epoch 5/20: 100%|██████████| 20/20 [00:11<00:00,  1.77batch/s, loss=0.766]\n"
     ]
    },
    {
     "name": "stdout",
     "output_type": "stream",
     "text": [
      "Predicted: <sos> dit ons die die wins bayes aanname en ons kan indink as die outokorrelasie wat die oorsprong se salaris en\n",
      "BLEU Score: [0.217, 0.14, 0.078, 0.0]\n"
     ]
    },
    {
     "name": "stderr",
     "output_type": "stream",
     "text": [
      "Epoch 6/20: 100%|██████████| 20/20 [00:11<00:00,  1.76batch/s, loss=0.596]\n"
     ]
    },
    {
     "name": "stdout",
     "output_type": "stream",
     "text": [
      "Predicted: <sos> dit lyk ons ons die aanvanklike as die dft van die resultaat en ons kan as ons die vereistes log-waarskynlikheidskostefunksie\n",
      "BLEU Score: [0.282, 0.196, 0.122, 0.0]\n"
     ]
    },
    {
     "name": "stderr",
     "output_type": "stream",
     "text": [
      "Epoch 7/20: 100%|██████████| 20/20 [00:11<00:00,  1.75batch/s, loss=0.449]\n"
     ]
    },
    {
     "name": "stdout",
     "output_type": "stream",
     "text": [
      "Predicted: <sos> dit is ons as die intree en die hoof van die klassifiseerder voor as ons slegs die dft van die\n",
      "BLEU Score: [0.217, 0.121, 0.07, 0.0]\n"
     ]
    },
    {
     "name": "stderr",
     "output_type": "stream",
     "text": [
      "Epoch 8/20: 100%|██████████| 20/20 [00:11<00:00,  1.80batch/s, loss=0.370]\n"
     ]
    },
    {
     "name": "stdout",
     "output_type": "stream",
     "text": [
      "Predicted: <sos> as ons die teikenuittree voorstel as $y\\in\\{0,1\\}$ en ons $n$ afrigpunte het , dan kan ons die negatiewe log-waarskynlikheidskostefunksie skryf\n",
      "BLEU Score: [0.863, 0.863, 0.863, 0.863]\n"
     ]
    },
    {
     "name": "stderr",
     "output_type": "stream",
     "text": [
      "Epoch 9/20: 100%|██████████| 20/20 [00:11<00:00,  1.76batch/s, loss=0.328]\n"
     ]
    },
    {
     "name": "stdout",
     "output_type": "stream",
     "text": [
      "Predicted: <sos> as ons die teikenuittree voorstel as $y\\in\\{0,1\\}$ en ons $n$ afrigpunte het , dan kan ons die negatiewe log-waarskynlikheidskostefunksie skryf\n",
      "BLEU Score: [0.863, 0.863, 0.863, 0.863]\n"
     ]
    },
    {
     "name": "stderr",
     "output_type": "stream",
     "text": [
      "Epoch 10/20: 100%|██████████| 20/20 [00:11<00:00,  1.81batch/s, loss=0.282]\n"
     ]
    },
    {
     "name": "stdout",
     "output_type": "stream",
     "text": [
      "Predicted: <sos> as ons die teikenuittree voorstel as $y\\in\\{0,1\\}$ en ons $n$ afrigpunte het , dan kan ons die negatiewe log-waarskynlikheidskostefunksie skryf\n",
      "BLEU Score: [0.863, 0.863, 0.863, 0.863]\n"
     ]
    },
    {
     "name": "stderr",
     "output_type": "stream",
     "text": [
      "Epoch 11/20: 100%|██████████| 20/20 [00:11<00:00,  1.76batch/s, loss=0.273]\n"
     ]
    },
    {
     "name": "stdout",
     "output_type": "stream",
     "text": [
      "Predicted: <sos> as ons die teikenuittree voorstel as $y\\in\\{0,1\\}$ en ons $n$ afrigpunte het , dan kan ons die negatiewe log-waarskynlikheidskostefunksie skryf\n",
      "BLEU Score: [0.863, 0.863, 0.863, 0.863]\n"
     ]
    },
    {
     "name": "stderr",
     "output_type": "stream",
     "text": [
      "Epoch 12/20: 100%|██████████| 20/20 [00:10<00:00,  1.83batch/s, loss=0.252]\n"
     ]
    },
    {
     "name": "stdout",
     "output_type": "stream",
     "text": [
      "Predicted: <sos> ons het die volgende ontwerpsmatriks : , en ons het die negatiewe log-waarskynlikheidskostefunksie skryf as : <eos>\n",
      "BLEU Score: [0.378, 0.302, 0.257, 0.223]\n"
     ]
    },
    {
     "name": "stderr",
     "output_type": "stream",
     "text": [
      "Epoch 13/20: 100%|██████████| 20/20 [00:10<00:00,  1.82batch/s, loss=0.248]\n"
     ]
    },
    {
     "name": "stdout",
     "output_type": "stream",
     "text": [
      "Predicted: <sos> as ons die teikenuittree voorstel as $y\\in\\{0,1\\}$ en ons $n$ afrigpunte het , dan kan ons die negatiewe log-waarskynlikheidskostefunksie skryf\n",
      "BLEU Score: [0.863, 0.863, 0.863, 0.863]\n"
     ]
    },
    {
     "name": "stderr",
     "output_type": "stream",
     "text": [
      "Epoch 14/20: 100%|██████████| 20/20 [00:11<00:00,  1.75batch/s, loss=0.249]\n"
     ]
    },
    {
     "name": "stdout",
     "output_type": "stream",
     "text": [
      "Predicted: <sos> as ons die teikenuittree voorstel as $y\\in\\{0,1\\}$ en ons $n$ afrigpunte het , dan kan ons die negatiewe log-waarskynlikheidskostefunksie skryf\n",
      "BLEU Score: [0.863, 0.863, 0.863, 0.863]\n"
     ]
    },
    {
     "name": "stderr",
     "output_type": "stream",
     "text": [
      "Epoch 15/20: 100%|██████████| 20/20 [00:12<00:00,  1.66batch/s, loss=0.253]\n"
     ]
    },
    {
     "name": "stdout",
     "output_type": "stream",
     "text": [
      "Predicted: <sos> as ons die teikenuittree voorstel as $y\\in\\{0,1\\}$ en ons $n$ afrigpunte het , dan kan ons die negatiewe log-waarskynlikheidskostefunksie skryf\n",
      "BLEU Score: [0.863, 0.863, 0.863, 0.863]\n"
     ]
    },
    {
     "name": "stderr",
     "output_type": "stream",
     "text": [
      "Epoch 16/20: 100%|██████████| 20/20 [00:11<00:00,  1.73batch/s, loss=0.252]\n"
     ]
    },
    {
     "name": "stdout",
     "output_type": "stream",
     "text": [
      "Predicted: <sos> as ons die teikenuittree voorstel as $y\\in\\{0,1\\}$ en ons $n$ afrigpunte het , dan kan ons die negatiewe log-waarskynlikheidskostefunksie skryf\n",
      "BLEU Score: [0.863, 0.863, 0.863, 0.863]\n"
     ]
    },
    {
     "name": "stderr",
     "output_type": "stream",
     "text": [
      "Epoch 17/20: 100%|██████████| 20/20 [00:11<00:00,  1.77batch/s, loss=0.244]\n"
     ]
    },
    {
     "name": "stdout",
     "output_type": "stream",
     "text": [
      "Predicted: <sos> as ons die teikenuittree voorstel as $y\\in\\{0,1\\}$ en ons $n$ afrigpunte het , dan kan ons die negatiewe log-waarskynlikheidskostefunksie skryf\n",
      "BLEU Score: [0.863, 0.863, 0.863, 0.863]\n"
     ]
    },
    {
     "name": "stderr",
     "output_type": "stream",
     "text": [
      "Epoch 18/20: 100%|██████████| 20/20 [00:11<00:00,  1.73batch/s, loss=0.248]\n"
     ]
    },
    {
     "name": "stdout",
     "output_type": "stream",
     "text": [
      "Predicted: <sos> as ons die teikenuittree voorstel as $y\\in\\{0,1\\}$ en ons $n$ afrigpunte het , dan kan ons die negatiewe log-waarskynlikheidskostefunksie skryf\n",
      "BLEU Score: [0.863, 0.863, 0.863, 0.863]\n"
     ]
    },
    {
     "name": "stderr",
     "output_type": "stream",
     "text": [
      "Epoch 19/20: 100%|██████████| 20/20 [00:11<00:00,  1.79batch/s, loss=0.238]\n"
     ]
    },
    {
     "name": "stdout",
     "output_type": "stream",
     "text": [
      "Predicted: <sos> as ons die teikenuittree voorstel as $y\\in\\{0,1\\}$ en ons $n$ afrigpunte het , dan kan ons die negatiewe log-waarskynlikheidskostefunksie skryf\n",
      "BLEU Score: [0.863, 0.863, 0.863, 0.863]\n"
     ]
    },
    {
     "name": "stderr",
     "output_type": "stream",
     "text": [
      "Epoch 20/20: 100%|██████████| 20/20 [00:11<00:00,  1.74batch/s, loss=0.247]"
     ]
    },
    {
     "name": "stdout",
     "output_type": "stream",
     "text": [
      "Predicted: <sos> as ons die teikenuittree voorstel as $y\\in\\{0,1\\}$ en ons $n$ afrigpunte het , dan kan ons die negatiewe log-waarskynlikheidskostefunksie skryf\n",
      "BLEU Score: [0.863, 0.863, 0.863, 0.863]\n"
     ]
    },
    {
     "name": "stderr",
     "output_type": "stream",
     "text": [
      "\n"
     ]
    }
   ],
   "execution_count": 7
  },
  {
   "cell_type": "markdown",
   "id": "f4bfc9b5",
   "metadata": {},
   "source": "## Evauate on the Training set"
  },
  {
   "cell_type": "code",
   "id": "798fe0ad",
   "metadata": {
    "ExecuteTime": {
     "end_time": "2024-07-18T19:54:01.609202Z",
     "start_time": "2024-07-18T19:52:39.549320Z"
    }
   },
   "source": [
    "EN_SRC = [' '.join(sent) for sent in english_data.data_str]\n",
    "AF_REF = [[' '.join(sent)] for sent in afrikaans_data.data_str]\n",
    "TRANSLATED = [translator.translate_sentence(sent) for sent in EN_SRC]\n",
    "corpus_bleu(TRANSLATED, AF_REF)"
   ],
   "outputs": [
    {
     "name": "stderr",
     "output_type": "stream",
     "text": [
      "Using the latest cached version of the module from /Users/lucien/.cache/huggingface/modules/evaluate_modules/metrics/evaluate-metric--bleu/9e0985c1200e367cce45605ce0ecb5ede079894e0f24f54613fca08eeb8aff76 (last modified on Thu Jul 18 16:29:52 2024) since it couldn't be found locally at evaluate-metric--bleu, or remotely on the Hugging Face Hub.\n"
     ]
    },
    {
     "name": "stdout",
     "output_type": "stream",
     "text": [
      "                                     BLEU-1                                     \n",
      "------------------------------------------------------------------------------------------\n",
      "bleu                : 0.8139750544813836\n",
      "precisions          : [0.8139750544813836]\n",
      "brevity_penalty     : 1.0\n",
      "length_ratio        : 1.1684997561900634\n",
      "translation_length  : 43134\n",
      "reference_length    : 36914\n",
      "******************************************************************************************\n",
      "                                     BLEU-2                                     \n",
      "------------------------------------------------------------------------------------------\n",
      "bleu                : 0.7986340986378577\n",
      "precisions          : [0.8139750544813836, 0.7835822731858559]\n",
      "brevity_penalty     : 1.0\n",
      "length_ratio        : 1.1684997561900634\n",
      "translation_length  : 43134\n",
      "reference_length    : 36914\n",
      "******************************************************************************************\n",
      "                                     BLEU-3                                     \n",
      "------------------------------------------------------------------------------------------\n",
      "bleu                : 0.7790540662326243\n",
      "precisions          : [0.8139750544813836, 0.7835822731858559, 0.7413223573825504]\n",
      "brevity_penalty     : 1.0\n",
      "length_ratio        : 1.1684997561900634\n",
      "translation_length  : 43134\n",
      "reference_length    : 36914\n",
      "******************************************************************************************\n",
      "                                     BLEU-4                                     \n",
      "------------------------------------------------------------------------------------------\n",
      "bleu                : 0.7563746262271331\n",
      "precisions          : [0.8139750544813836, 0.7835822731858559, 0.7413223573825504, 0.6922213806838902]\n",
      "brevity_penalty     : 1.0\n",
      "length_ratio        : 1.1684997561900634\n",
      "translation_length  : 43134\n",
      "reference_length    : 36914\n",
      "******************************************************************************************\n"
     ]
    }
   ],
   "execution_count": 8
  },
  {
   "cell_type": "markdown",
   "id": "d2cc6ed3",
   "metadata": {},
   "source": "## Evaluate on the Test set"
  },
  {
   "metadata": {
    "ExecuteTime": {
     "end_time": "2024-07-18T19:54:01.614659Z",
     "start_time": "2024-07-18T19:54:01.610178Z"
    }
   },
   "cell_type": "code",
   "source": [
    "with open(f\"{config.VAL_DATA}/english.txt\") as data:\n",
    "    english_val = data.read().strip().split(\"\\n\")\n",
    "with open(f\"{config.VAL_DATA}/afrikaans.txt\") as data:\n",
    "    afrikaans_val = data.read().strip().split(\"\\n\")"
   ],
   "id": "7bccda3561c7cc9",
   "outputs": [],
   "execution_count": 9
  },
  {
   "metadata": {},
   "cell_type": "markdown",
   "source": "### Greedy Search",
   "id": "de0ea7b89f9add91"
  },
  {
   "cell_type": "code",
   "id": "61b64fb6",
   "metadata": {
    "ExecuteTime": {
     "end_time": "2024-07-18T19:54:38.546897Z",
     "start_time": "2024-07-18T19:54:01.615644Z"
    }
   },
   "source": [
    "VAL_AF_REF = [[sent] for sent in afrikaans_val]\n",
    "VAL_TRANSLATED = [translator.translate_sentence(sent) for sent in english_val]\n",
    "\n",
    "corpus_bleu(VAL_TRANSLATED, VAL_AF_REF)"
   ],
   "outputs": [
    {
     "name": "stderr",
     "output_type": "stream",
     "text": [
      "Using the latest cached version of the module from /Users/lucien/.cache/huggingface/modules/evaluate_modules/metrics/evaluate-metric--bleu/9e0985c1200e367cce45605ce0ecb5ede079894e0f24f54613fca08eeb8aff76 (last modified on Thu Jul 18 16:29:52 2024) since it couldn't be found locally at evaluate-metric--bleu, or remotely on the Hugging Face Hub.\n"
     ]
    },
    {
     "name": "stdout",
     "output_type": "stream",
     "text": [
      "                                     BLEU-1                                     \n",
      "------------------------------------------------------------------------------------------\n",
      "bleu                : 0.5259002919865903\n",
      "precisions          : [0.5259002919865903]\n",
      "brevity_penalty     : 1.0\n",
      "length_ratio        : 1.2661919759003148\n",
      "translation_length  : 18494\n",
      "reference_length    : 14606\n",
      "******************************************************************************************\n",
      "                                     BLEU-2                                     \n",
      "------------------------------------------------------------------------------------------\n",
      "bleu                : 0.44561595624217826\n",
      "precisions          : [0.5259002919865903, 0.3775878878247405]\n",
      "brevity_penalty     : 1.0\n",
      "length_ratio        : 1.2661919759003148\n",
      "translation_length  : 18494\n",
      "reference_length    : 14606\n",
      "******************************************************************************************\n",
      "                                     BLEU-3                                     \n",
      "------------------------------------------------------------------------------------------\n",
      "bleu                : 0.37711536648621496\n",
      "precisions          : [0.5259002919865903, 0.3775878878247405, 0.27008547008547007]\n",
      "brevity_penalty     : 1.0\n",
      "length_ratio        : 1.2661919759003148\n",
      "translation_length  : 18494\n",
      "reference_length    : 14606\n",
      "******************************************************************************************\n",
      "                                     BLEU-4                                     \n",
      "------------------------------------------------------------------------------------------\n",
      "bleu                : 0.30504902785082333\n",
      "precisions          : [0.5259002919865903, 0.3775878878247405, 0.27008547008547007, 0.16145663381844286]\n",
      "brevity_penalty     : 1.0\n",
      "length_ratio        : 1.2661919759003148\n",
      "translation_length  : 18494\n",
      "reference_length    : 14606\n",
      "******************************************************************************************\n"
     ]
    }
   ],
   "execution_count": 10
  },
  {
   "metadata": {},
   "cell_type": "markdown",
   "source": "### Beam search",
   "id": "27701d9e8ea38687"
  },
  {
   "metadata": {
    "ExecuteTime": {
     "end_time": "2024-07-18T19:55:58.239532Z",
     "start_time": "2024-07-18T19:54:38.547982Z"
    }
   },
   "cell_type": "code",
   "source": [
    "VAL_TRANSLATED = [translator.translate_sentence(sent, method=\"beam\", beam_width=2) for sent in english_val]\n",
    "corpus_bleu(VAL_TRANSLATED, VAL_AF_REF)"
   ],
   "id": "e69185237c45264d",
   "outputs": [
    {
     "name": "stderr",
     "output_type": "stream",
     "text": [
      "Using the latest cached version of the module from /Users/lucien/.cache/huggingface/modules/evaluate_modules/metrics/evaluate-metric--bleu/9e0985c1200e367cce45605ce0ecb5ede079894e0f24f54613fca08eeb8aff76 (last modified on Thu Jul 18 16:29:52 2024) since it couldn't be found locally at evaluate-metric--bleu, or remotely on the Hugging Face Hub.\n"
     ]
    },
    {
     "name": "stdout",
     "output_type": "stream",
     "text": [
      "                                     BLEU-1                                     \n",
      "------------------------------------------------------------------------------------------\n",
      "bleu                : 0.6418864370290636\n",
      "precisions          : [0.6418864370290636]\n",
      "brevity_penalty     : 1.0\n",
      "length_ratio        : 1.0176639737094344\n",
      "translation_length  : 14864\n",
      "reference_length    : 14606\n",
      "******************************************************************************************\n",
      "                                     BLEU-2                                     \n",
      "------------------------------------------------------------------------------------------\n",
      "bleu                : 0.5477221064678344\n",
      "precisions          : [0.6418864370290636, 0.46737162308973706]\n",
      "brevity_penalty     : 1.0\n",
      "length_ratio        : 1.0176639737094344\n",
      "translation_length  : 14864\n",
      "reference_length    : 14606\n",
      "******************************************************************************************\n",
      "                                     BLEU-3                                     \n",
      "------------------------------------------------------------------------------------------\n",
      "bleu                : 0.4621476758298782\n",
      "precisions          : [0.6418864370290636, 0.46737162308973706, 0.3290196078431373]\n",
      "brevity_penalty     : 1.0\n",
      "length_ratio        : 1.0176639737094344\n",
      "translation_length  : 14864\n",
      "reference_length    : 14606\n",
      "******************************************************************************************\n",
      "                                     BLEU-4                                     \n",
      "------------------------------------------------------------------------------------------\n",
      "bleu                : 0.36475705461692487\n",
      "precisions          : [0.6418864370290636, 0.46737162308973706, 0.3290196078431373, 0.17933806550927905]\n",
      "brevity_penalty     : 1.0\n",
      "length_ratio        : 1.0176639737094344\n",
      "translation_length  : 14864\n",
      "reference_length    : 14606\n",
      "******************************************************************************************\n"
     ]
    }
   ],
   "execution_count": 11
  },
  {
   "metadata": {},
   "cell_type": "markdown",
   "source": "## Evaluate on the SUN validation set only",
   "id": "1b0ff51e2f68a4b7"
  },
  {
   "metadata": {
    "ExecuteTime": {
     "end_time": "2024-07-18T19:55:58.244091Z",
     "start_time": "2024-07-18T19:55:58.240489Z"
    }
   },
   "cell_type": "code",
   "source": [
    "with open(f\"{config.VAL_DATA}/sun_english.txt\") as data:\n",
    "    sun_english_val = data.read().strip().split(\"\\n\")\n",
    "with open(f\"{config.VAL_DATA}/sun_afrikaans.txt\") as data:\n",
    "    sun_afrikaans_val = data.read().strip().split(\"\\n\")"
   ],
   "id": "bc72e734a881f3e6",
   "outputs": [],
   "execution_count": 12
  },
  {
   "metadata": {},
   "cell_type": "markdown",
   "source": "### Greedy Search",
   "id": "65efe1d3e5cabda6"
  },
  {
   "metadata": {
    "ExecuteTime": {
     "end_time": "2024-07-18T19:56:08.483982Z",
     "start_time": "2024-07-18T19:55:58.245052Z"
    }
   },
   "cell_type": "code",
   "source": [
    "SUN_VAL_AF = [[sent] for sent in sun_afrikaans_val]\n",
    "SUN_VAL_TRANSLATED = [translator.translate_sentence(sent) for sent in sun_english_val]\n",
    "corpus_bleu(SUN_VAL_TRANSLATED, SUN_VAL_AF)"
   ],
   "id": "da8e61dc585a4a8e",
   "outputs": [
    {
     "name": "stderr",
     "output_type": "stream",
     "text": [
      "Using the latest cached version of the module from /Users/lucien/.cache/huggingface/modules/evaluate_modules/metrics/evaluate-metric--bleu/9e0985c1200e367cce45605ce0ecb5ede079894e0f24f54613fca08eeb8aff76 (last modified on Thu Jul 18 16:29:52 2024) since it couldn't be found locally at evaluate-metric--bleu, or remotely on the Hugging Face Hub.\n"
     ]
    },
    {
     "name": "stdout",
     "output_type": "stream",
     "text": [
      "                                     BLEU-1                                     \n",
      "------------------------------------------------------------------------------------------\n",
      "bleu                : 0.3556851311953353\n",
      "precisions          : [0.3556851311953353]\n",
      "brevity_penalty     : 1.0\n",
      "length_ratio        : 1.169113791295228\n",
      "translation_length  : 4459\n",
      "reference_length    : 3814\n",
      "******************************************************************************************\n",
      "                                     BLEU-2                                     \n",
      "------------------------------------------------------------------------------------------\n",
      "bleu                : 0.2658720554172127\n",
      "precisions          : [0.3556851311953353, 0.19873743277998598]\n",
      "brevity_penalty     : 1.0\n",
      "length_ratio        : 1.169113791295228\n",
      "translation_length  : 4459\n",
      "reference_length    : 3814\n",
      "******************************************************************************************\n",
      "                                     BLEU-3                                     \n",
      "------------------------------------------------------------------------------------------\n",
      "bleu                : 0.2024940121601551\n",
      "precisions          : [0.3556851311953353, 0.19873743277998598, 0.11746031746031746]\n",
      "brevity_penalty     : 1.0\n",
      "length_ratio        : 1.169113791295228\n",
      "translation_length  : 4459\n",
      "reference_length    : 3814\n",
      "******************************************************************************************\n",
      "                                     BLEU-4                                     \n",
      "------------------------------------------------------------------------------------------\n",
      "bleu                : 0.1407584932294936\n",
      "precisions          : [0.3556851311953353, 0.19873743277998598, 0.11746031746031746, 0.04727830309225658]\n",
      "brevity_penalty     : 1.0\n",
      "length_ratio        : 1.169113791295228\n",
      "translation_length  : 4459\n",
      "reference_length    : 3814\n",
      "******************************************************************************************\n"
     ]
    }
   ],
   "execution_count": 13
  },
  {
   "metadata": {},
   "cell_type": "markdown",
   "source": "### Beam Search",
   "id": "55bc55d38120c8bd"
  },
  {
   "metadata": {
    "ExecuteTime": {
     "end_time": "2024-07-18T19:56:27.882991Z",
     "start_time": "2024-07-18T19:56:08.486731Z"
    }
   },
   "cell_type": "code",
   "source": [
    "SUN_VAL_TRANSLATED = [translator.translate_sentence(sent, method=\"beam\", beam_width=2) for sent in sun_english_val]\n",
    "corpus_bleu(SUN_VAL_TRANSLATED, SUN_VAL_AF)"
   ],
   "id": "42aea58fffea3b74",
   "outputs": [
    {
     "name": "stderr",
     "output_type": "stream",
     "text": [
      "Using the latest cached version of the module from /Users/lucien/.cache/huggingface/modules/evaluate_modules/metrics/evaluate-metric--bleu/9e0985c1200e367cce45605ce0ecb5ede079894e0f24f54613fca08eeb8aff76 (last modified on Thu Jul 18 16:29:52 2024) since it couldn't be found locally at evaluate-metric--bleu, or remotely on the Hugging Face Hub.\n"
     ]
    },
    {
     "name": "stdout",
     "output_type": "stream",
     "text": [
      "                                     BLEU-1                                     \n",
      "------------------------------------------------------------------------------------------\n",
      "bleu                : 0.4316832983984206\n",
      "precisions          : [0.4908284023668639]\n",
      "brevity_penalty     : 0.8794994265139612\n",
      "length_ratio        : 0.8862087047718931\n",
      "translation_length  : 3380\n",
      "reference_length    : 3814\n",
      "******************************************************************************************\n",
      "                                     BLEU-2                                     \n",
      "------------------------------------------------------------------------------------------\n",
      "bleu                : 0.3347704922746263\n",
      "precisions          : [0.4908284023668639, 0.2951844903064415]\n",
      "brevity_penalty     : 0.8794994265139612\n",
      "length_ratio        : 0.8862087047718931\n",
      "translation_length  : 3380\n",
      "reference_length    : 3814\n",
      "******************************************************************************************\n",
      "                                     BLEU-3                                     \n",
      "------------------------------------------------------------------------------------------\n",
      "bleu                : 0.2613146366814682\n",
      "precisions          : [0.4908284023668639, 0.2951844903064415, 0.1810344827586207]\n",
      "brevity_penalty     : 0.8794994265139612\n",
      "length_ratio        : 0.8862087047718931\n",
      "translation_length  : 3380\n",
      "reference_length    : 3814\n",
      "******************************************************************************************\n",
      "                                     BLEU-4                                     \n",
      "------------------------------------------------------------------------------------------\n",
      "bleu                : 0.18057475647601853\n",
      "precisions          : [0.4908284023668639, 0.2951844903064415, 0.1810344827586207, 0.06774876499647142]\n",
      "brevity_penalty     : 0.8794994265139612\n",
      "length_ratio        : 0.8862087047718931\n",
      "translation_length  : 3380\n",
      "reference_length    : 3814\n",
      "******************************************************************************************\n"
     ]
    }
   ],
   "execution_count": 14
  }
 ],
 "metadata": {
  "kernelspec": {
   "display_name": "Python 3 (ipykernel)",
   "language": "python",
   "name": "python3"
  },
  "language_info": {
   "codemirror_mode": {
    "name": "ipython",
    "version": 3
   },
   "file_extension": ".py",
   "mimetype": "text/x-python",
   "name": "python",
   "nbconvert_exporter": "python",
   "pygments_lexer": "ipython3",
   "version": "3.10.14"
  }
 },
 "nbformat": 4,
 "nbformat_minor": 5
}
