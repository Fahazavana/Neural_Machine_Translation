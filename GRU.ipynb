{
 "cells": [
  {
   "cell_type": "code",
   "execution_count": 74,
   "id": "a89bf9e4-311d-4af8-846b-ccfcb9e940b2",
   "metadata": {},
   "outputs": [],
   "source": [
    "from src.Normalizer import preprocess_data\n",
    "from typing import Dict"
   ]
  },
  {
   "cell_type": "markdown",
   "id": "d85e72ac",
   "metadata": {},
   "source": [
    "# DATA PERPARATION"
   ]
  },
  {
   "cell_type": "code",
   "execution_count": 75,
   "id": "587e9745",
   "metadata": {},
   "outputs": [],
   "source": [
    "DATA_BASE = \"./data\"\n",
    "TRAIN_RAW = f\"{DATA_BASE}/train\"\n",
    "TRAIN_DATA = f\"{TRAIN_RAW}/norm\"\n",
    "\n",
    "VAL_RAW = f\"{DATA_BASE}/val\"\n",
    "VAL_DATA = f\"{VAL_RAW}/norm\"\n",
    "\n",
    "TRAIN_AFRIKAANS = [\n",
    "\t\"data414_2021_a1.af.txt\",\n",
    "\t\"data414_2021_a2.af.txt\",\n",
    "\t\"data414_2020_a1.af.txt\",\n",
    "\t\"ss414_2018_a1.af.txt\",\n",
    "\t\"ss414_2018_a2.af.txt\",\n",
    "\t\"ss414_2018_a3.af.txt\",\n",
    "\t\"ss414_2019_a1.af.txt\",\n",
    "\t\"ss414_2019_a2.af.txt\",\n",
    "\t\"ss414_2019_a3.af.txt\",]\n",
    "\n",
    "TRAIN_ENGLISH = [\n",
    "\t\"data414_2021_a1.en.txt\",\n",
    "\t\"data414_2021_a2.en.txt\",\n",
    "\t\"data414_2020_a1.en.txt\",\n",
    "\t\"ss414_2018_a1.en.txt\",\n",
    "\t\"ss414_2018_a2.en.txt\",\n",
    "\t\"ss414_2018_a3.en.txt\",\n",
    "\t\"ss414_2019_a1.en.txt\",\n",
    "\t\"ss414_2019_a2.en.txt\",\n",
    "\t\"ss414_2019_a3.en.txt\",]\n",
    "\n",
    "VAL_AFRIKAANS = [\n",
    "\t\"compsys414_2017_a1.af.txt\",\n",
    "\t\"compsys414_2017_a2.af.txt\",\n",
    "\t\"compsys414_2017_a3.af.txt\",]\n",
    "\n",
    "VAL_ENGLISH = [\n",
    "\t\"compsys414_2017_a1.en.txt\",\n",
    "\t\"compsys414_2017_a2.en.txt\",\n",
    "\t\"compsys414_2017_a3.en.txt\",]"
   ]
  },
  {
   "cell_type": "code",
   "execution_count": 78,
   "id": "fa220702",
   "metadata": {},
   "outputs": [],
   "source": [
    "# # TRAIN_DATA\n",
    "# preprocess_data(TRAIN_RAW, TRAIN_DATA, TRAIN_AFRIKAANS, \"afrikaans\")\n",
    "# preprocess_data(TRAIN_RAW, TRAIN_DATA, TRAIN_ENGLISH, \"english\")"
   ]
  },
  {
   "cell_type": "code",
   "execution_count": 79,
   "id": "8c937e6c",
   "metadata": {},
   "outputs": [],
   "source": [
    "# # VAL_DATA\n",
    "# preprocess_data(VAL_RAW, VAL_DATA, VAL_AFRIKAANS, \"afrikaans\")\n",
    "# preprocess_data(VAL_RAW, VAL_DATA, VAL_ENGLISH, \"english\")"
   ]
  },
  {
   "cell_type": "markdown",
   "id": "dff3aca5",
   "metadata": {},
   "source": [
    "## Corpus"
   ]
  },
  {
   "cell_type": "code",
   "execution_count": 80,
   "id": "46481871",
   "metadata": {},
   "outputs": [],
   "source": [
    "class Corpus:\n",
    "\tdef __init__(self, file_name: str, lang:str):\n",
    "\t\tself.file_name = file_name\n",
    "\t\tself.lang = lang\n",
    "\t\tself.vocab_size = 11\n",
    "\t\tself.data = []\n",
    "\t\tself.stoi: Dict[str, int] = {\n",
    "\t\t\t\"<pad>\": 0,\n",
    "\t\t\t\"<sos>\": 1,\n",
    "\t\t\t\"<eos>\": 2,\n",
    "\t\t\t\"<unk>\": 3,\n",
    "\t\t\t\"<num>\": 4,\n",
    "\t\t\t\"<com>\": 5,\n",
    "\t\t\t\"<prc>\": 6,\n",
    "\t\t\t\"<opn>\": 7,\n",
    "\t\t\t\"<cld>\": 8,\n",
    "\t\t\t\"<apo>\": 9,\n",
    "\t\t\t\"<ltx>\": 10,\n",
    "\t\t}\n",
    "\t\tself.itos: Dict[int, str] = {\n",
    "\t\t\t0: \"<pad>\",\n",
    "\t\t\t1: \"<sos>\",\n",
    "\t\t\t2: \"<eos>\",\n",
    "\t\t\t3: \"<unk>\",\n",
    "\t\t\t4: \"<num>\",\n",
    "\t\t\t5: \"<com>\",\n",
    "\t\t\t6: \"<prc>\",\n",
    "\t\t\t7: \"<opn>\",\n",
    "\t\t\t8: \"<cld>\",\n",
    "\t\t\t9: \"<apo>\",\n",
    "\t\t\t10: \"<ltx>\",\n",
    "\t\t}\n",
    "\t\tself.__init_data()\n",
    "\t\tself.__encode()\n",
    "\n",
    "\tdef __init_data(self):\n",
    "\t\twith open(self.file_name, \"r\") as file:\n",
    "\t\t\tfor line in file:\n",
    "\t\t\t\tline = line.strip().split()\n",
    "\t\t\t\tself.data.append(line)\n",
    "\t\t\t\tfor word in line:\n",
    "\t\t\t\t\tif not self.stoi.get(word):\n",
    "\t\t\t\t\t\tself.vocab_size += 1\n",
    "\t\t\t\t\t\tself.stoi[word] = self.vocab_size - 1\n",
    "\t\t\t\t\t\tself.itos[self.vocab_size-1] = word\n",
    "\tdef __encode(self):\n",
    "\t\t_data = [[self.stoi[word] for word in sentence] for sentence in self.data]\n",
    "\t\tself.data = _data\n",
    "\t\t\n",
    "\tdef decode(self, data):\n",
    "\t\t_data = [[self.stoi[word] for word in sentence] for sentence in data]\n",
    "\t\treturn _data"
   ]
  },
  {
   "cell_type": "markdown",
   "id": "93a26988",
   "metadata": {},
   "source": [
    "## Torch data"
   ]
  },
  {
   "cell_type": "code",
   "execution_count": 81,
   "id": "e3aad3db",
   "metadata": {},
   "outputs": [],
   "source": [
    "import torch\n",
    "from torch.utils.data import Dataset, DataLoader\n",
    "from torch.nn.utils.rnn import pad_sequence"
   ]
  },
  {
   "cell_type": "code",
   "execution_count": 82,
   "id": "bea08ed3",
   "metadata": {},
   "outputs": [],
   "source": [
    "class LangData(Dataset):\n",
    "\tdef __init__(self, source, target):\n",
    "\t\tif len(source.data) != len(target.data):\n",
    "\t\t\traise RuntimeError(\"Source and target must have the same lenght\")\n",
    "\t\tself.source = source.data\n",
    "\t\tself.target = target.data\n",
    "\tdef __getitem__(self, idx):\n",
    "\t\tx = torch.tensor(self.source[idx], dtype=torch.long)\n",
    "\t\ty = torch.tensor(self.target[idx], dtype=torch.long)\n",
    "\t\treturn x, y\n",
    "\tdef __len__(self):\n",
    "\t\treturn len(self.source)\n",
    "\n",
    "def collate_fn(batch):\n",
    "\t\"\"\"\n",
    "\t Pad shorter sequence with 0 (<pad>) to match the longest sequence\n",
    "\t to obtain a uniform bacht size.\n",
    "\t\"\"\"\n",
    "\tsource, target = zip(*batch)\n",
    "\t# Pad sequences\n",
    "\tsource = pad_sequence(source, batch_first=False, padding_value=0)\n",
    "\ttarget = pad_sequence(target, batch_first=False, padding_value=0)\n",
    "\treturn source, target\n",
    "\n",
    "\n",
    "def dataLoader(dataset, batch_size):\n",
    "\treturn DataLoader(dataset, batch_size=batch_size, collate_fn=collate_fn, shuffle=True)"
   ]
  },
  {
   "cell_type": "markdown",
   "id": "3d7213a5",
   "metadata": {},
   "source": [
    "## NMT: AFRIKAANS -> ENGLISH"
   ]
  },
  {
   "cell_type": "code",
   "execution_count": 83,
   "id": "10db208d",
   "metadata": {},
   "outputs": [
    {
     "name": "stdout",
     "output_type": "stream",
     "text": [
      "mps\n"
     ]
    }
   ],
   "source": [
    "import torch\n",
    "from torch import nn\n",
    "from torch import optim\n",
    "from tqdm import tqdm\n",
    "import src.GRU as gruNMT\n",
    "\n",
    "from torch.utils.tensorboard import SummaryWriter\n",
    "\n",
    "if torch.backends.mps.is_available:\n",
    "\tdevice = \"mps\"  # OSX\n",
    "elif torch.cuda.is_available:\n",
    "\tdevice = \"cuda\"\n",
    "else:\n",
    "\tdevice = \"cpu\"\n",
    "print(device)"
   ]
  },
  {
   "cell_type": "code",
   "execution_count": 84,
   "id": "083f4d8c",
   "metadata": {},
   "outputs": [],
   "source": [
    "# Hyper-params\n",
    "afrikaans = Corpus(f\"{TRAIN_DATA}/afrikaans.txt\", \"Afrikaans\")\n",
    "english = Corpus(f\"{TRAIN_DATA}/english.txt\", \"English\")\n",
    "IN_ENCODER = afrikaans.vocab_size\n",
    "IN_DECODER = english.vocab_size\n",
    "OUT_DECODER = english.vocab_size\n",
    "\n",
    "ENCODER_EMB = 256\n",
    "DECODER_EMB = 256\n",
    "\n",
    "HIDDEN_SIZE = 1024\n",
    "NUM_LAYERS = 4"
   ]
  },
  {
   "cell_type": "code",
   "execution_count": 85,
   "id": "f04f2d2f",
   "metadata": {},
   "outputs": [],
   "source": [
    "encoder_net = gruNMT.Encoder(IN_ENCODER, ENCODER_EMB, HIDDEN_SIZE,\n",
    "\t\t\t\t\t  NUM_LAYERS).to(device)\n",
    "decoder_net = gruNMT.Decoder(IN_DECODER, DECODER_EMB, HIDDEN_SIZE, OUT_DECODER,\n",
    "\t\t\t\t\t  NUM_LAYERS).to(device)\n",
    "nmt = gruNMT.NMT(encoder_net, decoder_net, OUT_DECODER)"
   ]
  },
  {
   "cell_type": "code",
   "execution_count": 89,
   "id": "ee757771",
   "metadata": {},
   "outputs": [],
   "source": [
    "EPOCHS = 20\n",
    "LR = 1e-3\n",
    "BATCH_SIZE = 128\n",
    "\n",
    "train_data = LangData(afrikaans, english)\n",
    "train_loader = dataLoader(train_data, BATCH_SIZE)\n",
    "\n",
    "pad_idx = english.stoi['<pad>']\n",
    "criterion = nn.CrossEntropyLoss(ignore_index=0)\n",
    "optimizer = optim.NAdam(nmt.parameters(), LR)"
   ]
  },
  {
   "cell_type": "code",
   "execution_count": 90,
   "id": "bcb89b48",
   "metadata": {},
   "outputs": [],
   "source": [
    "step = 0\n",
    "# writer = SummaryWriter(f\"runs/loss_plot\")\n",
    "N = len(train_data)\n",
    "text = \"<sos> die klassifiseerder maak <num> korrekte positiewe voorspellings en <num> <com> <num> korrekte negatiewe voorspellings <eos>\"\n",
    "grdt = \"<sos> the classifier makes <num> correct positive predictions and <num> <com> <num> correct negative predictions <eos>\""
   ]
  },
  {
   "cell_type": "code",
   "execution_count": 92,
   "id": "c3706000",
   "metadata": {},
   "outputs": [
    {
     "name": "stdout",
     "output_type": "stream",
     "text": [
      "<sos> the following code <com> i <eos>\n",
      "\n"
     ]
    },
    {
     "name": "stderr",
     "output_type": "stream",
     "text": [
      "Epoch 1/20: 100%|██████████| 4/4 [00:04<00:00,  1.06s/batch, loss=0.909]\n"
     ]
    },
    {
     "name": "stdout",
     "output_type": "stream",
     "text": [
      "Pred : <sos> the following code is defined <eos>\n",
      "Grdt : <sos> the classifier makes <num> correct positive predictions and <num> <com> <num> correct negative predictions <eos>\n",
      "\n"
     ]
    },
    {
     "name": "stderr",
     "output_type": "stream",
     "text": [
      "Epoch 2/20: 100%|██████████| 4/4 [00:03<00:00,  1.02batch/s, loss=0.706]\n"
     ]
    },
    {
     "name": "stdout",
     "output_type": "stream",
     "text": [
      "Pred : <sos> the following code is given by <eos>\n",
      "Grdt : <sos> the classifier makes <num> correct positive predictions and <num> <com> <num> correct negative predictions <eos>\n",
      "\n"
     ]
    },
    {
     "name": "stderr",
     "output_type": "stream",
     "text": [
      "Epoch 3/20: 100%|██████████| 4/4 [00:04<00:00,  1.04s/batch, loss=0.752]\n"
     ]
    },
    {
     "name": "stdout",
     "output_type": "stream",
     "text": [
      "Pred : <sos> the classifier of each classifier is more except on the next page <eos>\n",
      "Grdt : <sos> the classifier makes <num> correct positive predictions and <num> <com> <num> correct negative predictions <eos>\n",
      "\n"
     ]
    },
    {
     "name": "stderr",
     "output_type": "stream",
     "text": [
      "Epoch 4/20: 100%|██████████| 4/4 [00:03<00:00,  1.15batch/s, loss=0.570]\n"
     ]
    },
    {
     "name": "stdout",
     "output_type": "stream",
     "text": [
      "Pred : <sos> the sampling rate of the dac is <num> khz <com> and all filters can be considered considered to be ideal <eos>\n",
      "Grdt : <sos> the classifier makes <num> correct positive predictions and <num> <com> <num> correct negative predictions <eos>\n",
      "\n"
     ]
    },
    {
     "name": "stderr",
     "output_type": "stream",
     "text": [
      "Epoch 5/20: 100%|██████████| 4/4 [00:03<00:00,  1.09batch/s, loss=0.508]\n"
     ]
    },
    {
     "name": "stdout",
     "output_type": "stream",
     "text": [
      "Pred : <sos> the classifier makes correct positive predictions and predictions and predictions correct <eos>\n",
      "Grdt : <sos> the classifier makes <num> correct positive predictions and <num> <com> <num> correct negative predictions <eos>\n",
      "\n"
     ]
    },
    {
     "name": "stderr",
     "output_type": "stream",
     "text": [
      "Epoch 6/20: 100%|██████████| 4/4 [00:04<00:00,  1.06s/batch, loss=0.569]\n"
     ]
    },
    {
     "name": "stdout",
     "output_type": "stream",
     "text": [
      "Pred : <sos> the classifier of each branch is except when when that that the negative is to the same frequency of <ltx> khz <eos>\n",
      "Grdt : <sos> the classifier makes <num> correct positive predictions and <num> <com> <num> correct negative predictions <eos>\n",
      "\n"
     ]
    },
    {
     "name": "stderr",
     "output_type": "stream",
     "text": [
      "Epoch 7/20: 100%|██████████| 4/4 [00:04<00:00,  1.06s/batch, loss=0.464]\n"
     ]
    },
    {
     "name": "stdout",
     "output_type": "stream",
     "text": [
      "Pred : <sos> the classifier makes correct positive predictions and <num> <com> <num> correct negative predictions <eos>\n",
      "Grdt : <sos> the classifier makes <num> correct positive predictions and <num> <com> <num> correct negative predictions <eos>\n",
      "\n"
     ]
    },
    {
     "name": "stderr",
     "output_type": "stream",
     "text": [
      "Epoch 8/20: 100%|██████████| 4/4 [00:03<00:00,  1.01batch/s, loss=0.416]\n"
     ]
    },
    {
     "name": "stdout",
     "output_type": "stream",
     "text": [
      "Pred : <sos> the classifier of each branch is unity except when a value is indicated <eos>\n",
      "Grdt : <sos> the classifier makes <num> correct positive predictions and <num> <com> <num> correct negative predictions <eos>\n",
      "\n"
     ]
    },
    {
     "name": "stderr",
     "output_type": "stream",
     "text": [
      "Epoch 9/20: 100%|██████████| 4/4 [00:04<00:00,  1.09s/batch, loss=0.410]\n"
     ]
    },
    {
     "name": "stdout",
     "output_type": "stream",
     "text": [
      "Pred : <sos> the classifier is correct <com> and why <eos>\n",
      "Grdt : <sos> the classifier makes <num> correct positive predictions and <num> <com> <num> correct negative predictions <eos>\n",
      "\n"
     ]
    },
    {
     "name": "stderr",
     "output_type": "stream",
     "text": [
      "Epoch 10/20: 100%|██████████| 4/4 [00:03<00:00,  1.01batch/s, loss=0.351]\n"
     ]
    },
    {
     "name": "stdout",
     "output_type": "stream",
     "text": [
      "Pred : <sos> the classifier is correct <com> and why <eos>\n",
      "Grdt : <sos> the classifier makes <num> correct positive predictions and <num> <com> <num> correct negative predictions <eos>\n",
      "\n"
     ]
    },
    {
     "name": "stderr",
     "output_type": "stream",
     "text": [
      "Epoch 11/20: 100%|██████████| 4/4 [00:03<00:00,  1.00batch/s, loss=0.342]\n"
     ]
    },
    {
     "name": "stdout",
     "output_type": "stream",
     "text": [
      "Pred : <sos> the classifier of your more <eos>\n",
      "Grdt : <sos> the classifier makes <num> correct positive predictions and <num> <com> <num> correct negative predictions <eos>\n",
      "\n"
     ]
    },
    {
     "name": "stderr",
     "output_type": "stream",
     "text": [
      "Epoch 12/20: 100%|██████████| 4/4 [00:04<00:00,  1.03s/batch, loss=0.316]\n"
     ]
    },
    {
     "name": "stdout",
     "output_type": "stream",
     "text": [
      "Pred : <sos> the classifier is correct <com> and why <eos>\n",
      "Grdt : <sos> the classifier makes <num> correct positive predictions and <num> <com> <num> correct negative predictions <eos>\n",
      "\n"
     ]
    },
    {
     "name": "stderr",
     "output_type": "stream",
     "text": [
      "Epoch 13/20: 100%|██████████| 4/4 [00:04<00:00,  1.06s/batch, loss=0.307]\n"
     ]
    },
    {
     "name": "stdout",
     "output_type": "stream",
     "text": [
      "Pred : <sos> the classifier makes correct positive predictions and <num> <com> <num> correct negative predictions <eos>\n",
      "Grdt : <sos> the classifier makes <num> correct positive predictions and <num> <com> <num> correct negative predictions <eos>\n",
      "\n"
     ]
    },
    {
     "name": "stderr",
     "output_type": "stream",
     "text": [
      "Epoch 14/20: 100%|██████████| 4/4 [00:04<00:00,  1.06s/batch, loss=0.293]\n"
     ]
    },
    {
     "name": "stdout",
     "output_type": "stream",
     "text": [
      "Pred : <sos> the classifier makes correct positive predictions and <num> <com> <num> correct negative predictions <eos>\n",
      "Grdt : <sos> the classifier makes <num> correct positive predictions and <num> <com> <num> correct negative predictions <eos>\n",
      "\n"
     ]
    },
    {
     "name": "stderr",
     "output_type": "stream",
     "text": [
      "Epoch 15/20: 100%|██████████| 4/4 [00:03<00:00,  1.06batch/s, loss=0.254]\n"
     ]
    },
    {
     "name": "stdout",
     "output_type": "stream",
     "text": [
      "Pred : <sos> the classifier makes correct positive predictions and <num> <com> <num> correct negative predictions <eos>\n",
      "Grdt : <sos> the classifier makes <num> correct positive predictions and <num> <com> <num> correct negative predictions <eos>\n",
      "\n"
     ]
    },
    {
     "name": "stderr",
     "output_type": "stream",
     "text": [
      "Epoch 16/20: 100%|██████████| 4/4 [00:03<00:00,  1.09batch/s, loss=0.240]\n"
     ]
    },
    {
     "name": "stdout",
     "output_type": "stream",
     "text": [
      "Pred : <sos> the classifier makes correct positive predictions and <num> <com> <num> correct negative predictions <eos>\n",
      "Grdt : <sos> the classifier makes <num> correct positive predictions and <num> <com> <num> correct negative predictions <eos>\n",
      "\n"
     ]
    },
    {
     "name": "stderr",
     "output_type": "stream",
     "text": [
      "Epoch 17/20: 100%|██████████| 4/4 [00:04<00:00,  1.07s/batch, loss=0.286]\n"
     ]
    },
    {
     "name": "stdout",
     "output_type": "stream",
     "text": [
      "Pred : <sos> the classifier makes correct positive predictions and <num> <com> <num> correct negative predictions <eos>\n",
      "Grdt : <sos> the classifier makes <num> correct positive predictions and <num> <com> <num> correct negative predictions <eos>\n",
      "\n"
     ]
    },
    {
     "name": "stderr",
     "output_type": "stream",
     "text": [
      "Epoch 18/20: 100%|██████████| 4/4 [00:04<00:00,  1.07s/batch, loss=0.270]\n"
     ]
    },
    {
     "name": "stdout",
     "output_type": "stream",
     "text": [
      "Pred : <sos> the classifier makes correct positive predictions and <num> <com> <num> correct negative predictions <eos>\n",
      "Grdt : <sos> the classifier makes <num> correct positive predictions and <num> <com> <num> correct negative predictions <eos>\n",
      "\n"
     ]
    },
    {
     "name": "stderr",
     "output_type": "stream",
     "text": [
      "Epoch 19/20: 100%|██████████| 4/4 [00:03<00:00,  1.00batch/s, loss=0.249]\n"
     ]
    },
    {
     "name": "stdout",
     "output_type": "stream",
     "text": [
      "Pred : <sos> the classifier makes correct positive predictions and <num> <com> <num> correct negative predictions <eos>\n",
      "Grdt : <sos> the classifier makes <num> correct positive predictions and <num> <com> <num> correct negative predictions <eos>\n",
      "\n"
     ]
    },
    {
     "name": "stderr",
     "output_type": "stream",
     "text": [
      "Epoch 20/20: 100%|██████████| 4/4 [00:03<00:00,  1.02batch/s, loss=0.247]"
     ]
    },
    {
     "name": "stdout",
     "output_type": "stream",
     "text": [
      "Pred : <sos> the classifier makes correct positive predictions and <num> <com> <num> correct negative predictions <eos>\n",
      "Grdt : <sos> the classifier makes <num> correct positive predictions and <num> <com> <num> correct negative predictions <eos>\n",
      "\n"
     ]
    },
    {
     "name": "stderr",
     "output_type": "stream",
     "text": [
      "\n"
     ]
    }
   ],
   "source": [
    "print(gruNMT.translate(nmt, text, afrikaans, english, device)+\"\\n\")\n",
    "for epoch in range(EPOCHS):\n",
    "\tpbar = tqdm(train_loader, unit=\"batch\" ,desc=f\"Epoch {epoch+1}/{EPOCHS}\")\n",
    "\trun_loss = 0\n",
    "\tfor source, target_ in pbar:\n",
    "\t\tsource = source.to(device)\n",
    "\t\ttarget = target_.to(device)\n",
    "\n",
    "\t\toutput_ = nmt(source, target)\n",
    "\t\toutput = output_.reshape(-1, output_.shape[2])\n",
    "\t\ttarget = target.permute(1,0).reshape(-1)\n",
    "\n",
    "\t\toptimizer.zero_grad()\n",
    "\t\tloss = criterion(output, target)\n",
    "\t\tloss.backward()\n",
    "\n",
    "\t\ttorch.nn.utils.clip_grad_norm_(nmt.parameters(), max_norm=2)\n",
    "\t\toptimizer.step()\n",
    "\t\trun_loss +=loss.item()*source.size(0)\n",
    "\t\tpbar.set_postfix(loss=f\"{run_loss/N:.3f}\")\n",
    "\tprint(f\"Pred : {gruNMT.translate(nmt, text, afrikaans, english, device)}\")\n",
    "\tprint(f\"Grdt : {grdt}\\n\")\n",
    "# \twriter.add_scalar(\"Loss\", run_loss/N, global_step=epoch)\n",
    "# writer.flush()\n",
    "# writer.close()"
   ]
  },
  {
   "cell_type": "code",
   "execution_count": 93,
   "id": "65cd06b4",
   "metadata": {},
   "outputs": [
    {
     "name": "stdout",
     "output_type": "stream",
     "text": [
      "<sos> given that we represent the target output as <ltx> and we have <ltx> training points <com> we can write the negative log likelihood of the parameters as follows <eos>\n",
      "\n",
      "<sos> given that we represent the target output as <ltx> and we have <ltx> training points <com> we can write the negative log likelihood of the parameters as follows <eos>\n"
     ]
    }
   ],
   "source": [
    "text = \"<sos> as ons die teikenuittree voorstel as <ltx> en ons <ltx> afrigpunte het <com> dan kan ons die negatiewe log waarskynlikheidskostefunksie skryf as <eos>\"\n",
    "print(gruNMT.translate(nmt, text, afrikaans, english, device)+\"\\n\")\n",
    "gd = \"<sos> given that we represent the target output as <ltx> and we have <ltx> training points <com> we can write the negative log likelihood of the parameters as follows <eos>\"\n",
    "print(gd)"
   ]
  }
 ],
 "metadata": {
  "kernelspec": {
   "display_name": "Python 3 (ipykernel)",
   "language": "python",
   "name": "python3"
  },
  "language_info": {
   "codemirror_mode": {
    "name": "ipython",
    "version": 3
   },
   "file_extension": ".py",
   "mimetype": "text/x-python",
   "name": "python",
   "nbconvert_exporter": "python",
   "pygments_lexer": "ipython3",
   "version": "3.10.14"
  }
 },
 "nbformat": 4,
 "nbformat_minor": 5
}
