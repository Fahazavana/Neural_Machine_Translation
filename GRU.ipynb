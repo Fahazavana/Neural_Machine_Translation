{
 "cells": [
  {
   "cell_type": "markdown",
   "id": "88716432",
   "metadata": {},
   "source": [
    "# NEURAL MACHINE TRANSLATION - GRU"
   ]
  },
  {
   "cell_type": "markdown",
   "id": "5fb4bb18",
   "metadata": {},
   "source": [
    "## Required Module & Config files"
   ]
  },
  {
   "cell_type": "code",
   "execution_count": 1,
   "id": "a89bf9e4-311d-4af8-846b-ccfcb9e940b2",
   "metadata": {
    "ExecuteTime": {
     "end_time": "2024-07-15T15:09:35.664393Z",
     "start_time": "2024-07-15T15:09:34.375401Z"
    }
   },
   "outputs": [],
   "source": [
    "import src.GRU as gruNMT\n",
    "from src.Tokenizer import Corpus, LangData, dataLoader\n",
    "from src.utils import load_config, translate_sentece, get_device, train_model\n",
    "from torch.nn import CrossEntropyLoss\n",
    "from torch.optim import NAdam\n",
    "import numpy as np"
   ]
  },
  {
   "cell_type": "code",
   "execution_count": 2,
   "id": "0c6d036f",
   "metadata": {},
   "outputs": [],
   "source": [
    "from src.utils import torch_bleu_score"
   ]
  },
  {
   "cell_type": "code",
   "execution_count": 3,
   "id": "2e500dcfdf8cad39",
   "metadata": {
    "ExecuteTime": {
     "end_time": "2024-07-15T15:09:35.668028Z",
     "start_time": "2024-07-15T15:09:35.665829Z"
    }
   },
   "outputs": [
    {
     "name": "stdout",
     "output_type": "stream",
     "text": [
      "Using device: mps\n"
     ]
    }
   ],
   "source": [
    "# Loading config file\n",
    "config = load_config()\n",
    "# Get device : GPU/MPS Back-End/CPU\n",
    "device = get_device()\n",
    "print(f\"Using device: {device}\")"
   ]
  },
  {
   "cell_type": "markdown",
   "id": "47c4461b",
   "metadata": {},
   "source": [
    "## Data Preprocessing"
   ]
  },
  {
   "cell_type": "code",
   "execution_count": 4,
   "id": "fa220702",
   "metadata": {
    "ExecuteTime": {
     "end_time": "2024-07-15T15:09:35.670487Z",
     "start_time": "2024-07-15T15:09:35.669022Z"
    }
   },
   "outputs": [],
   "source": [
    "# # TRAIN_DATA\n",
    "# preprocess_data(config.TRAIN_RAW, config.TRAIN_DATA, config.TRAIN_AFRIKAANS, \"afrikaans\")\n",
    "# preprocess_data(config.TRAIN_RAW, config.TRAIN_DATA, config.TRAIN_ENGLISH, \"english\")"
   ]
  },
  {
   "cell_type": "code",
   "execution_count": 5,
   "id": "8c937e6c",
   "metadata": {
    "ExecuteTime": {
     "end_time": "2024-07-15T15:09:35.673788Z",
     "start_time": "2024-07-15T15:09:35.672089Z"
    }
   },
   "outputs": [],
   "source": [
    "# # VAL_DATA\n",
    "# preprocess_data(config.VAL_RAW, config.VAL_DATA, config.VAL_AFRIKAANS, \"afrikaans\")\n",
    "# preprocess_data(config.VAL_RAW, config.VAL_DATA, config.VAL_ENGLISH, \"english\")"
   ]
  },
  {
   "cell_type": "markdown",
   "id": "76325a3f",
   "metadata": {},
   "source": [
    "## Load the dataset"
   ]
  },
  {
   "cell_type": "code",
   "execution_count": 6,
   "id": "083f4d8c",
   "metadata": {
    "ExecuteTime": {
     "end_time": "2024-07-15T15:09:35.694422Z",
     "start_time": "2024-07-15T15:09:35.687527Z"
    }
   },
   "outputs": [],
   "source": [
    "# Encoder-Source\n",
    "english_data = Corpus(f\"{config.TRAIN_DATA}/english.txt\", \"English\")\n",
    "afrikaans_data = Corpus(f\"{config.TRAIN_DATA}/afrikaans.txt\", \"Afrikaans\")"
   ]
  },
  {
   "cell_type": "markdown",
   "id": "0142f911",
   "metadata": {},
   "source": [
    "## Set Hyperparameters"
   ]
  },
  {
   "cell_type": "code",
   "execution_count": 7,
   "id": "d5ff35e0",
   "metadata": {},
   "outputs": [],
   "source": [
    "# Encoder - source\n",
    "IN_ENCODER = english_data.vocab_size\n",
    "ENCODER_EMB = 128\n",
    "\n",
    "# Decoder - target\n",
    "IN_DECODER = afrikaans_data.vocab_size\n",
    "OUT_DECODER = afrikaans_data.vocab_size\n",
    "DECODER_EMB = 128\n",
    "\n",
    "# Shared\n",
    "HIDDEN_SIZE = 1024\n",
    "NUM_LAYERS = 2\n",
    "\n",
    "EPOCHS = 20\n",
    "LR = 1e-3\n",
    "BATCH_SIZE = 128"
   ]
  },
  {
   "cell_type": "markdown",
   "id": "da759f25",
   "metadata": {},
   "source": [
    "## Set the model"
   ]
  },
  {
   "cell_type": "code",
   "execution_count": 8,
   "id": "f04f2d2f",
   "metadata": {
    "ExecuteTime": {
     "end_time": "2024-07-15T15:09:35.843549Z",
     "start_time": "2024-07-15T15:09:35.695213Z"
    }
   },
   "outputs": [],
   "source": [
    "encoder_net = gruNMT.Encoder(IN_ENCODER, ENCODER_EMB, HIDDEN_SIZE, NUM_LAYERS).to(device)\n",
    "decoder_net = gruNMT.Decoder(IN_DECODER, DECODER_EMB, HIDDEN_SIZE, NUM_LAYERS).to(device)\n",
    "model = gruNMT.GRU_NMT(encoder_net, decoder_net, OUT_DECODER)"
   ]
  },
  {
   "cell_type": "code",
   "execution_count": 9,
   "id": "ee757771",
   "metadata": {
    "ExecuteTime": {
     "end_time": "2024-07-15T15:09:35.847520Z",
     "start_time": "2024-07-15T15:09:35.844403Z"
    }
   },
   "outputs": [],
   "source": [
    "train_data = LangData(english_data, afrikaans_data)\n",
    "train_loader = dataLoader(train_data, BATCH_SIZE)\n",
    "\n",
    "pad_idx = afrikaans_data.stoi['<pad>']\n",
    "criterion = CrossEntropyLoss(ignore_index=0)\n",
    "\n",
    "optimizer = NAdam(model.parameters(), LR)"
   ]
  },
  {
   "cell_type": "code",
   "execution_count": 10,
   "id": "bcb89b48",
   "metadata": {
    "ExecuteTime": {
     "end_time": "2024-07-15T15:09:41.014234Z",
     "start_time": "2024-07-15T15:09:40.915661Z"
    }
   },
   "outputs": [
    {
     "name": "stdout",
     "output_type": "stream",
     "text": [
      "Pred: <sos> dimensies lewer vermenigvuldiging voeg voeg sou annotasies ik ik veroorsaak gegee gegee gekies dromstel hierdie genoeg alle alle alle onafhanklik toets toets le le stabiel ik vermenigvuldiging initialisering initialisering initialisering\n",
      "Refe: <sos> die klassifiseerder maak <num> korrekte positiewe voorspellings en <num> <com> <num> korrekte negatiewe voorspellings <eos>\n",
      "BLEU: 0.0\n"
     ]
    }
   ],
   "source": [
    "# Data used for follow-up durring training\n",
    "mytext = \"<sos> the classifier makes <num> correct positive predictions and <num> <com> <num> correct negative predictions <eos>\"\n",
    "ground = \"<sos> die klassifiseerder maak <num> korrekte positiewe voorspellings en <num> <com> <num> korrekte negatiewe voorspellings <eos>\"\n",
    "\n",
    "predicted = translate_sentece(model, mytext, english_data, afrikaans_data, device)\n",
    "bleu = torch_bleu_score([predicted], [ground])\n",
    "print(f\"Pred: {predicted}\")\n",
    "print(f\"Refe: {ground}\")\n",
    "print(f\"BLEU: {bleu.item()}\")"
   ]
  },
  {
   "cell_type": "markdown",
   "id": "2ed66bc3",
   "metadata": {},
   "source": [
    "## Train the data"
   ]
  },
  {
   "cell_type": "code",
   "execution_count": 11,
   "id": "7b2790009f0b8f40",
   "metadata": {
    "ExecuteTime": {
     "end_time": "2024-07-15T15:12:41.206066Z",
     "start_time": "2024-07-15T15:10:34.546739Z"
    }
   },
   "outputs": [
    {
     "name": "stderr",
     "output_type": "stream",
     "text": [
      "Epoch 1/5: 100%|██████████| 4/4 [00:02<00:00,  1.51batch/s, loss=3.122]\n"
     ]
    },
    {
     "name": "stdout",
     "output_type": "stream",
     "text": [
      "Predicted: <sos> is <apo>n <apo>n <apo>n <apo>n <apo>n <apo>n <apo>n <apo>n <apo>n <apo>n <apo>n <apo>n <apo>n <apo>n <apo>n <apo>n <apo>n <apo>n <apo>n <apo>n <apo>n <apo>n <apo>n <apo>n <apo>n <apo>n <apo>n <apo>n <apo>n\n",
      "Reference: <sos> die klassifiseerder maak <num> korrekte positiewe voorspellings en <num> <com> <num> korrekte negatiewe voorspellings <eos>\n",
      "BLEU Score: 0.0\n"
     ]
    },
    {
     "name": "stderr",
     "output_type": "stream",
     "text": [
      "Epoch 2/5: 100%|██████████| 4/4 [00:02<00:00,  1.88batch/s, loss=2.765]\n"
     ]
    },
    {
     "name": "stdout",
     "output_type": "stream",
     "text": [
      "Predicted: <sos> die die van <ltx> <eos>\n",
      "Reference: <sos> die klassifiseerder maak <num> korrekte positiewe voorspellings en <num> <com> <num> korrekte negatiewe voorspellings <eos>\n",
      "BLEU Score: 0.0\n"
     ]
    },
    {
     "name": "stderr",
     "output_type": "stream",
     "text": [
      "Epoch 3/5: 100%|██████████| 4/4 [00:01<00:00,  2.05batch/s, loss=2.435]\n"
     ]
    },
    {
     "name": "stdout",
     "output_type": "stream",
     "text": [
      "Predicted: <sos> die <ltx> <ltx> <ltx> <com> <ltx> <ltx> <com> <ltx> <ltx> <com> <ltx> <ltx> <com> <ltx> <ltx> <com> <ltx> <ltx> <com> <ltx> <ltx> <com> <ltx> <ltx> <com> <ltx> <ltx> <com> <ltx>\n",
      "Reference: <sos> die klassifiseerder maak <num> korrekte positiewe voorspellings en <num> <com> <num> korrekte negatiewe voorspellings <eos>\n",
      "BLEU Score: 0.0\n"
     ]
    },
    {
     "name": "stderr",
     "output_type": "stream",
     "text": [
      "Epoch 4/5: 100%|██████████| 4/4 [00:02<00:00,  1.91batch/s, loss=2.336]\n"
     ]
    },
    {
     "name": "stdout",
     "output_type": "stream",
     "text": [
      "Predicted: <sos> die volgende van die volgende van die volgende <eos>\n",
      "Reference: <sos> die klassifiseerder maak <num> korrekte positiewe voorspellings en <num> <com> <num> korrekte negatiewe voorspellings <eos>\n",
      "BLEU Score: 0.0\n"
     ]
    },
    {
     "name": "stderr",
     "output_type": "stream",
     "text": [
      "Epoch 5/5: 100%|██████████| 4/4 [00:01<00:00,  2.08batch/s, loss=2.155]"
     ]
    },
    {
     "name": "stdout",
     "output_type": "stream",
     "text": [
      "Predicted: <sos> die volgende van <ltx> <com> <ltx> <com> <ltx> <com> <ltx> <com> <ltx> <com> <ltx> <com> <ltx> <com> <ltx> <com> <ltx> <com> <ltx> <com> <ltx> <com> <ltx> <com> <ltx> <com> <ltx>\n",
      "Reference: <sos> die klassifiseerder maak <num> korrekte positiewe voorspellings en <num> <com> <num> korrekte negatiewe voorspellings <eos>\n",
      "BLEU Score: 0.0\n"
     ]
    },
    {
     "name": "stderr",
     "output_type": "stream",
     "text": [
      "\n"
     ]
    }
   ],
   "source": [
    "params = {\n",
    "    \"model\": model,\n",
    "    \"train_loader\": train_loader,\n",
    "    \"optimizer\": optimizer,\n",
    "    \"criterion\": criterion,\n",
    "    \"device\": device,\n",
    "    \"epochs\": 5,\n",
    "    \"source_test\": mytext,\n",
    "    \"target_test\": ground,\n",
    "    \"source_lang\": english_data,\n",
    "    \"target_lang\": afrikaans_data,\n",
    "}\n",
    "\n",
    "train_model(**params)"
   ]
  },
  {
   "cell_type": "code",
   "execution_count": 12,
   "id": "fa7bb792",
   "metadata": {},
   "outputs": [],
   "source": [
    "from nltk.translate.bleu_score import sentence_bleu, modified_precision, SmoothingFunction, corpus_bleu"
   ]
  },
  {
   "cell_type": "code",
   "execution_count": 13,
   "id": "4d82ad19d8fc56be",
   "metadata": {},
   "outputs": [],
   "source": [
    "EN_STR = [[' '.join(sent)] for sent in english_data.data_str]\n",
    "AF_STR = [[' '.join(sent)] for sent in afrikaans_data.data_str]"
   ]
  },
  {
   "cell_type": "code",
   "execution_count": 14,
   "id": "89cb5dac",
   "metadata": {},
   "outputs": [],
   "source": [
    "TRANSLATED = [[translate_sentece(model, sent[0], english_data, afrikaans_data, device)] for sent in EN_STR]"
   ]
  },
  {
   "cell_type": "code",
   "execution_count": 15,
   "id": "8d4385cd",
   "metadata": {},
   "outputs": [],
   "source": [
    "BLEU_SCORE = [sentence_bleu([b[0].split()],a[0].split(), smoothing_function=SmoothingFunction().method1) for a,b in zip(TRANSLATED, AF_STR)]"
   ]
  },
  {
   "cell_type": "code",
   "execution_count": 16,
   "id": "6a0902cd",
   "metadata": {},
   "outputs": [
    {
     "data": {
      "text/plain": [
       "0.04856337909640835"
      ]
     },
     "execution_count": 16,
     "metadata": {},
     "output_type": "execute_result"
    }
   ],
   "source": [
    "np.mean(BLEU_SCORE)"
   ]
  },
  {
   "cell_type": "code",
   "execution_count": 17,
   "id": "6766388f",
   "metadata": {},
   "outputs": [],
   "source": [
    "from torcheval.metrics.functional import bleu_score as torchblue"
   ]
  },
  {
   "cell_type": "code",
   "execution_count": 18,
   "id": "55ecf0e0",
   "metadata": {},
   "outputs": [],
   "source": [
    "def torch_blue_score(candidat, reference, device=None):\n",
    "    n_gram = min(len(candidat.split()), len(reference.split()), 4)\n",
    "    score = torchblue(candidat, [reference], n_gram, device=device)\n",
    "    return score.item()"
   ]
  },
  {
   "cell_type": "code",
   "execution_count": 19,
   "id": "80027d5e",
   "metadata": {},
   "outputs": [
    {
     "data": {
      "text/plain": [
       "0.02971724069591136"
      ]
     },
     "execution_count": 19,
     "metadata": {},
     "output_type": "execute_result"
    }
   ],
   "source": [
    "BLEU_SCORE2 = [torch_blue_score(a[0],b[0]) for a, b in zip(TRANSLATED, AF_STR)]\n",
    "np.mean(BLEU_SCORE2)"
   ]
  },
  {
   "cell_type": "code",
   "execution_count": null,
   "id": "798fe0ad",
   "metadata": {},
   "outputs": [],
   "source": []
  }
 ],
 "metadata": {
  "kernelspec": {
   "display_name": "Python 3 (ipykernel)",
   "language": "python",
   "name": "python3"
  },
  "language_info": {
   "codemirror_mode": {
    "name": "ipython",
    "version": 3
   },
   "file_extension": ".py",
   "mimetype": "text/x-python",
   "name": "python",
   "nbconvert_exporter": "python",
   "pygments_lexer": "ipython3",
   "version": "3.10.14"
  }
 },
 "nbformat": 4,
 "nbformat_minor": 5
}
