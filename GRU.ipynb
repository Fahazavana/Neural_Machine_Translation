{
 "cells": [
  {
   "cell_type": "markdown",
   "id": "88716432",
   "metadata": {},
   "source": [
    "# NEURAL MACHINE TRANSLATION - GRU"
   ]
  },
  {
   "cell_type": "markdown",
   "id": "5fb4bb18",
   "metadata": {},
   "source": [
    "## Required Module & Config files"
   ]
  },
  {
   "cell_type": "code",
   "execution_count": 1,
   "id": "a89bf9e4-311d-4af8-846b-ccfcb9e940b2",
   "metadata": {
    "ExecuteTime": {
     "end_time": "2024-07-15T15:09:35.664393Z",
     "start_time": "2024-07-15T15:09:34.375401Z"
    }
   },
   "outputs": [],
   "source": [
    "import src.GRU as gruNMT\n",
    "from src.Tokenizer import Corpus, LangData, dataLoader\n",
    "from src.utils import load_config, get_device, train_model, torch_bleu_score\n",
    "from src.Normalizer import preprocess_data\n",
    "from torch.nn import CrossEntropyLoss\n",
    "from src.Translator import  Translator\n",
    "from torch.optim import NAdam\n",
    "import numpy as np"
   ]
  },
  {
   "cell_type": "code",
   "execution_count": 2,
   "id": "2e500dcfdf8cad39",
   "metadata": {
    "ExecuteTime": {
     "end_time": "2024-07-15T15:09:35.668028Z",
     "start_time": "2024-07-15T15:09:35.665829Z"
    }
   },
   "outputs": [
    {
     "name": "stdout",
     "output_type": "stream",
     "text": [
      "Using device: mps\n"
     ]
    }
   ],
   "source": [
    "# Loading config file\n",
    "config = load_config()\n",
    "# Get device : GPU/MPS Back-End/CPU\n",
    "device = get_device()\n",
    "print(f\"Using device: {device}\")"
   ]
  },
  {
   "cell_type": "markdown",
   "id": "47c4461b",
   "metadata": {},
   "source": [
    "## Data Preprocessing"
   ]
  },
  {
   "cell_type": "code",
   "execution_count": 3,
   "id": "fa220702",
   "metadata": {
    "ExecuteTime": {
     "end_time": "2024-07-15T15:09:35.670487Z",
     "start_time": "2024-07-15T15:09:35.669022Z"
    }
   },
   "outputs": [],
   "source": [
    "# # TRAIN_DATA\n",
    "# preprocess_data(config.TRAIN_RAW, config.TRAIN_DATA, config.TRAIN_SOURCE, \"english\")\n",
    "# preprocess_data(config.TRAIN_RAW, config.TRAIN_DATA, config.TRAIN_TARGET, \"afrikaans\")\n",
    "\n",
    "# # VAL_DATA\n",
    "# preprocess_data(config.VAL_RAW, config.VAL_DATA, config.VAL_SOURCE, \"english\")\n",
    "# preprocess_data(config.VAL_RAW, config.VAL_DATA, config.VAL_TARGET, \"afrikaans\")"
   ]
  },
  {
   "cell_type": "markdown",
   "id": "76325a3f",
   "metadata": {},
   "source": [
    "## Load the dataset"
   ]
  },
  {
   "cell_type": "code",
   "execution_count": 4,
   "id": "083f4d8c",
   "metadata": {
    "ExecuteTime": {
     "end_time": "2024-07-15T15:09:35.694422Z",
     "start_time": "2024-07-15T15:09:35.687527Z"
    }
   },
   "outputs": [],
   "source": [
    "# Encoder-Source\n",
    "english_data = Corpus(f\"{config.TRAIN_DATA}/english.txt\", \"English\")\n",
    "afrikaans_data = Corpus(f\"{config.TRAIN_DATA}/afrikaans.txt\", \"Afrikaans\")"
   ]
  },
  {
   "cell_type": "markdown",
   "id": "0142f911",
   "metadata": {},
   "source": [
    "## Set Hyperparameters"
   ]
  },
  {
   "cell_type": "code",
   "execution_count": 5,
   "id": "d5ff35e0",
   "metadata": {},
   "outputs": [],
   "source": [
    "# Encoder - source\n",
    "IN_ENCODER = english_data.vocab_size\n",
    "ENCODER_EMB = 256\n",
    "\n",
    "# Decoder - target\n",
    "IN_DECODER = afrikaans_data.vocab_size\n",
    "OUT_DECODER = afrikaans_data.vocab_size\n",
    "DECODER_EMB = 256\n",
    "\n",
    "# Shared\n",
    "HIDDEN_SIZE = 1024\n",
    "NUM_LAYERS = 2\n",
    "\n",
    "LR = 1e-3\n",
    "BATCH_SIZE = 128"
   ]
  },
  {
   "cell_type": "markdown",
   "id": "da759f25",
   "metadata": {},
   "source": [
    "## Set the model"
   ]
  },
  {
   "cell_type": "code",
   "execution_count": 6,
   "id": "f04f2d2f",
   "metadata": {
    "ExecuteTime": {
     "end_time": "2024-07-15T15:09:35.843549Z",
     "start_time": "2024-07-15T15:09:35.695213Z"
    }
   },
   "outputs": [],
   "source": [
    "encoder_net = gruNMT.Encoder(IN_ENCODER, ENCODER_EMB, HIDDEN_SIZE, NUM_LAYERS).to(device)\n",
    "decoder_net = gruNMT.Decoder(IN_DECODER, DECODER_EMB, HIDDEN_SIZE, NUM_LAYERS).to(device)\n",
    "model = gruNMT.GRU_NMT(encoder_net, decoder_net, OUT_DECODER)"
   ]
  },
  {
   "cell_type": "code",
   "execution_count": 9,
   "id": "ee757771",
   "metadata": {
    "ExecuteTime": {
     "end_time": "2024-07-15T15:09:35.847520Z",
     "start_time": "2024-07-15T15:09:35.844403Z"
    }
   },
   "outputs": [],
   "source": [
    "train_data = LangData(english_data, afrikaans_data)\n",
    "train_loader = dataLoader(train_data, BATCH_SIZE)\n",
    "\n",
    "pad_idx = afrikaans_data.stoi['<pad>']\n",
    "criterion = CrossEntropyLoss(ignore_index=0)\n",
    "\n",
    "optimizer = NAdam(model.parameters(), LR)\n",
    "translator = Translator(model, english_data, afrikaans_data, device)"
   ]
  },
  {
   "cell_type": "code",
   "execution_count": 10,
   "id": "bcb89b48",
   "metadata": {
    "ExecuteTime": {
     "end_time": "2024-07-15T15:09:41.014234Z",
     "start_time": "2024-07-15T15:09:40.915661Z"
    }
   },
   "outputs": [
    {
     "name": "stdout",
     "output_type": "stream",
     "text": [
      "Pred: <sos> werknemers vrae vrae vrae vrae beeld sirkul sirkul a hul hul hul hul hul vyf vyf vyf vyf al filter\n",
      "Refe: <sos> die klassifiseerder maak <num> korrekte positiewe voorspellings en <num> <com> <num> korrekte negatiewe voorspellings <eos>\n",
      "BLEU: 0.0\n"
     ]
    }
   ],
   "source": [
    "# Data used for follow-up durring training\n",
    "mytext = \"<sos> the classifier makes <num> correct positive predictions and <num> <com> <num> correct negative predictions <eos>\"\n",
    "ground = \"<sos> die klassifiseerder maak <num> korrekte positiewe voorspellings en <num> <com> <num> korrekte negatiewe voorspellings <eos>\"\n",
    "\n",
    "predicted = translator.translate_sentence(mytext, method=\"beam\")\n",
    "bleu = torch_bleu_score([predicted], [ground])\n",
    "print(f\"Pred: {predicted}\")\n",
    "print(f\"Refe: {ground}\")\n",
    "print(f\"BLEU: {bleu.item()}\")"
   ]
  },
  {
   "cell_type": "markdown",
   "id": "2ed66bc3",
   "metadata": {},
   "source": [
    "## Train the data"
   ]
  },
  {
   "cell_type": "code",
   "execution_count": 12,
   "id": "7b2790009f0b8f40",
   "metadata": {
    "ExecuteTime": {
     "end_time": "2024-07-15T15:12:41.206066Z",
     "start_time": "2024-07-15T15:10:34.546739Z"
    }
   },
   "outputs": [
    {
     "name": "stderr",
     "output_type": "stream",
     "text": [
      "Epoch 1/20: 100%|██████████| 4/4 [00:01<00:00,  2.03batch/s, loss=0.380]\n"
     ]
    },
    {
     "name": "stdout",
     "output_type": "stream",
     "text": [
      "Predicted: <sos> die sein <ltx> word geanaliseer deur <apo>n analoog na syfer omsetter <opn> adc <cld> teen <apo>n monsterfrekwensie van <ltx> khz\n",
      "Reference: <sos> die klassifiseerder maak <num> korrekte positiewe voorspellings en <num> <com> <num> korrekte negatiewe voorspellings <eos>\n",
      "BLEU Score: 0.0\n"
     ]
    },
    {
     "name": "stderr",
     "output_type": "stream",
     "text": [
      "Epoch 2/20: 100%|██████████| 4/4 [00:02<00:00,  1.92batch/s, loss=0.355]\n"
     ]
    },
    {
     "name": "stdout",
     "output_type": "stream",
     "text": [
      "Predicted: <sos> die diskrete sein word opgemonster opgemonster met <apo>n faktor <num> opgemonster <opn> upsample <cld> <com> gefilter deur <apo>n banddeurlaatfilter <opn>\n",
      "Reference: <sos> die klassifiseerder maak <num> korrekte positiewe voorspellings en <num> <com> <num> korrekte negatiewe voorspellings <eos>\n",
      "BLEU Score: 0.0\n"
     ]
    },
    {
     "name": "stderr",
     "output_type": "stream",
     "text": [
      "Epoch 3/20: 100%|██████████| 4/4 [00:01<00:00,  2.30batch/s, loss=0.288]\n"
     ]
    },
    {
     "name": "stdout",
     "output_type": "stream",
     "text": [
      "Predicted: <sos> die diskrete tyd sein <ltx> word verkry deur <apo>n kontinue tyd sein <ltx> te monster teen <num> khz <eos>\n",
      "Reference: <sos> die klassifiseerder maak <num> korrekte positiewe voorspellings en <num> <com> <num> korrekte negatiewe voorspellings <eos>\n",
      "BLEU Score: 0.0\n"
     ]
    },
    {
     "name": "stderr",
     "output_type": "stream",
     "text": [
      "Epoch 4/20: 100%|██████████| 4/4 [00:02<00:00,  1.88batch/s, loss=0.311]\n"
     ]
    },
    {
     "name": "stdout",
     "output_type": "stream",
     "text": [
      "Predicted: <sos> die diskrete sein word dan opgemonster met <apo>n faktor <ltx> <com> gefilter deur <apo>n laagdeurlaatfilter <opn> lpf <cld> met <apo>n\n",
      "Reference: <sos> die klassifiseerder maak <num> korrekte positiewe voorspellings en <num> <com> <num> korrekte negatiewe voorspellings <eos>\n",
      "BLEU Score: 0.0\n"
     ]
    },
    {
     "name": "stderr",
     "output_type": "stream",
     "text": [
      "Epoch 5/20: 100%|██████████| 4/4 [00:02<00:00,  1.98batch/s, loss=0.300]\n"
     ]
    },
    {
     "name": "stdout",
     "output_type": "stream",
     "text": [
      "Predicted: <sos> die diskrete sein word dan opgemonster met <apo>n faktor <ltx> <com> gefilter deur <apo>n laagdeurlaatfilter <opn> lpf <cld> met <apo>n\n",
      "Reference: <sos> die klassifiseerder maak <num> korrekte positiewe voorspellings en <num> <com> <num> korrekte negatiewe voorspellings <eos>\n",
      "BLEU Score: 0.0\n"
     ]
    },
    {
     "name": "stderr",
     "output_type": "stream",
     "text": [
      "Epoch 6/20: 100%|██████████| 4/4 [00:01<00:00,  2.29batch/s, loss=0.252]\n"
     ]
    },
    {
     "name": "stdout",
     "output_type": "stream",
     "text": [
      "Predicted: <sos> die diskrete sein word dan opgemonster met <apo>n faktor <ltx> <com> gefilter deur <apo>n laagdeurlaatfilter <opn> lpf <cld> met <apo>n\n",
      "Reference: <sos> die klassifiseerder maak <num> korrekte positiewe voorspellings en <num> <com> <num> korrekte negatiewe voorspellings <eos>\n",
      "BLEU Score: 0.0\n"
     ]
    },
    {
     "name": "stderr",
     "output_type": "stream",
     "text": [
      "Epoch 7/20: 100%|██████████| 4/4 [00:01<00:00,  2.08batch/s, loss=0.252]\n"
     ]
    },
    {
     "name": "stdout",
     "output_type": "stream",
     "text": [
      "Predicted: <sos> die volgende figuur toon die skoenlapper berekeninge van <apo>n <ltx> punt desimasie in tyd fft <com> met <ltx> as intree\n",
      "Reference: <sos> die klassifiseerder maak <num> korrekte positiewe voorspellings en <num> <com> <num> korrekte negatiewe voorspellings <eos>\n",
      "BLEU Score: 0.0\n"
     ]
    },
    {
     "name": "stderr",
     "output_type": "stream",
     "text": [
      "Epoch 8/20: 100%|██████████| 4/4 [00:02<00:00,  1.97batch/s, loss=0.270]\n"
     ]
    },
    {
     "name": "stdout",
     "output_type": "stream",
     "text": [
      "Predicted: <sos> die volgende figuur toon die skoenlapper berekeninge van <apo>n <ltx> punt desimasie in frekwensie fft <com> met <ltx> as intree\n",
      "Reference: <sos> die klassifiseerder maak <num> korrekte positiewe voorspellings en <num> <com> <num> korrekte negatiewe voorspellings <eos>\n",
      "BLEU Score: 0.0\n"
     ]
    },
    {
     "name": "stderr",
     "output_type": "stream",
     "text": [
      "Epoch 9/20: 100%|██████████| 4/4 [00:02<00:00,  1.97batch/s, loss=0.260]\n"
     ]
    },
    {
     "name": "stdout",
     "output_type": "stream",
     "text": [
      "Predicted: <sos> die volgende twee eindige lengte diskrete tyd seine is onderskeidelik <apo>n intree wat op die stelsel aangel <opn> e <cld>\n",
      "Reference: <sos> die klassifiseerder maak <num> korrekte positiewe voorspellings en <num> <com> <num> korrekte negatiewe voorspellings <eos>\n",
      "BLEU Score: 0.0\n"
     ]
    },
    {
     "name": "stderr",
     "output_type": "stream",
     "text": [
      "Epoch 10/20: 100%|██████████| 4/4 [00:01<00:00,  2.29batch/s, loss=0.211]\n"
     ]
    },
    {
     "name": "stdout",
     "output_type": "stream",
     "text": [
      "Predicted: <sos> die volgende twee eindige lengte diskrete tyd seine is onderskeidelik <apo>n intree wat op die stelsel aangel <opn> e <cld>\n",
      "Reference: <sos> die klassifiseerder maak <num> korrekte positiewe voorspellings en <num> <com> <num> korrekte negatiewe voorspellings <eos>\n",
      "BLEU Score: 0.0\n"
     ]
    },
    {
     "name": "stderr",
     "output_type": "stream",
     "text": [
      "Epoch 11/20: 100%|██████████| 4/4 [00:02<00:00,  2.00batch/s, loss=0.244]\n"
     ]
    },
    {
     "name": "stdout",
     "output_type": "stream",
     "text": [
      "Predicted: <sos> die volgende figuur toon die skoenlapper berekeninge van <apo>n <ltx> punt desimasie in tyd fft <com> met <ltx> as intree\n",
      "Reference: <sos> die klassifiseerder maak <num> korrekte positiewe voorspellings en <num> <com> <num> korrekte negatiewe voorspellings <eos>\n",
      "BLEU Score: 0.0\n"
     ]
    },
    {
     "name": "stderr",
     "output_type": "stream",
     "text": [
      "Epoch 12/20: 100%|██████████| 4/4 [00:02<00:00,  1.90batch/s, loss=0.243]\n"
     ]
    },
    {
     "name": "stdout",
     "output_type": "stream",
     "text": [
      "Predicted: <sos> die sein word dan opgemonster met <apo>n faktor <num> opgemonster <opn> upsample <cld> <com> gefilter deur <apo>n banddeurlaatfilter <opn> bpf\n",
      "Reference: <sos> die klassifiseerder maak <num> korrekte positiewe voorspellings en <num> <com> <num> korrekte negatiewe voorspellings <eos>\n",
      "BLEU Score: 0.0\n"
     ]
    },
    {
     "name": "stderr",
     "output_type": "stream",
     "text": [
      "Epoch 13/20: 100%|██████████| 4/4 [00:02<00:00,  1.92batch/s, loss=0.239]\n"
     ]
    },
    {
     "name": "stdout",
     "output_type": "stream",
     "text": [
      "Predicted: <sos> die klassifiseerder maak <num> korrekte positiewe voorspellings en <num> <com> <num> korrekte negatiewe voorspellings <eos>\n",
      "Reference: <sos> die klassifiseerder maak <num> korrekte positiewe voorspellings en <num> <com> <num> korrekte negatiewe voorspellings <eos>\n",
      "BLEU Score: 1.0\n"
     ]
    },
    {
     "name": "stderr",
     "output_type": "stream",
     "text": [
      "Epoch 14/20: 100%|██████████| 4/4 [00:02<00:00,  1.99batch/s, loss=0.220]\n"
     ]
    },
    {
     "name": "stdout",
     "output_type": "stream",
     "text": [
      "Predicted: <sos> die diskrete sein word dan opgemonster met <apo>n faktor <ltx> <com> gefilter deur <apo>n laagdeurlaatfilter <opn> lpf <cld> met <apo>n\n",
      "Reference: <sos> die klassifiseerder maak <num> korrekte positiewe voorspellings en <num> <com> <num> korrekte negatiewe voorspellings <eos>\n",
      "BLEU Score: 0.0\n"
     ]
    },
    {
     "name": "stderr",
     "output_type": "stream",
     "text": [
      "Epoch 15/20: 100%|██████████| 4/4 [00:02<00:00,  1.97batch/s, loss=0.232]\n"
     ]
    },
    {
     "name": "stdout",
     "output_type": "stream",
     "text": [
      "Predicted: <sos> die klassifiseerder maak <num> korrekte positiewe voorspellings en <num> <com> <num> korrekte negatiewe voorspellings <eos>\n",
      "Reference: <sos> die klassifiseerder maak <num> korrekte positiewe voorspellings en <num> <com> <num> korrekte negatiewe voorspellings <eos>\n",
      "BLEU Score: 1.0\n"
     ]
    },
    {
     "name": "stderr",
     "output_type": "stream",
     "text": [
      "Epoch 16/20: 100%|██████████| 4/4 [00:01<00:00,  2.24batch/s, loss=0.203]\n"
     ]
    },
    {
     "name": "stdout",
     "output_type": "stream",
     "text": [
      "Predicted: <sos> die klassifiseerder maak <num> korrekte positiewe voorspellings en <num> <com> <num> korrekte negatiewe voorspellings <eos>\n",
      "Reference: <sos> die klassifiseerder maak <num> korrekte positiewe voorspellings en <num> <com> <num> korrekte negatiewe voorspellings <eos>\n",
      "BLEU Score: 1.0\n"
     ]
    },
    {
     "name": "stderr",
     "output_type": "stream",
     "text": [
      "Epoch 17/20: 100%|██████████| 4/4 [00:01<00:00,  2.05batch/s, loss=0.215]\n"
     ]
    },
    {
     "name": "stdout",
     "output_type": "stream",
     "text": [
      "Predicted: <sos> die klassifiseerder maak <num> korrekte positiewe voorspellings en <num> <com> <num> korrekte negatiewe voorspellings <eos>\n",
      "Reference: <sos> die klassifiseerder maak <num> korrekte positiewe voorspellings en <num> <com> <num> korrekte negatiewe voorspellings <eos>\n",
      "BLEU Score: 1.0\n"
     ]
    },
    {
     "name": "stderr",
     "output_type": "stream",
     "text": [
      "Epoch 18/20: 100%|██████████| 4/4 [00:02<00:00,  2.00batch/s, loss=0.227]\n"
     ]
    },
    {
     "name": "stdout",
     "output_type": "stream",
     "text": [
      "Predicted: <sos> die klassifiseerder maak <num> korrekte positiewe voorspellings en <num> <com> <num> korrekte negatiewe voorspellings <eos>\n",
      "Reference: <sos> die klassifiseerder maak <num> korrekte positiewe voorspellings en <num> <com> <num> korrekte negatiewe voorspellings <eos>\n",
      "BLEU Score: 1.0\n"
     ]
    },
    {
     "name": "stderr",
     "output_type": "stream",
     "text": [
      "Epoch 19/20: 100%|██████████| 4/4 [00:02<00:00,  1.94batch/s, loss=0.225]\n"
     ]
    },
    {
     "name": "stdout",
     "output_type": "stream",
     "text": [
      "Predicted: <sos> die klassifiseerder maak <num> korrekte positiewe voorspellings en <num> <com> <num> korrekte negatiewe voorspellings <eos>\n",
      "Reference: <sos> die klassifiseerder maak <num> korrekte positiewe voorspellings en <num> <com> <num> korrekte negatiewe voorspellings <eos>\n",
      "BLEU Score: 1.0\n"
     ]
    },
    {
     "name": "stderr",
     "output_type": "stream",
     "text": [
      "Epoch 20/20: 100%|██████████| 4/4 [00:01<00:00,  2.22batch/s, loss=0.199]"
     ]
    },
    {
     "name": "stdout",
     "output_type": "stream",
     "text": [
      "Predicted: <sos> die klassifiseerder maak <num> korrekte positiewe voorspellings en <num> <com> <num> korrekte negatiewe voorspellings <eos>\n",
      "Reference: <sos> die klassifiseerder maak <num> korrekte positiewe voorspellings en <num> <com> <num> korrekte negatiewe voorspellings <eos>\n",
      "BLEU Score: 1.0\n"
     ]
    },
    {
     "name": "stderr",
     "output_type": "stream",
     "text": [
      "\n"
     ]
    }
   ],
   "source": [
    "EPOCHS = 20\n",
    "params = {\n",
    "    \"model\": model,\n",
    "    \"train_loader\": train_loader,\n",
    "    \"optimizer\": optimizer,\n",
    "    \"criterion\": criterion,\n",
    "    \"device\": device,\n",
    "    \"epochs\": EPOCHS,\n",
    "    \"source_test\": mytext,\n",
    "    \"target_test\": ground,\n",
    "\t\"translator\":translator\n",
    "}\n",
    "\n",
    "train_model(**params)"
   ]
  },
  {
   "cell_type": "markdown",
   "id": "de635f30",
   "metadata": {},
   "source": [
    "## EVALUATE"
   ]
  },
  {
   "cell_type": "code",
   "execution_count": 52,
   "id": "4d82ad19d8fc56be",
   "metadata": {},
   "outputs": [],
   "source": [
    "EN_STR = [[' '.join(sent)] for sent in english_data.data_str]\n",
    "AF_STR = [[' '.join(sent)] for sent in afrikaans_data.data_str]\n",
    "TRANSLATED = [[translate_sentece(model, sent[0], english_data, afrikaans_data, device)] for sent in EN_STR]"
   ]
  },
  {
   "cell_type": "code",
   "execution_count": 53,
   "id": "8d4385cd",
   "metadata": {},
   "outputs": [
    {
     "name": "stdout",
     "output_type": "stream",
     "text": [
      "Mean BLEU TRAIN 0.8744739294052124\n"
     ]
    }
   ],
   "source": [
    "BLEU_SCORE = [torch_bleu_score(a,b) for a, b in zip(TRANSLATED, AF_STR)]\n",
    "print(f\"Mean BLEU TRAIN {np.mean(BLEU_SCORE)}\")"
   ]
  },
  {
   "cell_type": "code",
   "execution_count": 54,
   "id": "0e88e600",
   "metadata": {},
   "outputs": [],
   "source": [
    "with open(f\"{config.VAL_DATA}/english.txt\") as data:\n",
    "\tenglish_test = data.read().strip().split(\"\\n\")\n",
    "with open(f\"{config.VAL_DATA}/afrikaans.txt\") as data:\n",
    "\tafrikaans_test = data.read().strip().split(\"\\n\")\n",
    "AF_TEST = [[sent] for sent in afrikaans_test]"
   ]
  },
  {
   "cell_type": "code",
   "execution_count": 55,
   "id": "f61a7571",
   "metadata": {},
   "outputs": [],
   "source": [
    "TRANSLATED_VAL = [[translate_sentece(model, sent, english_data, afrikaans_data, device)] for sent in english_test]"
   ]
  },
  {
   "cell_type": "code",
   "execution_count": 56,
   "id": "ff7791dd",
   "metadata": {},
   "outputs": [
    {
     "name": "stdout",
     "output_type": "stream",
     "text": [
      "Mean BLEU VAL 0.02052861452102661\n"
     ]
    }
   ],
   "source": [
    "BLEU_VAL= [torch_bleu_score(a,b) for a, b in zip(TRANSLATED_VAL, AF_TEST)]\n",
    "print(f\"Mean BLEU VAL {np.mean(BLEU_VAL)}\")"
   ]
  },
  {
   "cell_type": "code",
   "execution_count": 61,
   "id": "bae5bb12",
   "metadata": {},
   "outputs": [],
   "source": [
    "data_eng = [sent.strip().split() for sent in english_test]"
   ]
  },
  {
   "cell_type": "code",
   "execution_count": 64,
   "id": "28a707b0",
   "metadata": {},
   "outputs": [],
   "source": [
    "data_eng1 = []\n",
    "for sent in data_eng:\n",
    "\t for word in sent:\n",
    "\t\t data_eng1.append(word if word in english_data.stoi else '<unk>')"
   ]
  },
  {
   "cell_type": "code",
   "execution_count": 66,
   "id": "7095ab9b",
   "metadata": {},
   "outputs": [],
   "source": [
    "from collections import Counter"
   ]
  },
  {
   "cell_type": "code",
   "execution_count": 67,
   "id": "31ab58a5",
   "metadata": {},
   "outputs": [],
   "source": [
    "A = Counter(data_eng1)"
   ]
  },
  {
   "cell_type": "code",
   "execution_count": 68,
   "id": "50ea8c85",
   "metadata": {},
   "outputs": [
    {
     "data": {
      "text/plain": [
       "Counter({'<unk>': 184140105,\n",
       "         'e': 50591803,\n",
       "         's': 40394087,\n",
       "         't': 31692371,\n",
       "         'a': 24609015,\n",
       "         'n': 23570834,\n",
       "         'i': 21799972,\n",
       "         'c': 18197177,\n",
       "         'd': 13037243,\n",
       "         'b': 7052933,\n",
       "         'y': 4579824,\n",
       "         'z': 366384,\n",
       "         'the': 236,\n",
       "         '<eos>': 194,\n",
       "         '<sos>': 182,\n",
       "         '<num>': 100,\n",
       "         'of': 82,\n",
       "         'is': 58,\n",
       "         'and': 55,\n",
       "         'to': 54,\n",
       "         '<com>': 43,\n",
       "         'what': 41,\n",
       "         'for': 33,\n",
       "         'system': 25,\n",
       "         'describe': 25,\n",
       "         '<opn>': 24,\n",
       "         '<cld>': 24,\n",
       "         'in': 23,\n",
       "         'an': 22,\n",
       "         'below': 19,\n",
       "         'this': 17,\n",
       "         'on': 16,\n",
       "         'between': 15,\n",
       "         'be': 15,\n",
       "         'that': 15,\n",
       "         'are': 15,\n",
       "         'each': 14,\n",
       "         'code': 14,\n",
       "         'with': 14,\n",
       "         '<ltx>': 13,\n",
       "         'used': 13,\n",
       "         'your': 12,\n",
       "         'diagram': 12,\n",
       "         'design': 11,\n",
       "         'which': 10,\n",
       "         'from': 10,\n",
       "         'as': 9,\n",
       "         'will': 9,\n",
       "         'time': 9,\n",
       "         'block': 9,\n",
       "         'within': 9,\n",
       "         'you': 9,\n",
       "         'two': 9,\n",
       "         'using': 8,\n",
       "         'write': 8,\n",
       "         'processor': 8,\n",
       "         'can': 8,\n",
       "         'process': 7,\n",
       "         'at': 7,\n",
       "         'answer': 7,\n",
       "         'must': 7,\n",
       "         'draw': 7,\n",
       "         'have': 7,\n",
       "         'difference': 7,\n",
       "         'it': 7,\n",
       "         'given': 7,\n",
       "         'required': 7,\n",
       "         'assume': 6,\n",
       "         'by': 6,\n",
       "         'main': 6,\n",
       "         'execution': 6,\n",
       "         'three': 6,\n",
       "         'table': 6,\n",
       "         'give': 6,\n",
       "         'one': 6,\n",
       "         'has': 6,\n",
       "         'function': 6,\n",
       "         'ms': 6,\n",
       "         'would': 5,\n",
       "         'if': 5,\n",
       "         'use': 5,\n",
       "         'data': 5,\n",
       "         'all': 5,\n",
       "         'seen': 5,\n",
       "         'after': 4,\n",
       "         'number': 4,\n",
       "         'single': 4,\n",
       "         'following': 4,\n",
       "         'level': 4,\n",
       "         'when': 4,\n",
       "         'does': 4,\n",
       "         'line': 4,\n",
       "         'only': 4,\n",
       "         'show': 4,\n",
       "         'takes': 4,\n",
       "         'every': 4,\n",
       "         'described': 3,\n",
       "         'class': 3,\n",
       "         'speed': 3,\n",
       "         'classes': 3,\n",
       "         'least': 3,\n",
       "         'other': 3,\n",
       "         'image': 3,\n",
       "         'shortly': 3,\n",
       "         'output': 3,\n",
       "         'part': 3,\n",
       "         'executed': 3,\n",
       "         'explain': 3,\n",
       "         'how': 3,\n",
       "         'indicate': 3,\n",
       "         'shown': 3,\n",
       "         'implemented': 3,\n",
       "         'method': 3,\n",
       "         'was': 3,\n",
       "         'lines': 3,\n",
       "         'above': 3,\n",
       "         'or': 3,\n",
       "         'power': 3,\n",
       "         'up': 2,\n",
       "         'requirements': 2,\n",
       "         'its': 2,\n",
       "         'ground': 2,\n",
       "         'functions': 2,\n",
       "         'refer': 2,\n",
       "         'before': 2,\n",
       "         'frame': 2,\n",
       "         'defined': 2,\n",
       "         'first': 2,\n",
       "         'determine': 2,\n",
       "         'different': 2,\n",
       "         'more': 2,\n",
       "         'case': 2,\n",
       "         'equivalent': 2,\n",
       "         'terms': 2,\n",
       "         'list': 2,\n",
       "         'means': 2,\n",
       "         'based': 2,\n",
       "         'optimise': 2,\n",
       "         'multiple': 2,\n",
       "         'base': 2,\n",
       "         'sum': 2,\n",
       "         'same': 2,\n",
       "         'complete': 2,\n",
       "         'full': 2,\n",
       "         'average': 2,\n",
       "         'sample': 2,\n",
       "         'audio': 2,\n",
       "         'set': 2,\n",
       "         'calculate': 2,\n",
       "         'assuming': 2,\n",
       "         'their': 2,\n",
       "         'components': 2,\n",
       "         'wants': 2,\n",
       "         'but': 2,\n",
       "         'not': 2,\n",
       "         'why': 2,\n",
       "         'changes': 2,\n",
       "         'makes': 2,\n",
       "         'than': 2,\n",
       "         'nodes': 2,\n",
       "         'work': 2,\n",
       "         'do': 2,\n",
       "         'through': 2,\n",
       "         'times': 2,\n",
       "         'energy': 2,\n",
       "         'any': 2,\n",
       "         'over': 2,\n",
       "         'transfer': 2,\n",
       "         'shows': 2,\n",
       "         'so': 2,\n",
       "         'texttt': 2,\n",
       "         'high': 2,\n",
       "         '<apo>': 2,\n",
       "         'cross': 2,\n",
       "         'analysis': 1,\n",
       "         'systems': 1,\n",
       "         'followed': 1,\n",
       "         'levels': 1,\n",
       "         'order': 1,\n",
       "         'we': 1,\n",
       "         'choose': 1,\n",
       "         'motivate': 1,\n",
       "         'final': 1,\n",
       "         'launched': 1,\n",
       "         'necessary': 1,\n",
       "         'aim': 1,\n",
       "         'include': 1,\n",
       "         'next': 1,\n",
       "         'new': 1,\n",
       "         'been': 1,\n",
       "         'saving': 1,\n",
       "         'models': 1,\n",
       "         'white': 1,\n",
       "         'testing': 1,\n",
       "         'step': 1,\n",
       "         'assignment': 1,\n",
       "         'form': 1,\n",
       "         'graph': 1,\n",
       "         'see': 1,\n",
       "         'methods': 1,\n",
       "         'rate': 1,\n",
       "         'needs': 1,\n",
       "         'periodic': 1,\n",
       "         'provided': 1,\n",
       "         'perform': 1,\n",
       "         'efficient': 1,\n",
       "         'computations': 1,\n",
       "         'algorithm': 1,\n",
       "         'currently': 1,\n",
       "         'calculates': 1,\n",
       "         'result': 1,\n",
       "         'decide': 1,\n",
       "         'into': 1,\n",
       "         'state': 1,\n",
       "         'machine': 1,\n",
       "         'textbf': 1,\n",
       "         'example': 1,\n",
       "         'add': 1,\n",
       "         'smallest': 1,\n",
       "         'until': 1,\n",
       "         'values': 1,\n",
       "         'vector': 1,\n",
       "         'direct': 1,\n",
       "         'configuration': 1,\n",
       "         'technique': 1,\n",
       "         'improve': 1,\n",
       "         'most': 1,\n",
       "         'adc': 1,\n",
       "         'zeros': 1,\n",
       "         'signal': 1,\n",
       "         'bits': 1,\n",
       "         'per': 1,\n",
       "         'sampled': 1,\n",
       "         'khz': 1,\n",
       "         'non': 1,\n",
       "         'also': 1,\n",
       "         'minimum': 1,\n",
       "         'some': 1,\n",
       "         'them': 1,\n",
       "         'clearly': 1,\n",
       "         'signals': 1,\n",
       "         'should': 1,\n",
       "         'possible': 1,\n",
       "         'change': 1,\n",
       "         'ideal': 1,\n",
       "         'scenario': 1,\n",
       "         'sketch': 1,\n",
       "         'run': 1,\n",
       "         'model': 1,\n",
       "         'these': 1,\n",
       "         'settings': 1,\n",
       "         'uses': 1,\n",
       "         'fixed': 1,\n",
       "         'processing': 1,\n",
       "         'want': 1,\n",
       "         'follows': 1,\n",
       "         'works': 1,\n",
       "         'implement': 1,\n",
       "         'look': 1,\n",
       "         'term': 1,\n",
       "         'textit': 1,\n",
       "         'they': 1,\n",
       "         'way': 1,\n",
       "         'associative': 1,\n",
       "         'back': 1,\n",
       "         'written': 1,\n",
       "         'ratio': 1,\n",
       "         'factors': 1,\n",
       "         'compared': 1,\n",
       "         'unit': 1,\n",
       "         'around': 1,\n",
       "         'calculations': 1,\n",
       "         'maximum': 1,\n",
       "         'make': 1,\n",
       "         'decided': 1,\n",
       "         'contains': 1,\n",
       "         'ways': 1,\n",
       "         'measure': 1,\n",
       "         'like': 1,\n",
       "         'test': 1,\n",
       "         'observation': 1,\n",
       "         'additional': 1,\n",
       "         'effect': 1})"
      ]
     },
     "execution_count": 68,
     "metadata": {},
     "output_type": "execute_result"
    }
   ],
   "source": [
    "A"
   ]
  },
  {
   "cell_type": "code",
   "execution_count": null,
   "id": "4412c869",
   "metadata": {},
   "outputs": [],
   "source": []
  }
 ],
 "metadata": {
  "kernelspec": {
   "display_name": "Python 3 (ipykernel)",
   "language": "python",
   "name": "python3"
  },
  "language_info": {
   "codemirror_mode": {
    "name": "ipython",
    "version": 3
   },
   "file_extension": ".py",
   "mimetype": "text/x-python",
   "name": "python",
   "nbconvert_exporter": "python",
   "pygments_lexer": "ipython3",
   "version": "3.10.14"
  }
 },
 "nbformat": 4,
 "nbformat_minor": 5
}
