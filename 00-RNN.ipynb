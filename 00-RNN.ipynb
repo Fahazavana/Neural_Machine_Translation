{
 "cells": [
  {
   "cell_type": "markdown",
   "id": "88716432",
   "metadata": {},
   "source": [
    "# NEURAL MACHINE TRANSLATION - Vanilla RNN"
   ]
  },
  {
   "cell_type": "markdown",
   "id": "5fb4bb18",
   "metadata": {},
   "source": [
    "## Required Module & Config files"
   ]
  },
  {
   "cell_type": "code",
   "execution_count": 20,
   "id": "a89bf9e4-311d-4af8-846b-ccfcb9e940b2",
   "metadata": {
    "ExecuteTime": {
     "end_time": "2024-07-15T15:09:35.664393Z",
     "start_time": "2024-07-15T15:09:34.375401Z"
    }
   },
   "outputs": [],
   "source": [
    "import src.RNN_GRU as rnnNMT\n",
    "from src.Tokenizer import Corpus, LangData, dataLoader\n",
    "from src.utils import load_config, get_device, train_model\n",
    "from src.Translator import Translator\n",
    "from torch.nn import CrossEntropyLoss\n",
    "from torch.optim import NAdam\n",
    "import evaluate\n",
    "import numpy as np\n",
    "from torchinfo import summary"
   ]
  },
  {
   "cell_type": "code",
   "execution_count": 21,
   "id": "2e500dcfdf8cad39",
   "metadata": {
    "ExecuteTime": {
     "end_time": "2024-07-15T15:09:35.668028Z",
     "start_time": "2024-07-15T15:09:35.665829Z"
    }
   },
   "outputs": [
    {
     "name": "stdout",
     "output_type": "stream",
     "text": [
      "Using device: mps\n"
     ]
    }
   ],
   "source": [
    "# Loading config file\n",
    "config = load_config()\n",
    "# Get device : GPU/MPS Back-End/CPU\n",
    "device = get_device()\n",
    "print(f\"Using device: {device}\")"
   ]
  },
  {
   "cell_type": "markdown",
   "id": "47c4461b",
   "metadata": {},
   "source": [
    "## Data Preprocessing"
   ]
  },
  {
   "cell_type": "code",
   "execution_count": 22,
   "id": "fa220702",
   "metadata": {
    "ExecuteTime": {
     "end_time": "2024-07-15T15:09:35.670487Z",
     "start_time": "2024-07-15T15:09:35.669022Z"
    }
   },
   "outputs": [],
   "source": [
    "# # TRAIN_DATA\n",
    "# preprocess_data(config.TRAIN_RAW, config.TRAIN_DATA, config.TRAIN_SOURCE, \"english\")\n",
    "# preprocess_data(config.TRAIN_RAW, config.TRAIN_DATA, config.TRAIN_TARGET, \"afrikaans\")\n",
    "\n",
    "# # VAL_DATA\n",
    "# preprocess_data(config.VAL_RAW, config.VAL_DATA, config.VAL_SOURCE, \"english\")\n",
    "# preprocess_data(config.VAL_RAW, config.VAL_DATA, config.VAL_TARGET, \"afrikaans\")"
   ]
  },
  {
   "cell_type": "markdown",
   "id": "76325a3f",
   "metadata": {},
   "source": [
    "## Load the dataset"
   ]
  },
  {
   "cell_type": "code",
   "execution_count": 23,
   "id": "083f4d8c",
   "metadata": {
    "ExecuteTime": {
     "end_time": "2024-07-15T15:09:35.694422Z",
     "start_time": "2024-07-15T15:09:35.687527Z"
    }
   },
   "outputs": [],
   "source": [
    "# Encoder-Source\n",
    "english_data = Corpus(f\"{config.TRAIN_DATA}/english.txt\", \"English\")\n",
    "afrikaans_data = Corpus(f\"{config.TRAIN_DATA}/afrikaans.txt\", \"Afrikaans\")"
   ]
  },
  {
   "cell_type": "markdown",
   "id": "0142f911",
   "metadata": {},
   "source": [
    "## Set Hyperparameters"
   ]
  },
  {
   "cell_type": "code",
   "execution_count": 12,
   "id": "d5ff35e0",
   "metadata": {},
   "outputs": [],
   "source": [
    "# Encoder - source\n",
    "IN_ENCODER = english_data.vocab_size\n",
    "ENCODER_EMB = 256\n",
    "\n",
    "# Decoder - target\n",
    "IN_DECODER = afrikaans_data.vocab_size\n",
    "OUT_DECODER = afrikaans_data.vocab_size\n",
    "DECODER_EMB = 256\n",
    "\n",
    "# Shared\n",
    "HIDDEN_SIZE = 1024\n",
    "NUM_LAYERS = 4\n",
    "\n",
    "LR = 1e-3\n",
    "BATCH_SIZE = 128"
   ]
  },
  {
   "cell_type": "markdown",
   "id": "da759f25",
   "metadata": {},
   "source": [
    "## Set the model"
   ]
  },
  {
   "cell_type": "code",
   "execution_count": 16,
   "id": "f04f2d2f",
   "metadata": {
    "ExecuteTime": {
     "end_time": "2024-07-15T15:09:35.843549Z",
     "start_time": "2024-07-15T15:09:35.695213Z"
    }
   },
   "outputs": [
    {
     "data": {
      "text/plain": [
       "=================================================================\n",
       "Layer (type:depth-idx)                   Param #\n",
       "=================================================================\n",
       "RNN_NMT                                  --\n",
       "├─Encoder: 1-1                           --\n",
       "│    └─RNN: 2-1                          7,610,368\n",
       "│    └─Embedding: 2-2                    753,664\n",
       "├─Decoder: 1-2                           --\n",
       "│    └─RNN: 2-3                          7,610,368\n",
       "│    └─Embedding: 2-4                    749,312\n",
       "│    └─Linear: 2-5                       3,000,175\n",
       "=================================================================\n",
       "Total params: 19,723,887\n",
       "Trainable params: 19,723,887\n",
       "Non-trainable params: 0\n",
       "================================================================="
      ]
     },
     "execution_count": 16,
     "metadata": {},
     "output_type": "execute_result"
    }
   ],
   "source": [
    "encoder_net = rnnNMT.Encoder(IN_ENCODER, ENCODER_EMB, HIDDEN_SIZE, NUM_LAYERS).to(device)\n",
    "decoder_net = rnnNMT.Decoder(IN_DECODER, DECODER_EMB, HIDDEN_SIZE, NUM_LAYERS).to(device)\n",
    "model = rnnNMT.RNN_NMT(encoder_net, decoder_net, OUT_DECODER)\n",
    "\n",
    "summary(model)"
   ]
  },
  {
   "cell_type": "code",
   "execution_count": 17,
   "id": "ee757771",
   "metadata": {
    "ExecuteTime": {
     "end_time": "2024-07-15T15:09:35.847520Z",
     "start_time": "2024-07-15T15:09:35.844403Z"
    }
   },
   "outputs": [
    {
     "name": "stderr",
     "output_type": "stream",
     "text": [
      "Using the latest cached version of the module from /Users/lucien/.cache/huggingface/modules/evaluate_modules/metrics/evaluate-metric--bleu/9e0985c1200e367cce45605ce0ecb5ede079894e0f24f54613fca08eeb8aff76 (last modified on Thu Jul 18 16:29:52 2024) since it couldn't be found locally at evaluate-metric--bleu, or remotely on the Hugging Face Hub.\n"
     ]
    }
   ],
   "source": [
    "train_data = LangData(english_data, afrikaans_data)\n",
    "train_loader = dataLoader(train_data, BATCH_SIZE)\n",
    "\n",
    "pad_idx = afrikaans_data.stoi['<pad>']\n",
    "criterion = CrossEntropyLoss(ignore_index=0)\n",
    "\n",
    "optimizer = NAdam(model.parameters(), LR)\n",
    "translator = Translator(model, english_data, afrikaans_data, device)\n",
    "metric = evaluate.load(\"bleu\")"
   ]
  },
  {
   "cell_type": "code",
   "execution_count": 18,
   "id": "bcb89b48",
   "metadata": {
    "ExecuteTime": {
     "end_time": "2024-07-15T15:09:41.014234Z",
     "start_time": "2024-07-15T15:09:40.915661Z"
    }
   },
   "outputs": [
    {
     "name": "stdout",
     "output_type": "stream",
     "text": [
      "Pred: <sos> verlaat komponente ryp julius neelsie asseblief.\" optimaal kruiskorrelasie walglike (fourier bruin ongeluk dubbeltoonmultifrekwensie toespraak pere (all-pass) ryk ryk maksimale eintlik <cld> neelsie herinner skeef herken.\" ding son 7 vra terugdaal teken kontinue aanvaarding swanger omstander\n",
      "Refe: <sos> as ons die teikenuittree voorstel as $y\\in\\{0,1\\}$ en ons $n$ afrigpunte het , dan kan ons die negatiewe log-waarskynlikheidskostefunksie skryf as: <eos>\n",
      "bleu                : 0.0\n",
      "precisions          : [0.10638297872340426, 0.043478260869565216, 0.022222222222222223, 0.0]\n",
      "brevity_penalty     : 1.0\n",
      "length_ratio        : 1.205128205128205\n",
      "translation_length  : 47\n",
      "reference_length    : 39\n"
     ]
    }
   ],
   "source": [
    "# Data used for follow-up durring training\n",
    "mytext = \"<sos> given that we represent the target output as $y\\in\\{0,1\\}$ and we have $n$ training points , we can write the negative log likelihood of the parameters as follows: <eos>\"\n",
    "ground = \"<sos> as ons die teikenuittree voorstel as $y\\in\\{0,1\\}$ en ons $n$ afrigpunte het , dan kan ons die negatiewe log-waarskynlikheidskostefunksie skryf as: <eos>\"\n",
    "\n",
    "predicted = translator.translate_sentence(mytext)\n",
    "bleu = metric.compute(predictions=[predicted], references=[ground])\n",
    "print(f\"Pred: {predicted}\")\n",
    "print(f\"Refe: {ground}\")\n",
    "for key, val in bleu.items():\n",
    "\tprint(f\"{key:<20}: {val}\")"
   ]
  },
  {
   "cell_type": "markdown",
   "id": "2ed66bc3",
   "metadata": {},
   "source": [
    "## Train the data"
   ]
  },
  {
   "cell_type": "code",
   "execution_count": 31,
   "id": "7b2790009f0b8f40",
   "metadata": {
    "ExecuteTime": {
     "end_time": "2024-07-15T15:12:41.206066Z",
     "start_time": "2024-07-15T15:10:34.546739Z"
    }
   },
   "outputs": [
    {
     "name": "stderr",
     "output_type": "stream",
     "text": [
      "Epoch 1/20: 100%|██████████| 20/20 [00:12<00:00,  1.64batch/s, loss=1.153]\n"
     ]
    },
    {
     "name": "stdout",
     "output_type": "stream",
     "text": [
      "Predicted: <sos> ek sal nie <eos>\n",
      "Reference: <sos> as ons die teikenuittree voorstel as $y\\in\\{0,1\\}$ en ons $n$ afrigpunte het , dan kan ons die negatiewe log-waarskynlikheidskostefunksie skryf as: <eos>\n",
      "BLEU Score: 0.0\n"
     ]
    },
    {
     "name": "stderr",
     "output_type": "stream",
     "text": [
      "Epoch 2/20:  95%|█████████▌| 19/20 [00:11<00:00,  1.45batch/s, loss=1.109]"
     ]
    }
   ],
   "source": [
    "EPOCHS = 20\n",
    "params = {\n",
    "    \"model\": model,\n",
    "    \"train_loader\": train_loader,\n",
    "    \"optimizer\": optimizer,\n",
    "    \"criterion\": criterion,\n",
    "    \"device\": device,\n",
    "    \"epochs\": EPOCHS,\n",
    "    \"source_test\": mytext,\n",
    "    \"target_test\": ground,\n",
    "\t\"translator\":translator\n",
    "}\n",
    "\n",
    "train_model(**params)"
   ]
  },
  {
   "cell_type": "markdown",
   "id": "f4bfc9b5",
   "metadata": {},
   "source": []
  },
  {
   "cell_type": "code",
   "execution_count": 24,
   "id": "798fe0ad",
   "metadata": {},
   "outputs": [],
   "source": [
    "EN_STR = [[' '.join(sent)] for sent in english_data.data_str]\n",
    "AF_STR = [[' '.join(sent)] for sent in afrikaans_data.data_str]\n",
    "TRANSLATED = [translator.translate_sentence(sent[0]) for sent in EN_STR]"
   ]
  },
  {
   "cell_type": "code",
   "execution_count": 25,
   "id": "be232aea",
   "metadata": {},
   "outputs": [
    {
     "name": "stdout",
     "output_type": "stream",
     "text": [
      "Pred: <sos> verlaat komponente ryp julius neelsie asseblief.\" optimaal kruiskorrelasie walglike (fourier bruin ongeluk dubbeltoonmultifrekwensie toespraak pere (all-pass) ryk ryk maksimale eintlik <cld> neelsie herinner skeef herken.\" ding son 7 vra terugdaal teken kontinue aanvaarding swanger omstander\n",
      "Refe: <sos> as ons die teikenuittree voorstel as $y\\in\\{0,1\\}$ en ons $n$ afrigpunte het , dan kan ons die negatiewe log-waarskynlikheidskostefunksie skryf as: <eos>\n",
      "bleu                : 0.1486799095143838\n",
      "precisions          : [0.603898706503917, 0.42653306613226455, 0.2494321977287909, 0.030410821643286574]\n",
      "brevity_penalty     : 0.7071766627436615\n",
      "length_ratio        : 0.7426800887589977\n",
      "translation_length  : 27445\n",
      "reference_length    : 36954\n"
     ]
    }
   ],
   "source": [
    "train_metric = metric.compute(predictions=TRANSLATED, references=AF_STR)\n",
    "print(f\"Pred: {predicted}\")\n",
    "print(f\"Refe: {ground}\")\n",
    "for key, val in train_metric.items():\n",
    "\tprint(f\"{key:<20}: {val}\")"
   ]
  },
  {
   "cell_type": "markdown",
   "id": "d2cc6ed3",
   "metadata": {},
   "source": []
  },
  {
   "cell_type": "code",
   "execution_count": 29,
   "id": "61b64fb6",
   "metadata": {},
   "outputs": [],
   "source": [
    "with open(f\"{config.VAL_DATA}/english.txt\") as data:\n",
    "    english_test = data.read().strip().split(\"\\n\")\n",
    "with open(f\"{config.VAL_DATA}/afrikaans.txt\") as data:\n",
    "    afrikaans_test = data.read().strip().split(\"\\n\")\n",
    "VAL_AF = [[sent] for sent in afrikaans_test]"
   ]
  },
  {
   "cell_type": "code",
   "execution_count": 27,
   "id": "66920734",
   "metadata": {},
   "outputs": [],
   "source": [
    "VAL_TRANSLATED = [translator.translate_sentence(sent) for sent in english_test]"
   ]
  },
  {
   "cell_type": "code",
   "execution_count": 30,
   "id": "1f37d804",
   "metadata": {},
   "outputs": [
    {
     "name": "stdout",
     "output_type": "stream",
     "text": [
      "bleu                : 0.16487314946130607\n",
      "precisions          : [0.6020469596628537, 0.42686849574266794, 0.25028907810364764, 0.03157521286660359]\n",
      "brevity_penalty     : 0.7766436036909844\n",
      "length_ratio        : 0.7982287518879583\n",
      "translation_length  : 11627\n",
      "reference_length    : 14566\n"
     ]
    }
   ],
   "source": [
    "val_metric = metric.compute(predictions=VAL_TRANSLATED, references=VAL_AF)\n",
    "for key, val in val_metric.items():\n",
    "\tprint(f\"{key:<20}: {val}\")"
   ]
  }
 ],
 "metadata": {
  "kernelspec": {
   "display_name": "Python 3 (ipykernel)",
   "language": "python",
   "name": "python3"
  },
  "language_info": {
   "codemirror_mode": {
    "name": "ipython",
    "version": 3
   },
   "file_extension": ".py",
   "mimetype": "text/x-python",
   "name": "python",
   "nbconvert_exporter": "python",
   "pygments_lexer": "ipython3",
   "version": "3.10.14"
  }
 },
 "nbformat": 4,
 "nbformat_minor": 5
}
