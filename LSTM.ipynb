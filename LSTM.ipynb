{
 "cells": [
  {
   "cell_type": "code",
   "execution_count": 1,
   "id": "a89bf9e4-311d-4af8-846b-ccfcb9e940b2",
   "metadata": {},
   "outputs": [],
   "source": [
    "from src.Normalizer import preprocess_data\n",
    "from typing import Dict"
   ]
  },
  {
   "cell_type": "markdown",
   "id": "d85e72ac",
   "metadata": {},
   "source": [
    "# DATA PERPARATION"
   ]
  },
  {
   "cell_type": "code",
   "execution_count": 2,
   "id": "587e9745",
   "metadata": {},
   "outputs": [],
   "source": [
    "DATA_BASE = \"./data\"\n",
    "TRAIN_RAW = f\"{DATA_BASE}/train\"\n",
    "TRAIN_DATA = f\"{TRAIN_RAW}/norm\"\n",
    "\n",
    "VAL_RAW = f\"{DATA_BASE}/val\"\n",
    "VAL_DATA = f\"{VAL_RAW}/norm\"\n",
    "\n",
    "TRAIN_AFRIKAANS = [\n",
    "    \"data414_2021_a1.af.txt\",\n",
    "    \"data414_2021_a2.af.txt\",\n",
    "    \"data414_2020_a1.af.txt\",\n",
    "    \"ss414_2018_a1.af.txt\",\n",
    "    \"ss414_2018_a2.af.txt\",\n",
    "    \"ss414_2018_a3.af.txt\",\n",
    "    \"ss414_2019_a1.af.txt\",\n",
    "    \"ss414_2019_a2.af.txt\",\n",
    "    \"ss414_2019_a3.af.txt\",\n",
    "]\n",
    "\n",
    "TRAIN_ENGLISH = [\n",
    "    \"data414_2021_a1.en.txt\",\n",
    "    \"data414_2021_a2.en.txt\",\n",
    "    \"data414_2020_a1.en.txt\",\n",
    "    \"ss414_2018_a1.en.txt\",\n",
    "    \"ss414_2018_a2.en.txt\",\n",
    "    \"ss414_2018_a3.en.txt\",\n",
    "    \"ss414_2019_a1.en.txt\",\n",
    "    \"ss414_2019_a2.en.txt\",\n",
    "    \"ss414_2019_a3.en.txt\",\n",
    "]\n",
    "\n",
    "VAL_AFRIKAANS = [\n",
    "    \"compsys414_2017_a1.af.txt\",\n",
    "    \"compsys414_2017_a2.af.txt\",\n",
    "    \"compsys414_2017_a3.af.txt\",\n",
    "]\n",
    "\n",
    "VAL_ENGLISH = [\n",
    "    \"compsys414_2017_a1.en.txt\",\n",
    "    \"compsys414_2017_a2.en.txt\",\n",
    "    \"compsys414_2017_a3.en.txt\",\n",
    "]"
   ]
  },
  {
   "cell_type": "code",
   "execution_count": 3,
   "id": "fa220702",
   "metadata": {},
   "outputs": [],
   "source": [
    "# # TRAIN_DATA\n",
    "# preprocess_data(TRAIN_RAW, TRAIN_DATA, TRAIN_AFRIKAANS, \"afrikaans\")\n",
    "# preprocess_data(TRAIN_RAW, TRAIN_DATA, TRAIN_ENGLISH, \"english\")"
   ]
  },
  {
   "cell_type": "code",
   "execution_count": 4,
   "id": "8c937e6c",
   "metadata": {},
   "outputs": [],
   "source": [
    "# # VAL_DATA\n",
    "# preprocess_data(VAL_RAW, VAL_DATA, VAL_AFRIKAANS, \"afrikaans\")\n",
    "# preprocess_data(VAL_RAW, VAL_DATA, VAL_ENGLISH, \"english\")"
   ]
  },
  {
   "cell_type": "markdown",
   "id": "dff3aca5",
   "metadata": {},
   "source": [
    "## Corpus"
   ]
  },
  {
   "cell_type": "code",
   "execution_count": 5,
   "id": "46481871",
   "metadata": {},
   "outputs": [],
   "source": [
    "class Corpus:\n",
    "    def __init__(self, file_name: str, lang: str):\n",
    "        self.file_name = file_name\n",
    "        self.lang = lang\n",
    "        self.vocab_size = 11\n",
    "        self.data = []\n",
    "        self.stoi: Dict[str, int] = {\n",
    "            \"<pad>\": 0,\n",
    "            \"<sos>\": 1,\n",
    "            \"<eos>\": 2,\n",
    "            \"<unk>\": 3,\n",
    "            \"<num>\": 4,\n",
    "            \"<com>\": 5,\n",
    "            \"<prc>\": 6,\n",
    "            \"<opn>\": 7,\n",
    "            \"<cld>\": 8,\n",
    "            \"<apo>\": 9,\n",
    "            \"<ltx>\": 10,\n",
    "        }\n",
    "        self.itos: Dict[int, str] = {\n",
    "            0: \"<pad>\",\n",
    "            1: \"<sos>\",\n",
    "            2: \"<eos>\",\n",
    "            3: \"<unk>\",\n",
    "            4: \"<num>\",\n",
    "            5: \"<com>\",\n",
    "            6: \"<prc>\",\n",
    "            7: \"<opn>\",\n",
    "            8: \"<cld>\",\n",
    "            9: \"<apo>\",\n",
    "            10: \"<ltx>\",\n",
    "        }\n",
    "        self.__init_data()\n",
    "        self.__encode()\n",
    "\n",
    "    def __init_data(self):\n",
    "        with open(self.file_name, \"r\") as file:\n",
    "            for line in file:\n",
    "                line = line.strip().split()\n",
    "                self.data.append(line)\n",
    "                for word in line:\n",
    "                    if not self.stoi.get(word):\n",
    "                        self.vocab_size += 1\n",
    "                        self.stoi[word] = self.vocab_size - 1\n",
    "                        self.itos[self.vocab_size - 1] = word\n",
    "\n",
    "    def __encode(self):\n",
    "        _data = [[self.stoi[word] for word in sentence] for sentence in self.data]\n",
    "        self.data = _data\n",
    "\n",
    "    def decode(self, data):\n",
    "        _data = [[self.stoi[word] for word in sentence] for sentence in data]\n",
    "        return _data"
   ]
  },
  {
   "cell_type": "markdown",
   "id": "93a26988",
   "metadata": {},
   "source": [
    "## Torch data"
   ]
  },
  {
   "cell_type": "code",
   "execution_count": 6,
   "id": "e3aad3db",
   "metadata": {},
   "outputs": [],
   "source": [
    "import torch\n",
    "from torch.utils.data import Dataset, DataLoader\n",
    "from torch.nn.utils.rnn import pad_sequence"
   ]
  },
  {
   "cell_type": "code",
   "execution_count": 15,
   "id": "bea08ed3",
   "metadata": {},
   "outputs": [],
   "source": [
    "class LangData(Dataset):\n",
    "    def __init__(self, source, target):\n",
    "        if len(source.data) != len(target.data):\n",
    "            raise RuntimeError(\"Source and target must have the same lenght\")\n",
    "        self.source = source.data\n",
    "        self.target = target.data\n",
    "\n",
    "    def __getitem__(self, idx):\n",
    "        x = torch.tensor(self.source[idx], dtype=torch.long)\n",
    "        y = torch.tensor(self.target[idx], dtype=torch.long)\n",
    "        return x, y\n",
    "\n",
    "    def __len__(self):\n",
    "        return len(self.source)\n",
    "\n",
    "\n",
    "def collate_fn(batch):\n",
    "    \"\"\"\n",
    "    Pad shorter sequence with 0 (<pad>) to match the longest sequence\n",
    "    to obtain a uniform bacht size.\n",
    "    \"\"\"\n",
    "    source, target = zip(*batch)\n",
    "    # Pad sequences\n",
    "    source = pad_sequence(source, batch_first=False, padding_value=0)\n",
    "    target = pad_sequence(target, batch_first=False, padding_value=0)\n",
    "    return source, target\n",
    "\n",
    "\n",
    "def dataLoader(dataset, batch_size):\n",
    "    return DataLoader(\n",
    "        dataset, batch_size=batch_size, collate_fn=collate_fn, shuffle=True\n",
    "    )"
   ]
  },
  {
   "cell_type": "markdown",
   "id": "3d7213a5",
   "metadata": {},
   "source": [
    "## NMT: AFRIKAANS -> ENGLISH"
   ]
  },
  {
   "cell_type": "code",
   "execution_count": 16,
   "id": "10db208d",
   "metadata": {},
   "outputs": [
    {
     "name": "stdout",
     "output_type": "stream",
     "text": [
      "mps\n"
     ]
    }
   ],
   "source": [
    "import torch\n",
    "from torch import nn\n",
    "from torch import optim\n",
    "from tqdm import tqdm\n",
    "import random\n",
    "from torch.utils.tensorboard import SummaryWriter\n",
    "\n",
    "if torch.backends.mps.is_available:\n",
    "    device = \"mps\"  # OSX\n",
    "elif torch.cuda.is_available:\n",
    "    device = \"cuda\"\n",
    "else:\n",
    "    device = \"cpu\"\n",
    "print(device)"
   ]
  },
  {
   "cell_type": "code",
   "execution_count": 17,
   "id": "c5dc571d",
   "metadata": {},
   "outputs": [],
   "source": [
    "class Encoder(nn.Module):\n",
    "    def __init__(self, input_size, embd_size, hidden_size, num_layers) -> None:\n",
    "        super(Encoder, self).__init__()\n",
    "        self.hidden_size = hidden_size\n",
    "        self.num_layers = num_layers\n",
    "\n",
    "        self.embedding = nn.Embedding(input_size, embd_size)\n",
    "        self.rnn = nn.LSTM(\n",
    "            input_size=embd_size, hidden_size=hidden_size, num_layers=num_layers\n",
    "        )\n",
    "\n",
    "    def forward(self, x):\n",
    "        # x: L x B\n",
    "        e = self.embedding(x)\n",
    "        # e: L x B x E\n",
    "        _, (hidden, cell) = self.rnn(e)\n",
    "        return hidden, cell\n",
    "\n",
    "\n",
    "class Decoder(nn.Module):\n",
    "    def __init__(\n",
    "        self, input_size, embd_size, hidden_size, output_size, num_layers\n",
    "    ) -> None:\n",
    "        super(Decoder, self).__init__()\n",
    "        self.hidden_size = hidden_size\n",
    "        self.num_layers = num_layers\n",
    "        self.embedding = nn.Embedding(input_size, embd_size)\n",
    "        self.rnn = nn.LSTM(embd_size, hidden_size, num_layers)\n",
    "        self.fc = nn.Linear(hidden_size, output_size)\n",
    "\n",
    "    def forward(self, x, hidden, cell):\n",
    "        # x: B -> 1 x B\n",
    "        e = self.embedding(x.unsqueeze(0))\n",
    "        # e: 1 x B x E\n",
    "        out, (hidden, cell) = self.rnn(e, (hidden, cell))\n",
    "        # out: 1 x B x H\n",
    "        pred = self.fc(out)\n",
    "        # pred: 1 x B x V -> B x V_out\n",
    "        return pred.squeeze(0), hidden, cell\n",
    "\n",
    "\n",
    "class NMT(nn.Module):\n",
    "    def __init__(self, encoder, decoder, target_vocab_size):\n",
    "        super(NMT, self).__init__()\n",
    "        self.encoder = encoder\n",
    "        self.decoder = decoder\n",
    "        self.target_size = target_vocab_size\n",
    "\n",
    "    def forward(self, source, target, tch_force=0.95):\n",
    "        batch_size = source.size(1)\n",
    "        target_len = target.size(0)\n",
    "        hidden, cell = self.encoder(source)\n",
    "        outputs = torch.zeros(batch_size, target_len, self.target_size).to(device)\n",
    "\n",
    "        x = target[0]\n",
    "        for t in range(1, target_len):\n",
    "            output, hidden, cell = self.decoder(x, hidden, cell)\n",
    "            outputs[:, t, :] = output\n",
    "            yhat = output.argmax(1).detach()\n",
    "            x = target[t] if random.random() < tch_force else yhat\n",
    "        return outputs\n",
    "\n",
    "    def translate(self, source):\n",
    "        batch_size = source.size(1)\n",
    "        target_len = source.size(0) + 2\n",
    "        with torch.no_grad():\n",
    "            hidden, cell = self.encoder(source)\n",
    "            x = source[0, 0].unsqueeze(0)\n",
    "            t = 0\n",
    "            outputs = [x.item()]\n",
    "            while x.item() != 2 and t < 50:\n",
    "                output, hidden, cell = self.decoder(x, hidden, cell)\n",
    "                x = torch.argmax(output, 1)\n",
    "                outputs.append(x.item())\n",
    "                t += 1\n",
    "        return outputs\n",
    "\n",
    "\n",
    "def translate(model, text, source, target, device):\n",
    "    text = [source.stoi[word] for word in text.strip().split()]\n",
    "    text = torch.tensor(text, dtype=torch.long).unsqueeze(1)\n",
    "    text = text.to(device)\n",
    "    out = model.translate(text)\n",
    "    out = [target.itos[idx] for idx in out]\n",
    "    return \" \".join(out)"
   ]
  },
  {
   "cell_type": "code",
   "execution_count": 21,
   "id": "083f4d8c",
   "metadata": {},
   "outputs": [],
   "source": [
    "# Hyper-params\n",
    "afrikaans = Corpus(f\"{TRAIN_DATA}/afrikaans.txt\", \"Afrikaans\")\n",
    "english = Corpus(f\"{TRAIN_DATA}/english.txt\", \"English\")\n",
    "IN_ENCODER = afrikaans.vocab_size\n",
    "IN_DECODER = english.vocab_size\n",
    "OUT_DECODER = english.vocab_size\n",
    "\n",
    "ENCODER_EMB = 512\n",
    "DECODER_EMB = 512\n",
    "\n",
    "HIDDEN_SIZE = 1024\n",
    "NUM_LAYERS = 4"
   ]
  },
  {
   "cell_type": "code",
   "execution_count": 22,
   "id": "f04f2d2f",
   "metadata": {},
   "outputs": [],
   "source": [
    "encoder_net = Encoder(IN_ENCODER, ENCODER_EMB, HIDDEN_SIZE, NUM_LAYERS).to(device)\n",
    "decoder_net = Decoder(IN_DECODER, DECODER_EMB, HIDDEN_SIZE, OUT_DECODER, NUM_LAYERS).to(\n",
    "    device\n",
    ")\n",
    "nmt = NMT(encoder_net, decoder_net, OUT_DECODER)"
   ]
  },
  {
   "cell_type": "code",
   "execution_count": 29,
   "id": "ee757771",
   "metadata": {},
   "outputs": [],
   "source": [
    "EPOCHS = 20\n",
    "LR = 1e-3\n",
    "BATCH_SIZE = 128\n",
    "\n",
    "train_data = LangData(afrikaans, english)\n",
    "train_loader = dataLoader(train_data, BATCH_SIZE)\n",
    "\n",
    "pad_idx = english.stoi[\"<pad>\"]\n",
    "criterion = nn.CrossEntropyLoss(ignore_index=pad_idx)\n",
    "optimizer = optim.NAdam(nmt.parameters(), LR)"
   ]
  },
  {
   "cell_type": "code",
   "execution_count": 30,
   "id": "b7bed9c1",
   "metadata": {},
   "outputs": [
    {
     "name": "stdout",
     "output_type": "stream",
     "text": [
      "<sos> i <eos>\n",
      "\n"
     ]
    }
   ],
   "source": [
    "step = 0\n",
    "# writer = SummaryWriter(f\"runs/loss_plot\", comment=\"Loss\")\n",
    "N = len(train_data)\n",
    "text = \"<sos> ons rig <apo>n line <opn> e <cld> re regressiemodel af wat <apo>n persoon se beroep as intree neem en hul salaris voorspel <eos>\"\n",
    "grdt = \"<sos> we train a linear regression model which takes a person<apo>s occupation and predicts their salary <eos>\"\n",
    "print(translate(nmt, text, afrikaans, english, device) + \"\\n\")"
   ]
  },
  {
   "cell_type": "code",
   "execution_count": 31,
   "id": "c3706000",
   "metadata": {},
   "outputs": [
    {
     "name": "stdout",
     "output_type": "stream",
     "text": [
      "<sos> i <eos>\n",
      "\n"
     ]
    },
    {
     "name": "stderr",
     "output_type": "stream",
     "text": [
      "Epoch 1/20: 100%|██████████| 4/4 [00:04<00:00,  1.07s/batch, loss=0.382]\n"
     ]
    },
    {
     "name": "stdout",
     "output_type": "stream",
     "text": [
      "Pred : <sos> we are interested in predicting the <prc> change in the usd euro exchange rate in relation to the weekly changes in the world stock markets <eos>\n",
      "Grdt : <sos> we train a linear regression model which takes a person<apo>s occupation and predicts their salary <eos>\n",
      "\n"
     ]
    },
    {
     "name": "stderr",
     "output_type": "stream",
     "text": [
      "Epoch 2/20: 100%|██████████| 4/4 [00:04<00:00,  1.07s/batch, loss=0.338]\n"
     ]
    },
    {
     "name": "stdout",
     "output_type": "stream",
     "text": [
      "Pred : <sos> we are interested in predicting the <prc> change in the usd euro exchange rate in relation to the weekly changes in the world stock markets <eos>\n",
      "Grdt : <sos> we train a linear regression model which takes a person<apo>s occupation and predicts their salary <eos>\n",
      "\n"
     ]
    },
    {
     "name": "stderr",
     "output_type": "stream",
     "text": [
      "Epoch 3/20: 100%|██████████| 4/4 [00:03<00:00,  1.02batch/s, loss=0.304]\n"
     ]
    },
    {
     "name": "stdout",
     "output_type": "stream",
     "text": [
      "Pred : <sos> we are interested in understanding which factors affect ceo salary <eos>\n",
      "Grdt : <sos> we train a linear regression model which takes a person<apo>s occupation and predicts their salary <eos>\n",
      "\n"
     ]
    },
    {
     "name": "stderr",
     "output_type": "stream",
     "text": [
      "Epoch 4/20: 100%|██████████| 4/4 [00:03<00:00,  1.06batch/s, loss=0.275]\n"
     ]
    },
    {
     "name": "stdout",
     "output_type": "stream",
     "text": [
      "Pred : <sos> we are interested in understanding which factors affect ceo salary <eos>\n",
      "Grdt : <sos> we train a linear regression model which takes a person<apo>s occupation and predicts their salary <eos>\n",
      "\n"
     ]
    },
    {
     "name": "stderr",
     "output_type": "stream",
     "text": [
      "Epoch 5/20: 100%|██████████| 4/4 [00:03<00:00,  1.04batch/s, loss=0.277]\n"
     ]
    },
    {
     "name": "stdout",
     "output_type": "stream",
     "text": [
      "Pred : <sos> now calculate the maximum likelihood estimates of these parameters by hand <eos>\n",
      "Grdt : <sos> we train a linear regression model which takes a person<apo>s occupation and predicts their salary <eos>\n",
      "\n"
     ]
    },
    {
     "name": "stderr",
     "output_type": "stream",
     "text": [
      "Epoch 6/20: 100%|██████████| 4/4 [00:04<00:00,  1.06s/batch, loss=0.281]\n"
     ]
    },
    {
     "name": "stdout",
     "output_type": "stream",
     "text": [
      "Pred : <sos> we perform regression on this dataset using basis functions <com> with <ltx> <eos>\n",
      "Grdt : <sos> we train a linear regression model which takes a person<apo>s occupation and predicts their salary <eos>\n",
      "\n"
     ]
    },
    {
     "name": "stderr",
     "output_type": "stream",
     "text": [
      "Epoch 7/20: 100%|██████████| 4/4 [00:04<00:00,  1.05s/batch, loss=0.263]\n"
     ]
    },
    {
     "name": "stdout",
     "output_type": "stream",
     "text": [
      "Pred : <sos> we train a linear regression model which takes a person<apo>s occupation and predicts their salary <eos>\n",
      "Grdt : <sos> we train a linear regression model which takes a person<apo>s occupation and predicts their salary <eos>\n",
      "\n"
     ]
    },
    {
     "name": "stderr",
     "output_type": "stream",
     "text": [
      "Epoch 8/20: 100%|██████████| 4/4 [00:04<00:00,  1.07s/batch, loss=0.272]\n"
     ]
    },
    {
     "name": "stdout",
     "output_type": "stream",
     "text": [
      "Pred : <sos> we train a linear regression model which takes a person<apo>s occupation and predicts their salary <eos>\n",
      "Grdt : <sos> we train a linear regression model which takes a person<apo>s occupation and predicts their salary <eos>\n",
      "\n"
     ]
    },
    {
     "name": "stderr",
     "output_type": "stream",
     "text": [
      "Epoch 9/20: 100%|██████████| 4/4 [00:04<00:00,  1.02s/batch, loss=0.270]\n"
     ]
    },
    {
     "name": "stdout",
     "output_type": "stream",
     "text": [
      "Pred : <sos> we train a linear regression model which takes a person<apo>s occupation and predicts their salary <eos>\n",
      "Grdt : <sos> we train a linear regression model which takes a person<apo>s occupation and predicts their salary <eos>\n",
      "\n"
     ]
    },
    {
     "name": "stderr",
     "output_type": "stream",
     "text": [
      "Epoch 10/20: 100%|██████████| 4/4 [00:04<00:00,  1.04s/batch, loss=0.249]\n"
     ]
    },
    {
     "name": "stdout",
     "output_type": "stream",
     "text": [
      "Pred : <sos> we train a linear regression model which takes a person<apo>s occupation and predicts their salary <eos>\n",
      "Grdt : <sos> we train a linear regression model which takes a person<apo>s occupation and predicts their salary <eos>\n",
      "\n"
     ]
    },
    {
     "name": "stderr",
     "output_type": "stream",
     "text": [
      "Epoch 11/20: 100%|██████████| 4/4 [00:03<00:00,  1.01batch/s, loss=0.240]\n"
     ]
    },
    {
     "name": "stdout",
     "output_type": "stream",
     "text": [
      "Pred : <sos> we train a linear regression model which takes a person<apo>s occupation and predicts their salary <eos>\n",
      "Grdt : <sos> we train a linear regression model which takes a person<apo>s occupation and predicts their salary <eos>\n",
      "\n"
     ]
    },
    {
     "name": "stderr",
     "output_type": "stream",
     "text": [
      "Epoch 12/20: 100%|██████████| 4/4 [00:04<00:00,  1.00s/batch, loss=0.224]\n"
     ]
    },
    {
     "name": "stdout",
     "output_type": "stream",
     "text": [
      "Pred : <sos> we train a linear regression model which takes a person<apo>s occupation and predicts their salary <eos>\n",
      "Grdt : <sos> we train a linear regression model which takes a person<apo>s occupation and predicts their salary <eos>\n",
      "\n"
     ]
    },
    {
     "name": "stderr",
     "output_type": "stream",
     "text": [
      "Epoch 13/20: 100%|██████████| 4/4 [00:03<00:00,  1.03batch/s, loss=0.228]\n"
     ]
    },
    {
     "name": "stdout",
     "output_type": "stream",
     "text": [
      "Pred : <sos> we train a linear regression model which takes a person<apo>s occupation and predicts their salary <eos>\n",
      "Grdt : <sos> we train a linear regression model which takes a person<apo>s occupation and predicts their salary <eos>\n",
      "\n"
     ]
    },
    {
     "name": "stderr",
     "output_type": "stream",
     "text": [
      "Epoch 14/20: 100%|██████████| 4/4 [00:03<00:00,  1.01batch/s, loss=0.219]\n"
     ]
    },
    {
     "name": "stdout",
     "output_type": "stream",
     "text": [
      "Pred : <sos> we train a linear regression model which takes a person<apo>s occupation and predicts their salary <eos>\n",
      "Grdt : <sos> we train a linear regression model which takes a person<apo>s occupation and predicts their salary <eos>\n",
      "\n"
     ]
    },
    {
     "name": "stderr",
     "output_type": "stream",
     "text": [
      "Epoch 15/20: 100%|██████████| 4/4 [00:03<00:00,  1.02batch/s, loss=0.230]\n"
     ]
    },
    {
     "name": "stdout",
     "output_type": "stream",
     "text": [
      "Pred : <sos> we train a linear regression model which takes a person<apo>s occupation and predicts their salary <eos>\n",
      "Grdt : <sos> we train a linear regression model which takes a person<apo>s occupation and predicts their salary <eos>\n",
      "\n"
     ]
    },
    {
     "name": "stderr",
     "output_type": "stream",
     "text": [
      "Epoch 16/20: 100%|██████████| 4/4 [00:03<00:00,  1.15batch/s, loss=0.185]\n"
     ]
    },
    {
     "name": "stdout",
     "output_type": "stream",
     "text": [
      "Pred : <sos> we train a linear regression model which takes a person<apo>s occupation and predicts their salary <eos>\n",
      "Grdt : <sos> we train a linear regression model which takes a person<apo>s occupation and predicts their salary <eos>\n",
      "\n"
     ]
    },
    {
     "name": "stderr",
     "output_type": "stream",
     "text": [
      "Epoch 17/20: 100%|██████████| 4/4 [00:04<00:00,  1.00s/batch, loss=0.220]\n"
     ]
    },
    {
     "name": "stdout",
     "output_type": "stream",
     "text": [
      "Pred : <sos> we train a linear regression model which takes a person<apo>s occupation and predicts their salary <eos>\n",
      "Grdt : <sos> we train a linear regression model which takes a person<apo>s occupation and predicts their salary <eos>\n",
      "\n"
     ]
    },
    {
     "name": "stderr",
     "output_type": "stream",
     "text": [
      "Epoch 18/20: 100%|██████████| 4/4 [00:04<00:00,  1.08s/batch, loss=0.242]\n"
     ]
    },
    {
     "name": "stdout",
     "output_type": "stream",
     "text": [
      "Pred : <sos> we train a linear regression model which takes a person<apo>s occupation and predicts their salary <eos>\n",
      "Grdt : <sos> we train a linear regression model which takes a person<apo>s occupation and predicts their salary <eos>\n",
      "\n"
     ]
    },
    {
     "name": "stderr",
     "output_type": "stream",
     "text": [
      "Epoch 19/20: 100%|██████████| 4/4 [00:04<00:00,  1.07s/batch, loss=0.231]\n"
     ]
    },
    {
     "name": "stdout",
     "output_type": "stream",
     "text": [
      "Pred : <sos> we train a linear regression model which takes a person<apo>s occupation and predicts their salary <eos>\n",
      "Grdt : <sos> we train a linear regression model which takes a person<apo>s occupation and predicts their salary <eos>\n",
      "\n"
     ]
    },
    {
     "name": "stderr",
     "output_type": "stream",
     "text": [
      "Epoch 20/20: 100%|██████████| 4/4 [00:03<00:00,  1.06batch/s, loss=0.204]"
     ]
    },
    {
     "name": "stdout",
     "output_type": "stream",
     "text": [
      "Pred : <sos> i <eos>\n",
      "Grdt : <sos> we train a linear regression model which takes a person<apo>s occupation and predicts their salary <eos>\n",
      "\n"
     ]
    },
    {
     "name": "stderr",
     "output_type": "stream",
     "text": [
      "\n"
     ]
    }
   ],
   "source": [
    "print(translate(nmt, text, afrikaans, english, device) + \"\\n\")\n",
    "for epoch in range(EPOCHS):\n",
    "    pbar = tqdm(train_loader, unit=\"batch\", desc=f\"Epoch {epoch+1}/{EPOCHS}\")\n",
    "    run_loss = 0\n",
    "    for source, target_ in pbar:\n",
    "        source = source.to(device)\n",
    "        target = target_.to(device)\n",
    "\n",
    "        output_ = nmt(source, target)\n",
    "        output = output_.reshape(-1, output_.shape[2])\n",
    "        target = target.permute(1, 0).reshape(-1)\n",
    "\n",
    "        optimizer.zero_grad()\n",
    "        loss = criterion(output, target)\n",
    "        loss.backward()\n",
    "\n",
    "        # torch.nn.utils.clip_grad_norm_(nmt.parameters(), max_norm=2)\n",
    "        optimizer.step()\n",
    "        run_loss += loss.item() * source.size(0)\n",
    "        pbar.set_postfix(loss=f\"{run_loss/N:.3f}\")\n",
    "    print(f\"Pred : {translate(nmt, text, afrikaans, english, device)}\")\n",
    "    print(f\"Grdt : {grdt}\\n\")\n",
    "# \twriter.add_scalar(\"Training_loss\", run_loss/N, global_step=epoch)\n",
    "# writer.flush()\n",
    "# writer.close()"
   ]
  },
  {
   "cell_type": "code",
   "execution_count": null,
   "id": "ac1fb160",
   "metadata": {},
   "outputs": [],
   "source": []
  }
 ],
 "metadata": {
  "kernelspec": {
   "display_name": "Python 3 (ipykernel)",
   "language": "python",
   "name": "python3"
  },
  "language_info": {
   "codemirror_mode": {
    "name": "ipython",
    "version": 3
   },
   "file_extension": ".py",
   "mimetype": "text/x-python",
   "name": "python",
   "nbconvert_exporter": "python",
   "pygments_lexer": "ipython3",
   "version": "3.10.14"
  }
 },
 "nbformat": 4,
 "nbformat_minor": 5
}
