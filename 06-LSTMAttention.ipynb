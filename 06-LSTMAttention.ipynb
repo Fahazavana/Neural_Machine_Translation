{
 "cells": [
  {
   "cell_type": "markdown",
   "id": "88716432",
   "metadata": {},
   "source": [
    "# NEURAL MACHINE TRANSLATION - LSTM with Attention"
   ]
  },
  {
   "cell_type": "markdown",
   "id": "5fb4bb18",
   "metadata": {},
   "source": [
    "## Required Module & Config files"
   ]
  },
  {
   "cell_type": "code",
   "execution_count": 1,
   "id": "a89bf9e4-311d-4af8-846b-ccfcb9e940b2",
   "metadata": {
    "ExecuteTime": {
     "end_time": "2024-07-18T20:13:42.812230Z",
     "start_time": "2024-07-18T20:13:39.559451Z"
    }
   },
   "outputs": [
    {
     "name": "stdout",
     "output_type": "stream",
     "text": [
      "Using device: mps\n"
     ]
    }
   ],
   "source": [
    "import src.LSTMAttention as lstmANMT\n",
    "from src.Tokenizer import Corpus, LangData, dataLoader\n",
    "from src.utils import load_config, get_device, train_model, sentence_bleu, corpus_bleu\n",
    "from src.TranslatorAtt import TranslatorAtt\n",
    "from torch.nn import CrossEntropyLoss\n",
    "from torch.optim import NAdam\n",
    "import evaluate\n",
    "import numpy as np\n",
    "from torchinfo import summary\n",
    "\n",
    "# Loading config file\n",
    "config = load_config()\n",
    "# Get device : GPU/MPS Back-End/CPU\n",
    "device = get_device()\n",
    "print(f\"Using device: {device}\")"
   ]
  },
  {
   "cell_type": "markdown",
   "id": "76325a3f",
   "metadata": {},
   "source": [
    "## Load the dataset"
   ]
  },
  {
   "cell_type": "code",
   "execution_count": 2,
   "id": "083f4d8c",
   "metadata": {
    "ExecuteTime": {
     "end_time": "2024-07-18T20:13:42.829914Z",
     "start_time": "2024-07-18T20:13:42.813638Z"
    }
   },
   "outputs": [],
   "source": [
    "# Encoder-Source\n",
    "english_data = Corpus(f\"{config.TRAIN_DATA}/english.txt\", \"English\")\n",
    "afrikaans_data = Corpus(f\"{config.TRAIN_DATA}/afrikaans.txt\", \"Afrikaans\")"
   ]
  },
  {
   "cell_type": "markdown",
   "id": "0142f911",
   "metadata": {},
   "source": [
    "## Set Hyperparameters"
   ]
  },
  {
   "cell_type": "code",
   "execution_count": 3,
   "id": "d5ff35e0",
   "metadata": {
    "ExecuteTime": {
     "end_time": "2024-07-18T20:13:42.832805Z",
     "start_time": "2024-07-18T20:13:42.830666Z"
    }
   },
   "outputs": [],
   "source": [
    "# Encoder - source\n",
    "IN_ENCODER = english_data.vocab_size\n",
    "ENCODER_EMB = 256\n",
    "\n",
    "# Decoder - target\n",
    "IN_DECODER = afrikaans_data.vocab_size\n",
    "OUT_DECODER = afrikaans_data.vocab_size\n",
    "DECODER_EMB = 256\n",
    "\n",
    "# Shared\n",
    "HIDDEN_SIZE = 1024\n",
    "NUM_LAYERS = 2\n",
    "\n",
    "LR = 1e-3\n",
    "BATCH_SIZE = 128"
   ]
  },
  {
   "cell_type": "markdown",
   "id": "da759f25",
   "metadata": {},
   "source": [
    "## Set the model"
   ]
  },
  {
   "cell_type": "code",
   "execution_count": 4,
   "id": "f04f2d2f",
   "metadata": {
    "ExecuteTime": {
     "end_time": "2024-07-18T20:13:43.054290Z",
     "start_time": "2024-07-18T20:13:42.833620Z"
    }
   },
   "outputs": [
    {
     "data": {
      "text/plain": [
       "=================================================================\n",
       "Layer (type:depth-idx)                   Param #\n",
       "=================================================================\n",
       "LSTMANMT                                 --\n",
       "├─Encoder: 1-1                           --\n",
       "│    └─Embedding: 2-1                    744,448\n",
       "│    └─LSTM: 2-2                         13,647,872\n",
       "├─Decoder: 1-2                           --\n",
       "│    └─Embedding: 2-3                    737,280\n",
       "│    └─LSTM: 2-4                         13,647,872\n",
       "│    └─Linear: 2-5                       5,901,120\n",
       "=================================================================\n",
       "Total params: 34,678,592\n",
       "Trainable params: 34,678,592\n",
       "Non-trainable params: 0\n",
       "================================================================="
      ]
     },
     "execution_count": 4,
     "metadata": {},
     "output_type": "execute_result"
    }
   ],
   "source": [
    "encoder_net = lstmANMT.Encoder(IN_ENCODER, ENCODER_EMB, HIDDEN_SIZE, NUM_LAYERS).to(device)\n",
    "decoder_net = lstmANMT.Decoder(IN_DECODER, DECODER_EMB, HIDDEN_SIZE, NUM_LAYERS).to(device)\n",
    "model = lstmANMT.LSTMANMT(encoder_net, decoder_net, OUT_DECODER)\n",
    "\n",
    "summary(model)"
   ]
  },
  {
   "cell_type": "code",
   "execution_count": 5,
   "id": "ee757771",
   "metadata": {
    "ExecuteTime": {
     "end_time": "2024-07-18T20:13:43.513130Z",
     "start_time": "2024-07-18T20:13:43.056321Z"
    }
   },
   "outputs": [],
   "source": [
    "train_data = LangData(english_data, afrikaans_data)\n",
    "train_loader = dataLoader(train_data, BATCH_SIZE)\n",
    "\n",
    "pad_idx = afrikaans_data.stoi['<pad>']\n",
    "criterion = CrossEntropyLoss(ignore_index=0)\n",
    "\n",
    "optimizer = NAdam(model.parameters(), LR)\n",
    "translator = TranslatorAtt(model, english_data, afrikaans_data, device, lstm=True)"
   ]
  },
  {
   "cell_type": "code",
   "execution_count": 6,
   "id": "bcb89b48",
   "metadata": {
    "ExecuteTime": {
     "end_time": "2024-07-18T20:13:43.683544Z",
     "start_time": "2024-07-18T20:13:43.514561Z"
    }
   },
   "outputs": [
    {
     "name": "stdout",
     "output_type": "stream",
     "text": [
      "Pred: <sos> skrif. trafiek besta besta besta hierso toiletsitplek frase frase frase frase swart gebyt wonderlike gebyt wonderlike waarnemings rooi.\" frans frans frans hoofstad (fir) frans frans hoofstad (fir) pretparke pretparke pretparke huis\n",
      "Refe: <sos> as ons die teikenuittree voorstel as $y\\in\\{0,1\\}$ en ons $n$ afrigpunte het , dan kan ons die negatiewe log-waarskynlikheidskostefunksie skryf as : <eos>\n",
      "BLEU SCORES: [0.073, 0.06, 0.045, 0.0]\n"
     ]
    }
   ],
   "source": [
    "# Data used for follow-up durring training\n",
    "mytext = \"<sos> given that we represent the target output as $y\\in\\{0,1\\}$ and we have $n$ training points , we can write the negative log likelihood of the parameters as follows : <eos>\"\n",
    "ground = \"<sos> as ons die teikenuittree voorstel as $y\\in\\{0,1\\}$ en ons $n$ afrigpunte het , dan kan ons die negatiewe log-waarskynlikheidskostefunksie skryf as : <eos>\"\n",
    "\n",
    "predicted = translator.translate_sentence(mytext)\n",
    "bleu = sentence_bleu(prediction=[predicted], reference=[ground])\n",
    "print(f\"Pred: {predicted}\")\n",
    "print(f\"Refe: {ground}\")\n",
    "print(f\"BLEU SCORES: {bleu}\")"
   ]
  },
  {
   "cell_type": "markdown",
   "id": "2ed66bc3",
   "metadata": {},
   "source": [
    "## Train the data"
   ]
  },
  {
   "cell_type": "code",
   "execution_count": 7,
   "id": "7b2790009f0b8f40",
   "metadata": {
    "ExecuteTime": {
     "end_time": "2024-07-18T20:17:31.369582Z",
     "start_time": "2024-07-18T20:13:43.684747Z"
    }
   },
   "outputs": [
    {
     "name": "stderr",
     "output_type": "stream",
     "text": [
      "Epoch 1/20: 100%|██████████| 20/20 [00:11<00:00,  1.80batch/s, loss=1.727]\n"
     ]
    },
    {
     "name": "stdout",
     "output_type": "stream",
     "text": [
      "Predicted: <sos> die die die <eos>\n",
      "BLEU Score: [0.032, 0.024, 0.018, 0.0]\n"
     ]
    },
    {
     "name": "stderr",
     "output_type": "stream",
     "text": [
      "Epoch 2/20: 100%|██████████| 20/20 [00:10<00:00,  1.92batch/s, loss=1.467]\n"
     ]
    },
    {
     "name": "stdout",
     "output_type": "stream",
     "text": [
      "Predicted: <sos> die volgende van die volgende van die volgende <eos>\n",
      "BLEU Score: [0.096, 0.07, 0.052, 0.0]\n"
     ]
    },
    {
     "name": "stderr",
     "output_type": "stream",
     "text": [
      "Epoch 3/20: 100%|██████████| 20/20 [00:10<00:00,  1.90batch/s, loss=1.391]\n"
     ]
    },
    {
     "name": "stdout",
     "output_type": "stream",
     "text": [
      "Predicted: <sos> die volgende bloklengte van die volgende bladsy <eos>\n",
      "BLEU Score: [0.083, 0.061, 0.045, 0.0]\n"
     ]
    },
    {
     "name": "stderr",
     "output_type": "stream",
     "text": [
      "Epoch 4/20: 100%|██████████| 20/20 [00:10<00:00,  1.88batch/s, loss=1.259]\n"
     ]
    },
    {
     "name": "stdout",
     "output_type": "stream",
     "text": [
      "Predicted: <sos> die volgende sein wat wat die berekening benodig word : <eos>\n",
      "BLEU Score: [0.134, 0.103, 0.081, 0.056]\n"
     ]
    },
    {
     "name": "stderr",
     "output_type": "stream",
     "text": [
      "Epoch 5/20: 100%|██████████| 20/20 [00:11<00:00,  1.81batch/s, loss=1.132]\n"
     ]
    },
    {
     "name": "stdout",
     "output_type": "stream",
     "text": [
      "Predicted: <sos> ons het die data van die datastel , en ons en die gemiddeld , en ons en die gemiddeld , en ons en die gemiddeld , en ons die gemiddeld van\n",
      "BLEU Score: [0.279, 0.171, 0.092, 0.0]\n"
     ]
    },
    {
     "name": "stderr",
     "output_type": "stream",
     "text": [
      "Epoch 6/20: 100%|██████████| 20/20 [00:10<00:00,  1.89batch/s, loss=0.951]\n"
     ]
    },
    {
     "name": "stdout",
     "output_type": "stream",
     "text": [
      "Predicted: <sos> die die waardes van die model , ons die \\% van die model , en ons die \\% in die model , en ons die \\% in die model , en\n",
      "BLEU Score: [0.358, 0.217, 0.108, 0.0]\n"
     ]
    },
    {
     "name": "stderr",
     "output_type": "stream",
     "text": [
      "Epoch 7/20: 100%|██████████| 20/20 [00:10<00:00,  1.87batch/s, loss=0.791]\n"
     ]
    },
    {
     "name": "stdout",
     "output_type": "stream",
     "text": [
      "Predicted: <sos> as ons die teikenuittree voorstel as ons $y\\in\\{0,1\\}$ as ons afrigpunte as ons wil as ons dan as ons dan as ons dan as ons dan as ons dan as ons\n",
      "BLEU Score: [0.558, 0.489, 0.444, 0.411]\n"
     ]
    },
    {
     "name": "stderr",
     "output_type": "stream",
     "text": [
      "Epoch 8/20: 100%|██████████| 20/20 [00:10<00:00,  1.87batch/s, loss=0.651]\n"
     ]
    },
    {
     "name": "stdout",
     "output_type": "stream",
     "text": [
      "Predicted: <sos> as ons die teikenuittree voorstel as $y\\in\\{0,1\\}$ en ons afrigpunte afrigpunte van die afrigpunte van die datastel , en $d$ in die geval dat die kenmerk van die duitse mark as\n",
      "BLEU Score: [0.6, 0.522, 0.494, 0.477]\n"
     ]
    },
    {
     "name": "stderr",
     "output_type": "stream",
     "text": [
      "Epoch 9/20: 100%|██████████| 20/20 [00:11<00:00,  1.82batch/s, loss=0.541]\n"
     ]
    },
    {
     "name": "stdout",
     "output_type": "stream",
     "text": [
      "Predicted: <sos> as ons die teikenuittree voorstel as $y\\in\\{0,1\\}$ en ons $n$ afrigpunte het , kan ons die negatiewe log-waarskynlikheidskostefunksie skryf as : <eos>\n",
      "BLEU Score: [0.974, 0.961, 0.947, 0.933]\n"
     ]
    },
    {
     "name": "stderr",
     "output_type": "stream",
     "text": [
      "Epoch 10/20: 100%|██████████| 20/20 [00:10<00:00,  1.93batch/s, loss=0.420]\n"
     ]
    },
    {
     "name": "stdout",
     "output_type": "stream",
     "text": [
      "Predicted: <sos> as ons die teikenuittree voorstel as $y\\in\\{0,1\\}$ en ons $n$ afrigpunte het , kan ons die negatiewe log-waarskynlikheidskostefunksie skryf as : <eos>\n",
      "BLEU Score: [0.974, 0.961, 0.947, 0.933]\n"
     ]
    },
    {
     "name": "stderr",
     "output_type": "stream",
     "text": [
      "Epoch 11/20: 100%|██████████| 20/20 [00:10<00:00,  1.92batch/s, loss=0.353]\n"
     ]
    },
    {
     "name": "stdout",
     "output_type": "stream",
     "text": [
      "Predicted: <sos> as ons die teikenuittree voorstel as $y\\in\\{0,1\\}$ en ons $n$ afrigpunte het , dan kan ons die negatiewe log-waarskynlikheidskostefunksie skryf as : <eos>\n",
      "BLEU Score: [1.0, 1.0, 1.0, 1.0]\n"
     ]
    },
    {
     "name": "stderr",
     "output_type": "stream",
     "text": [
      "Epoch 12/20: 100%|██████████| 20/20 [00:10<00:00,  1.88batch/s, loss=0.317]\n"
     ]
    },
    {
     "name": "stdout",
     "output_type": "stream",
     "text": [
      "Predicted: <sos> as ons die teikenuittree voorstel as $y\\in\\{0,1\\}$ en ons $n$ afrigpunte het , dan dan die negatiewe log-waarskynlikheidskostefunksie as ons skryf <eos>\n",
      "BLEU Score: [0.948, 0.88, 0.837, 0.799]\n"
     ]
    },
    {
     "name": "stderr",
     "output_type": "stream",
     "text": [
      "Epoch 13/20: 100%|██████████| 20/20 [00:10<00:00,  1.82batch/s, loss=0.291]\n"
     ]
    },
    {
     "name": "stdout",
     "output_type": "stream",
     "text": [
      "Predicted: <sos> as ons die teikenuittree voorstel as $y\\in\\{0,1\\}$ en ons $n$ afrigpunte het , dan kan ons die negatiewe log-waarskynlikheidskostefunksie skryf as : <eos>\n",
      "BLEU Score: [1.0, 1.0, 1.0, 1.0]\n"
     ]
    },
    {
     "name": "stderr",
     "output_type": "stream",
     "text": [
      "Epoch 14/20: 100%|██████████| 20/20 [00:10<00:00,  1.87batch/s, loss=0.269]\n"
     ]
    },
    {
     "name": "stdout",
     "output_type": "stream",
     "text": [
      "Predicted: <sos> as ons die teikenuittree voorstel as $y\\in\\{0,1\\}$ en ons $n$ afrigpunte het , dan dan die negatiewe log-waarskynlikheidskostefunksie skryf as : <eos>\n",
      "BLEU Score: [0.948, 0.935, 0.921, 0.906]\n"
     ]
    },
    {
     "name": "stderr",
     "output_type": "stream",
     "text": [
      "Epoch 15/20: 100%|██████████| 20/20 [00:10<00:00,  1.85batch/s, loss=0.256]\n"
     ]
    },
    {
     "name": "stdout",
     "output_type": "stream",
     "text": [
      "Predicted: <sos> as ons die teikenuittree voorstel as $y\\in\\{0,1\\}$ en ons $n$ afrigpunte het , dan kan ons die negatiewe log-waarskynlikheidskostefunksie skryf as : <eos>\n",
      "BLEU Score: [1.0, 1.0, 1.0, 1.0]\n"
     ]
    },
    {
     "name": "stderr",
     "output_type": "stream",
     "text": [
      "Epoch 16/20: 100%|██████████| 20/20 [00:10<00:00,  1.89batch/s, loss=0.256]\n"
     ]
    },
    {
     "name": "stdout",
     "output_type": "stream",
     "text": [
      "Predicted: <sos> as ons die teikenuittree voorstel as $y\\in\\{0,1\\}$ en ons $n$ afrigpunte het , dan kan ons die negatiewe log-waarskynlikheidskostefunksie skryf as : <eos>\n",
      "BLEU Score: [1.0, 1.0, 1.0, 1.0]\n"
     ]
    },
    {
     "name": "stderr",
     "output_type": "stream",
     "text": [
      "Epoch 17/20: 100%|██████████| 20/20 [00:11<00:00,  1.82batch/s, loss=0.252]\n"
     ]
    },
    {
     "name": "stdout",
     "output_type": "stream",
     "text": [
      "Predicted: <sos> as ons die teikenuittree voorstel as $y\\in\\{0,1\\}$ en ons $n$ afrigpunte het , dan kan ons die negatiewe log-waarskynlikheidskostefunksie skryf as : <eos>\n",
      "BLEU Score: [1.0, 1.0, 1.0, 1.0]\n"
     ]
    },
    {
     "name": "stderr",
     "output_type": "stream",
     "text": [
      "Epoch 18/20: 100%|██████████| 20/20 [00:10<00:00,  1.91batch/s, loss=0.240]\n"
     ]
    },
    {
     "name": "stdout",
     "output_type": "stream",
     "text": [
      "Predicted: <sos> as ons die teikenuittree voorstel as $y\\in\\{0,1\\}$ en ons $n$ afrigpunte het , dan kan ons die negatiewe log-waarskynlikheidskostefunksie skryf as : <eos>\n",
      "BLEU Score: [1.0, 1.0, 1.0, 1.0]\n"
     ]
    },
    {
     "name": "stderr",
     "output_type": "stream",
     "text": [
      "Epoch 19/20: 100%|██████████| 20/20 [00:10<00:00,  1.95batch/s, loss=0.235]\n"
     ]
    },
    {
     "name": "stdout",
     "output_type": "stream",
     "text": [
      "Predicted: <sos> as ons die teikenuittree voorstel as $y\\in\\{0,1\\}$ en ons $n$ afrigpunte het , dan kan ons die negatiewe log-waarskynlikheidskostefunksie skryf as : <eos>\n",
      "BLEU Score: [1.0, 1.0, 1.0, 1.0]\n"
     ]
    },
    {
     "name": "stderr",
     "output_type": "stream",
     "text": [
      "Epoch 20/20: 100%|██████████| 20/20 [00:10<00:00,  1.84batch/s, loss=0.248]"
     ]
    },
    {
     "name": "stdout",
     "output_type": "stream",
     "text": [
      "Predicted: <sos> as ons die teikenuittree voorstel as $y\\in\\{0,1\\}$ en ons $n$ afrigpunte het , dan kan ons die negatiewe log-waarskynlikheidskostefunksie skryf as : <eos>\n",
      "BLEU Score: [1.0, 1.0, 1.0, 1.0]\n"
     ]
    },
    {
     "name": "stderr",
     "output_type": "stream",
     "text": [
      "\n"
     ]
    }
   ],
   "source": [
    "EPOCHS = 20\n",
    "params = {\n",
    "    \"model\": model,\n",
    "    \"train_loader\": train_loader,\n",
    "    \"optimizer\": optimizer,\n",
    "    \"criterion\": criterion,\n",
    "    \"device\": device,\n",
    "    \"epochs\": EPOCHS,\n",
    "    \"source_test\": mytext,\n",
    "    \"reference\": ground,\n",
    "\t\"translator\":translator\n",
    "}\n",
    "\n",
    "train_loss = train_model(**params)\n",
    "np.save('lstm_att_train_loss.npy', np.array(train_loss))"
   ]
  },
  {
   "cell_type": "markdown",
   "id": "f4bfc9b5",
   "metadata": {},
   "source": [
    "## Evauate on the Training set"
   ]
  },
  {
   "cell_type": "code",
   "execution_count": 8,
   "id": "798fe0ad",
   "metadata": {
    "ExecuteTime": {
     "end_time": "2024-07-18T20:18:17.578376Z",
     "start_time": "2024-07-18T20:17:31.370613Z"
    }
   },
   "outputs": [
    {
     "name": "stdout",
     "output_type": "stream",
     "text": [
      "                                     BLEU-1                                     \n",
      "------------------------------------------------------------------------------------------\n",
      "bleu                : 0.8220112003895788\n",
      "precisions          : [0.8220112003895788]\n",
      "brevity_penalty     : 1.0\n",
      "length_ratio        : 1.1124654640013\n",
      "translation_length  : 41070\n",
      "reference_length    : 36918\n",
      "******************************************************************************************\n",
      "                                     BLEU-2                                     \n",
      "------------------------------------------------------------------------------------------\n",
      "bleu                : 0.7863161354826563\n",
      "precisions          : [0.8220112003895788, 0.7521710952689565]\n",
      "brevity_penalty     : 1.0\n",
      "length_ratio        : 1.1124654640013\n",
      "translation_length  : 41070\n",
      "reference_length    : 36918\n",
      "******************************************************************************************\n",
      "                                     BLEU-3                                     \n",
      "------------------------------------------------------------------------------------------\n",
      "bleu                : 0.7529921271673367\n",
      "precisions          : [0.8220112003895788, 0.7521710952689565, 0.6905210643015521]\n",
      "brevity_penalty     : 1.0\n",
      "length_ratio        : 1.1124654640013\n",
      "translation_length  : 41070\n",
      "reference_length    : 36918\n",
      "******************************************************************************************\n",
      "                                     BLEU-4                                     \n",
      "------------------------------------------------------------------------------------------\n",
      "bleu                : 0.7187197813338362\n",
      "precisions          : [0.8220112003895788, 0.7521710952689565, 0.6905210643015521, 0.6249813905017121]\n",
      "brevity_penalty     : 1.0\n",
      "length_ratio        : 1.1124654640013\n",
      "translation_length  : 41070\n",
      "reference_length    : 36918\n",
      "******************************************************************************************\n"
     ]
    }
   ],
   "source": [
    "EN_SRC = [' '.join(sent) for sent in english_data.data_str]\n",
    "AF_REF = [[' '.join(sent)] for sent in afrikaans_data.data_str]\n",
    "TRANSLATED = [translator.translate_sentence(sent) for sent in EN_SRC]\n",
    "corpus_bleu(TRANSLATED, AF_REF)"
   ]
  },
  {
   "cell_type": "markdown",
   "id": "d2cc6ed3",
   "metadata": {},
   "source": [
    "## Evaluate on the Test set"
   ]
  },
  {
   "cell_type": "code",
   "execution_count": 9,
   "id": "7bccda3561c7cc9",
   "metadata": {
    "ExecuteTime": {
     "end_time": "2024-07-18T20:18:17.583742Z",
     "start_time": "2024-07-18T20:18:17.579434Z"
    }
   },
   "outputs": [],
   "source": [
    "with open(f\"{config.VAL_DATA}/english.txt\") as data:\n",
    "    english_val = data.read().strip().split(\"\\n\")\n",
    "with open(f\"{config.VAL_DATA}/afrikaans.txt\") as data:\n",
    "    afrikaans_val = data.read().strip().split(\"\\n\")"
   ]
  },
  {
   "cell_type": "markdown",
   "id": "de0ea7b89f9add91",
   "metadata": {},
   "source": [
    "### Greedy Search"
   ]
  },
  {
   "cell_type": "code",
   "execution_count": 10,
   "id": "61b64fb6",
   "metadata": {
    "ExecuteTime": {
     "end_time": "2024-07-18T20:18:37.334162Z",
     "start_time": "2024-07-18T20:18:17.584635Z"
    }
   },
   "outputs": [
    {
     "name": "stdout",
     "output_type": "stream",
     "text": [
      "                                     BLEU-1                                     \n",
      "------------------------------------------------------------------------------------------\n",
      "bleu                : 0.540899433427762\n",
      "precisions          : [0.540899433427762]\n",
      "brevity_penalty     : 1.0\n",
      "length_ratio        : 1.160388987809889\n",
      "translation_length  : 16944\n",
      "reference_length    : 14602\n",
      "******************************************************************************************\n",
      "                                     BLEU-2                                     \n",
      "------------------------------------------------------------------------------------------\n",
      "bleu                : 0.4479252410157097\n",
      "precisions          : [0.540899433427762, 0.37093220872411403]\n",
      "brevity_penalty     : 1.0\n",
      "length_ratio        : 1.160388987809889\n",
      "translation_length  : 16944\n",
      "reference_length    : 14602\n",
      "******************************************************************************************\n",
      "                                     BLEU-3                                     \n",
      "------------------------------------------------------------------------------------------\n",
      "bleu                : 0.3694062654749852\n",
      "precisions          : [0.540899433427762, 0.37093220872411403, 0.2512474713418746]\n",
      "brevity_penalty     : 1.0\n",
      "length_ratio        : 1.160388987809889\n",
      "translation_length  : 16944\n",
      "reference_length    : 14602\n",
      "******************************************************************************************\n",
      "                                     BLEU-4                                     \n",
      "------------------------------------------------------------------------------------------\n",
      "bleu                : 0.2824528437110632\n",
      "precisions          : [0.540899433427762, 0.37093220872411403, 0.2512474713418746, 0.12626152617439917]\n",
      "brevity_penalty     : 1.0\n",
      "length_ratio        : 1.160388987809889\n",
      "translation_length  : 16944\n",
      "reference_length    : 14602\n",
      "******************************************************************************************\n"
     ]
    }
   ],
   "source": [
    "VAL_AF_REF = [[sent] for sent in afrikaans_val]\n",
    "VAL_TRANSLATED = [translator.translate_sentence(sent) for sent in english_val]\n",
    "\n",
    "corpus_bleu(VAL_TRANSLATED, VAL_AF_REF)"
   ]
  },
  {
   "cell_type": "markdown",
   "id": "27701d9e8ea38687",
   "metadata": {},
   "source": [
    "### Beam search"
   ]
  },
  {
   "cell_type": "code",
   "execution_count": 11,
   "id": "e69185237c45264d",
   "metadata": {
    "ExecuteTime": {
     "end_time": "2024-07-18T20:19:39.821076Z",
     "start_time": "2024-07-18T20:18:37.335057Z"
    }
   },
   "outputs": [
    {
     "name": "stdout",
     "output_type": "stream",
     "text": [
      "                                     BLEU-1                                     \n",
      "------------------------------------------------------------------------------------------\n",
      "bleu                : 0.5834628460379737\n",
      "precisions          : [0.6963810751994841]\n",
      "brevity_penalty     : 0.8378499456936506\n",
      "length_ratio        : 0.8496781262840707\n",
      "translation_length  : 12407\n",
      "reference_length    : 14602\n",
      "******************************************************************************************\n",
      "                                     BLEU-2                                     \n",
      "------------------------------------------------------------------------------------------\n",
      "bleu                : 0.4943086234370929\n",
      "precisions          : [0.6963810751994841, 0.49982378854625553]\n",
      "brevity_penalty     : 0.8378499456936506\n",
      "length_ratio        : 0.8496781262840707\n",
      "translation_length  : 12407\n",
      "reference_length    : 14602\n",
      "******************************************************************************************\n",
      "                                     BLEU-3                                     \n",
      "------------------------------------------------------------------------------------------\n",
      "bleu                : 0.4088442875355282\n",
      "precisions          : [0.6963810751994841, 0.49982378854625553, 0.3338191003594676]\n",
      "brevity_penalty     : 0.8378499456936506\n",
      "length_ratio        : 0.8496781262840707\n",
      "translation_length  : 12407\n",
      "reference_length    : 14602\n",
      "******************************************************************************************\n",
      "                                     BLEU-4                                     \n",
      "------------------------------------------------------------------------------------------\n",
      "bleu                : 0.30054049908405484\n",
      "precisions          : [0.6963810751994841, 0.49982378854625553, 0.3338191003594676, 0.14248592464270246]\n",
      "brevity_penalty     : 0.8378499456936506\n",
      "length_ratio        : 0.8496781262840707\n",
      "translation_length  : 12407\n",
      "reference_length    : 14602\n",
      "******************************************************************************************\n"
     ]
    }
   ],
   "source": [
    "VAL_TRANSLATED = [translator.translate_sentence(sent, method=\"beam\", beam_width=3) for sent in english_val]\n",
    "corpus_bleu(VAL_TRANSLATED, VAL_AF_REF)"
   ]
  },
  {
   "cell_type": "markdown",
   "id": "1b0ff51e2f68a4b7",
   "metadata": {},
   "source": [
    "## Evaluate on the SUN validation set only"
   ]
  },
  {
   "cell_type": "code",
   "execution_count": 12,
   "id": "bc72e734a881f3e6",
   "metadata": {
    "ExecuteTime": {
     "end_time": "2024-07-18T20:19:39.825997Z",
     "start_time": "2024-07-18T20:19:39.822023Z"
    }
   },
   "outputs": [],
   "source": [
    "with open(f\"{config.VAL_DATA}/sun_english.txt\") as data:\n",
    "    sun_english_val = data.read().strip().split(\"\\n\")\n",
    "with open(f\"{config.VAL_DATA}/sun_afrikaans.txt\") as data:\n",
    "    sun_afrikaans_val = data.read().strip().split(\"\\n\")"
   ]
  },
  {
   "cell_type": "markdown",
   "id": "65efe1d3e5cabda6",
   "metadata": {},
   "source": [
    "### Greedy Search"
   ]
  },
  {
   "cell_type": "code",
   "execution_count": 13,
   "id": "da8e61dc585a4a8e",
   "metadata": {
    "ExecuteTime": {
     "end_time": "2024-07-18T20:19:46.298308Z",
     "start_time": "2024-07-18T20:19:39.827132Z"
    }
   },
   "outputs": [
    {
     "name": "stdout",
     "output_type": "stream",
     "text": [
      "                                     BLEU-1                                     \n",
      "------------------------------------------------------------------------------------------\n",
      "bleu                : 0.36072846135886055\n",
      "precisions          : [0.3607284613588606]\n",
      "brevity_penalty     : 1.0\n",
      "length_ratio        : 1.1229680125852124\n",
      "translation_length  : 4283\n",
      "reference_length    : 3814\n",
      "******************************************************************************************\n",
      "                                     BLEU-2                                     \n",
      "------------------------------------------------------------------------------------------\n",
      "bleu                : 0.25855450913640177\n",
      "precisions          : [0.3607284613588606, 0.18532065349914656]\n",
      "brevity_penalty     : 1.0\n",
      "length_ratio        : 1.1229680125852124\n",
      "translation_length  : 4283\n",
      "reference_length    : 3814\n",
      "******************************************************************************************\n",
      "                                     BLEU-3                                     \n",
      "------------------------------------------------------------------------------------------\n",
      "bleu                : 0.18919362212412827\n",
      "precisions          : [0.3607284613588606, 0.18532065349914656, 0.10130135238581271]\n",
      "brevity_penalty     : 1.0\n",
      "length_ratio        : 1.1229680125852124\n",
      "translation_length  : 4283\n",
      "reference_length    : 3814\n",
      "******************************************************************************************\n",
      "                                     BLEU-4                                     \n",
      "------------------------------------------------------------------------------------------\n",
      "bleu                : 0.11424338373724699\n",
      "precisions          : [0.3607284613588606, 0.18532065349914656, 0.10130135238581271, 0.025153866738025155]\n",
      "brevity_penalty     : 1.0\n",
      "length_ratio        : 1.1229680125852124\n",
      "translation_length  : 4283\n",
      "reference_length    : 3814\n",
      "******************************************************************************************\n"
     ]
    }
   ],
   "source": [
    "SUN_VAL_AF = [[sent] for sent in sun_afrikaans_val]\n",
    "SUN_VAL_TRANSLATED = [translator.translate_sentence(sent) for sent in sun_english_val]\n",
    "corpus_bleu(SUN_VAL_TRANSLATED, SUN_VAL_AF)"
   ]
  },
  {
   "cell_type": "markdown",
   "id": "55bc55d38120c8bd",
   "metadata": {},
   "source": [
    "### Beam Search"
   ]
  },
  {
   "cell_type": "code",
   "execution_count": 14,
   "id": "42aea58fffea3b74",
   "metadata": {
    "ExecuteTime": {
     "end_time": "2024-07-18T20:20:00.982281Z",
     "start_time": "2024-07-18T20:19:46.301091Z"
    }
   },
   "outputs": [
    {
     "name": "stdout",
     "output_type": "stream",
     "text": [
      "                                     BLEU-1                                     \n",
      "------------------------------------------------------------------------------------------\n",
      "bleu                : 0.3858280696088869\n",
      "precisions          : [0.5504619758351101]\n",
      "brevity_penalty     : 0.7009168417555892\n",
      "length_ratio        : 0.7378080755112743\n",
      "translation_length  : 2814\n",
      "reference_length    : 3814\n",
      "******************************************************************************************\n",
      "                                     BLEU-2                                     \n",
      "------------------------------------------------------------------------------------------\n",
      "bleu                : 0.2967410480576267\n",
      "precisions          : [0.5504619758351101, 0.3256079027355623]\n",
      "brevity_penalty     : 0.7009168417555892\n",
      "length_ratio        : 0.7378080755112743\n",
      "translation_length  : 2814\n",
      "reference_length    : 3814\n",
      "******************************************************************************************\n",
      "                                     BLEU-3                                     \n",
      "------------------------------------------------------------------------------------------\n",
      "bleu                : 0.22497350064797142\n",
      "precisions          : [0.5504619758351101, 0.3256079027355623, 0.18448979591836734]\n",
      "brevity_penalty     : 0.7009168417555892\n",
      "length_ratio        : 0.7378080755112743\n",
      "translation_length  : 2814\n",
      "reference_length    : 3814\n",
      "******************************************************************************************\n",
      "                                     BLEU-4                                     \n",
      "------------------------------------------------------------------------------------------\n",
      "bleu                : 0.13227695807245515\n",
      "precisions          : [0.5504619758351101, 0.3256079027355623, 0.18448979591836734, 0.03835978835978836]\n",
      "brevity_penalty     : 0.7009168417555892\n",
      "length_ratio        : 0.7378080755112743\n",
      "translation_length  : 2814\n",
      "reference_length    : 3814\n",
      "******************************************************************************************\n"
     ]
    }
   ],
   "source": [
    "SUN_VAL_TRANSLATED = [translator.translate_sentence(sent, method=\"beam\", beam_width=3) for sent in sun_english_val]\n",
    "corpus_bleu(SUN_VAL_TRANSLATED, SUN_VAL_AF)"
   ]
  },
  {
   "cell_type": "code",
   "execution_count": 15,
   "id": "d94cbbb9",
   "metadata": {},
   "outputs": [
    {
     "name": "stdout",
     "output_type": "stream",
     "text": [
      "Source    : <sos> component <eos>\n",
      "Prediction: <sos> vis geheime <eos>\n",
      "Label     : <sos> komponent <eos>\n",
      "BLEU      : 0.0\n",
      "\n",
      "Source    : <sos> architecture <eos>\n",
      "Prediction: <sos> vis geheime <eos>\n",
      "Label     : <sos> argitektuur <eos>\n",
      "BLEU      : 0.0\n",
      "\n",
      "Source    : <sos> specification <eos>\n",
      "Prediction: <sos> vis geheime <eos>\n",
      "Label     : <sos> spesifikasies <eos>\n",
      "BLEU      : 0.0\n",
      "\n",
      "Source    : <sos> at which stage of the design process would we choose the communication protocol between subsystems <eos>\n",
      "Prediction: <sos> as een van die data van hz van die data <eos>\n",
      "Label     : <sos> by watter stap van die ontwerpsproses word die kommunikasie-kanaal tussen substelsels gekies <eos>\n",
      "BLEU      : 0.0\n",
      "\n",
      "Source    : <sos> motivate your answer <eos>\n",
      "Prediction: <sos> motiveer jou <eos>\n",
      "Label     : <sos> motiveer jou antwoord <eos>\n",
      "BLEU      : 0.6101950432112578\n",
      "\n",
      "Source    : <sos> describe the meaning if a system is described as a cyber-physical system <eos>\n",
      "Prediction: <sos> die sein te maak van die laagdeurlaatfilter <eos>\n",
      "Label     : <sos> wat is die betekenis as 'n stelsel beskryf word as 'n kuber-fisiese stelsel <eos>\n",
      "BLEU      : 0.0\n",
      "\n",
      "Source    : <sos> extract four requirements of a standard cansat mission by using the description below : <eos>\n",
      "Prediction: <sos> as een van van die volle <eos>\n",
      "Label     : <sos> ontrek vier vereistes van 'n standaard cansat missie deur gebruik te maak van die onderstaande beskrywing : <eos>\n",
      "BLEU      : 0.0\n",
      "\n",
      "Source    : <sos> the cansat will be built by the final year cs414 class <eos>\n",
      "Prediction: <sos> die sal sal van die frekwensie : <eos>\n",
      "Label     : <sos> die cansat word gebou deur die finale jaar rs414 klas <eos>\n",
      "BLEU      : 0.229585358002991\n",
      "\n",
      "Source    : <sos> the cansat is launched from a rocket and its mission time must be maximised <eos>\n",
      "Prediction: <sos> die klank wat is 'n dromstel <eos>\n",
      "Label     : <sos> die cansat word gelanseer deur 'n vuurpyl en die missie moet so lank duur as moontlik <eos>\n",
      "BLEU      : 0.13777776425520544\n",
      "\n",
      "Source    : <sos> a ground station will receive the necessary information to track the movement of the cansat <eos>\n",
      "Prediction: <sos> as 'n model te ontwerp van die intree te gebruik , dan te issoleer <eos>\n",
      "Label     : <sos> 'n grondstasie sal die nodige inligting ontvang om die beweging van die cansat te bepaal <eos>\n",
      "BLEU      : 0.0\n",
      "\n"
     ]
    }
   ],
   "source": [
    "metric = evaluate.load(\"bleu\")\n",
    "predictions = [translator.translate_sentence(sent, method=\"beam\", beam_width=5) for sent in sun_english_val[10:20]]\n",
    "labels = SUN_VAL_AF[10:20]\n",
    "for source, pred, lab in zip(sun_english_val[10:20],predictions, labels):\n",
    "    print(f\"Source    : {source}\")\n",
    "    print(f\"Prediction: {pred[:150]}\")\n",
    "    print(f\"Label     : {lab[0][:150]}\")\n",
    "    print(f\"BLEU      : {metric.compute(predictions=[pred], references=lab)['bleu']}\")\n",
    "    print()"
   ]
  },
  {
   "cell_type": "code",
   "execution_count": null,
   "id": "71874708",
   "metadata": {},
   "outputs": [],
   "source": []
  }
 ],
 "metadata": {
  "kernelspec": {
   "display_name": "Python 3 (ipykernel)",
   "language": "python",
   "name": "python3"
  },
  "language_info": {
   "codemirror_mode": {
    "name": "ipython",
    "version": 3
   },
   "file_extension": ".py",
   "mimetype": "text/x-python",
   "name": "python",
   "nbconvert_exporter": "python",
   "pygments_lexer": "ipython3",
   "version": "3.10.14"
  }
 },
 "nbformat": 4,
 "nbformat_minor": 5
}
